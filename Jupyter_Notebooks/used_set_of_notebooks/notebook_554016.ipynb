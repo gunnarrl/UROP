{
 "cells": [
  {
   "cell_type": "code",
   "execution_count": null,
   "id": "7523a898",
   "metadata": {},
   "outputs": [],
   "source": [
    "#import libraries\n",
    "import numpy as np\n",
    "import cv2 as cv\n",
    "from matplotlib import pyplot as plt\n",
    "import skimage \n",
    "from skimage import io"
   ]
  },
  {
   "cell_type": "markdown",
   "id": "f719ca1c",
   "metadata": {},
   "source": [
    "## Import image"
   ]
  },
  {
   "cell_type": "code",
   "execution_count": null,
   "id": "5fc05fd3",
   "metadata": {},
   "outputs": [],
   "source": [
    "img = io.imread('dm3.jpg')\n",
    "plt.imshow(img)"
   ]
  },
  {
   "cell_type": "markdown",
   "id": "8cf73e85",
   "metadata": {},
   "source": [
    "## Image restoration\n",
    "\n",
    "These steps are to restore the image to a decent quality before it is fed to the CNN for auto colorisation. \n",
    "Steps are as follows:\n",
    "- Denoising\n",
    "- Edge detection\n",
    "- Edge enhancement\n",
    "- Inpainting"
   ]
  },
  {
   "cell_type": "markdown",
   "id": "320cecdf",
   "metadata": {},
   "source": [
    "### Denoising\n",
    "Remove the noise in the image using the denoising function for colored images."
   ]
  },
  {
   "cell_type": "code",
   "execution_count": null,
   "id": "0e3c466c",
   "metadata": {},
   "outputs": [],
   "source": [
    "dst = cv.fastNlMeansDenoisingColored(img,None,7,10,6,21)\n",
    "\n",
    "fig, axes = plt.subplots(ncols = 2, figsize = (10,5))\n",
    "\n",
    "axes[0].imshow(img)\n",
    "axes[0].axis('off')\n",
    "\n",
    "axes[1].imshow(dst)\n",
    "axes[1].axis('off')"
   ]
  },
  {
   "cell_type": "markdown",
   "id": "de45cf19",
   "metadata": {},
   "source": [
    "### Edge detection\n",
    "Sometimes old images have cracks or fold lines on them. After removing noise, edge detection should help detect these fold lines that are white and that run all across the image. The edge detection algorithm used here is Canny edge detection. "
   ]
  },
  {
   "cell_type": "code",
   "execution_count": null,
   "id": "f1b19fbd",
   "metadata": {},
   "outputs": [],
   "source": [
    "edges = cv.Canny(dst,200,250)\n",
    "plt.imshow(edges)"
   ]
  },
  {
   "cell_type": "markdown",
   "id": "47e552c2",
   "metadata": {},
   "source": [
    "### Edge Enhancement\n",
    "\n",
    "This step is carried out the enhance any strong edges or cracks present in the image. These enhanced edge lines are further used as guiding points or as a mask for our inpainting function. \n",
    "\n",
    "In order to enhance such folds or cracks in the picture we use opening followed by 2x dilation."
   ]
  },
  {
   "cell_type": "code",
   "execution_count": null,
   "id": "be78b5ca",
   "metadata": {},
   "outputs": [],
   "source": [
    "kernel = np.ones((5,5),np.uint8)\n",
    "dilation = cv.morphologyEx(edges, cv.MORPH_DILATE, kernel)\n",
    "closing = cv.morphologyEx(dilation, cv.MORPH_CLOSE, kernel)\n",
    "erode = cv.morphologyEx(closing,cv.MORPH_ERODE, kernel)\n",
    "\n",
    "\n",
    "fig, axes = plt.subplots(ncols = 3, figsize = (10,5))\n",
    "\n",
    "axes[0].imshow(dilation)\n",
    "axes[0].axis('off')\n",
    "\n",
    "axes[1].imshow(closing)\n",
    "axes[1].axis('off')\n",
    "\n",
    "axes[2].imshow(erode)\n",
    "axes[2].axis('off')"
   ]
  },
  {
   "cell_type": "markdown",
   "id": "32f073f7",
   "metadata": {},
   "source": [
    "### Inpainting"
   ]
  },
  {
   "cell_type": "markdown",
   "id": "33d05803",
   "metadata": {},
   "source": [
    "The inpainting function uses a mask where missing areas are highlighted against a dark background. It then 'paints' any mixel pixels with a normalized value of all the surrounding pixels. The inpainting function is fed the mask from the previous image. "
   ]
  },
  {
   "cell_type": "code",
   "execution_count": null,
   "id": "d4e27c88",
   "metadata": {},
   "outputs": [],
   "source": [
    "dest = cv.inpaint(dst,erode,6000,cv.INPAINT_TELEA)"
   ]
  },
  {
   "cell_type": "code",
   "execution_count": null,
   "id": "ec976c8d",
   "metadata": {},
   "outputs": [],
   "source": [
    "dest5 = cv.inpaint(dst,erode,5,cv.INPAINT_NS)"
   ]
  },
  {
   "cell_type": "markdown",
   "id": "5642bd79",
   "metadata": {},
   "source": [
    "### Before vs after"
   ]
  },
  {
   "cell_type": "code",
   "execution_count": null,
   "id": "5da1305f",
   "metadata": {},
   "outputs": [],
   "source": [
    "def img_restoration(img):\n",
    "    dst = cv.fastNlMeansDenoisingColored(img,None,7,10,6,21)\n",
    "    edges = cv.Canny(dst,200,250)\n",
    "    kernel = np.ones((5,5),np.uint8)\n",
    "    dilation = cv.morphologyEx(edges, cv.MORPH_DILATE, kernel)\n",
    "    closing = cv.morphologyEx(dilation, cv.MORPH_CLOSE, kernel)\n",
    "    erode = cv.morphologyEx(closing,cv.MORPH_ERODE, kernel)\n",
    "    dest5 = cv.inpaint(dst,erode,5,cv.INPAINT_NS)\n",
    "    fig, axes = plt.subplots(ncols = 3, figsize = (10,5))\n",
    "    axes[0].imshow(img)\n",
    "    axes[0].axis('off')\n",
    "\n",
    "    axes[1].imshow(dst)\n",
    "    axes[1].axis('off')\n",
    "    \n",
    "    axes[2].imshow(dest5)\n",
    "    axes[2].axis('off')\n",
    "\n",
    "\n",
    "def process_images(img_list):\n",
    "    for item in img_list:\n",
    "        img = io.imread(item)\n",
    "        img_restoration(img)\n",
    "\n",
    "imgs = ['dm1.jpg','dm3.jpg','dm4.jpg','dm5.jpg','dm6.jpg','dm7.jpg','dm8.jpg','dm9.jpg','dm10.jpg','dm11.jpg','dm12.jpg']\n",
    "#imgs = ['dm1.jpg','dm3.jpg']\n",
    "process_images(imgs)"
   ]
  },
  {
   "cell_type": "code",
   "execution_count": null,
   "id": "312e7fe9",
   "metadata": {},
   "outputs": [],
   "source": [
    "def img_restoration2(img):\n",
    "    dst = cv.fastNlMeansDenoisingColored(img,None,7,10,6,21)\n",
    "    edges = cv.Canny(dst,200,250)\n",
    "    kernel = np.ones((5,5),np.uint8)\n",
    "    dilation = cv.morphologyEx(edges, cv.MORPH_DILATE, kernel)\n",
    "    closing = cv.morphologyEx(dilation, cv.MORPH_CLOSE, kernel)\n",
    "    erode = cv.morphologyEx(closing,cv.MORPH_ERODE, kernel)\n",
    "    dest5 = cv.inpaint(dst,closing,5,cv.INPAINT_NS)\n",
    "    alpha = 0.5\n",
    "    final = dest5.copy()\n",
    "    #cv.addWeighted(dest5, alpha, final, 1 - alpha,0, final)\n",
    "    cv.addWeighted(dst, alpha, final, 1 - alpha,0, final)\n",
    "    fig, axes = plt.subplots(ncols = 4, figsize = (15,5))\n",
    "    axes[0].imshow(img)\n",
    "    axes[0].axis('off')\n",
    "\n",
    "    axes[1].imshow(dst)\n",
    "    axes[1].axis('off')\n",
    "    \n",
    "    axes[2].imshow(dest5)\n",
    "    axes[2].axis('off')\n",
    "    \n",
    "    axes[3].imshow(final)\n",
    "    #axes[3].imshow(bg2)\n",
    "    axes[3].axis('off')"
   ]
  },
  {
   "cell_type": "code",
   "execution_count": null,
   "id": "71aa451d",
   "metadata": {},
   "outputs": [],
   "source": [
    "def img_restoration3(img):\n",
    "    dst = cv.fastNlMeansDenoisingColored(img,None,7,10,6,21)\n",
    "    edges = cv.Canny(dst,200,250)\n",
    "    kernel = np.ones((5,5),np.uint8)\n",
    "    dilation = cv.morphologyEx(edges, cv.MORPH_DILATE, kernel)\n",
    "    closing = cv.morphologyEx(dilation, cv.MORPH_CLOSE, kernel)\n",
    "    #erode = cv.morphologyEx(closing,cv.MORPH_ERODE, kernel)\n",
    "    dest5 = cv.inpaint(dst,closing,5,cv.INPAINT_NS)\n",
    "    #alpha = 0.7\n",
    "    final = dest5.copy()\n",
    "    #cv.addWeighted(dest5, alpha, final, 1 - alpha,0, final)\n",
    "    #cv.addWeighted(dst, alpha, final, 1 - alpha,0, final)\n",
    "    #final2 = cv.bitwise_and(final,final,mask = dest5)\n",
    "    img2gray = cv.cvtColor(dst,cv.COLOR_BGR2GRAY)\n",
    "    ret, mask = cv.threshold(img2gray, 100, 255, cv.THRESH_BINARY_INV)\n",
    "    bg1 = cv.bitwise_and(dst,dst,mask = mask)\n",
    "    mask_inv = cv.bitwise_not(mask)\n",
    "    bg2 = cv.bitwise_and(final,final,mask = mask_inv)\n",
    "    final2 = cv.add(bg1,bg2)\n",
    "    fig, axes = plt.subplots(ncols = 4, figsize = (15,5))\n",
    "    axes[0].imshow(img)\n",
    "    axes[0].axis('off')\n",
    "\n",
    "    axes[1].imshow(dst)\n",
    "    axes[1].axis('off')\n",
    "    \n",
    "    axes[2].imshow(dest5)\n",
    "    axes[2].axis('off')\n",
    "    \n",
    "    axes[3].imshow(final2)\n",
    "    #axes[3].imshow(bg2)\n",
    "    axes[3].axis('off')"
   ]
  },
  {
   "cell_type": "code",
   "execution_count": null,
   "id": "30ba8d38",
   "metadata": {},
   "outputs": [],
   "source": [
    "def process_images2(img_list):\n",
    "    for item in img_list:\n",
    "        img = io.imread(item)\n",
    "        img_restoration2(img)"
   ]
  },
  {
   "cell_type": "code",
   "execution_count": null,
   "id": "e0225d5a",
   "metadata": {},
   "outputs": [],
   "source": [
    "img = io.imread('dm1.jpg')\n",
    "img_restoration2(img)"
   ]
  },
  {
   "cell_type": "code",
   "execution_count": null,
   "id": "5dbe48c7",
   "metadata": {},
   "outputs": [],
   "source": [
    "imgs = ['dm1.jpg','dm3.jpg','dm4.jpg','dm5.jpg','dm6.jpg','dm7.jpg','dm8.jpg','dm9.jpg','dm10.jpg','dm11.jpg','dm12.jpg']\n",
    "#imgs = ['dm1.jpg','dm3.jpg']\n",
    "process_images2(imgs)"
   ]
  }
 ],
 "metadata": {},
 "nbformat": 4,
 "nbformat_minor": 5
}
