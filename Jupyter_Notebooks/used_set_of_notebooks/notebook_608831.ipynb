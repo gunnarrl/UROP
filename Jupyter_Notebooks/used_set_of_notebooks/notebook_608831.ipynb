{
 "cells": [
  {
   "cell_type": "markdown",
   "id": "6ed3506d",
   "metadata": {},
   "source": [
    "# A closer look at Objects in Python - Dunder methods\n",
    "\n",
    "Poruri Sai Rahul\n",
    "\n",
    "@rahulporuri"
   ]
  },
  {
   "cell_type": "markdown",
   "id": "3f7ecddc",
   "metadata": {},
   "source": [
    "- `__repr__` and `__str__`\n",
    "- `__eq__`, `__le__` and comparisons\n",
    "- `__hash__`\n",
    "- `__iter__` and `__next__`\n",
    "- `__enter__` and `__exit__`"
   ]
  },
  {
   "cell_type": "markdown",
   "id": "bd97b13e",
   "metadata": {},
   "source": [
    "## `__repr__` and `__str__`\n",
    "\n",
    "`__repr__` : computes the \"official\" string representation of an object.\n",
    "\n",
    "`__str__` : computes the \"unofficial\" or nicely printable string representation of an object.\n",
    "\n",
    "For further reference, see Python language reference for [`__repr__`](https://docs.python.org/3.7/reference/datamodel.html#object.__repr__) and [`__str__`](https://docs.python.org/3.7/reference/datamodel.html#object.__str__)"
   ]
  },
  {
   "cell_type": "code",
   "execution_count": null,
   "id": "7ff8acd0",
   "metadata": {},
   "outputs": [],
   "source": [
    "class Student:\n",
    "    def __init__(self, firstname, lastname):\n",
    "        self.firstname = firstname\n",
    "        self.lastname = lastname"
   ]
  },
  {
   "cell_type": "code",
   "execution_count": null,
   "id": "37f3ed13",
   "metadata": {},
   "outputs": [],
   "source": [
    "rahul = Student(\"Sai Rahul\", \"Poruri\")\n",
    "\n",
    "print(rahul)\n",
    "print(rahul.__repr__())\n",
    "print(rahul.__str__())"
   ]
  },
  {
   "cell_type": "code",
   "execution_count": null,
   "id": "c0c10b2d",
   "metadata": {},
   "outputs": [],
   "source": [
    "class Student:\n",
    "    def __init__(self, firstname, lastname, middlename=None):\n",
    "        self.firstname = firstname\n",
    "        self.middlename = middlename\n",
    "        self.lastname = lastname\n",
    "    def __str__(self):\n",
    "        return \"Student({}, {}, {})\".format(\n",
    "            self.firstname, self.middlename, self.lastname)"
   ]
  },
  {
   "cell_type": "code",
   "execution_count": null,
   "id": "12bad65c",
   "metadata": {},
   "outputs": [],
   "source": [
    "rahul = Student(\"Rahul\", \"Poruri\", \"Sai\")\n",
    "rahul_alias = Student(\"Rahul\", \"Poruri\")\n",
    "\n",
    "print(rahul)\n",
    "print(rahul_alias)"
   ]
  },
  {
   "cell_type": "markdown",
   "id": "54643253",
   "metadata": {},
   "source": [
    "## `__eq__`, `__le__` and comparisons\n",
    "\n",
    "`__lt__`, `__le__`, `__eq__`, `__ne__`, `__ge__`, `__gt__` : \"rich comparison\" methods.\n",
    "\n",
    "For further reference, see the Python language reference for the [\"rich comparison\" methods](https://docs.python.org/3.7/reference/datamodel.html#object.__lt__)."
   ]
  },
  {
   "cell_type": "code",
   "execution_count": null,
   "id": "bfa8e5b0",
   "metadata": {},
   "outputs": [],
   "source": [
    "rahul = Student(\"Rahul\", \"Poruri\", \"Sai\")\n",
    "rahul_alias = Student(\"Rahul\", \"Poruri\")\n",
    "\n",
    "print(rahul == rahul_alias)"
   ]
  },
  {
   "cell_type": "code",
   "execution_count": null,
   "id": "a5ebdb08",
   "metadata": {},
   "outputs": [],
   "source": [
    "class Student:\n",
    "    def __init__(self, firstname, lastname, middlename=None):\n",
    "        self.firstname = firstname\n",
    "        self.middlename = middlename\n",
    "        self.lastname = lastname\n",
    "    def __eq__(self, other):\n",
    "        if (self.firstname == other.firstname and\n",
    "            self.lastname == other.lastname):\n",
    "            return True\n",
    "        return False"
   ]
  },
  {
   "cell_type": "code",
   "execution_count": null,
   "id": "9c1e3f2d",
   "metadata": {},
   "outputs": [],
   "source": [
    "rahul = Student(\"Rahul\", \"Poruri\", \"Sai\")\n",
    "also_rahul = Student(\"Rahul\", \"Poruri\")\n",
    "\n",
    "print(rahul == also_rahul)"
   ]
  },
  {
   "cell_type": "code",
   "execution_count": null,
   "id": "1e9ac1c4",
   "metadata": {},
   "outputs": [],
   "source": [
    "preeti = Student(\"Preeti\", \"Saryan\")\n",
    "\n",
    "students = [rahul, preeti]\n",
    "\n",
    "students.sort()"
   ]
  },
  {
   "cell_type": "code",
   "execution_count": null,
   "id": "cb0d0467",
   "metadata": {},
   "outputs": [],
   "source": [
    "# See https://docs.python.org/3.7/library/functools.html#functools.total_ordering\n",
    "# for more info.\n",
    "from functools import total_ordering\n",
    "\n",
    "\n",
    "@total_ordering\n",
    "class Student:\n",
    "    def __init__(self, firstname, lastname, middlename=None):\n",
    "        self.firstname = firstname\n",
    "        self.middlename = middlename\n",
    "        self.lastname = lastname\n",
    "    def __eq__(self, other):\n",
    "        if (self.firstname == other.firstname and\n",
    "            self.lastname == other.lastname):\n",
    "            return True\n",
    "        return False\n",
    "    def __le__(self, other):\n",
    "        if self.lastname < other.lastname:\n",
    "            return True\n",
    "        return False\n",
    "    def __repr__(self):\n",
    "        return \"Student({}, {}, {})\".format(\n",
    "            self.firstname, self.middlename, self.lastname)"
   ]
  },
  {
   "cell_type": "code",
   "execution_count": null,
   "id": "72243a19",
   "metadata": {},
   "outputs": [],
   "source": [
    "rahul = Student(\"Rahul\", \"Poruri\", \"Sai\")\n",
    "preeti = Student(\"Preeti\", \"Saryan\")\n",
    "vinay = Student(\"Vinay\", \"Kumar\")\n",
    "students = [rahul, preeti, vinay]"
   ]
  },
  {
   "cell_type": "code",
   "execution_count": null,
   "id": "a6b5b9af",
   "metadata": {},
   "outputs": [],
   "source": [
    "students.sort()\n",
    "print(students)"
   ]
  },
  {
   "cell_type": "markdown",
   "id": "8e878442",
   "metadata": {},
   "source": [
    "## `__hash__`\n",
    "\n",
    "Called for operations on members of hashed collections including `set`, `frozenset` and `dict`. It should return an integer. See Python language reference for more info an examples on [`__hash__`](https://docs.python.org/3.7/reference/datamodel.html#object.__hash__)"
   ]
  },
  {
   "cell_type": "code",
   "execution_count": null,
   "id": "4e717608",
   "metadata": {},
   "outputs": [],
   "source": [
    "grades = {rahul: 'a'}"
   ]
  },
  {
   "cell_type": "code",
   "execution_count": null,
   "id": "137b7a0e",
   "metadata": {},
   "outputs": [],
   "source": [
    "class Student:\n",
    "    def __init__(self, firstname, lastname, middlename=None):\n",
    "        self.firstname = firstname\n",
    "        self.middlename = middlename\n",
    "        self.lastname = lastname\n",
    "    def __hash__(self):\n",
    "        return hash((self.firstname, self.lastname))\n",
    "    def __repr__(self):\n",
    "        return \"Student({}, {}, {})\".format(\n",
    "            self.firstname, self.middlename, self.lastname)"
   ]
  },
  {
   "cell_type": "code",
   "execution_count": null,
   "id": "13ba0811",
   "metadata": {},
   "outputs": [],
   "source": [
    "rahul = Student(\"Rahul\", \"Poruri\", \"Sai\")\n",
    "grades = {rahul: 'a'}\n",
    "\n",
    "print(grades)"
   ]
  },
  {
   "cell_type": "markdown",
   "id": "dc2cb9ed",
   "metadata": {},
   "source": [
    "## `__next__` and `__iter__`\n",
    "\n",
    "`__iter__` : Should return a new iterator object that can iterate over all objects in the container.\n",
    "\n",
    "`__next__` : Should return the next element from the container.\n",
    "\n",
    "For further information on Iterator types, see [Python language reference](https://docs.python.org/3.7/library/stdtypes.html#typeiter)."
   ]
  },
  {
   "cell_type": "markdown",
   "id": "f2734c1b",
   "metadata": {},
   "source": [
    "The following example has been taken from [DiveIntoPython3](http://www.diveintopython3.net/iterators.html#a-fibonacci-iterator)"
   ]
  },
  {
   "cell_type": "code",
   "execution_count": null,
   "id": "94e314b7",
   "metadata": {},
   "outputs": [],
   "source": [
    "class Fib:\n",
    "    def __init__(self, max):\n",
    "        self.max = max\n",
    "\n",
    "    def __iter__(self):\n",
    "        self.a = 0\n",
    "        self.b = 1\n",
    "        return self\n",
    "\n",
    "    def __next__(self):\n",
    "        fib = self.a\n",
    "        if fib > self.max:\n",
    "            raise StopIteration\n",
    "        self.a, self.b = self.b, self.a + self.b\n",
    "        return fib"
   ]
  },
  {
   "cell_type": "code",
   "execution_count": null,
   "id": "a437788c",
   "metadata": {},
   "outputs": [],
   "source": [
    "for num in Fib(100):\n",
    "    print(num, end=' ')"
   ]
  },
  {
   "cell_type": "code",
   "execution_count": null,
   "id": "95ec44ec",
   "metadata": {},
   "outputs": [],
   "source": [
    "fib = Fib(100)\n",
    "iterator = iter(fib)\n",
    "while True:\n",
    "    print(next(iterator), end=', ')"
   ]
  },
  {
   "cell_type": "markdown",
   "id": "e9ccb2f0",
   "metadata": {},
   "source": [
    "## `__enter__` and `__exit__`\n",
    "\n",
    "Enter and exit the runtime context related to the Context Manager object. See [Python Language reference](https://docs.python.org/3.7/reference/datamodel.html#with-statement-context-managers) for more about Context managers."
   ]
  },
  {
   "cell_type": "code",
   "execution_count": null,
   "id": "59cc159b",
   "metadata": {},
   "outputs": [],
   "source": [
    "import time\n",
    "\n",
    "\n",
    "class Timer:\n",
    "    def __init__(self):\n",
    "        self.start_time = 0\n",
    "        self.exit_time = 0\n",
    "    def __enter__(self):\n",
    "        self.start_time = time.time()\n",
    "    def __exit__(self, *args):\n",
    "        self.exit_time = time.time()\n",
    "        print(f\"Took {self.exit_time-self.start_time} seconds\")"
   ]
  },
  {
   "cell_type": "code",
   "execution_count": null,
   "id": "c3c0fb8e",
   "metadata": {},
   "outputs": [],
   "source": [
    "timer = Timer()\n",
    "with timer:\n",
    "    time.sleep(1)"
   ]
  },
  {
   "cell_type": "code",
   "execution_count": null,
   "id": "cc1ffd54",
   "metadata": {},
   "outputs": [],
   "source": [
    "# See https://docs.python.org/3.7/library/contextlib.html#contextlib.contextmanager\n",
    "# for more info.\n",
    "from contextlib import contextmanager\n",
    "\n",
    "\n",
    "@contextmanager\n",
    "def timer():\n",
    "    start_time = time.time()\n",
    "    yield\n",
    "    exit_time = time.time()\n",
    "    print(f\"Took {exit_time-start_time} seconds\")"
   ]
  },
  {
   "cell_type": "code",
   "execution_count": null,
   "id": "e78df7b2",
   "metadata": {},
   "outputs": [],
   "source": [
    "with timer():\n",
    "    time.sleep(1)"
   ]
  }
 ],
 "metadata": {},
 "nbformat": 4,
 "nbformat_minor": 5
}
