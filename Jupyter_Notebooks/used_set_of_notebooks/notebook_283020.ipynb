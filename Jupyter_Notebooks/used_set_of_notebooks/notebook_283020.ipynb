{
 "cells": [
  {
   "cell_type": "markdown",
   "id": "28eb4993",
   "metadata": {},
   "source": [
    "Sequenza di plot della distribuzione a posteriori del parametro di una distribuzione di Bernoulli al crescere del numero di osservazioni (lanci di moneta)"
   ]
  },
  {
   "cell_type": "code",
   "execution_count": null,
   "id": "8c00f73d",
   "metadata": {},
   "outputs": [],
   "source": [
    "%matplotlib inline\n",
    "import numpy as np\n",
    "import scipy.stats as stats\n",
    "import matplotlib.pyplot as plt"
   ]
  },
  {
   "cell_type": "code",
   "execution_count": null,
   "id": "20667eb1",
   "metadata": {},
   "outputs": [],
   "source": [
    "plt.style.use('fivethirtyeight')\n",
    "\n",
    "plt.rcParams['font.family'] = 'sans-serif'\n",
    "plt.rcParams['font.serif'] = 'Ubuntu'\n",
    "plt.rcParams['font.monospace'] = 'Ubuntu Mono'\n",
    "plt.rcParams['font.size'] = 10\n",
    "plt.rcParams['axes.labelsize'] = 10\n",
    "plt.rcParams['axes.labelweight'] = 'bold'\n",
    "plt.rcParams['axes.titlesize'] = 10\n",
    "plt.rcParams['xtick.labelsize'] = 8\n",
    "plt.rcParams['ytick.labelsize'] = 8\n",
    "plt.rcParams['legend.fontsize'] = 10\n",
    "plt.rcParams['figure.titlesize'] = 12\n",
    "plt.rcParams['image.cmap'] = 'jet'\n",
    "plt.rcParams['image.interpolation'] = 'none'\n",
    "plt.rcParams['figure.figsize'] = (16, 8)\n",
    "plt.rcParams['lines.linewidth'] = 2\n",
    "\n",
    "colors = ['#008fd5', '#fc4f30', '#e5ae38', '#6d904f', '#8b8b8b', '#810f7c', '#137e6d', '#be0119', '#3b638c', '#af6f09']"
   ]
  },
  {
   "cell_type": "markdown",
   "id": "b85c9872",
   "metadata": {},
   "source": [
    "Fissa la probabilità $\\theta$ di esito pari a $1$ e i numeri di osservazioni da considerare"
   ]
  },
  {
   "cell_type": "code",
   "execution_count": null,
   "id": "34b5e720",
   "metadata": {},
   "outputs": [],
   "source": [
    "theta_real = 0.36\n",
    "n_trials = 100000"
   ]
  },
  {
   "cell_type": "markdown",
   "id": "142075c9",
   "metadata": {},
   "source": [
    "Genera la sequenza casuale di risultati derivanti da lanci ripetuti con probabilità di $1$ pari a $\\theta$"
   ]
  },
  {
   "cell_type": "code",
   "execution_count": null,
   "id": "564f0e52",
   "metadata": {},
   "outputs": [],
   "source": [
    "data = stats.bernoulli.rvs(theta_real, size=n_trials)"
   ]
  },
  {
   "cell_type": "code",
   "execution_count": null,
   "id": "28459795",
   "metadata": {},
   "outputs": [],
   "source": [
    "data"
   ]
  },
  {
   "cell_type": "markdown",
   "id": "5acdacb7",
   "metadata": {},
   "source": [
    "Fissa la distribuzione a priori del parametro $\\theta$. Si utilizza un modello Beta-Bernoulli, per cui la prior (e di conseguenza la posterior) sono distribuzioni Beta. "
   ]
  },
  {
   "cell_type": "markdown",
   "id": "d99c16fd",
   "metadata": {},
   "source": [
    "![Diagramma modello beta-bernoulli.](assets/betabernoulli.png)"
   ]
  },
  {
   "cell_type": "code",
   "execution_count": null,
   "id": "e09751f0",
   "metadata": {},
   "outputs": [],
   "source": [
    "# dichiara la distribuzione prior\n",
    "dist = stats.beta\n",
    "# valori dei suoi parametri\n",
    "alpha = 100\n",
    "beta = 100\n",
    "hyper = [alpha, beta]"
   ]
  },
  {
   "cell_type": "markdown",
   "id": "02181b8e",
   "metadata": {},
   "source": [
    "Calcola i valori della densità di probabilità a priori su una griglia ($1$-dimensionale) di punti"
   ]
  },
  {
   "cell_type": "code",
   "execution_count": null,
   "id": "23cf72c6",
   "metadata": {},
   "outputs": [],
   "source": [
    "# fissa l'insieme dei valori sui quali calcolare la distribuzione\n",
    "nv = 100000\n",
    "x = np.linspace(0, 1, nv)\n",
    "# calcola i valori di densità di probabilità per tutti i punti dell'insieme\n",
    "yp = dist.pdf(x,*hyper)"
   ]
  },
  {
   "cell_type": "markdown",
   "id": "f3a59375",
   "metadata": {},
   "source": [
    "Plot della distribuzione a priori di $\\theta$"
   ]
  },
  {
   "cell_type": "code",
   "execution_count": null,
   "id": "bbe570ea",
   "metadata": {},
   "outputs": [],
   "source": [
    "fig, ax = plt.subplots(figsize=(16,6))\n",
    "ax=plt.subplot(1,1,1)\n",
    "ax.plot(x, yp, '-', c=colors[7], linewidth=0.9, alpha=1, label=\"prior\")\n",
    "ax.fill_between(x, 0, yp, color=colors[7], alpha=0.6)\n",
    "# testo sull'asse x\n",
    "plt.xticks(fontsize=12)\n",
    "plt.yticks(fontsize=12)\n",
    "plt.tight_layout\n",
    "# titolo della figura\n",
    "plt.suptitle(r'Prior: $p(\\theta)=Beta({0:3d}, {1:3d})$'.format(alpha, beta), fontsize=16)\n",
    "plt.show()"
   ]
  },
  {
   "cell_type": "markdown",
   "id": "b1811ee3",
   "metadata": {},
   "source": [
    "Per ogni numero di osservazioni fissato, determina il numero di valori $1$ osservati, calcola i parametri della distribuzione a posteriori risultante e memorizza il valore della verosimiglianza e della densità di probabilità per tutti i punti della griglia."
   ]
  },
  {
   "cell_type": "code",
   "execution_count": null,
   "id": "7db2f550",
   "metadata": {},
   "outputs": [],
   "source": [
    "n = 100"
   ]
  },
  {
   "cell_type": "code",
   "execution_count": null,
   "id": "78efb4d6",
   "metadata": {},
   "outputs": [],
   "source": [
    "# determina numero di esiti pari a 1\n",
    "ones = data[:n].sum()\n",
    "# modifica i parametri della distribuzione per tener conto degli esiti osservati\n",
    "params = [sum(t) for t in zip(hyper, [ones, n-ones])]\n",
    "# calcola elenco dei valori per la distribuzione a posteriori con i parametri calcolati\n",
    "post = dist.pdf(x, *params)\n",
    "# calcola il valore sulla griglia per cui la distribuzione a posteriori è massima\n",
    "mp = x[np.argmax(post)]\n",
    "# calcola elenco dei valori per la verosimiglianza con la probabilità considerata\n",
    "lik = [p**ones*(1-p)**(n-ones) for p in x]\n",
    "# calcola il valore sulla griglia per cui la verosimiglianza è massima\n",
    "ml = x[np.argmax(lik)]\n",
    "# calcola il valore dell'evidenza\n",
    "ev = np.sum(list(map(lambda x,y:x*y/float(nv), lik, yp)))"
   ]
  },
  {
   "cell_type": "markdown",
   "id": "aaa7c3a6",
   "metadata": {},
   "source": [
    "Visualizza la distribuzione a priori, la verosimiglianza e la distribuzione a posteriori per il numero di osservazioni considerato"
   ]
  },
  {
   "cell_type": "code",
   "execution_count": null,
   "id": "47fa5e4f",
   "metadata": {},
   "outputs": [],
   "source": [
    "def plot_dist(color):\n",
    "    fig, ax = plt.subplots(figsize=(16,10))\n",
    "    ax=plt.subplot(2,1,1)\n",
    "    ax.plot(x, lik, '-', c=color, linewidth=0.9, alpha=0.8)\n",
    "    # riempie la zona compresa tra la curva e l'asse x\n",
    "    ax.fill_between(x, 0, lik, color=color, alpha=0.3)\n",
    "    # testo sull'asse x\n",
    "    plt.xlabel(r\"$\\theta$\",fontsize=14)\n",
    "    plt.xticks(fontsize=12)\n",
    "    plt.yticks(fontsize=12)\n",
    "    plt.title('Likelihood; ML={0:8.5f}'.format(ml), fontsize=14)\n",
    "    ax=plt.subplot(2,1,2)\n",
    "    # effettua il plot a partire dalla sequenza di ascisse in x e di ordinate calcolate e salvate \n",
    "    # nell'elemento attuale di ys\n",
    "    ax.plot(x, post, '-', c=color, linewidth=0.9, alpha=1)\n",
    "    # riempie la zona compresa tra la curva e l'asse x\n",
    "    ax.fill_between(x, 0, post, color=color, alpha=0.6)\n",
    "    # effettua il plot del prior a partire dalla sequenza di ascisse in x e di ordinate calcolate e salvate in yp\n",
    "    ax.plot(x, yp, '-', c=colors[7], linewidth=0.9, alpha=1, label=\"prior\")\n",
    "     # riempie la zona compresa tra la curva e l'asse x\n",
    "    ax.fill_between(x, 0, yp, color=colors[7], alpha=0.6)\n",
    "    plt.annotate(r'Evidence; $p(X)={0:10.3e}$'.format(ev), xy=(.05, .85), va='top', xycoords='axes fraction', \n",
    "                 fontsize=14)\n",
    "    # testo sull'asse x\n",
    "    plt.xlabel(r'$\\theta$', fontsize=14)\n",
    "    plt.xticks(fontsize=12)\n",
    "    plt.yticks(fontsize=12)\n",
    "    plt.title(r'Posterior; $p(\\theta|X)=Beta({0:3d}, {1:3d})\\qquad$ MAP={2:8.5f}'.format(params[0],params[1],mp), fontsize=14)\n",
    "    #plt.tight_layout\n",
    "    # titolo della figura\n",
    "    plt.suptitle(r'$\\theta={0:3.2f}\\qquad n={1:3d}\\qquad\\#1={2:3d}\\quad \\#0={3:3d}$'.format(theta_real, \n",
    "                                                    n, ones, n-ones), fontsize=16)\n",
    "    plt.show()"
   ]
  },
  {
   "cell_type": "code",
   "execution_count": null,
   "id": "194de17e",
   "metadata": {},
   "outputs": [],
   "source": [
    "plot_dist(colors[6])"
   ]
  },
  {
   "cell_type": "code",
   "execution_count": null,
   "id": "1d1867fb",
   "metadata": {},
   "outputs": [],
   "source": [
    "import pymc3 as pm\n",
    "import seaborn as sns"
   ]
  },
  {
   "cell_type": "code",
   "execution_count": null,
   "id": "d7b5405c",
   "metadata": {},
   "outputs": [],
   "source": [
    "with pm.Model() as model:\n",
    "    # a priori\n",
    "    theta = pm.Beta('theta', alpha=1, beta=1)\n",
    "    # likelihood\n",
    "    y = pm.Bernoulli('y', p=theta, observed=data)\n",
    "    trace = pm.sample(20000)"
   ]
  },
  {
   "cell_type": "code",
   "execution_count": null,
   "id": "913a00b7",
   "metadata": {},
   "outputs": [],
   "source": [
    "theta_data = data.sum()/len(data)"
   ]
  },
  {
   "cell_type": "code",
   "execution_count": null,
   "id": "ea49d9d7",
   "metadata": {},
   "outputs": [],
   "source": [
    "fig = plt.figure(figsize=(12,4))\n",
    "sns.distplot(trace['theta'])\n",
    "plt.title(r'$p(\\theta)$', fontsize=16)\n",
    "plt.show()"
   ]
  },
  {
   "cell_type": "code",
   "execution_count": null,
   "id": "084fc7d6",
   "metadata": {},
   "outputs": [],
   "source": [
    "pm.traceplot(trace, lines={'theta':theta_data})"
   ]
  },
  {
   "cell_type": "code",
   "execution_count": null,
   "id": "024a2097",
   "metadata": {},
   "outputs": [],
   "source": [
    "with model:\n",
    "    multi_trace = pm.sample(1000, chains=2)"
   ]
  },
  {
   "cell_type": "code",
   "execution_count": null,
   "id": "82e14adc",
   "metadata": {},
   "outputs": [],
   "source": [
    "pm.traceplot(multi_trace, lines={'theta':theta_data})"
   ]
  },
  {
   "cell_type": "code",
   "execution_count": null,
   "id": "cb68c18f",
   "metadata": {},
   "outputs": [],
   "source": [
    "pm.summary(multi_trace)"
   ]
  },
  {
   "cell_type": "code",
   "execution_count": null,
   "id": "fa77ad58",
   "metadata": {},
   "outputs": [],
   "source": [
    "pm.autocorrplot(multi_trace)"
   ]
  },
  {
   "cell_type": "code",
   "execution_count": null,
   "id": "f7d8074e",
   "metadata": {},
   "outputs": [],
   "source": [
    "pm.plot_posterior(multi_trace, kde_plot=True)"
   ]
  }
 ],
 "metadata": {},
 "nbformat": 4,
 "nbformat_minor": 5
}
