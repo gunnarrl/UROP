{
 "cells": [
  {
   "cell_type": "markdown",
   "id": "726704af",
   "metadata": {},
   "source": [
    "<h2 align=center>Generate Synthetic Images with DCGANs in Keras</h2>"
   ]
  },
  {
   "cell_type": "markdown",
   "id": "007a6c38",
   "metadata": {},
   "source": [
    "## Task 1: Project Overview and Import Libraries"
   ]
  },
  {
   "cell_type": "code",
   "execution_count": null,
   "id": "b9a6e86a",
   "metadata": {},
   "outputs": [],
   "source": [
    "%matplotlib inline\n",
    "import tensorflow as tf\n",
    "from tensorflow import keras\n",
    "import numpy as np\n",
    "import plot_utils\n",
    "import matplotlib.pyplot as plt\n",
    "from tqdm import tqdm\n",
    "from IPython import display\n",
    "print('Tensorflow version:', tf.__version__)"
   ]
  },
  {
   "cell_type": "markdown",
   "id": "c6fe167a",
   "metadata": {},
   "source": [
    "## Task 2: Load and Preprocess the Data"
   ]
  },
  {
   "cell_type": "code",
   "execution_count": null,
   "id": "b1939da5",
   "metadata": {},
   "outputs": [],
   "source": [
    "(x_train, y_train), (x_test, y_test) = tf.keras.datasets.fashion_mnist.load_data()\n",
    "x_train = x_train.astype(np.float32)/255.0\n",
    "x_test = x_test.astype(np.float32)/255.0"
   ]
  },
  {
   "cell_type": "code",
   "execution_count": null,
   "id": "c6ceaa06",
   "metadata": {},
   "outputs": [],
   "source": [
    "x_train.shape"
   ]
  },
  {
   "cell_type": "code",
   "execution_count": null,
   "id": "e2d6a292",
   "metadata": {},
   "outputs": [],
   "source": [
    "plt.figure(figsize=(10,10))\n",
    "for i in range(25):\n",
    "    plt.subplot(5,5,i+1)\n",
    "    plt.xticks([])\n",
    "    plt.yticks([])\n",
    "    plt.grid(False)\n",
    "    plt.imshow(x_train[i], cmap=plt.cm.binary)\n",
    "plt.show()"
   ]
  },
  {
   "cell_type": "markdown",
   "id": "9f93660d",
   "metadata": {},
   "source": [
    "## Task 3: Create Batches of Training Data"
   ]
  },
  {
   "cell_type": "code",
   "execution_count": null,
   "id": "6d7bb484",
   "metadata": {},
   "outputs": [],
   "source": [
    "batch_size = 32\n",
    "dataset = tf.data.Dataset.from_tensor_slices(x_train).shuffle(1000)\n",
    "dataset = dataset.batch(batch_size, drop_remainder=True).prefetch(1)"
   ]
  },
  {
   "cell_type": "markdown",
   "id": "4f75361b",
   "metadata": {},
   "source": [
    "## Task 4: Build the Generator Network for DCGAN"
   ]
  },
  {
   "cell_type": "markdown",
   "id": "d69712af",
   "metadata": {},
   "source": [
    "![GAN](DCGAN.png)"
   ]
  },
  {
   "cell_type": "markdown",
   "id": "9ff539d2",
   "metadata": {},
   "source": [
    "**Generator** is an upsampling network with fractionally-strided convolutions\n",
    "\n",
    "**Discriminator** is a convolutional network"
   ]
  },
  {
   "cell_type": "markdown",
   "id": "9ac08012",
   "metadata": {},
   "source": [
    "Architecture guidelines for stable Deep Convolutional GANs:\n",
    "\n",
    "- Replace any pooling layers with strided convolutions (discriminator) and fractional-strided convolutions (generator).\n",
    "- Use batchnorm in both the generator and the discriminator.\n",
    "- Remove fully connected hidden layers for deeper architectures.\n",
    "- Use ReLU activation in generator for all layers expect for the output, which uses Tanh.\n",
    "- Use LeakyReLU activation in the discriminator for all layers.\n",
    "\n",
    "[Source](https://arxiv.org/pdf/1511.06434.pdf): Radford et al, \"*Unsupervised Representation Learning with Deep Convolutional Generative Adversarial Networks*\", ICLR 2016"
   ]
  },
  {
   "cell_type": "code",
   "execution_count": null,
   "id": "ab07d9e1",
   "metadata": {},
   "outputs": [],
   "source": [
    "num_features = 100\n",
    "\n",
    "generator = keras.models.Sequential([\n",
    "    keras.layers.Dense(7*7*128, input_shape=[num_features]),\n",
    "    keras.layers.Reshape([7, 7, 128]),\n",
    "    keras.layers.BatchNormalization(),\n",
    "    keras.layers.Conv2DTranspose(64, (5,5), (2,2), padding='same', activation='relu'),\n",
    "    keras.layers.BatchNormalization(),\n",
    "    keras.layers.Conv2DTranspose(1, (5,5), (2,2), padding='same', activation='tanh')\n",
    "])\n",
    "\n",
    "generator.summary()\n"
   ]
  },
  {
   "cell_type": "code",
   "execution_count": null,
   "id": "487b663f",
   "metadata": {},
   "outputs": [],
   "source": [
    "noise = tf.random.normal(shape=[1, num_features])\n",
    "#print(noise)\n",
    "generated_image = generator(noise, training=False)\n",
    "plot_utils.show(generated_image, 1)"
   ]
  },
  {
   "cell_type": "markdown",
   "id": "54643887",
   "metadata": {},
   "source": [
    "## Task 5: Build the Discriminator Network for DCGAN"
   ]
  },
  {
   "cell_type": "code",
   "execution_count": null,
   "id": "2f961e7f",
   "metadata": {},
   "outputs": [],
   "source": [
    "discriminator = keras.models.Sequential([\n",
    "    keras.layers.Conv2D(64,(5,5), strides=2, padding='same', input_shape=[28, 28, 1]),\n",
    "    keras.layers.LeakyReLU(0.2),\n",
    "    keras.layers.Dropout(0.3),\n",
    "    keras.layers.Conv2D(128, (5,5), strides=2, padding='same'),\n",
    "    keras.layers.LeakyReLU(0.2),\n",
    "    keras.layers.Dropout(0.3),\n",
    "    keras.layers.Flatten(),\n",
    "    keras.layers.Dense(1, activation='sigmoid')\n",
    "])\n",
    "discriminator.summary()"
   ]
  },
  {
   "cell_type": "code",
   "execution_count": null,
   "id": "84568361",
   "metadata": {},
   "outputs": [],
   "source": [
    "decision = discriminator(generated_image)\n",
    "print(decision)"
   ]
  },
  {
   "cell_type": "markdown",
   "id": "bdb60379",
   "metadata": {},
   "source": [
    "## Task 6: Compile the Deep Convolutional Generative Adversarial Network (DCGAN)"
   ]
  },
  {
   "cell_type": "code",
   "execution_count": null,
   "id": "0b03c72a",
   "metadata": {},
   "outputs": [],
   "source": [
    "discriminator.compile(\n",
    "    loss='binary_crossentropy',\n",
    "    optimizer='rmsprop',\n",
    "    metrics=['accuracy']\n",
    ")\n",
    "\n",
    "discriminator.trainable = False\n",
    "gan = keras.models.Sequential([\n",
    "    generator,\n",
    "    discriminator\n",
    "])\n",
    "\n",
    "gan.compile(\n",
    "    loss='binary_crossentropy',\n",
    "    optimizer='rmsprop',\n",
    "    metrics=['accuracy']\n",
    ")\n"
   ]
  },
  {
   "cell_type": "markdown",
   "id": "bfbccd96",
   "metadata": {},
   "source": [
    "## Task 7: Define Training Procedure"
   ]
  },
  {
   "cell_type": "code",
   "execution_count": null,
   "id": "f6374ee7",
   "metadata": {},
   "outputs": [],
   "source": [
    "seed = tf.random.normal(shape=[batch_size, 100])"
   ]
  },
  {
   "cell_type": "code",
   "execution_count": null,
   "id": "3872f4e3",
   "metadata": {},
   "outputs": [],
   "source": [
    "def train_dcgan(gan, dataset, batch_size, num_features, epochs=5):\n",
    "    \n",
    "    generator, discriminator = gan.layers\n",
    "    \n",
    "    for epoch in tqdm(range(epochs)):\n",
    "        print(\"Epochs {}/{}\".format(epochs+1, epochs))\n",
    "        for X_batch in dataset:\n",
    "            noise = tf.random.normal(shape=[batch_size,num_features])\n",
    "            generated_images = generator(noise)\n",
    "            \n",
    "            X_fake_and_real = tf.concat([generated_images, X_batch], axis=0)\n",
    "            y1=tf.constant([[0.]]*batch_size + [[1.]]*batch_size)\n",
    "            \n",
    "            discriminator.trainable=True\n",
    "            discriminator.train_on_batch(X_fake_and_real, y1)\n",
    "            \n",
    "            y2 = tf.constant([[1.]]*batch_size)\n",
    "            \n",
    "            discriminator.trainable=False\n",
    "            \n",
    "            gan.train_on_batch(noise, y2) #generator training\n",
    "            \n",
    "        display.clear_output(wait=True)\n",
    "        generate_and_save_images(generator, epoch+1, seed)\n",
    "    display.clear_output(wait=True)\n",
    "    generate_and_save_images(generator, epochs, seed)"
   ]
  },
  {
   "cell_type": "code",
   "execution_count": null,
   "id": "3295ba7a",
   "metadata": {},
   "outputs": [],
   "source": [
    "## Source https://www.tensorflow.org/tutorials/generative/dcgan#create_a_gif\n",
    "def generate_and_save_images(model, epoch, test_input):\n",
    "    predictions = model(test_input, training=False)\n",
    "    fig = plt.figure(figsize=(10,10))\n",
    "    \n",
    "    for i in range(25):\n",
    "        plt.subplot(5, 5, i+1)\n",
    "        plt.imshow(predictions[i, :, :, 0] * 127.5 + 127.5, cmap='binary')\n",
    "        plt.axis('off')\n",
    "    plt.savefig('image_at_epoch_{:04d}.png'.format(epoch))\n",
    "    plt.show()"
   ]
  },
  {
   "cell_type": "markdown",
   "id": "9fef82f5",
   "metadata": {},
   "source": [
    "## Task 8: Train DCGAN"
   ]
  },
  {
   "cell_type": "code",
   "execution_count": null,
   "id": "7d98a132",
   "metadata": {},
   "outputs": [],
   "source": [
    "x_train_dcgan = x_train.reshape(-1, 28, 28, 1)*2. -1.\n",
    "#x_train_dcgan.shape"
   ]
  },
  {
   "cell_type": "code",
   "execution_count": null,
   "id": "b7677389",
   "metadata": {},
   "outputs": [],
   "source": [
    "batch_size =32\n",
    "dataset = tf.data.Dataset.from_tensor_slices(x_train_dcgan).shuffle(1000)\n",
    "dataset = dataset.batch(batch_size, drop_remainder=True).prefetch(1)"
   ]
  },
  {
   "cell_type": "code",
   "execution_count": null,
   "id": "d9b32b8a",
   "metadata": {},
   "outputs": [],
   "source": [
    "%%time\n",
    "train_dcgan(gan, dataset, batch_size, num_features, epochs=10)"
   ]
  },
  {
   "cell_type": "markdown",
   "id": "40c195aa",
   "metadata": {},
   "source": [
    "## Task 9: Generate Synthetic Images with DCGAN"
   ]
  },
  {
   "cell_type": "code",
   "execution_count": null,
   "id": "82f9a562",
   "metadata": {},
   "outputs": [],
   "source": [
    "noise = tf.random.normal(shape=[batch_size, num_features])\n",
    "generated_images = generator(noise)\n",
    "plot_utils.show(generated_images, 8)"
   ]
  },
  {
   "cell_type": "code",
   "execution_count": null,
   "id": "e5f1a883",
   "metadata": {},
   "outputs": [],
   "source": [
    "## Source: https://www.tensorflow.org/tutorials/generative/dcgan#create_a_gif\n",
    "\n",
    "import imageio\n",
    "import glob\n",
    "\n",
    "anim_file = 'dcgan.gif'\n",
    "\n",
    "with imageio.get_writer(anim_file, mode='I') as writer:\n",
    "    filenames = glob.glob('image*.png')\n",
    "    filenames = sorted(filenames)\n",
    "    last = -1\n",
    "    for i,filename in enumerate(filenames):\n",
    "        frame = 2*(i**0.5)\n",
    "        if round(frame) > round(last):\n",
    "            last = frame\n",
    "        else:\n",
    "            continue\n",
    "        image = imageio.imread(filename)\n",
    "        writer.append_data(image)\n",
    "    image = imageio.imread(filename)\n",
    "    writer.append_data(image)\n",
    "\n",
    "import IPython\n",
    "display.Image(filename=anim_file)"
   ]
  }
 ],
 "metadata": {},
 "nbformat": 4,
 "nbformat_minor": 5
}
