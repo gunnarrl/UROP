{
 "cells": [
  {
   "cell_type": "markdown",
   "id": "6219efcd",
   "metadata": {},
   "source": [
    "# Counting multiple detectors\n",
    "How does having a second detector on the same thing help identify the underlying distribution"
   ]
  },
  {
   "cell_type": "code",
   "execution_count": null,
   "id": "ab9b31fb",
   "metadata": {},
   "outputs": [],
   "source": [
    "%matplotlib inline\n",
    "\n",
    "from pprint import pprint\n",
    "\n",
    "import matplotlib.pyplot as plt\n",
    "import numpy as np\n",
    "import pandas as pd\n",
    "import pymc3 as mc\n",
    "import spacepy.toolbox as tb\n",
    "import spacepy.plot as spp\n",
    "import tqdm\n",
    "from scipy import stats\n",
    "\n",
    "\n",
    "%matplotlib inline"
   ]
  },
  {
   "cell_type": "markdown",
   "id": "76d8e983",
   "metadata": {},
   "source": [
    "## Generate some data"
   ]
  },
  {
   "cell_type": "code",
   "execution_count": null,
   "id": "eda54e16",
   "metadata": {},
   "outputs": [],
   "source": [
    "np.random.seed(8675309)\n",
    "d1 = np.random.poisson(10, size=10000)\n",
    "d2 = np.random.poisson(10, size=10000)\n"
   ]
  },
  {
   "cell_type": "markdown",
   "id": "1766838b",
   "metadata": {},
   "source": [
    "## Use just one and see (10 points)"
   ]
  },
  {
   "cell_type": "code",
   "execution_count": null,
   "id": "a4e6e2a3",
   "metadata": {},
   "outputs": [],
   "source": [
    "with mc.Model() as model0:\n",
    "    mu0 = mc.Uniform('mu', 0, 1000)\n",
    "    det1 = mc.Poisson('d1', mu=mu0, observed=d1[0:10])\n",
    "    #     det2 = mc.Poisson('d2', mu=mu, observed=d2[0:10])\n",
    "    start = mc.find_MAP()\n",
    "    trace0 = mc.sample(10000, start=start)"
   ]
  },
  {
   "cell_type": "code",
   "execution_count": null,
   "id": "180dbe63",
   "metadata": {},
   "outputs": [],
   "source": [
    "mc.summary(trace0)"
   ]
  },
  {
   "cell_type": "code",
   "execution_count": null,
   "id": "5c6d65b4",
   "metadata": {},
   "outputs": [],
   "source": [
    "mc.traceplot(trace0, lines={'mu':10})"
   ]
  },
  {
   "cell_type": "markdown",
   "id": "8fca66f6",
   "metadata": {},
   "source": [
    "## Use both independently (10 points)"
   ]
  },
  {
   "cell_type": "code",
   "execution_count": null,
   "id": "c4660e09",
   "metadata": {},
   "outputs": [],
   "source": [
    "with mc.Model() as model1:\n",
    "    mu = mc.Uniform('mu', 0, 1000)\n",
    "    det1 = mc.Poisson('d1', mu=mu, observed=d1[0:10])\n",
    "    det2 = mc.Poisson('d2', mu=mu, observed=d2[0:10])\n",
    "    start = mc.find_MAP()\n",
    "    trace = mc.sample(10000, start=start)"
   ]
  },
  {
   "cell_type": "code",
   "execution_count": null,
   "id": "8b6b19d6",
   "metadata": {},
   "outputs": [],
   "source": [
    "mc.summary(trace)"
   ]
  },
  {
   "cell_type": "code",
   "execution_count": null,
   "id": "1d4a2a11",
   "metadata": {},
   "outputs": [],
   "source": [
    "mc.traceplot(trace, lines={'mu':10})"
   ]
  },
  {
   "cell_type": "markdown",
   "id": "a38dc689",
   "metadata": {},
   "source": [
    "## Use the answer from one as the prior for the second"
   ]
  },
  {
   "cell_type": "code",
   "execution_count": null,
   "id": "bc894f8e",
   "metadata": {},
   "outputs": [],
   "source": [
    "with mc.Model() as model1:\n",
    "    mu = mc.Uniform('mu', 0, 1000)\n",
    "    det1 = mc.Poisson('d1', mu=mu, observed=d1[0:10])\n",
    "    #     det2 = mc.Poisson('d2', mu=mu, observed=d2[0:100])\n",
    "    start = mc.find_MAP()\n",
    "    trace = mc.sample(10000, start=start)\n",
    "    \n",
    "    \n",
    "def from_posterior(param, samples):\n",
    "    smin, smax = np.min(samples), np.max(samples)\n",
    "    width = smax - smin\n",
    "    x = np.linspace(smin, smax, 100)\n",
    "    y = stats.gaussian_kde(samples)(x)\n",
    "    \n",
    "    # what was never sampled should have a small probability but not 0,\n",
    "    # so we'll extend the domain and use linear approximation of density on it\n",
    "    x = np.concatenate([[x[0] - 3 * width], x, [x[-1] + 3 * width]])\n",
    "    y = np.concatenate([[0], y, [0]])\n",
    "    return mc.Interpolated(param, x, y)\n",
    "    \n",
    "    \n",
    "with mc.Model() as model2:\n",
    "    mu2 = from_posterior('mu', trace['mu'])\n",
    "    det2 = mc.Poisson('d2', mu=mu2, observed=d2[0:10])\n",
    "    start = mc.find_MAP()\n",
    "    trace2 = mc.sample(10000, start=start)"
   ]
  },
  {
   "cell_type": "code",
   "execution_count": null,
   "id": "cb99835f",
   "metadata": {},
   "outputs": [],
   "source": [
    "mc.summary(trace2)"
   ]
  },
  {
   "cell_type": "code",
   "execution_count": null,
   "id": "bc9af6b1",
   "metadata": {},
   "outputs": [],
   "source": [
    "mc.traceplot(trace, lines={'mu':10})"
   ]
  },
  {
   "cell_type": "markdown",
   "id": "7acff14f",
   "metadata": {},
   "source": [
    "## Use just one and see (100 points)"
   ]
  },
  {
   "cell_type": "code",
   "execution_count": null,
   "id": "113f8be6",
   "metadata": {},
   "outputs": [],
   "source": [
    "with mc.Model() as model0:\n",
    "    mu0 = mc.Uniform('mu', 0, 1000)\n",
    "    det1 = mc.Poisson('d1', mu=mu0, observed=d1[0:100])\n",
    "    #     det2 = mc.Poisson('d2', mu=mu, observed=d2[0:100])\n",
    "    start = mc.find_MAP()\n",
    "    trace0 = mc.sample(10000, start=start)"
   ]
  },
  {
   "cell_type": "code",
   "execution_count": null,
   "id": "dd73c33a",
   "metadata": {},
   "outputs": [],
   "source": [
    "mc.summary(trace0)"
   ]
  },
  {
   "cell_type": "code",
   "execution_count": null,
   "id": "5e01a67e",
   "metadata": {},
   "outputs": [],
   "source": [
    "mc.traceplot(trace0, lines={'mu':10})"
   ]
  },
  {
   "cell_type": "markdown",
   "id": "68584c16",
   "metadata": {},
   "source": [
    "## Use both independently (100 points)"
   ]
  },
  {
   "cell_type": "code",
   "execution_count": null,
   "id": "9973533e",
   "metadata": {},
   "outputs": [],
   "source": [
    "with mc.Model() as model1:\n",
    "    mu = mc.Uniform('mu', 0, 1000)\n",
    "    det1 = mc.Poisson('d1', mu=mu, observed=d1[0:100])\n",
    "    det2 = mc.Poisson('d2', mu=mu, observed=d2[0:100])\n",
    "    start = mc.find_MAP()\n",
    "    trace = mc.sample(10000, start=start)"
   ]
  },
  {
   "cell_type": "code",
   "execution_count": null,
   "id": "979cf7b9",
   "metadata": {},
   "outputs": [],
   "source": [
    "mc.summary(trace)"
   ]
  },
  {
   "cell_type": "code",
   "execution_count": null,
   "id": "04128eb4",
   "metadata": {},
   "outputs": [],
   "source": [
    "mc.traceplot(trace, lines={'mu':10})"
   ]
  },
  {
   "cell_type": "markdown",
   "id": "2b78fbf7",
   "metadata": {},
   "source": [
    "## Use the answer from one as the prior for the second"
   ]
  },
  {
   "cell_type": "code",
   "execution_count": null,
   "id": "bd26af54",
   "metadata": {},
   "outputs": [],
   "source": [
    "with mc.Model() as model1:\n",
    "    mu = mc.Uniform('mu', 0, 1000)\n",
    "    det1 = mc.Poisson('d1', mu=mu, observed=d1[0:100])\n",
    "    #     det2 = mc.Poisson('d2', mu=mu, observed=d2[0:100])\n",
    "    start = mc.find_MAP()\n",
    "    trace = mc.sample(10000, start=start)\n",
    "    \n",
    "    \n",
    "def from_posterior(param, samples):\n",
    "    smin, smax = np.min(samples), np.max(samples)\n",
    "    width = smax - smin\n",
    "    x = np.linspace(smin, smax, 100)\n",
    "    y = stats.gaussian_kde(samples)(x)\n",
    "    \n",
    "    # what was never sampled should have a small probability but not 0,\n",
    "    # so we'll extend the domain and use linear approximation of density on it\n",
    "    x = np.concatenate([[x[0] - 3 * width], x, [x[-1] + 3 * width]])\n",
    "    y = np.concatenate([[0], y, [0]])\n",
    "    return mc.Interpolated(param, x, y)\n",
    "    \n",
    "    \n",
    "with mc.Model() as model2:\n",
    "    mu2 = from_posterior('mu', trace['mu'])\n",
    "    det2 = mc.Poisson('d2', mu=mu2, observed=d2[0:100])\n",
    "    start = mc.find_MAP()\n",
    "    trace2 = mc.sample(10000, start=start)"
   ]
  },
  {
   "cell_type": "code",
   "execution_count": null,
   "id": "42aa5148",
   "metadata": {},
   "outputs": [],
   "source": [
    "mc.summary(trace2)"
   ]
  },
  {
   "cell_type": "code",
   "execution_count": null,
   "id": "4c7186b1",
   "metadata": {},
   "outputs": [],
   "source": [
    "mc.traceplot(trace, lines={'mu':10})"
   ]
  }
 ],
 "metadata": {},
 "nbformat": 4,
 "nbformat_minor": 5
}
