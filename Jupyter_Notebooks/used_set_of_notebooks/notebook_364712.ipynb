{
 "cells": [
  {
   "cell_type": "markdown",
   "id": "953e7645",
   "metadata": {},
   "source": [
    "# Breadth Indicators"
   ]
  },
  {
   "cell_type": "markdown",
   "id": "41497f53",
   "metadata": {},
   "source": [
    "Breadth Indicators include:\n",
    "\n",
    "On Balance Volume\n",
    "\n",
    "McClellan Summation Index\n",
    "Arms Index (TRIN)\n",
    "\n",
    "Force Index\n",
    "\n",
    "Chaikin Oscillator\n",
    "\n",
    "Up/Down Volume Ratio\n",
    "\n",
    "Up/Down Volume Spread\n",
    "\n",
    "Cumulative Volume Index"
   ]
  },
  {
   "cell_type": "code",
   "execution_count": null,
   "id": "43e82939",
   "metadata": {},
   "outputs": [],
   "source": [
    "import numpy as np\n",
    "import pandas as pd\n",
    "import matplotlib.pyplot as plt\n",
    "\n",
    "import warnings\n",
    "warnings.filterwarnings(\"ignore\")\n",
    "\n",
    "# fix_yahoo_finance is used to fetch data \n",
    "import fix_yahoo_finance as yf\n",
    "yf.pdr_override()"
   ]
  },
  {
   "cell_type": "code",
   "execution_count": null,
   "id": "9dfea403",
   "metadata": {},
   "outputs": [],
   "source": [
    "# input\n",
    "symbol = 'SPY'\n",
    "start = '2012-01-01'\n",
    "end = '2019-01-01'\n",
    "\n",
    "# Read data \n",
    "df = yf.download(symbol,start,end)\n",
    "\n",
    "# View Columns\n",
    "df.head()"
   ]
  },
  {
   "cell_type": "code",
   "execution_count": null,
   "id": "0b6a2597",
   "metadata": {},
   "outputs": [],
   "source": [
    "df['Adj Close'][1:]"
   ]
  },
  {
   "cell_type": "code",
   "execution_count": null,
   "id": "7e00f4cf",
   "metadata": {},
   "outputs": [],
   "source": [
    "import talib as ta"
   ]
  },
  {
   "cell_type": "markdown",
   "id": "4428839e",
   "metadata": {},
   "source": [
    "## On Balance Volume"
   ]
  },
  {
   "cell_type": "code",
   "execution_count": null,
   "id": "b7bb000e",
   "metadata": {},
   "outputs": [],
   "source": [
    "OBV = ta.OBV(df['Adj Close'], df['Volume'])"
   ]
  },
  {
   "cell_type": "markdown",
   "id": "dab63c88",
   "metadata": {},
   "source": [
    "## McClellan Summation Index Arms Index (TRIN)"
   ]
  },
  {
   "cell_type": "markdown",
   "id": "235944fc",
   "metadata": {},
   "source": [
    "https://www.investopedia.com/terms/m/mcclellanoscillator.asp"
   ]
  },
  {
   "cell_type": "code",
   "execution_count": null,
   "id": "4cfa694b",
   "metadata": {},
   "outputs": [],
   "source": [
    "import quandl as q\n",
    "\n",
    "# For NASDAQ\n",
    "#Advances = q.get('URC/NASDAQ_ADV')['Numbers of Stocks']\n",
    "#Declines = q.get('URC/nASDAQ_DEC')['Numbers of Stocks']   \n",
    "#n = Advances - Declines"
   ]
  },
  {
   "cell_type": "code",
   "execution_count": null,
   "id": "ea6ee80f",
   "metadata": {},
   "outputs": [],
   "source": [
    "Advances = q.get('URC/NYSE_ADV', start_date = \"2017-07-27\")['Numbers of Stocks']\n",
    "Declines = q.get('URC/NYSE_DEC', start_date = \"2017-07-27\")['Numbers of Stocks']  "
   ]
  },
  {
   "cell_type": "code",
   "execution_count": null,
   "id": "a4cd6aa5",
   "metadata": {},
   "outputs": [],
   "source": [
    "adv_vol = q.get(\"URC/NYSE_ADV_VOL\", start_date = \"2017-07-27\")['Numbers of Stocks']\n",
    "dec_vol = q.get(\"URC/NYSE_DEC_VOL\", start_date = \"2017-07-27\")['Numbers of Stocks']"
   ]
  },
  {
   "cell_type": "code",
   "execution_count": null,
   "id": "05071cdf",
   "metadata": {},
   "outputs": [],
   "source": [
    "data = pd.DataFrame()\n",
    "data['Advances'] = Advances\n",
    "data['Declines'] = Declines\n",
    "data['adv_vol'] = adv_vol\n",
    "data['dec_vol'] = dec_vol"
   ]
  },
  {
   "cell_type": "code",
   "execution_count": null,
   "id": "521bbcaa",
   "metadata": {},
   "outputs": [],
   "source": [
    "data['Net_Advances'] = data['Advances'] - data['Declines'] \n",
    "data['Ratio_Adjusted'] = (data['Net_Advances']/(data['Advances'] + data['Declines'])) * 1000\n",
    "data['19_EMA'] = ta.EMA(data['Ratio_Adjusted'], timeperiod=19)\n",
    "data['39_EMA'] = ta.EMA(data['Ratio_Adjusted'], timeperiod=39)\n",
    "data['RANA'] = (data['Advances'] - data['Declines']) / (data['Advances'] + data['Declines']) * 1000"
   ]
  },
  {
   "cell_type": "code",
   "execution_count": null,
   "id": "1da59d76",
   "metadata": {},
   "outputs": [],
   "source": [
    "# Finding the TRIN Value\n",
    "data['ad_ratio'] = data['Advances'].divide(data['Declines'] ) # AD Ratio\n",
    "data['ad_vol'] = data['adv_vol'].divide(data['dec_vol']) # AD Volume Ratio\n",
    "data['TRIN'] = data['ad_ratio'].divide(data['adv_vol']) # TRIN Value"
   ]
  },
  {
   "cell_type": "code",
   "execution_count": null,
   "id": "64d849f6",
   "metadata": {},
   "outputs": [],
   "source": [
    "data.head()"
   ]
  },
  {
   "cell_type": "markdown",
   "id": "04be2461",
   "metadata": {},
   "source": [
    "## Force Index"
   ]
  },
  {
   "cell_type": "code",
   "execution_count": null,
   "id": "d586aa5b",
   "metadata": {},
   "outputs": [],
   "source": [
    "def ForceIndex(data,n):\n",
    "    ForceIndex=pd.Series(df['Adj Close'].diff(n)* df['Volume'],name='ForceIndex')\n",
    "    data = data.join(ForceIndex)\n",
    "    return data"
   ]
  },
  {
   "cell_type": "code",
   "execution_count": null,
   "id": "75ec0931",
   "metadata": {},
   "outputs": [],
   "source": [
    "n=10\n",
    "ForceIndex = ForceIndex(data,n)\n",
    "ForceIndex = ForceIndex['ForceIndex']"
   ]
  },
  {
   "cell_type": "code",
   "execution_count": null,
   "id": "c003fcab",
   "metadata": {},
   "outputs": [],
   "source": [
    "fig=plt.figure(figsize=(7,5))\n",
    "ax=fig.add_subplot(2,1,1)\n",
    "ax.set_xticklabels([])\n",
    "plt.plot(df['Adj Close'],lw=1)\n",
    "plt.title('Market Price Chart')\n",
    "plt.ylabel('Close Price')\n",
    "plt.grid(True)\n",
    "bx=fig.add_subplot(2,1,2)\n",
    "plt.plot(ForceIndex,'k',lw=0.75,linestyle='-',label='Force Index')\n",
    "plt.legend(loc=2,prop={'size':9.5})\n",
    "plt.ylabel('Force Index')\n",
    "plt.grid(True)\n",
    "plt.setp(plt.gca().get_xticklabels(),rotation=30)\n",
    "plt.show()"
   ]
  },
  {
   "cell_type": "markdown",
   "id": "5f380644",
   "metadata": {},
   "source": [
    "## Chaikin Oscillator"
   ]
  },
  {
   "cell_type": "code",
   "execution_count": null,
   "id": "e6e8d438",
   "metadata": {},
   "outputs": [],
   "source": [
    "def Chaikin(data):\n",
    "    money_flow_volume = (2 * df['Adj Close'] - df['High'] - df['Low']) / (df['High'] - df['Low']) * df['Volume']  \n",
    "    ad = money_flow_volume.cumsum()\n",
    "    Chaikin = pd.Series(ad.ewm(com=(3-1)/2).mean() - ad.ewm(com=(10-1)/2).mean(), name='Chaikin')\n",
    "    data = data.join(Chaikin)  \n",
    "    return data"
   ]
  },
  {
   "cell_type": "code",
   "execution_count": null,
   "id": "e1171ff7",
   "metadata": {},
   "outputs": [],
   "source": [
    "Chaikin(df)"
   ]
  },
  {
   "cell_type": "markdown",
   "id": "91aa4b35",
   "metadata": {},
   "source": [
    "## Up/Down Volume Ratio"
   ]
  },
  {
   "cell_type": "markdown",
   "id": "d2678fb3",
   "metadata": {},
   "source": [
    "Volume Spread = Up Volume - Down Volume "
   ]
  },
  {
   "cell_type": "code",
   "execution_count": null,
   "id": "e8c39b01",
   "metadata": {},
   "outputs": [],
   "source": [
    "Up = q.get('URC/NYSE_ADV', start_date = \"2017-07-27\")['Numbers of Stocks']\n",
    "Down = q.get('URC/NYSE_DEC', start_date = \"2017-07-27\")['Numbers of Stocks']\n",
    "Volume_Spread = Up - Down"
   ]
  },
  {
   "cell_type": "code",
   "execution_count": null,
   "id": "670c71a7",
   "metadata": {},
   "outputs": [],
   "source": [
    "Volume_Spread"
   ]
  },
  {
   "cell_type": "markdown",
   "id": "110374b5",
   "metadata": {},
   "source": [
    "## Up/Down Volume Spread"
   ]
  },
  {
   "cell_type": "markdown",
   "id": "a4658c7a",
   "metadata": {},
   "source": [
    "Volume Ratio = Up Volume / Down Volume"
   ]
  },
  {
   "cell_type": "code",
   "execution_count": null,
   "id": "dba55fab",
   "metadata": {},
   "outputs": [],
   "source": [
    "Up = q.get('URC/NYSE_ADV', start_date = \"2017-07-27\")['Numbers of Stocks']\n",
    "Down = q.get('URC/NYSE_DEC', start_date = \"2017-07-27\")['Numbers of Stocks']\n",
    "Volume_Ratio = Up/Down"
   ]
  },
  {
   "cell_type": "code",
   "execution_count": null,
   "id": "ab489280",
   "metadata": {},
   "outputs": [],
   "source": [
    "Volume_Ratio"
   ]
  },
  {
   "cell_type": "markdown",
   "id": "af45beea",
   "metadata": {},
   "source": [
    "## Cumulative Volume Index"
   ]
  },
  {
   "cell_type": "markdown",
   "id": "d34d33ae",
   "metadata": {},
   "source": [
    "https://www.marketinout.com/technical_analysis.php?t=Cumulative_Volume_Index_(CVI)&id=38"
   ]
  },
  {
   "cell_type": "code",
   "execution_count": null,
   "id": "437b5814",
   "metadata": {},
   "outputs": [],
   "source": [
    "# CVI = Yesterday's CVI + (Advancing Volume - Declining Volume)\n",
    "data['CVI'] = data['Net_Advances'][1:] + (data['Advances'] - data['Declines']) "
   ]
  },
  {
   "cell_type": "code",
   "execution_count": null,
   "id": "50be6577",
   "metadata": {},
   "outputs": [],
   "source": [
    "data.head()"
   ]
  }
 ],
 "metadata": {},
 "nbformat": 4,
 "nbformat_minor": 5
}
