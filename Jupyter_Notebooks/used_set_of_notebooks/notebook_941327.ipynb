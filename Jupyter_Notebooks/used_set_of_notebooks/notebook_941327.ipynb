{
 "cells": [
  {
   "cell_type": "markdown",
   "id": "2f9efdfe",
   "metadata": {},
   "source": [
    "# Diabetes regression with scikit-learn\n",
    "\n",
    "This uses the model-agnostic KernelExplainer and the TreeExplainer to explain several different regression models trained on a small diabetes dataset. This notebook is meant to give examples of how to use KernelExplainer for various models."
   ]
  },
  {
   "cell_type": "markdown",
   "id": "935d1197",
   "metadata": {},
   "source": [
    "## Load data"
   ]
  },
  {
   "cell_type": "code",
   "execution_count": null,
   "id": "df01561a",
   "metadata": {},
   "outputs": [],
   "source": [
    "import sklearn\n",
    "from sklearn.model_selection import train_test_split\n",
    "import numpy as np\n",
    "import shap\n",
    "import time\n",
    "\n",
    "X,y = shap.datasets.diabetes()\n",
    "X_train,X_test,y_train,y_test = train_test_split(X, y, test_size=0.2, random_state=0)\n",
    "\n",
    "# rather than use the whole training set to estimate expected values, we summarize with\n",
    "# a set of weighted kmeans, each weighted by the number of points they represent.\n",
    "X_train_summary = shap.kmeans(X_train, 10)\n",
    "\n",
    "def print_accuracy(f):\n",
    "    print(\"Root mean squared test error = {0}\".format(np.sqrt(np.mean((f(X_test) - y_test)**2))))\n",
    "    time.sleep(0.5) # to let the print get out before any progress bars\n",
    "\n",
    "shap.initjs()"
   ]
  },
  {
   "cell_type": "markdown",
   "id": "a3b79698",
   "metadata": {},
   "source": [
    "## Linear regression"
   ]
  },
  {
   "cell_type": "code",
   "execution_count": null,
   "id": "fb555983",
   "metadata": {},
   "outputs": [],
   "source": [
    "from sklearn import linear_model\n",
    "lin_regr = linear_model.LinearRegression()\n",
    "lin_regr.fit(X_train, y_train)\n",
    "\n",
    "print_accuracy(lin_regr.predict)"
   ]
  },
  {
   "cell_type": "markdown",
   "id": "8eda4873",
   "metadata": {},
   "source": [
    "### Explain a single prediction from the test set"
   ]
  },
  {
   "cell_type": "code",
   "execution_count": null,
   "id": "70e9213a",
   "metadata": {},
   "outputs": [],
   "source": [
    "ex = shap.KernelExplainer(lin_regr.predict, X_train_summary)\n",
    "shap_values = ex.shap_values(X_test.iloc[0,:])\n",
    "shap.force_plot(ex.expected_value, shap_values, X_test.iloc[0,:])"
   ]
  },
  {
   "cell_type": "markdown",
   "id": "9de61f1f",
   "metadata": {},
   "source": [
    "### Explain all the predictions in the test set"
   ]
  },
  {
   "cell_type": "code",
   "execution_count": null,
   "id": "d2678521",
   "metadata": {},
   "outputs": [],
   "source": [
    "shap_values = ex.shap_values(X_test)\n",
    "shap.summary_plot(shap_values, X_test)"
   ]
  },
  {
   "cell_type": "code",
   "execution_count": null,
   "id": "c2cea655",
   "metadata": {},
   "outputs": [],
   "source": [
    "shap.dependence_plot(\"bmi\", shap_values, X_test)"
   ]
  },
  {
   "cell_type": "code",
   "execution_count": null,
   "id": "c90d5da3",
   "metadata": {},
   "outputs": [],
   "source": [
    "shap.force_plot(ex.expected_value, shap_values, X_test)"
   ]
  },
  {
   "cell_type": "markdown",
   "id": "597d44a4",
   "metadata": {},
   "source": [
    "## Decision tree regressor"
   ]
  },
  {
   "cell_type": "code",
   "execution_count": null,
   "id": "27b4ee4e",
   "metadata": {},
   "outputs": [],
   "source": [
    "from sklearn import tree\n",
    "dtree = tree.DecisionTreeRegressor(min_samples_split=20)\n",
    "dtree.fit(X_train, y_train)\n",
    "print_accuracy(dtree.predict)\n",
    "\n",
    "# explain all the predictions in the test set\n",
    "ex = shap.TreeExplainer(dtree)\n",
    "shap_values = ex.shap_values(X_test)\n",
    "shap.summary_plot(shap_values, X_test)"
   ]
  },
  {
   "cell_type": "code",
   "execution_count": null,
   "id": "a26bd14f",
   "metadata": {},
   "outputs": [],
   "source": [
    "shap.dependence_plot(\"bmi\", shap_values, X_test)"
   ]
  },
  {
   "cell_type": "code",
   "execution_count": null,
   "id": "3a5674de",
   "metadata": {},
   "outputs": [],
   "source": [
    "shap.force_plot(ex.expected_value, shap_values, X_test)"
   ]
  },
  {
   "cell_type": "markdown",
   "id": "bf70bdde",
   "metadata": {},
   "source": [
    "## Random forest\n",
    "\n",
    "Using the fast `TreeExplainer` implementation."
   ]
  },
  {
   "cell_type": "code",
   "execution_count": null,
   "id": "4287d4a8",
   "metadata": {},
   "outputs": [],
   "source": [
    "from sklearn.ensemble import RandomForestRegressor\n",
    "rforest = RandomForestRegressor(n_estimators=1000, max_depth=None, min_samples_split=2, random_state=0)\n",
    "rforest.fit(X_train, y_train)\n",
    "print_accuracy(rforest.predict)\n",
    "\n",
    "# explain all the predictions in the test set\n",
    "explainer = shap.TreeExplainer(rforest)\n",
    "shap_values = explainer.shap_values(X_test)\n",
    "shap.summary_plot(shap_values, X_test)"
   ]
  },
  {
   "cell_type": "code",
   "execution_count": null,
   "id": "93cbc6b6",
   "metadata": {},
   "outputs": [],
   "source": [
    "shap.dependence_plot(\"bmi\", shap_values, X_test)"
   ]
  },
  {
   "cell_type": "code",
   "execution_count": null,
   "id": "0df1aced",
   "metadata": {},
   "outputs": [],
   "source": [
    "shap.force_plot(explainer.expected_value, shap_values, X_test)"
   ]
  },
  {
   "cell_type": "markdown",
   "id": "c16fd252",
   "metadata": {},
   "source": [
    "## Neural network"
   ]
  },
  {
   "cell_type": "code",
   "execution_count": null,
   "id": "baf521b2",
   "metadata": {},
   "outputs": [],
   "source": [
    "from sklearn.neural_network import MLPRegressor\n",
    "nn = MLPRegressor(solver='lbfgs', alpha=1e-1, hidden_layer_sizes=(5, 2), random_state=0)\n",
    "nn.fit(X_train, y_train)\n",
    "print_accuracy(nn.predict)\n",
    "\n",
    "# explain all the predictions in the test set\n",
    "explainer = shap.KernelExplainer(nn.predict, X_train_summary)\n",
    "shap_values = explainer.shap_values(X_test)\n",
    "shap.summary_plot(shap_values, X_test)"
   ]
  },
  {
   "cell_type": "code",
   "execution_count": null,
   "id": "dfba29b8",
   "metadata": {},
   "outputs": [],
   "source": [
    "shap.dependence_plot(\"bmi\", shap_values, X_test)"
   ]
  },
  {
   "cell_type": "code",
   "execution_count": null,
   "id": "a8a982c6",
   "metadata": {},
   "outputs": [],
   "source": [
    "shap.force_plot(explainer.expected_value, shap_values, X_test)"
   ]
  }
 ],
 "metadata": {},
 "nbformat": 4,
 "nbformat_minor": 5
}
