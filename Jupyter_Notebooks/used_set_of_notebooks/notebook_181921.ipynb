{
 "cells": [
  {
   "cell_type": "code",
   "execution_count": null,
   "id": "51aba0b8",
   "metadata": {},
   "outputs": [],
   "source": [
    "import os, sys, glob, scipy\n",
    "import numpy as np\n",
    "import pandas as pd\n",
    "import matplotlib.pyplot as plt\n",
    "import seaborn as sns"
   ]
  },
  {
   "cell_type": "markdown",
   "id": "57485c13",
   "metadata": {},
   "source": [
    "## Plan"
   ]
  },
  {
   "cell_type": "markdown",
   "id": "1e6dbb35",
   "metadata": {},
   "source": [
    "1. Describe the task\n",
    "2. Make the simplest visualization you can think of that contains:\n",
    "    - the Dependent Variable, i.e. the behavior of the participants that you're trying to model/predict/explain/account for/etc\n",
    "    - the Independent Variable(s), i.e. the features of the trial that you think might influence behavior\n",
    "    - draw each trial as a point on this graph\n",
    "3. Think of possible models that would generate similar values for the DV given the observed values for the IV"
   ]
  },
  {
   "cell_type": "markdown",
   "id": "44460661",
   "metadata": {},
   "source": [
    "## 2. Make a visualization"
   ]
  },
  {
   "cell_type": "markdown",
   "id": "d94714a0",
   "metadata": {},
   "source": [
    "##### Load some data"
   ]
  },
  {
   "cell_type": "code",
   "execution_count": null,
   "id": "21f55a2f",
   "metadata": {},
   "outputs": [],
   "source": [
    "base_dir = os.path.realpath('') \n",
    "data_dir = base_dir + '/Data'"
   ]
  },
  {
   "cell_type": "code",
   "execution_count": null,
   "id": "939fecd0",
   "metadata": {},
   "outputs": [],
   "source": [
    "data = pd.read_csv(data_dir + '/Study1_UG.csv')\n",
    "data = data[['sub','trial','unfairness','choice']]\n",
    "data['offer'] = 100 - data['unfairness']\n",
    "data.head()"
   ]
  },
  {
   "cell_type": "markdown",
   "id": "e7b9a0c3",
   "metadata": {},
   "source": [
    "##### Make a simple plot"
   ]
  },
  {
   "cell_type": "code",
   "execution_count": null,
   "id": "7cbc138a",
   "metadata": {},
   "outputs": [],
   "source": [
    "sub = 2\n",
    "sub_data = data.query('sub == 2')\n",
    "sub_data.head()"
   ]
  },
  {
   "cell_type": "markdown",
   "id": "f6693af9",
   "metadata": {},
   "source": [
    "##### Problem 1. Plot each trial independently, use transparency to visualize overlap"
   ]
  },
  {
   "cell_type": "markdown",
   "id": "8755269b",
   "metadata": {},
   "source": [
    "##### Problem 2. Plot the average over trials with the same offer"
   ]
  },
  {
   "cell_type": "markdown",
   "id": "99ad5144",
   "metadata": {},
   "source": [
    "## 3. Think of a model that can recreate this plot"
   ]
  },
  {
   "cell_type": "markdown",
   "id": "b4da8781",
   "metadata": {},
   "source": [
    "###### Problem 3. Define the following models\n",
    "- Model 1: always accept.\n",
    "- Model 2: always reject.\n",
    "- Model 3: act randomly.\n",
    "- Model 4: maximize payoff ('greed').\n",
    "- Model 5: minimize payoff ('inverse greed').\n",
    "- Model 6: unfairness punisher (reject with a probability P proportional to the unfairness of the offer).\n",
    "- Model 7: inequity aversion."
   ]
  },
  {
   "cell_type": "code",
   "execution_count": null,
   "id": "def7e4b0",
   "metadata": {},
   "outputs": [],
   "source": [
    "# Always accept\n",
    "def model_1(offer):\n",
    "    \n",
    "    \n",
    "    \n",
    "    return choice"
   ]
  },
  {
   "cell_type": "code",
   "execution_count": null,
   "id": "b7f366d5",
   "metadata": {},
   "outputs": [],
   "source": [
    "# Always reject\n",
    "def model_2(offer):\n",
    "    \n",
    "    \n",
    "    \n",
    "    return choice"
   ]
  },
  {
   "cell_type": "code",
   "execution_count": null,
   "id": "f654a624",
   "metadata": {},
   "outputs": [],
   "source": [
    "# Act random\n",
    "def model_3(offer):\n",
    "    \n",
    "    \n",
    "    \n",
    "    return choice"
   ]
  },
  {
   "cell_type": "code",
   "execution_count": null,
   "id": "018849ec",
   "metadata": {},
   "outputs": [],
   "source": [
    "# Maximize payoff\n",
    "def model_4(offer):\n",
    "    \n",
    "    \n",
    "    \n",
    "    \n",
    "    return choice"
   ]
  },
  {
   "cell_type": "code",
   "execution_count": null,
   "id": "4ebb2291",
   "metadata": {},
   "outputs": [],
   "source": [
    "# Minimize payoff\n",
    "def model_5(offer):\n",
    "    \n",
    "    \n",
    "    \n",
    "    \n",
    "    return choice"
   ]
  },
  {
   "cell_type": "code",
   "execution_count": null,
   "id": "ca529ab2",
   "metadata": {},
   "outputs": [],
   "source": [
    "# Unfairness punisher\n",
    "def model_6(offer):\n",
    "    \n",
    "    \n",
    "    \n",
    "    \n",
    "    return choice"
   ]
  },
  {
   "cell_type": "code",
   "execution_count": null,
   "id": "aed497cd",
   "metadata": {},
   "outputs": [],
   "source": [
    "# Inequity aversion\n",
    "def model_7(offer):\n",
    "    \n",
    "    \n",
    "    \n",
    "    \n",
    "    return choice"
   ]
  },
  {
   "cell_type": "markdown",
   "id": "eb54c0f9",
   "metadata": {},
   "source": [
    "## 4. Simulating task data"
   ]
  },
  {
   "cell_type": "code",
   "execution_count": null,
   "id": "a42e687b",
   "metadata": {},
   "outputs": [],
   "source": [
    "simulated_sub_data = sub_data[['trial','offer','choice']].copy()\n",
    "simulated_sub_data['choice'] = np.nan\n",
    "simulated_sub_data.head()"
   ]
  },
  {
   "cell_type": "markdown",
   "id": "90ab67e6",
   "metadata": {},
   "source": [
    "##### Problem 4. Simulate task data using a model\n",
    "Use one of the models you have defined above to simulate choices for the simulated_sub_data dataframe. "
   ]
  },
  {
   "cell_type": "markdown",
   "id": "9b6b36b3",
   "metadata": {},
   "source": [
    "So here we have a dataset – basically a list of trials that together constitute an experiment – with simulated task data! We've basically generated a pseudo-subject based on one of the models we defined. In the next steps, we will compare such simulated datasets to our actually observed subject data. The more similar a model's simulation is to observed task data, the better the model 'fits' the data."
   ]
  },
  {
   "cell_type": "markdown",
   "id": "390cf131",
   "metadata": {},
   "source": [
    "## For next time"
   ]
  },
  {
   "cell_type": "markdown",
   "id": "abbabbb4",
   "metadata": {},
   "source": [
    "- Get Joey's data from GitHub\n",
    "- Try to code models 5, 6, and 7\n",
    "- Simulate data from each model"
   ]
  }
 ],
 "metadata": {},
 "nbformat": 4,
 "nbformat_minor": 5
}
