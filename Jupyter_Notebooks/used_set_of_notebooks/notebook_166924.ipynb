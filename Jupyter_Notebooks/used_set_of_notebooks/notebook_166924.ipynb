{
 "cells": [
  {
   "cell_type": "code",
   "execution_count": null,
   "id": "6e95162a",
   "metadata": {},
   "outputs": [],
   "source": [
    "import os\n",
    "import sys\n",
    "from random import randint\n",
    "\n",
    "\n",
    "module_path = os.path.abspath(os.path.join(os.getcwd(), os.pardir))  \n",
    "if module_path not in sys.path:       \n",
    "    sys.path.append(module_path)"
   ]
  },
  {
   "cell_type": "code",
   "execution_count": null,
   "id": "193d51fe",
   "metadata": {},
   "outputs": [],
   "source": [
    "import librosa\n",
    "import museval\n",
    "import numpy as np\n",
    "import tensorflow as tf\n",
    "import IPython.display as ipd\n",
    "from utils.helper import wav_to_spectrogram_clips, rebuild_audio_from_spectro_clips\n",
    "from utils.dataset import create_samples\n",
    "from models.conv_denoising_unet import ConvDenoisingUnet\n",
    "from models.conv_encoder_denoising_decoder import ConvEncoderDenoisingDecoder\n",
    "from models.conv_resblock_denoising_unet import ConvResblockDenoisingUnet"
   ]
  },
  {
   "cell_type": "markdown",
   "id": "43406820",
   "metadata": {},
   "source": [
    "### load a random sample from DSD100 Test"
   ]
  },
  {
   "cell_type": "code",
   "execution_count": null,
   "id": "8e06cde3",
   "metadata": {},
   "outputs": [],
   "source": [
    "samples = create_samples('Dev')\n",
    "test_sample = samples[0]\n",
    "print(test_sample['name'])"
   ]
  },
  {
   "cell_type": "code",
   "execution_count": null,
   "id": "46ce9220",
   "metadata": {},
   "outputs": [],
   "source": [
    "sound, sr = librosa.load(test_sample['mix'], sr=44100, mono=True)\n",
    "stft = librosa.stft(sound, n_fft=2048, hop_length=512, win_length=2048)\n",
    "phase = np.angle(stft)"
   ]
  },
  {
   "cell_type": "markdown",
   "id": "c9b58c87",
   "metadata": {},
   "source": [
    "## Load model"
   ]
  },
  {
   "cell_type": "code",
   "execution_count": null,
   "id": "623a0279",
   "metadata": {},
   "outputs": [],
   "source": [
    "sorted(os.listdir(os.path.join(os.pardir, 'saved_model')))"
   ]
  },
  {
   "cell_type": "code",
   "execution_count": null,
   "id": "f011b372",
   "metadata": {},
   "outputs": [],
   "source": [
    "# load model\n",
    "model_path = os.path.join(os.pardir, 'saved_model', 'conv_denoising_unet?time=20200223_0347.h5')\n",
    "model = tf.keras.models.load_model(model_path)"
   ]
  },
  {
   "cell_type": "code",
   "execution_count": null,
   "id": "f1dfb00c",
   "metadata": {},
   "outputs": [],
   "source": [
    "pred = model.predict(wav_to_spectrogram_clips(test_sample['mix']))"
   ]
  },
  {
   "cell_type": "code",
   "execution_count": null,
   "id": "b888e75f",
   "metadata": {},
   "outputs": [],
   "source": [
    "pred[2].shape"
   ]
  },
  {
   "cell_type": "markdown",
   "id": "8e25eef1",
   "metadata": {},
   "source": [
    "## Separation evaluation"
   ]
  },
  {
   "cell_type": "markdown",
   "id": "525555fd",
   "metadata": {},
   "source": [
    "#### Listen to the result"
   ]
  },
  {
   "cell_type": "code",
   "execution_count": null,
   "id": "9c46f5b9",
   "metadata": {},
   "outputs": [],
   "source": [
    "def play(audio):\n",
    "    track, sr = librosa.load(audio, sr=44100)\n",
    "    return track\n",
    "    \n",
    "def play_separated_track(separated_audio, phase):\n",
    "    separated_track= np.squeeze(separated_audio, axis=-1)\n",
    "    spectrogram = np.concatenate(separated_track, axis=1)\n",
    "    phase = phase[tuple(map(slice, spectrogram.shape))]\n",
    "    reconstructed_track = librosa.istft(spectrogram * np.exp(1j * phase), hop_length=512, win_length=2048)\n",
    "    return reconstructed_track"
   ]
  },
  {
   "cell_type": "markdown",
   "id": "e83e466b",
   "metadata": {},
   "source": [
    "### Vocal track"
   ]
  },
  {
   "cell_type": "code",
   "execution_count": null,
   "id": "afe1cdd5",
   "metadata": {},
   "outputs": [],
   "source": [
    "track = play(test_sample['vocals'])\n",
    "ipd.Audio(track, rate=44100)"
   ]
  },
  {
   "cell_type": "code",
   "execution_count": null,
   "id": "ef7bdb16",
   "metadata": {},
   "outputs": [],
   "source": [
    "separated_track = play_separated_track(pred[0], phase)\n",
    "ipd.Audio(separated_track, rate=44100)"
   ]
  },
  {
   "cell_type": "code",
   "execution_count": null,
   "id": "5118e0fb",
   "metadata": {},
   "outputs": [],
   "source": [
    "librosa.output.write_wav('./separated_vocals.wav', separated_track, sr=44100, norm=True)"
   ]
  },
  {
   "cell_type": "markdown",
   "id": "0059ea1f",
   "metadata": {},
   "source": [
    "### Bass track"
   ]
  },
  {
   "cell_type": "code",
   "execution_count": null,
   "id": "7e2beab7",
   "metadata": {},
   "outputs": [],
   "source": [
    "track = play(test_sample['bass'])\n",
    "ipd.Audio(track, rate=44100)"
   ]
  },
  {
   "cell_type": "code",
   "execution_count": null,
   "id": "32d795dc",
   "metadata": {},
   "outputs": [],
   "source": [
    "separated_track = play_separated_track(pred[1])\n",
    "ipd.Audio(separated_track, rate=44100)"
   ]
  },
  {
   "cell_type": "markdown",
   "id": "a85dbded",
   "metadata": {},
   "source": [
    "### Drums track"
   ]
  },
  {
   "cell_type": "code",
   "execution_count": null,
   "id": "9fe3b071",
   "metadata": {},
   "outputs": [],
   "source": [
    "track = play(test_sample['drums'])\n",
    "ipd.Audio(track, rate=44100)"
   ]
  },
  {
   "cell_type": "code",
   "execution_count": null,
   "id": "07e85d43",
   "metadata": {},
   "outputs": [],
   "source": [
    "separated_track = play_separated_track(pred[2])\n",
    "ipd.Audio(separated_track, rate=44100)"
   ]
  },
  {
   "cell_type": "markdown",
   "id": "2de917fe",
   "metadata": {},
   "source": [
    "### other track"
   ]
  },
  {
   "cell_type": "code",
   "execution_count": null,
   "id": "1b3f7efa",
   "metadata": {},
   "outputs": [],
   "source": [
    "track = play(test_sample['other'])\n",
    "ipd.Audio(track, rate=44100)"
   ]
  },
  {
   "cell_type": "code",
   "execution_count": null,
   "id": "15fbeb3b",
   "metadata": {},
   "outputs": [],
   "source": [
    "separated_track = play_separated_track(pred[3])\n",
    "ipd.Audio(separated_track, rate=44100)"
   ]
  }
 ],
 "metadata": {},
 "nbformat": 4,
 "nbformat_minor": 5
}
