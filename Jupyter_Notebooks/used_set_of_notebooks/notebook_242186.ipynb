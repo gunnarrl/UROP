{
 "cells": [
  {
   "cell_type": "code",
   "execution_count": null,
   "id": "43824a44",
   "metadata": {},
   "outputs": [],
   "source": [
    "import numpy as np\n",
    "import matplotlib.pyplot as plt\n",
    "import pandas as pd\n",
    "import warnings\n",
    "warnings.filterwarnings('ignore')\n",
    "from sklearn import preprocessing\n",
    "import tensorflow as tf\n",
    "%matplotlib inline\n",
    "import sklearn\n",
    "import seaborn as sns\n",
    "from sklearn.preprocessing import StandardScaler\n",
    "df=pd.read_csv('45 channel 1sec beta-deltapower with label.csv')\n",
    "\n",
    "\n",
    "print('Number of rows and columns:', df.shape)\n",
    "df.head(5)\n"
   ]
  },
  {
   "cell_type": "markdown",
   "id": "ccbca795",
   "metadata": {},
   "source": [
    "\n",
    "\n",
    "**Labelling COLUMNS**"
   ]
  },
  {
   "cell_type": "code",
   "execution_count": null,
   "id": "08f048c6",
   "metadata": {},
   "outputs": [],
   "source": [
    "print(df.columns)"
   ]
  },
  {
   "cell_type": "code",
   "execution_count": null,
   "id": "9bdc7897",
   "metadata": {},
   "outputs": [],
   "source": [
    "new_names = {'0.49674':'a', '0.27869':'b', '0.36769':'c', '0.15285':'cd', '0.1606':'d','0.1328':'de','0.17606':'e','0.3842':'f','0.19877':'g',\n",
    "       '0.17507':'l', '0.10564':'m', '0.3156':'n', '0.14643':'o', '0.10827':'p','1.2166':'q', '0.073472':'r',\n",
    "       '0.037876':'s', '0.26714':'t', '0.49989':'u', '0.094403':'v', '0.037798':'w', '0.0073178':'x', '0.6007':'y',\n",
    "       '2.22':'z', '0.13759':'aa', '0.22783':'bb', '2.3247':'cc', '3.8245':'dd', '0.16294':'ee',\n",
    "       '2.7036':'ff', '0.18483':'gg', '0.16376':'hh', '0.13955':'ii', '0.16332':'jj', '0.21231':'kk',\n",
    "       '0.85415':'ll', '0.026382':'mm', '0.47723':'nn', '0.49575':'oo', '0.020878':'pp', '0.56216':'qq',\n",
    "       '0.072675':'rr','0.012301':'j','0.14811':'ss','0.17573':'tt','1.3432':'uu','0.17928':'vv','0.10368':'ww','0.15127':'xx',\n",
    "       '0.20969':'k','0.96803':'h','1':'labels'}\n",
    "df= df.rename(index=str, columns=new_names)"
   ]
  },
  {
   "cell_type": "markdown",
   "id": "6c9ed365",
   "metadata": {},
   "source": [
    "***Checking any null Values***"
   ]
  },
  {
   "cell_type": "code",
   "execution_count": null,
   "id": "594de7e6",
   "metadata": {},
   "outputs": [],
   "source": [
    "\n",
    "df.info()\n"
   ]
  },
  {
   "cell_type": "code",
   "execution_count": null,
   "id": "bab7afd6",
   "metadata": {},
   "outputs": [],
   "source": [
    "pd.set_option('display.max_columns', None)\n",
    "print(df.describe())\n",
    "\n"
   ]
  },
  {
   "cell_type": "markdown",
   "id": "e14e0782",
   "metadata": {},
   "source": [
    "***spliting the file in the data and target class***"
   ]
  },
  {
   "cell_type": "code",
   "execution_count": null,
   "id": "fae5c2ab",
   "metadata": {},
   "outputs": [],
   "source": [
    "data = df.iloc[:,:-1].values.tolist()\n",
    "target = df.iloc[:,-1].tolist()"
   ]
  },
  {
   "cell_type": "markdown",
   "id": "e333f69a",
   "metadata": {},
   "source": [
    "**heatmap**"
   ]
  },
  {
   "cell_type": "markdown",
   "id": "e408f3a4",
   "metadata": {},
   "source": [
    "**Normalizing**"
   ]
  },
  {
   "cell_type": "code",
   "execution_count": null,
   "id": "45940482",
   "metadata": {},
   "outputs": [],
   "source": [
    "from sklearn import preprocessing\n",
    "from sklearn.model_selection import train_test_split\n",
    "x =df[df.columns[:98]]\n",
    "y =df.labels\n",
    "x_train, x_test, y_train, y_test = train_test_split(x, y , train_size = 0.7, random_state =  90)"
   ]
  },
  {
   "cell_type": "markdown",
   "id": "b26a464b",
   "metadata": {},
   "source": [
    " **Select numerical columns which needs to be normalized**"
   ]
  },
  {
   "cell_type": "code",
   "execution_count": null,
   "id": "2db3170f",
   "metadata": {},
   "outputs": [],
   "source": [
    "train_norm = x_train[x_train.columns[0:20]]\n",
    "test_norm = x_test[x_test.columns[0:20]]"
   ]
  },
  {
   "cell_type": "markdown",
   "id": "97436115",
   "metadata": {},
   "source": [
    "**Normalize Training Data**"
   ]
  },
  {
   "cell_type": "code",
   "execution_count": null,
   "id": "e44da695",
   "metadata": {},
   "outputs": [],
   "source": [
    "std_scale = preprocessing.StandardScaler().fit(train_norm)\n",
    "x_train_norm = std_scale.transform(train_norm)"
   ]
  },
  {
   "cell_type": "markdown",
   "id": "83782251",
   "metadata": {},
   "source": [
    "**Converting numpy array to dataframe**"
   ]
  },
  {
   "cell_type": "code",
   "execution_count": null,
   "id": "0b5b8adc",
   "metadata": {},
   "outputs": [],
   "source": [
    "training_norm_col = pd.DataFrame(x_train_norm, index=train_norm.index, columns=train_norm.columns) \n",
    "x_train.update(training_norm_col)\n",
    "print (x_train.head())"
   ]
  },
  {
   "cell_type": "markdown",
   "id": "5891d7d7",
   "metadata": {},
   "source": [
    "**Normalize Testing Data by using mean and SD of training set**"
   ]
  },
  {
   "cell_type": "code",
   "execution_count": null,
   "id": "72a4c2a4",
   "metadata": {},
   "outputs": [],
   "source": [
    "x_test_norm = std_scale.transform(test_norm)\n",
    "testing_norm_col = pd.DataFrame(x_test_norm, index=test_norm.index, columns=test_norm.columns) \n",
    "x_test.update(testing_norm_col)\n",
    "print (x_train.head())"
   ]
  },
  {
   "cell_type": "markdown",
   "id": "2eb00668",
   "metadata": {},
   "source": [
    "**Support vector machine**"
   ]
  },
  {
   "cell_type": "code",
   "execution_count": null,
   "id": "c4183ee4",
   "metadata": {},
   "outputs": [],
   "source": [
    "import numpy\n",
    "from sklearn.svm import SVC\n",
    "from sklearn.model_selection import train_test_split\n",
    "from sklearn.metrics import confusion_matrix\n",
    "from sklearn.metrics import accuracy_score"
   ]
  },
  {
   "cell_type": "code",
   "execution_count": null,
   "id": "81e26f97",
   "metadata": {},
   "outputs": [],
   "source": [
    "def svm_classifier(): \n",
    "    file_x = '45 channel 1sec beta-deltapower.csv'\n",
    "    file_y = 'Label.csv'\n",
    "    \n",
    "    X = data\n",
    "    y = target\n",
    "    # Split the data into training/testing sets\n",
    "    X_train, X_test, y_train, y_test = train_test_split(X, y, test_size=0.6, random_state=42)\n",
    "   \n",
    "    \t\n",
    "\n",
    "     # Feature Scaling\n",
    "    from sklearn.preprocessing import StandardScaler\n",
    "    sc = StandardScaler()\n",
    "    X_train = sc.fit_transform(X_train)    \n",
    "    X_test = sc.transform(X_test)\n",
    "\n",
    "    # SVM Classifier\n",
    "    clf = SVC(kernel = 'rbf', random_state = 50)\n",
    "    clf.fit(X_train, y_train)\n",
    "    y_predict = clf.predict(X_test)\n",
    "    cm = confusion_matrix(y_test, y_predict)\n",
    "    print(cm)\n",
    "    print(\"Accuracy score : \")\n",
    "    print(accuracy_score(y_test, y_predict)*100)\n",
    "    \n",
    "if __name__ == '__main__':\n",
    "    svm_classifier()"
   ]
  },
  {
   "cell_type": "markdown",
   "id": "6116335b",
   "metadata": {},
   "source": [
    "**sequential model**"
   ]
  },
  {
   "cell_type": "code",
   "execution_count": null,
   "id": "104c0b8d",
   "metadata": {},
   "outputs": [],
   "source": [
    "import numpy as np\n",
    "from keras.models import Sequential\n",
    "from keras.layers import Dense, Dropout"
   ]
  },
  {
   "cell_type": "code",
   "execution_count": null,
   "id": "18f7b04a",
   "metadata": {},
   "outputs": [],
   "source": [
    "model = Sequential()\n",
    "model.add(Dense(64, input_dim=91, activation='relu'))\n",
    "model.add(Dropout(0.5))\n",
    "model.add(Dense(64, activation='relu'))\n",
    "model.add(Dense(1, activation='sigmoid'))\n",
    "\n",
    "model.compile(loss='binary_crossentropy',\n",
    "              optimizer='rmsprop',\n",
    "              metrics=['accuracy'])\n",
    "\n",
    "model.fit(x_train, y_train,\n",
    "          epochs=25,\n",
    "          batch_size=128)\n",
    "score = model.evaluate(x_test, y_test, batch_size=128)"
   ]
  },
  {
   "cell_type": "markdown",
   "id": "7263b769",
   "metadata": {},
   "source": [
    "**LSTM MODELLING**"
   ]
  },
  {
   "cell_type": "code",
   "execution_count": null,
   "id": "2a01abaa",
   "metadata": {},
   "outputs": [],
   "source": [
    "from keras.models import Sequential\n",
    "from keras.layers import Dense, Dropout\n",
    "from keras.layers import Embedding\n",
    "from keras.layers import LSTM\n",
    "\n",
    "max_features = 30000\n",
    "\n",
    "model = Sequential()\n",
    "model.add(Embedding(max_features, output_dim=256))\n",
    "model.add(LSTM(128))\n",
    "model.add(Dropout(0.5))\n",
    "model.add(Dense(1, activation='sigmoid'))\n",
    "\n",
    "model.compile(loss='binary_crossentropy',\n",
    "              optimizer='rmsprop',\n",
    "              metrics=['accuracy'])\n",
    "\n",
    "model.fit(x_train, y_train, batch_size=20, epochs=2)\n",
    "score = model.evaluate(x_test, y_test, batch_size=20)"
   ]
  }
 ],
 "metadata": {},
 "nbformat": 4,
 "nbformat_minor": 5
}
