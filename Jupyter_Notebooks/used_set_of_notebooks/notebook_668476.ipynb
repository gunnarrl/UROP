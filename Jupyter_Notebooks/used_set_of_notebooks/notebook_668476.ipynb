{
 "cells": [
  {
   "cell_type": "markdown",
   "id": "20e2104f",
   "metadata": {},
   "source": [
    "# CO2 emissions vs. GDP Uniview Visualization\n",
    "\n",
    "This notebook generates a bubble chart illustrating how CO2 emissions and GDP have varied over the past 60 years in the World's Major carbon emitters. The data set are downloaded from http://gapminder.org and the style of the plot is borrowed from them as well. The the ten top Carbon emitters in 2011 were included, as were two countries (the UK and France) that were in the top five in 1950, but have since dropped out of the top ten in emmissions. One country (South Korea) was excluded dure to missing data).\n",
    "\n",
    "Mark SubbaRao, May 2017\n",
    "\n",
    "#### For reference see Hans Rosling's famous TED talk"
   ]
  },
  {
   "cell_type": "code",
   "execution_count": null,
   "id": "6e654bc0",
   "metadata": {},
   "outputs": [],
   "source": [
    "from IPython.display import YouTubeVideo\n",
    "YouTubeVideo('hVimVzgtD6w')"
   ]
  },
  {
   "cell_type": "markdown",
   "id": "c2722a06",
   "metadata": {},
   "source": [
    "#### An example of this Uniview module in action"
   ]
  },
  {
   "cell_type": "code",
   "execution_count": null,
   "id": "5ca9ee3b",
   "metadata": {},
   "outputs": [],
   "source": [
    "from IPython.display import YouTubeVideo\n",
    "YouTubeVideo('T10X_e-C1P8')"
   ]
  },
  {
   "cell_type": "markdown",
   "id": "5a711574",
   "metadata": {},
   "source": [
    "### Imports and function definitions"
   ]
  },
  {
   "cell_type": "code",
   "execution_count": null,
   "id": "301355cc",
   "metadata": {},
   "outputs": [],
   "source": [
    "#This directory contains all the data needed for the module. It should be in the same directory as the notebook\n",
    "dataFolder = \"data\" \n",
    "import sys, os, shutil, errno, string, urllib.request, math, copy\n",
    "sys.path.append(( os.path.abspath( os.path.join(os.path.realpath(\"__file__\"), os.pardir, os.pardir) )))\n",
    "import uvmodlib.v1 as uvmod\n",
    "from config import Settings\n",
    "\n",
    "\n",
    "import pandas as pd\n",
    "import matplotlib as plt\n",
    "from PIL import Image"
   ]
  },
  {
   "cell_type": "markdown",
   "id": "67a4cc49",
   "metadata": {},
   "source": [
    "### USES Conf Template for Gapminder.org style Bubble Chart"
   ]
  },
  {
   "cell_type": "code",
   "execution_count": null,
   "id": "546c5911",
   "metadata": {},
   "outputs": [],
   "source": [
    "BubbleChartTemplate = \"\"\"mesh\n",
    "{\n",
    "    data  graph ./modules/$folderName/shaders/graph.obj \n",
    "    glslVersion 330 \n",
    "    enableTypeCheck true\n",
    "    \n",
    "    propertyCollection\n",
    "    {\n",
    "        __objectName__\n",
    "        {\n",
    "            vec3f chartOffset $chartOffset\n",
    "            vec1i chartMask $chartMask\n",
    "            bool chartCrumbs $chartCrumbs\n",
    "            vec1f chartHighlight $chartHighlight\n",
    "        }\n",
    "    }\n",
    "\n",
    "    pass\n",
    "    {\n",
    "        useDataObject graph\n",
    "        shader\n",
    "        {\n",
    "            type defaultMeshShader\n",
    "            {\n",
    "                vertexShader ./modules/$folderName/shaders/CO2_graph_vertex.glsl\n",
    "                fragmentShader ./modules/$folderName/shaders/CO2_graph_fragment.glsl\n",
    "                StateManagerVar __objectName__.chartOffset heightOffset\n",
    "                StateManagerVar __objectName__.Alpha alpha\n",
    "                StateManagerVar __objectName__.chartMask showMask\n",
    "                StateManagerVar __objectName__.chartCrumbs breadCrumbs\n",
    "                StateManagerVar __objectName__.chartHighlight highlight\n",
    "                \n",
    "                texture countryLabels ./modules/$folderName/images/CountryLabels.png\n",
    "                {\n",
    "                }\n",
    "                texture Numbers ./modules/$folderName/images/BigNumbers.png\n",
    "                {\n",
    "                    wrapModeS GL_CLAMP_TO_EDGE\n",
    "                    wrapModeR GL_CLAMP_TO_EDGE\n",
    "                }\n",
    "                texture co2Lab ./modules/$folderName/images/co2pcLab.png\n",
    "                {\n",
    "                    wrapModeS GL_CLAMP_TO_EDGE\n",
    "                    wrapModeR GL_CLAMP_TO_EDGE\n",
    "                }\n",
    "                texture gdpLab ./modules/$folderName/images/gdpLab.png\n",
    "                {\n",
    "                    wrapModeS GL_CLAMP_TO_EDGE\n",
    "                    wrapModeR GL_CLAMP_TO_EDGE\n",
    "                }\n",
    "                texture co2pcData ./modules/$folderName/images/CO2perCap.png\n",
    "                {\n",
    "                    wrapModeS GL_CLAMP_TO_EDGE\n",
    "                    wrapModeR GL_CLAMP_TO_EDGE\n",
    "                }\n",
    "                texture co2totData ./modules/$folderName/images/CO2total.png\n",
    "                {\n",
    "                    wrapModeS GL_CLAMP_TO_EDGE\n",
    "                    wrapModeR GL_CLAMP_TO_EDGE\n",
    "                }\n",
    "                texture gdpData ./modules/$folderName/images/GDPperCap.png\n",
    "                {\n",
    "                    wrapModeS GL_CLAMP_TO_EDGE\n",
    "                    wrapModeR GL_CLAMP_TO_EDGE\n",
    "                }\n",
    "                glState\n",
    "                {\n",
    "                    # additive blending\n",
    "                    UV_BLEND_FUNC GL_SRC_ALPHA GL_ONE_MINUS_SRC_ALPHA\n",
    "                    UV_DEPTH_ENABLE true\n",
    "                    UV_BLEND_ENABLE true\n",
    "                    UV_WRITE_MASK_DEPTH true\n",
    "                    UV_CULL_FACE_ENABLE false\n",
    "                }\n",
    "            }\n",
    "        }\n",
    "    }\n",
    "\n",
    "}\"\"\""
   ]
  },
  {
   "cell_type": "markdown",
   "id": "36ad7703",
   "metadata": {},
   "source": [
    "### Bubble Chart Class"
   ]
  },
  {
   "cell_type": "code",
   "execution_count": null,
   "id": "7ca2bb2c",
   "metadata": {},
   "outputs": [],
   "source": [
    "class BubbleChart():\n",
    "    def __init__(self, object):\n",
    "        self.object = object\n",
    "        uvmod.Utility.ensurerelativepathexsists(\"shaders\\\\graph.obj\",dataFolder)\n",
    "        uvmod.Utility.ensurerelativepathexsists(\"shaders\\\\CO2_graph_fragment.glsl\",dataFolder)\n",
    "        uvmod.Utility.ensurerelativepathexsists(\"shaders\\\\CO2_graph_vertex.glsl\",dataFolder)\n",
    "        self.Alpha = 1\n",
    "        self.chartOffset = \"0.0 0.0 1.5\"\n",
    "        self.chartMask = 0\n",
    "        self.chartCrumbs = False\n",
    "        self.chartHighlight = 0.25\n",
    "    def setChartOffset(self,chartOffset):\n",
    "        self.ColorMultiplier = \" \".join(str(c) for c in chartOffset)\n",
    "    def setAlpha(self,Alpha):\n",
    "        self.Alpha = Alpha\n",
    "    def generatemod(self):\n",
    "        self.object.setgeometry(self.object.name+\".usesconf\")\n",
    "        return self.object.generatemod()\n",
    "    def generatefiles(self, absOutDir, relOutDir):\n",
    "        fileName = self.object.name+\".usesconf\"\n",
    "        s = string.Template(BubbleChartTemplate)\n",
    "        f = open(absOutDir+\"\\\\\"+fileName, 'w')\n",
    "        if f:\n",
    "            f.write(s.substitute(folderName = relOutDir,\n",
    "                                 chartOffset = self.chartOffset,\n",
    "                                chartMask = self.chartMask,\n",
    "                                chartCrumbs = self.chartCrumbs,\n",
    "                                chartHighlight = self.chartHighlight))\n",
    "            f.close()\n",
    "        uvmod.Utility.copyfoldercontents(os.getcwd()+\"\\\\\"+dataFolder, absOutDir)"
   ]
  },
  {
   "cell_type": "markdown",
   "id": "e6ba1ca8",
   "metadata": {},
   "source": [
    "### Object Instantiation"
   ]
  },
  {
   "cell_type": "code",
   "execution_count": null,
   "id": "604e1d68",
   "metadata": {},
   "outputs": [],
   "source": [
    "model = BubbleChart(uvmod.OrbitalObject())\n",
    "generator = uvmod.Generator()\n",
    "scene = uvmod.Scene()\n",
    "modinfo = uvmod.ModuleInformation()"
   ]
  },
  {
   "cell_type": "markdown",
   "id": "c12eff9c",
   "metadata": {},
   "source": [
    "### Specify Settings and generate the module"
   ]
  },
  {
   "cell_type": "code",
   "execution_count": null,
   "id": "fc0f44a5",
   "metadata": {},
   "outputs": [],
   "source": [
    "scene.setname(\"CO2gapminder\")\n",
    "scene.setparent(\"Earth\")\n",
    "scene.setentrydist(100000)\n",
    "scene.setunit(1.)\n",
    "#scene.setsurfacepositionerrotation(180.,0,0)\n",
    "#scene.setpositionfile(uvmod.PositionFileTypes.Surface(\"Earth\",  -70.572560, 66.674812, .42))\n",
    "\n",
    "model.object.setcameraradius(30)\n",
    "model.object.setcoord(\"Earth\")\n",
    "model.object.setname(\"CO2gapminder\")\n",
    "model.object.setguiname(\"/Solar System/Planets/Earth/CO2 Bubble Chart\")\n",
    "model.object.settargetradius(300)\n",
    "model.object.setscalefactor(655)\n",
    "modinfo.setname(\"CO2 Bubble Chart\")\n",
    "modinfo.setauthor(\"Mark SubbaRao<br />Adler Planetarium\")\n",
    "modinfo.cleardependencies()\n",
    "modinfo.adddependency(\"Earth\")\n",
    "modinfo.setdesc(\"A module animating per capita CO2 emissions vs per capita GDPdata and style taked from gapminder.org\")\n",
    "modinfo.setthumbnail(\"data/images/thumbnail.png\")\n",
    "modinfo.setversion(\"1.0\")\n",
    "\n",
    "generator.generate(\"CO2gapminder\",[],[model],modinfo)"
   ]
  },
  {
   "cell_type": "markdown",
   "id": "e020e0e1",
   "metadata": {},
   "source": [
    "## Read datafiles and make texture images encoding data"
   ]
  },
  {
   "cell_type": "code",
   "execution_count": null,
   "id": "1ec90272",
   "metadata": {},
   "outputs": [],
   "source": [
    "def makeImage(ds,maxVal,imageName):\n",
    "    countryOrder=['United States','Russia','China','India','Canada','Japan','Germany','Iran','South Africa','France','United Kingdom']\n",
    "    im=Image.new(\"RGB\",(62,11))\n",
    "    for i,country in enumerate(countryOrder):\n",
    "        for j,year in enumerate(range(1950,2012)):\n",
    "            val = ds.fillna(0)[year][country]/maxVal\n",
    "            valR = int(256*val)\n",
    "            valG = int(256*256*(val-valR/256.))\n",
    "            valB = int(256*256*256*(val-valR/256.-valG/(256.*256.)))\n",
    "            im.putpixel((j,i),(valR,valG,valB))\n",
    "    im.save(imageName)"
   ]
  },
  {
   "cell_type": "markdown",
   "id": "f1cdfd4c",
   "metadata": {},
   "source": [
    "### CO2 per capita data\n",
    "\n",
    "Data Source: CDIAC (Carbon Dioxide Information Analysis Center) http://cdiac.ornl.gov/trends/emis/meth_reg.html\n",
    "\n",
    " "
   ]
  },
  {
   "cell_type": "code",
   "execution_count": null,
   "id": "70944cbf",
   "metadata": {},
   "outputs": [],
   "source": [
    "Co2perCapTable=pd.pandas.read_excel('rawdata/indicator CDIAC carbon_dioxide_emissions_per_capita.xlsx',index_col=0)\n",
    "\n",
    "sCO2perCap=Co2perCapTable.ix[['Russia','China','India','United States','United Kingdom','Japan','Germany','Iran'\n",
    "                ,'South Africa','France','Canada'],1950:2011]"
   ]
  },
  {
   "cell_type": "code",
   "execution_count": null,
   "id": "a935b23d",
   "metadata": {},
   "outputs": [],
   "source": [
    "sCO2perCap.max().max()"
   ]
  },
  {
   "cell_type": "code",
   "execution_count": null,
   "id": "71802202",
   "metadata": {},
   "outputs": [],
   "source": [
    "# We will use a value of 25.0 as the maxVal and write the image\n",
    "makeImage(sCO2perCap,25.0,Settings.uvcustommodulelocation+'\\\\'+model.object.name+'\\\\images\\\\CO2perCap.png')"
   ]
  },
  {
   "cell_type": "markdown",
   "id": "1b6d4535",
   "metadata": {},
   "source": [
    "### Total CO2 emissions\n",
    "\n",
    "Data Source: CDIAC (Carbon Dioxide Information Analysis Center) http://cdiac.ornl.gov/trends/emis/meth_reg.html\n"
   ]
  },
  {
   "cell_type": "code",
   "execution_count": null,
   "id": "1b2b094f",
   "metadata": {},
   "outputs": [],
   "source": [
    "Co2TotalTable=pd.pandas.read_excel('rawdata\\\\indicator CDIAC carbon_dioxide_total_emissions.xlsx',index_col=0)\n",
    "# This table lists 'USSR' up to 1992 and 'Russia' afterwards, we will merge them both under 'Russia'\n",
    "sCO2Total=Co2TotalTable.ix[['Russia','USSR','China','India','United States','United Kingdom','Japan','Germany','Iran'\n",
    "                ,'South Africa','France','Canada'],1950:2011]\n",
    "\n",
    "sCO2Total=sCO2Total.rename(index={'USSR':'Russia'})\n",
    "sCO2Total=sCO2Total.groupby(sCO2Total.index).sum()"
   ]
  },
  {
   "cell_type": "code",
   "execution_count": null,
   "id": "b00d8925",
   "metadata": {},
   "outputs": [],
   "source": [
    "sCO2Total.max().max()"
   ]
  },
  {
   "cell_type": "code",
   "execution_count": null,
   "id": "14f1b476",
   "metadata": {},
   "outputs": [],
   "source": [
    "# Will use 10,000,000 as the maxVal\n",
    "makeImage(sCO2Total,10000000.0,Settings.uvcustommodulelocation+'\\\\'+model.object.name+'\\\\images\\\\CO2total.png')"
   ]
  },
  {
   "cell_type": "markdown",
   "id": "f5594eb2",
   "metadata": {},
   "source": [
    "### Per Capita GDP\n",
    "\n",
    "Data compiled from multiple sources by Mattias Lindgren, Gapminder. Full details are described here:\n",
    "http://www.gapminder.org/downloads/documentation/gd001\n",
    "\n"
   ]
  },
  {
   "cell_type": "code",
   "execution_count": null,
   "id": "bed3de4b",
   "metadata": {},
   "outputs": [],
   "source": [
    "GDPperCapitaTable=pd.pandas.read_excel('rawdata/indicator gapminder gdp_per_capita_ppp.xlsx',index_col=0)\n",
    "sGDPperCapitaTable=GDPperCapitaTable.ix[['Russia','China','India','United States','United Kingdom','Japan','Germany','Iran'\n",
    "                ,'South Africa','France','Canada'],1950:2011]"
   ]
  },
  {
   "cell_type": "code",
   "execution_count": null,
   "id": "96f2b011",
   "metadata": {},
   "outputs": [],
   "source": [
    "sGDPperCapitaTable.max().max()"
   ]
  },
  {
   "cell_type": "code",
   "execution_count": null,
   "id": "adea192f",
   "metadata": {},
   "outputs": [],
   "source": [
    "# We will use 55,000 as the maxVal\n",
    "makeImage(sGDPperCapitaTable,55000.0,Settings.uvcustommodulelocation+'\\\\'+model.object.name+'\\\\images\\\\GDPperCap.png')"
   ]
  },
  {
   "cell_type": "markdown",
   "id": "9c70339d",
   "metadata": {},
   "source": [
    "### Helper Functions for modifing code\n",
    "##### Reload Module and Shaders in Uniview"
   ]
  },
  {
   "cell_type": "code",
   "execution_count": null,
   "id": "d114605e",
   "metadata": {},
   "outputs": [],
   "source": [
    "uvmod.Utility.senduvcommand(model.object.name+\".reload; system.reloadallshaders\")"
   ]
  },
  {
   "cell_type": "markdown",
   "id": "38bb4ead",
   "metadata": {},
   "source": [
    "##### Copy modified Shader files and reload"
   ]
  },
  {
   "cell_type": "code",
   "execution_count": null,
   "id": "b6dbbd5f",
   "metadata": {},
   "outputs": [],
   "source": [
    "uvmod.Utility.copyfoldercontents(os.getcwd()+\"\\\\\"+dataFolder+'\\\\shaders', Settings.uvcustommodulelocation+'\\\\'+model.object.name+'\\\\shaders')\n",
    "uvmod.Utility.senduvcommand(model.object.name+\".reload; system.reloadallshaders\")"
   ]
  }
 ],
 "metadata": {},
 "nbformat": 4,
 "nbformat_minor": 5
}
