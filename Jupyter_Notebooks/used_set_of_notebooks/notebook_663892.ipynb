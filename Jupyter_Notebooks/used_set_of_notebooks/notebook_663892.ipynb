{
 "cells": [
  {
   "cell_type": "markdown",
   "id": "192885e8",
   "metadata": {},
   "source": [
    "### 3.3 线性回归的简洁实现"
   ]
  },
  {
   "cell_type": "code",
   "execution_count": null,
   "id": "5f191b64",
   "metadata": {},
   "outputs": [],
   "source": [
    "import torch\n",
    "from torch import nn\n",
    "import matplotlib.pyplot as plt\n",
    "import numpy as np\n",
    "\n",
    "torch.manual_seed(666)\n",
    "np.random.seed(666)"
   ]
  },
  {
   "cell_type": "markdown",
   "id": "d738ce69",
   "metadata": {},
   "source": [
    "### 3.3.1 生成数据集"
   ]
  },
  {
   "cell_type": "code",
   "execution_count": null,
   "id": "30e1320e",
   "metadata": {},
   "outputs": [],
   "source": [
    "num_inputs = 2\n",
    "num_examples = 1000\n",
    "true_w = [2, -3.4]\n",
    "true_b = 4.2\n",
    "# torch.randn(*size) 生成标准正太分布的随机数 \n",
    "features = torch.randn(num_examples, num_inputs, dtype=torch.float32)\n",
    "labels = true_w[0] * features[:, 0] + true_w[1] * features[:, 1] + true_b\n",
    "labels += torch.tensor(np.random.normal(0, 0.01, size=labels.size()),\n",
    "                       dtype=torch.float32)"
   ]
  },
  {
   "cell_type": "markdown",
   "id": "f7e34bc6",
   "metadata": {},
   "source": [
    "### 3.3.2 读取数据"
   ]
  },
  {
   "cell_type": "code",
   "execution_count": null,
   "id": "f6ba3de0",
   "metadata": {},
   "outputs": [],
   "source": [
    "import torch.utils.data as Data\n",
    "\n",
    "batch_size = 10\n",
    "\n",
    "# 将训练数据的特征和标签组合\n",
    "dataset = Data.TensorDataset(features, labels)\n",
    "\n",
    "# 把 dataset 放入 DataLoader\n",
    "data_iter = Data.DataLoader(\n",
    "    dataset=dataset,         # torch TensorDataset format\n",
    "    batch_size=batch_size,   # mini batch size\n",
    "    shuffle=True,            # 是否打乱数据\n",
    "    num_workers=2,           # 多线程读取数据\n",
    ")"
   ]
  },
  {
   "cell_type": "code",
   "execution_count": null,
   "id": "80971d1c",
   "metadata": {},
   "outputs": [],
   "source": [
    "for X, y in data_iter:\n",
    "    print(X, '\\n', y)\n",
    "    break"
   ]
  },
  {
   "cell_type": "markdown",
   "id": "1f1c5b0d",
   "metadata": {},
   "source": [
    "### 3.3.3 定义模型"
   ]
  },
  {
   "cell_type": "code",
   "execution_count": null,
   "id": "d41297d7",
   "metadata": {},
   "outputs": [],
   "source": [
    "class LinearNet(nn.Module):\n",
    "    def __init__(self, n_features):\n",
    "        super(LinearNet, self).__init__()\n",
    "        self.linear = nn.Linear(n_features, 1)\n",
    "        \n",
    "    def forward(self, x):\n",
    "        y = self.linear(x)\n",
    "        return y\n",
    "\n",
    "net = LinearNet(num_inputs)\n",
    "print(net)"
   ]
  },
  {
   "cell_type": "code",
   "execution_count": null,
   "id": "407e8872",
   "metadata": {},
   "outputs": [],
   "source": [
    "# 写法一\n",
    "net = nn.Sequential(\n",
    "    nn.Linear(num_inputs, 1)\n",
    "    # 后面还可传入其他层\n",
    ")\n",
    "\n",
    "# 写法二\n",
    "net = nn.Sequential()\n",
    "net.add_module('linear', nn.Linear(num_inputs, 1))\n",
    "# net.add_module() ...\n",
    "\n",
    "# 写法三\n",
    "from collections import OrderedDict\n",
    "net = nn.Sequential(OrderedDict([\n",
    "    ('linear', nn.Linear(num_inputs, 1))\n",
    "    # ...\n",
    "]))\n",
    "print(net)\n",
    "print(net[0])"
   ]
  },
  {
   "cell_type": "code",
   "execution_count": null,
   "id": "5697b32e",
   "metadata": {},
   "outputs": [],
   "source": [
    "for param in net.parameters():\n",
    "    print(param)"
   ]
  },
  {
   "cell_type": "markdown",
   "id": "b31d4841",
   "metadata": {},
   "source": [
    "### 3.3.4 初始化模型参数"
   ]
  },
  {
   "cell_type": "code",
   "execution_count": null,
   "id": "4b31936d",
   "metadata": {},
   "outputs": [],
   "source": [
    "from torch.nn import init\n",
    "\n",
    "init.normal_(net[0].weight, mean=0.0, std=0.01)\n",
    "init.constant_(net[0].bias, val=0.0) # 也可直接修改bias的data, net[0].bias.data.fill_(0)"
   ]
  },
  {
   "cell_type": "code",
   "execution_count": null,
   "id": "32d9907c",
   "metadata": {},
   "outputs": [],
   "source": [
    "for param in net.parameters():\n",
    "    print(param)"
   ]
  },
  {
   "cell_type": "markdown",
   "id": "31adb7ba",
   "metadata": {},
   "source": [
    "### 3.3.5 定义损失函数"
   ]
  },
  {
   "cell_type": "code",
   "execution_count": null,
   "id": "6858ac8c",
   "metadata": {},
   "outputs": [],
   "source": [
    "loss = nn.MSELoss()"
   ]
  },
  {
   "cell_type": "markdown",
   "id": "ad0ab48f",
   "metadata": {},
   "source": [
    "### 3.3.6 定义优化算法"
   ]
  },
  {
   "cell_type": "code",
   "execution_count": null,
   "id": "5b989e11",
   "metadata": {},
   "outputs": [],
   "source": [
    "import torch.optim as optim\n",
    "\n",
    "optimzer = optim.SGD(net.parameters(), lr=0.03)\n",
    "print(optimzer)"
   ]
  },
  {
   "cell_type": "code",
   "execution_count": null,
   "id": "57446106",
   "metadata": {},
   "outputs": [],
   "source": [
    "# 不同的子网设置不同的学习率\n",
    "# optimzer = optim.SGD([\n",
    "#     {'params': net.subnet1.parameters()}, #lr=0.03\n",
    "#     {'params': net.subnet2.parameters(), lr=0.01}\n",
    "#     ], lr=0.03)\n",
    "\n",
    "# for param_group in optimizer.param_groups:\n",
    "#     param_group['lr'] *= 0.1 # 学习率为之前的0.1倍"
   ]
  },
  {
   "cell_type": "markdown",
   "id": "44e2ef35",
   "metadata": {},
   "source": [
    "### 3.3.7 训练模型"
   ]
  },
  {
   "cell_type": "code",
   "execution_count": null,
   "id": "793f466d",
   "metadata": {},
   "outputs": [],
   "source": [
    "num_epochs = 3\n",
    "for epoch in range(num_epochs):\n",
    "    for X, y in data_iter:\n",
    "        output = net(X)\n",
    "        # 此处后面的1是确定要和output的保持一样\n",
    "        # 即labels是1维,这里就是(num, 1)\n",
    "        l = loss(output, y.view(-1, 1))\n",
    "        optimzer.zero_grad() # 梯度清零，等价于 net.zero_grad()\n",
    "        l.backward()\n",
    "        optimzer.step()\n",
    "    print('epoch %d, loss: %f' % (epoch, l.item()))"
   ]
  },
  {
   "cell_type": "code",
   "execution_count": null,
   "id": "5070b683",
   "metadata": {},
   "outputs": [],
   "source": [
    "dense = net[0]\n",
    "print(true_w, dense.weight.data)\n",
    "print(true_b, dense.bias.data)"
   ]
  }
 ],
 "metadata": {},
 "nbformat": 4,
 "nbformat_minor": 5
}
