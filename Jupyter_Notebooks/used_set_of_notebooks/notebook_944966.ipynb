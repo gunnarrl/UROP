{
 "cells": [
  {
   "cell_type": "markdown",
   "id": "b7d9843a",
   "metadata": {},
   "source": [
    "# Attitude Control System (ACS)\n",
    "\n",
    "This assignment is broken up into the following sections:\n",
    "\n",
    "* Mission Attitude Control modes\n",
    "* Selection of the ACS system-type\n",
    "* Minimum Thrust levels\n",
    "* Environmental Torques\n",
    "* System Performance"
   ]
  },
  {
   "cell_type": "markdown",
   "id": "ec16b766",
   "metadata": {},
   "source": [
    "## Mission Attitude Control modes\n",
    "\n",
    "The following control modes have been identified:\n",
    "\n",
    "1. **Science Mode** - Main mode of the system where scientific modules are used.\n",
    "    * Requires Nadir pointing\n",
    "    * All instruments are powered\n",
    "    \n",
    "2. **Data Transfer Mode** - Mode used to transfer data to/from Earth\n",
    "    * Power removed except Comms\n",
    "    * Used for large data xfers while still conserving power\n",
    "    \n",
    "3. **Energizing Mode** - Spacecraft is charging from the Sun's Rays\n",
    "    * Solar Arrays are pointed within a 5 degree maximum pointing error\n",
    "    * Systems are powered off to optimize charging rates/times"
   ]
  },
  {
   "cell_type": "markdown",
   "id": "1c0e96d9",
   "metadata": {},
   "source": [
    "## ACS System Type\n",
    "\n",
    "Based on the requirement identified, the three axis system appears to be the only system that will meet all requirements.  "
   ]
  },
  {
   "cell_type": "markdown",
   "id": "9747896b",
   "metadata": {},
   "source": [
    "## Thrust Levels"
   ]
  },
  {
   "cell_type": "markdown",
   "id": "36021e2d",
   "metadata": {},
   "source": [
    "## Environmental Torques"
   ]
  },
  {
   "cell_type": "code",
   "execution_count": null,
   "id": "deb6a010",
   "metadata": {},
   "outputs": [],
   "source": [
    "import math"
   ]
  },
  {
   "cell_type": "code",
   "execution_count": null,
   "id": "5834c658",
   "metadata": {},
   "outputs": [],
   "source": [
    "q = 0.6\n",
    "P_mars = 2.0 * 10 ** -6\n",
    "A_left = 7.6    # cm^2\n",
    "L_left = 131.2  # cm\n",
    "A_right = 6.3   # cm^2\n",
    "L_right = 126.1 # cm"
   ]
  },
  {
   "cell_type": "markdown",
   "id": "bd869384",
   "metadata": {},
   "source": [
    "### Solar Torques"
   ]
  },
  {
   "cell_type": "code",
   "execution_count": null,
   "id": "8370c82e",
   "metadata": {},
   "outputs": [],
   "source": [
    "def solar_torque(P, A, L, q):\n",
    "    \"\"\"\n",
    "    Calculates the solar torque (T) based on the Solar Pressure (P), spacecraft Area (A), \n",
    "    distance from centroid of surface A (L), and reflective factor (q)\n",
    "    \n",
    "    This function uses the following formula:\n",
    "        \n",
    "        T = P * A * L * (1 + q)\n",
    "    \n",
    "    \n",
    "    Parameters:\n",
    "    -----------\n",
    "    :param P: Solar Pressure of the orbiting planet (in W/m^2)\n",
    "    :param A: Area of the spacecraft side (in m^2)\n",
    "    :param L: Distance from the centroid of the surface A (in m)\n",
    "    :param q: Reflectance factor between 0 and 1\n",
    "    \"\"\"\n",
    "    if not 0 <= q <=1:\n",
    "        raise ValueError(\"q must be between 0 and 1\")\n",
    "    return P * A * L * (1 + q)"
   ]
  },
  {
   "cell_type": "code",
   "execution_count": null,
   "id": "7ae057f4",
   "metadata": {},
   "outputs": [],
   "source": [
    "T_right = solar_torque(P_mars, A_right / 100, L_right / 100, q)\n",
    "T_left = solar_torque(P_mars, A_left / 100, L_left / 100, q)"
   ]
  },
  {
   "cell_type": "code",
   "execution_count": null,
   "id": "d16e0192",
   "metadata": {},
   "outputs": [],
   "source": [
    "print(\"Total Torque = {}\".format(T_right + T_left))"
   ]
  },
  {
   "cell_type": "markdown",
   "id": "09edf5a3",
   "metadata": {},
   "source": [
    "### Magnetic Torques"
   ]
  },
  {
   "cell_type": "code",
   "execution_count": null,
   "id": "0e8655ac",
   "metadata": {},
   "outputs": [],
   "source": [
    "def magnetic_torque(D, B=None, M=None, r=None):\n",
    "    \"\"\"\n",
    "    Calculates the magnetic torque on a space craft orbiting a planetary object based on the \n",
    "    residule dipole (D) of the spacecraft and the planetary object's magnetic field (B).\n",
    "    \n",
    "    This function uses the following formula:\n",
    "    \n",
    "        T = 10e-7 * D * B\n",
    "        \n",
    "    Where:\n",
    "        \n",
    "        B = 2 * M / r^3\n",
    "        \n",
    "    If B isn't defined, it's assumed that M and r will be, otherwise a ValueError is raised.  \n",
    "    If B is defined, the function uses that value, even when M and/or r is defined.  \n",
    "    \n",
    "    Parameters:\n",
    "    -----------\n",
    "    :param D: Residual dipole of the spacecraft (in pole-cm)\n",
    "    :param B: Planetary object's magnetic field (in gauss)\n",
    "    :param M: Magnetic moment of the planetary object (in emu)\n",
    "    :param r: Spacecraft orbital radius (in cm)\n",
    "    \"\"\"\n",
    "    if B is None and (M is None or r is None):\n",
    "        raise ValueError(\"B or M and r must be defined!\")\n",
    "    \n",
    "    if B is None:\n",
    "        B = 2 * M / r ** 3\n",
    "        \n",
    "    return 10 ** -7 * D * B"
   ]
  },
  {
   "cell_type": "code",
   "execution_count": null,
   "id": "0e06acb9",
   "metadata": {},
   "outputs": [],
   "source": [
    "mars_r = 3.397  # km\n",
    "mars_orbit_dist = .400 # km"
   ]
  },
  {
   "cell_type": "code",
   "execution_count": null,
   "id": "a5fc46ed",
   "metadata": {},
   "outputs": [],
   "source": [
    "mars_B_o = 5 * 10**-8\n",
    "mars_r_o = mars_r * 10 ** 8\n",
    "r = mars_r + mars_orbit_dist * 10 ** 8\n",
    "B = (mars_B_o * mars_r_o ** 3) / (r ** 3) * math.sqrt((3 * math.sin(0)**2 + 1))"
   ]
  },
  {
   "cell_type": "code",
   "execution_count": null,
   "id": "10ff363c",
   "metadata": {},
   "outputs": [],
   "source": [
    "B"
   ]
  },
  {
   "cell_type": "code",
   "execution_count": null,
   "id": "6f2fac0c",
   "metadata": {},
   "outputs": [],
   "source": [
    "T_m_left = magnetic_torque(A_left, B)\n",
    "T_m_right = magnetic_torque(A_right, B)\n",
    "print(T_m_left, T_m_right)"
   ]
  },
  {
   "cell_type": "code",
   "execution_count": null,
   "id": "68255157",
   "metadata": {},
   "outputs": [],
   "source": [
    "T_m_right < T_right and T_m_left < T_left"
   ]
  },
  {
   "cell_type": "markdown",
   "id": "ff1abb70",
   "metadata": {},
   "source": [
    "Since both the magnetic torques are less than the solar torques, their sum is also less.  "
   ]
  },
  {
   "cell_type": "markdown",
   "id": "aeb33407",
   "metadata": {},
   "source": [
    "### Gravitational Gradient Torques"
   ]
  },
  {
   "cell_type": "code",
   "execution_count": null,
   "id": "ba29714b",
   "metadata": {},
   "outputs": [],
   "source": [
    "def gravity_gradient_torque(u, r, I_z, I_y, theta):\n",
    "    return 3 * u / r ** 3 * abs(I_z - I_y) * theta"
   ]
  },
  {
   "cell_type": "code",
   "execution_count": null,
   "id": "b9310e45",
   "metadata": {},
   "outputs": [],
   "source": [
    "mars_u = 324858.8\n",
    "T_g = gravity_gradient_torque(mars_u, r, L_left / 100, L_right / 100, math.pi / 4)"
   ]
  },
  {
   "cell_type": "code",
   "execution_count": null,
   "id": "118c1845",
   "metadata": {},
   "outputs": [],
   "source": [
    "T_g"
   ]
  },
  {
   "cell_type": "code",
   "execution_count": null,
   "id": "a4959a90",
   "metadata": {},
   "outputs": [],
   "source": [
    "T_g < T_left and T_g < T_right"
   ]
  },
  {
   "cell_type": "markdown",
   "id": "fce70620",
   "metadata": {},
   "source": [
    "Gravitational gradient torque calculated is significantly less than the two solar torques and therefore less than their total."
   ]
  },
  {
   "cell_type": "markdown",
   "id": "edaf6672",
   "metadata": {},
   "source": [
    "## System Performance"
   ]
  }
 ],
 "metadata": {},
 "nbformat": 4,
 "nbformat_minor": 5
}
