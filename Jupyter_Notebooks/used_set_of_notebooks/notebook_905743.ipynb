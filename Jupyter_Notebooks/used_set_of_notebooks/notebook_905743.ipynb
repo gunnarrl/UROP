{
 "cells": [
  {
   "cell_type": "markdown",
   "id": "c182e131",
   "metadata": {},
   "source": [
    "---\n",
    "\n",
    "_You are currently looking at **version 1.2** of this notebook. To download notebooks and datafiles, as well as get help on Jupyter notebooks in the Coursera platform, visit the [Jupyter Notebook FAQ](https://www.coursera.org/learn/python-data-analysis/resources/0dhYG) course resource._\n",
    "\n",
    "---"
   ]
  },
  {
   "cell_type": "markdown",
   "id": "9aeae217",
   "metadata": {},
   "source": [
    "# Assignment 2 - Pandas Introduction\n",
    "All questions are weighted the same in this assignment.\n",
    "## Part 1\n",
    "The following code loads the olympics dataset (olympics.csv), which was derrived from the Wikipedia entry on [All Time Olympic Games Medals](https://en.wikipedia.org/wiki/All-time_Olympic_Games_medal_table), and does some basic data cleaning. \n",
    "\n",
    "The columns are organized as # of Summer games, Summer medals, # of Winter games, Winter medals, total # number of games, total # of medals. Use this dataset to answer the questions below."
   ]
  },
  {
   "cell_type": "code",
   "execution_count": null,
   "id": "83b3b704",
   "metadata": {},
   "outputs": [],
   "source": [
    "import pandas as pd\n",
    "\n",
    "df = pd.read_csv('olympics.csv', index_col=0, skiprows=1)\n",
    "\n",
    "for col in df.columns:\n",
    "    if col[:2]=='01':\n",
    "        df.rename(columns={col:'Gold'+col[4:]}, inplace=True)\n",
    "    if col[:2]=='02':\n",
    "        df.rename(columns={col:'Silver'+col[4:]}, inplace=True)\n",
    "    if col[:2]=='03':\n",
    "        df.rename(columns={col:'Bronze'+col[4:]}, inplace=True)\n",
    "    if col[:1]=='№':\n",
    "        df.rename(columns={col:'#'+col[1:]}, inplace=True)\n",
    "\n",
    "names_ids = df.index.str.split('\\s\\(') # split the index by '('\n",
    "\n",
    "df.index = names_ids.str[0] # the [0] element is the country name (new index) \n",
    "df['ID'] = names_ids.str[1].str[:3] # the [1] element is the abbreviation or ID (take first 3 characters from that)\n",
    "\n",
    "df = df.drop('Totals')\n",
    "df.head()"
   ]
  },
  {
   "cell_type": "markdown",
   "id": "fcb0001e",
   "metadata": {},
   "source": [
    "### Question 0 (Example)\n",
    "\n",
    "What is the first country in df?\n",
    "\n",
    "*This function should return a Series.*"
   ]
  },
  {
   "cell_type": "code",
   "execution_count": null,
   "id": "739ed0b1",
   "metadata": {},
   "outputs": [],
   "source": [
    "# You should write your whole answer within the function provided. The autograder will call\n",
    "# this function and compare the return value against the correct solution value\n",
    "def answer_zero():\n",
    "    # This function returns the row for Afghanistan, which is a Series object. The assignment\n",
    "    # question description will tell you the general format the autograder is expecting\n",
    "    return df.iloc[0]\n",
    "\n",
    "# You can examine what your function returns by calling it in the cell. If you have questions\n",
    "# about the assignment formats, check out the discussion forums for any FAQs\n",
    "answer_zero() "
   ]
  },
  {
   "cell_type": "markdown",
   "id": "23d1a216",
   "metadata": {},
   "source": [
    "### Question 1\n",
    "Which country has won the most gold medals in summer games?\n",
    "\n",
    "*This function should return a single string value.*"
   ]
  },
  {
   "cell_type": "code",
   "execution_count": null,
   "id": "6c9db93d",
   "metadata": {},
   "outputs": [],
   "source": [
    "def answer_one():\n",
    "    return df[df['Gold'] == max(df['Gold'])].iloc[0].name"
   ]
  },
  {
   "cell_type": "code",
   "execution_count": null,
   "id": "3501ed8f",
   "metadata": {},
   "outputs": [],
   "source": [
    "answer_one()"
   ]
  },
  {
   "cell_type": "markdown",
   "id": "d59c82ba",
   "metadata": {},
   "source": [
    "### Question 2\n",
    "Which country had the biggest difference between their summer and winter gold medal counts?\n",
    "\n",
    "*This function should return a single string value.*"
   ]
  },
  {
   "cell_type": "code",
   "execution_count": null,
   "id": "47fc460e",
   "metadata": {},
   "outputs": [],
   "source": [
    "def answer_two():\n",
    "    return df.loc[(df['Gold'] - df['Gold.1']).idxmax()].name"
   ]
  },
  {
   "cell_type": "code",
   "execution_count": null,
   "id": "6c1300a0",
   "metadata": {},
   "outputs": [],
   "source": [
    "answer_two()"
   ]
  },
  {
   "cell_type": "markdown",
   "id": "fd2e5d98",
   "metadata": {},
   "source": [
    "### Question 3\n",
    "Which country has the biggest difference between their summer gold medal counts and winter gold medal counts relative to their total gold medal count? \n",
    "\n",
    "$$\\frac{Summer~Gold - Winter~Gold}{Total~Gold}$$\n",
    "\n",
    "Only include countries that have won at least 1 gold in both summer and winter.\n",
    "\n",
    "*This function should return a single string value.*"
   ]
  },
  {
   "cell_type": "code",
   "execution_count": null,
   "id": "f74e835a",
   "metadata": {},
   "outputs": [],
   "source": [
    "def answer_three():\n",
    "    df_1 = df[(df['Gold']>=1) & (df['Gold.1']>=1)]\n",
    "    return df_1.loc[(abs(df_1['Gold'].astype('f') - df_1['Gold.1'].astype('f'))/df_1['Gold.2'].astype('f')).idxmax()].name"
   ]
  },
  {
   "cell_type": "code",
   "execution_count": null,
   "id": "3000f709",
   "metadata": {},
   "outputs": [],
   "source": [
    "abs(-1)"
   ]
  },
  {
   "cell_type": "code",
   "execution_count": null,
   "id": "f688065d",
   "metadata": {},
   "outputs": [],
   "source": [
    "answer_three()"
   ]
  },
  {
   "cell_type": "markdown",
   "id": "d5ff56cc",
   "metadata": {},
   "source": [
    "### Question 4\n",
    "Write a function that creates a Series called \"Points\" which is a weighted value where each gold medal (`Gold.2`) counts for 3 points, silver medals (`Silver.2`) for 2 points, and bronze medals (`Bronze.2`) for 1 point. The function should return only the column (a Series object) which you created.\n",
    "\n",
    "*This function should return a Series named `Points` of length 146*"
   ]
  },
  {
   "cell_type": "code",
   "execution_count": null,
   "id": "5807dc1e",
   "metadata": {},
   "outputs": [],
   "source": [
    "def answer_four():\n",
    "    points = df['Gold.2']*3 + df['Silver.2']*2 + df['Bronze.2']*1\n",
    "    points.rename('Points', inplace=True)\n",
    "    return points"
   ]
  },
  {
   "cell_type": "code",
   "execution_count": null,
   "id": "bbeb62b3",
   "metadata": {},
   "outputs": [],
   "source": [
    "answer_four()"
   ]
  },
  {
   "cell_type": "markdown",
   "id": "b4ad4618",
   "metadata": {},
   "source": [
    "## Part 2\n",
    "For the next set of questions, we will be using census data from the [United States Census Bureau](http://www.census.gov/popest/data/counties/totals/2015/CO-EST2015-alldata.html). Counties are political and geographic subdivisions of states in the United States. This dataset contains population data for counties and states in the US from 2010 to 2015. [See this document](http://www.census.gov/popest/data/counties/totals/2015/files/CO-EST2015-alldata.pdf) for a description of the variable names.\n",
    "\n",
    "The census dataset (census.csv) should be loaded as census_df. Answer questions using this as appropriate.\n",
    "\n",
    "### Question 5\n",
    "Which state has the most counties in it? (hint: consider the sumlevel key carefully! You'll need this for future questions too...)\n",
    "\n",
    "*This function should return a single string value.*"
   ]
  },
  {
   "cell_type": "code",
   "execution_count": null,
   "id": "5a50fa7f",
   "metadata": {},
   "outputs": [],
   "source": [
    "census_df = pd.read_csv('census.csv')\n",
    "census_df.head()"
   ]
  },
  {
   "cell_type": "code",
   "execution_count": null,
   "id": "901c2ff9",
   "metadata": {},
   "outputs": [],
   "source": [
    "def answer_five():\n",
    "    census_df_50 = census_df[census_df['SUMLEV'] == 50]\n",
    "    #census_df_50 = census_df_50.reset_index()\n",
    "    #census_df_50 = census_df_50.set_index(['STNAME'])\n",
    "    census_df_50 = census_df_50.groupby(['STNAME']).sum()\n",
    "    \n",
    "    return census_df_50.loc[census_df_50['COUNTY'].idxmax()].name"
   ]
  },
  {
   "cell_type": "code",
   "execution_count": null,
   "id": "d8176dd4",
   "metadata": {},
   "outputs": [],
   "source": [
    "answer_five()"
   ]
  },
  {
   "cell_type": "markdown",
   "id": "a155527d",
   "metadata": {},
   "source": [
    "### Question 6\n",
    "Only looking at the three most populous counties for each state, what are the three most populous states (in order of highest population to lowest population)? Use `CENSUS2010POP`.\n",
    "\n",
    "*This function should return a list of string values.*"
   ]
  },
  {
   "cell_type": "code",
   "execution_count": null,
   "id": "e4a20a54",
   "metadata": {},
   "outputs": [],
   "source": [
    "def answer_six():\n",
    "    census_df_50 = census_df[census_df['SUMLEV'] == 50]\n",
    "    census_df_50 = census_df_50.groupby(['STNAME'])['CENSUS2010POP'].nlargest(3)\n",
    "    census_df_50 = census_df_50.reset_index()\n",
    "    census_df_50 = census_df_50.groupby(['STNAME']).sum()\n",
    "    census_df_50= census_df_50.sort(['CENSUS2010POP'], ascending=False)[:3]\n",
    "    return list(census_df_50.index)"
   ]
  },
  {
   "cell_type": "code",
   "execution_count": null,
   "id": "8179a37d",
   "metadata": {},
   "outputs": [],
   "source": [
    "answer_six()"
   ]
  },
  {
   "cell_type": "markdown",
   "id": "aff38052",
   "metadata": {},
   "source": [
    "### Question 7\n",
    "Which county has had the largest absolute change in population within the period 2010-2015? (Hint: population values are stored in columns POPESTIMATE2010 through POPESTIMATE2015, you need to consider all six columns.)\n",
    "\n",
    "e.g. If County Population in the 5 year period is 100, 120, 80, 105, 100, 130, then its largest change in the period would be |130-80| = 50.\n",
    "\n",
    "*This function should return a single string value.*"
   ]
  },
  {
   "cell_type": "code",
   "execution_count": null,
   "id": "639674ea",
   "metadata": {},
   "outputs": [],
   "source": [
    "def answer_seven():\n",
    "    census_df_50 = census_df[census_df['SUMLEV'] == 50]\n",
    "    #census_df_50 = census_df_50.reset_index()\n",
    "    #census_df_50 = census_df_50.set_index(['STNAME'])\n",
    "    col_list = ['POPESTIMATE2010', 'POPESTIMATE2011','POPESTIMATE2012','POPESTIMATE2013','POPESTIMATE2014', 'POPESTIMATE2015']\n",
    "    census_df_50 = census_df_50.groupby(['CTYNAME']).sum()\n",
    "    \n",
    "    census_df_50['POPE_DIFF_ABS'] = census_df_50[col_list].max(axis=1) - census_df_50[col_list].min(axis=1) \n",
    "    #census_df_50 = census_df_50.sort(['POPE_DIFF_ABS'], ascending=False).iloc[0]\n",
    "    return census_df_50.loc[census_df_50['POPE_DIFF_ABS'].idxmax()].name"
   ]
  },
  {
   "cell_type": "code",
   "execution_count": null,
   "id": "9d5b706f",
   "metadata": {},
   "outputs": [],
   "source": [
    "answer_seven()"
   ]
  },
  {
   "cell_type": "markdown",
   "id": "37afc866",
   "metadata": {},
   "source": [
    "### Question 8\n",
    "In this datafile, the United States is broken up into four regions using the \"REGION\" column. \n",
    "\n",
    "Create a query that finds the counties that belong to regions 1 or 2, whose name starts with 'Washington', and whose POPESTIMATE2015 was greater than their POPESTIMATE 2014.\n",
    "\n",
    "*This function should return a 5x2 DataFrame with the columns = ['STNAME', 'CTYNAME'] and the same index ID as the census_df (sorted ascending by index).*"
   ]
  },
  {
   "cell_type": "code",
   "execution_count": null,
   "id": "9e6e2ba1",
   "metadata": {},
   "outputs": [],
   "source": [
    "def answer_eight():\n",
    "    census_df_50 = census_df[census_df['SUMLEV'] == 50]\n",
    "    census_df_50 = census_df_50[(census_df_50['REGION'] == 1) |(census_df_50['REGION'] == 2 )]\n",
    "    census_df_50 = census_df_50[census_df_50['CTYNAME'].str.startswith('Washington')]\n",
    "    census_df_50 = census_df_50[census_df_50['POPESTIMATE2015'] > census_df_50['POPESTIMATE2014'] ]\n",
    "    return census_df_50.filter(items=['STNAME', 'CTYNAME'])"
   ]
  },
  {
   "cell_type": "code",
   "execution_count": null,
   "id": "04f56877",
   "metadata": {},
   "outputs": [],
   "source": [
    "answer_eight()"
   ]
  }
 ],
 "metadata": {},
 "nbformat": 4,
 "nbformat_minor": 5
}
