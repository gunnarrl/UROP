{
 "cells": [
  {
   "cell_type": "markdown",
   "id": "6abd4d99",
   "metadata": {},
   "source": [
    "##Model project\n",
    "Formal definition of model"
   ]
  },
  {
   "cell_type": "markdown",
   "id": "20d2d249",
   "metadata": {},
   "source": [
    "\n",
    "$\\textbf{Preferences}$<br>\n",
    "Agents in this economic environment lives for 2 periods: young and old generations.<br>\n",
    "Therefor we account for 2 types of households: $N_y$ young households and $N_o$ old households.<br>\n",
    "These households value consumption according to when they are young or old: $c_y$ and $c_o$.<br>\n",
    "The agents discount time with factor $\\beta$.<br>\n",
    "Their preferences are given by this utility function: $u_t(c_t)$. This implies the following life-time utility as:<br>\n",
    "$\\begin{align}\n",
    "    V(c_y , c_o)=u(c_y)+\\beta \\cdot u(c_o)\n",
    "\\end{align}$<br>\n",
    "$\\textbf{Technology}$ <br>\n",
    "Firms produce output Y using input capital K nad labour L. Therefore the production function is as follows:<br>\n",
    "$\\begin{align}\n",
    "    Y=F(K,L) = AK^\\alpha L^{(1-\\alpha)}\n",
    "\\end{align}$<br>\n",
    "For firms profit maximization they use:<br>\n",
    "$\\begin{align}\n",
    "    \\underset{K,L}{MAX}(F(K,L)-wL-rK)\n",
    "\\end{align}$<br>\n",
    "Where w and r are the factor prizes for labour and capital.<br>\n",
    "$\\textbf{Government}$<br>\n",
    "The government collects taxes on labour, $\\tau_L$ and on capital, $\\tau_K$.<br>\n",
    "$\\textbf{Household problem}$<br>\n",
    "Households maximize utility subject to their budget constraint in each period as following:<br>\n",
    "$\\begin{align}\n",
    "\\underset{c_y, c_o}{max}(u(c_y)+\\beta \\cdot u(c_o)) \\quad s.t. \\quad c_y + s = (1-\\tau_L)w+T_y\\\\\n",
    "c_o = Rs+T_o\n",
    "\\end{align}$<br>\n",
    "Where $R=(1+(1-\\tau_K)r)$ and is the variabel for tax' gross interest rate.<br>\n",
    "The government's budget constraint clears market if:<br>\n",
    "$\\begin{align}\n",
    "    K=S=N_y \\cdot s^*\\\\\n",
    "    ARC : C + S + G = Y + (1-\\delta)K\n",
    "\\end{align}$<br>\n",
    "Step 1: Substitute the budget set into preferences.<br>\n",
    "$\\begin{align}\n",
    "    max_s \\quad ln((1-\\tau_L)w+T_y-s)+\\beta ln(Rs+T_0)\n",
    "\\end{align}$<br>\n",
    "This is now a function containing one unknown variable, s.\n",
    "We can now derive this function with respect to s:<br>\n",
    "$\\begin{align}\n",
    "\\frac{\\partial V}{\\partial s} = 0 \\Leftrightarrow \\frac{1}{(1-\\tau_L)w+T_y-s} = \\frac{\\beta R}{Rs-T_0}\n",
    "\\end{align}$<br>\n",
    "Step 2: Solve for optimal household savings $s^* $.<br>\n",
    "$\\begin{align}\n",
    "    s^* = \\frac{\\beta R((1-\\tau_L)w+T_y)-T_o}{(1+\\beta)R}\n",
    "\\end{align}$<br>\n",
    "In equilibrium household savings equals the capital stock, S=K.<br>\n",
    "Therefore aggregate capital stock is: $K=S=N_y\\cdot s^*$<br>\n",
    "Using the following equation system we can solve for a steady state equilibrium:<br>\n",
    "Assuming L=1 we have the following unknown variables: K, Y, R, w and q.<br>\n",
    "$\\begin{align}\n",
    "    K=N_ys^* = N_y \\frac{\\beta R((1-\\tau_L)w+T_y)-T_o}{(1+\\beta)R}\\\\\n",
    "    \\alpha \\cdot \\frac{Y}{K}=q\\\\\n",
    "    (1-\\alpha)\\cdot \\frac{Y}{L} = w\\\\\n",
    "    F(K,L) = AK^\\alpha L^{(1-\\alpha)}\n",
    "\\end{align}$<br>\n",
    "Tryin to solve this we initially assume that government is completely exogenous.<br>\n",
    "Note: we see that L = 1 since L = $N_y * l$ and we know that $l$ and $N_y$ are both equal to 1.\n",
    "-Substitute Y out and get q(K) and w(K).<br>\n",
    "Using q(K) in R gives R(K).<br>\n",
    "$\\begin{align}\n",
    "    w=(1-\\alpha)\\cdot AK^\\alpha R=1+(1-\\tau_K)(\\alpha\\cdot AK^{\\alpha-1}-\\delta)\n",
    "\\end{align}$<br>\n",
    "plug then w(K) and R(K) into the equation of K:<br>\n",
    "$\\begin{equation}\n",
    "K = N_y \\frac{\\beta (1+(1-\\tau_K) (\\alpha * AK^{\\alpha - 1} - \\delta))((1-\\alpha)*AK^\\alpha) + t_y) - t_0}{(1+\\beta)(1+(1-\\tau_K)(\\alpha AK^{\\alpha - 1}-\\delta))}\n",
    "\\end{equation}$<br>\n",
    "In order to find the root of this function we initially have to set the parameters for the model.<br>\n",
    "$N_y=N_o=1, \\quad \\alpha=0.3,\n",
    "A=1, \\quad \\beta=0.9, \\quad \\delta=0.1$<br>\n",
    "It was assumed that government was exogenous, thus these are the government parameters<br>\n",
    "$\\tau_L=0.40, \\quad \\tau_K=0.25, \\quad T_y=T_o=0$<br>\n",
    "Then solve for $K^*$ and make sure that the market clears by aggregate resource constraint(ARC):<br>\n",
    "$\\begin{align}\n",
    "    C+N_y\\cdot s+G=Y+(1-\\delta)K\n",
    "\\end{align}$<br>\n",
    "\n",
    "${Gauss-seidl}$<br>\n",
    "Instead of using substitution and then solving for one equation with one unknown we will use the Gauss-Seidl algorithm.<br>\n",
    "The first step is to start with a guess for the capital $K_{old}$\n",
    "<br>\n",
    "The second step is to solve for the prices $w, R, q$\n",
    "<br>\n",
    "\\begin{equation}\n",
    "$w = (1-\\alpha)*K^\\alpha_{old} * L^{-\\alpha}$\n",
    "\\end{equation}<br>\n",
    "\\begin{equation}\n",
    "$R = 1 + (1 - \\tau_K)*(q-\\delta)$\n",
    "\\end{equation}<br>\n",
    "\\begin{equation}\n",
    "$q = \\alpha * A * K^{\\alpha - 1}_{old} *  L^{1-\\alpha}$\n",
    "\\end{equation}<br>\n",
    "The third step is to solve for the optimal household savings $s^{*}$ <br>\n",
    "\\begin{equation}\n",
    "$s^* = N_y \\frac{\\beta R ((1-\\tau_L)w+t_y)-t_0}{(1+\\beta )R}$\n",
    "\\end{equation}<br>\n",
    "The fourth step is to aggregate over all households to get the new capital $K_{new}$<br>\n",
    "\\begin{equation}\n",
    "$K_{new}  = N_y * s^*$\n",
    "\\end{equation}<br>\n",
    "The fifth step is to then calculate the error term and see if the algorithm has converged.<br>\n",
    "\\begin{equation}\n",
    "$Error = \\frac{K_{old} - K_{new}}{K_{old}}$\n",
    "\\end{equation}<br>\n",
    "The sixth and last step is to update the old capital $K_{old} = K_{new} * \\lambda + K_{old} * (1- \\lambda)$ and then repeat the process from the second step. $\\lambda$ is an updating parameter between 0 and 1.\n",
    "\n"
   ]
  },
  {
   "cell_type": "markdown",
   "id": "0a4c00b2",
   "metadata": {},
   "source": [
    "##Introducing taxes in a overlapping generations model"
   ]
  },
  {
   "cell_type": "code",
   "execution_count": null,
   "id": "3399c6c9",
   "metadata": {},
   "outputs": [],
   "source": [
    "import numpy as np\n",
    "import matplotlib.pyplot as plt\n",
    "import math as m\n",
    "from scipy import stats as st\n",
    "from scipy.optimize import fsolve\n",
    "import time     \n",
    "\n",
    "plt.close('all')  # close all open figures"
   ]
  },
  {
   "cell_type": "markdown",
   "id": "e1c95c2f",
   "metadata": {},
   "source": [
    "#Model parameters\n",
    "From our equation K we have one function which can be solved using a root-finding algirithm. To do so, we first set the parameters of the model such that we can solve numerically."
   ]
  },
  {
   "cell_type": "code",
   "execution_count": null,
   "id": "4ec61504",
   "metadata": {},
   "outputs": [],
   "source": [
    "N_young     = 1.0\n",
    "N_old     = 1.0\n",
    "alpha   = 0.3\n",
    "A       = 1\n",
    "beta    = 0.9\n",
    "delta   = 0.0\n",
    "tau_L   = 0.0\n",
    "tau_K   = 0.0\n",
    "t_y     = 0.0\n",
    "t_o     = 0.0\n",
    "#\n",
    "L       = 1"
   ]
  },
  {
   "cell_type": "markdown",
   "id": "4ae53adb",
   "metadata": {},
   "source": [
    "##Finding model steady state parameters with root-seeking algorithm (without taxes)"
   ]
  },
  {
   "cell_type": "code",
   "execution_count": null,
   "id": "02db9873",
   "metadata": {},
   "outputs": [],
   "source": [
    "#We essentially want to find x so that f(x) = 0 by defining a function of capital K so that func(K) = 0\n",
    "def func(K):\n",
    "    s = - K + N_young\\\n",
    "    *((beta*(1+(1-tau_K)*(alpha*A*K**(alpha-1) - delta))* \\\n",
    "    ((1-tau_L)*((1-alpha)*A*K**alpha) + t_y) - t_o) \\\n",
    "    /((1+beta)*(1. + (1-tau_K)*(alpha*A*K**(alpha-1) - delta))))\n",
    "\n",
    "    return s"
   ]
  },
  {
   "cell_type": "code",
   "execution_count": null,
   "id": "d67e4a8e",
   "metadata": {},
   "outputs": [],
   "source": [
    "#now, plotting s to see if there are any roots\n",
    "minimumK = 0.0001\n",
    "maximumK = 0.3\n",
    "\n",
    "# Span grid with gridpoints between minimumK and maximumK (kapital times life-time utility)\n",
    "Kv = np.linspace(minimumK, maximumK, 200)\n",
    "\n",
    "# Output vector prefilled with zeros\n",
    "fKv = np.zeros(len(Kv),float) # define column vector\n",
    "\n",
    "for i,K in enumerate(Kv):\n",
    "    fKv[i] = func(K)\n",
    "\n",
    "#print(\"fK=\", fK) to show the graphically (and numerical) solution to K, which is found to be approximately 0.15.\n",
    "# To solve"
   ]
  },
  {
   "cell_type": "code",
   "execution_count": null,
   "id": "81da8c28",
   "metadata": {},
   "outputs": [],
   "source": [
    "#By plotting capital (0,0001;0,3) and the output vector of zeros, we show that our model has a root.\n",
    "#It is also possible to see the approximate level of capital (0,20)\n",
    "fig, ax = plt.subplots()\n",
    "ax.plot(Kv, fKv, \"m\")\n",
    "# Plot horizontal line at zero in red\n",
    "ax.plot(Kv, np.zeros(len(Kv)), 'b')\n",
    "ax.set_title('Capital')\n",
    "plt.show()"
   ]
  },
  {
   "cell_type": "code",
   "execution_count": null,
   "id": "d466bc39",
   "metadata": {},
   "outputs": [],
   "source": [
    "# We will be using the built in fsolve as a root-search-algorithm. \n",
    "# Note that Kstar is a numpy array. To print the result we change Kstar to pure numbers \n",
    "# such that the output is printable. \n",
    "solutionK = fsolve(func, 2) # starting from K = 2\n",
    "Kstar = solutionK[0]\n",
    "Ystar = A*Kstar**alpha*L**(1-alpha)\n",
    "qstar = alpha*A*Kstar**(alpha-1)\n",
    "rstar = qstar - delta\n",
    "Rstar = 1. + (1-tau_K)*(qstar - delta)\n",
    "wstar = (1.-alpha)*A*Kstar**alpha"
   ]
  },
  {
   "cell_type": "code",
   "execution_count": null,
   "id": "7d36d93c",
   "metadata": {},
   "outputs": [],
   "source": [
    "#printing steady state values\n",
    "print(\"K* = {:6.4f}\".format(Kstar))\n",
    "print(\"Y* = {:6.4f}\".format(Ystar))\n",
    "print(\"q* = {:6.4f}\".format(qstar))\n",
    "print(\"r* = {:6.4f}\".format(rstar))\n",
    "print(\"R* = {:6.4f}\".format(Rstar))\n",
    "print(\"w* = {:6.4f}\".format(wstar))"
   ]
  },
  {
   "cell_type": "markdown",
   "id": "d5b1758e",
   "metadata": {},
   "source": [
    "#To ensure that all resources in the economy is allocated and that the solution is correct, \n",
    "we check if the Aggregate resource constraint holds (should be equal to zero)"
   ]
  },
  {
   "cell_type": "code",
   "execution_count": null,
   "id": "543ad58b",
   "metadata": {},
   "outputs": [],
   "source": [
    "sstar = Kstar/N_young\n",
    "cystar= (1.-tau_L)*wstar + t_y - sstar\n",
    "costar= Rstar*sstar + t_o\n",
    "\n",
    "# Residual gov't consumption, thrown in the ocean\n",
    "Gstar = N_young*tau_L*wstar + N_old*tau_K*rstar*sstar\n",
    "\n",
    "# Aggregate consumption\n",
    "Cstar = N_young*cystar + N_old*costar\n",
    "\n",
    "# Check the goods market condition or Aggregate resource constraint\n",
    "ARC = Ystar - delta*Kstar - Cstar - Gstar"
   ]
  },
  {
   "cell_type": "code",
   "execution_count": null,
   "id": "2c0f4d59",
   "metadata": {},
   "outputs": [],
   "source": [
    "print(\"ARC = {:6.4f}\".format(ARC))"
   ]
  },
  {
   "cell_type": "markdown",
   "id": "fa8fb13f",
   "metadata": {},
   "source": [
    "##Finding model steady state parameters with root-seeking algorithm (with taxes)\n",
    "Now introducing a 40% labour tax and 25% capital tax to see how introduction of taxes affect the steady state values in the overlapping generations model"
   ]
  },
  {
   "cell_type": "code",
   "execution_count": null,
   "id": "615bc70d",
   "metadata": {},
   "outputs": [],
   "source": [
    "# From our equatuation K we have one fucntion which can be solved using a root-finding algirithm.\n",
    "# To do so, we first set the parameters of the model such that we can solve numerically. \n",
    "N_young     = 1.0\n",
    "N_old     = 1.0\n",
    "alpha   = 0.3\n",
    "A       = 1\n",
    "beta    = 0.9\n",
    "delta   = 0.0\n",
    "tau_L   = 0.4\n",
    "tau_K   = 0.25\n",
    "t_y     = 0.0\n",
    "t_o     = 0.0\n",
    "#\n",
    "L       = 1"
   ]
  },
  {
   "cell_type": "code",
   "execution_count": null,
   "id": "d78a997a",
   "metadata": {},
   "outputs": [],
   "source": [
    "#Method 1 - Substitution\n",
    "#We essentially want to find x so that f(x) = 0 by defining a function of capital K so that func(K) = 0\n",
    "def func(K):\n",
    "    s = - K + N_young\\\n",
    "    *((beta*(1+(1-tau_K)*(alpha*A*K**(alpha-1) - delta))* \\\n",
    "    ((1-tau_L)*((1-alpha)*A*K**alpha) + t_y) - t_o) \\\n",
    "    /((1+beta)*(1. + (1-tau_K)*(alpha*A*K**(alpha-1) - delta))))\n",
    "\n",
    "    return s"
   ]
  },
  {
   "cell_type": "code",
   "execution_count": null,
   "id": "eff3739d",
   "metadata": {},
   "outputs": [],
   "source": [
    "#now, plotting s to see if there are any roots\n",
    "minimumK = 0.0001\n",
    "maximumK = 0.3\n",
    "\n",
    "# Span grid with gridpoints between minimumK and maximumK (kapital times life-time utility)\n",
    "Kv = np.linspace(minimumK, maximumK, 200)\n",
    "\n",
    "# Output vector prefilled with zeros\n",
    "fKv = np.zeros(len(Kv),float) # define column vector\n",
    "\n",
    "for i,K in enumerate(Kv):\n",
    "    fKv[i] = func(K)\n",
    "\n",
    "#print(\"fK=\", fK) to show the graphically (and numerical) solution to K, which is found to be approximately 0.15.\n",
    "# To solve"
   ]
  },
  {
   "cell_type": "code",
   "execution_count": null,
   "id": "8591e811",
   "metadata": {},
   "outputs": [],
   "source": [
    "#By plotting capital (0,0001;0,3) and the output vector of zeros, we show that our model has a root.\n",
    "#It is also possible to see the approximate level of capital (0,10)\n",
    "fig, ax = plt.subplots()\n",
    "ax.plot(Kv, fKv, \"m\")\n",
    "# Plot horizontal line at zero in red\n",
    "ax.plot(Kv, np.zeros(len(Kv)), 'b')\n",
    "ax.set_title('Capital')\n",
    "plt.show()"
   ]
  },
  {
   "cell_type": "code",
   "execution_count": null,
   "id": "2831783f",
   "metadata": {},
   "outputs": [],
   "source": [
    "# We will be using the built in fsolve to root-search. \n",
    "#Note that Kstar is a numpy array. To print the result we change Kstar to pure numbers \n",
    "# such that the output is printable. \n",
    "solutionK = fsolve(func, 2) # starting from K = 2\n",
    "Kstar = solutionK[0]\n",
    "Ystar = A*Kstar**alpha*L**(1-alpha)\n",
    "qstar = alpha*A*Kstar**(alpha-1)\n",
    "rstar = qstar - delta\n",
    "Rstar = 1. + (1-tau_K)*(qstar - delta)\n",
    "wstar = (1.-alpha)*A*Kstar**alpha"
   ]
  },
  {
   "cell_type": "code",
   "execution_count": null,
   "id": "53426d41",
   "metadata": {},
   "outputs": [],
   "source": [
    "#printing steady state values\n",
    "print(\"K* = {:6.4f}\".format(Kstar))\n",
    "print(\"Y* = {:6.4f}\".format(Ystar))\n",
    "print(\"q* = {:6.4f}\".format(qstar))\n",
    "print(\"r* = {:6.4f}\".format(rstar))\n",
    "print(\"R* = {:6.4f}\".format(Rstar))\n",
    "print(\"w* = {:6.4f}\".format(wstar))"
   ]
  },
  {
   "cell_type": "code",
   "execution_count": null,
   "id": "3c1e2a05",
   "metadata": {},
   "outputs": [],
   "source": [
    "sstar = Kstar/N_young\n",
    "cystar= (1.-tau_L)*wstar + t_y - sstar\n",
    "costar= Rstar*sstar + t_o\n",
    "\n",
    "# Residual gov't consumption, thrown in the ocean\n",
    "Gstar = N_young*tau_L*wstar + N_old*tau_K*rstar*sstar\n",
    "\n",
    "# Aggregate consumption\n",
    "Cstar = N_young*cystar + N_old*costar\n",
    "\n",
    "# Check the goods market condition or Aggregate resource constraint\n",
    "ARC = Ystar - delta*Kstar - Cstar - Gstar"
   ]
  },
  {
   "cell_type": "code",
   "execution_count": null,
   "id": "8b2acf9a",
   "metadata": {},
   "outputs": [],
   "source": [
    "print(\"ARC = {:6.4f}\".format(ARC))"
   ]
  },
  {
   "cell_type": "markdown",
   "id": "1ee9d1fa",
   "metadata": {},
   "source": [
    "##Gauss - Seidel Algorithm\n",
    "Now solving the equaliblruim with taxes by creating a Gauss - Seidel Algorithm, a method of successive displacement which is an iterative method used to solve a linear system of equations."
   ]
  },
  {
   "cell_type": "code",
   "execution_count": null,
   "id": "d9a08ae9",
   "metadata": {},
   "outputs": [],
   "source": [
    "# Guess capital stock\n",
    "glambda  = 0.5   # updating parameter\n",
    "Kold    = 0.4\n",
    "jerror  = 100\n",
    "iter    = 1\n",
    "while (iter<200) or (jerror>0.001):\n",
    "    # Solve for prices using expressions for w(K) and q(K)\n",
    "    q = alpha*A*Kold**(alpha-1)\n",
    "    w = (1-alpha)*A*Kold**alpha\n",
    "    R = 1 + (1-tau_K)*(q - delta)\n",
    "    Knew = N_young* (beta*R*((1-tau_L)*w + t_y) - t_o)/((1+beta)*R)\n",
    "    \n",
    "    # Now calculating variation between old and new capital stock\n",
    "    jerror = abs(Kold-Knew)/Kold\n",
    "    # Update capital stock\n",
    "    Kold    = glambda*Knew + (1-glambda)*Kold\n",
    "    iter = iter +1"
   ]
  },
  {
   "cell_type": "code",
   "execution_count": null,
   "id": "214bd783",
   "metadata": {},
   "outputs": [],
   "source": [
    "Kstar = Knew\n",
    "Ystar = A*Kstar**alpha*L**(1-alpha)\n",
    "wstar = w\n",
    "qstar = q\n",
    "Rstar = R\n",
    "rstar = qstar - delta"
   ]
  },
  {
   "cell_type": "code",
   "execution_count": null,
   "id": "d39cfb18",
   "metadata": {},
   "outputs": [],
   "source": [
    "# Back out solutions for the rest of the Economy\n",
    "# Household values\n",
    "sstar = Kstar/N_young\n",
    "cystar= (1-tau_L)*wstar + t_y - sstar\n",
    "costar= Rstar*sstar + t_o\n",
    "\n",
    "# Residual government consumption\n",
    "Gstar = N_young*tau_L*wstar + N_old*tau_K*rstar*sstar\n",
    "\n",
    "# Aggregate consumption\n",
    "Cstar = N_young*cystar + N_old*costar\n",
    "\n",
    "# Check the goods market condition or Aggregate resource constraint. \n",
    "# If all resources are allocated, the ARC should hold. \n",
    "ARC = Ystar - delta*Kstar - Cstar - Gstar"
   ]
  },
  {
   "cell_type": "code",
   "execution_count": null,
   "id": "b23e350c",
   "metadata": {},
   "outputs": [],
   "source": [
    "#Printing steady state values\n",
    "print(\"K* = {:6.4f}\".format(Kstar))\n",
    "print(\"Y* = {:6.4f}\".format(Ystar))\n",
    "print(\"q* = {:6.4f}\".format(qstar))\n",
    "print(\"r* = {:6.4f}\".format(rstar))\n",
    "print(\"R* = {:6.4f}\".format(Rstar))\n",
    "print(\"w* = {:6.4f}\".format(wstar))"
   ]
  },
  {
   "cell_type": "code",
   "execution_count": null,
   "id": "5969c165",
   "metadata": {},
   "outputs": [],
   "source": [
    "#Checking if the aggregate resource contraint holds.\n",
    "print(\"ARC = {:6.4f}\".format(ARC))"
   ]
  },
  {
   "cell_type": "code",
   "execution_count": null,
   "id": "15490fd8",
   "metadata": {},
   "outputs": [],
   "source": [
    "print(\"Nr. of iterations = \" +str(iter))"
   ]
  },
  {
   "cell_type": "markdown",
   "id": "df2e89ec",
   "metadata": {},
   "source": [
    "##Conclusion\n",
    "Running the algorithm we see that introducing the taxation makes the young households relatively poor compared to the situation without taxes. This is as expected due to the definition of capital. We see that capital stock decreases such that savings must decrease as well. Hence, the introduction of the labour and capital tax is likely to harm all future generations. In that case the welfare effect on current generations is necessarily negative as well - a decrease in capital must imply a decrease in savings."
   ]
  }
 ],
 "metadata": {},
 "nbformat": 4,
 "nbformat_minor": 5
}
