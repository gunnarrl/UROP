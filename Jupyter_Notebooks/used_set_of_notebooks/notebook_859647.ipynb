{
 "cells": [
  {
   "cell_type": "code",
   "execution_count": null,
   "id": "8875662f",
   "metadata": {},
   "outputs": [],
   "source": [
    "# Before we start, load our environment\n",
    "%matplotlib inline\n",
    "import os\n",
    "import re\n",
    "import sys\n",
    "import argparse\n",
    "import csv\n",
    "from sklearn.ensemble import RandomForestClassifier\n",
    "import pandas as pd\n",
    "import numpy as np"
   ]
  },
  {
   "cell_type": "markdown",
   "id": "695a7cdc",
   "metadata": {},
   "source": [
    "# Read the organisms metadata.\n",
    "\n",
    "We have a file called `patric_metadata_20180526_isolation_host_env.tsv` that we want to parse. It has the columns `['genome_id', 'isolation_source', 'host_name', 'Environment]` and the main data that we want to classify against are host_name and Environment. Isolation_source is the original classification in PATRIC. Host_name is sparse - not everything has a host name."
   ]
  },
  {
   "cell_type": "code",
   "execution_count": null,
   "id": "d2a1da61",
   "metadata": {},
   "outputs": [],
   "source": [
    "def read_classifications(cf):\n",
    "    \"\"\"\n",
    "    Read the classifications file. We expect that this has 4 tab-separated values.\n",
    "    :param cf: the classifications file\n",
    "    :return: two dicts of the hostname and environment. Recall, not everything has a hostname\n",
    "    \"\"\"\n",
    "    hostname = {}\n",
    "    environment = {}\n",
    "    with open(cf, 'r') as f:\n",
    "        for l in f:\n",
    "            if l.startswith('genome_id'):\n",
    "                continue\n",
    "            p=l.strip().split(\"\\t\")\n",
    "            if p[2]:\n",
    "                hostname[\"PATRIC|{}\".format(p[0])] = p[2]\n",
    "            if p[3]:\n",
    "                environment[\"PATRIC|{}\".format(p[0])] = p[3]\n",
    "    return hostname, environment\n",
    "\n",
    "hostname, environment = read_classifications('patric_data/patric_metadata_isolation_host_env.tsv')                "
   ]
  },
  {
   "cell_type": "markdown",
   "id": "99a8744c",
   "metadata": {},
   "source": [
    "# Read the focus output tsv file\n",
    "\n",
    "We have a directory of focus output files that are compressed, and we parse those into a single .tsv file that has one genome per line and the columns are the metagenomes.\n",
    "\n",
    "We parse that into a datastructure automatically. Note that telling pandas we will use the first row as header (header = 0) and the first column as the index (index_col = 0) are key to later pandas magic.\n",
    "\n",
    "Note that our original file [metagenome_counts_20180625.tsv.gz](metagenome_counts_20180625.tsv.gz) is super huge - (28,705 by 18,920) and so we don't want to use that here. I wrote a [small script](create_dev_dataset.py) to pull out 100 metagenomes and all genomes that are not zero in those metagenomes. It chooses the 99 at random and you can also change the number of metagenomes selected. In my example, [dev_counts.tsv](dev_counts.tsv) the data set is (99 x 3,029) and so much, much faster!"
   ]
  },
  {
   "cell_type": "code",
   "execution_count": null,
   "id": "9e8ce656",
   "metadata": {},
   "outputs": [],
   "source": [
    "def read_focus_output(fof):\n",
    "    \"\"\"\n",
    "    :param fof: focus output file\n",
    "    :return: a pandas data frame with the data\n",
    "    \"\"\"\n",
    "    \n",
    "    df = pd.read_csv(fof, sep=\"\\t\", header=0, index_col=0,)\n",
    "    return df\n",
    "\n",
    "\n",
    "# NOTE: The following file is (28,705 x 18,920 and so takes a long time to read!)\n",
    "# focus = read_focus_output(\"metagenome_counts.tsv\")\n",
    "# this file is 3,029 genomes x 99 metagenomes\n",
    "focus = read_focus_output('example_data/dev_counts_sel.tsv')\n",
    "focus.head(10)"
   ]
  },
  {
   "cell_type": "code",
   "execution_count": null,
   "id": "3cba9e55",
   "metadata": {},
   "outputs": [],
   "source": [
    "focus['environment'] = pd.Series(environment)\n",
    "focus['hostname'] = pd.Series(hostname)"
   ]
  },
  {
   "cell_type": "code",
   "execution_count": null,
   "id": "da5c072d",
   "metadata": {},
   "outputs": [],
   "source": [
    "focus.head(10)"
   ]
  },
  {
   "cell_type": "code",
   "execution_count": null,
   "id": "1027a739",
   "metadata": {},
   "outputs": [],
   "source": [
    "# write this to a csv so I can get help!\n",
    "focus.to_csv(\"/home/redwards/Desktop/metagenomes_genomes.tsv\", sep=\"\\t\")"
   ]
  },
  {
   "cell_type": "markdown",
   "id": "d853a9d1",
   "metadata": {},
   "source": [
    "# NOTE: THIS IS WRONG!\n",
    "\n",
    "We want to classify the metagenomes by the genomes, not vice versa! We're doing it wrong here. SEE BELOW"
   ]
  },
  {
   "cell_type": "markdown",
   "id": "e5d94c68",
   "metadata": {},
   "source": [
    "# Extract the features that we want to use in our random forest\n",
    "\n",
    "Now that we have merged everything, we extract the column names of the features that we want to use in our random forest. This just creates an index of the species that we have. Note that if you use genus you will need to change the 492 to something else!"
   ]
  },
  {
   "cell_type": "code",
   "execution_count": null,
   "id": "ff6d7849",
   "metadata": {},
   "outputs": [],
   "source": [
    "features = focus.columns[:-2]"
   ]
  },
  {
   "cell_type": "markdown",
   "id": "dac16ac6",
   "metadata": {},
   "source": [
    "# Create test and training sets.\n",
    "\n",
    "For our classifier, we are going to use some part of the data to train the random forest classifier, and some part of the data to test it. We are going to make a new column that says whether it is testing or training, and populate it so that 75% of the data is training and 25% of the data is for testing. You can change those variables here. \n",
    "\n",
    "Note that in this example we are using the same data sets for training and testing. Before publication we should come up with sets of examplar metagenomes from each environment that we have manually curated and use those to train our classifiers."
   ]
  },
  {
   "cell_type": "code",
   "execution_count": null,
   "id": "93f5b030",
   "metadata": {},
   "outputs": [],
   "source": [
    "focus['is_train'] = np.random.uniform(0, 1, len(focus)) <= .75\n",
    "train, test = focus[focus['is_train']==True], focus[focus['is_train']==False]\n",
    "print(\"Data: {}\\nTraining: {}\\nTesting: {}\".format(focus.shape, train.shape, test.shape))"
   ]
  },
  {
   "cell_type": "markdown",
   "id": "815eac49",
   "metadata": {},
   "source": [
    "# Create a factorized list of environments\n",
    "\n",
    "The random forest requires the environments to just be a list of integers rather than labels, and so we use factorize to split out the labels and the indexes. This will be the input to our random forest classifier. Note that we are just using the training set here, not the whole data frame."
   ]
  },
  {
   "cell_type": "code",
   "execution_count": null,
   "id": "46788b2e",
   "metadata": {},
   "outputs": [],
   "source": [
    "envfactors, labels = pd.factorize(train['environment'])\n",
    "labels"
   ]
  },
  {
   "cell_type": "markdown",
   "id": "b05e8fe3",
   "metadata": {},
   "source": [
    "# Start a random classifier\n",
    "\n",
    "I leave most of this at the default (which is to use Gini as the measure of quality), and to bootstrap the trees."
   ]
  },
  {
   "cell_type": "code",
   "execution_count": null,
   "id": "5582ca23",
   "metadata": {},
   "outputs": [],
   "source": [
    "clf = RandomForestClassifier(n_jobs=-1)"
   ]
  },
  {
   "cell_type": "markdown",
   "id": "d8a40a72",
   "metadata": {},
   "source": [
    "# Train the random forest\n",
    "\n",
    "Now we train our random forest on the training data using just the features that we are looking for and with our factorized list of diagnoses"
   ]
  },
  {
   "cell_type": "code",
   "execution_count": null,
   "id": "3d03ce43",
   "metadata": {},
   "outputs": [],
   "source": [
    "clf.fit(train[features], envfactors)"
   ]
  },
  {
   "cell_type": "markdown",
   "id": "7e63e4bb",
   "metadata": {},
   "source": [
    "# Test our classifier using the test data set\n",
    "\n",
    "This makes predictions for each of the test data sets. For each sample we get a number depending on which environment we predict it is from.\n",
    "\n",
    "Then we convert those predictions to the appropriate labels. We now have an array of predictions the same length as our test data set."
   ]
  },
  {
   "cell_type": "code",
   "execution_count": null,
   "id": "ab5c5b7b",
   "metadata": {},
   "outputs": [],
   "source": [
    "clf.predict(test[features])\n",
    "predictions=labels[clf.predict(test[features])]\n",
    "predictions[0:10]"
   ]
  },
  {
   "cell_type": "markdown",
   "id": "df6eef43",
   "metadata": {},
   "source": [
    "And then we can compare those predictions to the test data set. As predicted we confuse 'human gut' with 'waste water'. Looks like we need a confusion matrix!"
   ]
  },
  {
   "cell_type": "code",
   "execution_count": null,
   "id": "10e7d7eb",
   "metadata": {},
   "outputs": [],
   "source": [
    "test.environment[0:10]"
   ]
  },
  {
   "cell_type": "markdown",
   "id": "a9f38c46",
   "metadata": {},
   "source": [
    "## Why is this wrong?\n",
    "\n",
    "In this random forest, we are predicting the source of the bacteria based on the environments that they come from ... i.e. we are around the wrong way.\n",
    "\n",
    "We want to predict the source of the environments based on the bacteria that they contain.\n"
   ]
  },
  {
   "cell_type": "markdown",
   "id": "e49421f3",
   "metadata": {},
   "source": [
    "# Recreate the data and rotate it.\n",
    "\n",
    "Here, I just call the methods from above to get the data."
   ]
  },
  {
   "cell_type": "code",
   "execution_count": null,
   "id": "15788c8c",
   "metadata": {},
   "outputs": [],
   "source": [
    "hostname, environment = read_classifications('patric_data/patric_metadata_isolation_host_env.tsv')                \n",
    "focus = read_focus_output('example_data/dev_counts.tsv')\n",
    "focus.head()"
   ]
  },
  {
   "cell_type": "code",
   "execution_count": null,
   "id": "1dd117de",
   "metadata": {},
   "outputs": [],
   "source": [
    "ft = focus.T\n",
    "ft.head()"
   ]
  }
 ],
 "metadata": {},
 "nbformat": 4,
 "nbformat_minor": 5
}
