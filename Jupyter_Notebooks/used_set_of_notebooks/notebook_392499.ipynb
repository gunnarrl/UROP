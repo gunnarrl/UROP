{
 "cells": [
  {
   "cell_type": "code",
   "execution_count": null,
   "id": "8cffd004",
   "metadata": {},
   "outputs": [],
   "source": [
    "import pandas as pd\n",
    "from pytrends.request import TrendReq\n",
    "import matplotlib.pyplot as plt\n",
    "import numpy as np\n",
    "from datetime import datetime,timedelta\n",
    "import matplotlib.pylab as plt #for visualization\n",
    "%matplotlib inline             \n",
    "from statsmodels.tsa.stattools import adfuller\n",
    "from statsmodels.tsa.stattools import acf, pacf\n",
    "from statsmodels.tsa.seasonal import seasonal_decompose\n",
    "from statsmodels.tsa.arima_model import ARIMA\n",
    "from collections import defaultdict\n",
    "from matplotlib.pylab import rcParams\n",
    "import re\n",
    "\n",
    "rcParams['figure.figsize'] = 15, 9\n",
    "\n",
    "pytrends = TrendReq(hl='en-US', tz=360)"
   ]
  },
  {
   "cell_type": "code",
   "execution_count": null,
   "id": "a24c3cb0",
   "metadata": {},
   "outputs": [],
   "source": [
    "result = None\n",
    "state_score = None\n",
    "trend_score_sorted = None\n",
    "rel_data = None\n",
    "df_com = None"
   ]
  },
  {
   "cell_type": "markdown",
   "id": "1d43b4ce",
   "metadata": {},
   "source": [
    "# Function to Get Data from Google"
   ]
  },
  {
   "cell_type": "code",
   "execution_count": null,
   "id": "90d3934a",
   "metadata": {},
   "outputs": [],
   "source": [
    "def get_data(disease_name, Date, Location):\n",
    "    # cat = 45 means health category\n",
    "    x = None\n",
    "    pytrends.build_payload(disease_name, cat=45, timeframe=Date, geo=Location, gprop='')\n",
    "    df = pytrends.interest_over_time()\n",
    "    x = pytrends.interest_by_region(resolution='India')\n",
    "    if 'isPartial' in df.columns:\n",
    "        df.drop(columns=['isPartial'],inplace=True)\n",
    "    # print(x)\n",
    "    return df, x"
   ]
  },
  {
   "cell_type": "markdown",
   "id": "930d3e78",
   "metadata": {},
   "source": [
    "# Function to get Individual Data, Relative Data and StateWise Score"
   ]
  },
  {
   "cell_type": "code",
   "execution_count": null,
   "id": "6737858c",
   "metadata": {},
   "outputs": [],
   "source": [
    "def final_data(content, result, Date, Location, state_score, rel_data):\n",
    "    for i in content:\n",
    "        temp_list = []\n",
    "        temp_list.append(i) \n",
    "        series, score = get_data(temp_list,Date, Location)\n",
    "        try:\n",
    "            if result is None:\n",
    "                result = series\n",
    "            else:\n",
    "                result = pd.merge(result,series,on=['date'])\n",
    "        except:\n",
    "            pass\n",
    "        \n",
    "        try:\n",
    "            if state_score is None:\n",
    "                state_score = score\n",
    "            else:\n",
    "                state_score = pd.merge(state_score,score,on=['geoName'])\n",
    "        except:\n",
    "            pass\n",
    "        temp_rel_list = ['fever']\n",
    "        temp_rel_list.append(i)\n",
    "        df_rel, st = get_data(temp_rel_list,'today 1-m',Location)\n",
    "        try:\n",
    "            if rel_data is None:\n",
    "                rel_data = df_rel\n",
    "            else:\n",
    "                rel_data = pd.merge(rel_data,df_rel,on=['date'])\n",
    "        except:\n",
    "            pass\n",
    "        # print(rel_data)\n",
    "\n",
    "    return result, state_score,rel_data"
   ]
  },
  {
   "cell_type": "code",
   "execution_count": null,
   "id": "acf59a69",
   "metadata": {},
   "outputs": [],
   "source": [
    "# plt.plot(result)"
   ]
  },
  {
   "cell_type": "code",
   "execution_count": null,
   "id": "ad683b5f",
   "metadata": {},
   "outputs": [],
   "source": [
    "# decomposition = seasonal_decompose(result,freq=10) \n",
    "# trend = decomposition.trend\n",
    "# seasonal = decomposition.seasonal\n",
    "# residual = decomposition.resid\n",
    "\n",
    "# plt.subplot(511)\n",
    "# plt.plot(result, label='Original')\n",
    "# plt.legend(loc='best')\n",
    "\n",
    "# plt.subplot(512)\n",
    "# plt.plot(trend, label='Trend')\n",
    "# plt.legend(loc='best')\n",
    "\n",
    "# plt.subplot(513)\n",
    "# plt.plot(seasonal, label='Seasonality')\n",
    "# plt.legend(loc='best')\n",
    "\n",
    "# plt.subplot(514)\n",
    "# plt.plot(residual, label='Residuals')\n",
    "# plt.legend(loc='best')"
   ]
  },
  {
   "cell_type": "markdown",
   "id": "8a5cec73",
   "metadata": {},
   "source": [
    "# Rank based on Trends | Method1"
   ]
  },
  {
   "cell_type": "code",
   "execution_count": null,
   "id": "9ed6e5fe",
   "metadata": {},
   "outputs": [],
   "source": [
    "def Trend_Score_1(result,content,dateLen):\n",
    "    trend_partition = 0.2\n",
    "    trendLen = int(dateLen*trend_partition)\n",
    "    baseLen = dateLen - trendLen\n",
    "    trend_score = {}\n",
    "    def moving_av(l, n):\n",
    "        observations = len(l[-n:])\n",
    "        return sum(l[-n:]) / float(observations)\n",
    "    for i in content:\n",
    "        d5_moving_av = moving_av(result[i], trendLen)\n",
    "        # print(d5_moving_av)\n",
    "        d30_moving_av = moving_av(result[i], baseLen)\n",
    "        # print(d30_moving_av)\n",
    "        trend_score[i] = (d5_moving_av - d30_moving_av) / d30_moving_av\n",
    "    return trend_score"
   ]
  },
  {
   "cell_type": "markdown",
   "id": "b3bf8494",
   "metadata": {},
   "source": [
    "# EWMA Method to Rank Trends | Method2"
   ]
  },
  {
   "cell_type": "code",
   "execution_count": null,
   "id": "b4ef1632",
   "metadata": {},
   "outputs": [],
   "source": [
    "def Trend_Score_2(result,content,dateLen,beta):\n",
    "    trend_partition = 0.18\n",
    "    trendLen = int(dateLen*trend_partition)\n",
    "    baseLen = dateLen - trendLen\n",
    "    # print(\"baseLen:\", baseLen)\n",
    "#     print(\"trendLen:\", trendLen)\n",
    "#     print(\"Beta:\",beta)\n",
    "    trend_score = {}\n",
    "    def ewma(l, indx, n):\n",
    "        v = 0\n",
    "        t = 0\n",
    "        k = len(l)-1\n",
    "        for i in range(k-indx, k-n, -1):\n",
    "            t+=1\n",
    "            #print(l[i])\n",
    "            bias_correction = (1-beta**t)\n",
    "            v = ( beta*v + (1-beta)*l[i] )\n",
    "            # print(v)\n",
    "        return v\n",
    "\n",
    "    for i in content:\n",
    "        #print(i)\n",
    "        ewma_trend = ewma(result[i],0, trendLen)\n",
    "        # print(\"ewma_trend:\",ewma_trend)\n",
    "        # ewma_base = ewma(result[i],trendLen, baseLen)\n",
    "        # print(\"ewma_base:\",ewma_base)\n",
    "        trend_score[i] = ewma_trend\n",
    "    return trend_score"
   ]
  },
  {
   "cell_type": "code",
   "execution_count": null,
   "id": "888cd314",
   "metadata": {},
   "outputs": [],
   "source": [
    "def create_default_month_dict(content):\n",
    "    mp = defaultdict(lambda: {})\n",
    "    \n",
    "    for i in range(1,13):\n",
    "        for j in content:\n",
    "            mp[j][i] = 0\n",
    "    #print(mp)\n",
    "    return mp"
   ]
  },
  {
   "cell_type": "code",
   "execution_count": null,
   "id": "cf3d748a",
   "metadata": {},
   "outputs": [],
   "source": [
    "def find_common_month(month_dict, df, content):\n",
    "    for indx, row in df.iterrows():\n",
    "        for k in content:\n",
    "            if(row[k]>70):\n",
    "                month_dict[k][indx.month]+=1\n",
    "    return month_dict"
   ]
  },
  {
   "cell_type": "code",
   "execution_count": null,
   "id": "2c1cf499",
   "metadata": {},
   "outputs": [],
   "source": [
    "def create_default_state_dict(content, state_list):\n",
    "    mp = defaultdict(lambda: {})\n",
    "    for i in state_list:\n",
    "        for j in content:\n",
    "            mp[j][i] = 0\n",
    "    #print(mp)\n",
    "    return mp"
   ]
  },
  {
   "cell_type": "code",
   "execution_count": null,
   "id": "367e6c80",
   "metadata": {},
   "outputs": [],
   "source": [
    "def date_len(d1,d2):\n",
    "    d1 = datetime.strptime(d1,\"%Y-%m-%d\")\n",
    "    d2 = datetime.strptime(d2,\"%Y-%m-%d\")\n",
    "    return abs(d2-d1).days"
   ]
  },
  {
   "cell_type": "code",
   "execution_count": null,
   "id": "a694d8bc",
   "metadata": {},
   "outputs": [],
   "source": [
    "def show_graph(trend_score_sorted,top_n):\n",
    "    \n",
    "    plt.subplot(611)\n",
    "    plt.plot(result[trend_score_sorted[0][0]], label=trend_score_sorted[0][0])\n",
    "    plt.legend(loc='best')\n",
    "\n",
    "    plt.subplot(612)\n",
    "    plt.plot(result[trend_score_sorted[1][0]], label=trend_score_sorted[1][0])\n",
    "    plt.legend(loc='best')\n",
    "\n",
    "    plt.subplot(613)\n",
    "    plt.plot(result[trend_score_sorted[2][0]], label=trend_score_sorted[2][0])\n",
    "    plt.legend(loc='best')\n",
    "\n",
    "    plt.subplot(614)\n",
    "    plt.plot(result[trend_score_sorted[3][0]], label=trend_score_sorted[3][0])\n",
    "    plt.legend(loc='best')\n",
    "\n",
    "    plt.subplot(615)\n",
    "    plt.plot(result[trend_score_sorted[4][0]], label=trend_score_sorted[4][0])\n",
    "    plt.legend(loc='best')\n",
    "    \n",
    "    plt.subplot(616)\n",
    "    plt.plot(result[trend_score_sorted[5][0]], label=trend_score_sorted[5][0])\n",
    "    plt.legend(loc='best')\n"
   ]
  },
  {
   "cell_type": "code",
   "execution_count": null,
   "id": "5a9c59f1",
   "metadata": {},
   "outputs": [],
   "source": [
    "def show_graph_rel(trend_score_sorted,top_n):\n",
    "    \n",
    "    plt.subplot(711)\n",
    "    plt.plot(result[trend_score_sorted[0][0]], label=trend_score_sorted[0][0],color = \"red\")\n",
    "    plt.legend(loc='best')\n",
    "\n",
    "    plt.subplot(712)\n",
    "    plt.plot(result[trend_score_sorted[1][0]], label=trend_score_sorted[1][0],color = \"red\")\n",
    "    plt.legend(loc='best')\n",
    "\n",
    "    plt.subplot(713)\n",
    "    plt.plot(result[trend_score_sorted[2][0]], label=trend_score_sorted[2][0],color = \"red\")\n",
    "    plt.legend(loc='best')\n",
    "\n",
    "    plt.subplot(714)\n",
    "    plt.plot(result[trend_score_sorted[3][0]], label=trend_score_sorted[3][0],color = \"red\")\n",
    "    plt.legend(loc='best')\n",
    "\n",
    "    plt.subplot(715)\n",
    "    plt.plot(result[trend_score_sorted[4][0]], label=trend_score_sorted[4][0],color = \"red\")\n",
    "    plt.legend(loc='best')\n",
    "    \n",
    "    plt.subplot(716)\n",
    "    plt.plot(result[trend_score_sorted[5][0]], label=trend_score_sorted[5][0],color = \"red\")\n",
    "    plt.legend(loc='best')\n"
   ]
  },
  {
   "cell_type": "markdown",
   "id": "96c300c3",
   "metadata": {},
   "source": [
    "# To find Common Months and States to a disease"
   ]
  },
  {
   "cell_type": "code",
   "execution_count": null,
   "id": "33615c29",
   "metadata": {},
   "outputs": [],
   "source": [
    "def common(content, Location):\n",
    "    # Comment Below two lines\n",
    "    content = ['Dengue', 'Malaria', 'Yellow Fever']\n",
    "    Location = 'IN'\n",
    "\n",
    "    df_list = []\n",
    "    df_common = None\n",
    "    # state_List = []\n",
    "    # df_state = None\n",
    "    endDate = datetime.now() - timedelta(days = 10)\n",
    "    st_dict_list = ['Andaman and Nicobar Islands', 'Andhra Pradesh', 'Arunachal Pradesh',\n",
    "           'Assam', 'Bihar', 'Chandigarh', 'Chhattisgarh',\n",
    "           'Dadra and Nagar Haveli', 'Daman and Diu', 'Delhi', 'Goa', 'Gujarat',\n",
    "           'Haryana', 'Himachal Pradesh', 'Jammu and Kashmir', 'Jharkhand',\n",
    "           'Karnataka', 'Kerala', 'Lakshadweep', 'Madhya Pradesh', 'Maharashtra',\n",
    "           'Manipur', 'Meghalaya', 'Mizoram', 'Nagaland', 'Odisha', 'Puducherry',\n",
    "           'Punjab', 'Rajasthan', 'Sikkim', 'Tamil Nadu', 'Telangana', 'Tripura',\n",
    "           'Uttar Pradesh', 'Uttarakhand', 'West Bengal']\n",
    "\n",
    "    state_dict = create_default_state_dict(content, st_dict_list)\n",
    "\n",
    "    #print(state_dict)\n",
    "\n",
    "    for i in range(0,14):\n",
    "        df_com = None\n",
    "        df_st = None\n",
    "        endDate = endDate - timedelta(days = 1)\n",
    "        startDate = endDate - timedelta(days=365)\n",
    "        endDate = datetime.strftime(endDate,\"%Y-%m-%d\")\n",
    "        startDate = datetime.strftime(startDate,\"%Y-%m-%d\")\n",
    "\n",
    "        Date = startDate+' '+endDate\n",
    "        print(Date)\n",
    "        for i in content:\n",
    "            temp_list = []\n",
    "            temp_list.append(i) \n",
    "            series, score = get_data(temp_list,Date, Location)\n",
    "            try:\n",
    "                if df_com is None:\n",
    "                    df_com = series\n",
    "                else:\n",
    "                    df_com = pd.merge(df_com,series,on=['date'])\n",
    "            except:\n",
    "                pass\n",
    "            #print(df_com)\n",
    "            if Location == 'IN':\n",
    "                try:\n",
    "                    if df_st is None:\n",
    "                        df_st = score\n",
    "                    else:\n",
    "                        df_st = pd.merge(df_st,score,on = ['geoName'])\n",
    "                except:\n",
    "                    pass\n",
    "                #print(df_st)\n",
    "\n",
    "        if Location == 'IN':\n",
    "            # common state concept\n",
    "            for indx, row in df_st.iterrows():\n",
    "                # print(row)\n",
    "                for k in content:\n",
    "                    if row[k]> 70:\n",
    "                        state_dict[k][indx]+=1\n",
    "            #print(state_dict)\n",
    "            \n",
    "            # state_List.append(df_st)\n",
    "\n",
    "        df_list.append(df_com)\n",
    "        endDate = startDate\n",
    "        endDate = datetime.strptime(endDate,\"%Y-%m-%d\")\n",
    "        startDate = datetime.strptime(startDate,\"%Y-%m-%d\")\n",
    "\n",
    "    df_common = pd.concat(df_list)\n",
    "    print(df_common)\n",
    "\n",
    "#     if Location == 'IN':\n",
    "#         df_state = pd.concat(state_List)\n",
    "#         print(df_state)\n",
    "    return df_common, state_dict"
   ]
  },
  {
   "cell_type": "code",
   "execution_count": null,
   "id": "a6c1e823",
   "metadata": {},
   "outputs": [],
   "source": [
    "def main():\n",
    "    global result,state_score,trend_score_sorted,rel_data\n",
    "    result = None\n",
    "    rel_data = None\n",
    "    f = open('AcuteDisease.txt','r')\n",
    "    content = f.read().split(',')\n",
    "    f_state = open('stateList.txt','r')\n",
    "    Location = f_state.read().split(',')\n",
    "    \n",
    "    endDate = datetime.now() - timedelta(days=7)\n",
    "    startDate = endDate - timedelta(days = 365)\n",
    "    endDate = datetime.strftime(endDate,\"%Y-%m-%d\")\n",
    "    startDate = datetime.strftime(startDate,\"%Y-%m-%d\")\n",
    "\n",
    "    dateLen = date_len(startDate ,endDate)\n",
    "\n",
    "    DateRange = startDate +' '+endDate\n",
    "    #Location = input('Enter the Location for which you want to find Disease Trends')\n",
    "    Location = 'IN-DL'\n",
    "    \n",
    "    ## Comment Below Line\n",
    "    #content = ['Dengue','Malaria','Zika','Chickenpox', 'Nipah','yellow fever','Swine Flu']\n",
    "    top_n = 5\n",
    "    result, state_score, rel_data = final_data(content,None,DateRange,Location,state_score, None)\n",
    "    # print(rel_data)\n",
    "    l = []\n",
    "    for i in rel_data.columns:\n",
    "        if re.match(\"^fever\",i):\n",
    "            l.append(i)\n",
    "    rel_data.drop(columns = l,inplace = True)\n",
    "    #print(rel_data)\n",
    "    \n",
    "    beta = (dateLen - 1)/ dateLen\n",
    "    beta= round(beta,3)\n",
    "\n",
    "    trend_score = Trend_Score_2(result,content,len(result),beta)\n",
    "    beta = 0.967\n",
    "    rel_score = Trend_Score_2(rel_data,content,len(rel_data),beta)\n",
    "    \n",
    "#     for key,val in rel_score.items():\n",
    "#         trend_score[key] = trend_score[key] * val\n",
    "#    print(rel_score)\n",
    "    trend_score_sorted = sorted(trend_score.items(), key=lambda kv: kv[1], reverse= True)\n",
    "    rel_trend_score_sorted = sorted(rel_score.items(), key=lambda kv: kv[1], reverse= True)\n",
    "    #print(\"TREND SCORE\")\n",
    "    #print(trend_score_sorted)\n",
    "    #print(\"RELATIVE TREND SCORE\")\n",
    "    #print(rel_trend_score_sorted)\n",
    "    #print(result)\n",
    "    #print(state_score)\n",
    "#     print(\"Trends Score Graph\")\n",
    "#     show_graph(trend_score_sorted, top_n)\n",
    "    print(\"Relative Score Graph\")\n",
    "    show_graph_rel(rel_trend_score_sorted, top_n)\n",
    "    \n",
    "    "
   ]
  },
  {
   "cell_type": "markdown",
   "id": "b604ab79",
   "metadata": {},
   "source": [
    "# Swine Flu in Delhi - Individual Search Interest in Last One Year"
   ]
  },
  {
   "cell_type": "code",
   "execution_count": null,
   "id": "4b7eb3ad",
   "metadata": {},
   "outputs": [],
   "source": [
    "plt.plot(result[' Swine Flu'])"
   ]
  },
  {
   "cell_type": "markdown",
   "id": "634f82f2",
   "metadata": {},
   "source": [
    "# Swine Flu in Delhi - Search Interest Compared with Fever in Last 30 Days"
   ]
  },
  {
   "cell_type": "code",
   "execution_count": null,
   "id": "1fd9403c",
   "metadata": {},
   "outputs": [],
   "source": [
    "plt.plot(rel_data[' Swine Flu'])"
   ]
  },
  {
   "cell_type": "markdown",
   "id": "4f4222ee",
   "metadata": {},
   "source": [
    "# Comparing Search Interest for All Diseases/Conditions in Delhi (Small Population) "
   ]
  },
  {
   "cell_type": "code",
   "execution_count": null,
   "id": "e10e7eab",
   "metadata": {},
   "outputs": [],
   "source": [
    "if __name__ == \"__main__\":\n",
    "    main()"
   ]
  },
  {
   "cell_type": "markdown",
   "id": "0678235f",
   "metadata": {},
   "source": [
    "# Comparing Search Interest for All Diseases/Conditions in Delhi (Large Population Trend)"
   ]
  },
  {
   "cell_type": "code",
   "execution_count": null,
   "id": "6249781d",
   "metadata": {},
   "outputs": [],
   "source": [
    "if __name__ == \"__main__\":\n",
    "    main()"
   ]
  }
 ],
 "metadata": {},
 "nbformat": 4,
 "nbformat_minor": 5
}
