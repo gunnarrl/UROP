{
 "cells": [
  {
   "cell_type": "markdown",
   "id": "87097ac3",
   "metadata": {},
   "source": [
    "# Question 1 : Write a program to subtract two complex numbers in Python."
   ]
  },
  {
   "cell_type": "code",
   "execution_count": null,
   "id": "6e3ab379",
   "metadata": {},
   "outputs": [],
   "source": [
    "print(\"Subtraction of two complex numbers : \",(4+3j)-(3-7j))"
   ]
  },
  {
   "cell_type": "markdown",
   "id": "a3d0a81c",
   "metadata": {},
   "source": [
    "# Question 2 : Write a program to find the fourth root of a number.\n"
   ]
  },
  {
   "cell_type": "code",
   "execution_count": null,
   "id": "018f1b82",
   "metadata": {},
   "outputs": [],
   "source": [
    "def fourth_root(x):\n",
    "    return x**(1/4)\n",
    "num = int(input(\"Enter a number to find the fourth root: \"))\n",
    "print(fourth_root(num))"
   ]
  },
  {
   "cell_type": "markdown",
   "id": "103290b8",
   "metadata": {},
   "source": [
    "# Question 3: Write a program to swap two numbers in Python with the help of a temporary variable."
   ]
  },
  {
   "cell_type": "code",
   "execution_count": null,
   "id": "76059e48",
   "metadata": {},
   "outputs": [],
   "source": [
    "x = 5\n",
    "y = 10\n",
    "\n",
    "temp = x\n",
    "x = y\n",
    "y = temp\n",
    "\n",
    "print('The value of x after swapping: {}'.format(x))\n",
    "print('The value of y after swapping: {}'.format(y))"
   ]
  },
  {
   "cell_type": "markdown",
   "id": "9c69e17d",
   "metadata": {},
   "source": [
    "# Question 4: Write a program to swap two numbers in Python without using a temporary variable"
   ]
  },
  {
   "cell_type": "code",
   "execution_count": null,
   "id": "2a919b21",
   "metadata": {},
   "outputs": [],
   "source": [
    "x = 5\n",
    "y = 10\n",
    "\n",
    "x, y = y, x\n",
    "print(\"x =\", x)\n",
    "print(\"y =\", y)"
   ]
  },
  {
   "cell_type": "markdown",
   "id": "e2e09ee3",
   "metadata": {},
   "source": [
    "# Question 5: Write a program to convert fahrenheit to kelvin and celsius both.\n"
   ]
  },
  {
   "cell_type": "code",
   "execution_count": null,
   "id": "9cc26662",
   "metadata": {},
   "outputs": [],
   "source": [
    "# Python program to convert temperature from \n",
    "# Fahrenheit to Kelvin \n",
    "F = int(input(\"Enter temperature in Fahrenheit: \"))\n",
    "Fahrenheit_to_Kelvin = 273.5 + ((F - 32.0) * (5.0/9.0)) \n",
    "print(\"Temperature in Kelvin = \", Fahrenheit_to_Kelvin,\"K\")"
   ]
  },
  {
   "cell_type": "code",
   "execution_count": null,
   "id": "b25e0968",
   "metadata": {},
   "outputs": [],
   "source": [
    "# Fahrenheit to Celsius\n",
    "temp_F = int(input(\"Enter temperature in Fahrenheit: \"))\n",
    "Fahrenheit_to_Celsius = (5/9) * (temp_F - 32)\n",
    "print(\"Temperature in Celsius = \", Fahrenheit_to_Celsius, \"degree C\")"
   ]
  },
  {
   "cell_type": "markdown",
   "id": "5a82c56c",
   "metadata": {},
   "source": [
    "# Question 6: Write a program to demonstrate all the available data types in Python. Hint: Use type() function.\n"
   ]
  },
  {
   "cell_type": "code",
   "execution_count": null,
   "id": "f63f64ad",
   "metadata": {},
   "outputs": [],
   "source": [
    "x = 5\n",
    "print(x)\n",
    "print(type(x))"
   ]
  },
  {
   "cell_type": "code",
   "execution_count": null,
   "id": "45357e67",
   "metadata": {},
   "outputs": [],
   "source": [
    "x = \"Hello World\"\n",
    "print(x)\n",
    "print(type(x))"
   ]
  },
  {
   "cell_type": "code",
   "execution_count": null,
   "id": "34de9f0a",
   "metadata": {},
   "outputs": [],
   "source": [
    "x = 20.5\n",
    "print(x)\n",
    "print(type(x))"
   ]
  },
  {
   "cell_type": "code",
   "execution_count": null,
   "id": "acdc659e",
   "metadata": {},
   "outputs": [],
   "source": [
    "x = 1j\n",
    "print(x)\n",
    "print(type(x)) "
   ]
  },
  {
   "cell_type": "code",
   "execution_count": null,
   "id": "c351558e",
   "metadata": {},
   "outputs": [],
   "source": [
    "x = [\"apple\", \"banana\", \"cherry\"]\n",
    "print(x)\n",
    "print(type(x)) "
   ]
  },
  {
   "cell_type": "code",
   "execution_count": null,
   "id": "01ca2c75",
   "metadata": {},
   "outputs": [],
   "source": [
    "x = (\"apple\", \"banana\", \"cherry\")\n",
    "print(x)\n",
    "print(type(x)) "
   ]
  },
  {
   "cell_type": "code",
   "execution_count": null,
   "id": "f0e03ec0",
   "metadata": {},
   "outputs": [],
   "source": [
    "x = range(6)\n",
    "print(x)\n",
    "print(type(x)) "
   ]
  },
  {
   "cell_type": "code",
   "execution_count": null,
   "id": "72428782",
   "metadata": {},
   "outputs": [],
   "source": [
    "x = {\"name\" : \"John\", \"age\" : 36}\n",
    "print(x)\n",
    "print(type(x)) "
   ]
  },
  {
   "cell_type": "code",
   "execution_count": null,
   "id": "abb85fd0",
   "metadata": {},
   "outputs": [],
   "source": [
    "x = {\"apple\", \"banana\", \"cherry\"}\n",
    "print(x)\n",
    "print(type(x)) "
   ]
  },
  {
   "cell_type": "code",
   "execution_count": null,
   "id": "39e86ea1",
   "metadata": {},
   "outputs": [],
   "source": [
    "x = frozenset({\"apple\", \"banana\", \"cherry\"})\n",
    "print(x)\n",
    "print(type(x)) "
   ]
  },
  {
   "cell_type": "code",
   "execution_count": null,
   "id": "984ed2f9",
   "metadata": {},
   "outputs": [],
   "source": [
    "x = True\n",
    "print(x)\n",
    "print(type(x)) "
   ]
  },
  {
   "cell_type": "code",
   "execution_count": null,
   "id": "48e92988",
   "metadata": {},
   "outputs": [],
   "source": [
    "x = b\"Hello\"\n",
    "print(x)\n",
    "print(type(x))"
   ]
  },
  {
   "cell_type": "code",
   "execution_count": null,
   "id": "15fab3b2",
   "metadata": {},
   "outputs": [],
   "source": [
    "x = bytearray(5)\n",
    "print(x)\n",
    "print(type(x)) "
   ]
  },
  {
   "cell_type": "code",
   "execution_count": null,
   "id": "fd25ec0d",
   "metadata": {},
   "outputs": [],
   "source": [
    "x = memoryview(bytes(5))\n",
    "print(x)\n",
    "print(type(x)) "
   ]
  },
  {
   "cell_type": "markdown",
   "id": "6da50c71",
   "metadata": {},
   "source": [
    "# Question 7: Create a Markdown cell in jupyter and list the steps discussed in the session by Dr. Darshan Ingle sir to create Github profile and upload Githubs Assignment link.\n"
   ]
  },
  {
   "cell_type": "markdown",
   "id": "642c38a3",
   "metadata": {},
   "source": [
    "1. GitHub is a place for building your profile which is used to push/upload your codes.\n",
    "2. Signing in is just like creating an email account.\n",
    "3. Create a repository named as LetsUpgrade AI-ML\n",
    "4. Now we can upload our Jupyter notebook on the newly created repository by clicking on the upload file button. \n",
    "5. 🔗Assignment Submission Link : https://bit.ly/aimlassignment\n",
    "6. Fill the google form with the link mentioned above providing with the GitHub link for the uploaded assignment.\n",
    "7. Before clicking on the submit button check the GitHub link whether it is visible or not / working or not. \n",
    "8. Submit the assignment :)"
   ]
  }
 ],
 "metadata": {},
 "nbformat": 4,
 "nbformat_minor": 5
}
