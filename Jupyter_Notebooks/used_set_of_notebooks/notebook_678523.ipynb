{
 "cells": [
  {
   "cell_type": "code",
   "execution_count": null,
   "id": "74bcdddc",
   "metadata": {},
   "outputs": [],
   "source": [
    "# import the libraries\n",
    "\n",
    "%matplotlib inline\n",
    "\n",
    "import pandas as pd\n",
    "import numpy as np\n",
    "import scipy\n",
    "import matplotlib.pyplot as plt\n",
    "import seaborn as sns\n",
    "from datetime import datetime\n",
    "\n",
    "# convert scientific notation to decimals\n",
    "pd.set_option('display.float_format', lambda x: '%.2f' % x)\n",
    "sns.set_style('whitegrid')"
   ]
  },
  {
   "cell_type": "markdown",
   "id": "02540f7d",
   "metadata": {},
   "source": [
    "________________________\n",
    "# Load Data"
   ]
  },
  {
   "cell_type": "markdown",
   "id": "9780eeae",
   "metadata": {},
   "source": [
    "### Cleaned, Merged dataset can be downloaded from here: https://www.kaggle.com/arwasheraky/cleaned-flight-delays-2015"
   ]
  },
  {
   "cell_type": "code",
   "execution_count": null,
   "id": "aa9c5ac0",
   "metadata": {},
   "outputs": [],
   "source": [
    "df_flights = pd.read_csv('../../Data/flightsmerged.csv', low_memory=False)"
   ]
  },
  {
   "cell_type": "code",
   "execution_count": null,
   "id": "8fedc778",
   "metadata": {},
   "outputs": [],
   "source": [
    "df_flights.head()"
   ]
  },
  {
   "cell_type": "code",
   "execution_count": null,
   "id": "6c911a1f",
   "metadata": {},
   "outputs": [],
   "source": [
    "# load complementary data\n",
    "# Source: https://data.world/mattwinter225/2015-usa-weather-avg-max-min\n",
    "\n",
    "df_weather = pd.read_csv('../../Data/2015_USA_Weather_Data.csv', sep=\";\")\n",
    "df_weather.head()"
   ]
  },
  {
   "cell_type": "markdown",
   "id": "abf50045",
   "metadata": {},
   "source": [
    "____________\n",
    "# Preparing Weather Data"
   ]
  },
  {
   "cell_type": "code",
   "execution_count": null,
   "id": "44935b08",
   "metadata": {},
   "outputs": [],
   "source": [
    "df_weather.isnull().sum()"
   ]
  },
  {
   "cell_type": "code",
   "execution_count": null,
   "id": "51760618",
   "metadata": {},
   "outputs": [],
   "source": [
    "df_weather = df_weather.dropna()"
   ]
  },
  {
   "cell_type": "markdown",
   "id": "e0ec7aba",
   "metadata": {},
   "source": [
    "## Remove Columns"
   ]
  },
  {
   "cell_type": "code",
   "execution_count": null,
   "id": "f1b79207",
   "metadata": {},
   "outputs": [],
   "source": [
    "df_weather = df_weather[['State','Date','AvgTemp','MaxTemp','MinTemp']]\n",
    "df_weather.columns"
   ]
  },
  {
   "cell_type": "markdown",
   "id": "8043f89c",
   "metadata": {},
   "source": [
    "## Add Columns"
   ]
  },
  {
   "cell_type": "code",
   "execution_count": null,
   "id": "97ed495c",
   "metadata": {},
   "outputs": [],
   "source": [
    "# Extract the month from date\n",
    "\n",
    "def extract_month(str_date):\n",
    "    \n",
    "    if type(str_date) != str:\n",
    "        return str_date\n",
    "    \n",
    "    date_month = datetime.strptime(str_date, '%m/%d/%y %I:%M %p')\n",
    "    date_month = date_month.month\n",
    "    \n",
    "    return date_month"
   ]
  },
  {
   "cell_type": "code",
   "execution_count": null,
   "id": "537e1eac",
   "metadata": {},
   "outputs": [],
   "source": [
    "df_weather['Month'] = df_weather['Date'].apply(extract_month)\n",
    "df_weather['Month'].value_counts()"
   ]
  },
  {
   "cell_type": "code",
   "execution_count": null,
   "id": "b814a16f",
   "metadata": {},
   "outputs": [],
   "source": [
    "# Group by State and month, to set a unified value\n",
    "\n",
    "state_avg_temp = df_weather.groupby(by =['State','Month'])['AvgTemp'].mean()\n",
    "state_min_temp = df_weather.groupby(by =['State','Month'])['MinTemp'].mean()\n",
    "state_max_temp = df_weather.groupby(by =['State','Month'])['MaxTemp'].mean()"
   ]
  },
  {
   "cell_type": "code",
   "execution_count": null,
   "id": "c645f276",
   "metadata": {},
   "outputs": [],
   "source": [
    "# Default value of new columns\n",
    "\n",
    "df_weather['State_Avg_Temp'], df_weather['State_Min_Temp'], df_weather['State_Max_Temp'] = 0, 0, 0"
   ]
  },
  {
   "cell_type": "code",
   "execution_count": null,
   "id": "3d20421e",
   "metadata": {},
   "outputs": [],
   "source": [
    "unique_states = set(df_weather['State'])\n",
    "len(unique_states)"
   ]
  },
  {
   "cell_type": "code",
   "execution_count": null,
   "id": "6b5038f6",
   "metadata": {},
   "outputs": [],
   "source": [
    "for state in unique_states:\n",
    "    \n",
    "    for idx in df_weather.index[df_weather['State'] == state]:\n",
    "        this_month = df_weather.loc[idx,'Month']\n",
    "        \n",
    "        df_weather.at[idx,'State_Avg_Temp'] = state_avg_temp.loc[(state,this_month)]\n",
    "        df_weather.at[idx,'State_Min_Temp'] = state_min_temp.loc[(state,this_month)]\n",
    "        df_weather.at[idx,'State_Max_Temp'] = state_max_temp.loc[(state,this_month)]\n"
   ]
  },
  {
   "cell_type": "code",
   "execution_count": null,
   "id": "d22d71c3",
   "metadata": {},
   "outputs": [],
   "source": [
    "df_weather = df_weather[['State','Month','State_Avg_Temp','State_Min_Temp','State_Max_Temp']]\n",
    "df_weather.head()"
   ]
  },
  {
   "cell_type": "markdown",
   "id": "db6ea766",
   "metadata": {},
   "source": [
    "## Remove Duplicated States"
   ]
  },
  {
   "cell_type": "code",
   "execution_count": null,
   "id": "b29b51ee",
   "metadata": {},
   "outputs": [],
   "source": [
    "print(\"Length of DF = \", len(df_weather))\n",
    "print(\"Length of Unique States = \", len(set(df_weather['State'])))"
   ]
  },
  {
   "cell_type": "code",
   "execution_count": null,
   "id": "2fe72fcc",
   "metadata": {},
   "outputs": [],
   "source": [
    "# Remove duplicated state,month tupples.\n",
    "\n",
    "new_df_weather = df_weather.drop_duplicates(subset = [\"State\",'Month'])\n",
    "len(new_df_weather)"
   ]
  },
  {
   "cell_type": "markdown",
   "id": "c6d89967",
   "metadata": {},
   "source": [
    "____________________\n",
    "# Merging"
   ]
  },
  {
   "cell_type": "code",
   "execution_count": null,
   "id": "7148c4ff",
   "metadata": {},
   "outputs": [],
   "source": [
    "# Keep just the delayed and on_time flights, remove the cancelled and early flights.\n",
    "\n",
    "new_df = df_flights[(df_flights['CLASS'] == 'On_Time') | (df_flights['CLASS'] == 'Delayed')]\n",
    "new_df = new_df.drop(columns = ['CANCELLATION_REASON','CANCELLED','DIVERTED'])\n",
    "print(\"Original dataset : \",df_flights.shape)\n",
    "print(\"Now : \",new_df.shape)"
   ]
  },
  {
   "cell_type": "code",
   "execution_count": null,
   "id": "53b6f2d9",
   "metadata": {},
   "outputs": [],
   "source": [
    "df = pd.merge(new_df, new_df_weather, left_on=['ORIGIN_STATE','MONTH'], right_on=['State','Month'], how='left')\n",
    "df.drop(['State','Month'], axis=1, inplace=True)\n",
    "df.rename(columns={'State_Avg_Temp':'ORIGIN_AVG_TEMP',\n",
    "                       'State_Min_Temp':'ORIGIN_MIN_TEMP',\n",
    "                       'State_Max_Temp':'ORIGIN_MAX_TEMP'} , inplace=True)\n",
    "\n",
    "df = pd.merge(df, new_df_weather, left_on=['DEST_STATE','MONTH'], right_on=['State','Month'], how='left')\n",
    "df.drop(['State','Month'], axis=1, inplace=True)\n",
    "df.rename(columns={'State_Avg_Temp':'DEST_AVG_TEMP',\n",
    "                       'State_Min_Temp':'DEST_MIN_TEMP',\n",
    "                       'State_Max_Temp':'DEST_MAX_TEMP'} , inplace=True)"
   ]
  },
  {
   "cell_type": "code",
   "execution_count": null,
   "id": "99b47afc",
   "metadata": {},
   "outputs": [],
   "source": [
    "df.columns[-6:]"
   ]
  },
  {
   "cell_type": "markdown",
   "id": "d587c139",
   "metadata": {},
   "source": [
    "_____\n",
    "# Save file"
   ]
  },
  {
   "cell_type": "code",
   "execution_count": null,
   "id": "f332b0ec",
   "metadata": {},
   "outputs": [],
   "source": [
    "df.to_csv('../../Data/flightsmerged_final.csv', index=False)"
   ]
  }
 ],
 "metadata": {},
 "nbformat": 4,
 "nbformat_minor": 5
}
