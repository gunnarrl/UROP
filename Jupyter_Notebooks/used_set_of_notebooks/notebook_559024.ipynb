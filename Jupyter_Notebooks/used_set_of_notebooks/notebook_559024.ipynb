{
 "cells": [
  {
   "cell_type": "code",
   "execution_count": null,
   "id": "b279a8b4",
   "metadata": {},
   "outputs": [],
   "source": [
    "#Habilitar intellisense\n",
    "%config IPCompleter.greedy = True\n",
    "%autosave 60"
   ]
  },
  {
   "cell_type": "markdown",
   "id": "3987d8fa",
   "metadata": {},
   "source": [
    "## Arboles de decisión"
   ]
  },
  {
   "cell_type": "code",
   "execution_count": null,
   "id": "0c33cdb1",
   "metadata": {},
   "outputs": [],
   "source": [
    "import os\n",
    "import pandas as pd\n",
    "from xgboost.sklearn import XGBClassifier\n",
    "from sklearn.model_selection import train_test_split\n",
    "from sklearn.metrics import accuracy_score, confusion_matrix, precision_score, recall_score, f1_score"
   ]
  },
  {
   "cell_type": "code",
   "execution_count": null,
   "id": "a3e1884a",
   "metadata": {},
   "outputs": [],
   "source": [
    "df = pd.read_csv(os.path.join('../Datasets/diabetes.csv'))\n",
    "df.head()"
   ]
  },
  {
   "cell_type": "code",
   "execution_count": null,
   "id": "2fbeaa1d",
   "metadata": {},
   "outputs": [],
   "source": [
    "feature_cols = ['Pregnancies', 'Insulin', 'BMI', 'Age','Glucose','BloodPressure','DiabetesPedigreeFunction']\n",
    "X = df[feature_cols]\n",
    "Y = df['Outcome']\n",
    "X_train, X_test, Y_train, Y_test = train_test_split(X, Y, test_size=0.3, random_state=1) # 70% training, 30% test"
   ]
  },
  {
   "cell_type": "markdown",
   "id": "a60755b3",
   "metadata": {},
   "source": [
    "## Optimización de parámetros"
   ]
  },
  {
   "cell_type": "code",
   "execution_count": null,
   "id": "d2c263ad",
   "metadata": {},
   "outputs": [],
   "source": [
    "#https://github.com/conda-forge/hyperopt-feedstock\n",
    "from hyperopt import fmin, tpe, hp, STATUS_OK,Trials"
   ]
  },
  {
   "cell_type": "code",
   "execution_count": null,
   "id": "8f24c49c",
   "metadata": {},
   "outputs": [],
   "source": [
    "space ={\n",
    "    'n_estimators':hp.quniform('n_estimators',100,1000,1),  \n",
    "    'learning_rate':hp.quniform('learning_rate',0.025,0.5,0.025),\n",
    "    'max_depth':hp.quniform('max_depth',1,13,1),\n",
    "    'subsample': hp.quniform('subsample',0.5,1,0.05),\n",
    "    'colsample_bytree':hp.quniform('colsample_bytree',0.5,1,0.05),\n",
    "    'nthread':6,\n",
    "    'silent':1\n",
    "}"
   ]
  },
  {
   "cell_type": "code",
   "execution_count": null,
   "id": "62e908c3",
   "metadata": {},
   "outputs": [],
   "source": [
    "def objective(params):\n",
    "    params['n_estimators'] = int(params['n_estimators'])\n",
    "    params['max_depth'] = int(params['max_depth'])  \n",
    "    classifier = XGBClassifier(**params)\n",
    "    classifier.fit(X_train,Y_train)   \n",
    "    accuracy = accuracy_score(Y_test, classifier.predict(X_test))\n",
    "    return {'loss': 1-accuracy, 'status': STATUS_OK}"
   ]
  },
  {
   "cell_type": "code",
   "execution_count": null,
   "id": "e7653d53",
   "metadata": {},
   "outputs": [],
   "source": [
    "trials=Trials()\n",
    "best=fmin(objective,space,algo=tpe.suggest,trials=trials,max_evals=20)\n",
    "print(best)"
   ]
  },
  {
   "cell_type": "code",
   "execution_count": null,
   "id": "d7f6f4bb",
   "metadata": {},
   "outputs": [],
   "source": [
    "best['n_estimators']=int(best['n_estimators'])\n",
    "best['max_depth']=int(best['max_depth'])"
   ]
  },
  {
   "cell_type": "code",
   "execution_count": null,
   "id": "f29e6c36",
   "metadata": {},
   "outputs": [],
   "source": [
    "tree_v5 = XGBClassifier(**best)\n",
    "tree_v5"
   ]
  },
  {
   "cell_type": "code",
   "execution_count": null,
   "id": "b5f0d314",
   "metadata": {},
   "outputs": [],
   "source": [
    "tree_v5.fit(X_train, Y_train)"
   ]
  },
  {
   "cell_type": "code",
   "execution_count": null,
   "id": "e4827518",
   "metadata": {},
   "outputs": [],
   "source": [
    "# métricas de desempeño\n",
    "# accuracy\n",
    "print('accuracy del clasificador - version 5 : {0:.2f}'.format(accuracy_score(Y_test, tree_v5.predict(X_test))))\n",
    "# confusion matrix\n",
    "print('matriz de confusión del clasificador - version 5: \\n {0}'.format(confusion_matrix(Y_test, tree_v5.predict(X_test))))\n",
    "# precision \n",
    "print('precision del clasificador - version 5 : {0:.2f}'.format(precision_score(Y_test, tree_v5.predict(X_test))))\n",
    "# precision \n",
    "print('recall del clasificador - version 5 : {0:.2f}'.format(recall_score(Y_test, tree_v5.predict(X_test))))\n",
    "# f1\n",
    "print('f1 del clasificador - version 5 : {0:.2f}'.format(f1_score(Y_test, tree_v5.predict(X_test))))"
   ]
  },
  {
   "cell_type": "markdown",
   "id": "1dd931a8",
   "metadata": {},
   "source": [
    "## Guardar el clasificador\n",
    "\n",
    "Python cuenta con librerias de serialización que facilitan guardar el clasificador en un archivo (pickle, joblib); este archivo puede ser restaurado para hacer predicciones."
   ]
  },
  {
   "cell_type": "code",
   "execution_count": null,
   "id": "e888dec4",
   "metadata": {},
   "outputs": [],
   "source": [
    "import pickle"
   ]
  },
  {
   "cell_type": "code",
   "execution_count": null,
   "id": "ddb9a2c9",
   "metadata": {},
   "outputs": [],
   "source": [
    "# Cree la carpeta 'clasificador' en el folder donde está el notebook\n",
    "ruta_archivo_clasificador = os.path.join('tree_v5.pkl')\n",
    "# Abrir el archivo para escribir contenido binario\n",
    "archivo_clasificador = open(ruta_archivo_clasificador, 'wb')\n",
    "# Guardar el clasificador\n",
    "pickle.dump(tree_v5, archivo_clasificador)\n",
    "# Cerrar el archivo\n",
    "archivo_clasificador.close()"
   ]
  },
  {
   "cell_type": "markdown",
   "id": "a87d87c2",
   "metadata": {},
   "source": [
    "## Cargar el clasificador"
   ]
  },
  {
   "cell_type": "code",
   "execution_count": null,
   "id": "c93fa7b3",
   "metadata": {},
   "outputs": [],
   "source": [
    "#Abrir el archivo en modo lectura de contenido binario y cargar el clasificdor\n",
    "archivo_clasificador = open(ruta_archivo_clasificador, \"rb\")\n",
    "tree_v6 = pickle.load(archivo_clasificador)\n",
    "archivo_clasificador.close()"
   ]
  },
  {
   "cell_type": "code",
   "execution_count": null,
   "id": "6b3dc067",
   "metadata": {},
   "outputs": [],
   "source": [
    "# métricas de desempeño\n",
    "# accuracy\n",
    "print('accuracy del clasificador - version 6 : {0:.2f}'.format(accuracy_score(Y_test, tree_v6.predict(X_test))))\n",
    "# confusion matrix\n",
    "print('matriz de confusión del clasificador - version 6: \\n {0}'.format(confusion_matrix(Y_test, tree_v6.predict(X_test))))\n",
    "# precision \n",
    "print('precision del clasificador - version 6 : {0:.2f}'.format(precision_score(Y_test, tree_v6.predict(X_test))))\n",
    "# precision \n",
    "print('recall del clasificador - version 6 : {0:.2f}'.format(recall_score(Y_test, tree_v6.predict(X_test))))\n",
    "# f1\n",
    "print('f1 del clasificador - version 6 : {0:.2f}'.format(f1_score(Y_test, tree_v6.predict(X_test))))"
   ]
  },
  {
   "cell_type": "markdown",
   "id": "ceb21e38",
   "metadata": {},
   "source": [
    "##  Modificar el clasificador"
   ]
  },
  {
   "cell_type": "code",
   "execution_count": null,
   "id": "fbe2849d",
   "metadata": {},
   "outputs": [],
   "source": [
    "tree_v6.n_estimators = 700\n",
    "# Volver a entrenar el clasificador con los nuevos parámetros\n",
    "tree_v6.fit(X_train,Y_train)"
   ]
  },
  {
   "cell_type": "code",
   "execution_count": null,
   "id": "3e4c9e41",
   "metadata": {},
   "outputs": [],
   "source": [
    "# Guardar el nuevo clasificador\n",
    "ruta_archivo_clasificador = os.path.join('tree_v6.pkl')\n",
    "archivo_clasificador = open(ruta_archivo_clasificador, \"wb\")\n",
    "pickle.dump(tree_v6, archivo_clasificador)\n",
    "archivo_clasificador.close()"
   ]
  },
  {
   "cell_type": "markdown",
   "id": "00e5a189",
   "metadata": {},
   "source": [
    "##  Opciones de despliegue\n",
    "\n",
    "<img src=\"35-opciones-despliegue.png\" style=\"width:600px\"/>"
   ]
  },
  {
   "cell_type": "markdown",
   "id": "7baed4a0",
   "metadata": {},
   "source": [
    "## Flask\n",
    "\n",
    "Flask es un **framework** minimalista escrito en Python que permite crear aplicaciones web rápidamente y con un mínimo número de líneas de código - **Wikipedia**.\n",
    "\n",
    "__[Flask](https://flask.palletsprojects.com/en/1.1.x/)__\n",
    "\n",
    "Ahora, utilizando el clasificador guardado anteriormente en un archivo binario, se creará un servicio API REST en Flask para poder utilizarlo. Para hacerlo funcionar hacerlo, colocar el código en un archivo .py y hacerlo correr en la consola."
   ]
  },
  {
   "cell_type": "code",
   "execution_count": null,
   "id": "a9bde5e1",
   "metadata": {},
   "outputs": [],
   "source": [
    "# http://flask.palletsprojects.com/en/1.1.x/quickstart/#quickstart\n",
    "from flask import Flask, request, jsonify\n",
    "import os\n",
    "import pandas as pd\n",
    "import numpy as np\n",
    "from sklearn.model_selection import train_test_split\n",
    "from sklearn.metrics import accuracy_score\n",
    "import pickle\n",
    "\n",
    "app = Flask(__name__)\n",
    "\n",
    "classifier_filepath = os.path.join(\"tree_v6.pkl\")\n",
    "classifier_file = open(classifier_filepath, \"rb\")\n",
    "classifier = pickle.load(open(classifier_filepath, \"rb\"))\n",
    "classifier_file.close()\n",
    "\n",
    "# Desactiva el API /predict del clasificador.\n",
    "# retorna {\"message\": \"/predict disabled\"}, 200 OK\n",
    "@app.route('/disable', methods=['GET'])\n",
    "def disable():\n",
    "    global ACTIVATED\n",
    "    ACTIVATED = False\n",
    "    return {'message': '/predict disabled'}, 200\n",
    "\n",
    "# Activa el API /predict del clasificador.\n",
    "# retorna {\"message\": \"/predict enabled\"}, 200 OK\n",
    "@app.route('/enable', methods=['GET'])\n",
    "def enable():\n",
    "    global ACTIVATED\n",
    "    ACTIVATED = True\n",
    "    return {'message': '/predict enabled'}, 200\n",
    "\n",
    "# Entrena el modelo con los nuevos hyper-parámetros y retorna la nueva exactitud. Por ejemplo, {\"accuracy\": 0.81}, 200 OK\n",
    "# Se pueden enviar los siguiente hyper-parámetros: { \"n_estimators\": 10, \"criterion\": \"gini\", \"max_depth\": 7 }\n",
    "# \"criterion\" puede ser \"gini\" o \"entropy\", \"n_estimators\" y \"max_depth\" son un número entero positivo\n",
    "# Unicamente \"max_depth\" es opcional en cuyo caso se deberá emplear None. Si los otros hyper-parámetros no están presentes se retorna:\n",
    "# {\"message\": \"missing hyper-parameter\"}, 404 BAD REQUEST\n",
    "# Finalmente, sólo se puede ejecutar este endpoint después de ejecutar GET /disable. En otro caso retorna {\"message\": \"can not reset an enabled classifier\"}, 400 BAD REQUEST\n",
    "@app.route('/reset', methods=['POST'])\n",
    "def reset():\n",
    "    if ACTIVATED:\n",
    "        return {\"message\": \"can not reset an enabled classifier\"}, 400\n",
    "    json_request = request.get_json(force=True)\n",
    "    if 'criterion' not in json_request or 'n_estimators' not in json_request:\n",
    "        return {\"message\": \"missing hyper-parameter\"}, 400\n",
    "\n",
    "    classifier.n_estimators = json_request.get('n_estimators')\n",
    "    classifier.criterion = json_request.get('criterion')\n",
    "    classifier.max_depth = json_request.get('max_depth')\n",
    " \n",
    "    df = pd.read_csv(os.path.join(\"diabetes.csv\"))\n",
    "    feature_cols = ['Pregnancies', 'Insulin', 'BMI', 'Age',\n",
    "                    'Glucose', 'BloodPressure', 'DiabetesPedigreeFunction']\n",
    "    X = df[feature_cols]\n",
    "    Y = df[\"Outcome\"]\n",
    "    X_train, X_test, Y_train, Y_test = train_test_split(\n",
    "        X, Y, test_size=0.3, random_state=1)\n",
    "\n",
    "    classifier.fit(X_train, Y_train)\n",
    "    return {'accuracy': accuracy_score(Y_test, classifier.predict(X_test))}, 200\n",
    "\n",
    "# Recibe una lista de observaciones y retorna la clasificación para cada una de ellas.\n",
    "# Los valores en cada observación se corresponden con la siguientes variables:\n",
    "#['Pregnancies', 'Insulin', 'BMI', 'Age', 'Glucose', 'BloodPressure', 'DiabetesPedigreeFunction']\n",
    "# Por ejemplo: para estas observaciones:\n",
    "# [\n",
    "#\t[7,135,26.0,51,136,74,0.647],\n",
    "#\t[9,175,34.2,36,112,82,0.260]\n",
    "# ]\n",
    "@app.route('/predict', methods=['POST'])\n",
    "def predict():\n",
    "    if not ACTIVATED:\n",
    "        return {\"message\": \"classifier is not enabled\"}, 400\n",
    "    predict_request = request.get_json(force=True)\n",
    "    predict_response = classifier.predict(predict_request)\n",
    "    return {'cases': predict_request,\n",
    "            'diabetes': predict_response.tolist()}\n",
    "\n",
    "\n",
    "if __name__ == '__main__':\n",
    "    app.run(port=8080, debug=True)"
   ]
  }
 ],
 "metadata": {},
 "nbformat": 4,
 "nbformat_minor": 5
}
