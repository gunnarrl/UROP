{
 "cells": [
  {
   "cell_type": "markdown",
   "id": "74f4918c",
   "metadata": {},
   "source": [
    "# Mean Reversion Strategy"
   ]
  },
  {
   "cell_type": "markdown",
   "id": "0bf83f9f",
   "metadata": {},
   "source": [
    "### Import Libraries"
   ]
  },
  {
   "cell_type": "code",
   "execution_count": null,
   "id": "2ac83472",
   "metadata": {},
   "outputs": [],
   "source": [
    "import numpy as np\n",
    "import pandas as pd\n",
    "import matplotlib.pyplot as plt\n",
    "import scipy.stats as st\n",
    "import statsmodels.tsa.stattools as stats\n",
    "import statsmodels.stats.multitest as mt\n",
    "import arch.bootstrap as boot\n",
    "import pyalgotrade.barfeed.csvfeed as csvfeed\n",
    "import pyalgotrade.bar as bar\n",
    "import pyalgotrade.strategy as strategy\n",
    "import pyalgotrade.technical.roc as roc\n",
    "import pyalgotrade.technical.stats as tstats\n",
    "import pyalgotrade.broker as broker\n",
    "import pyalgotrade.stratanalyzer.returns as ret\n",
    "import pyalgotrade.plotter as plotter\n",
    "import datetime as dt\n",
    "import itertools\n",
    "import time"
   ]
  },
  {
   "cell_type": "markdown",
   "id": "5833b62b",
   "metadata": {},
   "source": [
    "### Evaluate Prices and Returns Stationary Time Series"
   ]
  },
  {
   "cell_type": "code",
   "execution_count": null,
   "id": "d2b221cb",
   "metadata": {},
   "outputs": [],
   "source": [
    "data = pd.read_csv('./Advanced-Trading-Analysis-Data.txt', index_col='Date Time', parse_dates=True)\n",
    "dailySPYPrices = data['Adj Close']\n",
    "dailySPYReturns = dailySPYPrices.pct_change(1)\n",
    "dailySPYReturns[0] = 0\n",
    "dailySPYPricesADF = pd.Series(stats.adfuller(dailySPYPrices)[0:2], index=['Test statistic:', 'p-value:'])\n",
    "dailySPYReturnsADF = pd.Series(stats.adfuller(dailySPYReturns)[0:2], index=['Test statistic:', 'p-value:'])\n",
    "print('')\n",
    "print('== SPY Daily Prices Augmented Dickey-Fuller Test ADF ==')\n",
    "print('')\n",
    "print(round(dailySPYPricesADF, 4))\n",
    "print('')\n",
    "print('== SPY Daily Returns Augmented Dickey-Fuller Test ADF ==')\n",
    "print('')\n",
    "print(round(dailySPYReturnsADF, 4))\n",
    "print('')"
   ]
  },
  {
   "cell_type": "markdown",
   "id": "96b2da86",
   "metadata": {},
   "source": [
    "### Create Strategy Class"
   ]
  },
  {
   "cell_type": "code",
   "execution_count": null,
   "id": "34904284",
   "metadata": {},
   "outputs": [],
   "source": [
    "class MeanStrategy3(strategy.BacktestingStrategy):\n",
    "\n",
    "    # 3.1. Define Strategy Initialization Function\n",
    "    def __init__(self, feed, instrument, nper, lowerThreshold, upperThreshold):\n",
    "        super(MeanStrategy3, self).__init__(feed, 10000)\n",
    "        self.position = None\n",
    "        self.instrument = instrument\n",
    "        self.setUseAdjustedValues(True)\n",
    "        self.roc = roc.RateOfChange(feed[instrument].getPriceDataSeries(), 1)\n",
    "        self.zscore = tstats.ZScore(self.roc, nper)\n",
    "        self.lowerThreshold = lowerThreshold\n",
    "        self.upperThreshold = upperThreshold\n",
    "\n",
    "    # 3.2. Define Get Technical Indicators Functions\n",
    "    def getZScore(self):\n",
    "        return self.zscore\n",
    "\n",
    "    # 3.3. Define Overriding Strategy Functions\n",
    "\n",
    "    # onEnterCanceled: Get notified when order submitted to enter a position was canceled and update position\n",
    "    def onEnterCanceled(self, position):\n",
    "        self.position = None\n",
    "\n",
    "    # onExitOk: Get notified when order submitted to exit a position was filled and update position\n",
    "    def onExitOk(self, position):\n",
    "        self.position = None\n",
    "\n",
    "    # onExitCanceled: Get notified when order submitted to exit a position was canceled and re-submit order\n",
    "    def onExitCanceled(self, position):\n",
    "         self.position.exitMarket()\n",
    "\n",
    "    # 3.4. Define Trading Strategy Function\n",
    "\n",
    "    # Mean-Reversion Statistical-Arbitrage Strategy\n",
    "    # Enter Long Order = Buy when Z-Score < Lower Threshold\n",
    "    # Exit Order = Sell when Z-Score > Upper Threshold\n",
    "\n",
    "    def onBars(self, bars):\n",
    "        if self.zscore[-1] is None:\n",
    "            return\n",
    "\n",
    "        if self.position is None:\n",
    "            if self.zscore[-1] < self.lowerThreshold:\n",
    "                # 95% equity investment for difference between order day Close price and next day Open price\n",
    "                # number of shares can also be a fixed quantity for all transactions (ex. self.shares = 10)\n",
    "                self.shares = int(self.getBroker().getCash() * 0.95 / bars[self.instrument].getPrice())\n",
    "                self.position = self.enterLong(self.instrument, self.shares, goodTillCanceled=True)\n",
    "\n",
    "        elif self.zscore[-1] > self.upperThreshold and not self.position.exitActive():\n",
    "            self.position.exitMarket()"
   ]
  },
  {
   "cell_type": "markdown",
   "id": "4021efbb",
   "metadata": {},
   "source": [
    "### Define Run Strategy Function"
   ]
  },
  {
   "cell_type": "code",
   "execution_count": null,
   "id": "3529f8ef",
   "metadata": {},
   "outputs": [],
   "source": [
    "def MeanStrategyRun3(nper, lowerThreshold, upperThreshold, chart):\n",
    "\n",
    "    # 4.1. Create Instruments object with stock tickers\n",
    "    instruments = ['SPY']\n",
    "\n",
    "    # 4.2. Load CSV Feed previously downloaded or read\n",
    "    feed = csvfeed.GenericBarFeed(bar.Frequency.DAY)\n",
    "    feed.addBarsFromCSV(instruments[0], './Advanced-Trading-Analysis-Data.txt', skipMalformedBars=True)\n",
    "\n",
    "    # 4.3. Evaluate Strategy with CSV Feed and Technical Indicator Parameters\n",
    "    meanStrategy3 = MeanStrategy3(feed, instruments[0], nper, lowerThreshold, upperThreshold)\n",
    "\n",
    "    # 4.4. Set Strategy Commission\n",
    "    meanStrategy3.getBroker().setCommission(broker.backtesting.FixedPerTrade(6))\n",
    "\n",
    "    # 4.5. Attach Strategy Trading Statistics Analyzers\n",
    "    retAnalyzer = ret.Returns(maxLen=2518)\n",
    "    meanStrategy3.attachAnalyzer(retAnalyzer)\n",
    "\n",
    "    # 4.6. Attach Strategy Plotter\n",
    "    plt = plotter.StrategyPlotter(meanStrategy3, plotPortfolio=False)\n",
    "    plt.getOrCreateSubplot('ZScore').addDataSeries('ZScore', meanStrategy3.getZScore())\n",
    "    plt.getOrCreateSubplot('ZScore').addLine('Lower', level=-2)\n",
    "    plt.getOrCreateSubplot('ZScore').addLine('Upper', level=2)\n",
    "\n",
    "    # 4.7. Run Strategy\n",
    "    meanStrategy3.run()\n",
    "\n",
    "    # 4.8. Calculate Strategy Returns\n",
    "    datesReturns = retAnalyzer.getReturns().getDateTimes()[:]\n",
    "    dailyReturns = retAnalyzer.getReturns()[:]\n",
    "    dailyReturns = pd.DataFrame(dailyReturns).set_index(pd.DatetimeIndex(datesReturns))\n",
    "\n",
    "    # 4.9. Plot Strategy\n",
    "    if chart == True:\n",
    "        plt.plot(fromDateTime=dt.datetime(2016, 1, 1), toDateTime=dt.datetime(2016, 12, 31))\n",
    "\n",
    "    return dailyReturns"
   ]
  },
  {
   "cell_type": "code",
   "execution_count": null,
   "id": "987663b8",
   "metadata": {},
   "outputs": [],
   "source": [
    "# 4.10. Plot Strategy Example\n",
    "MeanStrategyRun3(21, -2, 2, True)"
   ]
  },
  {
   "cell_type": "markdown",
   "id": "1a6e3cc8",
   "metadata": {},
   "source": [
    "### Do Strategy Parameters Optimization and Calculate Performance Metrics"
   ]
  },
  {
   "cell_type": "code",
   "execution_count": null,
   "id": "c19577b2",
   "metadata": {},
   "outputs": [],
   "source": [
    "# 5.1. Create Strategy Optimization Parameters Combinations\n",
    "lowerThreshold = (-2.5, -2)\n",
    "upperThreshold = (2, 2.5)\n",
    "pool = [lowerThreshold, upperThreshold]"
   ]
  },
  {
   "cell_type": "code",
   "execution_count": null,
   "id": "bfa838be",
   "metadata": {},
   "outputs": [],
   "source": [
    "# 5.2. Calculate Benchmark Daily Returns\n",
    "# 100% equity investment for buy and hold benchmark\n",
    "mean3DailyReturns = dailySPYReturns\n",
    "mean3DailyReturns = pd.DataFrame(mean3DailyReturns)"
   ]
  },
  {
   "cell_type": "code",
   "execution_count": null,
   "id": "c643ffd8",
   "metadata": {},
   "outputs": [],
   "source": [
    "# 5.3. Do Strategy Optimization\n",
    "mean3StartOptimization = time.time()\n",
    "print('')\n",
    "print('== Strategy Parameters Optimization ==')\n",
    "print('')\n",
    "print('Parameters Combinations (lowerThreshold, upperThreshold):')\n",
    "for n in itertools.product(*pool):\n",
    "    print(n)\n",
    "    mean3DailyReturns.insert(len(mean3DailyReturns.columns), n, MeanStrategyRun3(21, n[0], n[1], False))\n",
    "mean3EndOptimization = time.time()\n",
    "mean3DailyReturns.columns = ['B&H', 'Mn3Ret1', 'Mn3Ret2', 'Mn3Ret3', 'Mn3Ret4']\n",
    "print('')\n",
    "print('Optimization Running Time: ', round(mean3EndOptimization - mean3StartOptimization, 4), ' seconds')\n",
    "print('')"
   ]
  },
  {
   "cell_type": "code",
   "execution_count": null,
   "id": "56cb116b",
   "metadata": {},
   "outputs": [],
   "source": [
    "# 5.4. Define Cumulative Returns and Performance Metrics Functions\n",
    "def CumulativeReturns(dailyReturns):\n",
    "    cumulativeReturns = np.cumprod(dailyReturns + 1) ** (252 / len(dailyReturns)) - 1\n",
    "    return cumulativeReturns\n",
    "\n",
    "def PerformanceMetrics(dailyReturns):\n",
    "    annualizedReturn = (np.cumprod(dailyReturns + 1) ** (252 / len(dailyReturns)) - 1)[-1]\n",
    "    annualizedStdDev = np.std(dailyReturns) * np.sqrt(252)\n",
    "    annualizedSharpe = annualizedReturn / annualizedStdDev\n",
    "    return annualizedReturn, annualizedStdDev, annualizedSharpe"
   ]
  },
  {
   "cell_type": "code",
   "execution_count": null,
   "id": "46e104b6",
   "metadata": {},
   "outputs": [],
   "source": [
    "mean3CumulativeReturns = mean3DailyReturns.apply(CumulativeReturns, axis=0)\n",
    "plt.plot(mean3CumulativeReturns['B&H'], label='B&H')\n",
    "plt.plot(mean3CumulativeReturns['Mn3Ret1'], label='Mn3Ret1')\n",
    "plt.plot(mean3CumulativeReturns['Mn3Ret2'], label='Mn3Ret2')\n",
    "plt.plot(mean3CumulativeReturns['Mn3Ret3'], label='Mn3Ret3')\n",
    "plt.plot(mean3CumulativeReturns['Mn3Ret4'], label='Mn3Ret4')\n",
    "plt.title('Strategy Parameters Optimization Cumulative Returns')\n",
    "plt.legend(loc='upper left')\n",
    "plt.show()"
   ]
  },
  {
   "cell_type": "code",
   "execution_count": null,
   "id": "b4592d18",
   "metadata": {},
   "outputs": [],
   "source": [
    "# 5.6. Calculate Performance Metrics and Print Summary Table\n",
    "mean3PerformanceMetrics = mean3DailyReturns.apply(PerformanceMetrics, axis=0)\n",
    "mean3PerformanceSummary = [{'0': 'Annualized:', '1': 'B&H', '2': 'Mn3Ret1', '3': 'Mn3Ret2', '4': 'Mn3Ret3',\n",
    "                             '5': 'Mn3Ret4'},\n",
    "        {'0': 'Return',\n",
    "         '1': np.round(mean3PerformanceMetrics[0][0], 4), '2': np.round(mean3PerformanceMetrics[1][0], 4),\n",
    "         '3': np.round(mean3PerformanceMetrics[2][0], 4), '4': np.round(mean3PerformanceMetrics[3][0], 4),\n",
    "         '5': np.round(mean3PerformanceMetrics[4][0], 4)},\n",
    "        {'0': 'Standard Deviation',\n",
    "         '1': np.round(mean3PerformanceMetrics[0][1], 4), '2': np.round(mean3PerformanceMetrics[1][1], 4),\n",
    "         '3': np.round(mean3PerformanceMetrics[2][1], 4), '4': np.round(mean3PerformanceMetrics[3][1], 4),\n",
    "         '5': np.round(mean3PerformanceMetrics[4][1], 4)},\n",
    "        {'0': 'Sharpe Ratio (Rf=0%)',\n",
    "         '1': np.round(mean3PerformanceMetrics[0][2], 4), '2': np.round(mean3PerformanceMetrics[1][2], 4),\n",
    "         '3': np.round(mean3PerformanceMetrics[2][2], 4), '4': np.round(mean3PerformanceMetrics[3][2], 4),\n",
    "         '5': np.round(mean3PerformanceMetrics[4][2], 4)}]\n",
    "mean3PerformanceSummary = pd.DataFrame(mean3PerformanceSummary)\n",
    "print('')\n",
    "print('== Strategy Parameters Optimization Performace Summary ==')\n",
    "print('')\n",
    "print(mean3PerformanceSummary)\n",
    "print('')"
   ]
  },
  {
   "cell_type": "markdown",
   "id": "3283fcd0",
   "metadata": {},
   "source": [
    "### Do Multiple Hypothesis Testing P-Values Adjustments"
   ]
  },
  {
   "cell_type": "code",
   "execution_count": null,
   "id": "c326b622",
   "metadata": {},
   "outputs": [],
   "source": [
    "# 6.1. Calculate Multiple Hypothesis Testing P-Values\n",
    "mean3MultipleTTests = mean3DailyReturns.iloc[:, 1:5].apply(st.ttest_1samp, axis=0, popmean=0, nan_policy='omit')\n",
    "mean3MultiplePValues = (mean3MultipleTTests[0][1], mean3MultipleTTests[1][1], mean3MultipleTTests[2][1],\n",
    "                         mean3MultipleTTests[3][1])"
   ]
  },
  {
   "cell_type": "code",
   "execution_count": null,
   "id": "3d6044d6",
   "metadata": {},
   "outputs": [],
   "source": [
    "# 6.2. Adjust Multiple Hypothesis Testing P-Values Calculations\n",
    "mean3MultiplePValuesFWE = mt.multipletests(mean3MultiplePValues, alpha=0.05, method='bonferroni',\n",
    "                                                   is_sorted=False, returnsorted=False)\n",
    "mean3MultiplePValuesFDR = mt.multipletests(mean3MultiplePValues, alpha=0.05, method='fdr_bh',\n",
    "                                                   is_sorted=False, returnsorted=False)"
   ]
  },
  {
   "cell_type": "code",
   "execution_count": null,
   "id": "316e48fc",
   "metadata": {},
   "outputs": [],
   "source": [
    "# 6.3. Print Multiple Hypothesis Testing P-Values Adjustment Summary Table\n",
    "mean3MultiplePValuesSummary = [{'0': '', '1': 'Mn3Ret1', '2': 'Mn3Ret2', '3': 'Mn3Ret3', '4': 'Mn3Ret4'},\n",
    "        {'0': 'PValues',\n",
    "         '1': np.round(mean3MultiplePValues[0], 4), '2': np.round(mean3MultiplePValues[1], 4),\n",
    "         '3': np.round(mean3MultiplePValues[2], 4), '4': np.round(mean3MultiplePValues[3], 4)},\n",
    "        {'0': 'PValues FWE',\n",
    "         '1': np.round(mean3MultiplePValuesFWE[1][0], 4), '2': np.round(mean3MultiplePValuesFWE[1][1], 4),\n",
    "         '3': np.round(mean3MultiplePValuesFWE[1][2], 4), '4': np.round(mean3MultiplePValuesFWE[1][3], 4)},\n",
    "        {'0': 'PValues FDR',\n",
    "         '1': np.round(mean3MultiplePValuesFDR[1][0], 4), '2': np.round(mean3MultiplePValuesFDR[1][1], 4),\n",
    "         '3': np.round(mean3MultiplePValuesFDR[1][2], 4), '4': np.round(mean3MultiplePValuesFDR[1][3], 4)}]\n",
    "mean3MultiplePValuesSummary = pd.DataFrame(mean3MultiplePValuesSummary)\n",
    "print('')\n",
    "print('== Multiple Hypothesis Testing P-Values Adjustments ==')\n",
    "print('')\n",
    "print(mean3MultiplePValuesSummary)\n",
    "print('')"
   ]
  },
  {
   "cell_type": "markdown",
   "id": "3f0e5aa9",
   "metadata": {},
   "source": [
    "# Do Individual Time Series Bootstrap P-Value Multiple Comparison Adjustment"
   ]
  },
  {
   "cell_type": "code",
   "execution_count": null,
   "id": "030a4dc0",
   "metadata": {},
   "outputs": [],
   "source": [
    "# 7.1. Define Bootstrap Mean Function\n",
    "def bmean(x):\n",
    "    return x.mean(0)\n",
    "\n",
    "# 7.2. Do Individual Time Series Bootstrap\n",
    "mean3StartBoot = time.time()\n",
    "print('')\n",
    "print('== Individual Time Series Bootstrap ==')\n",
    "print('')\n",
    "mean3Boot = boot.CircularBlockBootstrap(block_size=10, x=mean3DailyReturns.iloc[:, 3])\n",
    "mean3BootMeans = mean3Boot.apply(func=bmean, reps=1000)\n",
    "mean3BootIntervals = mean3Boot.conf_int(func=bmean, reps=1000, method='percentile', size=0.95, tail='two')\n",
    "mean3EndBoot = time.time()\n",
    "print('')\n",
    "print('Bootstrap Running Time: ', round(mean3EndBoot - mean3StartBoot, 4), ' seconds')\n",
    "print('')"
   ]
  },
  {
   "cell_type": "code",
   "execution_count": null,
   "id": "8851fd48",
   "metadata": {},
   "outputs": [],
   "source": [
    "# 7.3. Chart Individual Time Series Bootstrap Histogram\n",
    "plt.hist(mean3BootMeans, bins=20, density=True, label='BootMeans')\n",
    "plt.title('Population Mean Probability Distribution Simulation')\n",
    "plt.axvline(x=np.mean(mean3DailyReturns.iloc[:, 3]), color='purple', linestyle='--', label='mean(Mn3Ret3)')\n",
    "plt.axvline(x=np.mean(mean3BootMeans), color='red', linestyle='--', label='mean(BootMeans)')\n",
    "plt.axvline(x=0, color='orange', linestyle='--')\n",
    "plt.axvline(x=mean3BootIntervals[0], color='green', linestyle='--', label='BootLowerCI')\n",
    "plt.axvline(x=mean3BootIntervals[1], color='green', linestyle='--', label='BootUpperCI')\n",
    "plt.ylabel('Density')\n",
    "plt.xlabel('Bin Edges')\n",
    "plt.legend(loc='upper right')\n",
    "plt.show()"
   ]
  },
  {
   "cell_type": "code",
   "execution_count": null,
   "id": "c01b577a",
   "metadata": {},
   "outputs": [],
   "source": [
    "# 7.4. Calculate Individual Time Series Bootstrap P-Value\n",
    "mean3BootPValue = 2 * min(np.mean(mean3BootMeans <= 0), np.mean(mean3BootMeans > 0))"
   ]
  },
  {
   "cell_type": "code",
   "execution_count": null,
   "id": "3db136ef",
   "metadata": {},
   "outputs": [],
   "source": [
    "# 7.5. Adjust Individual Time Series Bootstrap P-Value Calculation\n",
    "mean3BootPValueFWE = 1 - (1 - mean3BootPValue) ** 4\n",
    "print('')\n",
    "print('== Individual Time Series Bootstrap Hypothesis Testing ==')\n",
    "print('')\n",
    "print('Mn3Ret3 P-Value:', np.round(mean3BootPValue, 4))\n",
    "print('Mn3Ret3 P-Value FWE:', np.round(mean3BootPValueFWE, 4))"
   ]
  }
 ],
 "metadata": {},
 "nbformat": 4,
 "nbformat_minor": 5
}
