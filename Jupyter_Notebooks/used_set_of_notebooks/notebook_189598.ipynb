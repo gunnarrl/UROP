{
 "cells": [
  {
   "cell_type": "markdown",
   "id": "507764a4",
   "metadata": {},
   "source": [
    "Example of python built-in map below"
   ]
  },
  {
   "cell_type": "markdown",
   "id": "2e7899f0",
   "metadata": {},
   "source": [
    "In this example we will calculate the squares of each of the item in the list"
   ]
  },
  {
   "cell_type": "code",
   "execution_count": null,
   "id": "08d1abb9",
   "metadata": {},
   "outputs": [],
   "source": [
    "def square(num):\n",
    "    return num**2"
   ]
  },
  {
   "cell_type": "code",
   "execution_count": null,
   "id": "7b602f6c",
   "metadata": {},
   "outputs": [],
   "source": [
    "my_num = [1,2,3,4,5]"
   ]
  },
  {
   "cell_type": "code",
   "execution_count": null,
   "id": "dbb917b6",
   "metadata": {},
   "outputs": [],
   "source": [
    "map(square,my_num)"
   ]
  },
  {
   "cell_type": "code",
   "execution_count": null,
   "id": "c913be5e",
   "metadata": {},
   "outputs": [],
   "source": [
    "[map(square,my_num)]"
   ]
  },
  {
   "cell_type": "code",
   "execution_count": null,
   "id": "725c4840",
   "metadata": {},
   "outputs": [],
   "source": [
    "list(map(square,my_num))"
   ]
  },
  {
   "cell_type": "markdown",
   "id": "bf2b17d5",
   "metadata": {},
   "source": [
    "Example of Python Built-in filter below"
   ]
  },
  {
   "cell_type": "markdown",
   "id": "a9e08718",
   "metadata": {},
   "source": [
    "In this example we will filter out the even values from the list"
   ]
  },
  {
   "cell_type": "code",
   "execution_count": null,
   "id": "fd3321be",
   "metadata": {},
   "outputs": [],
   "source": [
    "def even_out(num):\n",
    "    return num%2==0"
   ]
  },
  {
   "cell_type": "code",
   "execution_count": null,
   "id": "75694c89",
   "metadata": {},
   "outputs": [],
   "source": [
    "even_out(2)"
   ]
  },
  {
   "cell_type": "code",
   "execution_count": null,
   "id": "6fd0c8af",
   "metadata": {},
   "outputs": [],
   "source": [
    "filter(even_out,my_num)"
   ]
  },
  {
   "cell_type": "code",
   "execution_count": null,
   "id": "f35b190f",
   "metadata": {},
   "outputs": [],
   "source": [
    "list(filter(even_out,my_num))"
   ]
  },
  {
   "cell_type": "markdown",
   "id": "38ae29c0",
   "metadata": {},
   "source": [
    "In the example below we will discuss the lambda expressions"
   ]
  },
  {
   "cell_type": "markdown",
   "id": "362fc56f",
   "metadata": {},
   "source": [
    "Lambda expression for the square function."
   ]
  },
  {
   "cell_type": "code",
   "execution_count": null,
   "id": "a19267b0",
   "metadata": {},
   "outputs": [],
   "source": [
    "square=lambda num: num**2"
   ]
  },
  {
   "cell_type": "code",
   "execution_count": null,
   "id": "5445ae89",
   "metadata": {},
   "outputs": [],
   "source": [
    "list(map(square,my_num))"
   ]
  },
  {
   "cell_type": "markdown",
   "id": "2b923a28",
   "metadata": {},
   "source": [
    "another version of inplace use of the lamba function"
   ]
  },
  {
   "cell_type": "code",
   "execution_count": null,
   "id": "8ce07057",
   "metadata": {},
   "outputs": [],
   "source": [
    "list(map(lambda num:num**2,my_num))"
   ]
  },
  {
   "cell_type": "markdown",
   "id": "4bbbf813",
   "metadata": {},
   "source": [
    "Lambda expression for the filter function"
   ]
  },
  {
   "cell_type": "code",
   "execution_count": null,
   "id": "a92576b3",
   "metadata": {},
   "outputs": [],
   "source": [
    "even_out=lambda num:num%2==0"
   ]
  },
  {
   "cell_type": "code",
   "execution_count": null,
   "id": "c7bdb0ec",
   "metadata": {},
   "outputs": [],
   "source": [
    "list(filter(even_out,my_num))"
   ]
  },
  {
   "cell_type": "markdown",
   "id": "47ae3389",
   "metadata": {},
   "source": [
    "another version with inplace use of the lambda expressions"
   ]
  },
  {
   "cell_type": "code",
   "execution_count": null,
   "id": "09d0b095",
   "metadata": {},
   "outputs": [],
   "source": [
    "list(filter(lambda num:num%2==0,my_num))"
   ]
  }
 ],
 "metadata": {},
 "nbformat": 4,
 "nbformat_minor": 5
}
