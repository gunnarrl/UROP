{
 "cells": [
  {
   "cell_type": "markdown",
   "id": "7b2ae3a7",
   "metadata": {},
   "source": [
    "# TensorFlow Tutorial For Beginners\n",
    "\n",
    "*This notebook was made in preparation for the DataCamp tutorial \"TensorFlow Tutorial for Beginners\"; If you want more explanations on the code or on using TensorFlow, go to the full tutorial [here](https://www.datacamp.com/community/tutorials/tensorflow-tutorial).*\n",
    "\n",
    "The full tutorial covers the following topics:\n",
    "\n",
    "* Introducing Tensors\n",
    "    - Plane Vectors\n",
    "    - Tensors\n",
    "* Installing TensorFlow\n",
    "* [TensorFlow Basics](#basics)\n",
    "* [Loading And Exploring The Data](#exploration)\n",
    "    - Some Statistics\n",
    "    - Visual Exploration\n",
    "* [Feature Extraction](#extraction)\n",
    "    - Rescaling Images\n",
    "    - Image Conversion to Grayscale\n",
    "* [Deep Learning with Tensorflow](#dl)\n",
    "    - Modeling Neural Network\n",
    "    - Running The Neural Network\n",
    "    - Evaluating Your Neural Network\n",
    "* Where To Go Next?"
   ]
  },
  {
   "cell_type": "markdown",
   "id": "5a0035d1",
   "metadata": {},
   "source": [
    "![DataCamp courses](http://community.datacamp.com.s3.amazonaws.com/community/production/ckeditor_assets/pictures/293/content_blog_banner.png)"
   ]
  },
  {
   "cell_type": "code",
   "execution_count": null,
   "id": "2f5405b4",
   "metadata": {},
   "outputs": [],
   "source": [
    "%load_ext watermark\n",
    "%watermark -p tensorflow,skimage,matplotlib,numpy,random"
   ]
  },
  {
   "cell_type": "code",
   "execution_count": null,
   "id": "c3191812",
   "metadata": {},
   "outputs": [],
   "source": [
    "import tensorflow as tf\n",
    "from skimage import transform\n",
    "from skimage import data\n",
    "import matplotlib.pyplot as plt\n",
    "import os\n",
    "import numpy as np\n",
    "from skimage.color import rgb2gray\n",
    "import random"
   ]
  },
  {
   "cell_type": "markdown",
   "id": "6862735d",
   "metadata": {},
   "source": [
    "<a id='basics'></a>\n",
    "## TensorFlow Basics"
   ]
  },
  {
   "cell_type": "code",
   "execution_count": null,
   "id": "ccb79591",
   "metadata": {},
   "outputs": [],
   "source": [
    "# Import `tensorflow`\n",
    "import tensorflow as tf\n",
    "\n",
    "# Initialize two constants\n",
    "x1 = tf.constant([1,2,3,4])\n",
    "x2 = tf.constant([5,6,7,8])\n",
    "\n",
    "# Multiply\n",
    "result = tf.multiply(x1, x2)\n",
    "\n",
    "# Print the result\n",
    "print(result)"
   ]
  },
  {
   "cell_type": "code",
   "execution_count": null,
   "id": "1f8646b2",
   "metadata": {},
   "outputs": [],
   "source": [
    "# Import `tensorflow` \n",
    "import tensorflow as tf\n",
    "\n",
    "# Initialize two constants\n",
    "x1 = tf.constant([1,2,3,4])\n",
    "x2 = tf.constant([5,6,7,8])\n",
    "\n",
    "# Multiply\n",
    "result = tf.multiply(x1, x2)\n",
    "\n",
    "# Intialize the Session\n",
    "sess = tf.Session()\n",
    "\n",
    "# Print the result\n",
    "print(sess.run(result))\n",
    "\n",
    "# Close the session\n",
    "sess.close()"
   ]
  },
  {
   "cell_type": "code",
   "execution_count": null,
   "id": "c2ac18a6",
   "metadata": {},
   "outputs": [],
   "source": [
    "# Import `tensorflow`\n",
    "import tensorflow as tf\n",
    "\n",
    "# Initialize two constants\n",
    "x1 = tf.constant([1,2,3,4])\n",
    "x2 = tf.constant([5,6,7,8])\n",
    "\n",
    "# Multiply\n",
    "result = tf.multiply(x1, x2)\n",
    "\n",
    "# Initialize Session and run `result`\n",
    "with tf.Session() as sess:\n",
    "    output = sess.run(result)\n",
    "    print(output)"
   ]
  },
  {
   "cell_type": "markdown",
   "id": "79e358e0",
   "metadata": {},
   "source": [
    "<a id='exploration'></a>\n",
    "## Loading And Exploring The Data"
   ]
  },
  {
   "cell_type": "code",
   "execution_count": null,
   "id": "682967ce",
   "metadata": {},
   "outputs": [],
   "source": [
    "def load_data(data_dir):\n",
    "    # Get all subdirectories of data_dir. Each represents a label.\n",
    "    directories = [d for d in os.listdir(data_dir) \n",
    "                   if os.path.isdir(os.path.join(data_dir, d))]\n",
    "    # Loop through the label directories and collect the data in\n",
    "    # two lists, labels and images.\n",
    "    labels = []\n",
    "    images = []\n",
    "    for d in directories:\n",
    "        label_dir = os.path.join(data_dir, d)\n",
    "        file_names = [os.path.join(label_dir, f) \n",
    "                      for f in os.listdir(label_dir) \n",
    "                      if f.endswith(\".ppm\")]\n",
    "        for f in file_names:\n",
    "            images.append(data.imread(f))\n",
    "            labels.append(int(d))\n",
    "    return images, labels\n",
    "\n",
    "ROOT_PATH = \"/Users/karlijnwillems/Downloads/\"\n",
    "train_data_dir = os.path.join(ROOT_PATH, \"TrafficSigns/Training\")\n",
    "test_data_dir = os.path.join(ROOT_PATH, \"TrafficSigns/Testing\")\n",
    "\n",
    "images, labels = load_data(train_data_dir)"
   ]
  },
  {
   "cell_type": "code",
   "execution_count": null,
   "id": "5b2d6e3e",
   "metadata": {},
   "outputs": [],
   "source": [
    "images_array = np.array(images)\n",
    "labels_array = np.array(labels)\n",
    "\n",
    "# Print the `images` dimensions\n",
    "print(images_array.ndim)\n",
    "\n",
    "# Print the number of `images`'s elements\n",
    "print(images_array.size)\n",
    "\n",
    "# Print the first instance of `images`\n",
    "images_array[0]\n",
    "\n",
    "# Print the `labels` dimensions\n",
    "print(labels_array.ndim)\n",
    "\n",
    "# Print the number of `labels`'s elements\n",
    "print(labels_array.size)\n",
    "\n",
    "# Count the number of labels\n",
    "print(len(set(labels_array)))"
   ]
  },
  {
   "cell_type": "code",
   "execution_count": null,
   "id": "1d42d5ec",
   "metadata": {},
   "outputs": [],
   "source": [
    "# Import the `pyplot` module\n",
    "import matplotlib.pyplot as plt \n",
    "\n",
    "# Make a histogram with 62 bins of the `labels` data\n",
    "plt.hist(labels, 62)\n",
    "\n",
    "# Show the plot\n",
    "plt.show()"
   ]
  },
  {
   "cell_type": "code",
   "execution_count": null,
   "id": "595ae6b1",
   "metadata": {},
   "outputs": [],
   "source": [
    "# Import the `pyplot` module of `matplotlib`\n",
    "import matplotlib.pyplot as plt\n",
    "\n",
    "# Determine the (random) indexes of the images that you want to see \n",
    "traffic_signs = [300, 2250, 3650, 4000]\n",
    "\n",
    "# Fill out the subplots with the random images that you defined \n",
    "for i in range(len(traffic_signs)):\n",
    "    plt.subplot(1, 4, i+1)\n",
    "    plt.axis('off')\n",
    "    plt.imshow(images[traffic_signs[i]])\n",
    "    plt.subplots_adjust(wspace=0.5)\n",
    "\n",
    "plt.show()"
   ]
  },
  {
   "cell_type": "code",
   "execution_count": null,
   "id": "59ccc619",
   "metadata": {},
   "outputs": [],
   "source": [
    "# Import `matplotlib`\n",
    "import matplotlib.pyplot as plt\n",
    "\n",
    "# Determine the (random) indexes of the images\n",
    "traffic_signs = [300, 2250, 3650, 4000]\n",
    "\n",
    "# Fill out the subplots with the random images and add shape, min and max values\n",
    "for i in range(len(traffic_signs)):\n",
    "    plt.subplot(1, 4, i+1)\n",
    "    plt.axis('off')\n",
    "    plt.imshow(images[traffic_signs[i]])\n",
    "    plt.subplots_adjust(wspace=0.5)\n",
    "    plt.show()\n",
    "    print(\"shape: {0}, min: {1}, max: {2}\".format(images[traffic_signs[i]].shape, \n",
    "                                                  images[traffic_signs[i]].min(), \n",
    "                                                  images[traffic_signs[i]].max()))"
   ]
  },
  {
   "cell_type": "code",
   "execution_count": null,
   "id": "c8ee1149",
   "metadata": {},
   "outputs": [],
   "source": [
    "# Import the `pyplot` module as `plt`\n",
    "import matplotlib.pyplot as plt \n",
    "\n",
    "# Get the unique labels \n",
    "unique_labels = set(labels)\n",
    "\n",
    "# Initialize the figure\n",
    "plt.figure(figsize=(15, 15))\n",
    "\n",
    "# Set a counter\n",
    "i = 1\n",
    "\n",
    "# For each unique label,\n",
    "for label in unique_labels:\n",
    "    # You pick the first image for each label\n",
    "    image = images[labels.index(label)]\n",
    "    # Define 64 subplots \n",
    "    plt.subplot(8, 8, i)\n",
    "    # Don't include axes\n",
    "    plt.axis('off')\n",
    "    # Add a title to each subplot \n",
    "    plt.title(\"Label {0} ({1})\".format(label, labels.count(label)))\n",
    "    # Add 1 to the counter\n",
    "    i += 1\n",
    "    # And you plot this first image \n",
    "    plt.imshow(image)\n",
    "    \n",
    "# Show the plot\n",
    "plt.show()"
   ]
  },
  {
   "cell_type": "markdown",
   "id": "7efdddb1",
   "metadata": {},
   "source": [
    "<a id='extraction'></a>\n",
    "## Feature Extraction\n",
    "### Rescaling Images"
   ]
  },
  {
   "cell_type": "code",
   "execution_count": null,
   "id": "de2f1150",
   "metadata": {},
   "outputs": [],
   "source": [
    "# Resize images\n",
    "images32 = [transform.resize(image, (28, 28)) for image in images]\n",
    "images32 = np.array(images32)"
   ]
  },
  {
   "cell_type": "code",
   "execution_count": null,
   "id": "7c8ef8ff",
   "metadata": {},
   "outputs": [],
   "source": [
    "# Import `matplotlib`\n",
    "import matplotlib.pyplot as plt\n",
    "\n",
    "# Determine the (random) indexes of the images\n",
    "traffic_signs = [300, 2250, 3650, 4000]\n",
    "\n",
    "# Fill out the subplots with the random images and add shape, min and max values\n",
    "for i in range(len(traffic_signs)):\n",
    "    plt.subplot(1, 4, i+1)\n",
    "    plt.axis('off')\n",
    "    plt.imshow(images32[traffic_signs[i]])\n",
    "    plt.subplots_adjust(wspace=0.5)\n",
    "    plt.show()\n",
    "    print(\"shape: {0}, min: {1}, max: {2}\".format(images32[traffic_signs[i]].shape, \n",
    "                                                  images32[traffic_signs[i]].min(), \n",
    "                                                  images32[traffic_signs[i]].max()))"
   ]
  },
  {
   "cell_type": "markdown",
   "id": "53bfe8ec",
   "metadata": {},
   "source": [
    "### Image Conversion to Grayscale "
   ]
  },
  {
   "cell_type": "code",
   "execution_count": null,
   "id": "154bb9ce",
   "metadata": {},
   "outputs": [],
   "source": [
    "images32 = rgb2gray(np.array(images32))"
   ]
  },
  {
   "cell_type": "code",
   "execution_count": null,
   "id": "9e6beb0a",
   "metadata": {},
   "outputs": [],
   "source": [
    "for i in range(len(traffic_signs)):\n",
    "    plt.subplot(1, 4, i+1)\n",
    "    plt.axis('off')\n",
    "    plt.imshow(images32[traffic_signs[i]], cmap=\"gray\")\n",
    "    plt.subplots_adjust(wspace=0.5)\n",
    "    \n",
    "plt.show()\n",
    "\n",
    "print(images32.shape)"
   ]
  },
  {
   "cell_type": "markdown",
   "id": "7acd29b5",
   "metadata": {},
   "source": [
    "<a id='dl'></a>\n",
    "## Deep Learning with Tensorflow\n",
    "\n",
    "### Modeling The Neural Network"
   ]
  },
  {
   "cell_type": "code",
   "execution_count": null,
   "id": "97f3c94e",
   "metadata": {},
   "outputs": [],
   "source": [
    "x = tf.placeholder(dtype = tf.float32, shape = [None, 28, 28])\n",
    "y = tf.placeholder(dtype = tf.int32, shape = [None])\n",
    "images_flat = tf.contrib.layers.flatten(x)\n",
    "logits = tf.contrib.layers.fully_connected(images_flat, 62, tf.nn.relu)\n",
    "loss = tf.reduce_mean(tf.nn.sparse_softmax_cross_entropy_with_logits(labels = y, logits = logits))\n",
    "train_op = tf.train.AdamOptimizer(learning_rate=0.001).minimize(loss)\n",
    "correct_pred = tf.argmax(logits, 1)\n",
    "accuracy = tf.reduce_mean(tf.cast(correct_pred, tf.float32))\n",
    "\n",
    "print(\"images_flat: \", images_flat)\n",
    "print(\"logits: \", logits)\n",
    "print(\"loss: \", loss)\n",
    "print(\"predicted_labels: \", correct_pred)"
   ]
  },
  {
   "cell_type": "markdown",
   "id": "3326a1ea",
   "metadata": {},
   "source": [
    "### Running The Neural Network"
   ]
  },
  {
   "cell_type": "code",
   "execution_count": null,
   "id": "103d345f",
   "metadata": {},
   "outputs": [],
   "source": [
    "sess = tf.Session()\n",
    "\n",
    "sess.run(tf.global_variables_initializer())\n",
    "\n",
    "for i in range(201):\n",
    "        print('EPOCH', i)\n",
    "        _, accuracy_val = sess.run([train_op, accuracy], feed_dict={x: images32, y: labels})\n",
    "        if i % 10 == 0:\n",
    "            print(\"Loss: \", loss)\n",
    "        print('DONE WITH EPOCH')"
   ]
  },
  {
   "cell_type": "code",
   "execution_count": null,
   "id": "a6b1317d",
   "metadata": {},
   "outputs": [],
   "source": [
    "# Alternatively, you can also run the following lines of code instead of the code chunk above:\n",
    "#with tf.Session() as sess:\n",
    "#    sess.run(tf.global_variables_initializer())\n",
    "#    for i in range(201):\n",
    "#        print('EPOCH', i)\n",
    "#        _, accuracy_val = sess.run([train_op, accuracy], feed_dict={x: images32, y: labels})\n",
    "#        if i % 10 == 0:\n",
    "#            print(\"Loss: \", loss)\n",
    "#        print('DONE WITH EPOCH')"
   ]
  },
  {
   "cell_type": "markdown",
   "id": "fd3d79bf",
   "metadata": {},
   "source": [
    "### Evaluating The Neural Network"
   ]
  },
  {
   "cell_type": "code",
   "execution_count": null,
   "id": "16f71f37",
   "metadata": {},
   "outputs": [],
   "source": [
    "# Pick 10 random images\n",
    "sample_indexes = random.sample(range(len(images32)), 10)\n",
    "sample_images = [images32[i] for i in sample_indexes]\n",
    "sample_labels = [labels[i] for i in sample_indexes]\n",
    "\n",
    "# Run the \"predicted_labels\" op.\n",
    "predicted = sess.run([correct_pred], feed_dict={x: sample_images})[0]\n",
    "                        \n",
    "# Print the real and predicted labels\n",
    "print(sample_labels)\n",
    "print(predicted)"
   ]
  },
  {
   "cell_type": "code",
   "execution_count": null,
   "id": "3007b0f4",
   "metadata": {},
   "outputs": [],
   "source": [
    "# Display the predictions and the ground truth visually.\n",
    "fig = plt.figure(figsize=(10, 10))\n",
    "for i in range(len(sample_images)):\n",
    "    truth = sample_labels[i]\n",
    "    prediction = predicted[i]\n",
    "    plt.subplot(5, 2,1+i)\n",
    "    plt.axis('off')\n",
    "    color='green' if truth == prediction else 'red'\n",
    "    plt.text(40, 10, \"Truth:        {0}\\nPrediction: {1}\".format(truth, prediction), \n",
    "             fontsize=12, color=color)\n",
    "    plt.imshow(sample_images[i])\n",
    "\n",
    "plt.show()"
   ]
  },
  {
   "cell_type": "code",
   "execution_count": null,
   "id": "f5832c74",
   "metadata": {},
   "outputs": [],
   "source": [
    "# Load the test data\n",
    "test_images, test_labels = load_data(test_data_dir)\n",
    "\n",
    "# Transform the images to 28 by 28 pixels\n",
    "test_images28 = [transform.resize(image, (28, 28)) for image in test_images]\n",
    "\n",
    "# Convert to grayscale\n",
    "from skimage.color import rgb2gray\n",
    "test_images28 = rgb2gray(np.array(test_images28))\n",
    "\n",
    "# Run predictions against the full test set.\n",
    "predicted = sess.run([correct_pred], feed_dict={x: test_images28})[0]\n",
    "\n",
    "# Calculate correct matches \n",
    "match_count = sum([int(y == y_) for y, y_ in zip(test_labels, predicted)])\n",
    "\n",
    "# Calculate the accuracy\n",
    "accuracy = match_count / len(test_labels)\n",
    "\n",
    "# Print the accuracy\n",
    "print(\"Accuracy: {:.3f}\".format(accuracy))"
   ]
  },
  {
   "cell_type": "code",
   "execution_count": null,
   "id": "02e3c509",
   "metadata": {},
   "outputs": [],
   "source": [
    "sess.close()"
   ]
  }
 ],
 "metadata": {},
 "nbformat": 4,
 "nbformat_minor": 5
}
