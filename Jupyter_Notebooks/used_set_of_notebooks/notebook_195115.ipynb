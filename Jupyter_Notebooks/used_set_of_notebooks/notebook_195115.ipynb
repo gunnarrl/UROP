{
 "cells": [
  {
   "cell_type": "markdown",
   "id": "e9b88c29",
   "metadata": {},
   "source": [
    "# CO2 analysis\n",
    "\n",
    "This notebook is being used to prepare data and figures for the upcoming APERC Annual CO2 Emissions Report, due for publication in June 2020. The data and results here are strictly preliminary at this point.\n",
    "\n",
    "A final interactive notebook will be made available at publication.\n",
    "\n",
    "To use this notebook:\n",
    "1. import the libraries below\n",
    "2. import the prepared data\n",
    "3. Plot all economies together\n",
    "4. Plot each economy separately. You can select either fuels or sectors."
   ]
  },
  {
   "cell_type": "code",
   "execution_count": null,
   "id": "47f1cd7d",
   "metadata": {},
   "outputs": [],
   "source": [
    "import numpy as np\n",
    "import pandas as pd\n",
    "import glob\n",
    "import os\n",
    "from bokeh.palettes import brewer\n",
    "from bokeh.palettes import Category20\n",
    "from bokeh.palettes import viridis\n",
    "from bokeh.palettes import inferno\n",
    "import seaborn as sns\n",
    "import matplotlib.pyplot as plt\n",
    "\n",
    "from bokeh.models import Legend\n",
    "from bokeh.plotting import figure\n",
    "\n",
    "from bokeh.plotting import figure, show, output_notebook\n",
    "from bokeh.layouts import gridplot\n",
    "output_notebook()"
   ]
  },
  {
   "cell_type": "code",
   "execution_count": null,
   "id": "2bc96841",
   "metadata": {},
   "outputs": [],
   "source": [
    "sns.set(style=\"ticks\")"
   ]
  },
  {
   "cell_type": "markdown",
   "id": "9320a251",
   "metadata": {},
   "source": [
    "#### Prepare data (optional)"
   ]
  },
  {
   "cell_type": "code",
   "execution_count": null,
   "id": "a379aeca",
   "metadata": {},
   "outputs": [],
   "source": [
    "file_list = glob.glob('../data/CO2 raw/*-Co2r.xls')"
   ]
  },
  {
   "cell_type": "code",
   "execution_count": null,
   "id": "7e067d9f",
   "metadata": {},
   "outputs": [],
   "source": [
    "economies = []\n",
    "\n",
    "for file in file_list:\n",
    "    economies_dirty = os.path.basename(file)\n",
    "    economies_dirty = economies_dirty[:-9]\n",
    "    economies.append(economies_dirty)"
   ]
  },
  {
   "cell_type": "code",
   "execution_count": null,
   "id": "0d5f8d0f",
   "metadata": {},
   "outputs": [],
   "source": [
    "names = {\n",
    "    'AUS':'01_AUS',\n",
    "    'BRN':'02_BD',\n",
    "    'CAN':'03_CDA',\n",
    "    'CHL':'04_CHL',\n",
    "    'CHN':'05_PRC',\n",
    "    'HKG':'06_HKC',\n",
    "    'IDN':'07_INA',\n",
    "    'Jpn':'08_JPN',\n",
    "    'KOR':'09_ROK',\n",
    "    'MYS':'10_MAS',\n",
    "    'MEX':'11_MEX',\n",
    "    'NZL':'12_NZ',\n",
    "    'PNG':'13_PNG',\n",
    "    'PER':'14_PE',\n",
    "    'PHL':'15_RP',\n",
    "    'RUS':'16_RUS',\n",
    "    'SGP':'17_SG',\n",
    "    'TWN':'18_CT',\n",
    "    'THA':'19_THA',\n",
    "    'USA':'20_USA',\n",
    "    'VNM':'21_VN'\n",
    "}"
   ]
  },
  {
   "cell_type": "code",
   "execution_count": null,
   "id": "03436aaf",
   "metadata": {},
   "outputs": [],
   "source": [
    "dfs = []\n",
    "for file,economy in zip(file_list,economies):\n",
    "    #print(file)\n",
    "    _df = pd.read_excel(file,\n",
    "                      sheet_name='kt-CO2',\n",
    "                      skiprows=3,\n",
    "                        nrows=19,\n",
    "                       usecols='A:AM')\n",
    "    _df = _df.rename({'Unnamed: 0':'Item'},axis=1)\n",
    "   # _df = (_df.dropna(how=\"all\",axis=1)\n",
    "   #           .dropna(how=\"all\", axis=0)\n",
    "   #           .reset_index(drop=True)\n",
    "   #           .rename({'Unnamed: 0':'Item'},axis=1))\n",
    "    \n",
    "    _df = _df.melt(id_vars=['Item'],\n",
    "                var_name='Year',\n",
    "                value_name='Value')\n",
    "    _df['Economy'] = economy\n",
    "    dfs.append(_df)\n",
    "df = pd.concat(dfs)\n",
    "df = df.replace(names)\n",
    "df['Item'] = df['Item'].str.lstrip()\n",
    "df['Item'] = df['Item'].str.rstrip('1')\n",
    "df['Item'] = df['Item'].replace({'1.3  Gas':'1.3 Gas',\n",
    "                                 '1.1  Coal & Coal Products':'1.1 Coal & Coal Products',\n",
    "                                 '1.2  Crude Oil & Petroleum Products':'1.2 Crude Oil & Petroleum Products',\n",
    "                                 '2.1.1 Public Utilities':'2.1.1 Main Activity Producer',\n",
    "                                 '2.1.2 Auto-Generation':'2.1.2 Autoproducers',\n",
    "                                 '2.1.4 Own Use & Loss':'2.1.4 Loss & Own Use',\n",
    "                                 '1.4  Others':'1.4 Others'})\n",
    "df['Value'] = np.divide(df['Value'],1000)\n",
    "df = df[df['Year'] >=1990]\n",
    "economies = df['Economy'].unique().tolist()\n",
    "\n",
    "df.to_csv('../data/CO2 emissions prepared.csv', index=False)"
   ]
  },
  {
   "cell_type": "markdown",
   "id": "2a8cb20a",
   "metadata": {},
   "source": [
    "### Read in prepared data:"
   ]
  },
  {
   "cell_type": "code",
   "execution_count": null,
   "id": "98019886",
   "metadata": {},
   "outputs": [],
   "source": [
    "df = pd.read_csv('../data/CO2 emissions prepared.csv')"
   ]
  },
  {
   "cell_type": "code",
   "execution_count": null,
   "id": "0f509d84",
   "metadata": {},
   "outputs": [],
   "source": [
    "df = df.sort_values(by='Economy')\n",
    "economies = df['Economy'].unique().tolist()\n",
    "df = df.reset_index(drop=True)"
   ]
  },
  {
   "cell_type": "markdown",
   "id": "73baf192",
   "metadata": {},
   "source": [
    "### Plot all economies together:"
   ]
  },
  {
   "cell_type": "code",
   "execution_count": null,
   "id": "1c419c7a",
   "metadata": {},
   "outputs": [],
   "source": [
    "to_plot = ['Total CO2 Emission']\n",
    "_df = df.set_index('Item')\n",
    "_df = _df.loc[to_plot]"
   ]
  },
  {
   "cell_type": "code",
   "execution_count": null,
   "id": "59beeb2b",
   "metadata": {},
   "outputs": [],
   "source": [
    "df_pivot = _df.pivot_table(index=['Year'],columns='Economy',values='Value')\n",
    "df_pivot = df_pivot.reset_index(drop=False)"
   ]
  },
  {
   "cell_type": "code",
   "execution_count": null,
   "id": "ddfc968f",
   "metadata": {},
   "outputs": [],
   "source": [
    "v = figure(width=1000, height=600,title='APEC',x_range=(1990, 2017)) \n",
    "names = df_pivot.drop('Year',axis=1).columns.values.tolist()\n",
    "numlines=len(names)\n",
    "\n",
    "v.varea_stack(names,x='Year', \n",
    "              color=viridis(numlines),\n",
    "              alpha=0.7,\n",
    "              muted_color=viridis(numlines), \n",
    "              muted_alpha=0.2,\n",
    "              legend_label=names, \n",
    "              source=df_pivot)\n",
    "v.legend.location = \"top_left\"\n",
    "v.legend.click_policy=\"mute\""
   ]
  },
  {
   "cell_type": "code",
   "execution_count": null,
   "id": "be07fd64",
   "metadata": {},
   "outputs": [],
   "source": [
    "show(v)"
   ]
  },
  {
   "cell_type": "markdown",
   "id": "e0bc701e",
   "metadata": {},
   "source": [
    "### Stacked area"
   ]
  },
  {
   "cell_type": "code",
   "execution_count": null,
   "id": "be743c17",
   "metadata": {},
   "outputs": [],
   "source": [
    "def stacked_area(df,things_to_plot,y_range):\n",
    "\n",
    "    df = df.loc[df['Item'].isin(things_to_plot)]\n",
    "    df = df.reset_index(drop=True)\n",
    "    df_unstacked = df.set_index(['Economy', 'Year','Item']).unstack('Item')\n",
    "    \n",
    "    figures = []\n",
    "    \n",
    "    for economy in economies:\n",
    "        _df = df_unstacked.loc[(economy,),]\n",
    "        numlines=len(_df.columns)\n",
    "        _df = _df.reset_index()\n",
    "        _df = _df.droplevel(0,axis=1)\n",
    "        _df = _df.rename({'':'Year'},axis=1)\n",
    "        names = _df.drop('Year',axis=1).columns.values.tolist()\n",
    "        \n",
    "        v = figure(width=500, \n",
    "                   height=300,\n",
    "                   title=economy,\n",
    "                   x_range=(1990, 2017),\n",
    "                   y_range=y_range\n",
    "                  ) \n",
    "        v.varea_stack(names, x='Year', \n",
    "                      color=Category20[numlines],\n",
    "                      alpha=0.7,\n",
    "                      muted_color=Category20[numlines], \n",
    "                      muted_alpha=0.2,\n",
    "                      legend_label=names, \n",
    "                      source=_df)\n",
    "        v.legend.location = \"top_left\"\n",
    "        v.legend.click_policy=\"mute\"\n",
    "        figures.append(v)\n",
    "    \n",
    "    show(gridplot(figures, ncols=3, plot_width=400, plot_height=300))"
   ]
  },
  {
   "cell_type": "markdown",
   "id": "dd0c6220",
   "metadata": {},
   "source": [
    "Two sets of plots will be created, one by fuels and one by sectors:"
   ]
  },
  {
   "cell_type": "code",
   "execution_count": null,
   "id": "a522567f",
   "metadata": {},
   "outputs": [],
   "source": [
    "fuels= ['1.1 Coal & Coal Products',\n",
    "                 '1.2 Crude Oil & Petroleum Products',\n",
    "                 '1.3 Gas']"
   ]
  },
  {
   "cell_type": "code",
   "execution_count": null,
   "id": "9b77e444",
   "metadata": {},
   "outputs": [],
   "source": [
    "sectors= [#'2.1.1 Main Activity Producer',\n",
    "          #'2.1.2 Autoproducers',\n",
    "          #'2.1.3 Gas Processing',\n",
    "          #'2.1.4 Loss & Own Use',\n",
    "          #'2.2 Final Energy Consumption Sector',\n",
    "          '2.2.1 Industry Sector',\n",
    "          '2.2.2 Transport Sector',\n",
    "          '2.2.3 Residential & Commercial',\n",
    "          '2.2.4 Other'\n",
    "          ]"
   ]
  },
  {
   "cell_type": "markdown",
   "id": "1d72bd0a",
   "metadata": {},
   "source": [
    "#### Plot by fuels:"
   ]
  },
  {
   "cell_type": "code",
   "execution_count": null,
   "id": "7c20f290",
   "metadata": {},
   "outputs": [],
   "source": [
    "stacked_area(df,fuels,(0,10000))"
   ]
  },
  {
   "cell_type": "markdown",
   "id": "7b264a58",
   "metadata": {},
   "source": [
    "#### Plot by sector:"
   ]
  },
  {
   "cell_type": "code",
   "execution_count": null,
   "id": "a7b564d1",
   "metadata": {},
   "outputs": [],
   "source": [
    "stacked_area(df,sectors,(0,10000))"
   ]
  }
 ],
 "metadata": {},
 "nbformat": 4,
 "nbformat_minor": 5
}
