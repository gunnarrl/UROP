{
 "cells": [
  {
   "cell_type": "code",
   "execution_count": null,
   "id": "e13df038",
   "metadata": {},
   "outputs": [],
   "source": [
    "import numpy as np\n",
    "import librosa\n",
    "import matplotlib.pyplot as plt\n",
    "import seaborn as sns\n",
    "sns.set()\n",
    "import os\n",
    "import scipy\n",
    "import librosa.display\n",
    "from IPython.display import Audio"
   ]
  },
  {
   "cell_type": "code",
   "execution_count": null,
   "id": "8c883715",
   "metadata": {},
   "outputs": [],
   "source": [
    "tolong_sebut = [i for i in os.listdir('tolong-sebut') if '.wav' in i]\n",
    "random_voice = 'tolong-sebut/' + tolong_sebut[0]"
   ]
  },
  {
   "cell_type": "code",
   "execution_count": null,
   "id": "da36ded3",
   "metadata": {},
   "outputs": [],
   "source": [
    "Audio(random_voice)"
   ]
  },
  {
   "cell_type": "code",
   "execution_count": null,
   "id": "2d8753bb",
   "metadata": {},
   "outputs": [],
   "source": [
    "sample_rate, samples = scipy.io.wavfile.read(random_voice)\n",
    "plt.figure(figsize=(12, 4))\n",
    "librosa.display.waveplot(samples.astype('float'), sr=sample_rate)\n",
    "plt.show()"
   ]
  },
  {
   "cell_type": "code",
   "execution_count": null,
   "id": "329c0e6f",
   "metadata": {},
   "outputs": [],
   "source": [
    "X = librosa.stft(samples.astype('float'))\n",
    "Xdb = librosa.amplitude_to_db(X)\n",
    "plt.figure(figsize=(12, 5))\n",
    "librosa.display.specshow(Xdb, sr=sample_rate, x_axis='time', y_axis='hz')\n",
    "plt.show()"
   ]
  },
  {
   "cell_type": "markdown",
   "id": "32a87c50",
   "metadata": {},
   "source": [
    "## Change pitch and speed"
   ]
  },
  {
   "cell_type": "code",
   "execution_count": null,
   "id": "f7f38b73",
   "metadata": {},
   "outputs": [],
   "source": [
    "y_pitch_speed = samples.copy()\n",
    "# you can change low and high here\n",
    "length_change = np.random.uniform(low=0.8, high = 1)\n",
    "speed_fac = 1.0  / length_change\n",
    "print(\"resample length_change = \",length_change)\n",
    "tmp = np.interp(np.arange(0,len(y_pitch_speed),speed_fac),np.arange(0,len(y_pitch_speed)),y_pitch_speed)\n",
    "minlen = min(y_pitch_speed.shape[0], tmp.shape[0])\n",
    "y_pitch_speed *= 0\n",
    "y_pitch_speed[0:minlen] = tmp[0:minlen]\n",
    "Audio(y_pitch_speed, rate=sample_rate)"
   ]
  },
  {
   "cell_type": "markdown",
   "id": "3e00f093",
   "metadata": {},
   "source": [
    "## Change pitch only"
   ]
  },
  {
   "cell_type": "code",
   "execution_count": null,
   "id": "d1d3ab06",
   "metadata": {},
   "outputs": [],
   "source": [
    "y_pitch = samples.copy()\n",
    "bins_per_octave = 12\n",
    "pitch_pm = 1\n",
    "pitch_change =  pitch_pm * 2*(np.random.uniform())   \n",
    "print(\"pitch_change = \",pitch_change)\n",
    "y_pitch = librosa.effects.pitch_shift(y_pitch.astype('float64'), \n",
    "                                      sample_rate, n_steps=pitch_change, \n",
    "                                      bins_per_octave=bins_per_octave)\n",
    "Audio(y_pitch, rate=sample_rate)"
   ]
  },
  {
   "cell_type": "markdown",
   "id": "b6cdb8be",
   "metadata": {},
   "source": [
    "## Change speed only"
   ]
  },
  {
   "cell_type": "code",
   "execution_count": null,
   "id": "03651868",
   "metadata": {},
   "outputs": [],
   "source": [
    "y_speed = samples.copy()\n",
    "speed_change = np.random.uniform(low=0.9,high=1.1)\n",
    "print(\"speed_change = \",speed_change)\n",
    "tmp = librosa.effects.time_stretch(y_speed.astype('float64'), speed_change)\n",
    "minlen = min(y_speed.shape[0], tmp.shape[0])\n",
    "y_speed *= 0 \n",
    "y_speed[0:minlen] = tmp[0:minlen]\n",
    "Audio(y_speed, rate=sample_rate)"
   ]
  },
  {
   "cell_type": "markdown",
   "id": "86548bbe",
   "metadata": {},
   "source": [
    "## Change amplitude"
   ]
  },
  {
   "cell_type": "code",
   "execution_count": null,
   "id": "8efc6cd7",
   "metadata": {},
   "outputs": [],
   "source": [
    "y_aug = samples.copy()\n",
    "dyn_change = np.random.uniform(low=1.5,high=3)\n",
    "print(\"dyn_change = \",dyn_change)\n",
    "y_aug = y_aug * dyn_change\n",
    "print(y_aug[:50])\n",
    "print(samples[:50])\n",
    "Audio(y_aug, rate=sample_rate)"
   ]
  },
  {
   "cell_type": "markdown",
   "id": "17337c76",
   "metadata": {},
   "source": [
    "## add distribution noise"
   ]
  },
  {
   "cell_type": "code",
   "execution_count": null,
   "id": "92e879b6",
   "metadata": {},
   "outputs": [],
   "source": [
    "y_noise = samples.copy()\n",
    "# you can take any distribution from https://docs.scipy.org/doc/numpy-1.13.0/reference/routines.random.html\n",
    "noise_amp = 0.005*np.random.uniform()*np.amax(y_noise)\n",
    "y_noise = y_noise.astype('float64') + noise_amp * np.random.normal(size=y_noise.shape[0])\n",
    "Audio(y_noise, rate=sample_rate)"
   ]
  },
  {
   "cell_type": "markdown",
   "id": "a5b6ec3c",
   "metadata": {},
   "source": [
    "## random shifting"
   ]
  },
  {
   "cell_type": "code",
   "execution_count": null,
   "id": "d4a3e0d6",
   "metadata": {},
   "outputs": [],
   "source": [
    "y_shift = samples.copy()\n",
    "timeshift_fac = 0.2 *2*(np.random.uniform()-0.5)  # up to 20% of length\n",
    "print(\"timeshift_fac = \",timeshift_fac)\n",
    "start = int(y_shift.shape[0] * timeshift_fac)\n",
    "print(start)\n",
    "if (start > 0):\n",
    "    y_shift = np.pad(y_shift,(start,0),mode='constant')[0:y_shift.shape[0]]\n",
    "else:\n",
    "    y_shift = np.pad(y_shift,(0,-start),mode='constant')[0:y_shift.shape[0]]\n",
    "Audio(y_shift, rate=sample_rate)"
   ]
  },
  {
   "cell_type": "markdown",
   "id": "a560e0a0",
   "metadata": {},
   "source": [
    "## apply hpss"
   ]
  },
  {
   "cell_type": "code",
   "execution_count": null,
   "id": "3b651943",
   "metadata": {},
   "outputs": [],
   "source": [
    "y_hpss = librosa.effects.hpss(samples.astype('float64'))\n",
    "print(y_hpss[1][:10])\n",
    "print(samples[:10])\n",
    "Audio(y_hpss[1], rate=sample_rate)"
   ]
  },
  {
   "cell_type": "markdown",
   "id": "d5a08c62",
   "metadata": {},
   "source": [
    "## stretching"
   ]
  },
  {
   "cell_type": "code",
   "execution_count": null,
   "id": "cf37d4c1",
   "metadata": {},
   "outputs": [],
   "source": [
    "input_length = len(samples)\n",
    "streching = samples.copy()\n",
    "random_strech = np.random.uniform(low=0.5, high = 1.3)\n",
    "print(\"random_strech = \",random_strech)\n",
    "streching = librosa.effects.time_stretch(streching.astype('float'), random_strech)\n",
    "if len(streching) > input_length:\n",
    "    streching = streching[:input_length]\n",
    "else:\n",
    "    streching = np.pad(streching, (0, max(0, input_length - len(streching))), \"constant\")\n",
    "Audio(streching, rate=sample_rate)"
   ]
  },
  {
   "cell_type": "markdown",
   "id": "a820d7ba",
   "metadata": {},
   "source": [
    "## shift silent to right"
   ]
  },
  {
   "cell_type": "code",
   "execution_count": null,
   "id": "405731fd",
   "metadata": {},
   "outputs": [],
   "source": [
    "sampling=samples[(samples > 200) | (samples < -200)]\n",
    "shifted_silent =sampling.tolist()+np.zeros((samples.shape[0]-sampling.shape[0])).tolist()\n",
    "Audio(shifted_silent, rate=sample_rate)"
   ]
  },
  {
   "cell_type": "code",
   "execution_count": null,
   "id": "35531d07",
   "metadata": {},
   "outputs": [],
   "source": [
    "plt.figure(figsize=(12, 4*9))\n",
    "plt.subplot(9, 1, 1)\n",
    "librosa.display.waveplot(samples.astype('float'), sr=sample_rate,x_axis=None)\n",
    "plt.title('original')\n",
    "plt.subplot(9, 1, 2)\n",
    "librosa.display.waveplot(y_pitch_speed.astype('float'), sr=sample_rate,x_axis=None)\n",
    "plt.title('augmented pitch and speed')\n",
    "plt.subplot(9, 1, 3)\n",
    "librosa.display.waveplot(y_pitch, sr=sample_rate,x_axis=None)\n",
    "plt.title('augmented pitch only')\n",
    "plt.subplot(9, 1, 4)\n",
    "librosa.display.waveplot(y_speed.astype('float'), sr=sample_rate,x_axis=None)\n",
    "plt.title('augmented speed only')\n",
    "plt.subplot(9, 1, 5)\n",
    "librosa.display.waveplot(y_aug.astype('float'), sr=sample_rate,x_axis=None)\n",
    "plt.title('amplify value')\n",
    "plt.subplot(9, 1, 6)\n",
    "librosa.display.waveplot(y_noise, sr=sample_rate,x_axis=None)\n",
    "plt.title('augmented noise')\n",
    "plt.subplot(9, 1, 7)\n",
    "librosa.display.waveplot(y_hpss[1], sr=sample_rate,x_axis=None)\n",
    "plt.title('apply hpss')\n",
    "plt.subplot(9, 1, 8)\n",
    "librosa.display.waveplot(np.array(shifted_silent).astype('float'), sr=sample_rate,x_axis=None)\n",
    "plt.title('shift silent to right')\n",
    "plt.subplot(9, 1, 9)\n",
    "librosa.display.waveplot(streching, sr=sample_rate)\n",
    "plt.title('stretching')\n",
    "plt.show()"
   ]
  },
  {
   "cell_type": "code",
   "execution_count": null,
   "id": "f1658ec0",
   "metadata": {},
   "outputs": [],
   "source": [
    "def random_augmentation(samples):\n",
    "    cp = samples.copy()\n",
    "    if np.random.randint(0, 2):\n",
    "        length_change = np.random.uniform(low=0.8, high = 1)\n",
    "        speed_fac = 1.0  / length_change\n",
    "        print(\"resample length_change = \",length_change)\n",
    "        tmp = np.interp(np.arange(0,len(cp),speed_fac),np.arange(0,len(cp)),cp)\n",
    "        minlen = min(cp.shape[0], tmp.shape[0])\n",
    "        cp *= 0\n",
    "        cp[0:minlen] = tmp[0:minlen]\n",
    "    \n",
    "    if np.random.randint(0, 2):\n",
    "        dyn_change = np.random.uniform(low=1.5,high=3)\n",
    "        print(\"dyn_change = \",dyn_change)\n",
    "        cp = cp * dyn_change\n",
    "    \n",
    "    if np.random.randint(0, 2):\n",
    "        noise_amp = 0.005*np.random.uniform()*np.amax(cp)\n",
    "        cp = cp.astype('float64') + noise_amp * np.random.normal(size=cp.shape[0])\n",
    "    \n",
    "    if np.random.randint(0, 2):\n",
    "        timeshift_fac = 0.2 *2*(np.random.uniform()-0.5)\n",
    "        print(\"timeshift_fac = \",timeshift_fac)\n",
    "        start = int(cp.shape[0] * timeshift_fac)\n",
    "        if (start > 0):\n",
    "            cp = np.pad(cp,(start,0),mode='constant')[0:cp.shape[0]]\n",
    "        else:\n",
    "            cp = np.pad(cp,(0,-start),mode='constant')[0:cp.shape[0]]\n",
    "    return cp"
   ]
  },
  {
   "cell_type": "code",
   "execution_count": null,
   "id": "4ee3b4ed",
   "metadata": {},
   "outputs": [],
   "source": [
    "random_aug = random_augmentation(samples)\n",
    "Audio(random_aug, rate=sample_rate)"
   ]
  },
  {
   "cell_type": "code",
   "execution_count": null,
   "id": "3af12dc0",
   "metadata": {},
   "outputs": [],
   "source": [
    "librosa.output.write_wav('augmented.wav', samples.astype('float32'), sample_rate, norm = True)"
   ]
  }
 ],
 "metadata": {},
 "nbformat": 4,
 "nbformat_minor": 5
}
