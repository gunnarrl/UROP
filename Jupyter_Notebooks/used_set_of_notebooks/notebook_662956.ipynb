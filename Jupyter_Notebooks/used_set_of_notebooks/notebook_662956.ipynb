{
 "cells": [
  {
   "cell_type": "markdown",
   "id": "56fd5e58",
   "metadata": {},
   "source": [
    "# Using Pre-trained DenseNet for Aerial Cactus Identification\n",
    "Dataset from: https://www.kaggle.com/c/aerial-cactus-identification/overview"
   ]
  },
  {
   "cell_type": "code",
   "execution_count": null,
   "id": "e592790b",
   "metadata": {},
   "outputs": [],
   "source": [
    "# General libraries\n",
    "import pandas as pd\n",
    "import numpy as np\n",
    "import matplotlib.pyplot as plt\n",
    "%matplotlib inline"
   ]
  },
  {
   "cell_type": "markdown",
   "id": "2031640d",
   "metadata": {},
   "source": [
    "## Loading and processing data  \n",
    "The datasets loaded here contain only the ID number of the picture and the label (whether it contains a cactus or not). The actual image is contained in a sepparate folder and each file is named after its ID:"
   ]
  },
  {
   "cell_type": "code",
   "execution_count": null,
   "id": "4f744885",
   "metadata": {},
   "outputs": [],
   "source": [
    "# File paths to get Kaggle data\n",
    "input_path = '../input/'\n",
    "train_path = input_path + 'train/train/'\n",
    "test_path = input_path + 'test/test/'\n",
    "\n",
    "# Load data\n",
    "train_df = pd.read_csv(input_path + 'train.csv')\n",
    "sample = pd.read_csv(input_path + 'sample_submission.csv')\n",
    "\n",
    "# Get ids and labels\n",
    "train_id = train_df['id']\n",
    "labels = train_df['has_cactus']\n",
    "test_id = sample['id']"
   ]
  },
  {
   "cell_type": "markdown",
   "id": "6d29ed79",
   "metadata": {},
   "source": [
    "We also want to get a validation set to get some metrics while training:"
   ]
  },
  {
   "cell_type": "code",
   "execution_count": null,
   "id": "1a68aff6",
   "metadata": {},
   "outputs": [],
   "source": [
    "from sklearn.model_selection import train_test_split\n",
    "x_train, x_val, y_train, y_val = train_test_split(train_id, labels, test_size=0.2)"
   ]
  },
  {
   "cell_type": "markdown",
   "id": "81ffb9b7",
   "metadata": {},
   "source": [
    "Finally, we need an array containing the actual images. The following function will fetch these images from the ids that we already have:"
   ]
  },
  {
   "cell_type": "code",
   "execution_count": null,
   "id": "5cb1e874",
   "metadata": {},
   "outputs": [],
   "source": [
    "def fetch_images(ids, filepath):\n",
    "    # Array to load images into\n",
    "    arr = []\n",
    "    for img_id in ids:\n",
    "        img = plt.imread(filepath + img_id)\n",
    "        arr.append(img)\n",
    "        \n",
    "    # Turn into numpy array and normalize pixel values\n",
    "    arr = np.array(arr).astype('float32')\n",
    "    arr = arr / 255\n",
    "    return arr"
   ]
  },
  {
   "cell_type": "code",
   "execution_count": null,
   "id": "e94f8c09",
   "metadata": {},
   "outputs": [],
   "source": [
    "# Redefine sets to contain images and not ids\n",
    "x_train = fetch_images(ids=x_train, filepath=train_path)\n",
    "x_val = fetch_images(ids=x_val, filepath=train_path)\n",
    "test = fetch_images(ids=test_id, filepath=test_path)\n",
    "\n",
    "# Get dimensions of each image\n",
    "img_dim = x_train.shape[1:]"
   ]
  },
  {
   "cell_type": "markdown",
   "id": "00651a2c",
   "metadata": {},
   "source": [
    "Lets see what some of these images look like. The resolution is so low (32x32 pixels) that it is hard to understand what the image shows. Intuitively, one can tell that the cacti in the images are shown as white lines:"
   ]
  },
  {
   "cell_type": "code",
   "execution_count": null,
   "id": "467e9ee7",
   "metadata": {},
   "outputs": [],
   "source": [
    "fig, ax = plt.subplots(nrows=2, ncols=3)\n",
    "ax = ax.ravel()\n",
    "plt.tight_layout(pad=0.2, h_pad=2)\n",
    "\n",
    "for i in range(6):\n",
    "    ax[i].imshow(x_train[i])\n",
    "    ax[i].set_title('has_cactus = {}'.format(y_train.iloc[i]))"
   ]
  },
  {
   "cell_type": "markdown",
   "id": "8ec12f9c",
   "metadata": {},
   "source": [
    "## Building the model\n",
    "The model will consist of a pre-trained DenseNet, specifically DenseNet201 that consists of 201 layers and was trained using the imagenet dataset. Then it will be followed by a fully connected layer of our own:"
   ]
  },
  {
   "cell_type": "code",
   "execution_count": null,
   "id": "26e469ac",
   "metadata": {},
   "outputs": [],
   "source": [
    "# Layers for the full model\n",
    "from keras.models import Model\n",
    "from keras.layers import Input, Dense, Flatten, Dropout, LeakyReLU, Activation\n",
    "from keras.layers.normalization import BatchNormalization\n",
    "\n",
    "# Pre-trained model\n",
    "from keras.applications.densenet import DenseNet201"
   ]
  },
  {
   "cell_type": "code",
   "execution_count": null,
   "id": "3f06c354",
   "metadata": {},
   "outputs": [],
   "source": [
    "# Hyperparameters\n",
    "batch_size = 64\n",
    "epochs = 30\n",
    "steps = x_train.shape[0] // batch_size"
   ]
  },
  {
   "cell_type": "markdown",
   "id": "faa547c0",
   "metadata": {},
   "source": [
    "Here we create the architecture for the model. I like using Keras' Functional API to build the models but using the Sequential approach yields the same results:"
   ]
  },
  {
   "cell_type": "code",
   "execution_count": null,
   "id": "d28c6944",
   "metadata": {},
   "outputs": [],
   "source": [
    "# Inputs\n",
    "inputs = Input(shape=img_dim)\n",
    "\n",
    "# DenseNet\n",
    "densenet201 = DenseNet201(weights='imagenet', include_top=False)(inputs)\n",
    "\n",
    "# Our FC layer\n",
    "flat1 = Flatten()(densenet201)\n",
    "dense1 = Dense(units=256, use_bias=True)(flat1)\n",
    "batchnorm1 = BatchNormalization()(dense1)\n",
    "act1 = Activation(activation='relu')(batchnorm1)\n",
    "drop1 = Dropout(rate=0.5)(act1)\n",
    "\n",
    "# Output\n",
    "out = Dense(units=1, activation='sigmoid')(drop1)\n",
    "\n",
    "# Create Model\n",
    "model = Model(inputs=inputs, outputs=out)\n",
    "model.compile(optimizer='adam', loss='binary_crossentropy')"
   ]
  },
  {
   "cell_type": "markdown",
   "id": "01eab99b",
   "metadata": {},
   "source": [
    "Finally, use `ReduceLROnPlateau` to deal with a plateauing learning rate and `ImageDataGenerator` to make sure our model is trained on different variations of the same picture:"
   ]
  },
  {
   "cell_type": "code",
   "execution_count": null,
   "id": "6ca49159",
   "metadata": {},
   "outputs": [],
   "source": [
    "from keras.callbacks import ReduceLROnPlateau\n",
    "from keras.preprocessing.image import ImageDataGenerator\n",
    "\n",
    "reduce_lr = ReduceLROnPlateau(monitor='val_loss', factor=0.3, patience=3, verbose=2, mode='max')\n",
    "\n",
    "img_aug = ImageDataGenerator(rotation_range=20, vertical_flip=True, horizontal_flip=True)\n",
    "img_aug.fit(x_train)"
   ]
  },
  {
   "cell_type": "code",
   "execution_count": null,
   "id": "1d4e2b9f",
   "metadata": {},
   "outputs": [],
   "source": [
    "# Show architecture of model\n",
    "from keras.utils import plot_model\n",
    "print(model.summary())\n",
    "plot_model(model, to_file='densenet201_model.png')"
   ]
  },
  {
   "cell_type": "markdown",
   "id": "4e3b62c8",
   "metadata": {},
   "source": [
    "## Fitting and getting results\n",
    "\n",
    "Since we're using `ImageDataGenerator`, we need to fit the model using Keras' `fit_generator()` instead of just `.fit()`:"
   ]
  },
  {
   "cell_type": "code",
   "execution_count": null,
   "id": "7e3f00ab",
   "metadata": {},
   "outputs": [],
   "source": [
    "model.fit_generator(img_aug.flow(x_train, y_train, batch_size=batch_size), \n",
    "                    steps_per_epoch=steps, epochs=epochs, \n",
    "                    validation_data=(x_val, y_val), callbacks=[reduce_lr], \n",
    "                    verbose=2)"
   ]
  },
  {
   "cell_type": "markdown",
   "id": "23be2320",
   "metadata": {},
   "source": [
    "Finally, get predictions from the model and produce a submission file:"
   ]
  },
  {
   "cell_type": "code",
   "execution_count": null,
   "id": "b7cfe430",
   "metadata": {},
   "outputs": [],
   "source": [
    "test_pred = model.predict(test, verbose=2)"
   ]
  },
  {
   "cell_type": "code",
   "execution_count": null,
   "id": "1a213ed4",
   "metadata": {},
   "outputs": [],
   "source": [
    "sample['has_cactus'] = test_pred\n",
    "sample.to_csv('densenet_model.csv', index=False)"
   ]
  }
 ],
 "metadata": {},
 "nbformat": 4,
 "nbformat_minor": 5
}
