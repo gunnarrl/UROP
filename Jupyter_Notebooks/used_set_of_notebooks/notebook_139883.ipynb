{
 "cells": [
  {
   "cell_type": "code",
   "execution_count": null,
   "id": "fa9988ce",
   "metadata": {},
   "outputs": [],
   "source": [
    "# load the dataset into an RDD to get started\n",
    "input_rdd = sc.textFile(\"/FileStore/tables/movielens/movies.csv\")"
   ]
  },
  {
   "cell_type": "markdown",
   "id": "0958aeed",
   "metadata": {},
   "source": [
    "### Transformations\n",
    "Transformations are operations that will not be completed at the time you write and execute the code in a cell - they will only get executed once you have called an action. An example of a transformation might be to convert an integer into a float or to filter a set of values. In this section we will discuss the basic transformations that can be applied on top of RDD.\n",
    "##### map\n",
    "The map method is a higher-order method that takes a function as input and applies it to each element in\n",
    "the source RDD to create a new RDD. The input function to map must take a single input parameter and\n",
    "return a value."
   ]
  },
  {
   "cell_type": "code",
   "execution_count": null,
   "id": "c54dcddb",
   "metadata": {},
   "outputs": [],
   "source": [
    "# just to show you the first line of the RDD\n",
    "input_rdd.first()"
   ]
  },
  {
   "cell_type": "code",
   "execution_count": null,
   "id": "6e8f5c81",
   "metadata": {},
   "outputs": [],
   "source": [
    "# notice how the whole line is one single string\n",
    "# using the map function, you can transfer the previous RDD to have a list of values instead\n",
    "input_list = input_rdd.map(lambda line: line.split(','))"
   ]
  },
  {
   "cell_type": "code",
   "execution_count": null,
   "id": "71b979c0",
   "metadata": {},
   "outputs": [],
   "source": [
    "# They are a list object now, instead of pure string\n",
    "# First is an action. ONLY AT THIS POINT SPARK WILL START PROCESSING\n",
    "# map is a transformation, which are lazily evaluated. When we executed the map function spark didn't do anything until an action was called upon.\n",
    "input_list.first()"
   ]
  },
  {
   "cell_type": "markdown",
   "id": "2da83842",
   "metadata": {},
   "source": [
    "##### filter\n",
    "The filter method is a higher-order method that takes a Boolean function as input and applies it to each\n",
    "element in the source RDD to create a new RDD. A Boolean function takes an input and returns true or\n",
    "false. The filter method returns a new RDD formed by selecting only those elements for which the input\n",
    "Boolean function returned true. Thus, the new RDD contains a subset of the elements in the original RDD."
   ]
  },
  {
   "cell_type": "code",
   "execution_count": null,
   "id": "e0f60a40",
   "metadata": {},
   "outputs": [],
   "source": [
    "# the original input RDD has header\n",
    "input_rdd.take(4)"
   ]
  },
  {
   "cell_type": "code",
   "execution_count": null,
   "id": "111d191f",
   "metadata": {},
   "outputs": [],
   "source": [
    "# for processing the data I can get rid of the header with a filter operation\n",
    "movie_info_rdd = input_rdd.filter(lambda line: 'movieId' not in line)"
   ]
  },
  {
   "cell_type": "code",
   "execution_count": null,
   "id": "72391e69",
   "metadata": {},
   "outputs": [],
   "source": [
    "# we got rid of the header\n",
    "# again, only at this point spark processes the data\n",
    "movie_info_rdd.first()"
   ]
  },
  {
   "cell_type": "code",
   "execution_count": null,
   "id": "2c7952ab",
   "metadata": {},
   "outputs": [],
   "source": [
    "# lets keep a list rdd for further examples\n",
    "movie_info_list_rdd = movie_info_rdd.map(lambda x: x.split(','))"
   ]
  },
  {
   "cell_type": "markdown",
   "id": "0b518876",
   "metadata": {},
   "source": [
    "##### flatMap\n",
    "The flatMap method is a higher-order method that takes an input function, which returns a sequence for\n",
    "each input element passed to it. The flatMap method returns a new RDD formed by flattening this collection\n",
    "of sequence. The concept and usefulness of a flatMap can be easily explained with the following example:"
   ]
  },
  {
   "cell_type": "code",
   "execution_count": null,
   "id": "df7037bb",
   "metadata": {},
   "outputs": [],
   "source": [
    "# notice the last field of the movie info, you have multiple categories associated with a single movie\n",
    "movie_info_list_rdd.first()[-1]"
   ]
  },
  {
   "cell_type": "code",
   "execution_count": null,
   "id": "24b5d787",
   "metadata": {},
   "outputs": [],
   "source": [
    "# if we want to do a count each categories appear, we can use flatmap to easily get our answer\n",
    "# using a flatmap on top of the movie category element causes each entry within the list (categories) to be a single entry/line/tuple in our RDD\n",
    "movie_cat_rdd = movie_info_list_rdd.flatMap(lambda x: x[-1].split('|'))\n",
    "movie_cat_rdd.take(10)"
   ]
  },
  {
   "cell_type": "code",
   "execution_count": null,
   "id": "83fb6592",
   "metadata": {},
   "outputs": [],
   "source": [
    "# now we can easily get our category count by using the count by value action (which does exactly what the name suggests).\n",
    "cat_count = movie_cat_rdd.countByValue()\n",
    "# we can print out the result in a sorted way using python\n",
    "sorted(cat_count.items(), key=lambda k_v: k_v[1], reverse=True)"
   ]
  },
  {
   "cell_type": "markdown",
   "id": "63e4f5f7",
   "metadata": {},
   "source": [
    "##### Writing Custom Functions\n",
    "You can write custom functions to process each line within RDD, as illustrated below.\n",
    "\n",
    "Take the following problem: We want to know what is the oldest movie we have in our dataset. In the movie name the year is given in paranthesis, i.e. Toy Story (1995). We need to extract this year from every name and then convert it to integer. Then we can use the action 'min' to find the minimum value in our data. However, to extract this year, we need to do some special processing. This is where our custom function will come in handy."
   ]
  },
  {
   "cell_type": "code",
   "execution_count": null,
   "id": "1a0cdd82",
   "metadata": {},
   "outputs": [],
   "source": [
    "# we will extract the year with this function. if there is problem with our data we will just return a None value\n",
    "import re\n",
    "def get_year(name):\n",
    "    year = None\n",
    "    try:\n",
    "      pattern = re.compile(r\"\\((\\d{4})\\)\")\n",
    "      year = int(pattern.findall(name)[0])\n",
    "    except ValueError:\n",
    "      pass\n",
    "    except IndexError:\n",
    "      pass\n",
    "    \n",
    "    return year"
   ]
  },
  {
   "cell_type": "code",
   "execution_count": null,
   "id": "9e03fad6",
   "metadata": {},
   "outputs": [],
   "source": [
    "# we can use the map operation to apply our custom function to every name in our rdd\n",
    "movie_year_rdd = movie_info_list_rdd.map(lambda x: get_year(x[1]))"
   ]
  },
  {
   "cell_type": "code",
   "execution_count": null,
   "id": "75ed8587",
   "metadata": {},
   "outputs": [],
   "source": [
    "# we can use the min action to get the oldest movie year. however as you see there was some issue with the data or parsing and we are getting 6 back as our result\n",
    "movie_year_rdd.filter(lambda x: x is not None).min()"
   ]
  },
  {
   "cell_type": "code",
   "execution_count": null,
   "id": "7855807f",
   "metadata": {},
   "outputs": [],
   "source": [
    "# so instead of trying to investigate what happened we will simply apply a filter and only consider value above 1000 to get our oldest movie year\n",
    "movie_year_rdd.filter(lambda x: x is not None).filter(lambda x: x  > 1000).min()"
   ]
  },
  {
   "cell_type": "code",
   "execution_count": null,
   "id": "ea026d45",
   "metadata": {},
   "outputs": [],
   "source": [
    "movie_year_rdd.filter(lambda x: x is not None).max()"
   ]
  },
  {
   "cell_type": "markdown",
   "id": "16b61fdb",
   "metadata": {},
   "source": [
    "#### Read The Docs\n",
    "Of course these are just the basic, there are many more transformation operations you can do with your RDD. All of them can be found in the official documentaiton: https://spark.apache.org/docs/latest/api/python/pyspark.html#pyspark.RDD\n",
    "Here are a few more just to give you some idea:"
   ]
  },
  {
   "cell_type": "markdown",
   "id": "8cb881de",
   "metadata": {},
   "source": [
    "##### union\n",
    "The union method takes an RDD as input and returns a new RDD that contains the union of the elements in the source RDD and the RDD passed to it as an input.\n",
    "\n",
    "```linesFile1 = sc.textFile(\"...\")\n",
    "linesFile2 = sc.textFile(\"...\")\n",
    "linesFromBothFiles = linesFile1.union(linesFile2)```"
   ]
  },
  {
   "cell_type": "code",
   "execution_count": null,
   "id": "c406a909",
   "metadata": {},
   "outputs": [],
   "source": [
    "mammals = sc.parallelize([\"Lion\", \"Dolphin\", \"Whale\"])\n",
    "aquatics = sc.parallelize([\"Shark\", \"Dolphin\", \"Whale\"])\n",
    "zoo = mammals.union(aquatics)\n",
    "zoo.collect()"
   ]
  },
  {
   "cell_type": "markdown",
   "id": "1a2ba579",
   "metadata": {},
   "source": [
    "##### intersection\n",
    "The intersection method takes an RDD as input and returns a new RDD that contains the intersection of\n",
    "the elements in the source RDD and the RDD passed to it as an input.\n",
    "\n",
    "```val linesFile1 = sc.textFile(\"...\")\n",
    "val linesFile2 = sc.textFile(\"...\")\n",
    "val linesPresentInBothFiles = linesFile1.intersection(linesFile2)```"
   ]
  },
  {
   "cell_type": "code",
   "execution_count": null,
   "id": "5a7b7b57",
   "metadata": {},
   "outputs": [],
   "source": [
    "mammals = sc.parallelize([\"Lion\", \"Dolphin\", \"Whale\"])\n",
    "aquatics = sc.parallelize([\"Shark\", \"Dolphin\", \"Whale\"])\n",
    "aquaticMammals = mammals.intersection(aquatics)\n",
    "aquaticMammals.collect()"
   ]
  },
  {
   "cell_type": "markdown",
   "id": "e865a76c",
   "metadata": {},
   "source": [
    "##### subtract\n",
    "The subtract method takes an RDD as input and returns a new RDD that contains elements in the source\n",
    "RDD but not in the input RDD.\n",
    "```linesFile1 = sc.textFile(\"...\")\n",
    "linesFile2 = sc.textFile(\"...\")\n",
    "linesInFile1Only = linesFile1.subtract(linesFile2)```"
   ]
  },
  {
   "cell_type": "code",
   "execution_count": null,
   "id": "5d76efc5",
   "metadata": {},
   "outputs": [],
   "source": [
    "mammals = sc.parallelize([\"Lion\", \"Dolphin\", \"Whale\"])\n",
    "aquatics =sc.parallelize([])\n",
    "fishes = aquatics.subtract(mammals)\n",
    "fishes.collect()"
   ]
  },
  {
   "cell_type": "markdown",
   "id": "81f6e28b",
   "metadata": {},
   "source": [
    "##### distinct\n",
    "The distinct method of an RDD returns a new RDD containing the distinct elements in the source RDD"
   ]
  },
  {
   "cell_type": "code",
   "execution_count": null,
   "id": "0504bdf0",
   "metadata": {},
   "outputs": [],
   "source": [
    "sc.parallelize([\"Lion\", \"Dolphin\", \"Whale\",\"Shark\", \"Dolphin\", \"Whale\"]).distinct().collect()"
   ]
  }
 ],
 "metadata": {},
 "nbformat": 4,
 "nbformat_minor": 5
}
