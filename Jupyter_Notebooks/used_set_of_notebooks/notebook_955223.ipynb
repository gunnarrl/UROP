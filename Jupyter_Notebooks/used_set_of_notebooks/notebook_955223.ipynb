{
 "cells": [
  {
   "cell_type": "markdown",
   "id": "b32cd293",
   "metadata": {},
   "source": [
    "# 5.3.7 Hypergeometric distribution and Hahn-chaos\n",
    "\n",
    "$$ f(k; \\alpha, \\beta, N) = \\frac{\\binom{\\alpha}{k} \\binom{\\beta}{N-k}}{\\binom{\\alpha+\\beta}{N}}=hypergeom.pmf(k, \\beta+\\alpha, \\alpha, N, loc=0)$$\n",
    "\n",
    "[Hypergeometric Distribution Python](https://docs.scipy.org/doc/scipy/reference/generated/scipy.stats.hypergeom.html)\n",
    "\n",
    "[Wiki - Hypergeometric Distribution](https://en.wikipedia.org/wiki/Hypergeometric_distribution)\n",
    "\n",
    "$$ \\zeta \\sim hypergeom.pmf(k, \\beta+\\alpha, \\alpha, N, loc=0)$$\n",
    "\n",
    "[Wiki - Hahn Polynomial](https://en.wikipedia.org/wiki/Hahn_polynomials)\n",
    "\n",
    "$$\n",
    "\\begin{align*}\n",
    "Q_0(x; \\alpha, \\beta, N) &= 1\\\\\n",
    "Q_1(x; \\alpha, \\beta, N) &= 1-\\frac{(\\alpha+\\beta+2)x}{(\\alpha+1)N}\\\\\n",
    "Q_2(x; \\alpha, \\beta, N) &= 1-\\frac{(\\alpha+\\beta+3)2x}{(\\alpha+1)N}+\\frac{(\\alpha+\\beta+3)(\\alpha+\\beta+4)(x^2-x)}{(\\alpha+1)(\\alpha+2)(N^2-N)}\\\\\n",
    "Q_3(x; \\alpha, \\beta, N) &= 1-\\frac{(\\alpha+\\beta+4)3x}{(\\alpha+1)N}+\\frac{3(\\alpha+\\beta+4)(\\alpha+\\beta+5)(x^2-x)}{(\\alpha+1)(\\alpha+2)(N^2-N)}-\\frac{(\\alpha+\\beta+4)(\\alpha+\\beta+5)(\\alpha+\\beta+6)(-x^3+3x^2-2x)}{(\\alpha+1)(\\alpha+2)(\\alpha+3)(-N^3+3N^2-2N)}\\\\\n",
    "Q_4(x; \\alpha, \\beta, N) &= 1-\\frac{(\\alpha+\\beta+5)4x}{(\\alpha+1)N}+\\frac{6(\\alpha+\\beta+5)(\\alpha+\\beta+6)(x^2-x)}{(\\alpha+1)(\\alpha+2)(N^2-N)}-\\frac{4(\\alpha+\\beta+5)(\\alpha+\\beta+6)(\\alpha+\\beta+7)(-x^3+3x^2-2x)}{(\\alpha+1)(\\alpha+2)(\\alpha+3)(-N^3+3N^2-2N)}\\\\\n",
    "& \\  +\\frac{(\\alpha+\\beta+5)(\\alpha+\\beta+6)(\\alpha+\\beta+7)(\\alpha+\\beta+8)(x^4-6x^3+11x^2-6x)}{(\\alpha+1)(\\alpha+2)(\\alpha+3)(\\alpha+4)(N^4-6N^3+11N^2-6N)}\\\\\n",
    "\\cdots\n",
    "\\end{align*}\n",
    "$$\n",
    "$$ Q_n(x; \\alpha, \\beta, N) =\\ _3F_2(-n,n+\\alpha+\\beta+1,-x;\\alpha+1, -N;1)$$\n",
    "\n",
    "Corresponding Hypergeometric orthogonal polynomial\n",
    "$$ f(k; \\alpha, \\beta, N) = \\frac{\\binom{\\alpha}{k} \\binom{\\beta-\\alpha}{N-k}}{\\binom{\\beta}{N}}=hypergeom.pmf(k, \\beta, \\alpha, N, loc=0)$$"
   ]
  },
  {
   "cell_type": "code",
   "execution_count": null,
   "id": "1e033ba9",
   "metadata": {},
   "outputs": [],
   "source": [
    "import numpy as np\n",
    "from math import factorial\n",
    "from matplotlib import pyplot as plt\n",
    "from scipy.integrate import odeint\n",
    "from scipy.stats import hypergeom\n",
    "\n",
    "%matplotlib notebook"
   ]
  },
  {
   "cell_type": "code",
   "execution_count": null,
   "id": "da625f3e",
   "metadata": {},
   "outputs": [],
   "source": [
    "def Hahn(params):\n",
    "\n",
    "    n = params[0]  #degree\n",
    "    a = params[1]\n",
    "    b = params[2]  #parameter value\n",
    "    N = params[3]  #parameter value\n",
    "    if n==0:\n",
    "        return lambda u: 1\n",
    "    elif n==1:\n",
    "        return lambda u: 1 - (a+b+2)*u/((a+1)*N)\n",
    "    elif n==2:\n",
    "        return lambda u: 1 - 2*(a+b+3)*u/((a+1)*N) + (a+b+3)*(a+b+4)*(u**2-u)/((a+1)*(a+2)*(N**2-N))\n",
    "    elif n==3:\n",
    "        return lambda u: 1 - 3*(a+b+4)*u/((a+1)*N) + 3*(a+b+4)*(a+b+5)*(u**2-u)/((a+1)*(a+2)*(N**2-N)) + (-1)*(a+b+4)*(a+b+5)*(a+b+6)*(-u**3+3*u**2-2*u)/((a+1)*(a+2)*(a+3)*(-N**3+3*N**2-2*N))\n",
    "    else: #this actually means n=4\n",
    "        return lambda u: 1 - 4*(a+b+5)*u/((a+1)*N) + 6*(a+b+5)*(a+b+6)*(u**2-u)/((a+1)*(a+2)*(N**2-N)) - 4*(a+b+5)*(a+b+6)*(a+b+7)*(-u**3+3*u**2-2*u)/((a+1)*(a+2)*(a+3)*(-N**3+3*N**2-2*N)) + (a+b+5)*(a+b+6)*(a+b+7)*(a+b+8)*(u**4-6*u**3+11*u**2-6*u)/((a+1)*(a+2)*(a+3)*(a+4)*(N**4-6*N**3+11*N**2-6*N))"
   ]
  },
  {
   "cell_type": "code",
   "execution_count": null,
   "id": "c36f022c",
   "metadata": {},
   "outputs": [],
   "source": [
    "############# Hahn Chaos ###############\n",
    "def product2_hahn(i,j,params):\n",
    "    a = params[0]\n",
    "    b = params[1]\n",
    "    N = params[2]\n",
    "    #compute \\Phi_i*\\Phi_j\n",
    "    return lambda x: Hahn((i,a,b,N))(x)*Hahn((j,a,b,N))(x)\n",
    "\n",
    "def inner2_hahn(i,j,params):     #Big error\n",
    "    #compute <\\Phi_i\\Phi_j>\n",
    "    inner = 0 \n",
    "    a = params[0] #alpha\n",
    "    b = params[1]\n",
    "    N = params[2]\n",
    "    for k in range(N+1):\n",
    "        inner += factorial(a)*factorial(b)*factorial(N)*factorial(a+b-N)*product2_hahn(i,j,params)(k)/(factorial(k)*factorial(a-k)*factorial(N-k)*factorial(b-N+k)*factorial(a+b))\n",
    "    \n",
    "    return inner\n",
    "\n",
    "############# Hahn Chaos ###############\n",
    "def product3_hahn(i,j,l,params):\n",
    "    #compute \\Phi_i*\\Phi_j*\\Phi_l\n",
    "    a = params[0] #alpha\n",
    "    b = params[1]\n",
    "    N = params[2]\n",
    "    return lambda x: Hahn((i,a,b,N))(x)*Hahn((j,a,b,N))(x)*Hahn((l,a,b,N))(x)\n",
    "\n",
    "def inner3_hahn(i,j,l,params):\n",
    "    #compute <\\Phi_i\\Phi_j\\Phi_l>\n",
    "    inner = 0 \n",
    "    a = params[0] #alpha\n",
    "    b = params[1]\n",
    "    N = params[2]\n",
    "    for k in range(N+1):\n",
    "        inner += factorial(a)*factorial(b)*factorial(N)*factorial(a+b-N)*product3_hahn(i,j,l,params)(k)/(factorial(k)*factorial(a-k)*factorial(N-k)*factorial(b-N+k)*factorial(a+b))\n",
    "    \n",
    "    return inner"
   ]
  },
  {
   "cell_type": "markdown",
   "id": "0b336ec1",
   "metadata": {},
   "source": [
    "<font color = red>**Big Error**"
   ]
  },
  {
   "cell_type": "code",
   "execution_count": null,
   "id": "c430b5a5",
   "metadata": {},
   "outputs": [],
   "source": [
    "params=[5,5,4]\n",
    "print(inner2_hahn(0,2,params))"
   ]
  },
  {
   "cell_type": "markdown",
   "id": "0c7e5fb8",
   "metadata": {},
   "source": [
    "### <font color = red> I want to search alpha, beta, $N$ values which can make $\\langle\\Phi_0, \\Phi_2\\rangle$=0\n",
    "### <font color = red>According to the definition of Hahn-chaos and how he defined the weight function and inner product, I couldn't get the result I should get\n",
    "\n",
    "### <font color = red> I cannot find one"
   ]
  },
  {
   "cell_type": "code",
   "execution_count": null,
   "id": "65618485",
   "metadata": {},
   "outputs": [],
   "source": [
    "for i in range(2,20):\n",
    "    for j in range(2,20):\n",
    "        for l in range(2,np.min((i,j))):\n",
    "            params = [i,j,l]\n",
    "            if np.abs(inner2_hahn(0,2,params))< 10**(-5):\n",
    "                print(i)\n",
    "                print(j)\n",
    "                print(l)\n",
    "                print('\\n')\n",
    "            "
   ]
  },
  {
   "cell_type": "markdown",
   "id": "c2a1479a",
   "metadata": {},
   "source": [
    "`expect(func, args=(M, n, N), loc=0, lb=None, ub=None, conditional=False)`\n"
   ]
  },
  {
   "cell_type": "code",
   "execution_count": null,
   "id": "d0fc4c01",
   "metadata": {},
   "outputs": [],
   "source": [
    "# \\alpha=\\beta=5, N=4\n",
    "# M=\\alpha + \\beta, n=\\alpha\n",
    "\n",
    "def f(params):\n",
    "    n = params\n",
    "    return lambda u: u**n\n",
    "\n",
    "for i in range(5):\n",
    "    print(hypergeom.expect(f(i), args=(10,5,4),loc=0,lb=None, ub=None, conditional=False))\n"
   ]
  },
  {
   "cell_type": "markdown",
   "id": "cb4e4949",
   "metadata": {},
   "source": [
    "### <font color = red> When $\\alpha=5, \\beta=5, N=4$, \n",
    "$$ Q_0(x) = 1, \\ \\ \\ Q_1(x) = 1-\\frac{5}{2}x, \\ \\ \\ Q_2(x) = \\frac{13}{36}x^2 -\\frac{52}{36}x+1$$\n",
    "<font color = red> Then \n",
    "$$\n",
    "\\langle Q_0Q_2\\rangle = \\frac{13}{36} EX^2 - \\frac{52}{36}EX +1 = \\frac{13}{36} \\frac{14}{3} - \\frac{52}{36}2 +1\\neq 0\n",
    "$$\n",
    "    \n",
    "The way the author defined things contradicts with itself, I cannot figure it out how he got the plots. I don't know which definition he really used"
   ]
  },
  {
   "cell_type": "code",
   "execution_count": null,
   "id": "f33c164d",
   "metadata": {},
   "outputs": [],
   "source": [
    "def ode_system_hahn(y, t, P, params):   \n",
    "    #P indicates the highest degree\n",
    "    a = params[0] #alpha\n",
    "    b = params[1]\n",
    "    N = params[2]\n",
    "    \n",
    "    dydt = np.zeros(P+1) \n",
    "    for l in range(len(dydt)):\n",
    "        dydt[l] = -(sum(sum(inner3_hahn(i,j,l,params)*ki_hahn[i]*y[j] for j in range(P+1)) for i in range(P+1)))/inner2_hahn(l,l,params)\n",
    "    return dydt"
   ]
  },
  {
   "cell_type": "code",
   "execution_count": null,
   "id": "2f12bfc2",
   "metadata": {},
   "outputs": [],
   "source": [
    "P = 4\n",
    "params = [5,5,4]\n",
    "ki_hahn = [2,-2]+[0]*(P-1)\n",
    "sol_hahn = odeint(ode_system_hahn, [1.0]+[0.0]*P, np.linspace(0,1,101), args=(P, params)) "
   ]
  },
  {
   "cell_type": "code",
   "execution_count": null,
   "id": "c6d99329",
   "metadata": {},
   "outputs": [],
   "source": [
    "def y_determ_hahn(x):\n",
    "    return np.e**(-2*x)"
   ]
  },
  {
   "cell_type": "code",
   "execution_count": null,
   "id": "3cd524cd",
   "metadata": {},
   "outputs": [],
   "source": [
    "plt.figure()\n",
    "plt.ylim([0,1])\n",
    "plt.xlim([0,1])\n",
    "\n",
    "x= np.linspace(0,1,101)\n",
    "\n",
    "for i in range(P+1):\n",
    "    plt.plot(x,sol_hahn[:,i],label=i)\n",
    "\n",
    "plt.plot(x, y_determ_hahn(x), color='r', linestyle='-.',label='Deterministic')\n",
    "plt.legend(prop={'size': 8})"
   ]
  },
  {
   "cell_type": "markdown",
   "id": "d157b512",
   "metadata": {},
   "source": [
    "expect(func, args=(M, n, N), loc=0, lb=None, ub=None, conditional=False)\t"
   ]
  },
  {
   "cell_type": "markdown",
   "id": "01a079fc",
   "metadata": {},
   "source": [
    "<font color = red>This is $\\alpha=\\beta=8, N=5$\n",
    "$\\downarrow$"
   ]
  },
  {
   "cell_type": "code",
   "execution_count": null,
   "id": "dd4c1fc2",
   "metadata": {},
   "outputs": [],
   "source": [
    "allcoeff_537_1 = np.zeros((5,4))   #store ki value/ column 0 stores ki when P=1; column 1 stores ki when P=2\n",
    "allcoeff_537_1[0,:]=45/16*np.ones(4)\n",
    "allcoeff_537_1[1,:]=-45/16*np.ones(4)\n",
    "y_537_1 = np.zeros((5,4))   #row 0 stores y0 for each P from 1-4; row 1 stores y1 for P from 1-4;...\n",
    "\n",
    "params = [8,8,5]\n",
    "for i in range(4):\n",
    "    P=i+1\n",
    "    ki_kr = allcoeff_537_1[:,i]\n",
    "    y_mid=odeint(ode_system_kr, [1.0]+[0.0]*P, np.linspace(0,1,2), args=(P, params))[1,:]\n",
    "    y_537_1[:,i] = y_mid.tolist()+[0]*(4-P)"
   ]
  },
  {
   "cell_type": "code",
   "execution_count": null,
   "id": "07d4a645",
   "metadata": {},
   "outputs": [],
   "source": [
    "a = 8\n",
    "b = 8\n",
    "N = 5\n",
    "\n",
    "mean_exact_537_1  = 0\n",
    "for k in range(N+1):\n",
    "    mean_exact_537_1  += np.e**(-k)*hypergeom.pmf(k,a+b,a,N,loc=0)\n",
    "print(mean_exact_537_1 )"
   ]
  },
  {
   "cell_type": "markdown",
   "id": "e5a1e5f2",
   "metadata": {},
   "source": [
    "<font color = red>**following wrong**"
   ]
  },
  {
   "cell_type": "code",
   "execution_count": null,
   "id": "7135e915",
   "metadata": {},
   "outputs": [],
   "source": [
    "for i in range(9):\n",
    "    #to compute $\\bar{y}(t)$\n",
    "    print(hypergeom.expect(Hahn((i,a,b,N)), args=(a+b,a,N), loc=0, lb=None, ub=None, conditional=False))"
   ]
  },
  {
   "cell_type": "code",
   "execution_count": null,
   "id": "e8f69342",
   "metadata": {},
   "outputs": [],
   "source": [
    "def g(params):\n",
    "    n = params\n",
    "    return lambda u: (Hahn((n,8,8,5))(u))**2\n",
    "\n",
    "for i in range(1,5):\n",
    "    print(hypergeom.expect(g(i), args=(16,8,5), loc=0, lb=None, ub=None, conditional=False))"
   ]
  },
  {
   "cell_type": "code",
   "execution_count": null,
   "id": "bf6375c0",
   "metadata": {},
   "outputs": [],
   "source": [
    "mean_537_1 = y_537_1[0,:]\n",
    "#mean_exact_537_1 \n",
    "error_mean_537_1=np.abs((mean_537_1 - mean_exact_537_1)/mean_exact_537_1)\n",
    "\n",
    "\n",
    "sigma2_537_1=np.zeros(4)\n",
    "for i in range(4):\n",
    "    sigma2_537_1[i]=0.2*y_537_1[1,i]**2+0.1*y_537_1[2,i]**2+0.1*y_537_1[3,i]**2+0.2*y_537_1[4,i]**2\n",
    "    \n",
    "sigma2_exact_537_1 = (1-0.5+0.5*np.e**(-2))**5 - (1-0.5+0.5*np.e**(-1))**10\n",
    "error_var_537_1=np.abs((sigma2_537_1-sigma2_exact_537_1)/sigma2_exact_537_1)\n"
   ]
  },
  {
   "cell_type": "markdown",
   "id": "14750106",
   "metadata": {},
   "source": [
    "<font color = red>This is $\\alpha=16, \\beta=12, N=10$\n",
    "$\\downarrow$"
   ]
  },
  {
   "cell_type": "code",
   "execution_count": null,
   "id": "628394db",
   "metadata": {},
   "outputs": [],
   "source": [
    "plt.figure()\n",
    "plt.xlim([0,5])\n",
    "plt.semilogy([1,2,3,4],error_mean_537_1,label='mean$\\alpha=8,\\beta=8,N=5$')\n",
    "plt.semilogy([1,2,3,4],error_var_537_1,label='variance$\\alpha=8,\\beta=8,N=5$')     \n",
    "plt.legend()"
   ]
  }
 ],
 "metadata": {},
 "nbformat": 4,
 "nbformat_minor": 5
}
