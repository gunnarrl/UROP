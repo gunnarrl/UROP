{
 "cells": [
  {
   "cell_type": "markdown",
   "id": "cf21fa5c",
   "metadata": {},
   "source": [
    "# Exploratory Data Analysis"
   ]
  },
  {
   "cell_type": "markdown",
   "id": "f0c13c01",
   "metadata": {},
   "source": [
    "### Importing Required Libraries"
   ]
  },
  {
   "cell_type": "code",
   "execution_count": null,
   "id": "fde4eb42",
   "metadata": {},
   "outputs": [],
   "source": [
    "# import numpy for math calculations\n",
    "import numpy as np\n",
    "\n",
    "# import pandas for data (csv) manipulation\n",
    "import pandas as pd\n",
    "\n",
    "# import matplotlib for plotting\n",
    "import matplotlib.pyplot as plt\n",
    "import matplotlib as mpl\n",
    "# import seaborn for more plotting options(built on top of matplotlib)\n",
    "import seaborn as sns\n",
    "\n",
    "# import plotly for interactive plotting \n",
    "import plotly.plotly as py\n",
    "import plotly.graph_objs as go\n",
    "\n",
    "# provide support for plotly to interact with pandas\n",
    "#import cufflinks as cf\n",
    "#cf.go_offline()\n",
    "\n",
    "# Supress unnecessary warnings so that presentation looks clean\n",
    "import warnings\n",
    "warnings.filterwarnings(\"ignore\")\n",
    "\n",
    "# display plots on the notebook itself\n",
    "%matplotlib inline"
   ]
  },
  {
   "cell_type": "markdown",
   "id": "01f40059",
   "metadata": {},
   "source": [
    "### Get the dataset loaded  "
   ]
  },
  {
   "cell_type": "code",
   "execution_count": null,
   "id": "fcd62bd6",
   "metadata": {},
   "outputs": [],
   "source": [
    "train = pd.read_csv(\"../dataset/all/application_train.csv\")\n",
    "application_test = pd.read_csv(\"../dataset/all/application_test.csv\")\n",
    "bureau = pd.read_csv(\"../dataset/all/bureau.csv\")\n",
    "bureau_balance = pd.read_csv(\"../dataset/all/bureau_balance.csv\")\n",
    "credit_card_balance = pd.read_csv(\"../dataset/all/credit_card_balance.csv\")\n",
    "installments_payments = pd.read_csv(\"../dataset/all/installments_payments.csv\")\n",
    "previous_application = pd.read_csv(\"../dataset/all/previous_application.csv\")\n",
    "POS_CASH_balance = pd.read_csv(\"../dataset/all/POS_CASH_balance.csv\")"
   ]
  },
  {
   "cell_type": "markdown",
   "id": "6326de2f",
   "metadata": {},
   "source": [
    "### How big is the training dataset?"
   ]
  },
  {
   "cell_type": "code",
   "execution_count": null,
   "id": "79474753",
   "metadata": {},
   "outputs": [],
   "source": [
    "print(\"The application_train.csv has {} entires.\".format(train.shape))"
   ]
  },
  {
   "cell_type": "markdown",
   "id": "be83daac",
   "metadata": {},
   "source": [
    "### Check out the stats"
   ]
  },
  {
   "cell_type": "code",
   "execution_count": null,
   "id": "d94bf294",
   "metadata": {},
   "outputs": [],
   "source": [
    "train.describe()"
   ]
  },
  {
   "cell_type": "markdown",
   "id": "380c05ca",
   "metadata": {},
   "source": [
    "### Lets look at the overview of the data"
   ]
  },
  {
   "cell_type": "code",
   "execution_count": null,
   "id": "45fa27ce",
   "metadata": {},
   "outputs": [],
   "source": [
    "train.info()"
   ]
  },
  {
   "cell_type": "markdown",
   "id": "9372c34a",
   "metadata": {},
   "source": [
    "### Lets look at available columns and their size"
   ]
  },
  {
   "cell_type": "code",
   "execution_count": null,
   "id": "19a06df4",
   "metadata": {},
   "outputs": [],
   "source": [
    "train.columns"
   ]
  },
  {
   "cell_type": "code",
   "execution_count": null,
   "id": "28b58da1",
   "metadata": {},
   "outputs": [],
   "source": [
    "train.head()"
   ]
  },
  {
   "cell_type": "code",
   "execution_count": null,
   "id": "ba8b6eac",
   "metadata": {},
   "outputs": [],
   "source": [
    "plt.hist(train['NAME_CONTRACT_TYPE'])"
   ]
  },
  {
   "cell_type": "code",
   "execution_count": null,
   "id": "5547a053",
   "metadata": {},
   "outputs": [],
   "source": [
    "# add counter plot"
   ]
  },
  {
   "cell_type": "code",
   "execution_count": null,
   "id": "c6c0ff20",
   "metadata": {},
   "outputs": [],
   "source": [
    "plt.figure(figsize=(11,9))\n",
    "sns.countplot(x='NAME_CONTRACT_TYPE',hue='CODE_GENDER',data = train)"
   ]
  },
  {
   "cell_type": "markdown",
   "id": "55a55172",
   "metadata": {},
   "source": [
    "# Check for missing data"
   ]
  },
  {
   "cell_type": "code",
   "execution_count": null,
   "id": "8aac585b",
   "metadata": {},
   "outputs": [],
   "source": [
    "def missing_data(df_name):\n",
    "    \n",
    "    \n",
    "    \n",
    "    \"\"\"\n",
    "        \n",
    "        df_name: takes a data frame and outputs its sum and percentile\n",
    "    \n",
    "    \"\"\"\n",
    "    \n",
    "    total = df_name.isnull().sum().sort_values(ascending = False)\n",
    "    percent = (df_name.isnull().sum()/df_name.isnull().count()*100).sort_values(ascending = False)\n",
    "    return pd.concat([total,percent],axis=1,keys=['Total','Percentile'])\n",
    "    "
   ]
  },
  {
   "cell_type": "code",
   "execution_count": null,
   "id": "6d50a7c2",
   "metadata": {},
   "outputs": [],
   "source": [
    "missing_data(train).head(10)"
   ]
  },
  {
   "cell_type": "code",
   "execution_count": null,
   "id": "58ae9cb8",
   "metadata": {},
   "outputs": [],
   "source": [
    "missing_data(application_test).head(10)"
   ]
  },
  {
   "cell_type": "code",
   "execution_count": null,
   "id": "01ee4268",
   "metadata": {},
   "outputs": [],
   "source": [
    "missing_data(bureau).head(10)"
   ]
  },
  {
   "cell_type": "code",
   "execution_count": null,
   "id": "50b76bea",
   "metadata": {},
   "outputs": [],
   "source": [
    "missing_data(bureau_balance).head(10)"
   ]
  },
  {
   "cell_type": "code",
   "execution_count": null,
   "id": "1f2711a4",
   "metadata": {},
   "outputs": [],
   "source": [
    "missing_data(credit_card_balance).head(10)"
   ]
  },
  {
   "cell_type": "code",
   "execution_count": null,
   "id": "1e0a79de",
   "metadata": {},
   "outputs": [],
   "source": [
    "missing_data(installments_payments).head(10)"
   ]
  },
  {
   "cell_type": "code",
   "execution_count": null,
   "id": "13013ab5",
   "metadata": {},
   "outputs": [],
   "source": [
    "missing_data(previous_application).head(10)"
   ]
  },
  {
   "cell_type": "code",
   "execution_count": null,
   "id": "a8a8cf69",
   "metadata": {},
   "outputs": [],
   "source": [
    "missing_data(POS_CASH_balance).head(10)"
   ]
  },
  {
   "cell_type": "code",
   "execution_count": null,
   "id": "b5e114c1",
   "metadata": {},
   "outputs": [],
   "source": [
    "temp = train[\"TARGET\"].value_counts()\n",
    "df = pd.DataFrame({'labels': temp.index,\n",
    "                   'values': temp.values})\n",
    "plt.figure(figsize = (6,6))\n",
    "plt.title('Application loans repayed - train dataset')\n",
    "sns.set_color_codes(\"pastel\")\n",
    "sns.barplot(x = 'labels', y=\"values\", data=df)\n",
    "locs, labels = plt.xticks()\n",
    "plt.show()\n"
   ]
  },
  {
   "cell_type": "code",
   "execution_count": null,
   "id": "7e997c40",
   "metadata": {},
   "outputs": [],
   "source": [
    "mpl.rcParams.update(mpl.rcParamsDefault)\n",
    "pair = train[['AMT_CREDIT', 'AMT_ANNUITY', 'DAYS_BIRTH', 'DAYS_REGISTRATION',\n",
    "              'DAYS_LAST_PHONE_CHANGE', 'TARGET']].fillna(0)\n",
    "sns.pairplot(pair)\n",
    "plt.title('Correlation of Independent Vars with Target')\n",
    "plt.show()"
   ]
  },
  {
   "cell_type": "code",
   "execution_count": null,
   "id": "87eb62da",
   "metadata": {},
   "outputs": [],
   "source": [
    "fig, ax = plt.subplots(figsize=(52,15))\n",
    "sns.heatmap(train.isnull(),yticklabels=False,cbar=False,cmap='viridis')"
   ]
  }
 ],
 "metadata": {},
 "nbformat": 4,
 "nbformat_minor": 5
}
