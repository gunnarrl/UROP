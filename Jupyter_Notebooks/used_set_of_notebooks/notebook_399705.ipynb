{
 "cells": [
  {
   "cell_type": "markdown",
   "id": "6758a8a0",
   "metadata": {},
   "source": [
    "# VAR Model"
   ]
  },
  {
   "cell_type": "markdown",
   "id": "fcaf0836",
   "metadata": {},
   "source": [
    "Vector autoregressive models are used for multivariate time series analysis and forecasting.<br>\n",
    "It works by looking back at a window of past observations for every variable in order to create <br>\n",
    "a linear regression model for the prediction of each variable. For instance, a VAR model that has<br>\n",
    "7 variables will create 7 different models, one for the forecasting of each variable. "
   ]
  },
  {
   "cell_type": "code",
   "execution_count": null,
   "id": "82acc527",
   "metadata": {},
   "outputs": [],
   "source": [
    "# import packages\n",
    "import pandas as pd\n",
    "import numpy as np\n",
    "import datetime as dt\n",
    "import matplotlib.pyplot as plt\n",
    "from statsmodels.tsa.api import VAR"
   ]
  },
  {
   "cell_type": "code",
   "execution_count": null,
   "id": "0bdc09d7",
   "metadata": {},
   "outputs": [],
   "source": [
    "# import data\n",
    "stationary = pd.read_csv('stationary_data_all.csv', index_col = 0)\n",
    "stationary.tail()"
   ]
  },
  {
   "cell_type": "markdown",
   "id": "bc43046f",
   "metadata": {},
   "source": [
    "## train and fit var model"
   ]
  },
  {
   "cell_type": "code",
   "execution_count": null,
   "id": "6958904b",
   "metadata": {},
   "outputs": [],
   "source": [
    "# stationary index to datetime\n",
    "stationary.index = pd.DatetimeIndex(stationary.index).date"
   ]
  },
  {
   "cell_type": "code",
   "execution_count": null,
   "id": "f6d85aa1",
   "metadata": {},
   "outputs": [],
   "source": [
    "# pick start date for your analysis\n",
    "# look at last step and see when data starts to be consistent\n",
    "start_date = dt.date(2012, 1, 1)\n",
    "stationary = stationary[start_date : ]\n",
    "stationary.head()"
   ]
  },
  {
   "cell_type": "code",
   "execution_count": null,
   "id": "106127c9",
   "metadata": {},
   "outputs": [],
   "source": [
    "# create train data (80/20 split)\n",
    "train = stationary[ : int(0.8*(len(stationary)))].copy()"
   ]
  },
  {
   "cell_type": "code",
   "execution_count": null,
   "id": "77376647",
   "metadata": {},
   "outputs": [],
   "source": [
    "# create VAR model on train data\n",
    "model = VAR(endog = train)"
   ]
  },
  {
   "cell_type": "code",
   "execution_count": null,
   "id": "de9d6b61",
   "metadata": {},
   "outputs": [],
   "source": [
    "# see the different lag order suggestions to pick your information criterion\n",
    "print(model.select_order(trend = 'c'))"
   ]
  },
  {
   "cell_type": "code",
   "execution_count": null,
   "id": "2fc260bf",
   "metadata": {},
   "outputs": [],
   "source": [
    "# fit model to train data\n",
    "# model_fit is a VARResultsWrapper object\n",
    "model_fit = model.fit(ic = 'aic', trend = 'c')\n",
    "# number of lags\n",
    "num_lag = model_fit.k_ar\n",
    "num_lag"
   ]
  },
  {
   "cell_type": "code",
   "execution_count": null,
   "id": "1122c1e3",
   "metadata": {},
   "outputs": [],
   "source": [
    "# model_fit summary\n",
    "model_fit.summary()"
   ]
  },
  {
   "cell_type": "code",
   "execution_count": null,
   "id": "dd452a96",
   "metadata": {},
   "outputs": [],
   "source": [
    "# example one day forecast into the future using train data\n",
    "## IMPORTANT = data has to be in ndarray format. use '.values' on y argument ##\n",
    "model_fit.forecast(y = train.values, steps = 1)"
   ]
  },
  {
   "cell_type": "markdown",
   "id": "0d3b3105",
   "metadata": {},
   "source": [
    "# create var functions"
   ]
  },
  {
   "cell_type": "code",
   "execution_count": null,
   "id": "6d001e6b",
   "metadata": {},
   "outputs": [],
   "source": [
    "# create function so that we can iterate model_fit.forecast() over test data\n",
    "# VAR also has the method 'predict' but it doesn't work so we have to do this the hard way\n",
    "\n",
    "def predict(data, fitted_model, lag_order, predict_steps):\n",
    "    # empty list for our predictions\n",
    "    prediction = []\n",
    "  \n",
    "    # for loop to iterate fitted_model over data\n",
    "    for i in range(lag_order, len(data)):\n",
    "        # window of lagged data that the model uses to predict next observation\n",
    "        window = data.iloc[i - lag_order : i].copy()\n",
    "        # results of fitted_model being applied to window\n",
    "        results = fitted_model.forecast(y = window.values, steps = predict_steps)\n",
    "        # append results to prediction list\n",
    "        prediction.append(results)\n",
    "        \n",
    "    # convert prediction (which is a list of numpy arrays) to a dataframe\n",
    "    df = np.vstack(prediction)\n",
    "    df = pd.DataFrame(df)\n",
    "    # df column names from data\n",
    "    df.columns = list(data.columns)\n",
    "    # df index from data\n",
    "    df.index = data.iloc[len(data) - len(prediction) :].index\n",
    "    \n",
    "    # return df\n",
    "    return df"
   ]
  },
  {
   "cell_type": "code",
   "execution_count": null,
   "id": "9e48b76a",
   "metadata": {},
   "outputs": [],
   "source": [
    "# create error functions\n",
    "\n",
    "# root mean squared error\n",
    "def rmse(predicted, actual):\n",
    "    # formula for rmse\n",
    "    residual = predicted - actual\n",
    "    residual_sq = residual ** 2\n",
    "    mean_sq = np.mean(residual_sq)\n",
    "    rmse_value = np.sqrt(mean_sq)\n",
    "    # return rmse_value\n",
    "    return rmse_value\n",
    "\n",
    "# mean absolute error\n",
    "def mae(predicted, actual):\n",
    "    # formula for mae\n",
    "    absolute_residual = np.absolute(predicted - actual)\n",
    "    mae_value = np.mean(absolute_residual)\n",
    "    # return mae_value\n",
    "    return mae_value"
   ]
  },
  {
   "cell_type": "code",
   "execution_count": null,
   "id": "92403237",
   "metadata": {},
   "outputs": [],
   "source": [
    "# function that returns lineplot of predicted vs actual data w/ rmse and mae, and histograph of the residual\n",
    "\n",
    "def model_graphs(predicted, actual, title = str):\n",
    "    # RMSE\n",
    "    rmse_value = rmse(predicted = predicted, actual = actual)\n",
    "    # MAE\n",
    "    mae_value = mae(predicted = predicted, actual = actual)\n",
    "    # start_year (for putting in text box)\n",
    "    start_year = predicted.iloc[ : 1].index.copy()\n",
    "    # text box in line plot\n",
    "    text_str = 'RMSE = ' + str(rmse_value) + '\\n MAE = ' + str(mae_value)\n",
    "    # line plot\n",
    "    plt.figure(1)\n",
    "    plt.plot(actual, color = 'blue', linewidth = 2, label = 'actual')\n",
    "    plt.plot(predicted, color = 'red', linewidth = 1, label = 'predicted')\n",
    "    plt.legend()\n",
    "    plt.title(title + ' Actual vs Predicted')\n",
    "    plt.text(x = start_year, y = 0.2, s = text_str)\n",
    "    # residual & hist\n",
    "    plt.figure(2)\n",
    "    residual = actual - predicted\n",
    "    plt.hist(residual, bins = 200)\n",
    "    plt.title('Distribution of ' + title + ' residual')\n",
    "    plt.axvline(residual.mean(), color = 'k', linestyle = 'dashed', linewidth = 1)\n",
    "    # show graphics\n",
    "    plt.show()"
   ]
  },
  {
   "cell_type": "code",
   "execution_count": null,
   "id": "4521e305",
   "metadata": {},
   "outputs": [],
   "source": [
    "# function classifies price movement each day as either going up(if positive) or down(negative)\n",
    "def category(x):\n",
    "    if x >= 0:\n",
    "        return 'up'\n",
    "    elif x < 0:\n",
    "        return 'down'\n",
    "\n",
    "# function that returns confusion matrix of model with metrics\n",
    "def confusion_matrix(predicted, actual, title = str):\n",
    "    df = pd.DataFrame()\n",
    "    df['predicted'] = predicted.apply(category)\n",
    "    df['actual'] = actual.apply(category)\n",
    "    # code\n",
    "    df.loc[(df['predicted'] == 'up') & (df['actual'] == 'up'), 'code'] = 'true_positive'\n",
    "    df.loc[(df['predicted'] == 'up') & (df['actual'] == 'down'), 'code'] = 'false_positive'\n",
    "    df.loc[(df['predicted'] == 'down') & (df['actual'] == 'down'), 'code'] = 'true_negative'\n",
    "    df.loc[(df['predicted'] == 'down') & (df['actual'] == 'up'), 'code'] = 'false_negative'\n",
    "    # confusion dictionary\n",
    "    z = dict(df['code'].value_counts())\n",
    "    # confusion metrics\n",
    "    accuracy = (z['true_positive'] + z['true_negative']) / (z['true_positive'] + z['true_negative'] + z['false_positive'] + z['false_negative'])\n",
    "    true_positive_rate = z['true_positive'] / (z['true_positive'] + z['false_negative'])\n",
    "    false_positive_rate = z['false_positive'] / (z['false_positive'] + z['true_negative'])\n",
    "    true_negative_rate = z['true_negative'] / (z['true_negative'] + z['false_positive'])\n",
    "    false_negative_rate = z['false_negative'] / (z['false_negative'] + z['true_positive'])\n",
    "    # print metrics\n",
    "    print('\\nMetrics for [{0}]\\nAccuracy:{1:6.3f} \\nTP Rate:{2:7.3f} \\nFP Rate:{3:7.3f}\\nTN Rate:{4:7.3f} \\nFN Rate:{5:7.3f}'.format(str(title), accuracy, true_positive_rate, false_positive_rate, true_negative_rate, false_negative_rate))\n",
    "    # print confusion matrix graph\n",
    "    print('\\n'+\n",
    "      '            [{title}] Confusion Matrix\\n'.format(title = str(title))+\n",
    "      '\\n'+\n",
    "      '           |-------------|-------------|\\n'+\n",
    "      '  n= {0}  | Predicted:  | Predicted:  |\\n'.format(z['true_positive']+z['false_positive']+z['true_negative']+z['false_negative'])+\n",
    "      '           |    Down     |    Up       |\\n'+\n",
    "      '|----------|-------------|-------------|------------|\\n'+\n",
    "      '| Actual:  |             |             |            |\\n'+\n",
    "      '|  Down    |  tn: {0}    |  fp: {1}    |    {2}     |\\n'.format(z['true_negative'], z['false_positive'], z['true_negative']+z['false_positive'])+\n",
    "      '|----------|-------------|-------------|------------|\\n'+\n",
    "      '| Actual:  |             |             |            |\\n'+\n",
    "      '|   UP     |  fn: {0}    |  tp: {1}    |    {2}    |\\n'.format(z['false_negative'], z['true_positive'] ,z['false_negative']+z['true_positive'])+\n",
    "      '|----------|-------------|-------------|------------|\\n'+\n",
    "      '           |             |             |\\n'+\n",
    "      '           |      {0}    |      {1}   |\\n'.format(z['true_negative']+z['false_negative'], z['false_positive']+z['true_positive'])+\n",
    "      '           |-------------|-------------|\\n')\n",
    "    # return df\n",
    "    return df"
   ]
  },
  {
   "cell_type": "markdown",
   "id": "7ed144e2",
   "metadata": {},
   "source": [
    "# var model results"
   ]
  },
  {
   "cell_type": "markdown",
   "id": "47549e52",
   "metadata": {},
   "source": [
    "- ## train"
   ]
  },
  {
   "cell_type": "code",
   "execution_count": null,
   "id": "a6df30e7",
   "metadata": {},
   "outputs": [],
   "source": [
    "# train results\n",
    "train_predicted = model_fit.fittedvalues.copy()\n",
    "train_actual = train.iloc[num_lag : len(train)]"
   ]
  },
  {
   "cell_type": "code",
   "execution_count": null,
   "id": "ec104296",
   "metadata": {},
   "outputs": [],
   "source": [
    "# graphs\n",
    "model_graphs(predicted = train_predicted['price'], actual = train_actual['price'], title = 'Training')"
   ]
  },
  {
   "cell_type": "code",
   "execution_count": null,
   "id": "e172d319",
   "metadata": {},
   "outputs": [],
   "source": [
    "# confusion matrix\n",
    "train_confusion = confusion_matrix(predicted = train_predicted['price'], actual = train_actual['price'], title = 'Train')"
   ]
  },
  {
   "cell_type": "markdown",
   "id": "09418ae5",
   "metadata": {},
   "source": [
    "- ## test"
   ]
  },
  {
   "cell_type": "code",
   "execution_count": null,
   "id": "ef2c1d99",
   "metadata": {},
   "outputs": [],
   "source": [
    "# test results\n",
    "# test_lag contains the last 'num_lag' number of observations of the training data in order to make the forecast for the first \"real\" test observation\n",
    "test_lag = stationary.iloc[len(train) - num_lag :]\n",
    "test_predicted = predict(data = test_lag, fitted_model = model_fit, lag_order = num_lag, predict_steps = 1)\n",
    "test_actual = stationary.iloc[len(train) :]"
   ]
  },
  {
   "cell_type": "code",
   "execution_count": null,
   "id": "98afc0d1",
   "metadata": {},
   "outputs": [],
   "source": [
    "# graphs\n",
    "model_graphs(predicted = test_predicted['price'], actual = test_actual['price'], title = 'Test')"
   ]
  },
  {
   "cell_type": "code",
   "execution_count": null,
   "id": "1a1b4a67",
   "metadata": {},
   "outputs": [],
   "source": [
    "# confusion matrix\n",
    "test_confusion = confusion_matrix(predicted = test_predicted['price'], actual = test_actual['price'], title = 'Test')"
   ]
  },
  {
   "cell_type": "markdown",
   "id": "b2a9a603",
   "metadata": {},
   "source": [
    "- ## persistent model"
   ]
  },
  {
   "cell_type": "code",
   "execution_count": null,
   "id": "4f601130",
   "metadata": {},
   "outputs": [],
   "source": [
    "# persistent model data over test data\n",
    "persistent_predicted = stationary.shift(1)\n",
    "persistent_predicted = persistent_predicted.iloc[len(train) : ]\n",
    "persistent_actual = test_actual.copy()"
   ]
  },
  {
   "cell_type": "code",
   "execution_count": null,
   "id": "9e4de98c",
   "metadata": {},
   "outputs": [],
   "source": [
    "# graphs\n",
    "model_graphs(predicted = persistent_predicted['price'], actual = persistent_actual['price'], title = 'Persistent')"
   ]
  },
  {
   "cell_type": "code",
   "execution_count": null,
   "id": "0bb7980e",
   "metadata": {},
   "outputs": [],
   "source": [
    "# confusion matrix\n",
    "persistent_confusion = confusion_matrix(predicted = persistent_predicted['price'], actual = persistent_actual['price'], title = 'Persistent')"
   ]
  }
 ],
 "metadata": {},
 "nbformat": 4,
 "nbformat_minor": 5
}
