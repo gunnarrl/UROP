{
 "cells": [
  {
   "cell_type": "markdown",
   "id": "4f194bbe",
   "metadata": {},
   "source": [
    "## Initiate the vissim instance"
   ]
  },
  {
   "cell_type": "code",
   "execution_count": null,
   "id": "8ac8bab4",
   "metadata": {},
   "outputs": [],
   "source": [
    "# COM-Server\n",
    "import win32com.client as com\n",
    "import igraph\n",
    "import matplotlib.pyplot as plt\n",
    "import qgrid\n",
    "from VISSIM_helpers import VissimRoadNet\n",
    "from os.path import abspath\n",
    "import pandas as pd"
   ]
  },
  {
   "cell_type": "markdown",
   "id": "9227bcbf",
   "metadata": {},
   "source": [
    "Add autocompletion for VISSIM COM Object"
   ]
  },
  {
   "cell_type": "code",
   "execution_count": null,
   "id": "985c311f",
   "metadata": {},
   "outputs": [],
   "source": [
    "from IPython.utils.generics import complete_object\n",
    "\n",
    "@complete_object.register(com.DispatchBaseClass)\n",
    "def complete_dispatch_base_class(obj, prev_completions):\n",
    "    try:\n",
    "        ole_props = set(obj._prop_map_get_).union(set(obj._prop_map_put_))\n",
    "        return list(ole_props) + prev_completions\n",
    "    except AttributeError:\n",
    "        pass"
   ]
  },
  {
   "cell_type": "markdown",
   "id": "a4d73a23",
   "metadata": {},
   "source": [
    "Start Vissim and load constants"
   ]
  },
  {
   "cell_type": "code",
   "execution_count": null,
   "id": "1fb6c471",
   "metadata": {},
   "outputs": [],
   "source": [
    "Vissim = com.gencache.EnsureDispatch(\"Vissim.Vissim\")\n",
    "from win32com.client import constants as c"
   ]
  },
  {
   "cell_type": "markdown",
   "id": "238682b3",
   "metadata": {},
   "source": [
    "Load the test network"
   ]
  },
  {
   "cell_type": "code",
   "execution_count": null,
   "id": "17f64712",
   "metadata": {},
   "outputs": [],
   "source": [
    "FileName = abspath(r\"C:\\Users\\Public\\Documents\\PTV Vision\\PTV Vissim 9\\Examples Demo\\Urban Freeway Dyn Assign Redmond.US\\I405 OD.inpx\")\n",
    "Vissim.LoadNet(FileName)"
   ]
  },
  {
   "cell_type": "code",
   "execution_count": null,
   "id": "a09ee732",
   "metadata": {},
   "outputs": [],
   "source": [
    "vis_net = Vissim.Net\n",
    "assert vis_net.DynamicAssignment.CreateGraph(c.CGEdgeTypeDynamicAssignment)"
   ]
  },
  {
   "cell_type": "markdown",
   "id": "3c046284",
   "metadata": {},
   "source": [
    "## Read the dynamic assignment nodes and edges"
   ]
  },
  {
   "cell_type": "markdown",
   "id": "6aca5781",
   "metadata": {},
   "source": [
    "### Convert the network to a igraph directed graph"
   ]
  },
  {
   "cell_type": "code",
   "execution_count": null,
   "id": "549ddb2c",
   "metadata": {},
   "outputs": [],
   "source": [
    "network_graph = VissimRoadNet(vis_net)"
   ]
  },
  {
   "cell_type": "code",
   "execution_count": null,
   "id": "3625c5e1",
   "metadata": {},
   "outputs": [],
   "source": [
    "parking_lots = network_graph.read_parking_lot(vis_net)"
   ]
  },
  {
   "cell_type": "code",
   "execution_count": null,
   "id": "579584d9",
   "metadata": {},
   "outputs": [],
   "source": [
    "type(parking_lots)"
   ]
  },
  {
   "cell_type": "code",
   "execution_count": null,
   "id": "12bf9fba",
   "metadata": {},
   "outputs": [],
   "source": [
    "igraph.plot(network_graph, bbox=(0, 0, 600, 600))"
   ]
  },
  {
   "cell_type": "markdown",
   "id": "219626ae",
   "metadata": {},
   "source": [
    "Save and display list of edges"
   ]
  },
  {
   "cell_type": "code",
   "execution_count": null,
   "id": "28a4605b",
   "metadata": {},
   "outputs": [],
   "source": [
    "network_graph.visedges.to_pickle(\"edges_attr.pkl.gz\", compression=\"gzip\")\n",
    "edges_widget = qgrid.show_grid(network_graph.visedges, show_toolbar=False)\n",
    "edges_widget"
   ]
  },
  {
   "cell_type": "code",
   "execution_count": null,
   "id": "71399bb1",
   "metadata": {},
   "outputs": [],
   "source": [
    "# Save graph and like attributes\n",
    "\n",
    "link_attrs = [attr.Code for attr in Vissim.Net.Links.Attributes.GetAll()]\n",
    "link_attr_names = [attr.Name for attr in Vissim.Net.Links.Attributes.GetAll()]\n",
    "links = [list(link) for link in Vissim.Net.Links.GetMultipleAttributes(link_attrs)]"
   ]
  },
  {
   "cell_type": "code",
   "execution_count": null,
   "id": "fffe569f",
   "metadata": {},
   "outputs": [],
   "source": [
    "import pandas as pd\n",
    "\n",
    "links = pd.DataFrame(links, columns=link_attrs)\n",
    "links = links.set_index(['No'], drop=True)"
   ]
  },
  {
   "cell_type": "code",
   "execution_count": null,
   "id": "357e8942",
   "metadata": {},
   "outputs": [],
   "source": [
    "qgrid.show_grid(links)"
   ]
  },
  {
   "cell_type": "code",
   "execution_count": null,
   "id": "bccf8804",
   "metadata": {},
   "outputs": [],
   "source": [
    "network_graph.net = None\n",
    "network_graph.save(\"network_graph.pkl.gz\", format=\"picklez\")\n",
    "links.to_pickle(\"network_links.pkl.gz\", compression=\"gzip\")"
   ]
  },
  {
   "cell_type": "markdown",
   "id": "37d081ec",
   "metadata": {},
   "source": [
    "detach Vissim instance"
   ]
  },
  {
   "cell_type": "code",
   "execution_count": null,
   "id": "5928c738",
   "metadata": {},
   "outputs": [],
   "source": [
    "Vissim.Exit()\n",
    "del Vissim"
   ]
  }
 ],
 "metadata": {},
 "nbformat": 4,
 "nbformat_minor": 5
}
