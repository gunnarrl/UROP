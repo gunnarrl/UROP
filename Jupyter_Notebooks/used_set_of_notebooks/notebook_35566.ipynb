{
 "cells": [
  {
   "cell_type": "markdown",
   "id": "55c6f579",
   "metadata": {},
   "source": [
    "<img align=\"right\" src=\"images/tf-small.png\"/>\n",
    "\n",
    "# Strong numbers\n",
    "\n",
    "# Application: Strong numbers\n",
    "Stephen Ku has prepared a Strong number mapping for version `4`, based on \n",
    "[OpenScriptures Bible Lexicon](https://github.com/openscriptures/HebrewLexicon).\n",
    "\n",
    "This provides us with a nice use case:\n",
    "can we apply the Strong number mapping for version `4` to versions `3`, `4b` and `2016`\n",
    "as well?\n",
    "Below we will get a pretty good view on the differences between the versions.\n",
    "We use the\n",
    "[BHSA transcription](https://shebanq.ancient-data.org/shebanq/static/docs/BHSA-transcription.pdf)\n",
    "to write down the diffs."
   ]
  },
  {
   "cell_type": "code",
   "execution_count": null,
   "id": "dec4150e",
   "metadata": {},
   "outputs": [],
   "source": [
    "import os,collections\n",
    "from tf.fabric import Fabric"
   ]
  },
  {
   "cell_type": "markdown",
   "id": "76a209ed",
   "metadata": {},
   "source": [
    "We need a map from a version to its previous version."
   ]
  },
  {
   "cell_type": "code",
   "execution_count": null,
   "id": "efdb0cfb",
   "metadata": {},
   "outputs": [],
   "source": [
    "versions = ['4', '4b', '4c']\n",
    "locations = {\n",
    "    '4': '~/github/text-fabric-data-legacy',\n",
    "    '4b': '~/github/text-fabric-data-legacy',\n",
    "    '4c': '~/github/text-fabric-data', \n",
    "}\n",
    "\n",
    "preVersion = dict(((v, versions[i]) for (i,v) in enumerate(versions[1:])))\n",
    "preVersion"
   ]
  },
  {
   "cell_type": "markdown",
   "id": "7fbc1091",
   "metadata": {},
   "source": [
    "Load all versions in one go!\n",
    "For each version we load the `omap` feature that maps the slots from the previous version to the slots of this version."
   ]
  },
  {
   "cell_type": "code",
   "execution_count": null,
   "id": "9902b9a2",
   "metadata": {},
   "outputs": [],
   "source": [
    "TF = {}\n",
    "api = {}\n",
    "for v in versions:\n",
    "    omap = '' if v == '4' else 'omap@{}-{}'.format(preVersion[v], v)\n",
    "    TF[v] = Fabric(locations=locations[v], modules='hebrew/etcbc{}'.format(v))\n",
    "    api[v] = TF[v].load('''\n",
    "        {} lex\n",
    "    '''.format(omap))\n",
    "\n",
    "A4 = api['4']\n",
    "A4b = api['4b']\n",
    "A4c = api['4c']"
   ]
  },
  {
   "cell_type": "markdown",
   "id": "1162edf2",
   "metadata": {},
   "source": [
    "# Strong numbers\n",
    "\n",
    "Let us apply the maps for the purpose of assigning Strong numbers to the words of the versions 4b and 4c.\n",
    "We have a mapping for 4, compiled as a csv file by Stephen Ku from the OpenScriptures data.\n",
    "\n",
    "First we perform a basic check on the Strong numbers as provided for version 4."
   ]
  },
  {
   "cell_type": "code",
   "execution_count": null,
   "id": "57e02c0d",
   "metadata": {},
   "outputs": [],
   "source": [
    "STRONG = 'hebrew/strong'\n",
    "strongDir = '{}/{}'.format(os.path.expanduser(locations['4c']), STRONG)\n",
    "strongFile = '{}/{}'.format(strongDir, 'MonadStrong.csv')\n",
    "strongs = {}"
   ]
  },
  {
   "cell_type": "code",
   "execution_count": null,
   "id": "833b5363",
   "metadata": {},
   "outputs": [],
   "source": [
    "strongs['4'] = {}\n",
    "first = True\n",
    "with open(strongFile, encoding='utf-16') as fh:\n",
    "    for line in fh:\n",
    "        if first:\n",
    "            first = False\n",
    "            continue\n",
    "        (slot, strong) = line.rstrip().split(',', 1)\n",
    "        strongs['4'][int(slot)] = strong"
   ]
  },
  {
   "cell_type": "markdown",
   "id": "5a2b78b4",
   "metadata": {},
   "source": [
    "## Consistency check\n",
    "\n",
    "Do slots with the same lexemes get identical Strong numbers?"
   ]
  },
  {
   "cell_type": "code",
   "execution_count": null,
   "id": "8b1193f0",
   "metadata": {},
   "outputs": [],
   "source": [
    "def checkConsistency(v):\n",
    "    strongFromLex = collections.defaultdict(set)\n",
    "    lexFromStrong = collections.defaultdict(set)\n",
    "\n",
    "    for n in api[v].F.otype.s('word'):\n",
    "        if n in strongs[v]:\n",
    "            strongFromLex[api[v].F.lex.v(n)].add(strongs[v][n])\n",
    "            lexFromStrong[strongs[v][n]].add(api[v].F.lex.v(n))\n",
    "\n",
    "\n",
    "    multipleStrongs = set()\n",
    "    for (lx, strongset) in strongFromLex.items():\n",
    "        if len(strongset) > 1:\n",
    "            multipleStrongs.add(lx)\n",
    "\n",
    "    multipleLexs = set()\n",
    "    for (st, lexset) in lexFromStrong.items():\n",
    "        if len(lexset) > 1:\n",
    "            multipleLexs.add(lx)\n",
    "\n",
    "    print('{} lexemes with multiple Strong numbers'.format(len(multipleStrongs)))\n",
    "    print('{} Strong numbers with multiple lexemes'.format(len(multipleStrongs)))\n",
    "    for lx in sorted(multipleStrongs)[0:10]:\n",
    "        print('{}: {}'.format(lx, ', '.join(sorted(strongFromLex[lx]))))"
   ]
  },
  {
   "cell_type": "code",
   "execution_count": null,
   "id": "6e5ec16d",
   "metadata": {},
   "outputs": [],
   "source": [
    "checkConsistency('4')"
   ]
  },
  {
   "cell_type": "markdown",
   "id": "7959a52c",
   "metadata": {},
   "source": [
    "Obviously not. The ETCBC lexemes and the Strong numbers are different classification systems for word occurrences in the Bible!"
   ]
  },
  {
   "cell_type": "markdown",
   "id": "25138f4d",
   "metadata": {},
   "source": [
    "# Map the Strong numbers"
   ]
  },
  {
   "cell_type": "code",
   "execution_count": null,
   "id": "6de99f46",
   "metadata": {},
   "outputs": [],
   "source": [
    "strongs['4b'] = {}\n",
    "for (n, s) in strongs['4'].items():\n",
    "    for m in A4b.Es('omap@4-4b').f(n):\n",
    "        strongs['4b'][m] = s"
   ]
  },
  {
   "cell_type": "code",
   "execution_count": null,
   "id": "ab55a5bb",
   "metadata": {},
   "outputs": [],
   "source": [
    "strongs['4c'] = {}\n",
    "for (n, s) in strongs['4b'].items():\n",
    "    for m in A4c.Es('omap@4b-4c').f(n):\n",
    "        strongs['4c'][m] = s"
   ]
  },
  {
   "cell_type": "markdown",
   "id": "32338103",
   "metadata": {},
   "source": [
    "# Check consistency again\n",
    "\n",
    "Now in the new versions."
   ]
  },
  {
   "cell_type": "code",
   "execution_count": null,
   "id": "ebc7c390",
   "metadata": {},
   "outputs": [],
   "source": [
    "checkConsistency('4b')"
   ]
  },
  {
   "cell_type": "code",
   "execution_count": null,
   "id": "735f164f",
   "metadata": {},
   "outputs": [],
   "source": [
    "checkConsistency('4c')"
   ]
  },
  {
   "cell_type": "markdown",
   "id": "4644815a",
   "metadata": {},
   "source": [
    "That looks good.\n",
    "\n",
    "# Writing the Strong numbers"
   ]
  },
  {
   "cell_type": "code",
   "execution_count": null,
   "id": "2559683c",
   "metadata": {},
   "outputs": [],
   "source": [
    "nodeFeatures = {}\n",
    "provenance = dict(\n",
    "    source='Strong numbers provided by https://github.com/openscriptures/HebrewLexicon',\n",
    "    author='Compiled for ETCBC by Stephen Ku; transferred across versions by Dirk Roorda',\n",
    ")\n",
    "\n",
    "for v in versions:\n",
    "    metaData = {\n",
    "        '': provenance,\n",
    "        'otext@strong': {\n",
    "            'about': 'Provides Strong numbers to Hebrew Words',\n",
    "            'see': 'https://github.com/ETCBC/text-fabric/blob/master/Versions/strong.ipynb',\n",
    "            'fmt:lex-strong-plain': '{strong} ',\n",
    "        },\n",
    "        'strong': {\n",
    "            'valueType': 'str',\n",
    "        },\n",
    "    }\n",
    "    nodeFeatures = dict(strong=strongs[v])\n",
    "    TF[v].save(\n",
    "        module='hebrew/strong/{}'.format(v),\n",
    "        nodeFeatures=nodeFeatures,\n",
    "        metaData=metaData,\n",
    "    )"
   ]
  },
  {
   "cell_type": "markdown",
   "id": "320d5b4e",
   "metadata": {},
   "source": [
    "# Using Strong numbers\n",
    "\n",
    "Let us load the new `strong` feature in the newest ETCBC version, `4c`."
   ]
  },
  {
   "cell_type": "code",
   "execution_count": null,
   "id": "ad90639c",
   "metadata": {},
   "outputs": [],
   "source": [
    "TF = Fabric(modules=['hebrew/etcbc4c', 'hebrew/strong/4c'])\n",
    "api = TF.load('''\n",
    "        g_word_utf8\n",
    "        lex strong\n",
    "''')\n",
    "api.makeAvailableIn(globals())"
   ]
  },
  {
   "cell_type": "markdown",
   "id": "3b9f0a6b",
   "metadata": {},
   "source": [
    "We print a few verses of Genesis in lexeme and in strong representation.\n",
    "The module `strong` defines a new text format!"
   ]
  },
  {
   "cell_type": "code",
   "execution_count": null,
   "id": "86940726",
   "metadata": {},
   "outputs": [],
   "source": [
    "(book, chapter) = ('Genesis', 1)\n",
    "\n",
    "for verse in range(1,4):\n",
    "    vn = T.nodeFromSection((book, chapter, verse))\n",
    "    words = L.d(vn, otype='word')\n",
    "    for fmt in ('lex-trans-plain', 'lex-strong-plain'):\n",
    "        print('{} {}:{} ({})\\n\\t{}'.format(\n",
    "            book, chapter, verse, fmt,\n",
    "            T.text(words, fmt=fmt)\n",
    "        ))"
   ]
  },
  {
   "cell_type": "markdown",
   "id": "a93e4e73",
   "metadata": {},
   "source": [
    "# Divergence between lexemes and Strong\n",
    "\n",
    "As we noted when constructing the Strong features, there is no 1-1 correspondence between ETCBC lexemes and Strong numbers. Let us inspect a few cases where they diverge.\n",
    "\n",
    "We reimplement something like `consistencyCheck()` above, but now based on the active `strong` feature.\n",
    "And we collect the slots that exhibit one lexeme with several Strong numbers and vice versa.\n",
    "\n",
    "So let's just collect all relevant information."
   ]
  },
  {
   "cell_type": "code",
   "execution_count": null,
   "id": "771f604e",
   "metadata": {},
   "outputs": [],
   "source": [
    "strongLex = collections.defaultdict(lambda: collections.defaultdict(set))\n",
    "lexStrong = collections.defaultdict(lambda: collections.defaultdict(set))\n",
    "\n",
    "indent(reset=True)\n",
    "info('Gathering lexemes and Strongs')\n",
    "for n in F.otype.s('word'):\n",
    "    lex = F.lex.v(n)\n",
    "    sng = F.strong.v(n)\n",
    "    if sng != None:\n",
    "        strongLex[sng][lex].add(n)\n",
    "        lexStrong[lex][sng].add(n)\n",
    "info('Done: {} lexemes and {} Strongs'.format(len(lexStrong), len(strongLex)))"
   ]
  },
  {
   "cell_type": "markdown",
   "id": "55279fb1",
   "metadata": {},
   "source": [
    "Now rank the lexemes by the number of Strongs they are associated with, and the Strongs by the number of lexemes they\n",
    "are associated with."
   ]
  },
  {
   "cell_type": "code",
   "execution_count": null,
   "id": "09f2fa76",
   "metadata": {},
   "outputs": [],
   "source": [
    "lexRanked = sorted(lexStrong, key=lambda x: -len(lexStrong[x]))\n",
    "sngRanked = sorted(strongLex, key=lambda x: -len(strongLex[x]))"
   ]
  },
  {
   "cell_type": "markdown",
   "id": "c5603620",
   "metadata": {},
   "source": [
    "Inspect the top 10 of both."
   ]
  },
  {
   "cell_type": "code",
   "execution_count": null,
   "id": "fed6206f",
   "metadata": {},
   "outputs": [],
   "source": [
    "def inspectTop(dataRanked, data, amount):\n",
    "    for d in dataRanked[0:amount]:\n",
    "        print(d)\n",
    "        related = data[d]\n",
    "        for r in related:\n",
    "            occs = sortNodes(related[r])\n",
    "            print('\\t{} ({} occs)'.format(r, len(occs)))\n",
    "            n = occs[0]\n",
    "            s = L.u(n, otype='sentence')[0]\n",
    "            ws = L.d(s, otype='word')\n",
    "            print('\\t\\te.g. {} {}:{} - {} in {}'.format(\n",
    "                *T.sectionFromNode(n),\n",
    "                F.g_word_utf8.v(n),\n",
    "                T.text(ws, fmt='text-orig-full'),\n",
    "            ))"
   ]
  },
  {
   "cell_type": "code",
   "execution_count": null,
   "id": "78b5fbcb",
   "metadata": {},
   "outputs": [],
   "source": [
    "inspectTop(lexRanked, lexStrong, 10)"
   ]
  },
  {
   "cell_type": "code",
   "execution_count": null,
   "id": "ff6bb20e",
   "metadata": {},
   "outputs": [],
   "source": [
    "inspectTop(sngRanked, strongLex, 10)"
   ]
  }
 ],
 "metadata": {},
 "nbformat": 4,
 "nbformat_minor": 5
}
