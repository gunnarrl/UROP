{
 "cells": [
  {
   "cell_type": "code",
   "execution_count": null,
   "id": "e64c1095",
   "metadata": {},
   "outputs": [],
   "source": [
    "import numpy as np\n",
    "import matplotlib.pyplot as plt\n",
    "from PIL import Image\n",
    "from datetime import timedelta\n",
    "from timeit import default_timer as timer\n",
    "from math import sqrt"
   ]
  },
  {
   "cell_type": "markdown",
   "id": "7df7cfa3",
   "metadata": {},
   "source": [
    "## Images reading&resizing"
   ]
  },
  {
   "cell_type": "code",
   "execution_count": null,
   "id": "e9c79d34",
   "metadata": {},
   "outputs": [],
   "source": [
    "img_l = np.asanyarray(Image.open(\"hangerL-small.png\").convert(\"RGB\")).astype(np.int)\n",
    "img_r = np.asanyarray(Image.open(\"hangerR-small.png\").convert(\"RGB\")).astype(np.int)"
   ]
  },
  {
   "cell_type": "code",
   "execution_count": null,
   "id": "ce3e996d",
   "metadata": {},
   "outputs": [],
   "source": [
    "#img_l = img_l[:-10]\n",
    "#img_r = img_r[10:]"
   ]
  },
  {
   "cell_type": "code",
   "execution_count": null,
   "id": "fb3ca4ca",
   "metadata": {},
   "outputs": [],
   "source": [
    "img_l.shape"
   ]
  },
  {
   "cell_type": "code",
   "execution_count": null,
   "id": "3804090d",
   "metadata": {},
   "outputs": [],
   "source": [
    "img_r.shape"
   ]
  },
  {
   "cell_type": "markdown",
   "id": "8e0a83dc",
   "metadata": {},
   "source": [
    "## Loss functions definition"
   ]
  },
  {
   "cell_type": "code",
   "execution_count": null,
   "id": "5821aba5",
   "metadata": {},
   "outputs": [],
   "source": [
    "def g_loss_l1(a, b, par=0):\n",
    "    return abs(a) + abs(b)\n",
    "\n",
    "def g_loss_l2(a, b, par=0):\n",
    "    return sqrt(abs(a)**2 + abs(b)**2)\n",
    "\n",
    "def g_loss_min_l1(a, b, par):\n",
    "    return min(par, abs(a) + abs(b))\n",
    "\n",
    "def g_loss_min_l2(a, b, par):\n",
    "    return min(par, sqrt(abs(a)**2 + abs(b)**2))"
   ]
  },
  {
   "cell_type": "code",
   "execution_count": null,
   "id": "2ce9bd8c",
   "metadata": {},
   "outputs": [],
   "source": [
    "def f_loss_l1(a):\n",
    "    return np.sum(np.abs(a), axis=-1)\n",
    "\n",
    "def f_loss_l2(a):\n",
    "    return np.sqrt(np.sum(a**2, axis=-1))"
   ]
  },
  {
   "cell_type": "markdown",
   "id": "6d7e610a",
   "metadata": {},
   "source": [
    "## Params definition"
   ]
  },
  {
   "cell_type": "code",
   "execution_count": null,
   "id": "1eb5430d",
   "metadata": {},
   "outputs": [],
   "source": [
    "kg_max=30\n",
    "kv_max=40\n",
    "\n",
    "kv_half = kv_max//2\n",
    "\n",
    "alpha=40\n",
    "g_loss = [g_loss_l1, g_loss_l2, g_loss_min_l1, g_loss_min_l2][3]\n",
    "f_loss = [f_loss_l1, f_loss_l2][1]\n",
    "b = 20"
   ]
  },
  {
   "cell_type": "markdown",
   "id": "748031eb",
   "metadata": {},
   "source": [
    "## Precomputing node2node losses"
   ]
  },
  {
   "cell_type": "code",
   "execution_count": null,
   "id": "9de9f291",
   "metadata": {},
   "outputs": [],
   "source": [
    "height = img_r.shape[0]\n",
    "length = img_r.shape[1]\n",
    "\n",
    "g = np.zeros((kg_max*kv_max, kg_max*kv_max), dtype=np.float32)\n",
    "\n",
    "for k1 in range(kg_max*kv_max):\n",
    "    for k2 in range(kg_max*kv_max):\n",
    "        kg1 = k1 % kg_max\n",
    "        kv1 = k1 // kg_max\n",
    "        kg2 = k2 % kg_max\n",
    "        kv2 = k2 // kg_max\n",
    "        g[k1,k2] = g_loss(kg1 - kg2,kv1 - kv2, b)\n",
    "g = alpha*g"
   ]
  },
  {
   "cell_type": "code",
   "execution_count": null,
   "id": "2d3dc1eb",
   "metadata": {},
   "outputs": [],
   "source": [
    "kg1"
   ]
  },
  {
   "cell_type": "code",
   "execution_count": null,
   "id": "839a32f3",
   "metadata": {},
   "outputs": [],
   "source": [
    "kv1"
   ]
  },
  {
   "cell_type": "markdown",
   "id": "cbaadc6e",
   "metadata": {},
   "source": [
    "## Minimal path finding and recording"
   ]
  },
  {
   "cell_type": "code",
   "execution_count": null,
   "id": "5faf460e",
   "metadata": {},
   "outputs": [],
   "source": [
    "start = timer()\n",
    "img_shift = np.ones((height, length))\n",
    "\n",
    "for i in range(img_shift.shape[0]):\n",
    "    #start = timer()\n",
    "    f = np.inf*np.ones((length, kg_max*kv_max), dtype=np.float32)\n",
    "    for k in range(1, kg_max*kv_max):\n",
    "        kg1 = k % kg_max\n",
    "        kv1 = k // kg_max - kv_half\n",
    "        if i+kv1 < height and i+kv1 >= 0:\n",
    "            f[:length-kg1, k] = f_loss(img_r[i,:length-kg1] - img_l[i+kv1,kg1:])\n",
    "\n",
    "    #end = timer()\n",
    "    #print('\\n\\nconstruct graph:',timedelta(seconds=end-start))            \n",
    "    #start = timer()\n",
    "\n",
    "    pass_to_prev = np.zeros(f.shape, dtype=np.int)\n",
    "    for p in range(1, length):\n",
    "        ta = f[p-1, :] + g\n",
    "        ind = np.argmin(ta, axis=1)\n",
    "        f[p, :] += np.min(ta, axis=1)\n",
    "        pass_to_prev[p, :] = ind\n",
    "    \n",
    "    #end = timer()\n",
    "    #print('\\n\\nfind path:',timedelta(seconds=end-start))\n",
    "    #start = timer()\n",
    "    \n",
    "    line_shift = np.ones(length, dtype=np.int)\n",
    "    line_shift[-1] = np.argmin(f[-1,:])\n",
    "    for p in reversed(range(length-1)):\n",
    "        line_shift[p] = pass_to_prev[p+1, line_shift[p+1]]\n",
    "    \n",
    "    img_shift[i] = line_shift\n",
    "    #end = timer()\n",
    "    #print('\\n\\nrecover path:',timedelta(seconds=end-start)) \n",
    "\n",
    "    print(i, end=\" \")\n",
    "    #print(\"\\n\"+20*\"=\")\n",
    "\n",
    "end = timer()\n",
    "print('\\n\\n\\nTime per image',timedelta(seconds=end-start))"
   ]
  },
  {
   "cell_type": "markdown",
   "id": "04a8d449",
   "metadata": {},
   "source": [
    "## output image transforming and shifts decoding"
   ]
  },
  {
   "cell_type": "code",
   "execution_count": null,
   "id": "fecb28f6",
   "metadata": {},
   "outputs": [],
   "source": [
    "img_shift2 = np.zeros((height, length, 3), dtype=np.int)\n",
    "img_shift2[:,:,0] = img_shift % kg_max # horizontal\n",
    "img_shift2[:,:,1] = img_shift // kg_max - kv_half # vertical\n",
    "\n",
    "np.save(\"img_shift.npy\", img_shift2)\n",
    "\n",
    "img_shift3 = img_shift2.copy()\n",
    "\n",
    "img_shift3 = np.linalg.norm(img_shift3, axis=-1)\n",
    "img_shift3 = 255*img_shift3/img_shift3.max()\n",
    "\n",
    "#img_shift2 = 255*img_shift2/img_shift2.max()\n",
    "#img_shift2[:,:,0] = 255*img_shift2[:,:,0]/img_shift2[:,:,0].max()\n",
    "#img_shift2[:,:,1] = 255*img_shift2[:,:,1]/img_shift2[:,:,1].max()"
   ]
  },
  {
   "cell_type": "code",
   "execution_count": null,
   "id": "ac10c5bb",
   "metadata": {},
   "outputs": [],
   "source": [
    "img_shift2[:,:,0].max()"
   ]
  },
  {
   "cell_type": "markdown",
   "id": "e9c6682e",
   "metadata": {},
   "source": [
    "## Horizontal shift (normed at 255)"
   ]
  },
  {
   "cell_type": "code",
   "execution_count": null,
   "id": "19d5001f",
   "metadata": {},
   "outputs": [],
   "source": [
    "Image.fromarray((255*img_shift2[:,:,0]/img_shift2[:,:,0].max()).astype(np.uint8)).resize((800,600), Image.BICUBIC)"
   ]
  },
  {
   "cell_type": "markdown",
   "id": "3e7a9d96",
   "metadata": {},
   "source": [
    "## Vertical shift (normed at 255)"
   ]
  },
  {
   "cell_type": "code",
   "execution_count": null,
   "id": "0a4b59b1",
   "metadata": {},
   "outputs": [],
   "source": [
    "Image.fromarray((255*img_shift2[:,:,1]/img_shift2[:,:,1].max()).astype(np.uint8)).resize((800,600), Image.BICUBIC)"
   ]
  },
  {
   "cell_type": "markdown",
   "id": "29bc2559",
   "metadata": {},
   "source": [
    "## Color shift image (normed at 255)"
   ]
  },
  {
   "cell_type": "code",
   "execution_count": null,
   "id": "8eda2e5e",
   "metadata": {},
   "outputs": [],
   "source": [
    "Image.fromarray(img_shift2.astype(np.uint8)).resize((800,600), Image.BICUBIC)"
   ]
  },
  {
   "cell_type": "markdown",
   "id": "bd879328",
   "metadata": {},
   "source": [
    "## Norm maps (normed at 255)"
   ]
  },
  {
   "cell_type": "code",
   "execution_count": null,
   "id": "0c6536f3",
   "metadata": {},
   "outputs": [],
   "source": [
    "Image.fromarray(img_shift3.astype(np.uint8)).resize((800,600), Image.BICUBIC)"
   ]
  },
  {
   "cell_type": "markdown",
   "id": "27f4524e",
   "metadata": {},
   "source": [
    "## Original image"
   ]
  },
  {
   "cell_type": "code",
   "execution_count": null,
   "id": "2f6d586a",
   "metadata": {},
   "outputs": [],
   "source": [
    "Image.fromarray(img_l.astype(np.uint8)).resize((800,600))"
   ]
  },
  {
   "cell_type": "code",
   "execution_count": null,
   "id": "8ea44866",
   "metadata": {},
   "outputs": [],
   "source": [
    "import matplotlib.pyplot as plt"
   ]
  },
  {
   "cell_type": "code",
   "execution_count": null,
   "id": "109bd4db",
   "metadata": {},
   "outputs": [],
   "source": [
    "plt.hist(img_shift2[:,:,1].reshape(-1))"
   ]
  }
 ],
 "metadata": {},
 "nbformat": 4,
 "nbformat_minor": 5
}
