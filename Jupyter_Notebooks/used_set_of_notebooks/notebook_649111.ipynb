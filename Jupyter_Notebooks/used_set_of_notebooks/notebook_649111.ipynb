{
 "cells": [
  {
   "cell_type": "code",
   "execution_count": null,
   "id": "56c9ebd7",
   "metadata": {},
   "outputs": [],
   "source": [
    "import pandas as pd\n",
    "import matplotlib.pyplot as plt\n",
    "import seaborn as sns\n",
    "import numpy as np\n",
    "from statsmodels.graphics.tsaplots import plot_pacf\n",
    "from statsmodels.graphics.tsaplots import plot_acf\n",
    "from matplotlib.pyplot import figure"
   ]
  },
  {
   "cell_type": "code",
   "execution_count": null,
   "id": "6e418b4f",
   "metadata": {},
   "outputs": [],
   "source": [
    "def visualise_mle_prediction(dataframe, no_features, first_feature, last_feature, location_line, line=False):\n",
    "    fig, axes = plt.subplots(no_features, 1, figsize=(30,40))\n",
    "    ax = axes.ravel()\n",
    "    columns = dataframe.columns\n",
    "    t = dataframe.iloc[:,0]\n",
    "    for i in range(first_feature, last_feature):\n",
    "        # Values for drawing lower and upper bound\n",
    "        target = dataframe.iloc[:,i].values\n",
    "        mu = dataframe.iloc[:,i+no_features].values\n",
    "        sigma = dataframe.iloc[:,i+2*no_features].values\n",
    "        lower_bound = mu - 2*sigma\n",
    "        upper_bound = mu + 2* sigma\n",
    "        \n",
    "        # Values about appearance of anomaly \n",
    "        palette = []\n",
    "        anomaly_label = dataframe.iloc[:, i+4*no_features+1].values\n",
    "        if 0 in anomaly_label and 1 not in anomaly_label:\n",
    "            palette = [\"blue\"]\n",
    "        elif 1 in anomaly_label and 0 not in anomaly_label:\n",
    "            palette = [\"red\"]\n",
    "        elif 0 in anomaly_label and 1 in anomaly_label:\n",
    "            palette = [\"blue\",\"red\"]\n",
    "\n",
    "        sns.lineplot(data=dataframe, \n",
    "                     x=t, \n",
    "                     y=columns[i+no_features], \n",
    "                     ax=ax[i-first_feature],\n",
    "                     linewidth=1,\n",
    "                     color=\"black\")\n",
    "        ax[i-first_feature].fill_between(t, lower_bound, upper_bound, color=\"grey\", alpha=0.5)\n",
    "        if line:\n",
    "            ax[i-first_feature].axvline(location_line, 0,2, color=\"r\", linestyle =\"--\", linewidth=2)\n",
    "        \n",
    "        sns.scatterplot(data=dataframe, \n",
    "                        x=t, \n",
    "                        y=columns[i],\n",
    "                        ax=ax[i-first_feature], \n",
    "                        hue=columns[i+4*no_features+1],\n",
    "                        palette=palette\n",
    "                        )   "
   ]
  },
  {
   "cell_type": "markdown",
   "id": "0f9d5d32",
   "metadata": {},
   "source": [
    "## Change of Degeneration Level"
   ]
  },
  {
   "cell_type": "code",
   "execution_count": null,
   "id": "9c782de8",
   "metadata": {},
   "outputs": [],
   "source": [
    "start_phase_1 = 24682\n",
    "start_phase_2 = 38966"
   ]
  },
  {
   "cell_type": "markdown",
   "id": "ecc25b10",
   "metadata": {},
   "source": [
    "# Visualisation of Prediction - Cpps Data with small degeneration\n",
    "## Phase 0 - no error"
   ]
  },
  {
   "cell_type": "code",
   "execution_count": null,
   "id": "0a3f0e7e",
   "metadata": {},
   "outputs": [],
   "source": [
    "artifical_data = pd.read_csv(\"../../files/prediction/MLE/cpps_large_degradation.csv\", sep=\";\")\n",
    "artifical_data = artifical_data.iloc[:2000,:]"
   ]
  },
  {
   "cell_type": "code",
   "execution_count": null,
   "id": "2f960753",
   "metadata": {},
   "outputs": [],
   "source": [
    "visualise_mle_prediction(dataframe = artifical_data,\n",
    "                         no_features=10, \n",
    "                         first_feature=1, \n",
    "                         last_feature=11,\n",
    "                         line = False,\n",
    "                         location_line = start_phase_1\n",
    "                        )\n",
    "plt.show()"
   ]
  },
  {
   "cell_type": "markdown",
   "id": "15b46d4f",
   "metadata": {},
   "source": [
    "## Transistion from Phase 0 to Phase 1"
   ]
  },
  {
   "cell_type": "code",
   "execution_count": null,
   "id": "f8feec13",
   "metadata": {},
   "outputs": [],
   "source": [
    "artifical_data = pd.read_csv(\"../../files/prediction/MLE/cpps_large_degradation.csv\", sep=\";\")\n",
    "artifical_data = artifical_data.iloc[start_phase_1-200:28000,:]"
   ]
  },
  {
   "cell_type": "code",
   "execution_count": null,
   "id": "746d422b",
   "metadata": {},
   "outputs": [],
   "source": [
    "visualise_mle_prediction(dataframe = artifical_data,\n",
    "                         no_features=10, \n",
    "                         first_feature=1, \n",
    "                         last_feature=11,\n",
    "                         line = True,\n",
    "                         location_line = start_phase_1\n",
    "                        )\n",
    "plt.show()"
   ]
  },
  {
   "cell_type": "markdown",
   "id": "326c13bc",
   "metadata": {},
   "source": [
    "## Transistion from Phase 1 to Phase 2"
   ]
  },
  {
   "cell_type": "code",
   "execution_count": null,
   "id": "7aa5b0b1",
   "metadata": {},
   "outputs": [],
   "source": [
    "artifical_data = pd.read_csv(\"../../files/prediction/MLE/cpps_large_degradation.csv\", sep=\";\")\n",
    "artifical_data = artifical_data.iloc[start_phase_2-300:41000,:]"
   ]
  },
  {
   "cell_type": "code",
   "execution_count": null,
   "id": "998324dc",
   "metadata": {},
   "outputs": [],
   "source": [
    "visualise_mle_prediction(dataframe = artifical_data,\n",
    "                         no_features=10, \n",
    "                         first_feature=1, \n",
    "                         last_feature=11,\n",
    "                         line = True,\n",
    "                         location_line = start_phase_2\n",
    "                        )\n",
    "plt.show()"
   ]
  },
  {
   "cell_type": "markdown",
   "id": "0b04fa72",
   "metadata": {},
   "source": [
    "## Evaluation Metrics"
   ]
  },
  {
   "cell_type": "code",
   "execution_count": null,
   "id": "c4909070",
   "metadata": {},
   "outputs": [],
   "source": [
    "all_data = pd.read_csv(\"../../files/prediction/MLE/cpps_large_degradation.csv\", sep=\";\")"
   ]
  },
  {
   "cell_type": "code",
   "execution_count": null,
   "id": "f1017799",
   "metadata": {},
   "outputs": [],
   "source": [
    "def vis_anomaly_detection(dataframe, no_features, first_feature, last_feature, location_line1, location_line2):\n",
    "    fig, axes = plt.subplots(no_features, 1, figsize=(30,40))\n",
    "    ax = axes.ravel()\n",
    "    columns = dataframe.columns\n",
    "    t = dataframe.iloc[:,0]\n",
    "    for i in range(first_feature, last_feature):\n",
    "        sns.lineplot(data=dataframe, \n",
    "                     x=t, \n",
    "                     y=dataframe.iloc[:, i+4*no_features+1].cumsum(),\n",
    "                     ax=ax[i-first_feature],\n",
    "                     color=\"blue\",)\n",
    "        ax[i-first_feature].set_ylim(0, 5000) \n",
    "        ax[i-first_feature].axvline(location_line1, color=\"r\", linestyle =\"--\", linewidth=1)\n",
    "        ax[i-first_feature].axvline(location_line2, color=\"r\", linestyle =\"--\", linewidth=1)\n",
    "        ax[i-first_feature].text(10000, 4000, \"Phase 0: No Error\", fontsize=15)\n",
    "        ax[i-first_feature].text(27000, 4000, \"Phase 1: Small Error\", fontsize=15)\n",
    "        ax[i-first_feature].text(40000, 4000, \"Phase 2: Large Error\", fontsize=15)"
   ]
  },
  {
   "cell_type": "markdown",
   "id": "c75cf8f9",
   "metadata": {},
   "source": [
    "### Cumulative Sum of Anomaly, labeld by LSTM-Model"
   ]
  },
  {
   "cell_type": "code",
   "execution_count": null,
   "id": "13c6e42d",
   "metadata": {},
   "outputs": [],
   "source": [
    "dataset_phase_0 = all_data.loc[all_data.status == 0]\n",
    "vis_anomaly_detection(all_data, 10, 1, 11, start_phase_1, start_phase_2)\n",
    "plt.show()"
   ]
  },
  {
   "cell_type": "markdown",
   "id": "cba63942",
   "metadata": {},
   "source": [
    "## Samples, labeld as Anomaly per Phase"
   ]
  },
  {
   "cell_type": "code",
   "execution_count": null,
   "id": "83e67730",
   "metadata": {},
   "outputs": [],
   "source": [
    "for sensor in range(1,10+1):\n",
    "    anomaly_labels_phase_0 = all_data.loc[all_data.status==0][\"Anomaly Sensor_\"+str(sensor)].value_counts()[1]\n",
    "    anomaly_labels_phase_1 = all_data.loc[all_data.status==1][\"Anomaly Sensor_\"+str(sensor)].value_counts()[1]\n",
    "    anomaly_labels_phase_2 = all_data.loc[all_data.status==2][\"Anomaly Sensor_\"+str(sensor)].value_counts()[1]\n",
    "    print(\"Sensor No. {}\".format(sensor))\n",
    "    print(\"Number of samples labeled in phase 0 as anomalous by model: {}\".format(anomaly_labels_phase_0))\n",
    "    print(\"Number of samples labeled in phase 1 as anomalous by model: {}\".format(anomaly_labels_phase_1))\n",
    "    print(\"Number of samples labeled in phase 2 as anomalous by model: {}\".format(anomaly_labels_phase_2))\n",
    "    print(\"--\"*20)"
   ]
  }
 ],
 "metadata": {},
 "nbformat": 4,
 "nbformat_minor": 5
}
