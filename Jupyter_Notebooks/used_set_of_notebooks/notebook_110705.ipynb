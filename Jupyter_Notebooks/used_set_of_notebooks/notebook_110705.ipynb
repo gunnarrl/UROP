{
 "cells": [
  {
   "cell_type": "markdown",
   "id": "4cedd4af",
   "metadata": {},
   "source": [
    "# What are the characteristics of detectable chargeable materials in AEM data?\n",
    "\n",
    "**Author**: [Seogi Kang](https://github.com/sgkang)\n",
    "\n",
    "This notebooks investigate a question: \"What are the characteristics of detectable chargeable materials in AEM data?\". \n",
    "This notebook was used to produce Figures 13, 14 in Kang et al. (2019). "
   ]
  },
  {
   "cell_type": "code",
   "execution_count": null,
   "id": "62bc8be3",
   "metadata": {},
   "outputs": [],
   "source": [
    "from SimPEG import *\n",
    "from SimPEG import EM\n",
    "from scipy.constants import mu_0\n",
    "import numpy as np\n",
    "from simpegEMIP.StretchedExponential import SEInvImpulseProblem, SESurvey\n",
    "from simpegEMIP.TDEM import Problem3D_e, Problem3DEM_e, Rx, Survey\n",
    "from simpegEMIP.TDEM.Utils import get_dobs_pn\n",
    "import matplotlib.pyplot as plt\n",
    "from pymatsolver import PardisoSolver\n",
    "import matplotlib.patches as mpatches\n",
    "from matplotlib.collections import PatchCollection\n",
    "%matplotlib inline"
   ]
  },
  {
   "cell_type": "code",
   "execution_count": null,
   "id": "f6420c1a",
   "metadata": {},
   "outputs": [],
   "source": [
    "import matplotlib \n",
    "matplotlib.rcParams[\"font.size\"] = 16"
   ]
  },
  {
   "cell_type": "code",
   "execution_count": null,
   "id": "519c59de",
   "metadata": {},
   "outputs": [],
   "source": [
    "figdir = \"./figures/\""
   ]
  },
  {
   "cell_type": "markdown",
   "id": "0b7a7e84",
   "metadata": {},
   "source": [
    "## Step 1: Compute rectangular waveforms, then tranform them in to frequency-domain\n",
    "\n",
    "- Grounded DC-IP: 0.125Hz base frequency (8s period)\n",
    "- Airborne EM: 25Hz base frequency (0.04s period)"
   ]
  },
  {
   "cell_type": "code",
   "execution_count": null,
   "id": "9460882a",
   "metadata": {},
   "outputs": [],
   "source": [
    "from scipy.signal import square\n",
    "from scipy.fftpack import fft, fftshift\n",
    "def rect_time_to_frequency(dt, f_base, n_period=2):\n",
    "    T_base = 1./f_base\n",
    "    n = int(np.floor(T_base/dt)*n_period)\n",
    "    t = np.linspace(0., n*dt, n)\n",
    "    out_t = square(2 * np.pi * f_base * t, duty=0.5)\n",
    "    out_f = fft(out_t) * 2.0/n\n",
    "    f = np.linspace(0., 1./(2.*dt), n//2)\n",
    "    out = {\"t\":t, \"f\":f[0:n//2], \"out_t\": out_t, \"out_f\":out_f[0:n//2]}\n",
    "    return out"
   ]
  },
  {
   "cell_type": "code",
   "execution_count": null,
   "id": "e136f170",
   "metadata": {},
   "outputs": [],
   "source": [
    "out_grounded = rect_time_to_frequency(1e-4, 0.125, 2)\n",
    "out_aem = rect_time_to_frequency(1e-6, 25., 4)\n",
    "\n",
    "plt.plot(out_grounded['t'], out_grounded['out_t'], lw=4)\n",
    "plt.plot(np.r_[0, 16], np.r_[0., 0.], 'k--')\n",
    "plt.xlim(0, 16)\n",
    "plt.xticks([0., 8., 16.])\n",
    "plt.yticks([])\n",
    "plt.xlabel(\"Time (s)\")"
   ]
  },
  {
   "cell_type": "code",
   "execution_count": null,
   "id": "e83e5be2",
   "metadata": {},
   "outputs": [],
   "source": [
    "plt.plot(out_aem['t'], out_aem['out_t'], lw=4)\n",
    "plt.xlim(0, out_aem['t'].max())\n",
    "plt.plot(np.r_[0, out_aem['t'].max()], np.r_[0., 0.], 'k--')\n",
    "plt.xticks([0,1./25, 2./25, 3./25, 4./25])\n",
    "plt.yticks([0.])\n",
    "plt.xlabel(\"Time (s)\")"
   ]
  },
  {
   "cell_type": "code",
   "execution_count": null,
   "id": "95a14d2f",
   "metadata": {},
   "outputs": [],
   "source": [
    "from scipy.interpolate import interp1d\n",
    "grain_size = np.array([0.01, 1, 15, 60])\n",
    "frequency_grain_size = np.array([1e4, 450., 1., 0.1])\n",
    "grain_size_fun = interp1d(frequency_grain_size, grain_size)\n",
    "plt.figure(figsize = (12, 4))\n",
    "temp_grounded = abs(out_grounded['out_f'])/abs(out_grounded['out_f']).max()\n",
    "inds = temp_grounded>1e-3\n",
    "ax = plt.subplot(111)\n",
    "ax.loglog(out_grounded['f'][inds], temp_grounded[inds]*100., 'k.')\n",
    "temp_aem = abs(out_aem['out_f'])/abs(out_aem['out_f']).max()\n",
    "inds = temp_aem>1e-3\n",
    "ax.loglog(out_aem['f'][inds], temp_aem[inds]*100., 'k.')\n",
    "fmin_grounded, fmax_grounded = out_grounded['f'][inds].min(), out_grounded['f'][inds].max()\n",
    "fmin_aem, fmax_aem = out_aem['f'][inds].min(), out_aem['f'][inds].max()\n",
    "ax.set_xlim(1e-1, 1e5)\n",
    "ax.tick_params(axis='x',which='minor', bottom='on', top='on')\n",
    "ax.grid(which='both')\n",
    "ax.set_xlabel(\"Frequency (Hz)\")\n",
    "ax_1 = ax.twinx()\n",
    "ax_1.loglog(frequency_grain_size, grain_size, 'ro-')"
   ]
  },
  {
   "cell_type": "markdown",
   "id": "926be20e",
   "metadata": {},
   "source": [
    "## Step2: Make a diagram illustrating various IP effects and surveys as a function of frequency"
   ]
  },
  {
   "cell_type": "code",
   "execution_count": null,
   "id": "e5d88580",
   "metadata": {},
   "outputs": [],
   "source": [
    "def tau_from_peak_freq(f):\n",
    "    return 1./(2*np.pi*f)\n",
    "\n",
    "freqs = 10.**(-1 + np.arange(7))\n",
    "taus = tau_from_peak_freq(freqs)\n",
    "\n",
    "fig = plt.figure(figsize = (10, 4))\n",
    "ax = plt.subplot(111)\n",
    "ax.set_xlim(1e-1, 1e5)\n",
    "ax.set_xscale('log')\n",
    "ax.grid(which='both', alpha=0.5)\n",
    "ax.set_xlabel(\"Frequency ($Hz$)\")\n",
    "ax.barh(4, fmax_grounded-fmin_grounded, 0.5, fmin_grounded, color='crimson')\n",
    "ax.barh(3, fmax_aem-fmin_aem, 0.5, fmin_aem, color='seagreen')\n",
    "ax.annotate(\n",
    "    s='', xy=(30.,2), xytext=(0.1,2), arrowprops=dict(arrowstyle='<->',fc=\"crimson\", ec=\"crimson\", lw=4)\n",
    ")\n",
    "ax.annotate(\n",
    "    s='', xy=(1e4,2), xytext=(30.,2), arrowprops=dict(arrowstyle='<->',fc=\"seagreen\", ec=\"seagreen\", lw=4)\n",
    ")\n",
    "ax.annotate(\n",
    "    s='', xy=(1e3,1.2), xytext=(0.1,1.2), arrowprops=dict(arrowstyle='<->',fc=\"crimson\", ec=\"crimson\", lw=4)\n",
    ")\n",
    "ax.annotate(\n",
    "    s='', xy=(1e5,0.7), xytext=(1e2,0.7), arrowprops=dict(arrowstyle='<->',fc=\"seagreen\", ec=\"seagreen\", lw=4)\n",
    ")\n",
    "\n",
    "ax.annotate(\n",
    "    s='', xy=(1e5,-0.3), xytext=(1e2,-0.3), arrowprops=dict(arrowstyle='<->',fc=\"seagreen\", ec=\"seagreen\", lw=4)\n",
    ")\n",
    "tau_min, tau_max = taus.min(), taus.max()\n",
    "axT = ax.twiny()\n",
    "axT.set_xlim(tau_max, tau_min)\n",
    "\n",
    "axT.tick_params(which='both', direction = 'in')\n",
    "axT.set_xscale('log')\n",
    "axT.set_xlabel('Time constant ($s$)')\n",
    "ax.text(1, 2.2, \">0.3 $mm$\")\n",
    "ax.text(220, 2.2, \"<0.3 $mm$\")\n",
    "ax.text(1, 1.4, \"Eletrical Double Layer\")\n",
    "ax.text(1.2*1e3, 1.2-0.3, \"Maxwell-Wagner\")\n",
    "ax.text(1*1e3, 1.2-0.3-1, \"Ice relaxation\")\n",
    "\n",
    "ax.set_ylim(-1, 5)\n",
    "ax.set_yticks([0, 1, 2, 3, 4])\n",
    "ax.set_yticklabels([\"Ice\", \"Clays\", \"Grain size \\n (sulphide)\", \"AEM\", \"DC-IP\"])\n",
    "plt.tight_layout()\n",
    "fig.savefig(figdir + \"polarization_spectrum\")"
   ]
  },
  {
   "cell_type": "markdown",
   "id": "e8128662",
   "metadata": {},
   "source": [
    "## Step 3: Compute type curves\n",
    "\n",
    "- Type A: Clay or sulphides \n",
    "- Type B: Clay or sulphides (finer-grained)\n",
    "- Type C: Type A, but having a deep conductor\n",
    "- Type D: Ice"
   ]
  },
  {
   "cell_type": "code",
   "execution_count": null,
   "id": "5a17d5fd",
   "metadata": {},
   "outputs": [],
   "source": [
    "# Locations of the receiver and source loops\n",
    "rxloc = np.array([[0., 0., 30.]])\n",
    "srcloc = np.array([[0., 0., 30.]])\n",
    "\n",
    "\n",
    "moment = np.pi*(13.)**2 / 1e12\n",
    "area = np.pi*(13**2)\n",
    "noise_floor = 1e-4\n",
    "\n",
    "# Generate 2D cylindrically symmetric mesh\n",
    "cs, ncx, ncz, npad = 10., 25, 20, 20\n",
    "hx = [(cs,ncx), (cs,npad,1.3)]\n",
    "hz = [(cs,npad,-1.3), (cs,ncz), (cs,npad,1.3)]\n",
    "mesh = Mesh.CylMesh([hx,1,hz], '00C')    "
   ]
  },
  {
   "cell_type": "markdown",
   "id": "4aa58587",
   "metadata": {},
   "source": [
    "### Step3-1 Type A: Clay or sulphides "
   ]
  },
  {
   "cell_type": "code",
   "execution_count": null,
   "id": "25374804",
   "metadata": {},
   "outputs": [],
   "source": [
    "airind = mesh.gridCC[:,2]>0.\n",
    "blkind  = np.logical_and(mesh.gridCC[:,0]<200., (mesh.gridCC[:,2]<0)&(mesh.gridCC[:,2]>-150)&(mesh.gridCC[:,2]<-50))        \n",
    "sig_2 = 1./50\n",
    "sig_1 = 0.001\n",
    "eta_se, tau_se, c_se = 0.1, 0.001, 0.7\n",
    "    \n",
    "sigmaInf = np.ones(mesh.nC) * sig_1\n",
    "sigmaInf[airind] = 1e-8\n",
    "sigmaInf[blkind] = sig_2\n",
    "eta = np.zeros(mesh.nC)\n",
    "eta[blkind] = eta_se\n",
    "tau = np.ones(mesh.nC) * tau_se\n",
    "c = np.ones(mesh.nC) * c_se \n",
    "\n",
    "rx_emip = Rx.Point_dbdt(rxloc, np.logspace(np.log10(1e-5), np.log10(0.009), 51), 'z')\n",
    "src_emip = EM.TDEM.Src.CircularLoop([rx_emip], waveform=EM.TDEM.Src.StepOffWaveform(), loc=srcloc, radius = 13.)\n",
    "survey_emip = Survey([src_emip])\n",
    "prb_emip = Problem3D_e(mesh, sigmaInf=sigmaInf, eta=eta, tau=tau, c=c)\n",
    "prb_emip.timeSteps = [(1e-06, 5), (2.5e-06, 5), (5e-06, 5), (1e-05, 10), (2e-05, 10), (4e-05, 10), (8e-05, 10), (1.6e-04, 10), (3.2e-04, 20)]\n",
    "prb_emip.Solver = PardisoSolver\n",
    "prb_emip.pair(survey_emip)\n",
    "m = np.r_[sigmaInf, eta, tau, c]\n",
    "data_typeA = survey_emip.dpred(m)"
   ]
  },
  {
   "cell_type": "markdown",
   "id": "cae4e7ca",
   "metadata": {},
   "source": [
    "### Step3-2 Type B: Clay or sulphides  (finer-grained)"
   ]
  },
  {
   "cell_type": "code",
   "execution_count": null,
   "id": "151ccde8",
   "metadata": {},
   "outputs": [],
   "source": [
    "airind = mesh.gridCC[:,2]>0.\n",
    "blkind  = np.logical_and(mesh.gridCC[:,0]<200., (mesh.gridCC[:,2]<0)&(mesh.gridCC[:,2]>-150)&(mesh.gridCC[:,2]<-50))    \n",
    "sig_2 = 1./50\n",
    "sig_1 = 0.001\n",
    "eta_se, tau_se, c_se = 0.1, 0.0001, 0.7\n",
    "\n",
    "sigmaInf = np.ones(mesh.nC) * sig_1\n",
    "sigmaInf[airind] = 1e-8\n",
    "sigmaInf[blkind] = sig_2\n",
    "eta = np.zeros(mesh.nC)\n",
    "eta[blkind] = eta_se\n",
    "tau = np.ones(mesh.nC) * tau_se\n",
    "c = np.ones(mesh.nC) * c_se \n",
    "\n",
    "rx_emip = Rx.Point_dbdt(rxloc, np.logspace(np.log10(1e-5), np.log10(0.009), 51), 'z')\n",
    "src_emip = EM.TDEM.Src.CircularLoop([rx_emip], waveform=EM.TDEM.Src.StepOffWaveform(), loc=srcloc, radius = 13.)\n",
    "survey_emip = Survey([src_emip])\n",
    "prb_emip = Problem3D_e(mesh, sigmaInf=sigmaInf, eta=eta, tau=tau, c=c)\n",
    "prb_emip.timeSteps = [(1e-06, 5), (2.5e-06, 5), (5e-06, 5), (1e-05, 10), (2e-05, 10), (4e-05, 10), (8e-05, 10), (1.6e-04, 10), (3.2e-04, 20)]\n",
    "prb_emip.Solver = PardisoSolver\n",
    "prb_emip.pair(survey_emip)\n",
    "m = np.r_[sigmaInf, eta, tau, c]\n",
    "data = survey_emip.dpred(m)\n",
    "data_typeB = data.copy()"
   ]
  },
  {
   "cell_type": "markdown",
   "id": "85bc1218",
   "metadata": {},
   "source": [
    "### Step3-3 Type C: Type A with a deep conductor"
   ]
  },
  {
   "cell_type": "code",
   "execution_count": null,
   "id": "2ab33f5b",
   "metadata": {},
   "outputs": [],
   "source": [
    "airind = mesh.gridCC[:,2]>0.\n",
    "blkind  = np.logical_and(mesh.gridCC[:,0]<200., (mesh.gridCC[:,2]<0)&(mesh.gridCC[:,2]>-150)&(mesh.gridCC[:,2]<-50))    \n",
    "blkind_1  = np.logical_and(mesh.gridCC[:,0]<np.Inf, (mesh.gridCC[:,2]<0)&(mesh.gridCC[:,2]>-400)&(mesh.gridCC[:,2]<-300))        \n",
    "sig_2 = 1./50\n",
    "sig_1 = 0.001\n",
    "\n",
    "sigmaInf = np.ones(mesh.nC) * sig_1\n",
    "sigmaInf[airind] = 1e-8\n",
    "sigmaInf[blkind] = sig_2\n",
    "sigmaInf[blkind_1] = 1./10.\n",
    "eta = np.zeros(mesh.nC)\n",
    "eta_se, tau_se, c_se = 0.1, 1e-3, 0.7\n",
    "eta[blkind] = eta_se\n",
    "tau = np.ones(mesh.nC) * tau_se\n",
    "c = np.ones(mesh.nC) * c_se \n",
    "\n",
    "rx_emip = Rx.Point_dbdt(rxloc, np.logspace(np.log10(1e-5), np.log10(0.009), 51), 'z')\n",
    "src_emip = EM.TDEM.Src.CircularLoop([rx_emip], waveform=EM.TDEM.Src.StepOffWaveform(), loc=srcloc, radius = 13.)\n",
    "survey_emip = Survey([src_emip])\n",
    "prb_emip = Problem3D_e(mesh, sigmaInf=sigmaInf, eta=eta, tau=tau, c=c)\n",
    "prb_emip.timeSteps = [(1e-06, 5), (2.5e-06, 5), (5e-06, 5), (1e-05, 10), (2e-05, 10), (4e-05, 10), (8e-05, 10), (1.6e-04, 10), (3.2e-04, 20)]\n",
    "prb_emip.Solver = PardisoSolver\n",
    "prb_emip.pair(survey_emip)\n",
    "m = np.r_[sigmaInf, eta, tau, c]\n",
    "data_typeC = survey_emip.dpred(m)"
   ]
  },
  {
   "cell_type": "markdown",
   "id": "75ede97a",
   "metadata": {},
   "source": [
    "### Step3-4 Type D: Ice"
   ]
  },
  {
   "cell_type": "code",
   "execution_count": null,
   "id": "3a441943",
   "metadata": {},
   "outputs": [],
   "source": [
    "airind = mesh.gridCC[:,2]>0.\n",
    "blkind  = np.logical_and(mesh.gridCC[:,0]<200., (mesh.gridCC[:,2]<0)&(mesh.gridCC[:,2]>-50)&(mesh.gridCC[:,2]<0.))    \n",
    "sigmaInf[airind] = 1e-8\n",
    "sig_2 = 1./1000.\n",
    "sig_1 = 1./10000.\n",
    "eta_se, tau_se, c_se = 0.9, 1./(2*np.pi*2000), 0.5\n",
    "sigmaInf = np.ones(mesh.nC) * sig_1\n",
    "sigmaInf[blkind] = sig_2\n",
    "eta = np.zeros(mesh.nC)\n",
    "eta[blkind] = eta_se\n",
    "tau = np.ones(mesh.nC) * tau_se\n",
    "c = np.ones(mesh.nC) * c_se \n",
    "\n",
    "rx_emip = Rx.Point_dbdt(rxloc, np.logspace(np.log10(1e-5), np.log10(0.009), 51), 'z')\n",
    "src_emip = EM.TDEM.Src.CircularLoop([rx_emip], waveform=EM.TDEM.Src.StepOffWaveform(), loc=srcloc, radius = 13.)\n",
    "survey_emip = Survey([src_emip])\n",
    "prb_emip = Problem3D_e(mesh, sigmaInf=sigmaInf, eta=eta, tau=tau, c=c)\n",
    "prb_emip.timeSteps = [(1e-06, 5), (2.5e-06, 5), (5e-06, 5), (1e-05, 10), (2e-05, 10), (4e-05, 10), (8e-05, 10), (1.6e-04, 10), (3.2e-04, 20)]\n",
    "prb_emip.Solver = PardisoSolver\n",
    "prb_emip.pair(survey_emip)\n",
    "m = np.r_[sigmaInf, eta, tau, c]\n",
    "data_typeD = survey_emip.dpred(m)\n",
    "\n",
    "rx_em = EM.TDEM.Rx.Point_dbdt(rxloc, np.logspace(np.log10(1e-5), np.log10(0.009), 51), 'z')\n",
    "src_em = EM.TDEM.Src.CircularLoop([rx_em], waveform=EM.TDEM.Src.StepOffWaveform(), loc=srcloc, radius = 13.)\n",
    "survey_em = EM.TDEM.Survey([src_em])\n",
    "prb_em = EM.TDEM.Problem3D_e(mesh, sigma=sigmaInf)\n",
    "prb_em.timeSteps = [(1e-06, 5), (2.5e-06, 5), (5e-06, 5), (1e-05, 10), (2e-05, 10), (4e-05, 10), (8e-05, 10), (1.6e-04, 10), (3.2e-04, 20)]\n",
    "prb_em.Solver = PardisoSolver\n",
    "prb_em.pair(survey_em)\n",
    "m = np.r_[sigmaInf, eta, tau, c]\n",
    "data_em_typeD = survey_em.dpred(m)\n",
    "data_ip_typeD = data_typeD - data_em_typeD"
   ]
  },
  {
   "cell_type": "code",
   "execution_count": null,
   "id": "83dc9e6f",
   "metadata": {},
   "outputs": [],
   "source": [
    "matplotlib.rcParams[\"font.size\"] = 16"
   ]
  },
  {
   "cell_type": "code",
   "execution_count": null,
   "id": "fb602e13",
   "metadata": {},
   "outputs": [],
   "source": [
    "fig = plt.figure(figsize = (12, 8))\n",
    "ax1 = plt.subplot(221)\n",
    "ax2 = plt.subplot(222)\n",
    "ax3 = plt.subplot(223)\n",
    "ax4 = plt.subplot(224)\n",
    "legends = ['Fine-grained clays', 'Fine-grained sulphides']\n",
    "ms = 1e3\n",
    "data_p, data_n = get_dobs_pn(data_typeA.flatten()/moment)\n",
    "ax1.loglog(rx_emip.times*ms, data_n, linestyle='-', color='k', lw=2)\n",
    "ax1.loglog(rx_emip.times*ms, data_p, linestyle='--', color='k', lw=2)\n",
    "\n",
    "data_p, data_n = get_dobs_pn(data_typeB.flatten()/moment)\n",
    "ax2.loglog(rx_emip.times*ms, data_n, linestyle='-', color='k', lw=2)\n",
    "ax2.loglog(rx_emip.times*ms, data_p, linestyle='--', color='k', lw=2)\n",
    "\n",
    "data_p, data_n = get_dobs_pn(data_typeC.flatten()/moment)\n",
    "ax3.loglog(rx_emip.times*ms, data_n, linestyle='-', color='k', lw=2)\n",
    "ax3.loglog(rx_emip.times*ms, data_p, linestyle='--', color='k', lw=2)\n",
    "\n",
    "data_p, data_n = get_dobs_pn(data_typeD.flatten()/moment)\n",
    "ax4.loglog(rx_emip.times*ms, data_n, linestyle='-', color='k', lw=2)\n",
    "ax4.loglog(rx_emip.times*ms, data_p, linestyle='--', color='k', lw=2)\n",
    "\n",
    "titles = ['Type A', 'Type B', 'Type C', 'Type D']\n",
    "for i, ax_temp in enumerate([ax1, ax2, ax3, ax4]):\n",
    "    if i>1:\n",
    "        ax_temp.set_xlabel(\"Time ($ms$)\")     \n",
    "    if i==0:\n",
    "        ax_temp.legend((\"+\", \"-\"))\n",
    "    ax_temp.set_xlim(2e-5*ms, 0.01*ms)\n",
    "    ax_temp.grid()\n",
    "    ax_temp.set_ylim(1e-4, 1e5)\n",
    "    ax_temp.set_title(titles[i])\n",
    "    if (i==0) or (i==2):\n",
    "        ax_temp.set_ylabel(\"Voltage ($pV/A$-$m^4$)\")    \n",
    "ax.set_ylim(1e-4, 1e5)\n",
    "plt.tight_layout()    \n",
    "fig.savefig(figdir+\"type_curves\", dpi=300)"
   ]
  }
 ],
 "metadata": {},
 "nbformat": 4,
 "nbformat_minor": 5
}
