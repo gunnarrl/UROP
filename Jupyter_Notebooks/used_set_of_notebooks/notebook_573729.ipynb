{
 "cells": [
  {
   "cell_type": "markdown",
   "id": "6a18a2f4",
   "metadata": {},
   "source": [
    "## Loading Images\n",
    "As the first task of the assignment, the image dataset that is given will be imported. Then to maintain the consistency in data format, the images will be converted to grayscale images. The naming convention for data is one according to the file names and organized as a class for easy access. For the images used for edge detection they are stored in a list named edge where $i^{th}$ element is the image edge(i+1).png and index 0 contains edge.png. The same naming convention is followed for hough named images (hough.png etc.). But for them index 1 contains image 'hough2.png' and index 2 contains image 'hough3.png'."
   ]
  },
  {
   "cell_type": "code",
   "execution_count": null,
   "id": "f3d76bd8",
   "metadata": {},
   "outputs": [],
   "source": [
    "import numpy as np\n",
    "import matplotlib.image as mpimg\n",
    "from skimage.color import rgb2gray\n",
    "import matplotlib.pyplot as plt\n",
    "from scipy import ndimage\n",
    "from skimage import feature\n",
    "class Dataset:\n",
    "    ## The images are assumed as in the local directory,\n",
    "    ## Change path names accordingly\n",
    "    def __init__(self):\n",
    "        ## Import images for part 1\n",
    "        edge_image_names = ['edge1.png','edge2.png', 'edge3.png']\n",
    "        self.edge_images = []\n",
    "        for image_name in edge_image_names:\n",
    "            image = mpimg.imread(image_name)\n",
    "            self.edge_images.append(rgb2gray(image))\n",
    "            print(\"Imported \" + image_name + \": Original Dimesions \" + str(image.shape))\n",
    "        ## Import images for part 2\n",
    "        hough_image_names = ['hough.png', 'hough2.png', 'hough3.png']\n",
    "        self.hough_images = []\n",
    "        for image_name in hough_image_names:\n",
    "            image = mpimg.imread(image_name)\n",
    "            self.hough_images.append(rgb2gray(image))\n",
    "            print(\"Imported \" + image_name + \": Original Dimensions \" + str(image.shape))\n",
    "        ## Import hough_result\n",
    "        result_image_name = 'hough_reS.png'\n",
    "        image = mpimg.imread(result_image_name)\n",
    "        self.hough_result = (rgb2gray(image))\n",
    "        print(\"Imported \" + result_image_name + \": Original Dimensions \" + str(image.shape))\n",
    "        print(\"INFO: Dataset created\")\n",
    "    def get_edge_images(self):\n",
    "        return self.edge_images\n",
    "    def get_hough_images(self):\n",
    "        return self.hough_images\n",
    "    def get_hough_result(self):\n",
    "        return self.hough_result\n",
    "dataset = Dataset()"
   ]
  },
  {
   "cell_type": "markdown",
   "id": "88e32e43",
   "metadata": {},
   "source": [
    "## Part 1: Edge Detection\n",
    "In this part of the notebook, the tasks involved with Edge Detection concept is given. The tasks and the concepts that they cover are as follows:\n",
    "- ***Edge Detection with Sobel and Prewitt operators***\n",
    "- ***Edge Detection with Canny Edge Detectors***"
   ]
  },
  {
   "cell_type": "markdown",
   "id": "ce55086d",
   "metadata": {},
   "source": [
    "### Part 1.1: Edge Detection with Sobel and Prewitt Operators\n",
    "In this part of the assignment, edge detetction using the sobel and prewitt operators are illustrated. For combining the vertical and horizontal edges the equation $\\sqrt {G_x^2 + G_y^2}$ is used. Here $G_x$ is the result of applying the horizontal filter and $G_y$ is the result of applying the vertical filter. "
   ]
  },
  {
   "cell_type": "markdown",
   "id": "e509fd19",
   "metadata": {},
   "source": [
    "#### Applying Sobel Operators\n",
    "Here, the horizontal and vertical Sobel operators are being applied by the following method and results are illustrated. The convolution operation is implemented as **sum(multiply(matrix1, matrix2))**. For the images that convolution cannot be applied, zero padding is used. When the images are being shown, the first column contains the grayscale image and the second column shows the image where sobel operator is applied."
   ]
  },
  {
   "cell_type": "code",
   "execution_count": null,
   "id": "25f17e26",
   "metadata": {},
   "outputs": [],
   "source": [
    "def apply_sobel(image):\n",
    "    sobel_horizontal = [\n",
    "        [-1,-2,-1],\n",
    "        [0, 0, 0],\n",
    "        [1, 2, 1]\n",
    "    ]\n",
    "    sobel_vertical = [\n",
    "        [-1, 0, 1],\n",
    "        [-2, 0, 2],\n",
    "        [-1, 0, 1]\n",
    "    ]\n",
    "    filter_dims = (3,3)\n",
    "    vertical_edges = ndimage.filters.convolve(image, sobel_vertical)\n",
    "    horizontal_edges = ndimage.filters.convolve(image, sobel_horizontal)\n",
    "    sobel_res = np.sqrt(np.square(horizontal_edges) + np.square(vertical_edges))\n",
    "    return (sobel_res,\n",
    "           np.arctan2(vertical_edges, horizontal_edges), horizontal_edges, vertical_edges)\n",
    "\n",
    "edge_images = dataset.get_edge_images()\n",
    "sobel_results = (apply_sobel(edge_images[0]), apply_sobel(edge_images[1]), apply_sobel(edge_images[2]))"
   ]
  },
  {
   "cell_type": "code",
   "execution_count": null,
   "id": "caa6b57f",
   "metadata": {},
   "outputs": [],
   "source": [
    "f, axes = plt.subplots(2,2, figsize = (15, 10))\n",
    "f.suptitle(\"Sobel results for edge1.png\", fontsize=16)\n",
    "axes[0,0].imshow(edge_images[0], cmap='Greys_r')\n",
    "axes[0,0].set_title(\"Origial image\")\n",
    "axes[0,1].imshow(sobel_results[0][0], cmap='Greys_r')\n",
    "axes[0,1].set_title(\"Result of Sobel Operation\")\n",
    "axes[1,0].imshow(sobel_results[0][2], cmap='Greys_r')\n",
    "axes[1,0].set_title(\"Horizontal Edges Detected\")\n",
    "axes[1,1].imshow(sobel_results[0][3], cmap='Greys_r')\n",
    "axes[1,1].set_title(\"Vertical Edges Detected\")"
   ]
  },
  {
   "cell_type": "code",
   "execution_count": null,
   "id": "d71f7510",
   "metadata": {},
   "outputs": [],
   "source": [
    "f, axes = plt.subplots(2,2, figsize = (10, 12))\n",
    "f.suptitle(\"Sobel results for edge2.png\", fontsize=16)\n",
    "axes[0,0].imshow(edge_images[1], cmap='Greys_r')\n",
    "axes[0,0].set_title(\"Origial image\")\n",
    "axes[0,1].imshow(sobel_results[1][0], cmap='Greys_r')\n",
    "axes[0,1].set_title(\"Result of Sobel Operation\")\n",
    "axes[1,0].imshow(sobel_results[1][2], cmap='Greys_r')\n",
    "axes[1,0].set_title(\"Horizontal Edges Detected\")\n",
    "axes[1,1].imshow(sobel_results[1][3], cmap='Greys_r')\n",
    "axes[1,1].set_title(\"Vertical Edges Detected\")"
   ]
  },
  {
   "cell_type": "code",
   "execution_count": null,
   "id": "c9b40c3d",
   "metadata": {},
   "outputs": [],
   "source": [
    "f, axes = plt.subplots(2,2, figsize = (15, 10))\n",
    "f.suptitle(\"Sobel results for edge3.png\", fontsize=16)\n",
    "axes[0,0].imshow(edge_images[2], cmap='Greys_r')\n",
    "axes[0,0].set_title(\"Origial image\")\n",
    "axes[0,1].imshow(sobel_results[2][0], cmap='Greys_r')\n",
    "axes[0,1].set_title(\"Result of Sobel Operation\")\n",
    "axes[1,0].imshow(sobel_results[2][2], cmap='Greys_r')\n",
    "axes[1,0].set_title(\"Horizontal Edges Detected\")\n",
    "axes[1,1].imshow(sobel_results[2][3], cmap='Greys_r')\n",
    "axes[1,1].set_title(\"Vertical Edges Detected\")"
   ]
  },
  {
   "cell_type": "markdown",
   "id": "d8e0fd9e",
   "metadata": {},
   "source": [
    "### Applying Prewitt Operators\n",
    "Just like the same manner with the sobel operators, the prewitt operators are applied in the same manner. The method used for applying prewitt operators is given below as **apply_prewitt** which takes an image as input."
   ]
  },
  {
   "cell_type": "code",
   "execution_count": null,
   "id": "83575fbe",
   "metadata": {},
   "outputs": [],
   "source": [
    "def apply_prewitt(image):\n",
    "    prewitt_horizontal = [\n",
    "        [-1,-1,-1],\n",
    "        [0, 0, 0],\n",
    "        [1, 1, 1]\n",
    "    ]\n",
    "    prewitt_vertical = [\n",
    "        [-1, 0, 1],\n",
    "        [-1, 0, 1],\n",
    "        [-1, 0, 1]\n",
    "    ]\n",
    "    vertical_edges = ndimage.filters.convolve(image, prewitt_vertical)\n",
    "    horizontal_edges = ndimage.filters.convolve(image, prewitt_horizontal)\n",
    "    prewitt_res = np.sqrt(np.square(horizontal_edges) + np.square(vertical_edges))\n",
    "    return (prewitt_res,\n",
    "           np.arctan2(vertical_edges, horizontal_edges), horizontal_edges, vertical_edges)\n",
    "edge_images = dataset.get_edge_images()\n",
    "prewitt_results = (apply_prewitt(edge_images[0]), apply_prewitt(edge_images[1]), apply_prewitt(edge_images[2]))"
   ]
  },
  {
   "cell_type": "code",
   "execution_count": null,
   "id": "b61e4ee5",
   "metadata": {},
   "outputs": [],
   "source": [
    "f, axes = plt.subplots(2,2, figsize = (15, 10))\n",
    "f.suptitle(\"Prewitt results for edge1.png\", fontsize=16)\n",
    "axes[0,0].imshow(edge_images[0], cmap='Greys_r')\n",
    "axes[0,0].set_title(\"Origial image\")\n",
    "axes[0,1].imshow(prewitt_results[0][0], cmap='Greys_r')\n",
    "axes[0,1].set_title(\"Result of Prewitt Operation\")\n",
    "axes[1,0].imshow(prewitt_results[0][2], cmap='Greys_r')\n",
    "axes[1,0].set_title(\"Horizontal Edges Detected\")\n",
    "axes[1,1].imshow(prewitt_results[0][3], cmap='Greys_r')\n",
    "axes[1,1].set_title(\"Vertical Edges Detected\")"
   ]
  },
  {
   "cell_type": "code",
   "execution_count": null,
   "id": "e29c66c7",
   "metadata": {},
   "outputs": [],
   "source": [
    "f, axes = plt.subplots(2,2, figsize = (10, 12))\n",
    "f.suptitle(\"Prewitt results for edge2.png\", fontsize=16)\n",
    "axes[0,0].imshow(edge_images[1], cmap='Greys_r')\n",
    "axes[0,0].set_title(\"Origial image\")\n",
    "axes[0,1].imshow(prewitt_results[1][0], cmap='Greys_r')\n",
    "axes[0,1].set_title(\"Result of Prewitt Operation\")\n",
    "axes[1,0].imshow(prewitt_results[1][2], cmap='Greys_r')\n",
    "axes[1,0].set_title(\"Horizontal Edges Detected\")\n",
    "axes[1,1].imshow(prewitt_results[1][3], cmap='Greys_r')\n",
    "axes[1,1].set_title(\"Vertical Edges Detected\")"
   ]
  },
  {
   "cell_type": "code",
   "execution_count": null,
   "id": "d453e47d",
   "metadata": {},
   "outputs": [],
   "source": [
    "f, axes = plt.subplots(2,2, figsize = (15, 10))\n",
    "f.suptitle(\"Prewitt results for edge3.png\", fontsize=16)\n",
    "axes[0,0].imshow(edge_images[2], cmap='Greys_r')\n",
    "axes[0,0].set_title(\"Origial image\")\n",
    "axes[0,1].imshow(prewitt_results[2][0], cmap='Greys_r')\n",
    "axes[0,1].set_title(\"Result of Prewitt Operation\")\n",
    "axes[1,0].imshow(prewitt_results[2][2], cmap='Greys_r')\n",
    "axes[1,0].set_title(\"Horizontal Edges Detected\")\n",
    "axes[1,1].imshow(prewitt_results[2][3], cmap='Greys_r')\n",
    "axes[1,1].set_title(\"Vertical Edges Detected\")"
   ]
  },
  {
   "cell_type": "markdown",
   "id": "669d83eb",
   "metadata": {},
   "source": [
    "### Part 1.2: Edge Detection with Canny Edge Detectors\n",
    "For the Canny Edge Detection algorithm, the multi-step approach mentioned in the URL https://towardsdatascience.com/canny-edge-detection-step-by-step-in-python-computer-vision-b49c3a2d8123 is followed. The steps of the algorithm is as follows:\n",
    "- Noise Reduction\n",
    "- Gradient Calculation\n",
    "- Non-maximum Suppression\n",
    "- Double Threshold\n",
    "- Edge Tracking by Hysteresis\n",
    "---\n",
    "For the purposes of this question, the Canny Edge Detector function given in skimage.feature module is used"
   ]
  },
  {
   "cell_type": "markdown",
   "id": "9554f37d",
   "metadata": {},
   "source": [
    "#### Parameter optimization for Image edge1.png"
   ]
  },
  {
   "cell_type": "code",
   "execution_count": null,
   "id": "ecd9d2ad",
   "metadata": {},
   "outputs": [],
   "source": [
    "edge_images = dataset.get_edge_images()\n",
    "fig, ax = plt.subplots(2,2, figsize=(28,20))\n",
    "fig.suptitle(\"Trying Canny Edge Detector for image edge1.png\", fontsize=24)\n",
    "ax[0,0].imshow(feature.canny(edge_images[0], sigma = 1, low_threshold = 0.05, high_threshold = 0.15), cmap='Greys_r')\n",
    "ax[0,1].imshow(feature.canny(edge_images[0], sigma = 2, low_threshold = 0.07, high_threshold = 0.15), cmap='Greys_r')\n",
    "ax[1,0].imshow(feature.canny(edge_images[0], sigma = 2, low_threshold = 0.03, high_threshold = 0.2), cmap='Greys_r')\n",
    "ax[1,1].imshow(feature.canny(edge_images[0], sigma = 3, low_threshold = 0.05, high_threshold = 0.2), cmap='Greys_r')"
   ]
  },
  {
   "cell_type": "markdown",
   "id": "687ef643",
   "metadata": {},
   "source": [
    "#### Parameter optimization for Image edge2.png"
   ]
  },
  {
   "cell_type": "code",
   "execution_count": null,
   "id": "4275b3bd",
   "metadata": {},
   "outputs": [],
   "source": [
    "fig, ax = plt.subplots(2,2, figsize=(20,20))\n",
    "fig.suptitle(\"Trying Canny Edge Detector for image edge2.png\", fontsize=20)\n",
    "ax[0,0].imshow(feature.canny(edge_images[1], sigma = 1, low_threshold = 0.05, high_threshold = 0.15), cmap='Greys_r')\n",
    "ax[0,1].imshow(feature.canny(edge_images[1], sigma = 2, low_threshold = 0.05, high_threshold = 0.09), cmap='Greys_r')\n",
    "ax[1,0].imshow(feature.canny(edge_images[1], sigma = 2, low_threshold = 0.09, high_threshold = 0.15), cmap='Greys_r')\n",
    "ax[1,1].imshow(feature.canny(edge_images[1], sigma = 3, low_threshold = 0.09, high_threshold = 0.11), cmap='Greys_r')"
   ]
  },
  {
   "cell_type": "markdown",
   "id": "fb67dd57",
   "metadata": {},
   "source": [
    "#### Parameter optimization for Image edge3.png"
   ]
  },
  {
   "cell_type": "code",
   "execution_count": null,
   "id": "b6e893a9",
   "metadata": {},
   "outputs": [],
   "source": [
    "fig, ax = plt.subplots(2,2, figsize=(28,20))\n",
    "fig.suptitle(\"Trying Canny Edge Detector for image edge3.png\", fontsize=24)\n",
    "ax[0,0].imshow(feature.canny(edge_images[2], sigma = 2, low_threshold = 0.05, high_threshold = 0.15), cmap='Greys_r')\n",
    "ax[0,1].imshow(feature.canny(edge_images[2], sigma = 3, low_threshold = 0.05, high_threshold = 0.15), cmap='Greys_r')\n",
    "ax[1,0].imshow(feature.canny(edge_images[2], sigma = 3, low_threshold = 0.05, high_threshold = 0.2), cmap='Greys_r')\n",
    "ax[1,1].imshow(feature.canny(edge_images[2], sigma = 4, low_threshold = 0.03, high_threshold = 0.2), cmap='Greys_r')"
   ]
  },
  {
   "cell_type": "markdown",
   "id": "8bda71a4",
   "metadata": {},
   "source": [
    "## Part 2: Edge Linking with Hough Transform\n",
    "In this part of the assignment, the edges in the images will be attempted to be linked with Hough Transform algorithm covered in the lectures. The function ***hough*** expects an image where edge detection is applied and then the algorithm links the edges accordingly. As the direction of line is not significant, using 180 values for theta is sufficient. Due to this fact, the range of thetas is (0,180). As an example for that, a line with theta value 270 and another with 90 will represent the lines only opposite in directions. "
   ]
  },
  {
   "cell_type": "code",
   "execution_count": null,
   "id": "ff35b4f4",
   "metadata": {},
   "outputs": [],
   "source": [
    "## A binary image representing the edges is expected as input for the function\n",
    "import math\n",
    "def perform_hough(image):\n",
    "    # Theta values in range (-90, 90)\n",
    "    theta_values = np.arange(0,180)\n",
    "    image_diagonal = int(np.ceil(np.sqrt(image.shape[0] ** 2 + image.shape[1] ** 2)))\n",
    "    vote_grid = np.zeros((2 * image_diagonal, len(theta_values)))\n",
    "    for x_idx in range(image.shape[0]):\n",
    "        for y_idx in range(image.shape[1]):\n",
    "            for theta in theta_values:\n",
    "                if image[x_idx, y_idx] != 0:\n",
    "                    d = x_idx * math.cos(math.radians(theta)) + y_idx * math.sin(math.radians(theta))\n",
    "                    if d % 1 < 0.5:\n",
    "                        d = int(d)\n",
    "                    else:\n",
    "                        d = int(d) + 1\n",
    "                    vote_grid[int(d) + image_diagonal, theta] += 1\n",
    "    return vote_grid"
   ]
  },
  {
   "cell_type": "markdown",
   "id": "6d4af544",
   "metadata": {},
   "source": [
    "### Finding the best lines with a threshold\n",
    "For finding the best lines, the lines are ordered w.r.t their votes. Then, the lines that has votes greater than or equal to the $i^{th}$ best vote are selected"
   ]
  },
  {
   "cell_type": "code",
   "execution_count": null,
   "id": "94738b5e",
   "metadata": {},
   "outputs": [],
   "source": [
    "def find_best_lines(votes, threshold):\n",
    "    best_lines = []\n",
    "    sorted_votes = np.sort(np.unique(votes))\n",
    "    if threshold > sorted_votes.size:\n",
    "        best_vote = sorted_votes[0]\n",
    "    else:\n",
    "        best_vote = sorted_votes[-threshold]\n",
    "    diagonal = int(votes.shape[0] / 2)\n",
    "    for x_idx in range(votes.shape[0]):\n",
    "        for y_idx in range(votes.shape[1]):\n",
    "            if votes[x_idx, y_idx] >= best_vote:\n",
    "                theta = y_idx\n",
    "                best_lines.append((x_idx - diagonal, theta))\n",
    "    return best_lines"
   ]
  },
  {
   "cell_type": "markdown",
   "id": "4dc84060",
   "metadata": {},
   "source": [
    "### Drawing the results for hough.png\n",
    "As the first step for this part, the hough transform algorithm implemented has been tested with image hough.png. The results are drawn as the result of the next cell."
   ]
  },
  {
   "cell_type": "code",
   "execution_count": null,
   "id": "71eec6b7",
   "metadata": {},
   "outputs": [],
   "source": [
    "def draw_part_1():\n",
    "    hough = dataset.get_hough_images()[0]\n",
    "    edge_hough = feature.canny(hough, sigma = 1)\n",
    "    accumulator = perform_hough(edge_hough)\n",
    "    best_lines = find_best_lines(accumulator, 3)\n",
    "    plt.imshow(hough, cmap = 'Greys_r')\n",
    "    plt.xlim(0, hough.shape[1])\n",
    "    plt.ylim(0, hough.shape[0])\n",
    "    plt.title(\"Hough Transform on hough.png\")\n",
    "    x = np.array(range(hough.shape[0]))\n",
    "    for line_idx in range(len(best_lines)):\n",
    "        theta = math.radians(best_lines[line_idx][1])\n",
    "        if math.sin(theta) != 0: \n",
    "            y = -math.cos(theta) / math.sin(theta) * x + (best_lines[line_idx][0] / math.sin(theta))\n",
    "            plt.plot(y,x)\n",
    "draw_part_1()"
   ]
  },
  {
   "cell_type": "markdown",
   "id": "e20f889b",
   "metadata": {},
   "source": [
    "### Drawing results for hough3.png\n",
    "As the second part of the assignment, the hough space and the resulting lines found for the hough transform are visualized with the corresponding figures. The hough space has been scaled for a clear view. "
   ]
  },
  {
   "cell_type": "code",
   "execution_count": null,
   "id": "e717cd12",
   "metadata": {},
   "outputs": [],
   "source": [
    "def find_lines_part_2_1():\n",
    "    hough_2 = dataset.get_hough_images()[2]\n",
    "    edge_hough = feature.canny(hough_2, sigma = 2)\n",
    "    fig, (ax1, ax2) = plt.subplots(1,2, figsize = (20,10))\n",
    "    fig.suptitle(\"Hough Transform on image hough3.png\", fontsize = 24)\n",
    "    accumulator = perform_hough(edge_hough)\n",
    "    ax1.imshow(accumulator)\n",
    "    ax1.set_aspect(accumulator.shape[1] / accumulator.shape[0])\n",
    "    best_lines = find_best_lines(accumulator, 30)\n",
    "    ax1.set_title('Results of the Hough Transform')\n",
    "    ax1.set_xlabel(\"Theta values\")\n",
    "    ax1.set_ylabel(\"Rho values (+ diagonal length)\")\n",
    "    ax2.set_title(\"hough3.png after hough transform\")\n",
    "    ax2.set_xlim(0, hough_2.shape[1])\n",
    "    ax2.set_ylim(0, hough_2.shape[0])\n",
    "    ax2.imshow(hough_2, cmap = 'Greys_r', extent = [0, hough_2.shape[1], 0, hough_2.shape[0]])\n",
    "    x = np.array(range(hough_2.shape[0]))\n",
    "    for line_idx in range(len(best_lines)):\n",
    "        theta = math.radians(best_lines[line_idx][1])\n",
    "        if best_lines[line_idx][1] != 0:\n",
    "            y = -math.cos(theta) / math.sin(theta) * x + (best_lines[line_idx][0] / math.sin(theta))\n",
    "            ax2.plot(y,x)\n",
    "        else:\n",
    "            y = best_lines[line_idx][0] * np.ones(hough_2.shape[1])\n",
    "            ax2.plot(np.array(range(hough_2.shape[1])),y)\n",
    "find_lines_part_2_1()"
   ]
  },
  {
   "cell_type": "markdown",
   "id": "7f810e4c",
   "metadata": {},
   "source": [
    "### Hough Transform for edge1.png\n",
    "As the final task for the assignment, Hough transform has been applied to the image edge1.png. Here the main task was finding the line on horizon. The corresponding line is shown on the image. The hough space is also shown. The figures are labeled accordingly."
   ]
  },
  {
   "cell_type": "code",
   "execution_count": null,
   "id": "d3e2155b",
   "metadata": {},
   "outputs": [],
   "source": [
    "def find_lines_part_2_2():\n",
    "    edge_1 = dataset.get_edge_images()[0]\n",
    "    edge_1 = np.flipud(edge_1)\n",
    "    edge_img = feature.canny(edge_1, sigma = 2)\n",
    "    fig, (ax1, ax2) = plt.subplots(1,2, figsize = (20,10))\n",
    "    fig.suptitle(\"Hough Transform on image edge1.png\", fontsize = 24)\n",
    "    accumulator = perform_hough(edge_img)\n",
    "    ax1.imshow(accumulator)\n",
    "    ax1.set_aspect(accumulator.shape[1] / accumulator.shape[0])\n",
    "    ax1.set_title('Results of the Hough Transform')\n",
    "    ax1.set_xlabel(\"Theta values\")\n",
    "    ax1.set_ylabel(\"Rho values (+ diagonal length)\")\n",
    "    ax2.set_title(\"edge1.png after hough transform\")\n",
    "    best_lines = find_best_lines(accumulator, 1)\n",
    "    ax2.imshow(edge_1, cmap = 'Greys_r', origin = 'upper')\n",
    "    ax2.set_xlim(0, edge_1.shape[1])\n",
    "    ax2.set_ylim(0, edge_1.shape[0])\n",
    "    x = np.array(range(edge_1.shape[0]))\n",
    "    for line_idx in range(len(best_lines)):\n",
    "        theta = math.radians(best_lines[line_idx][1])\n",
    "        if math.sin(theta) != 0:\n",
    "            y = -math.cos(theta) / math.sin(theta) * x + (best_lines[line_idx][0] / math.sin(theta))\n",
    "            ax2.plot(y,x)\n",
    "        else:\n",
    "            # Simulating infinite slope\n",
    "            y = best_lines[line_idx][0] * np.ones(edge_1.shape[1])\n",
    "            ax2.plot(np.array(range(edge_1.shape[1])),y)\n",
    "find_lines_part_2_2()"
   ]
  }
 ],
 "metadata": {},
 "nbformat": 4,
 "nbformat_minor": 5
}
