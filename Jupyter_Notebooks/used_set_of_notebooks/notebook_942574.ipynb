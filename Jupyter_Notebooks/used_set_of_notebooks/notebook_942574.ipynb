{
 "cells": [
  {
   "cell_type": "markdown",
   "id": "dadb1863",
   "metadata": {},
   "source": [
    "#Gaussian bayes classifier\n",
    "\n",
    "In this assignment we will use a Gaussian bayes classfier to classify our data points."
   ]
  },
  {
   "cell_type": "markdown",
   "id": "50b13458",
   "metadata": {},
   "source": [
    "# Import packages"
   ]
  },
  {
   "cell_type": "code",
   "execution_count": null,
   "id": "31ef7fb3",
   "metadata": {},
   "outputs": [],
   "source": [
    "import numpy as np\n",
    "import pandas as pd\n",
    "import matplotlib.pyplot as plt\n",
    "from scipy.stats import multivariate_normal\n",
    "from sklearn.metrics import classification_report\n",
    "from matplotlib import cm"
   ]
  },
  {
   "cell_type": "markdown",
   "id": "b52aa4ab",
   "metadata": {},
   "source": [
    "# Load training data\n",
    "\n",
    "Our data has 2D feature $x1, x2$. Data from the two classes is are in $\\texttt{class1_train}$ and $\\texttt{class2_train}$ respectively. Each file has two columns corresponding to the 2D feature."
   ]
  },
  {
   "cell_type": "code",
   "execution_count": null,
   "id": "2676cc66",
   "metadata": {},
   "outputs": [],
   "source": [
    "class1_train = pd.read_csv('https://raw.githubusercontent.com/shala2020/shala2020.github.io/master/Lecture_Materials/Assignments/MachineLearning/L3/class1_train').to_numpy()\n",
    "class2_train = pd.read_csv('https://raw.githubusercontent.com/shala2020/shala2020.github.io/master/Lecture_Materials/Assignments/MachineLearning/L3/class2_train').to_numpy()"
   ]
  },
  {
   "cell_type": "code",
   "execution_count": null,
   "id": "0e47dc44",
   "metadata": {},
   "outputs": [],
   "source": [
    "class1_train[:10]"
   ]
  },
  {
   "cell_type": "code",
   "execution_count": null,
   "id": "880fe69b",
   "metadata": {},
   "outputs": [],
   "source": [
    "class1_train.shape"
   ]
  },
  {
   "cell_type": "code",
   "execution_count": null,
   "id": "550706d2",
   "metadata": {},
   "outputs": [],
   "source": [
    "class2_train.shape"
   ]
  },
  {
   "cell_type": "markdown",
   "id": "6c9bf5ab",
   "metadata": {},
   "source": [
    "# Visualize training data\n",
    "Generate 2D scatter plot of the training data. Plot the points from class 1 in red and the points from class 2 in blue."
   ]
  },
  {
   "cell_type": "code",
   "execution_count": null,
   "id": "8df59849",
   "metadata": {},
   "outputs": [],
   "source": [
    "import seaborn as sns\n",
    "classes = ['class-1','class-2']\n",
    "\n",
    "for i in range(class1_train.shape[0]):\n",
    "    \n",
    "    plt.scatter(class1_train[i][0],class1_train[i][1] ,c=\"red\",alpha=0.6, edgecolors='none')\n",
    "\n",
    "    # plt.legend(loc='best', fontsize=16)\n",
    "    plt.xlabel('Growth %')\n",
    "    plt.ylabel('Population')\n",
    "\n",
    "for j in range(class2_train.shape[0]):\n",
    "    plt.scatter(class1_train[j][0],class1_train[j][1] ,c=\"blue\")\n"
   ]
  },
  {
   "cell_type": "markdown",
   "id": "38964978",
   "metadata": {},
   "source": [
    "# Maximum likelihood estimate of parameters\n",
    "\n",
    "We will model the likelihood, $P(\\mathbf{x}|C_1)$ and $P(\\mathbf{x}|C_2)$ as $\\mathcal{N}(\\mathbf{\\mu_1},\\Sigma_1)$ and $\\mathcal{N}(\\mathbf{\\mu_2},\\Sigma_2)$ respectively. The prior probability of the classes are called, $P(C_1)=\\pi_1$ and $P(C_2)=\\pi_2$.\n",
    "\n",
    "The maximum likelihood estimate of the parameters as follows:\n",
    "\\begin{align*}\n",
    "\\pi_k &= \\frac{\\sum_{i=1}^N \\mathbb{1}(t^i=k)}{N}\\\\\n",
    "\\mathbf{\\mu_k} &= \\frac{\\sum_{i=1}^N \\mathbb{1}(t^i=k)\\mathbf{x}^i}{\\sum_{i=1}^N \\mathbb{1}(t^i=k)}\\\\\n",
    "\\Sigma_k &= \\frac{\\sum_{i=1}^N \\mathbb{1}(t^i=k)(\\mathbf{x}^i-\\mathbf{\\mu_k})(\\mathbf{x}^i-\\mathbf{\\mu_k})^T}{\\sum_{i=1}^N \\mathbb{1}(t^i=k)}\\\\\n",
    "\\end{align*}\n",
    "\n",
    "Here, $t^i$ is the target or class of $i^{th}$ sample. $\\mathbb{1}(t^i=k)$ is 1 if $t^i=k$ and 0 otherwise.\n",
    "\n",
    "Compute maximum likelihood values estimates of $\\pi_1$, $\\mu_1$, $\\Sigma_1$ and $\\pi_2$, $\\mu_2$, $\\Sigma_2$ \n",
    "\n",
    "Also print these values\n"
   ]
  },
  {
   "cell_type": "markdown",
   "id": "8564a8f3",
   "metadata": {},
   "source": [
    "$pi$ = `Prior` <br/>\n",
    "$mu$ and $sigma$ = `Likelihood` \n"
   ]
  },
  {
   "cell_type": "code",
   "execution_count": null,
   "id": "358dadc1",
   "metadata": {},
   "outputs": [],
   "source": [
    "def calculate_pi_1():\n",
    "  num = class1_train.shape[0]\n",
    "  deno = class1_train.shape[0] + class2_train.shape[0]\n",
    "  return num/deno\n",
    "\n",
    "def calculate_pi_2():\n",
    "  num = class2_train.shape[0]\n",
    "  deno = class1_train.shape[0] + class2_train.shape[0]\n",
    "  return num/deno\n",
    "\n",
    "def calculate_mu_1():\n",
    "  return class1_train.mean(axis=0)\n",
    "\n",
    "def calculate_mu_2():\n",
    "  return class2_train.mean(axis=0)\n",
    "\n",
    "def calculate_cov_1():\n",
    "  x = class1_train\n",
    "  print(x.shape)\n",
    "  mu = x.mean(axis=0) \n",
    "  x_norm = x-mu\n",
    "  x_transpose = x_norm.transpose()\n",
    "  return np.cov(x_transpose)\n",
    "\n",
    "def calculate_cov_2():\n",
    "  x = class2_train\n",
    "  print(x.shape)\n",
    "  mu = x.mean(axis=0)\n",
    "  x_norm = x-mu\n",
    "  x_transpose = x_norm.transpose()\n",
    "  return np.cov(x_transpose)\n",
    "\n",
    "\n",
    "print( 'pi_1 : {} and pi_2 : {}'.format(calculate_pi_1(),calculate_pi_2()))\n",
    "print( 'mu_1 : {} and mu_2 : {}'.format(calculate_mu_1(),calculate_mu_2()))\n",
    "print( 'sigma_1 : \\n{} \\n sigma_2 : \\n{}'.format(calculate_cov_1(),calculate_cov_2()))"
   ]
  },
  {
   "cell_type": "code",
   "execution_count": null,
   "id": "fc8ab451",
   "metadata": {},
   "outputs": [],
   "source": [
    "## Another way to get Pi , mu and sigma\n",
    "\n",
    "pi1 = len(class1_train)/(len(class1_train)+len(class2_train))\n",
    "pi2 = len(class2_train)/(len(class1_train)+len(class2_train))\n",
    "mu1 = class1_train.mean(axis=0)\n",
    "mu2 = class2_train.mean(axis=0)\n",
    "sig1 = np.cov(class1_train,rowvar=False)\n",
    "sig2 = np.cov(class2_train,rowvar=False)\n",
    "\n",
    "print(\"Pi-1 {} and Pi-2 {}\".format(pi1,pi2))\n",
    "print(\"mu-1 {} and mu-2 {}\".format(mu1,mu2))\n",
    "print(\"sig-1 {} and sig-2 {}\".format(sig1,sig2))\n"
   ]
  },
  {
   "cell_type": "markdown",
   "id": "f676a6ce",
   "metadata": {},
   "source": [
    "# Visualize the likelihood\n",
    "Now that you have the parameters, let us visualize how the likelihood looks like.\n",
    "\n",
    "1. Use $\\texttt{np.mgrid}$ to generate points uniformly spaced in -5 to 5 along 2 axes\n",
    "1. Use $\\texttt{multivariate_normal.pdf}$ to get compute the Gaussian likelihood for each class  \n",
    "1. Use $\\texttt{plot_surface}$ to plot the likelihood of each class.\n",
    "1. Use $\\texttt{contourf}$ to plot the likelihood of each class. \n",
    "\n",
    "You may find the code in the lecture notebook helpful.\n",
    " \n",
    "For the plots, use $\\texttt{cmap=cm.Reds}$ for class 1 and $\\texttt{cmap=cm.Blues}$ for class 2. Use $\\texttt{alpha=0.5}$ to overlay both plots together."
   ]
  },
  {
   "cell_type": "code",
   "execution_count": null,
   "id": "86366af7",
   "metadata": {},
   "outputs": [],
   "source": [
    "from matplotlib import cm\n",
    "\n",
    "x,y = np.mgrid[-5:5:.01, -5:5:.01]\n",
    "pos = np.empty(x.shape + (2,))\n",
    "pos[:, :, 0] = x; pos[:, :, 1] = y\n",
    "\n",
    "mu1 = calculate_mu_1()\n",
    "mu2 = calculate_mu_2()\n",
    "cov1 = calculate_cov_1()\n",
    "cov2 = calculate_cov_2()\n",
    "rv1 = multivariate_normal(mean = mu1, cov = cov1)\n",
    "rv2 = multivariate_normal(mean = mu2, cov = cov2)\n",
    "\n",
    "fig = plt.figure(figsize=(20,10))\n",
    "ax = fig.add_subplot(121, projection='3d')\n",
    "plt.xlabel('x')\n",
    "plt.ylabel('y')\n",
    "ax.plot_surface(x,y,rv1.pdf(pos), cmap=cm.Reds,alpha=0.5)\n",
    "ax.plot_surface(x,y,rv2.pdf(pos), cmap=cm.Blues,alpha=0.5)\n",
    "\n",
    "plt.subplot(122)\n",
    "plt.contourf(x, y, rv1.pdf(pos), cmap=cm.Reds,alpha=0.5)\n",
    "plt.contourf(x, y, rv2.pdf(pos), cmap=cm.Blues,alpha=0.5)\n",
    "\n",
    "plt.colorbar()\n",
    "plt.xlabel('x')\n",
    "plt.ylabel('y')"
   ]
  },
  {
   "cell_type": "markdown",
   "id": "984ce71f",
   "metadata": {},
   "source": [
    "#Visualize the posterior\n",
    "Use the prior and the likelihood you've computed to obtain the posterior distribution for each class.\n",
    "\n",
    "Like in the case of the likelihood above, make same similar surface and contour plots for the posterior."
   ]
  },
  {
   "cell_type": "code",
   "execution_count": null,
   "id": "bbefeb76",
   "metadata": {},
   "outputs": [],
   "source": [
    "likelihood1 = rv1.pdf(pos)\n",
    "likelihood2 = rv2.pdf(pos)\n",
    "\n",
    "p1 = (likelihood1 * pi1)/(likelihood1*pi1+likelihood2*pi2)\n",
    "p2 = (likelihood2 * pi2)/(likelihood1*pi1+likelihood2*pi2)\n",
    "\n",
    "x, y = np.mgrid[-5:5:.01, -5:5:.01]\n",
    "pos = np.empty(x.shape + (2,))\n",
    "pos[:, :, 0] = x; pos[:, :, 1] = y\n",
    "fig = plt.figure(figsize=(20,10))\n",
    "ax = fig.add_subplot(131, projection='3d')\n",
    "plt.xlabel('x')\n",
    "plt.ylabel('y')\n",
    "ax.plot_surface(x,y,p1, cmap=cm.Reds,alpha=0.5)\n",
    "ax.plot_surface(x,y,p2, cmap=cm.Blues,alpha=0.5)\n",
    "plt.subplot(132)\n",
    "plt.contourf(x,y,p1,cmap=cm.Reds,alpha=0.5)\n",
    "plt.contourf(x,y,p2,cmap=cm.Blues,alpha=0.5)\n",
    "plt.xlabel('x')\n",
    "plt.ylabel('y')"
   ]
  },
  {
   "cell_type": "markdown",
   "id": "13efd5c2",
   "metadata": {},
   "source": [
    "# Decision boundary\n",
    "1. Decision boundary can be obtained by $P(C_2|x)>P(C_1|x)$ in python. Use $\\texttt{contourf}$ to plot the decision boundary. Use $\\texttt{cmap=cm.Blues}$ and $\\texttt{alpha=0.5}$\n",
    "1. Also overlay the scatter plot of train data points from the 2 classes on the same plot. Use red color for class 1 and blue color for class 2 "
   ]
  },
  {
   "cell_type": "code",
   "execution_count": null,
   "id": "15db6321",
   "metadata": {},
   "outputs": [],
   "source": [
    "des = p2>p1\n",
    "plt.contourf(x,y,p1,cmap=cm.Reds,alpha=0.5)\n",
    "plt.contourf(x,y,p2,cmap=cm.Blues,alpha=0.5)\n",
    "plt.contourf(x,y,des,cmap=cm.Greens,alpha=0.3)\n",
    "plt.xlabel('x')\n",
    "plt.ylabel('y')\n",
    "plt.scatter(class1_train[:,0],class1_train[:,1],marker='*',color='red')\n",
    "plt.scatter(class2_train[:,0],class2_train[:,1],marker='+',color='blue')"
   ]
  },
  {
   "cell_type": "markdown",
   "id": "a9c35f42",
   "metadata": {},
   "source": [
    "# Test Data\n",
    "Now let's use our trained model to classify test data points\n",
    "\n",
    "1. $\\texttt{test_data}$ contains the $x1,x2$ features of different data points\n",
    "1. $\\texttt{test_label}$ contains the true class of the data points. 0 means class 1. 1 means class 2.  \n",
    "1. Classify the test points based on whichever class has higher posterior probability for each data point\n",
    "1. Use $\\texttt{classification_report}$ to test the classification performance"
   ]
  },
  {
   "cell_type": "code",
   "execution_count": null,
   "id": "c803bd7f",
   "metadata": {},
   "outputs": [],
   "source": [
    "test = pd.read_csv('https://raw.githubusercontent.com/shala2020/shala2020.github.io/master/Lecture_Materials/Assignments/MachineLearning/L3/test').to_numpy()\n",
    "test_data, test_label = test[:,:2], test[:,2]\n",
    "\n",
    "test_data\n"
   ]
  },
  {
   "cell_type": "code",
   "execution_count": null,
   "id": "795a12e4",
   "metadata": {},
   "outputs": [],
   "source": [
    "## likelihood \n",
    "l1 = rv1.pdf(test_data)\n",
    "l2 = rv2.pdf(test_data)"
   ]
  },
  {
   "cell_type": "code",
   "execution_count": null,
   "id": "196a79f1",
   "metadata": {},
   "outputs": [],
   "source": [
    "##Posterior \n",
    "p1_test= (l1*pi1)/(l1*pi1+l2*pi2)\n",
    "p2_test= (l2*pi2)/(l1*pi1+l2*pi2)"
   ]
  },
  {
   "cell_type": "code",
   "execution_count": null,
   "id": "301f4240",
   "metadata": {},
   "outputs": [],
   "source": [
    "## Descision bundory \n",
    "test_data_predict=p2_test>p1_test\n",
    "test_data_predict"
   ]
  },
  {
   "cell_type": "code",
   "execution_count": null,
   "id": "da5b1101",
   "metadata": {},
   "outputs": [],
   "source": [
    "test_data_predict = np.where(test_data_predict==True,1,0)\n",
    "test_data_predict"
   ]
  },
  {
   "cell_type": "code",
   "execution_count": null,
   "id": "0919861d",
   "metadata": {},
   "outputs": [],
   "source": [
    "from sklearn.metrics import classification_report,accuracy_score"
   ]
  },
  {
   "cell_type": "code",
   "execution_count": null,
   "id": "deb5a040",
   "metadata": {},
   "outputs": [],
   "source": [
    "print(accuracy_score(test_label,test_data_predict))"
   ]
  },
  {
   "cell_type": "code",
   "execution_count": null,
   "id": "a4bcd45b",
   "metadata": {},
   "outputs": [],
   "source": [
    "print(classification_report(test_label,test_data_predict))"
   ]
  }
 ],
 "metadata": {},
 "nbformat": 4,
 "nbformat_minor": 5
}
