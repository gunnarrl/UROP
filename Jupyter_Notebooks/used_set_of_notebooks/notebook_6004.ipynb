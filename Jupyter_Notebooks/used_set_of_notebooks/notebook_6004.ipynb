{
 "cells": [
  {
   "cell_type": "markdown",
   "id": "b63af09f",
   "metadata": {},
   "source": [
    "# Funções e métodos - Trabalho de casa\n",
    "\n",
    "Responda as seguintes perguntas:\n",
    "____\n",
    "**Escreva uma função que calcula o volume de uma esfera dado seu raio.**"
   ]
  },
  {
   "cell_type": "code",
   "execution_count": null,
   "id": "ef9a65c0",
   "metadata": {},
   "outputs": [],
   "source": [
    "def vol(rad):\n",
    "    pass"
   ]
  },
  {
   "cell_type": "markdown",
   "id": "7094f32a",
   "metadata": {},
   "source": [
    "**Escreva uma função que verifica se um número está em um determinado intervalo (inclusive o máximo e mínimo)**"
   ]
  },
  {
   "cell_type": "code",
   "execution_count": null,
   "id": "b17e8dec",
   "metadata": {},
   "outputs": [],
   "source": [
    "def ran_check(num,low,high):\n",
    "    pass"
   ]
  },
  {
   "cell_type": "markdown",
   "id": "d64098be",
   "metadata": {},
   "source": [
    "Se você quisesse apenas retornar um booleano:"
   ]
  },
  {
   "cell_type": "code",
   "execution_count": null,
   "id": "beb9a34f",
   "metadata": {},
   "outputs": [],
   "source": [
    "def ran_bool(num,low,high):\n",
    "    pass"
   ]
  },
  {
   "cell_type": "code",
   "execution_count": null,
   "id": "9a3d7868",
   "metadata": {},
   "outputs": [],
   "source": [
    "ran_bool(3,1,10)"
   ]
  },
  {
   "cell_type": "markdown",
   "id": "51bf1872",
   "metadata": {},
   "source": [
    "** Escreva uma função Python que aceita uma string e calcule o número de maiúsculas e minúsculas. **\n",
    "\n",
    "     Exemplo de Cadeia: 'Olá Sr. Rogers, como você está bem, terça-feira?'\n",
    "     Saída esperada:\n",
    "     Número de caracteres maiúsculas: 4\n",
    "     Número de caracteres minúsculos: 33\n",
    "\n",
    "Se você se sentir ambicioso, explore o módulo de Coleções para resolver esse problema!"
   ]
  },
  {
   "cell_type": "code",
   "execution_count": null,
   "id": "954e6fc8",
   "metadata": {},
   "outputs": [],
   "source": [
    "def up_low(s):\n",
    "    pass"
   ]
  },
  {
   "cell_type": "markdown",
   "id": "bc44fe36",
   "metadata": {},
   "source": [
    "** Escreva uma função Python que recebe uma lista e retorna uma nova lista com elementos exclusivos da primeira lista. **\n",
    "\n",
    "     Lista de Amostras: [1,1,1,1,2,2,3,3,3,3,4,5]\n",
    "     Lista única: [1, 2, 3, 4, 5]"
   ]
  },
  {
   "cell_type": "code",
   "execution_count": null,
   "id": "fadcb637",
   "metadata": {},
   "outputs": [],
   "source": [
    "def unique_list(l):\n",
    "    pass"
   ]
  },
  {
   "cell_type": "code",
   "execution_count": null,
   "id": "a253ff57",
   "metadata": {},
   "outputs": [],
   "source": [
    "unique_list([1,1,1,1,2,2,3,3,3,3,4,5])"
   ]
  },
  {
   "cell_type": "markdown",
   "id": "86ef9cfe",
   "metadata": {},
   "source": [
    "** Escreva uma função Python para multiplicar todos os números em uma lista. **\n",
    "\n",
    "     Lista de exemplos: [1, 2, 3, -4]\n",
    "     Saída esperada: -24"
   ]
  },
  {
   "cell_type": "code",
   "execution_count": null,
   "id": "64a62f57",
   "metadata": {},
   "outputs": [],
   "source": [
    "def multiply(numbers):  \n",
    "    pass"
   ]
  },
  {
   "cell_type": "code",
   "execution_count": null,
   "id": "fe0f8ab7",
   "metadata": {},
   "outputs": [],
   "source": [
    "multiply([1,2,3,-4])"
   ]
  },
  {
   "cell_type": "markdown",
   "id": "d0e9ee74",
   "metadata": {},
   "source": [
    "** Escreva uma função Python que verifica se uma string passada é palindrome ou não. **\n",
    "\n",
    "Nota: Um palíndromo é palavra, frase ou seqüência que lê o mesmo para trás."
   ]
  },
  {
   "cell_type": "code",
   "execution_count": null,
   "id": "9d1ce412",
   "metadata": {},
   "outputs": [],
   "source": [
    "def palindrome(s):\n",
    "    pass"
   ]
  },
  {
   "cell_type": "code",
   "execution_count": null,
   "id": "804945b2",
   "metadata": {},
   "outputs": [],
   "source": [
    "palindrome('helleh')"
   ]
  },
  {
   "cell_type": "markdown",
   "id": "dc39e097",
   "metadata": {},
   "source": [
    "**Difícil**:\n",
    "\n",
    "Escreva uma função Python para verificar se uma string é um pangrama ou não.\n",
    "\n",
    "     Nota: Pangramas são palavras ou frases contendo cada letra do alfabeto pelo menos uma vez.\n",
    "\n",
    "Dica: veja o módulo de strings"
   ]
  },
  {
   "cell_type": "code",
   "execution_count": null,
   "id": "e8cd331b",
   "metadata": {},
   "outputs": [],
   "source": [
    "import string\n",
    "\n",
    "def ispangram(str1, alphabet=string.ascii_lowercase):  \n",
    "    pass"
   ]
  },
  {
   "cell_type": "code",
   "execution_count": null,
   "id": "e5f3f98b",
   "metadata": {},
   "outputs": [],
   "source": [
    "ispangram(\"The quick brown fox jumps over the lazy dog\")"
   ]
  },
  {
   "cell_type": "code",
   "execution_count": null,
   "id": "eccb48b7",
   "metadata": {},
   "outputs": [],
   "source": [
    "string.ascii_lowercase"
   ]
  }
 ],
 "metadata": {},
 "nbformat": 4,
 "nbformat_minor": 5
}
