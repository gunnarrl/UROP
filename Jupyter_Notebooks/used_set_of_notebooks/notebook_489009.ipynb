{
 "cells": [
  {
   "cell_type": "markdown",
   "id": "ca5dd821",
   "metadata": {},
   "source": [
    "# Simple forecast of a crypto currency\n",
    "\n",
    "This notebook tries to use simple forecast methods and calculate their error.\n",
    "\n",
    "The time series is only predicted one step into the future.\n",
    "This is done for all possible past time series and the error over the prediction is calculated.\n",
    "\n",
    "Therefore, no test data is needed. For any given time in the series, the prediction is a function of some or all past values in the series:\n",
    "\n",
    "$$t_n = f(t_{n-1}, t_{n-2}, ..., t_0)$$"
   ]
  },
  {
   "cell_type": "code",
   "execution_count": null,
   "id": "0b87888b",
   "metadata": {},
   "outputs": [],
   "source": [
    "import matplotlib\n",
    "import matplotlib.pyplot as plt\n",
    "%matplotlib inline\n",
    "\n",
    "import numpy as np\n",
    "import pandas as pd\n",
    "\n",
    "import plotly.offline as py\n",
    "import plotly.graph_objs as go\n",
    "import plotly.figure_factory as ff\n",
    "py.init_notebook_mode(connected=True)\n",
    "\n",
    "from sklearn.metrics import mean_squared_error\n",
    "import math\n",
    "\n",
    "from sklearn.linear_model import LinearRegression"
   ]
  },
  {
   "cell_type": "code",
   "execution_count": null,
   "id": "d61f25b9",
   "metadata": {},
   "outputs": [],
   "source": [
    "# suppress warnings\n",
    "import warnings\n",
    "warnings.simplefilter(action='ignore', category=FutureWarning)"
   ]
  },
  {
   "cell_type": "markdown",
   "id": "f2ccb997",
   "metadata": {},
   "source": [
    "## Import code from *data preprocessing* notebook"
   ]
  },
  {
   "cell_type": "code",
   "execution_count": null,
   "id": "d4f7a384",
   "metadata": {},
   "outputs": [],
   "source": [
    "import ipynb.fs  # Boilerplate required\n",
    "# only import definitions\n",
    "from .defs.data_preprocessing import loadCoinMarketCap"
   ]
  },
  {
   "cell_type": "code",
   "execution_count": null,
   "id": "91784178",
   "metadata": {},
   "outputs": [],
   "source": [
    "matplotlib.rcParams['figure.figsize'] = 15,6"
   ]
  },
  {
   "cell_type": "markdown",
   "id": "bb0c6344",
   "metadata": {},
   "source": [
    "## Load historical data into a dataframe"
   ]
  },
  {
   "cell_type": "code",
   "execution_count": null,
   "id": "e76b6293",
   "metadata": {},
   "outputs": [],
   "source": [
    "df = loadCoinMarketCap(\n",
    "    # only consider coins having at least half a year of samples\n",
    "    minSamples   = 180,\n",
    "    minMarketCap = 1*1000*1000*1000, # 1 billion\n",
    "    minVolume    = 1*1000*1000*1000, # 1 billion\n",
    ")\n",
    "# some constants\n",
    "COL_VOLUME = \"volume\"\n",
    "COL_MARKET = \"marketcap\"\n",
    "COL_NAME   = \"name\"\n",
    "COL_OPEN   = \"open\"\n",
    "COL_CLOSE  = \"close\"\n",
    "COL_HIGH   = \"high\"\n",
    "COL_LOW    = \"low\"\n",
    "print(df.head())\n",
    "print(\"Currencies: {}\".format(\", \".join(df[COL_NAME].unique())))"
   ]
  },
  {
   "cell_type": "markdown",
   "id": "aa51f8f1",
   "metadata": {},
   "source": [
    "## Select a currency to work on"
   ]
  },
  {
   "cell_type": "code",
   "execution_count": null,
   "id": "e3b82653",
   "metadata": {},
   "outputs": [],
   "source": [
    "currency = \"BTC\"\n",
    "lookAhead = 1  # step to predict into future\n",
    "lookBack = 30  # steps to look back (if needed)\n",
    "n_test = 30    # use to compare to machine learning"
   ]
  },
  {
   "cell_type": "code",
   "execution_count": null,
   "id": "e9ec5cd8",
   "metadata": {},
   "outputs": [],
   "source": [
    "dfCoin = df.loc[df[COL_NAME] == currency]\n",
    "# only keep close column\n",
    "sCoin = dfCoin[COL_CLOSE]\n",
    "sCoin.name = currency\n",
    "sCoin.plot()\n",
    "print(sCoin.describe())\n",
    "pass"
   ]
  },
  {
   "cell_type": "markdown",
   "id": "42b772f6",
   "metadata": {},
   "source": [
    "## Forecast time serie\n",
    "\n",
    "We predict the whole serie. But for evaluation and comparision with the machine learning part, we focus only on the last **n_test** samples/predictions to calculate the error."
   ]
  },
  {
   "cell_type": "code",
   "execution_count": null,
   "id": "76ef3856",
   "metadata": {},
   "outputs": [],
   "source": [
    "def plotFc(title, series, pred):\n",
    "    plt.plot(series[-3*n_test:], label=\"series\", color=\"blue\")\n",
    "    rmse = math.sqrt(mean_squared_error(sCoin[-n_test:], pred[-n_test:]))\n",
    "    plt.plot(pred[-n_test:], label=\"forecast\", color=\"red\")\n",
    "    plt.title(\"{} (RMSE: {:0.2f})\".format(title, rmse))\n",
    "    plt.show()"
   ]
  },
  {
   "cell_type": "markdown",
   "id": "4e385765",
   "metadata": {},
   "source": [
    "### Using latest sample\n",
    "\n",
    "Predict the next sample based on the latest sample.\n",
    "\n",
    "$$ t_{n+1} = t_{n} $$"
   ]
  },
  {
   "cell_type": "code",
   "execution_count": null,
   "id": "4ff77f12",
   "metadata": {},
   "outputs": [],
   "source": [
    "# shift the time sereis look ahead steps into future\n",
    "yHatLS = sCoin.shift(lookAhead)\n",
    "# ignore the first value\n",
    "plotFc(\"Latest sample\", sCoin[1:], yHatLS[1:])"
   ]
  },
  {
   "cell_type": "markdown",
   "id": "ce37fc9d",
   "metadata": {},
   "source": [
    "### Using average up to latest sample\n",
    "\n",
    "Use the mean/average of all known samples up to *n*.\n",
    "\n",
    "$$ t_{n+1} = \\frac{1}{n} \\sum_{k=1}^{n} t_k$$"
   ]
  },
  {
   "cell_type": "code",
   "execution_count": null,
   "id": "b1d92e88",
   "metadata": {},
   "outputs": [],
   "source": [
    "yHatAv = []\n",
    "for k in range(len(sCoin) - lookAhead):\n",
    "    mean = sCoin[:k+lookAhead].mean()\n",
    "    yHatAv.append(mean)\n",
    "yHatAv = pd.Series(yHatAv, index=sCoin.index[lookAhead:])\n",
    "# ignore the first value\n",
    "plotFc(\"Latest average\", sCoin[lookAhead:], yHatAv)"
   ]
  },
  {
   "cell_type": "markdown",
   "id": "f674dd51",
   "metadata": {},
   "source": [
    "### Simple moving average over latest samples\n",
    "\n",
    "Use the mean/average over the latest *m* samples for any *n*.\n",
    "\n",
    "$$ t_{n+1} = \\frac{1}{m} \\sum_{k=n-m}^{n} t_k,\n",
    "m = lookBack $$"
   ]
  },
  {
   "cell_type": "code",
   "execution_count": null,
   "id": "806de463",
   "metadata": {},
   "outputs": [],
   "source": [
    "yHatRAv = []\n",
    "for k in range(lookBack, len(sCoin) - lookAhead):\n",
    "    mean = sCoin[k-lookBack:k+lookAhead].mean()\n",
    "    yHatRAv.append(mean)\n",
    "yHatRAv = pd.Series(yHatRAv, index=sCoin.index[lookBack+lookAhead:])\n",
    "# ignore the first value\n",
    "plotFc(\"Moving average\", sCoin[lookBack+lookAhead:], yHatRAv)"
   ]
  },
  {
   "cell_type": "markdown",
   "id": "404f663b",
   "metadata": {},
   "source": [
    "### Exponential weighted moving average\n"
   ]
  },
  {
   "cell_type": "code",
   "execution_count": null,
   "id": "c13f047b",
   "metadata": {},
   "outputs": [],
   "source": [
    "alpha = 0.5\n",
    "# yHat = []\n",
    "# for k in range(len(sCoin) - lookAhead):\n",
    "#     mean = sCoin[:k+lookAhead].ewm(alpha=alpha).mean()\n",
    "#     yHat.append(mean)\n",
    "yHatEWM = sCoin[:-lookAhead].ewm(alpha=alpha).mean()\n",
    "yHatEWM = pd.Series(yHatEWM.values, index=sCoin.index[lookAhead:])\n",
    "# ignore the first value\n",
    "plotFc(\"EWM average\", sCoin[lookAhead:], yHatEWM)"
   ]
  },
  {
   "cell_type": "markdown",
   "id": "593e0a92",
   "metadata": {},
   "source": [
    "### Auto Regressive model\n",
    "\n",
    "Use an auto regressive model to predict next sample."
   ]
  },
  {
   "cell_type": "code",
   "execution_count": null,
   "id": "e472307a",
   "metadata": {},
   "outputs": [],
   "source": [
    "from statsmodels.tsa.ar_model import AR\n",
    "yHat = []\n",
    "maxLag = lookBack\n",
    "for k in range(maxLag, len(sCoin) - lookAhead):\n",
    "    subSeries = sCoin[k-maxLag:k+lookAhead]\n",
    "    lenSubSeries = len(subSeries)\n",
    "    model = AR(subSeries)\n",
    "    modelFit = model.fit(maxLag=maxLag)\n",
    "    y = modelFit.predict(start=lenSubSeries,\n",
    "                         end=lenSubSeries+1,\n",
    "                         dynamic=False)\n",
    "    yHat.append(y.values[0])\n",
    "yHat = pd.Series(yHat, index=sCoin.index[maxLag+lookAhead:])\n",
    "\n",
    "# ignore the first value\n",
    "plotFc(\"Auto Regressive\", sCoin[maxLag+lookAhead:], yHat)"
   ]
  },
  {
   "cell_type": "code",
   "execution_count": null,
   "id": "0191ecd2",
   "metadata": {},
   "outputs": [],
   "source": [
    "# view all forecasts over all data\n",
    "plt.figure()\n",
    "plt.plot(sCoin, label=\"Original Data\")\n",
    "plt.plot(yHatLS, label=\"Latest sample\")\n",
    "plt.plot(yHatAv, label=\"Latest Average\")\n",
    "plt.plot(yHatRAv, label=\"Rolling Average\")\n",
    "plt.plot(yHatEWM, label=\"Exp. Weighted Moving Average\")\n",
    "plt.legend(loc=\"best\")\n",
    "plt.title(\"Visualize Forcasts\")\n",
    "plt.show()"
   ]
  },
  {
   "cell_type": "code",
   "execution_count": null,
   "id": "ebe25c60",
   "metadata": {},
   "outputs": [],
   "source": [
    "# prepare the best model to compete against ml forecasts\n",
    "plt.plot(sCoin[-3*n_test:], label=\"series\", color=\"blue\")\n",
    "def plotYHat(yHat, label):\n",
    "    rmse = math.sqrt(mean_squared_error(sCoin[-n_test:], yHat[-n_test:]))\n",
    "    plt.plot(yHat[-n_test:], label=\"{} ({:0.2f})\".format(label, rmse))\n",
    "plotYHat(yHatLS, \"Latest Sample\")\n",
    "plotYHat(yHatAv, \"Average\")\n",
    "plotYHat(yHatRAv, \"Rolling Average\")\n",
    "plotYHat(yHatEWM, \"Exp. Weighted. Moving Average\")\n",
    "plt.legend(loc=\"best\")\n",
    "plt.title(\"Visualize latest 30 days\")\n",
    "pass"
   ]
  }
 ],
 "metadata": {},
 "nbformat": 4,
 "nbformat_minor": 5
}
