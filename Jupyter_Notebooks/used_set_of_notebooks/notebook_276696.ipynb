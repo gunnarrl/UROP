{
 "cells": [
  {
   "cell_type": "markdown",
   "id": "de701d3e",
   "metadata": {},
   "source": [
    "# Ejercicio 3\n",
    "Intente resolver el problema de las N-Reinas usando Hill Climbing y un Algoritmo Evolutivo.\n",
    "\n",
    "a) Proponga una representación adecuada para las soluciones.\n",
    "\n",
    "b) Proponga una función de evaluación que le permita cali car que tan buena es una solución.\n",
    "\n",
    "c) De na de que manera se obtendrán las soluciones vecinas para Hill Climbing y que operadores van a usarse con el Algoritmo Evolutivo.\n",
    "\n",
    "d) Implemente y pruebe lo de nido en los puntos anteriores para el caso donde N=16. Evalúe los resultados obtenidos. Detalle todos los parámetros usados. Justifique."
   ]
  },
  {
   "cell_type": "code",
   "execution_count": null,
   "id": "8b77e1f0",
   "metadata": {},
   "outputs": [],
   "source": [
    "import numpy as np\n",
    "import matplotlib.pyplot as plt\n",
    "from matplotlib import pylab\n",
    "import mpld3\n",
    "\n",
    "%matplotlib inline\n",
    "mpld3.enable_notebook()\n",
    "\n",
    "from busqueda_local import hill_climb\n",
    "from deap import base, creator, tools, algorithms"
   ]
  },
  {
   "cell_type": "code",
   "execution_count": null,
   "id": "3b0d0a44",
   "metadata": {},
   "outputs": [],
   "source": [
    "# -*- coding: utf-8 -*-\n",
    "\"\"\"\n",
    "Ejercicio 3: N-reinas\n",
    "\"\"\"\n",
    "\n",
    "QUEENS = 16\n",
    "\n",
    "def amenaza(fila_1, col_1, fila_2, col_2):\n",
    "    \"Determina a partir de sus posiciones si dos reinas se están amenazando.\"\n",
    "    return ( (fila_1 == fila_2) or (col_1 == col_2) or\n",
    "             (abs(fila_1 - fila_2) == abs(col_1 - col_2)) )\n",
    "\n",
    "\"\"\"\n",
    "Para la cantidad máxima de amenazas, si la reina A amenaza a la reina B, la\n",
    "reina B también amenaza a la reina A pero sólo se contabiliza como una amenaza.\n",
    "\"\"\"\n",
    "MAX_AMENAZAS = (QUEENS * (QUEENS-1)) / 2\n"
   ]
  },
  {
   "cell_type": "markdown",
   "id": "97eedcd0",
   "metadata": {},
   "source": [
    "# Hill Climbing\n",
    "## Evaluacion"
   ]
  },
  {
   "cell_type": "code",
   "execution_count": null,
   "id": "3d94232b",
   "metadata": {},
   "outputs": [],
   "source": [
    "def evaluacion(x):\n",
    "    t=0\n",
    "    for i in range(0,x.size-1):\n",
    "        for j in range(i+1,x.size):\n",
    "            if amenaza(i,x[i],j,x[j]):\n",
    "                t+=1\n",
    "    return -t"
   ]
  },
  {
   "cell_type": "markdown",
   "id": "f07e6d26",
   "metadata": {},
   "source": [
    "## Vecinos"
   ]
  },
  {
   "cell_type": "code",
   "execution_count": null,
   "id": "59bb5d4e",
   "metadata": {},
   "outputs": [],
   "source": [
    "def invertirPos(x,pos1,pos2):\n",
    "    aaa=x[pos1]\n",
    "    x[pos1]=x[pos2]\n",
    "    x[pos2]=aaa\n",
    "    return x\n",
    "\n",
    "def vecinos(x):\n",
    "    v = []\n",
    "    pos=np.random.randint(0,x.size,3)\n",
    "    while pos[0]==pos[1] & pos[1]==pos[2]:\n",
    "        pos=np.random.randint(0,x.size,3)\n",
    "    v.append(invertirPos(x,pos[0],pos[1]))\n",
    "    v.append(invertirPos(x,pos[0],pos[2]))\n",
    "    v.append(invertirPos(x,pos[1],pos[2]))\n",
    "    return v"
   ]
  },
  {
   "cell_type": "markdown",
   "id": "476c5bfc",
   "metadata": {},
   "source": [
    "## Nuevos"
   ]
  },
  {
   "cell_type": "code",
   "execution_count": null,
   "id": "b7196b3d",
   "metadata": {},
   "outputs": [],
   "source": [
    "def nuevos(q):\n",
    "    a=np.arange(q)\n",
    "    np.random.shuffle(a)\n",
    "    return a"
   ]
  },
  {
   "cell_type": "markdown",
   "id": "23264577",
   "metadata": {},
   "source": [
    "## Busco"
   ]
  },
  {
   "cell_type": "code",
   "execution_count": null,
   "id": "3d3ac9af",
   "metadata": {},
   "outputs": [],
   "source": [
    "def buscar(i,reinas):\n",
    "    mejor = nuevos(reinas)\n",
    "    for j in range(i):\n",
    "        mejor, evaluaciones = hill_climb(mejor, evaluacion, vecinos)\n",
    "        print(\"\\nEvaluacion mejor\",evaluacion(mejor))\n",
    "        print(\"Evaluaciones:\",evaluaciones)\n",
    "        if evaluacion(mejor)==0:\n",
    "            print(\"Ganadora:\",mejor)\n",
    "            tablero=np.empty((reinas,reinas),np.str_)\n",
    "            for i in range(reinas):\n",
    "                tablero[i,mejor[i]]='X'\n",
    "            print(tablero)\n",
    "    return"
   ]
  },
  {
   "cell_type": "code",
   "execution_count": null,
   "id": "c426295f",
   "metadata": {},
   "outputs": [],
   "source": [
    "def buscarMejor(reinas):\n",
    "    mejor = nuevos(reinas)\n",
    "    while evaluacion(mejor)!=0:\n",
    "        mejor, evaluaciones = hill_climb(mejor, evaluacion, vecinos)\n",
    "    print(\"Evaluaciones:\",evaluaciones)\n",
    "    print(\"Ganadora:\",mejor)\n",
    "    tablero=np.empty((reinas,reinas),np.str_)\n",
    "    for i in range(reinas):\n",
    "        tablero[i,mejor[i]]='X'\n",
    "    print(tablero)\n",
    "    return mejor"
   ]
  },
  {
   "cell_type": "code",
   "execution_count": null,
   "id": "93e88945",
   "metadata": {},
   "outputs": [],
   "source": [
    "buscarMejor(8)"
   ]
  },
  {
   "cell_type": "markdown",
   "id": "159e3fd1",
   "metadata": {},
   "source": [
    "# Algoritmo Evolutivo"
   ]
  },
  {
   "cell_type": "code",
   "execution_count": null,
   "id": "bc58b7bf",
   "metadata": {},
   "outputs": [],
   "source": [
    "QUEENS=16"
   ]
  },
  {
   "cell_type": "markdown",
   "id": "8855d871",
   "metadata": {},
   "source": [
    "## Defino Fitness Esperado"
   ]
  },
  {
   "cell_type": "code",
   "execution_count": null,
   "id": "59b9fe85",
   "metadata": {},
   "outputs": [],
   "source": [
    "creator.create(\"FitnessMax\", base.Fitness, weights=(-1,))\n",
    "creator.create(\"Individual\", list, fitness=creator.FitnessMax)"
   ]
  },
  {
   "cell_type": "markdown",
   "id": "ba2d4e77",
   "metadata": {},
   "source": [
    "## Defino ADN del Individuo"
   ]
  },
  {
   "cell_type": "code",
   "execution_count": null,
   "id": "25c9e77b",
   "metadata": {},
   "outputs": [],
   "source": [
    "toolbox = base.Toolbox()\n",
    "toolbox.register(\"cromo_gen\", nuevos, QUEENS)\n",
    "toolbox.register(\"individual\", tools.initIterate, creator.Individual, toolbox.cromo_gen)\n",
    "toolbox.register(\"population\", tools.initRepeat, list, toolbox.individual)"
   ]
  },
  {
   "cell_type": "code",
   "execution_count": null,
   "id": "181164bd",
   "metadata": {},
   "outputs": [],
   "source": [
    "bit = toolbox.cromo_gen()\n",
    "ind = toolbox.individual()\n",
    "pop = toolbox.population(n=3)\n",
    "\n",
    "print(\"bit is of type %s and has value\\n%s\" % (type(bit), bit))\n",
    "print(\"ind is of type %s and contains %d bits\\n%s\" % (type(ind), len(ind), ind))\n",
    "print(\"pop is of type %s and contains %d individuals\\n%s\" % (type(pop), len(pop), pop))"
   ]
  },
  {
   "cell_type": "markdown",
   "id": "9a9f9dc5",
   "metadata": {},
   "source": [
    "## Defino Evaluacion, Seleccion y Mutacion"
   ]
  },
  {
   "cell_type": "code",
   "execution_count": null,
   "id": "e04d9d35",
   "metadata": {},
   "outputs": [],
   "source": [
    "def evaluarADN(x):\n",
    "    t=0\n",
    "    pos=x\n",
    "    for i in range(0,QUEENS-1):\n",
    "        for j in range(i+1,QUEENS):\n",
    "            if amenaza(i,pos[i],j,pos[j]):\n",
    "                t+=1\n",
    "    return [t]"
   ]
  },
  {
   "cell_type": "code",
   "execution_count": null,
   "id": "c5c94cab",
   "metadata": {},
   "outputs": [],
   "source": [
    "toolbox.register(\"evaluate\", evaluarADN)\n",
    "toolbox.register(\"mate\", tools.cxOrdered)\n",
    "toolbox.register(\"mutate\", tools.mutShuffleIndexes, indpb=0.20)\n",
    "toolbox.register(\"select\", tools.selTournament, tournsize=3)"
   ]
  },
  {
   "cell_type": "markdown",
   "id": "f735535a",
   "metadata": {},
   "source": [
    "### Pruebo evaluacion"
   ]
  },
  {
   "cell_type": "code",
   "execution_count": null,
   "id": "09cb1f17",
   "metadata": {},
   "outputs": [],
   "source": [
    "ind = toolbox.individual()\n",
    "print(ind)\n",
    "toolbox.evaluate(ind)"
   ]
  },
  {
   "cell_type": "markdown",
   "id": "c7a1c784",
   "metadata": {},
   "source": [
    "### Pruebo mutacion"
   ]
  },
  {
   "cell_type": "code",
   "execution_count": null,
   "id": "0da9d616",
   "metadata": {},
   "outputs": [],
   "source": [
    "ind = toolbox.individual()\n",
    "print(ind)\n",
    "toolbox.mutate(ind)\n",
    "print(ind)"
   ]
  },
  {
   "cell_type": "markdown",
   "id": "49f1b4fd",
   "metadata": {},
   "source": [
    "### Pruebo emparejar"
   ]
  },
  {
   "cell_type": "code",
   "execution_count": null,
   "id": "e467fc61",
   "metadata": {},
   "outputs": [],
   "source": [
    "ind = toolbox.individual()\n",
    "print(ind)\n",
    "ind2 = toolbox.individual()\n",
    "print(ind2)\n",
    "toolbox.mate(ind,ind2)"
   ]
  },
  {
   "cell_type": "markdown",
   "id": "0dd17510",
   "metadata": {},
   "source": [
    "### Pruebo seleccion"
   ]
  },
  {
   "cell_type": "code",
   "execution_count": null,
   "id": "ff35de4c",
   "metadata": {},
   "outputs": [],
   "source": [
    "popu = toolbox.population(n=50)\n",
    "jeje=toolbox.select(popu,1)\n",
    "evaluarADN(jeje[0])"
   ]
  },
  {
   "cell_type": "markdown",
   "id": "31f7656b",
   "metadata": {},
   "source": [
    "# Busco"
   ]
  },
  {
   "cell_type": "code",
   "execution_count": null,
   "id": "5e388d16",
   "metadata": {},
   "outputs": [],
   "source": [
    "def main():    \n",
    "    pop = toolbox.population(n=1000)\n",
    "    hof = tools.HallOfFame(1)\n",
    "    stats = tools.Statistics(lambda ind: ind.fitness.values)\n",
    "    stats.register(\"avg\", np.mean)\n",
    "    stats.register(\"min\", np.min)\n",
    "    stats.register(\"max\", np.max)\n",
    "    \n",
    "    pop, logbook = algorithms.eaSimple(pop, toolbox, cxpb=0.5, mutpb=0.2, ngen=10, stats=stats, halloffame=hof, verbose=True)\n",
    "    \n",
    "    return pop, logbook, hof"
   ]
  },
  {
   "cell_type": "code",
   "execution_count": null,
   "id": "a48289c0",
   "metadata": {},
   "outputs": [],
   "source": [
    "if __name__ == \"__main__\":\n",
    "    pop, log, hof = main()\n",
    "    print(\"Best individual is: %s\\nwith fitness: %s\" % (hof[0], hof[0].fitness))\n",
    "    gen, avg, min_, max_ = log.select(\"gen\", \"avg\", \"min\", \"max\")\n",
    "    plt.plot(gen, avg, label=\"average\")\n",
    "    plt.plot(gen, min_, label=\"minimum\")\n",
    "    plt.plot(gen, max_, label=\"maximum\")\n",
    "    plt.xlabel(\"Generation\")\n",
    "    plt.ylabel(\"Fitness\")\n",
    "    plt.legend(loc=\"lower right\")"
   ]
  }
 ],
 "metadata": {},
 "nbformat": 4,
 "nbformat_minor": 5
}
