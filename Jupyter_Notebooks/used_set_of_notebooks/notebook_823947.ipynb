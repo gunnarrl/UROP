{
 "cells": [
  {
   "cell_type": "code",
   "execution_count": null,
   "id": "6486e4ba",
   "metadata": {},
   "outputs": [],
   "source": [
    "import pandas as pd\n",
    "import json\n",
    "from pandas.io.json import json_normalize\n",
    "import urllib.request as rq\n",
    "import json\n",
    "import os\n",
    "import matplotlib.pyplot as plt\n",
    "pd.set_option(\"display.max_columns\",100)"
   ]
  },
  {
   "cell_type": "code",
   "execution_count": null,
   "id": "2d4e164a",
   "metadata": {},
   "outputs": [],
   "source": [
    "def fetch_data(index,type):\n",
    "    response = rq.urlopen(os.environ[\"ES_URL\"]+ index+'/'+type+'/_search?size=1000000')\n",
    "    data = json.load(response)   \n",
    "    data = data[\"hits\"][\"hits\"]\n",
    "    df = json_normalize(data)\n",
    "    return df"
   ]
  },
  {
   "cell_type": "markdown",
   "id": "ee11f0f4",
   "metadata": {},
   "source": [
    "## Individual conflict events"
   ]
  },
  {
   "cell_type": "code",
   "execution_count": null,
   "id": "88f355ef",
   "metadata": {},
   "outputs": [],
   "source": [
    "df = fetch_data(\"ucdp\",\"event\")"
   ]
  },
  {
   "cell_type": "code",
   "execution_count": null,
   "id": "d4f5a92c",
   "metadata": {},
   "outputs": [],
   "source": [
    "print(df.shape)\n",
    "print(df.columns)"
   ]
  },
  {
   "cell_type": "markdown",
   "id": "5ab6d751",
   "metadata": {},
   "source": [
    "### Looking at individual rows"
   ]
  },
  {
   "cell_type": "code",
   "execution_count": null,
   "id": "8ad9c601",
   "metadata": {},
   "outputs": [],
   "source": [
    "df[5:10]"
   ]
  },
  {
   "cell_type": "markdown",
   "id": "4c19feb2",
   "metadata": {},
   "source": [
    "### Finding variation in total violence for different countries"
   ]
  },
  {
   "cell_type": "code",
   "execution_count": null,
   "id": "33034a9b",
   "metadata": {},
   "outputs": [],
   "source": [
    "violence_countries = df.groupby([\"_source.ccd\"]).sum()[\"_source.high_est\"]\n",
    "violence_countries.values"
   ]
  },
  {
   "cell_type": "code",
   "execution_count": null,
   "id": "44f188d8",
   "metadata": {},
   "outputs": [],
   "source": [
    "violence_countries[violence_countries<=200000].quantile([0.6,0.85,0.95,0.99])"
   ]
  },
  {
   "cell_type": "markdown",
   "id": "7d9100bc",
   "metadata": {},
   "source": [
    "## Deaths due to disease"
   ]
  },
  {
   "cell_type": "code",
   "execution_count": null,
   "id": "637a4267",
   "metadata": {},
   "outputs": [],
   "source": [
    "ddd = fetch_data(\"health\",\"deaths\")"
   ]
  },
  {
   "cell_type": "code",
   "execution_count": null,
   "id": "e2d0e739",
   "metadata": {},
   "outputs": [],
   "source": [
    "print(ddd.shape)\n",
    "print(ddd.columns)"
   ]
  },
  {
   "cell_type": "code",
   "execution_count": null,
   "id": "ac74014a",
   "metadata": {},
   "outputs": [],
   "source": [
    "ddd[3:5]"
   ]
  },
  {
   "cell_type": "markdown",
   "id": "24b11fb8",
   "metadata": {},
   "source": [
    "### Finding variation in data"
   ]
  },
  {
   "cell_type": "code",
   "execution_count": null,
   "id": "325cb204",
   "metadata": {},
   "outputs": [],
   "source": [
    "ddd[\"_source.value\"].describe(percentiles=[0.2,0.9])"
   ]
  },
  {
   "cell_type": "markdown",
   "id": "e64439c0",
   "metadata": {},
   "source": [
    "### Finding missing values"
   ]
  },
  {
   "cell_type": "code",
   "execution_count": null,
   "id": "080ee927",
   "metadata": {},
   "outputs": [],
   "source": [
    "print(ddd[\"_source.yr\"].describe())\n",
    "ddd[ddd[\"_source.yr\"]>=1989].groupby([\"_source.ccode\"]).count()[\"_source.yr\"].describe()"
   ]
  },
  {
   "cell_type": "markdown",
   "id": "6c1e2ff5",
   "metadata": {},
   "source": [
    "## Primary education enrollment"
   ]
  },
  {
   "cell_type": "code",
   "execution_count": null,
   "id": "d89a49de",
   "metadata": {},
   "outputs": [],
   "source": [
    "edu = fetch_data(\"cr\",\"cr_country_year\")"
   ]
  },
  {
   "cell_type": "code",
   "execution_count": null,
   "id": "c3227ffc",
   "metadata": {},
   "outputs": [],
   "source": [
    "print(edu.shape)\n",
    "print(edu.columns)"
   ]
  },
  {
   "cell_type": "code",
   "execution_count": null,
   "id": "afc0e297",
   "metadata": {},
   "outputs": [],
   "source": [
    "edu[3:5]"
   ]
  },
  {
   "cell_type": "markdown",
   "id": "4969e21b",
   "metadata": {},
   "source": [
    "### Finding missing values"
   ]
  },
  {
   "cell_type": "code",
   "execution_count": null,
   "id": "35c54ce2",
   "metadata": {},
   "outputs": [],
   "source": [
    "print(edu[\"_source.yr\"].describe())\n",
    "edu[(edu[\"_source.yr\"]>=1989) & (edu[\"_source.yr\"]<=2014)].groupby([\"_source.ccode\"]).count()[\"_source.yr\"].describe()"
   ]
  },
  {
   "cell_type": "markdown",
   "id": "2a72e13c",
   "metadata": {},
   "source": [
    "### Finding variation in data"
   ]
  },
  {
   "cell_type": "code",
   "execution_count": null,
   "id": "f602a015",
   "metadata": {},
   "outputs": [],
   "source": [
    "edu[\"_source.value\"].describe(percentiles=[0.2,0.9])"
   ]
  },
  {
   "cell_type": "markdown",
   "id": "cdfb168c",
   "metadata": {},
   "source": [
    "## GINI coeffecient measuring inequality"
   ]
  },
  {
   "cell_type": "code",
   "execution_count": null,
   "id": "eaf10e48",
   "metadata": {},
   "outputs": [],
   "source": [
    "ineq = fetch_data(\"ineq\",\"ineq_country_year\")"
   ]
  },
  {
   "cell_type": "code",
   "execution_count": null,
   "id": "8be8bd7b",
   "metadata": {},
   "outputs": [],
   "source": [
    "print(ineq.shape)\n",
    "print(ineq.columns)"
   ]
  },
  {
   "cell_type": "code",
   "execution_count": null,
   "id": "b751fc82",
   "metadata": {},
   "outputs": [],
   "source": [
    "ineq[3:5]"
   ]
  },
  {
   "cell_type": "markdown",
   "id": "d1568a24",
   "metadata": {},
   "source": [
    "### Finding variation in data"
   ]
  },
  {
   "cell_type": "code",
   "execution_count": null,
   "id": "55af41bd",
   "metadata": {},
   "outputs": [],
   "source": [
    "ineq[\"_source.value\"].describe(percentiles=[0.2,0.9])"
   ]
  },
  {
   "cell_type": "markdown",
   "id": "5b4dd6f6",
   "metadata": {},
   "source": [
    "### Finding missing values"
   ]
  },
  {
   "cell_type": "code",
   "execution_count": null,
   "id": "88a9b725",
   "metadata": {},
   "outputs": [],
   "source": [
    "print(ineq[\"_source.yr\"].describe())\n",
    "ineq[(ineq[\"_source.yr\"]>=1989) & (ineq[\"_source.yr\"]<=2014)].groupby([\"_source.ccode\"]).count()[\"_source.yr\"].describe()"
   ]
  }
 ],
 "metadata": {},
 "nbformat": 4,
 "nbformat_minor": 5
}
