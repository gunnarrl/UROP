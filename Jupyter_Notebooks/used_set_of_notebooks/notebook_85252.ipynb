{
 "cells": [
  {
   "cell_type": "markdown",
   "id": "c57181a8",
   "metadata": {},
   "source": [
    "# Kaggle Bike Sharing dataset\n",
    "## Modelling the processed data\n",
    "## Introduction\n",
    "In this notebook we are trying to predict the bike rental demand count for the dataset from  <a href=\"https://www.kaggle.com/c/bike-sharing-demand/overview\" >Kaggle Bike sharing competition </a>.\n",
    "This notebook follows the notebook biketrain_data_preperation.ipynb where we preprocess the training and test data.\n",
    "In this notebook we will create a xgboost model using AWS Sagemaker cloud instance using the processed data that we processed in notebook \"biketrain_data_preperation.ipynb\""
   ]
  },
  {
   "cell_type": "markdown",
   "id": "1794d4a5",
   "metadata": {},
   "source": [
    "### Importing the libraries"
   ]
  },
  {
   "cell_type": "code",
   "execution_count": null,
   "id": "eb40f038",
   "metadata": {},
   "outputs": [],
   "source": [
    "import numpy as np\n",
    "import pandas as pd\n",
    "import boto3\n",
    "import re\n",
    "import sagemaker\n",
    "from sagemaker import get_execution_role\n",
    "\n",
    "# SageMaker SDK Documentation: http://sagemaker.readthedocs.io/en/latest/estimators.html"
   ]
  },
  {
   "cell_type": "markdown",
   "id": "7f72936b",
   "metadata": {},
   "source": [
    "### Upload Data to S3"
   ]
  },
  {
   "cell_type": "code",
   "execution_count": null,
   "id": "85ee6715",
   "metadata": {},
   "outputs": [],
   "source": [
    "bucket_name = 'vm24-sagemaker'\n",
    "training_file_key = 'biketrain/bike_train.csv'\n",
    "validation_file_key = 'biketrain/bike_validation.csv'\n",
    "test_file_key = 'biketrain/bike_test.csv'\n",
    "\n",
    "s3_model_output_location = r's3://{0}/biketrain/model'.format(bucket_name)\n",
    "s3_training_file_location = r's3://{0}/{1}'.format(bucket_name,training_file_key)\n",
    "s3_validation_file_location = r's3://{0}/{1}'.format(bucket_name,validation_file_key)\n",
    "s3_test_file_location = r's3://{0}/{1}'.format(bucket_name,test_file_key)"
   ]
  },
  {
   "cell_type": "code",
   "execution_count": null,
   "id": "3fa6301a",
   "metadata": {},
   "outputs": [],
   "source": [
    "print(s3_model_output_location)\n",
    "print(s3_training_file_location)\n",
    "print(s3_validation_file_location)\n",
    "print(s3_test_file_location)"
   ]
  },
  {
   "cell_type": "code",
   "execution_count": null,
   "id": "349cb558",
   "metadata": {},
   "outputs": [],
   "source": [
    "# http://boto3.readthedocs.io/en/latest/guide/s3.html\n",
    "# Defining write to s3 method , files are referred as objects in S3 , file name is referred as key name in S3\n",
    "def write_to_s3(filename, bucket, key):\n",
    "    with open(filename,'rb') as f: # Read in binary mode\n",
    "        return boto3.Session().resource('s3').Bucket(bucket).Object(key).upload_fileobj(f)"
   ]
  },
  {
   "cell_type": "code",
   "execution_count": null,
   "id": "a0350e6c",
   "metadata": {},
   "outputs": [],
   "source": [
    "write_to_s3('bike_train.csv',bucket_name,training_file_key)\n",
    "write_to_s3('bike_validation.csv',bucket_name,validation_file_key)\n",
    "write_to_s3('bike_test.csv',bucket_name,test_file_key)"
   ]
  },
  {
   "cell_type": "markdown",
   "id": "87f71532",
   "metadata": {},
   "source": [
    "### Training Algorithm Docker Image\n",
    "#### AWS Maintains a separate image for every region and algorithm"
   ]
  },
  {
   "cell_type": "code",
   "execution_count": null,
   "id": "7a7abe34",
   "metadata": {},
   "outputs": [],
   "source": [
    "# Registry Path for algorithms provided by SageMaker for xgboost containing containers\n",
    "#  https://docs.aws.amazon.com/sagemaker/latest/dg/sagemaker-algo-docker-registry-paths.html\n",
    "containers = {'us-west-2': '433757028032.dkr.ecr.us-west-2.amazonaws.com/xgboost:latest',\n",
    "              'us-east-1': '811284229777.dkr.ecr.us-east-1.amazonaws.com/xgboost:latest',\n",
    "              'us-east-2': '825641698319.dkr.ecr.us-east-2.amazonaws.com/xgboost:latest',\n",
    "              'eu-west-1': '685385470294.dkr.ecr.eu-west-1.amazonaws.com/xgboost:latest'}"
   ]
  },
  {
   "cell_type": "code",
   "execution_count": null,
   "id": "02f47413",
   "metadata": {},
   "outputs": [],
   "source": [
    "role = get_execution_role()"
   ]
  },
  {
   "cell_type": "code",
   "execution_count": null,
   "id": "8e1500b4",
   "metadata": {},
   "outputs": [],
   "source": [
    "# This role contains the permissions needed to train, deploy models\n",
    "# SageMaker Service is trusted to assume this role\n",
    "print(role)"
   ]
  },
  {
   "cell_type": "markdown",
   "id": "670f7319",
   "metadata": {},
   "source": [
    "## Build Model"
   ]
  },
  {
   "cell_type": "code",
   "execution_count": null,
   "id": "9c793d21",
   "metadata": {},
   "outputs": [],
   "source": [
    "# Create a sagemaker session\n",
    "sess = sagemaker.Session()"
   ]
  },
  {
   "cell_type": "code",
   "execution_count": null,
   "id": "a86b8622",
   "metadata": {},
   "outputs": [],
   "source": [
    "# Access appropriate algorithm container image\n",
    "#  Specify how many instances to use for distributed training and what type of machine to use\n",
    "#  Finally, specify where the trained model artifacts needs to be stored\n",
    "#   Reference: http://sagemaker.readthedocs.io/en/latest/estimators.html\n",
    "#    Optionally, give a name to the training job using base_job_name\n",
    "\n",
    "estimator = sagemaker.estimator.Estimator(containers[boto3.Session().region_name],\n",
    "                                       role, \n",
    "                                       train_instance_count=1, \n",
    "                                       train_instance_type='ml.m4.xlarge',\n",
    "                                       output_path=s3_model_output_location,\n",
    "                                       sagemaker_session=sess,\n",
    "                                       base_job_name ='xgboost-biketrain-v1')"
   ]
  },
  {
   "cell_type": "code",
   "execution_count": null,
   "id": "a00e8172",
   "metadata": {},
   "outputs": [],
   "source": [
    "# Specify hyper parameters that appropriate for the training algorithm\n",
    "# XGBoost Training Parameter Reference: \n",
    "#   https://github.com/dmlc/xgboost/blob/master/doc/parameter.md\n",
    "\n",
    "# max_depth=5,eta=0.1,subsample=0.7,num_round=150\n",
    "estimator.set_hyperparameters(max_depth=5,objective=\"reg:linear\",\n",
    "                              eta=0.1,subsample=0.7,num_round=150)"
   ]
  },
  {
   "cell_type": "code",
   "execution_count": null,
   "id": "2e3b9efb",
   "metadata": {},
   "outputs": [],
   "source": [
    "estimator.hyperparameters()"
   ]
  },
  {
   "cell_type": "markdown",
   "id": "245f88b4",
   "metadata": {},
   "source": [
    "### Specify Training Data Location and Optionally, Validation Data Location"
   ]
  },
  {
   "cell_type": "code",
   "execution_count": null,
   "id": "a313d9d1",
   "metadata": {},
   "outputs": [],
   "source": [
    "# content type can be libsvm or csv for XGBoost\n",
    "training_input_config = sagemaker.session.s3_input(s3_data=s3_training_file_location,content_type=\"csv\")\n",
    "validation_input_config = sagemaker.session.s3_input(s3_data=s3_validation_file_location,content_type=\"csv\")"
   ]
  },
  {
   "cell_type": "code",
   "execution_count": null,
   "id": "035158b7",
   "metadata": {},
   "outputs": [],
   "source": [
    "print(training_input_config.config)\n",
    "print(validation_input_config.config)"
   ]
  },
  {
   "cell_type": "markdown",
   "id": "26433682",
   "metadata": {},
   "source": [
    "### Train the model (XGBoost will display the RMSE using validation data)"
   ]
  },
  {
   "cell_type": "code",
   "execution_count": null,
   "id": "444f4763",
   "metadata": {},
   "outputs": [],
   "source": [
    "# XGBoost supports \"train\", \"validation\" channels\n",
    "# Reference: Supported channels by algorithm\n",
    "#   https://docs.aws.amazon.com/sagemaker/latest/dg/sagemaker-algo-docker-registry-paths.html\n",
    "# Fit the data using xgboost\n",
    "estimator.fit({'train':training_input_config, 'validation':validation_input_config})"
   ]
  },
  {
   "cell_type": "markdown",
   "id": "1bd99f8f",
   "metadata": {},
   "source": [
    "## Deploy Model"
   ]
  },
  {
   "cell_type": "code",
   "execution_count": null,
   "id": "9b599767",
   "metadata": {},
   "outputs": [],
   "source": [
    "# Ref: http://sagemaker.readthedocs.io/en/latest/estimators.html\n",
    "# Deploy model\n",
    "predictor = estimator.deploy(initial_instance_count=1,\n",
    "                             instance_type='ml.m4.xlarge',\n",
    "                             endpoint_name = 'xgboost-biketrain-v1')"
   ]
  },
  {
   "cell_type": "markdown",
   "id": "503a824d",
   "metadata": {},
   "source": [
    "## Run Predictions"
   ]
  },
  {
   "cell_type": "code",
   "execution_count": null,
   "id": "0134cf32",
   "metadata": {},
   "outputs": [],
   "source": [
    "from sagemaker.predictor import csv_serializer, json_deserializer\n",
    "\n",
    "predictor.content_type = 'text/csv'\n",
    "predictor.serializer = csv_serializer\n",
    "predictor.deserializer = None"
   ]
  },
  {
   "cell_type": "code",
   "execution_count": null,
   "id": "e9c0006b",
   "metadata": {},
   "outputs": [],
   "source": [
    "predictor.predict([[3,0,1,2,28.7,33.335,79,12.998,2011,7,7,3]])"
   ]
  },
  {
   "cell_type": "markdown",
   "id": "5d822667",
   "metadata": {},
   "source": [
    "## Summary"
   ]
  },
  {
   "cell_type": "markdown",
   "id": "391b9834",
   "metadata": {},
   "source": [
    "We have successfully created a model using aws sagemaker service, deployed it to an endpoint and ran sample predictions on it. In the next notebook I will perform prediction on the test dataset using the created endpoint."
   ]
  }
 ],
 "metadata": {},
 "nbformat": 4,
 "nbformat_minor": 5
}
