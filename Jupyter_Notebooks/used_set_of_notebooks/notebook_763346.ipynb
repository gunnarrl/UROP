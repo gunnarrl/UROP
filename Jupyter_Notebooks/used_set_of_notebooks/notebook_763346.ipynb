{
 "cells": [
  {
   "cell_type": "markdown",
   "id": "4160ba26",
   "metadata": {},
   "source": [
    "<a href=\"https://colab.research.google.com/github/LucienShui/HelloMachineLearning/blob/master/Exercise_Flowers_with_Data_Augmentation.ipynb\" target=\"_parent\"><img src=\"https://colab.research.google.com/assets/colab-badge.svg\" alt=\"Open In Colab\"/></a>"
   ]
  },
  {
   "cell_type": "markdown",
   "id": "dd2a67e0",
   "metadata": {},
   "source": [
    "## Importing Packages"
   ]
  },
  {
   "cell_type": "code",
   "execution_count": null,
   "id": "dacc5410",
   "metadata": {},
   "outputs": [],
   "source": [
    "from __future__ import absolute_import, division, print_function, unicode_literals\n",
    "\n",
    "import os\n",
    "import numpy as np\n",
    "import glob\n",
    "import shutil\n",
    "import matplotlib.pyplot as plt"
   ]
  },
  {
   "cell_type": "code",
   "execution_count": null,
   "id": "a06613d2",
   "metadata": {},
   "outputs": [],
   "source": [
    "import tensorflow as tf\n",
    "from tensorflow.keras.preprocessing.image import ImageDataGenerator"
   ]
  },
  {
   "cell_type": "markdown",
   "id": "ca74163b",
   "metadata": {},
   "source": [
    "## Data Loading"
   ]
  },
  {
   "cell_type": "code",
   "execution_count": null,
   "id": "0986be7f",
   "metadata": {},
   "outputs": [],
   "source": [
    "URL = \"https://storage.googleapis.com/download.tensorflow.org/example_images/flower_photos.tgz\"\n",
    "\n",
    "zip_file = tf.keras.utils.get_file(origin=URL,\n",
    "                                   fname=\"flower_photos.tgz\",\n",
    "                                   extract=True)\n",
    "\n",
    "base_dir = os.path.join(os.path.dirname(zip_file), \"flower_photos\")"
   ]
  },
  {
   "cell_type": "code",
   "execution_count": null,
   "id": "d1b81d1b",
   "metadata": {},
   "outputs": [],
   "source": [
    "print(base_dir)\n",
    "print(os.listdir(base_dir))"
   ]
  },
  {
   "cell_type": "code",
   "execution_count": null,
   "id": "32f17b7e",
   "metadata": {},
   "outputs": [],
   "source": [
    "classes = ['daisy', 'dandelion', 'roses', 'sunflowers', 'tulips']"
   ]
  },
  {
   "cell_type": "code",
   "execution_count": null,
   "id": "2d1c76c6",
   "metadata": {},
   "outputs": [],
   "source": [
    "for class_name in classes:\n",
    "    img_path = os.path.join(base_dir, class_name)\n",
    "    images = glob.glob(img_path + '/*.jpg')\n",
    "    print(\"{}: {} Images\".format(class_name, len(images)))\n",
    "    train, val = images[:round(len(images) * 0.8)], images[round(len(images) * 0.8):]\n",
    "\n",
    "    for image in train:\n",
    "        if not os.path.exists(os.path.join(base_dir, 'train', class_name)):\n",
    "            os.makedirs(os.path.join(base_dir, 'train', class_name))\n",
    "        try:\n",
    "            shutil.move(image, os.path.join(base_dir, 'train', class_name))\n",
    "        except Exception as e:\n",
    "            pass\n",
    "    \n",
    "    for image in val:\n",
    "        if not os.path.exists(os.path.join(base_dir, 'val', class_name)):\n",
    "            os.makedirs(os.path.join(base_dir, 'val', class_name))\n",
    "        try:\n",
    "            shutil.move(image, os.path.join(base_dir, 'val', class_name))\n",
    "        except Exception as e:\n",
    "            pass\n",
    "    \n",
    "    os.system('rm -r ' + os.path.join(base_dir, class_name))"
   ]
  },
  {
   "cell_type": "code",
   "execution_count": null,
   "id": "4540c9ae",
   "metadata": {},
   "outputs": [],
   "source": [
    "total_train = 0\n",
    "for class_name in classes:\n",
    "    cnt = len(os.listdir(os.path.join(base_dir, 'train', class_name)))\n",
    "    print(\"train/{}: {}\".format(class_name, cnt))\n",
    "    total_train += cnt\n",
    "\n",
    "print(\"Total Train Data: {}\".format(total_train))\n",
    "\n",
    "print(\"========\")\n",
    "\n",
    "total_val = 0\n",
    "for class_name in classes:\n",
    "    cnt = len(os.listdir(os.path.join(base_dir, 'val', class_name)))\n",
    "    print(\"val/{}: {}\".format(class_name, cnt))\n",
    "    total_val += cnt\n",
    "\n",
    "print(\"Total Validation Data: {}\".format(total_val))"
   ]
  },
  {
   "cell_type": "markdown",
   "id": "13c8190e",
   "metadata": {},
   "source": [
    "## Creating Data generator"
   ]
  },
  {
   "cell_type": "code",
   "execution_count": null,
   "id": "87720538",
   "metadata": {},
   "outputs": [],
   "source": [
    "BATCH_SIZE = 100\n",
    "IMG_SHAPE = 128"
   ]
  },
  {
   "cell_type": "code",
   "execution_count": null,
   "id": "19e2939e",
   "metadata": {},
   "outputs": [],
   "source": [
    "def plotImages(images_arr):\n",
    "    fig, axes = plt.subplots(1, 5, figsize=(20,20))\n",
    "    axes = axes.flatten()\n",
    "    for img, ax in zip(images_arr, axes):\n",
    "        ax.imshow(img)\n",
    "    plt.tight_layout()\n",
    "    plt.show()"
   ]
  },
  {
   "cell_type": "markdown",
   "id": "225a21f2",
   "metadata": {},
   "source": [
    "### Creating Training Data generator"
   ]
  },
  {
   "cell_type": "code",
   "execution_count": null,
   "id": "08077de7",
   "metadata": {},
   "outputs": [],
   "source": [
    "image_generator_train = ImageDataGenerator(\n",
    "    rescale=1./255, # 重新调整\n",
    "    rotation_range=45,\n",
    "    width_shift_range=0.2, # 宽度偏移范围\n",
    "    height_shift_range=0.2,\n",
    "    shear_range=0.2, # 剪切范围\n",
    "    zoom_range=0.2, # 变焦范围\n",
    "    horizontal_flip=True, # 水平翻转\n",
    "    fill_mode='nearest'\n",
    ")\n",
    "\n",
    "train_data_gen = image_generator_train.flow_from_directory(batch_size=BATCH_SIZE,\n",
    "                                                           directory=os.path.join(base_dir, 'train') ,\n",
    "                                                           shuffle=True,\n",
    "                                                           target_size=(IMG_SHAPE, IMG_SHAPE),\n",
    "                                                           class_mode='sparse')"
   ]
  },
  {
   "cell_type": "code",
   "execution_count": null,
   "id": "577ce1cf",
   "metadata": {},
   "outputs": [],
   "source": [
    "augmented_images = [train_data_gen[0][0][0] for i in range(5)]\n",
    "plotImages(augmented_images)"
   ]
  },
  {
   "cell_type": "markdown",
   "id": "80f3705a",
   "metadata": {},
   "source": [
    "### Creating Validation Data generator"
   ]
  },
  {
   "cell_type": "code",
   "execution_count": null,
   "id": "8d6b2631",
   "metadata": {},
   "outputs": [],
   "source": [
    "image_gen_val = ImageDataGenerator(rescale=1./255)\n",
    "\n",
    "val_data_gen = image_gen_val.flow_from_directory(batch_size=BATCH_SIZE,\n",
    "                                                 directory=os.path.join(base_dir, 'val'),\n",
    "                                                 target_size=(IMG_SHAPE, IMG_SHAPE),\n",
    "                                                 class_mode='sparse')"
   ]
  },
  {
   "cell_type": "markdown",
   "id": "495a27ae",
   "metadata": {},
   "source": [
    "## Create the CNN"
   ]
  },
  {
   "cell_type": "code",
   "execution_count": null,
   "id": "896f21c7",
   "metadata": {},
   "outputs": [],
   "source": [
    "model = tf.keras.models.Sequential([\n",
    "    tf.keras.layers.Conv2D(32, (3, 3), activation='relu', input_shape=(IMG_SHAPE, IMG_SHAPE, 3)),\n",
    "    tf.keras.layers.MaxPooling2D(2, 2),\n",
    "\n",
    "    tf.keras.layers.Conv2D(64, (3, 3), activation='relu'),\n",
    "    tf.keras.layers.MaxPooling2D(2, 2),\n",
    "\n",
    "    tf.keras.layers.Conv2D(128, (3, 3), activation='relu'),\n",
    "    tf.keras.layers.MaxPooling2D(2, 2),\n",
    "\n",
    "    tf.keras.layers.Conv2D(128, (3, 3), activation='relu'),\n",
    "    tf.keras.layers.MaxPooling2D(2, 2),\n",
    "\n",
    "    tf.keras.layers.Dropout(0.5),\n",
    "    tf.keras.layers.Flatten(),\n",
    "    tf.keras.layers.Dense(512, activation='relu'),\n",
    "    tf.keras.layers.Dense(5, activation='softmax')\n",
    "])"
   ]
  },
  {
   "cell_type": "markdown",
   "id": "9c082735",
   "metadata": {},
   "source": [
    "## Compile the Model"
   ]
  },
  {
   "cell_type": "code",
   "execution_count": null,
   "id": "e67eb7ed",
   "metadata": {},
   "outputs": [],
   "source": [
    "model.compile(optimizer='adam',\n",
    "              loss='sparse_categorical_crossentropy',\n",
    "              metrics=['accuracy'])"
   ]
  },
  {
   "cell_type": "code",
   "execution_count": null,
   "id": "ae5248bd",
   "metadata": {},
   "outputs": [],
   "source": [
    "model.summary()"
   ]
  },
  {
   "cell_type": "markdown",
   "id": "35e4b86e",
   "metadata": {},
   "source": [
    "## Train the Model"
   ]
  },
  {
   "cell_type": "code",
   "execution_count": null,
   "id": "a811736e",
   "metadata": {},
   "outputs": [],
   "source": [
    "EPOCHS = 100\n",
    "\n",
    "history = model.fit_generator(\n",
    "    train_data_gen,\n",
    "    steps_per_epoch=int(np.ceil(total_train / float(BATCH_SIZE))),\n",
    "    epochs=EPOCHS,\n",
    "    validation_data=val_data_gen,\n",
    "    validation_steps=int(np.ceil(total_val / float(BATCH_SIZE)))\n",
    ")"
   ]
  },
  {
   "cell_type": "markdown",
   "id": "9bb22b7e",
   "metadata": {},
   "source": [
    "## Visualizing results of the trainig"
   ]
  },
  {
   "cell_type": "code",
   "execution_count": null,
   "id": "968d5809",
   "metadata": {},
   "outputs": [],
   "source": [
    "acc = history.history['acc']\n",
    "val_acc = history.history['val_acc']\n",
    "\n",
    "loss = history.history['loss']\n",
    "val_loss = history.history['val_loss']\n",
    "\n",
    "epochs_range = range(EPOCHS)\n",
    "\n",
    "plt.figure(figsize=(8, 8))\n",
    "plt.subplot(1, 2, 1)\n",
    "plt.plot(epochs_range, acc, label='Training Accuracy')\n",
    "plt.plot(epochs_range, val_acc, label='Validation Accuracy')\n",
    "plt.legend(loc='lower right')\n",
    "plt.title('Training and Validation Accuracy')\n",
    "\n",
    "plt.subplot(1, 2, 2)\n",
    "plt.plot(epochs_range, loss, label='Training Loss')\n",
    "plt.plot(epochs_range, val_loss, label='Validation Loss')\n",
    "plt.legend(loc='upper right')\n",
    "plt.title('Training and Validation Loss')\n",
    "plt.savefig('./foo.png')\n",
    "plt.show()"
   ]
  }
 ],
 "metadata": {},
 "nbformat": 4,
 "nbformat_minor": 5
}
