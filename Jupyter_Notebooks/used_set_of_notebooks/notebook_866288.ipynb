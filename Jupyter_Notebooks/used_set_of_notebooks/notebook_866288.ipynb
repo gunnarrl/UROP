{
 "cells": [
  {
   "cell_type": "markdown",
   "id": "3ac6a73f",
   "metadata": {},
   "source": [
    "# Tensorflow - keras\n",
    "\n",
    "### Deep learning more easy..\n",
    "\n",
    "https://www.tensorflow.org/guide/keras"
   ]
  },
  {
   "cell_type": "code",
   "execution_count": null,
   "id": "5d6764f0",
   "metadata": {},
   "outputs": [],
   "source": [
    "import numpy as np\n",
    "import matplotlib.pyplot as plt\n",
    "import random\n",
    "import math"
   ]
  },
  {
   "cell_type": "markdown",
   "id": "05ec92b9",
   "metadata": {},
   "source": [
    "### New import \n",
    "\n",
    "Instalar o tensorflow fica por sua conta..\n",
    "\n",
    "    pip install tensorflow\n",
    "    \n",
    "    pip install tensorflow-gpu\n",
    "\n",
    "pip ou pip3 ou conda (no windows o conda é mais facil...)\n"
   ]
  },
  {
   "cell_type": "code",
   "execution_count": null,
   "id": "8753e0ad",
   "metadata": {},
   "outputs": [],
   "source": [
    "import tensorflow as tf"
   ]
  },
  {
   "cell_type": "markdown",
   "id": "a25da3db",
   "metadata": {},
   "source": [
    "MLP com 2 neoronios de entrada 2 escondidos e 1 de saida"
   ]
  },
  {
   "cell_type": "code",
   "execution_count": null,
   "id": "b59b809c",
   "metadata": {},
   "outputs": [],
   "source": [
    "model = tf.keras.Sequential([\n",
    "    tf.keras.layers.Dense(2, activation=tf.nn.sigmoid),\n",
    "    tf.keras.layers.Dense(1, activation=tf.nn.sigmoid)\n",
    "])\n",
    "\n",
    "# model = tf.keras.Sequential([\n",
    "#     tf.keras.layers.Dense(3, activation=tf.nn.sigmoid),\n",
    "#     tf.keras.layers.Dense(4, activation=tf.nn.sigmoid),\n",
    "#     tf.keras.layers.Dense(1, activation=tf.nn.sigmoid)\n",
    "# ])"
   ]
  },
  {
   "cell_type": "markdown",
   "id": "11431e03",
   "metadata": {},
   "source": [
    "### Compilando..\n",
    "\n",
    "qual otimizador?\n",
    "\n",
    "qual função de perda?\n",
    "\n",
    "quais metricas?"
   ]
  },
  {
   "cell_type": "code",
   "execution_count": null,
   "id": "4e5c66de",
   "metadata": {},
   "outputs": [],
   "source": [
    "model.compile(optimizer=tf.keras.optimizers.SGD(lr=0.1),\n",
    "              loss='binary_crossentropy',\n",
    "              metrics=['accuracy'])\n",
    "\n",
    "# model.compile(optimizer=tf.keras.optimizers.RMSprop(lr=0.1),\n",
    "#               loss='binary_crossentropy',\n",
    "#               metrics=['accuracy'])"
   ]
  },
  {
   "cell_type": "markdown",
   "id": "23f7f660",
   "metadata": {},
   "source": [
    "# Criando amostras"
   ]
  },
  {
   "cell_type": "code",
   "execution_count": null,
   "id": "35a77c42",
   "metadata": {},
   "outputs": [],
   "source": [
    "def createSamples(list1, list2, label, bias = False):\n",
    "    random.shuffle(list1)\n",
    "    random.shuffle(list2)\n",
    "    tmp = []\n",
    "    for p1, p2 in zip(list1, list2):\n",
    "        if bias:\n",
    "            tmp.append([p1, p2, 1, label])\n",
    "        else:\n",
    "            tmp.append([p1, p2, label])\n",
    "    return tmp"
   ]
  },
  {
   "cell_type": "code",
   "execution_count": null,
   "id": "44703d5f",
   "metadata": {},
   "outputs": [],
   "source": [
    "qte_sample = 30\n",
    "itemsx = []\n",
    "itemsy = []\n",
    "\n",
    "for i in range(qte_sample):\n",
    "    itemsy.append(random.random()*5+5)\n",
    "    itemsx.append(random.random()*15)\n",
    "\n",
    "rosas = createSamples(itemsx, itemsy, 0, True)"
   ]
  },
  {
   "cell_type": "code",
   "execution_count": null,
   "id": "f0167bf9",
   "metadata": {},
   "outputs": [],
   "source": [
    "qte_sample = 30\n",
    "itemsx = []\n",
    "itemsy = []\n",
    "\n",
    "for i in range(qte_sample):\n",
    "    itemsy.append(random.random()*5)\n",
    "    itemsx.append(random.random()*15+15)\n",
    "    \n",
    "violetas = createSamples(itemsx, itemsy, 1, True)"
   ]
  },
  {
   "cell_type": "code",
   "execution_count": null,
   "id": "973e4700",
   "metadata": {},
   "outputs": [],
   "source": [
    "points = np.array(rosas + violetas)\n",
    "\n",
    "np.take(points,np.random.permutation(points.shape[0]),axis=0,out=points)\n",
    "\n",
    "# 2 is bias\n",
    "valor = points[:,3]\n",
    "points = points[:,[0,1]]\n",
    "# Normalizando\n",
    "points[:,0] *= 1/30\n",
    "points[:,1] *= 1/10\n"
   ]
  },
  {
   "cell_type": "markdown",
   "id": "cdb5fe16",
   "metadata": {},
   "source": [
    "# XOR"
   ]
  },
  {
   "cell_type": "code",
   "execution_count": null,
   "id": "60c49e4d",
   "metadata": {},
   "outputs": [],
   "source": [
    "points = np.array([[1,0],[0,0],[0,1],[1,1]])\n",
    "valor = np.array([[1],[0],[1],[0]])"
   ]
  },
  {
   "cell_type": "markdown",
   "id": "0014b510",
   "metadata": {},
   "source": [
    "# Predição"
   ]
  },
  {
   "cell_type": "code",
   "execution_count": null,
   "id": "d5396874",
   "metadata": {},
   "outputs": [],
   "source": [
    "def predict(X):\n",
    "    pred = model.predict(X)\n",
    "    return pred[0][0]\n",
    "\n",
    "predict(np.array([[1,1]]))"
   ]
  },
  {
   "cell_type": "markdown",
   "id": "25d6b4c7",
   "metadata": {},
   "source": [
    "# Visualizando\n",
    "\n",
    "otimizado para tensorflow.."
   ]
  },
  {
   "cell_type": "code",
   "execution_count": null,
   "id": "879065a3",
   "metadata": {},
   "outputs": [],
   "source": [
    "def visualiza(points, valor, zero1=False):\n",
    "    img = np.ones((300, 400)) \n",
    "    # grab the image dimensions\n",
    "    w = img.shape[0]\n",
    "    h = img.shape[1]\n",
    "\n",
    "    # loop over the image, pixel by pixel\n",
    "    for x in range(0, w):\n",
    "        for y in range(0, h):\n",
    "            # threshold the pixel\n",
    "            img[x][y] = predict(np.array([[x/w, y/h]]))\n",
    "    \n",
    "    plt.imshow(img, origin='lower')\n",
    "    plt.colorbar()\n",
    "    for x, y in zip(points,valor):\n",
    "        if y == 1:\n",
    "            plt.scatter(x=x[0]*h, y=x[1]*w, c='r', s=40)\n",
    "        else:\n",
    "            plt.scatter(x=x[0]*h, y=x[1]*w, c='b', s=40)\n",
    "    plt.show()\n",
    "    \n",
    "    \n",
    "    if zero1:\n",
    "        for x in range(0, w):\n",
    "            for y in range(0, h):\n",
    "                # threshold the pixel\n",
    "#                 print(predict([x/w, y/h]), (predict([x/w, y/h]) > 0.5))\n",
    "                if (img[x][y] > 0.5):\n",
    "                    img[x][y] = 1\n",
    "                else:\n",
    "                    img[x][y] = 0 \n",
    "    plt.imshow(img, origin='lower')\n",
    "    plt.colorbar()\n",
    "    for x, y in zip(points,valor):\n",
    "        if y == 1:\n",
    "            plt.scatter(x=x[0]*h, y=x[1]*w, c='r', s=40)\n",
    "        else:\n",
    "            plt.scatter(x=x[0]*h, y=x[1]*w, c='b', s=40)\n",
    "    plt.show()\n",
    "    "
   ]
  },
  {
   "cell_type": "code",
   "execution_count": null,
   "id": "46005566",
   "metadata": {},
   "outputs": [],
   "source": [
    "visualiza(points, valor, True)"
   ]
  },
  {
   "cell_type": "code",
   "execution_count": null,
   "id": "13467a66",
   "metadata": {},
   "outputs": [],
   "source": [
    "model.fit(points, valor, epochs=5000)"
   ]
  },
  {
   "cell_type": "code",
   "execution_count": null,
   "id": "09109841",
   "metadata": {},
   "outputs": [],
   "source": [
    "visualiza(points, valor, True)"
   ]
  },
  {
   "cell_type": "code",
   "execution_count": null,
   "id": "e380f969",
   "metadata": {},
   "outputs": [],
   "source": [
    "for layer in model.layers:\n",
    "    weights, biases = layer.get_weights()\n",
    "    print(weights)\n",
    "    print(\"-------\")\n",
    "    print(biases)\n",
    "    print(\"-------\")"
   ]
  }
 ],
 "metadata": {},
 "nbformat": 4,
 "nbformat_minor": 5
}
