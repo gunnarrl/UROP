{
 "cells": [
  {
   "cell_type": "code",
   "execution_count": null,
   "id": "f36a0f7f",
   "metadata": {},
   "outputs": [],
   "source": [
    "import pandas as pd\n",
    "from clickhouse_driver import Client"
   ]
  },
  {
   "cell_type": "code",
   "execution_count": null,
   "id": "55696899",
   "metadata": {},
   "outputs": [],
   "source": [
    "%matplotlib inline\n",
    "import matplotlib.pyplot as plt"
   ]
  },
  {
   "cell_type": "code",
   "execution_count": null,
   "id": "7373f282",
   "metadata": {},
   "outputs": [],
   "source": [
    "import matplotlib"
   ]
  },
  {
   "cell_type": "code",
   "execution_count": null,
   "id": "7cfb78fc",
   "metadata": {},
   "outputs": [],
   "source": [
    "from sklearn.ensemble import RandomForestRegressor\n",
    "from sklearn.model_selection import TimeSeriesSplit, GridSearchCV\n",
    "import numpy as np"
   ]
  },
  {
   "cell_type": "code",
   "execution_count": null,
   "id": "0e7ed609",
   "metadata": {},
   "outputs": [],
   "source": [
    "import eli5"
   ]
  },
  {
   "cell_type": "code",
   "execution_count": null,
   "id": "aa41c923",
   "metadata": {},
   "outputs": [],
   "source": [
    "matplotlib.rcParams[\"figure.figsize\"] = (15, 5)"
   ]
  },
  {
   "cell_type": "code",
   "execution_count": null,
   "id": "7dd8fdeb",
   "metadata": {},
   "outputs": [],
   "source": [
    "client = Client('localhost')"
   ]
  },
  {
   "cell_type": "markdown",
   "id": "16e57845",
   "metadata": {},
   "source": [
    "# Gas prices"
   ]
  },
  {
   "cell_type": "markdown",
   "id": "a0909c39",
   "metadata": {},
   "source": [
    "Simple estimator of gas price for transaction between wallets before Byzantium hardfork\n",
    "\n",
    "Can be pretty useful for Ethereum wallet apps like MetaMask or Multy"
   ]
  },
  {
   "cell_type": "markdown",
   "id": "d145b7e3",
   "metadata": {},
   "source": [
    "### At first we should gather dataset from database"
   ]
  },
  {
   "cell_type": "code",
   "execution_count": null,
   "id": "6bc89687",
   "metadata": {},
   "outputs": [],
   "source": [
    "gas_stats = client.execute(\"\"\"\n",
    "    SELECT *\n",
    "    FROM (\n",
    "        SELECT toInt64(blockNumber / 1000) * 1000 AS block, quantile(0.5)(gasPrice) * 1e9, quantile(0.2)(gasPrice) * 1e9\n",
    "        FROM eth_internal_transaction\n",
    "        WHERE \n",
    "            (block > 6500000)\n",
    "        AND\n",
    "            to NOT IN (SELECT address FROM eth_contract)\n",
    "        AND\n",
    "            value > 0\n",
    "        AND \n",
    "            type = 'call'\n",
    "        AND \n",
    "            id LIKE '%.0'\n",
    "        GROUP BY block\n",
    "    )\n",
    "    ANY INNER JOIN (\n",
    "        SELECT number AS block, timestamp\n",
    "        FROM eth_block\n",
    "    )\n",
    "    USING block\n",
    "\"\"\")"
   ]
  },
  {
   "cell_type": "code",
   "execution_count": null,
   "id": "39b913c2",
   "metadata": {},
   "outputs": [],
   "source": [
    "gas_stats_df = pd.DataFrame(gas_stats, columns=[\"block\", \"gas\", \"minGas\", \"datetime\"])"
   ]
  },
  {
   "cell_type": "code",
   "execution_count": null,
   "id": "0ff1e38e",
   "metadata": {},
   "outputs": [],
   "source": [
    "gas_stats_df.sort_values(\"block\").plot(x=\"datetime\", y=\"gas\", logy=True)"
   ]
  },
  {
   "cell_type": "markdown",
   "id": "d75e3b7d",
   "metadata": {},
   "source": [
    "### Then we add some periodical features"
   ]
  },
  {
   "cell_type": "code",
   "execution_count": null,
   "id": "ed551150",
   "metadata": {},
   "outputs": [],
   "source": [
    "gas_stats_df[\"dayofmonth\"] = gas_stats_df[\"datetime\"].dt.day\n",
    "gas_stats_df[\"dayofweek\"] = gas_stats_df[\"datetime\"].dt.dayofweek\n",
    "gas_stats_df[\"hour\"] = gas_stats_df[\"datetime\"].dt.hour\n",
    "gas_stats_df[\"minute\"] = gas_stats_df[\"datetime\"].dt.minute"
   ]
  },
  {
   "cell_type": "markdown",
   "id": "e6756f5d",
   "metadata": {},
   "source": [
    "### We are almost there!\n",
    "\n",
    "Just some preprocessing for train and test dataset..."
   ]
  },
  {
   "cell_type": "code",
   "execution_count": null,
   "id": "478c7ab4",
   "metadata": {},
   "outputs": [],
   "source": [
    "dataset = gas_stats_df.sort_values(\"block\").set_index(\"datetime\")\n",
    "\n",
    "columns_for_prediction = [\"dayofmonth\", \"dayofweek\", \"hour\", \"minute\", \"block\"]\n",
    "\n",
    "train_X = dataset[dataset[\"block\"] <= 7000000][columns_for_prediction]\n",
    "train_y = dataset[dataset[\"block\"] <= 7000000][\"gas\"]\n",
    "test_X = dataset[(dataset[\"block\"] > 7000000) & (dataset[\"block\"] < 7200000)][columns_for_prediction]\n",
    "test_y = dataset[(dataset[\"block\"] > 7000000) & (dataset[\"block\"] < 7200000)][\"gas\"]"
   ]
  },
  {
   "cell_type": "code",
   "execution_count": null,
   "id": "89ed3d86",
   "metadata": {},
   "outputs": [],
   "source": [
    "train_y.plot()"
   ]
  },
  {
   "cell_type": "code",
   "execution_count": null,
   "id": "1f630788",
   "metadata": {},
   "outputs": [],
   "source": [
    "test_y.plot()"
   ]
  },
  {
   "cell_type": "markdown",
   "id": "b3e93ba7",
   "metadata": {},
   "source": [
    "### We will choose best model by LMFAO metric\n",
    "\n",
    "- **Likely Mined** - we want our transactions to be mined after some minutes\n",
    "\n",
    "- **Fees Are OK** - also we don't want our users to pay impossibly high gas prices"
   ]
  },
  {
   "cell_type": "code",
   "execution_count": null,
   "id": "60db4d4e",
   "metadata": {},
   "outputs": [],
   "source": [
    "GWEI_THRESHOLD = 5\n",
    "low_price = gas_stats_df.set_index(\"block\")[\"minGas\"]"
   ]
  },
  {
   "cell_type": "code",
   "execution_count": null,
   "id": "7952654f",
   "metadata": {},
   "outputs": [],
   "source": [
    "def lmfao(estimator, X, y_true):\n",
    "    y_pred = estimator.predict(X)\n",
    "    high_fee = ((y_true - y_pred) > GWEI_THRESHOLD)\n",
    "    will_stuck = (y_pred < low_price.loc[X[\"block\"]].tolist())\n",
    "    is_proper = ~(high_fee | will_stuck)\n",
    "    return is_proper.sum() / is_proper.shape[0]"
   ]
  },
  {
   "cell_type": "markdown",
   "id": "d45d7476",
   "metadata": {},
   "source": [
    "### The Grid Search magic happens here"
   ]
  },
  {
   "cell_type": "code",
   "execution_count": null,
   "id": "513d9751",
   "metadata": {},
   "outputs": [],
   "source": [
    "grid = {\n",
    "    'n_estimators': np.arange(100, 1000, 100)\n",
    "}\n",
    "model = RandomForestRegressor()\n",
    "split = TimeSeriesSplit(n_splits=10).split(train_X, train_y)\n",
    "search = GridSearchCV(model, grid, cv=split, scoring=lmfao, verbose=10)"
   ]
  },
  {
   "cell_type": "code",
   "execution_count": null,
   "id": "7eb760b3",
   "metadata": {},
   "outputs": [],
   "source": [
    "search.fit(train_X, train_y)"
   ]
  },
  {
   "cell_type": "markdown",
   "id": "b3d450a1",
   "metadata": {},
   "source": [
    "### Some explanations - how often does gas price change?"
   ]
  },
  {
   "cell_type": "code",
   "execution_count": null,
   "id": "a760ac0c",
   "metadata": {},
   "outputs": [],
   "source": [
    "eli5.explain_weights(search.best_estimator_, feature_names=train_X.columns.tolist())"
   ]
  },
  {
   "cell_type": "markdown",
   "id": "9a1b024e",
   "metadata": {},
   "source": [
    "### Visualization of predictions"
   ]
  },
  {
   "cell_type": "code",
   "execution_count": null,
   "id": "51e1102c",
   "metadata": {},
   "outputs": [],
   "source": [
    "predicted_test_y = pd.DataFrame(search.predict(test_X), index=test_y.index)"
   ]
  },
  {
   "cell_type": "code",
   "execution_count": null,
   "id": "b7eea215",
   "metadata": {},
   "outputs": [],
   "source": [
    "plt.plot(test_y, label=\"Median fee\", color=\"green\")\n",
    "plt.plot(predicted_test_y, label=\"Predicted fee\", color=\"blue\")\n",
    "plt.plot(test_y + GWEI_THRESHOLD, label=\"Too high fee\", color=\"red\")\n",
    "plt.plot(test_y.index, low_price.loc[test_X[\"block\"]].tolist(), label=\"Too low fee\", color=\"red\")\n",
    "plt.ylim((-3, 20))\n",
    "plt.legend()"
   ]
  },
  {
   "cell_type": "code",
   "execution_count": null,
   "id": "38796328",
   "metadata": {},
   "outputs": [],
   "source": [
    "lmfao(search, test_X, test_y)"
   ]
  },
  {
   "cell_type": "markdown",
   "id": "d3811338",
   "metadata": {},
   "source": [
    "Seems like this estimator can predict gas price of common ethereum transaction with 98% LMFAO. \n",
    "\n",
    "If you want to improve this result, you are welcome ;)"
   ]
  }
 ],
 "metadata": {},
 "nbformat": 4,
 "nbformat_minor": 5
}
