{
 "cells": [
  {
   "cell_type": "code",
   "execution_count": null,
   "id": "43ff49e7",
   "metadata": {},
   "outputs": [],
   "source": [
    "import pandas as pd\n",
    "import numpy as np\n",
    "import matplotlib.pyplot as plt\n",
    "from datetime import datetime\n",
    "import time\n",
    "from sklearn.model_selection import GridSearchCV\n",
    "from sklearn.metrics import confusion_matrix, average_precision_score, f1_score, roc_curve, auc\n",
    "from sklearn.metrics import precision_recall_curve\n",
    "import seaborn as sns; sns.set()\n",
    "sns.set_style('whitegrid')\n",
    "sns.set_palette('Set2')\n",
    "%matplotlib inline\n",
    "import xgboost as xgb\n",
    "from xgboost import XGBClassifier\n",
    "from sklearn.metrics import accuracy_score"
   ]
  },
  {
   "cell_type": "markdown",
   "id": "f53fc44e",
   "metadata": {},
   "source": [
    "# Define Helper Functions"
   ]
  },
  {
   "cell_type": "code",
   "execution_count": null,
   "id": "0a0e17c1",
   "metadata": {},
   "outputs": [],
   "source": [
    "def probability_to_label(probabilities, threshold=0.5):\n",
    "    probabilities = list(probabilities)\n",
    "    th = threshold\n",
    "    predictions = [1 if i > th else 0 for i in probabilities]\n",
    "    return predictions"
   ]
  },
  {
   "cell_type": "code",
   "execution_count": null,
   "id": "d0e7bc14",
   "metadata": {},
   "outputs": [],
   "source": [
    "def plot_cm(y_true, y_pred,\n",
    "                          title='Confusion Matrix',\n",
    "                          cmap=plt.cm.Blues):\n",
    "    sns.set_style('white')\n",
    "    \n",
    "    cm = confusion_matrix(y_test, y_pred)\n",
    "    cm = cm.astype('float') / cm.sum(axis=1)[:, np.newaxis] # normarlize \n",
    "    \n",
    "    from sklearn.utils.multiclass import unique_labels\n",
    "    classes = unique_labels(y_true, y_pred)\n",
    "    \n",
    "    fig, ax = plt.subplots()\n",
    "    im = ax.imshow(cm, interpolation='nearest', cmap=cmap)\n",
    "    ax.figure.colorbar(im, ax=ax)\n",
    "    # We want to show all ticks...\n",
    "    ax.set(xticks=np.arange(cm.shape[1]),\n",
    "           yticks=np.arange(cm.shape[0]),\n",
    "           # ... and label them with the respective list entries\n",
    "           xticklabels=classes, yticklabels=classes,\n",
    "           title=title,\n",
    "           ylabel='True label',\n",
    "           xlabel='Predicted label')\n",
    "\n",
    "    # Rotate the tick labels and set their alignment.\n",
    "    plt.setp(ax.get_xticklabels(), rotation=45, ha=\"right\",\n",
    "             rotation_mode=\"anchor\")\n",
    "    # Loop over data dimensions and create text annotations.\n",
    "    fmt = '.2f' \n",
    "    thresh = cm.max() / 2.\n",
    "    for i in range(cm.shape[0]):\n",
    "        for j in range(cm.shape[1]):\n",
    "            ax.text(j, i, format(cm[i, j], fmt),\n",
    "                    ha=\"center\", va=\"center\",\n",
    "                    color=\"white\" if cm[i, j] > thresh else \"black\")\n",
    "    fig.tight_layout()\n",
    "    \n",
    "    pass"
   ]
  },
  {
   "cell_type": "code",
   "execution_count": null,
   "id": "51dcdcdc",
   "metadata": {},
   "outputs": [],
   "source": [
    "def Imp_of_fea(name,weight):\n",
    "    import operator\n",
    "    import collections\n",
    "    dic = dict(zip(name,weight))\n",
    "    key_drop = [k for k in dic.keys() if  k == 'icustay_age_group']\n",
    "    for k in key_drop:\n",
    "        del dic[k]\n",
    "    dic = sorted(dic.items(), key=operator.itemgetter(1))\n",
    "    sorted_dict = collections.OrderedDict(dic)\n",
    "    plt.style.use('seaborn-darkgrid')\n",
    "    plt.figure(figsize=(5,20))\n",
    "    plt.barh(list(sorted_dict.keys()),list(sorted_dict.values()))\n",
    "    plt.title('Importance of features in 30 day mortality')"
   ]
  },
  {
   "cell_type": "code",
   "execution_count": null,
   "id": "5dde66bf",
   "metadata": {},
   "outputs": [],
   "source": [
    "def plot_ROC(fpr, tpr, auc, title = 'ROC curve'):\n",
    "    sns.set_style('whitegrid')\n",
    "    plt.plot([0, 1], [0, 1], 'k--')\n",
    "    plt.plot(fpr, tpr, label=' (AUC = {:.3f})'.format(auc))\n",
    "    plt.xlabel('False positive rate')\n",
    "    plt.ylabel('True positive rate')\n",
    "    plt.title(title)\n",
    "    plt.legend(loc='best')\n",
    "    plt.show()\n",
    "    pass"
   ]
  },
  {
   "cell_type": "code",
   "execution_count": null,
   "id": "ef4eb764",
   "metadata": {},
   "outputs": [],
   "source": [
    "def plot_PRC(precision, recall, ap, title= 'Precision-Recall Curve '):\n",
    "    sns.set_style('whitegrid')\n",
    "\n",
    "    plt.figure\n",
    "#     plot(result5_1[0], result5_1[1],linestyle = \"-\", color = 'C0')#,label = 'AUC = %0.2f' % result5_1[3])\n",
    "    plt.plot(recall, precision, lw=2, label='AP = %0.4f' % ap )\n",
    "    plt.xlabel('Recall')\n",
    "    plt.ylabel('Precision')\n",
    "    plt.title(title)\n",
    "    plt.legend(loc=\"best\")\n",
    "#     plt.show()\n",
    "    return "
   ]
  },
  {
   "cell_type": "code",
   "execution_count": null,
   "id": "de436a74",
   "metadata": {},
   "outputs": [],
   "source": [
    "def get_weights(y):\n",
    "    zeros = y[y==0].shape[0]\n",
    "    ones = y[y==1].shape[0]\n",
    "    weight = np.array([zeros, ones])*1.0/y.shape[0]\n",
    "    y = np.where(y==0,weight[1],y)\n",
    "    y = np.where(y==1,weight[0],y)\n",
    "    return y"
   ]
  },
  {
   "cell_type": "markdown",
   "id": "40c28f4e",
   "metadata": {},
   "source": [
    "## Load Data"
   ]
  },
  {
   "cell_type": "code",
   "execution_count": null,
   "id": "ddb966ee",
   "metadata": {},
   "outputs": [],
   "source": [
    "%run LoadData1Y.ipynb"
   ]
  },
  {
   "cell_type": "code",
   "execution_count": null,
   "id": "cfd992da",
   "metadata": {},
   "outputs": [],
   "source": [
    "X_train.head()"
   ]
  },
  {
   "cell_type": "code",
   "execution_count": null,
   "id": "2c1aa1c2",
   "metadata": {},
   "outputs": [],
   "source": [
    "y_train.head()"
   ]
  },
  {
   "cell_type": "markdown",
   "id": "a7260765",
   "metadata": {},
   "source": [
    "# Xgboost Decision Tree"
   ]
  },
  {
   "cell_type": "markdown",
   "id": "043f1a76",
   "metadata": {},
   "source": [
    "### Apply SearchGrid Cross Validation"
   ]
  },
  {
   "cell_type": "code",
   "execution_count": null,
   "id": "b84bf54a",
   "metadata": {},
   "outputs": [],
   "source": [
    "param_grid = { \n",
    "    'learning_rate' : list(np.linspace(0.1,0.5,5)),\n",
    "    'n_estimators'  : list(np.logspace(1,3,3).astype(int))\n",
    "}\n",
    "model = GridSearchCV(\n",
    "    estimator = XGBClassifier(verbosity=2),\n",
    "    param_grid = param_grid,\n",
    "    n_jobs = -1,\n",
    "    verbose = 3,\n",
    "    scoring = 'accuracy',\n",
    "    cv = 5\n",
    ").fit(X_train,y_train,get_weights(y_train.values))"
   ]
  },
  {
   "cell_type": "code",
   "execution_count": null,
   "id": "02573697",
   "metadata": {},
   "outputs": [],
   "source": [
    "best_model = model.best_estimator_\n",
    "ypred = best_model.predict_proba(X_test)\n",
    "np.savetxt(\"plot metric/y_score_1y_xgboost.csv\", ypred[:,1], delimiter=\",\")"
   ]
  },
  {
   "cell_type": "markdown",
   "id": "ba5edd9e",
   "metadata": {},
   "source": [
    "### Accuracy Score"
   ]
  },
  {
   "cell_type": "code",
   "execution_count": null,
   "id": "cd2a5509",
   "metadata": {},
   "outputs": [],
   "source": [
    "best_model.score(X_test,y_test)"
   ]
  },
  {
   "cell_type": "markdown",
   "id": "2cc6c3e5",
   "metadata": {},
   "source": [
    "### Importance of Features"
   ]
  },
  {
   "cell_type": "code",
   "execution_count": null,
   "id": "501681d9",
   "metadata": {},
   "outputs": [],
   "source": [
    "%run ImportPlotFunctions.ipynb\n",
    "name = X_train.columns\n",
    "weight = best_model.feature_importances_\n",
    "feature_importance_bar(name,weight,drop_botn = 45)"
   ]
  },
  {
   "cell_type": "markdown",
   "id": "3132116c",
   "metadata": {},
   "source": [
    "### Confusion Matrix"
   ]
  },
  {
   "cell_type": "code",
   "execution_count": null,
   "id": "43fcbeea",
   "metadata": {},
   "outputs": [],
   "source": [
    "ypred_label =  probability_to_label(ypred[:,1], threshold=0.5)\n",
    "plot_cm(y_test, ypred_label)"
   ]
  },
  {
   "cell_type": "markdown",
   "id": "83ee501d",
   "metadata": {},
   "source": [
    "### ROC Curve and AUC"
   ]
  },
  {
   "cell_type": "code",
   "execution_count": null,
   "id": "9e9600ac",
   "metadata": {},
   "outputs": [],
   "source": [
    "fpr, tpr, thresholds = roc_curve(y_test, ypred[:,1])\n",
    "yauc = auc(fpr,tpr)\n",
    "plot_ROC(fpr, tpr, yauc)"
   ]
  },
  {
   "cell_type": "markdown",
   "id": "34d8328d",
   "metadata": {},
   "source": [
    "### PRC Curve"
   ]
  },
  {
   "cell_type": "code",
   "execution_count": null,
   "id": "096b4e68",
   "metadata": {},
   "outputs": [],
   "source": [
    "avg_prec = average_precision_score(y_test, ypred_label)\n",
    "prec, recall,_ = precision_recall_curve(y_test,ypred[:,1])\n",
    "plot_PRC(prec, recall, avg_prec, title= 'Precision-Recall Curve ')"
   ]
  },
  {
   "cell_type": "markdown",
   "id": "c09877bd",
   "metadata": {},
   "source": [
    "### F1 Score"
   ]
  },
  {
   "cell_type": "code",
   "execution_count": null,
   "id": "12438208",
   "metadata": {},
   "outputs": [],
   "source": [
    "f1_score(y_test,ypred_label)"
   ]
  }
 ],
 "metadata": {},
 "nbformat": 4,
 "nbformat_minor": 5
}
