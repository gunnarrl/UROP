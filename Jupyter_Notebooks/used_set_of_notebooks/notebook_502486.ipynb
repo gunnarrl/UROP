{
 "cells": [
  {
   "cell_type": "markdown",
   "id": "774a626f",
   "metadata": {},
   "source": [
    "# Desafio 5\n",
    "\n",
    "Neste desafio, vamos praticar sobre redução de dimensionalidade com PCA e seleção de variáveis com RFE. Utilizaremos o _data set_ [Fifa 2019](https://www.kaggle.com/karangadiya/fifa19), contendo originalmente 89 variáveis de mais de 18 mil jogadores do _game_ FIFA 2019.\n",
    "\n",
    "> Obs.: Por favor, não modifique o nome das funções de resposta."
   ]
  },
  {
   "cell_type": "markdown",
   "id": "3c5e4572",
   "metadata": {},
   "source": [
    "## _Setup_ geral"
   ]
  },
  {
   "cell_type": "code",
   "execution_count": null,
   "id": "cded0103",
   "metadata": {},
   "outputs": [],
   "source": [
    "from math import sqrt\n",
    "\n",
    "import pandas as pd\n",
    "import matplotlib.pyplot as plt\n",
    "import numpy as np\n",
    "import scipy.stats as sct\n",
    "import seaborn as sns\n",
    "import statsmodels.api as sm\n",
    "import statsmodels.stats as st\n",
    "from sklearn.decomposition import PCA\n",
    "from loguru import logger\n"
   ]
  },
  {
   "cell_type": "code",
   "execution_count": null,
   "id": "d8110832",
   "metadata": {},
   "outputs": [],
   "source": [
    "# Algumas configurações para o matplotlib.\n",
    "#%matplotlib inline\n",
    "\n",
    "#from IPython.core.pylabtools import figsize\n",
    "\n",
    "\n",
    "#figsize(12, 8)\n",
    "\n",
    "#sns.set()"
   ]
  },
  {
   "cell_type": "code",
   "execution_count": null,
   "id": "6e35e6eb",
   "metadata": {},
   "outputs": [],
   "source": [
    "fifa = pd.read_csv(\"fifa.csv\")"
   ]
  },
  {
   "cell_type": "code",
   "execution_count": null,
   "id": "cff4e499",
   "metadata": {},
   "outputs": [],
   "source": [
    "columns_to_drop = [\"Unnamed: 0\", \"ID\", \"Name\", \"Photo\", \"Nationality\", \"Flag\",\n",
    "                   \"Club\", \"Club Logo\", \"Value\", \"Wage\", \"Special\", \"Preferred Foot\",\n",
    "                   \"International Reputation\", \"Weak Foot\", \"Skill Moves\", \"Work Rate\",\n",
    "                   \"Body Type\", \"Real Face\", \"Position\", \"Jersey Number\", \"Joined\",\n",
    "                   \"Loaned From\", \"Contract Valid Until\", \"Height\", \"Weight\", \"LS\",\n",
    "                   \"ST\", \"RS\", \"LW\", \"LF\", \"CF\", \"RF\", \"RW\", \"LAM\", \"CAM\", \"RAM\", \"LM\",\n",
    "                   \"LCM\", \"CM\", \"RCM\", \"RM\", \"LWB\", \"LDM\", \"CDM\", \"RDM\", \"RWB\", \"LB\", \"LCB\",\n",
    "                   \"CB\", \"RCB\", \"RB\", \"Release Clause\"\n",
    "]\n",
    "\n",
    "try:\n",
    "    fifa.drop(columns_to_drop, axis=1, inplace=True)\n",
    "except KeyError:\n",
    "    logger.warning(f\"Columns already dropped\")"
   ]
  },
  {
   "cell_type": "markdown",
   "id": "c7356aac",
   "metadata": {},
   "source": [
    "## Inicia sua análise a partir daqui"
   ]
  },
  {
   "cell_type": "code",
   "execution_count": null,
   "id": "f827ed1b",
   "metadata": {},
   "outputs": [],
   "source": [
    "# Sua análise começa aqui.\n",
    "fifa.head()"
   ]
  },
  {
   "cell_type": "code",
   "execution_count": null,
   "id": "be4167b4",
   "metadata": {},
   "outputs": [],
   "source": [
    "fifa.columns"
   ]
  },
  {
   "cell_type": "code",
   "execution_count": null,
   "id": "cf28a27b",
   "metadata": {},
   "outputs": [],
   "source": [
    "fifa.info()"
   ]
  },
  {
   "cell_type": "code",
   "execution_count": null,
   "id": "84a4a4f5",
   "metadata": {},
   "outputs": [],
   "source": [
    "#existem poucas rows com valor null e decidi exclui-las\n",
    "fifa_notNull = fifa.dropna()"
   ]
  },
  {
   "cell_type": "code",
   "execution_count": null,
   "id": "e4e3d92a",
   "metadata": {},
   "outputs": [],
   "source": [
    "fifa.shape # "
   ]
  },
  {
   "cell_type": "code",
   "execution_count": null,
   "id": "6ddc2ecb",
   "metadata": {},
   "outputs": [],
   "source": [
    "#dropna 48 rows\n",
    "fifa_notNull.shape "
   ]
  },
  {
   "cell_type": "code",
   "execution_count": null,
   "id": "f73fb0a3",
   "metadata": {},
   "outputs": [],
   "source": [
    "#instanciando o PCA\n",
    "pca = PCA()"
   ]
  },
  {
   "cell_type": "markdown",
   "id": "63fb8eeb",
   "metadata": {},
   "source": [
    "## Questão 1\n",
    "\n",
    "Qual fração da variância consegue ser explicada pelo primeiro componente principal de `fifa`? Responda como um único float (entre 0 e 1) arredondado para três casas decimais."
   ]
  },
  {
   "cell_type": "code",
   "execution_count": null,
   "id": "a05a0762",
   "metadata": {},
   "outputs": [],
   "source": [
    "#verificando variancia de componentes\n",
    "pca.fit_transform(fifa_notNull) \n",
    "evr = pca.explained_variance_ratio_\n",
    "type(evr[0])"
   ]
  },
  {
   "cell_type": "code",
   "execution_count": null,
   "id": "f00b7c7b",
   "metadata": {},
   "outputs": [],
   "source": [
    "def q1():\n",
    "    return float(evr[0].round(3))"
   ]
  },
  {
   "cell_type": "code",
   "execution_count": null,
   "id": "00816383",
   "metadata": {},
   "outputs": [],
   "source": [
    "g = sns.lineplot(np.arange(len(evr)), np.cumsum(evr))\n",
    "g.axes.axhline(0.95, ls=\"--\", color=\"red\")\n",
    "plt.xlabel('Number of components')\n",
    "plt.ylabel('Cumulative explained variance');"
   ]
  },
  {
   "cell_type": "code",
   "execution_count": null,
   "id": "661b44b0",
   "metadata": {},
   "outputs": [],
   "source": [
    "#número de componentes necessários para explicar 95% da variância total:\n",
    "cumulative_variance_ratio = np.cumsum(pca.explained_variance_ratio_)\n",
    "component_number_var_95 = np.argmax(cumulative_variance_ratio >= 0.95) + 1 \n",
    "type(component_number_var_95)"
   ]
  },
  {
   "cell_type": "markdown",
   "id": "876b7763",
   "metadata": {},
   "source": [
    "## Questão 2\n",
    "\n",
    "Quantos componentes principais precisamos para explicar 95% da variância total? Responda como un único escalar inteiro."
   ]
  },
  {
   "cell_type": "code",
   "execution_count": null,
   "id": "3b78ddce",
   "metadata": {},
   "outputs": [],
   "source": [
    "def q2():\n",
    "    return int(component_number_var_95)"
   ]
  },
  {
   "cell_type": "markdown",
   "id": "d6a16f19",
   "metadata": {},
   "source": [
    "## Questão 3\n",
    "\n",
    "Qual são as coordenadas (primeiro e segundo componentes principais) do ponto `x` abaixo? O vetor abaixo já está centralizado. Cuidado para __não__ centralizar o vetor novamente (por exemplo, invocando `PCA.transform()` nele). Responda como uma tupla de float arredondados para três casas decimais."
   ]
  },
  {
   "cell_type": "code",
   "execution_count": null,
   "id": "cd2d9c6a",
   "metadata": {},
   "outputs": [],
   "source": [
    "x = [0.87747123,  -1.24990363,  -1.3191255, -36.7341814,\n",
    "     -35.55091139, -37.29814417, -28.68671182, -30.90902583,\n",
    "     -42.37100061, -32.17082438, -28.86315326, -22.71193348,\n",
    "     -38.36945867, -20.61407566, -22.72696734, -25.50360703,\n",
    "     2.16339005, -27.96657305, -33.46004736,  -5.08943224,\n",
    "     -30.21994603,   3.68803348, -36.10997302, -30.86899058,\n",
    "     -22.69827634, -37.95847789, -22.40090313, -30.54859849,\n",
    "     -26.64827358, -19.28162344, -34.69783578, -34.6614351,\n",
    "     48.38377664,  47.60840355,  45.76793876,  44.61110193,\n",
    "     49.28911284\n",
    "]"
   ]
  },
  {
   "cell_type": "code",
   "execution_count": null,
   "id": "f79c4070",
   "metadata": {},
   "outputs": [],
   "source": [
    "pca_2 = PCA(n_components=2)\n",
    "pca_2.fit(fifa_notNull) \n",
    "answer = np.dot(pca_2.components_,x)\n",
    "(float(answer[0].round(3)),float(answer[1].round(3)))"
   ]
  },
  {
   "cell_type": "code",
   "execution_count": null,
   "id": "e50b5a50",
   "metadata": {},
   "outputs": [],
   "source": [
    "def q3():\n",
    "    return (float(answer[0].round(3)),float(answer[1].round(3)))"
   ]
  },
  {
   "cell_type": "markdown",
   "id": "34bedc44",
   "metadata": {},
   "source": [
    "## Questão 4\n",
    "\n",
    "Realiza RFE com estimador de regressão linear para selecionar cinco variáveis, eliminando uma a uma. Quais são as variáveis selecionadas? Responda como uma lista de nomes de variáveis."
   ]
  },
  {
   "cell_type": "code",
   "execution_count": null,
   "id": "1c1f77aa",
   "metadata": {},
   "outputs": [],
   "source": [
    "from sklearn.linear_model import LinearRegression\n",
    "from sklearn.feature_selection import RFE\n"
   ]
  },
  {
   "cell_type": "code",
   "execution_count": null,
   "id": "e6bc3e27",
   "metadata": {},
   "outputs": [],
   "source": [
    "x = fifa_notNull.drop(columns='Overall')\n",
    "y = fifa_notNull['Overall']\n",
    "\n",
    "reg = LinearRegression()\n",
    "rfe = RFE(reg, 5)\n",
    "    \n",
    "est = rfe.fit(x,y)\n",
    "list(x.columns[est.support_])"
   ]
  },
  {
   "cell_type": "code",
   "execution_count": null,
   "id": "fa95dca2",
   "metadata": {},
   "outputs": [],
   "source": [
    "def q4():\n",
    "   return list(x.columns[est.support_])"
   ]
  }
 ],
 "metadata": {},
 "nbformat": 4,
 "nbformat_minor": 5
}
