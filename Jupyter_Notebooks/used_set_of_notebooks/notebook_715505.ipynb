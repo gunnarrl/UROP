{
 "cells": [
  {
   "cell_type": "markdown",
   "id": "7598aa13",
   "metadata": {},
   "source": [
    "# Types\n",
    "We have already encountered types - we have talked about integers, strings, lists and so on, but without examining them in any depth.\n",
    "But python supports expressions that deal with types of values just as well as with the values themselves:    "
   ]
  },
  {
   "cell_type": "code",
   "execution_count": null,
   "id": "4812b8bc",
   "metadata": {},
   "outputs": [],
   "source": [
    "type(1) == type(2)"
   ]
  },
  {
   "cell_type": "code",
   "execution_count": null,
   "id": "91c89c52",
   "metadata": {},
   "outputs": [],
   "source": [
    "type(1.0) == type(2)"
   ]
  },
  {
   "cell_type": "code",
   "execution_count": null,
   "id": "9a41328c",
   "metadata": {},
   "outputs": [],
   "source": [
    "type(2)"
   ]
  },
  {
   "cell_type": "code",
   "execution_count": null,
   "id": "9c933010",
   "metadata": {},
   "outputs": [],
   "source": [
    "type(1.0)"
   ]
  },
  {
   "cell_type": "code",
   "execution_count": null,
   "id": "dcf1a98c",
   "metadata": {},
   "outputs": [],
   "source": [
    "type(\"1\")"
   ]
  },
  {
   "cell_type": "code",
   "execution_count": null,
   "id": "eea3397e",
   "metadata": {},
   "outputs": [],
   "source": [
    "type(\"Hello\")"
   ]
  },
  {
   "cell_type": "code",
   "execution_count": null,
   "id": "2a81ef58",
   "metadata": {},
   "outputs": [],
   "source": [
    "type(True)"
   ]
  },
  {
   "cell_type": "code",
   "execution_count": null,
   "id": "a977d959",
   "metadata": {},
   "outputs": [],
   "source": [
    "type([1, 2])"
   ]
  },
  {
   "cell_type": "markdown",
   "id": "9cf56a73",
   "metadata": {},
   "source": [
    "Types can be assigned to variables"
   ]
  },
  {
   "cell_type": "code",
   "execution_count": null,
   "id": "3f9db480",
   "metadata": {},
   "outputs": [],
   "source": [
    "oneType = type(\"1\")"
   ]
  },
  {
   "cell_type": "markdown",
   "id": "bb561b83",
   "metadata": {},
   "source": [
    "In fact, types are values just like any other value. You can even enquire the type of a type!"
   ]
  },
  {
   "cell_type": "code",
   "execution_count": null,
   "id": "dad8eec6",
   "metadata": {},
   "outputs": [],
   "source": [
    "type(type(1))"
   ]
  },
  {
   "cell_type": "markdown",
   "id": "e3d1d177",
   "metadata": {},
   "source": [
    "And, this type too, has a type:"
   ]
  },
  {
   "cell_type": "code",
   "execution_count": null,
   "id": "f380aef4",
   "metadata": {},
   "outputs": [],
   "source": [
    "type(type(type(1)))"
   ]
  },
  {
   "cell_type": "markdown",
   "id": "51987532",
   "metadata": {},
   "source": [
    "The type of the type type, is type type! Very typical! (Ok, you get to groan now :P)\n",
    "\n",
    "## Creating our own types"
   ]
  },
  {
   "cell_type": "code",
   "execution_count": null,
   "id": "daaa8aa7",
   "metadata": {},
   "outputs": [],
   "source": [
    "class Apple(object):\n",
    "    pass"
   ]
  },
  {
   "cell_type": "code",
   "execution_count": null,
   "id": "c6b5474e",
   "metadata": {},
   "outputs": [],
   "source": [
    "type(Apple)"
   ]
  },
  {
   "cell_type": "code",
   "execution_count": null,
   "id": "afe7f89b",
   "metadata": {},
   "outputs": [],
   "source": [
    "apple1 = Apple()"
   ]
  },
  {
   "cell_type": "code",
   "execution_count": null,
   "id": "8afca79e",
   "metadata": {},
   "outputs": [],
   "source": [
    "type(apple1)"
   ]
  },
  {
   "cell_type": "markdown",
   "id": "12a24242",
   "metadata": {},
   "source": [
    "Custom objects like our apple1 functions kind of like containers for variables - you can store multiple values inside them, giving each a name:"
   ]
  },
  {
   "cell_type": "code",
   "execution_count": null,
   "id": "72bc76a3",
   "metadata": {},
   "outputs": [],
   "source": [
    "apple1.weight = 3\n",
    "apple1.cost = 45\n",
    "print(apple1.weight)"
   ]
  },
  {
   "cell_type": "markdown",
   "id": "eb8b5abb",
   "metadata": {},
   "source": [
    "## Methods provide new functionality"
   ]
  },
  {
   "cell_type": "code",
   "execution_count": null,
   "id": "df9206b3",
   "metadata": {},
   "outputs": [],
   "source": [
    "class Basket(object):\n",
    "    def __init__(self):\n",
    "        self.weight = 0\n",
    "    def add_content(self, item):\n",
    "        self.weight = self.weight + item\n",
    "    def get_content(self):\n",
    "        return self.weight\n",
    "\n",
    "my_basket = Basket()\n",
    "my_basket.add_content(4)\n",
    "my_basket.add_content(1)\n",
    "print(my_basket.get_content())\n",
    "print(my_basket.get_content() + 3)"
   ]
  },
  {
   "cell_type": "markdown",
   "id": "28a56c2c",
   "metadata": {},
   "source": [
    "The first parameter, usually named **self**, is a special parameter that's allways present - it contains the current object, in this case **my_basket**.\n",
    "\n",
    "The special method __init__ is called automatically when an instance is created (when you run Basket()).\n",
    "\n",
    "As we can see above, indentation matters. Python does not have some special block begin/end markers, like { and } in c, or if and fi in bash."
   ]
  },
  {
   "cell_type": "markdown",
   "id": "f285b545",
   "metadata": {},
   "source": [
    "## Flow control\n",
    "Doing things only if some condition is True:"
   ]
  },
  {
   "cell_type": "code",
   "execution_count": null,
   "id": "0f105ead",
   "metadata": {},
   "outputs": [],
   "source": [
    "if 1 == 2:\n",
    "    print(\"Impossible!\")\n",
    "else:\n",
    "    print(\"You knew this would happen, right?\")"
   ]
  },
  {
   "cell_type": "markdown",
   "id": "b2d6c98c",
   "metadata": {},
   "source": [
    "Doing things for each item in a list:"
   ]
  },
  {
   "cell_type": "code",
   "execution_count": null,
   "id": "fa86efab",
   "metadata": {},
   "outputs": [],
   "source": [
    "for item in [1, 2, 3, 4]:\n",
    "    print(item*2)"
   ]
  },
  {
   "cell_type": "markdown",
   "id": "93bea930",
   "metadata": {},
   "source": [
    "Doing things over and over as long as some condition is True"
   ]
  },
  {
   "cell_type": "code",
   "execution_count": null,
   "id": "2ee7825c",
   "metadata": {},
   "outputs": [],
   "source": [
    "x = 1\n",
    "while x < 100:\n",
    "    print(x)\n",
    "    x = x * 2"
   ]
  },
  {
   "cell_type": "markdown",
   "id": "6880635d",
   "metadata": {},
   "source": [
    "# Modules\n",
    "We've now started writing complicated enough code that copy-pasting it into the prompt over and over is a bit cumbersome, and soon it will also be hard to organize the growing amount of code.\n",
    "\n",
    "The Basket class above can be placed inside a file called **basket.py**. This file casn then be loaded from python using the **import** statement:"
   ]
  },
  {
   "cell_type": "code",
   "execution_count": null,
   "id": "d7c42d9e",
   "metadata": {},
   "outputs": [],
   "source": [
    "import basket\n",
    "basket1 = basket.Basket()\n",
    "basket1.add_content(5)\n",
    "basket1.add_content(10)\n",
    "print(basket1.get_content())"
   ]
  },
  {
   "cell_type": "markdown",
   "id": "c4f68eb0",
   "metadata": {},
   "source": [
    "Note the **basket.Basket()**. The import call assigns a *module object* to a variable with the same name as the module. All the global variables created inside the module file are available as attributes on the **module object**, in this case the **Basket** class.\n",
    "\n",
    "Realoading an already loaded module (to load any changes to the file):"
   ]
  },
  {
   "cell_type": "code",
   "execution_count": null,
   "id": "f026f5ed",
   "metadata": {},
   "outputs": [],
   "source": [
    "import imp\n",
    "imp.reload(basket)"
   ]
  }
 ],
 "metadata": {},
 "nbformat": 4,
 "nbformat_minor": 5
}
