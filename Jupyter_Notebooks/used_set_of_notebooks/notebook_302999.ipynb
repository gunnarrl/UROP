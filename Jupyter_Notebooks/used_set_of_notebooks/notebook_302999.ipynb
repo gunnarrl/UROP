{
 "cells": [
  {
   "cell_type": "markdown",
   "id": "f08339ce",
   "metadata": {},
   "source": [
    "# Intro to machine learning - k-means\n",
    "---\n"
   ]
  },
  {
   "cell_type": "markdown",
   "id": "2a5f6d01",
   "metadata": {},
   "source": [
    "Scikit-learn has a nice set of unsupervised learning routines which can be used to explore clustering in the parameter space.\n",
    "\n",
    "In this notebook we will use k-means, included in Scikit-learn, to demonstrate how the different rocks occupy different regions in the available parameter space.\n",
    "\n",
    "Let's load the data using pandas:"
   ]
  },
  {
   "cell_type": "code",
   "execution_count": null,
   "id": "affbe8c7",
   "metadata": {},
   "outputs": [],
   "source": [
    "import pandas as pd\n",
    "import numpy as np"
   ]
  },
  {
   "cell_type": "code",
   "execution_count": null,
   "id": "76587307",
   "metadata": {},
   "outputs": [],
   "source": [
    "df = pd.read_csv(\"../data/2016_ML_contest_training_data.csv\")\n",
    "df.head()"
   ]
  },
  {
   "cell_type": "code",
   "execution_count": null,
   "id": "8305e89a",
   "metadata": {},
   "outputs": [],
   "source": [
    "df.describe()"
   ]
  },
  {
   "cell_type": "code",
   "execution_count": null,
   "id": "732cfd5c",
   "metadata": {},
   "outputs": [],
   "source": [
    "df = df.dropna()"
   ]
  },
  {
   "cell_type": "markdown",
   "id": "4f1f4e06",
   "metadata": {},
   "source": [
    "## Calculate RHOB from DeltaPHI and PHIND"
   ]
  },
  {
   "cell_type": "code",
   "execution_count": null,
   "id": "d9331773",
   "metadata": {},
   "outputs": [],
   "source": [
    "def rhob(phi_rhob, Rho_matrix= 2650.0, Rho_fluid=1000.0):\n",
    "    \"\"\"\n",
    "    Rho_matrix (sandstone) : 2.65 g/cc\n",
    "    Rho_matrix (Limestome): 2.71 g/cc\n",
    "    Rho_matrix (Dolomite): 2.876 g/cc\n",
    "    Rho_matrix (Anyhydrite): 2.977 g/cc\n",
    "    Rho_matrix (Salt): 2.032 g/cc\n",
    "\n",
    "    Rho_fluid (fresh water): 1.0 g/cc (is this more mud-like?)\n",
    "    Rho_fluid (salt water): 1.1 g/cc\n",
    "    see wiki.aapg.org/Density-neutron_log_porosity\n",
    "    returns density porosity log \"\"\"\n",
    "    \n",
    "    return Rho_matrix*(1 - phi_rhob) + Rho_fluid*phi_rhob\n"
   ]
  },
  {
   "cell_type": "code",
   "execution_count": null,
   "id": "cdceb21a",
   "metadata": {},
   "outputs": [],
   "source": [
    "phi_rhob = 2*(df.PHIND/100)/(1 - df.DeltaPHI/100) - df.DeltaPHI/100\n",
    "calc_RHOB = rhob(phi_rhob)\n",
    "df['RHOB'] = calc_RHOB"
   ]
  },
  {
   "cell_type": "code",
   "execution_count": null,
   "id": "85e12690",
   "metadata": {},
   "outputs": [],
   "source": [
    "df.describe()"
   ]
  },
  {
   "cell_type": "markdown",
   "id": "90a994cd",
   "metadata": {},
   "source": [
    "We can define a Python dictionary to relate facies with the integer label on the `DataFrame`"
   ]
  },
  {
   "cell_type": "code",
   "execution_count": null,
   "id": "cb0f772f",
   "metadata": {},
   "outputs": [],
   "source": [
    "facies_dict = {1:'sandstone', 2:'c_siltstone', 3:'f_siltstone', 4:'marine_silt_shale',\n",
    "               5:'mudstone', 6:'wackentstone', 7:'dolomite', 8:'packstone', 9:'bafflestone'}"
   ]
  },
  {
   "cell_type": "code",
   "execution_count": null,
   "id": "c052959c",
   "metadata": {},
   "outputs": [],
   "source": [
    "df[\"s_Facies\"] = df.Facies.map(lambda x: facies_dict[x])"
   ]
  },
  {
   "cell_type": "code",
   "execution_count": null,
   "id": "88ce1b3a",
   "metadata": {},
   "outputs": [],
   "source": [
    "df.head()"
   ]
  },
  {
   "cell_type": "markdown",
   "id": "0f1eb72d",
   "metadata": {},
   "source": [
    "We can easily visualize the properties of each facies and how they compare using a `PairPlot`. The library `seaborn` integrates with matplotlib to make these kind of plots easily."
   ]
  },
  {
   "cell_type": "code",
   "execution_count": null,
   "id": "a88472d8",
   "metadata": {},
   "outputs": [],
   "source": [
    "import seaborn as sns\n",
    "import matplotlib.pyplot as plt\n",
    "%matplotlib inline\n",
    "\n",
    "g = sns.PairGrid(df, hue=\"s_Facies\", vars=['GR','RHOB','PE','ILD_log10'], size=4)\n",
    "\n",
    "g.map_upper(plt.scatter,**dict(alpha=0.4))  \n",
    "g.map_lower(plt.scatter,**dict(alpha=0.4))\n",
    "g.map_diag(plt.hist,**dict(bins=20))  \n",
    "g.add_legend()\n",
    "g.set(alpha=0.5)"
   ]
  },
  {
   "cell_type": "markdown",
   "id": "ba0585ab",
   "metadata": {},
   "source": [
    "It is very clear that it's hard to separate these facies in feature space. Let's just select a couple of facies and using Pandas, select the rows in the `DataFrame` that contain information about those facies "
   ]
  },
  {
   "cell_type": "code",
   "execution_count": null,
   "id": "d6090775",
   "metadata": {},
   "outputs": [],
   "source": [
    "selected = ['f_siltstone', 'bafflestone', 'wackentstone']\n",
    "\n",
    "dfs = pd.concat(list(map(lambda x: df[df.s_Facies == x], selected)))\n",
    "\n",
    "g = sns.PairGrid(dfs, hue=\"s_Facies\", vars=['GR','RHOB','PE','ILD_log10'], size=4)  \n",
    "g.map_upper(plt.scatter,**dict(alpha=0.4))  \n",
    "g.map_lower(plt.scatter,**dict(alpha=0.4))\n",
    "g.map_diag(plt.hist,**dict(bins=20))  \n",
    "g.add_legend()\n",
    "g.set(alpha=0.5)"
   ]
  },
  {
   "cell_type": "code",
   "execution_count": null,
   "id": "7bf011c7",
   "metadata": {},
   "outputs": [],
   "source": [
    "# Make X and y\n",
    "X = dfs[['GR','ILD_log10','PE']].as_matrix()\n",
    "y = dfs['Facies'].values"
   ]
  },
  {
   "cell_type": "markdown",
   "id": "0ad89b93",
   "metadata": {},
   "source": [
    "Use scikit-learn StandardScaler to normalize the data. Needed for k-means."
   ]
  },
  {
   "cell_type": "code",
   "execution_count": null,
   "id": "d3eb5a0a",
   "metadata": {},
   "outputs": [],
   "source": [
    "from sklearn.preprocessing import StandardScaler\n",
    "\n",
    "scaler = StandardScaler()\n",
    "X = scaler.fit_transform(X)"
   ]
  },
  {
   "cell_type": "code",
   "execution_count": null,
   "id": "5a514492",
   "metadata": {},
   "outputs": [],
   "source": [
    "plt.scatter(X[:, 0], X[:, 1], c=y, alpha=0.3)"
   ]
  },
  {
   "cell_type": "code",
   "execution_count": null,
   "id": "d44f76fa",
   "metadata": {},
   "outputs": [],
   "source": [
    "from sklearn.cluster import KMeans\n",
    "\n",
    "clf = KMeans(n_clusters=4, random_state=1).fit(X)\n",
    "y_pred = clf.predict(X)\n",
    "\n",
    "plt.scatter(X[:, 0], X[:, 1], c=y_pred, alpha=0.3)"
   ]
  },
  {
   "cell_type": "code",
   "execution_count": null,
   "id": "0d73ce86",
   "metadata": {},
   "outputs": [],
   "source": [
    "clf.inertia_"
   ]
  },
  {
   "cell_type": "markdown",
   "id": "1b2ceb5a",
   "metadata": {},
   "source": [
    "<hr />\n",
    "\n",
    "<p style=\"color:gray\">©2017 Agile Geoscience. Licensed CC-BY.</p>"
   ]
  }
 ],
 "metadata": {},
 "nbformat": 4,
 "nbformat_minor": 5
}
