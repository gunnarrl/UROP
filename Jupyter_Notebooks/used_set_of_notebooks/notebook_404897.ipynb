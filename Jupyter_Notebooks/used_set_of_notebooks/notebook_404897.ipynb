{
 "cells": [
  {
   "cell_type": "markdown",
   "id": "03856d30",
   "metadata": {},
   "source": [
    "# Nautliz: Color Analysis Examples\n",
    "* __Parametric Difference Equation imaging methods__ _in the context of the Escape Time Algorithm_\n",
    "    * grayscale\n",
    "    * map directly to HSV\n",
    "    * color-map to RGB\n",
    "    \n",
    "#### Equation Definition Code:"
   ]
  },
  {
   "cell_type": "code",
   "execution_count": null,
   "id": "3735c0b5",
   "metadata": {},
   "outputs": [],
   "source": [
    "\"\"\" get the external code files\"\"\"\n",
    "import warnings\n",
    "warnings.filterwarnings('ignore')\n",
    "\n",
    "import os\n",
    "import sys   \n",
    "import numpy as np\n",
    "import time\n",
    "\n",
    "from IPython.display import display\n",
    "\n",
    "sys.path.insert(1, '../src');\n",
    "import z_plane as zp\n",
    "import graphic_utility as gu;\n",
    "import itergataters as ig\n",
    "import numcolorpy as ncp\n",
    "\n",
    "\"\"\" known parameter sets (names keyed to original .tif ouput headers) \"\"\"\n",
    "tsty_64 = [1.475666184256, 0.367917668899+0.602844469364j]\n",
    "tsty_24 = [1.597031082454, 0.360789747568+0.080370815437j]\n",
    "tsty_26 = [1.667197871723, 1.213225532718+0.060523992844j]\n",
    "tsty_39 = [3.806521859111, 1.369211764065-0.416877331718j]\n",
    "tsty_47 = [1.670976417267, 0.154249914159+0.202264076000j]\n",
    "tsty_53 = [2.792422080721, 1.227827869496+0.063564967216j]\n",
    "tsty_57 = [3.996321579045, 1.462499741353-0.236212926858j]\n",
    "tsty_76 = [0.904750719011, 1.318553516061+0.653081113760j]\n",
    "tsty_77 = [1.538476497478, 0.062179479416+0.735873378982j]\n",
    "tsty_84 = [3.930653598888, 1.239491637210-0.125660967153j]\n",
    "\"\"\" define the equation \"\"\"\n",
    "def Nautuliz(Z, p, Z0=None, ET=None):\n",
    "    \"\"\" \n",
    "    Args:\n",
    "        Z:    a real or complex number\n",
    "        p:    a real of complex number\n",
    "    Returns:\n",
    "        Z:    the result (complex)\n",
    "    \"\"\"\n",
    "    Z = Z**(-p[0]**(-Z**(-p[1]))) - p[0]**(-Z**(p[1]));\n",
    "    return Z"
   ]
  },
  {
   "cell_type": "code",
   "execution_count": null,
   "id": "0dd75c2b",
   "metadata": {},
   "outputs": [],
   "source": [
    "# MATLAB equivalent\n",
    "#     for n = 1:nc\n",
    "#         Z = Z^(-1^n*exp(Z*c(n)));\n",
    "#     end\n",
    "\n",
    "Z = 1 + 1j\n",
    "print(Z)\n",
    "p = tsty_39\n",
    "Z = Nautuliz(Z, p)\n",
    "print(Z)\n",
    "# MATLAB:\n",
    "#0.0207 - 0.3581i"
   ]
  },
  {
   "cell_type": "markdown",
   "id": "e1f5efc8",
   "metadata": {},
   "source": [
    "# Products of Escape Time Algorithm\n",
    "* ET, Z, Z0 = get_primitives( [ (function-name, function-parameters ) ], complex_plane_definition)\n",
    "    * Z0  = initial complex vector at each point (on the complex plane == the input image)\n",
    "    * ET  = Escape Time at each point\n",
    "    * Z   = final complex vector at each point"
   ]
  },
  {
   "cell_type": "code",
   "execution_count": null,
   "id": "46a77716",
   "metadata": {},
   "outputs": [],
   "source": [
    "\"\"\" Define a complex plane point for each pixel \"\"\"\n",
    "par_set = {'n_rows': 300, 'n_cols': 500}\n",
    "par_set['center_point'] = 0.0 + 0.0*1j\n",
    "par_set['theta'] = 0 # \n",
    "par_set['zoom'] = 1/3\n",
    "\n",
    "par_set['it_max'] = 64\n",
    "par_set['max_d'] = 10 / par_set['zoom']\n",
    "par_set['dir_path'] = os.getcwd()\n",
    "\n",
    "\"\"\" Define the function handle and numerical parameter set \"\"\"\n",
    "list_tuple = [(Nautuliz, (tsty_53))]\n",
    "t0 = time.time()\n",
    "\n",
    "\"\"\" Get the primitive products of the calculation \"\"\"\n",
    "ET_sm, Z_sm, Z0_sm = ig.get_primitives(list_tuple, par_set)\n",
    "print(time.time() - t0, '\\t calculate primitives total time')"
   ]
  },
  {
   "cell_type": "markdown",
   "id": "34eecc08",
   "metadata": {},
   "source": [
    "# Normalized number planes for use as image color values\n",
    "* Zd, Zr, ETn = etg_norm(Z0, Z, ET)\n",
    "    * Zd  = distance at ET\n",
    "    * Zr  = rotation at ET\n",
    "    * ETn = ET"
   ]
  },
  {
   "cell_type": "code",
   "execution_count": null,
   "id": "6f4f4c04",
   "metadata": {},
   "outputs": [],
   "source": [
    "\"\"\" Normalize \"\"\"\n",
    "t0 = time.time()\n",
    "Zd_sm, Zr_sm, ETn_sm = ncp.etg_norm(Z0_sm, Z_sm, ET_sm)\n",
    "print(time.time() - t0, '\\t normalize primitives to color values')"
   ]
  },
  {
   "cell_type": "markdown",
   "id": "794bd08d",
   "metadata": {},
   "source": [
    "# Grayscale\n",
    "* D = mat_to_gray(Zd, max_v=255, min_v=64)\n",
    "    * normalized number plane\n",
    "    * (optional) grascale parameters"
   ]
  },
  {
   "cell_type": "code",
   "execution_count": null,
   "id": "c68b9ac2",
   "metadata": {},
   "outputs": [],
   "source": [
    "\"\"\" Number of iterations for each Vector at Escape Time as a full range grayscale  \"\"\"\n",
    "t0 = time.time()\n",
    "ETd = ncp.mat_to_gray(ETn_sm)\n",
    "print(time.time() - t0, '\\t grayscale converstion time')\n",
    "display(ETd)"
   ]
  },
  {
   "cell_type": "code",
   "execution_count": null,
   "id": "ffc70d83",
   "metadata": {},
   "outputs": [],
   "source": [
    "\"\"\" Vector Distance at Escape Time as a full range grayscale  \"\"\"\n",
    "t0 = time.time()\n",
    "D = ncp.mat_to_gray(Zd_sm, max_v=255, min_v=64)\n",
    "print(time.time() - t0, '\\t grayscale converstion time')\n",
    "display(D)"
   ]
  },
  {
   "cell_type": "code",
   "execution_count": null,
   "id": "1fd58894",
   "metadata": {},
   "outputs": [],
   "source": [
    "\"\"\" Vector Rotation at Escape Time as a full range grayscale  \"\"\"\n",
    "t0 = time.time()\n",
    "R = ncp.mat_to_gray(Zr_sm, max_v=255, min_v=64)\n",
    "print(time.time() - t0, '\\t grayscale converstion time')\n",
    "display(R)"
   ]
  },
  {
   "cell_type": "markdown",
   "id": "796892ce",
   "metadata": {},
   "source": [
    "# Hue Saturation Value: HSV direct\n",
    "* Ihsv = rgb_2_hsv_mat(H, S, V)\n",
    "    * H = ncp.range_norm(Zr - Zd, lo=0.5, hi=0.85)\n",
    "    * S = ncp.range_norm(1 - ETn, lo=0.0, hi=0.9)\n",
    "    * V = ncp.range_norm(ETn, lo=0.0, hi=1.0)"
   ]
  },
  {
   "cell_type": "code",
   "execution_count": null,
   "id": "aa1e9372",
   "metadata": {},
   "outputs": [],
   "source": [
    "\"\"\" number one of two functions \n",
    "    (both examples using Distance, Rotation and ET as H,S,V) \"\"\"\n",
    "t0 = time.time()\n",
    "H = ncp.range_norm(Zd_sm, lo=0.25, hi=0.95)\n",
    "S = ncp.range_norm(Zr_sm, lo=0.0, hi=0.7)\n",
    "V = ncp.range_norm(ETn_sm, lo=0.3, hi=1.0)\n",
    "Ihsv = ncp.rgb_2_hsv_mat(H, S, V)\n",
    "print(time.time() - t0, '\\t HSV converstion time')\n",
    "display(Ihsv)"
   ]
  },
  {
   "cell_type": "code",
   "execution_count": null,
   "id": "099afed8",
   "metadata": {},
   "outputs": [],
   "source": [
    "\"\"\" number 2 of two functions\n",
    "    (using using Distance, Rotation and ET as full range H, S, V) \"\"\"\n",
    "t0 = time.time()\n",
    "H2 = ncp.range_norm(Zd_sm)\n",
    "S2 = ncp.range_norm(Zr_sm)\n",
    "V2 = ncp.range_norm(ETn_sm)\n",
    "I_hsv2 = ncp.normat_hsv_intrgb(H2, S2, V2, H_max=1.0, H_min=0.0, S_max=1.0, S_min=0.0, V_max=1.0, V_min=0.0)\n",
    "print(time.time() - t0, '\\t HSV converstion time')\n",
    "display(I_hsv2)"
   ]
  },
  {
   "cell_type": "markdown",
   "id": "6b9bba1a",
   "metadata": {},
   "source": [
    "# Color-mapped\n",
    "* I_mapped = mat_to_mapped(Zd, mp)\n",
    "    * Zd converted to index of unique values\n",
    "    * mp will be resized to number of unique values in Zd"
   ]
  },
  {
   "cell_type": "code",
   "execution_count": null,
   "id": "7f5356f8",
   "metadata": {},
   "outputs": [],
   "source": [
    "\"\"\" Color map example: Red to Black to Blue-Green \"\"\"\n",
    "t0 = time.time()\n",
    "mp = np.array([[1.0, 0.0, 0.0],[0.0, 0.0, 0.0],[0.0, 1.0, 1.0]])\n",
    "I_rgb = ncp.mat_to_mapped(Zd_sm, mp)\n",
    "print(time.time() - t0, '\\t HSV converstion time')\n",
    "display(I_rgb)"
   ]
  },
  {
   "cell_type": "markdown",
   "id": "386333ed",
   "metadata": {},
   "source": [
    "## Interesting numerical factoid section:"
   ]
  },
  {
   "cell_type": "code",
   "execution_count": null,
   "id": "f77e9b58",
   "metadata": {},
   "outputs": [],
   "source": [
    "\"\"\"  Time-Point of Escape individual escape time points for each escape time\n",
    "     Animations possible  \"\"\"\n",
    "lo_ET = 2\n",
    "hi_ET = lo_ET + 6\n",
    "for t in range(lo_ET, hi_ET):\n",
    "    print('ET =\\t',t)\n",
    "    I = np.ones(ET_sm.shape)\n",
    "    I[ET_sm == t] = 0\n",
    "    display(ncp.mat_to_gray(I))\n",
    "I = np.ones(ET_sm.shape)\n",
    "I[ET_sm > hi_ET] = 0\n",
    "print('ET >\\t',hi_ET)\n",
    "display(ncp.mat_to_gray(I))"
   ]
  },
  {
   "cell_type": "code",
   "execution_count": null,
   "id": "06d37082",
   "metadata": {},
   "outputs": [],
   "source": [
    "\"\"\"  number of points escaped at each iteration: escape time frequency  \"\"\"\n",
    "Total_Points = ET_sm.shape[0] * ET_sm.shape[1]\n",
    "print('\\t\\t%i remain in orbit after %i iterations\\n'%((ET_sm > (ET_sm.max()-1)).sum(),  ET_sm.max()))\n",
    "print('%3s) %10s\\n'%('ET', 'Escaped'))\n",
    "t_esc = 0\n",
    "for k in range(1,int(ET_sm.max())):\n",
    "    print('%3i) %7i'%(k, (ET_sm == k).sum()))\n",
    "    t_esc += (ET_sm == k).sum()\n",
    "\n",
    "print('\\n(in)Sanity check:\\n%i Total points\\n%i Escaped\\n%i Remain'%(Total_Points, t_esc, Total_Points - t_esc))"
   ]
  },
  {
   "cell_type": "code",
   "execution_count": null,
   "id": "070173f1",
   "metadata": {},
   "outputs": [],
   "source": [
    "\"\"\" partial list of unescaped starting points (look for orbit points) \"\"\"\n",
    "Z_overs = Z0_sm[ET_sm == ET_sm.max()]\n",
    "\n",
    "v1 = Z_overs[0]\n",
    "d = '%0.2f'%(np.abs(v1))\n",
    "theta = '%0.1f'%(180*np.arctan2(np.imag(v1), np.real(v1))/np.pi)\n",
    "print('Unescaped Vector:\\n\\tV = ', d, theta, 'degrees\\n')\n",
    "\n",
    "print('%9d'%Z_overs.size, 'total unescaped points\\n')\n",
    "print('%9s'%('points'), 'near V', '      (plane units)')\n",
    "for denom0 in range(1,12):\n",
    "    neighbor_distance = np.abs(v1) * 1/denom0\n",
    "    v1_list = Z_overs[np.abs(Z_overs-v1) < neighbor_distance]\n",
    "    print('%9d'%len(v1_list), 'within V/%2d  (%0.3f)'%(denom0, neighbor_distance))"
   ]
  }
 ],
 "metadata": {},
 "nbformat": 4,
 "nbformat_minor": 5
}
