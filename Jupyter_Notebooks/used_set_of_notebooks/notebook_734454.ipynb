{
 "cells": [
  {
   "cell_type": "markdown",
   "id": "3fb8b304",
   "metadata": {},
   "source": [
    "# Outliers and Outlier Visualization\n",
    "John Bonfardeci<br/>\n",
    "2020-01-27"
   ]
  },
  {
   "cell_type": "markdown",
   "id": "24eba33a",
   "metadata": {},
   "source": [
    "### Load External Libraries"
   ]
  },
  {
   "cell_type": "code",
   "execution_count": null,
   "id": "4ad91837",
   "metadata": {},
   "outputs": [],
   "source": [
    "# Pandas DataFrames for reading and manipulating data.\n",
    "# Think of it as in-memory Excel sheets, but more practical and powerful!\n",
    "import pandas as pd\n",
    "\n",
    "import numpy as np\n",
    "\n",
    "# Matplotlib & PyPlot for visualization.\n",
    "import matplotlib.pyplot as plt\n",
    "\n",
    "# Tell Matplotlib to use Ggplot-style charts as in R.\n",
    "#plt.style.use('ggplot')\n",
    "\n",
    "# Seaborn is a helper library makeing Matplotlib easier to use.\n",
    "import seaborn as sns\n",
    "\n",
    "# Stats tools\n",
    "from scipy import stats\n",
    "\n",
    "from statistics import median"
   ]
  },
  {
   "cell_type": "markdown",
   "id": "f778d030",
   "metadata": {},
   "source": [
    "## Read the Dataset"
   ]
  },
  {
   "cell_type": "code",
   "execution_count": null,
   "id": "a790f6b0",
   "metadata": {},
   "outputs": [],
   "source": [
    "df = pd.read_csv(\"diabetes.csv\")\n",
    "df.describe()"
   ]
  },
  {
   "cell_type": "markdown",
   "id": "a6cb5049",
   "metadata": {},
   "source": [
    "## Plot Boxplots with Seaborn\n",
    "A simple example."
   ]
  },
  {
   "cell_type": "code",
   "execution_count": null,
   "id": "b0a8acd7",
   "metadata": {},
   "outputs": [],
   "source": [
    "box = sns.boxplot(x=df['SerumInsulin'])\n",
    "box.set_title = \"SerumInsulin Boxplot\""
   ]
  },
  {
   "cell_type": "markdown",
   "id": "8f333abc",
   "metadata": {},
   "source": [
    "## How to Show Boxplot for Each Category?"
   ]
  },
  {
   "cell_type": "markdown",
   "id": "1bc00420",
   "metadata": {},
   "source": [
    "## Create a Boxplot for Each Diagnosis Category\n",
    "Create a new categorical variable.\n",
    "\n",
    "* Use the <strong>map()</strong> function to iterate over all values in a column and \n",
    "* Execute a <strong>lambda</strong> function on each value. A lambda function is an \"anonymous\" function.\n",
    "* This lambda function uses a \"ternary\" statement to write a label for:<br />\n",
    "    `\"Diabetic\" if n == 1 else \"Non-diabetic\"`"
   ]
  },
  {
   "cell_type": "code",
   "execution_count": null,
   "id": "f9636d6a",
   "metadata": {},
   "outputs": [],
   "source": [
    "mapped = map(lambda n: \"Diabetic\" if n == 1 else \"Non-Diabetic\", df['Diabetic'])\n",
    "\n",
    "# Convert the map object into a list.\n",
    "dx = list(mapped)\n",
    "\n",
    "# Display the first 5 labels for our new column.\n",
    "dx[0:5]"
   ]
  },
  {
   "cell_type": "code",
   "execution_count": null,
   "id": "4a1fb088",
   "metadata": {},
   "outputs": [],
   "source": [
    "# Add the new column to the dataframe.\n",
    "df['Dx'] = dx # Where \"Dx\" is short for \"Diagnosis\"\n",
    "df.head()"
   ]
  },
  {
   "cell_type": "code",
   "execution_count": null,
   "id": "bf8ae309",
   "metadata": {},
   "outputs": [],
   "source": [
    "# Running code inside this \"if\" statement keeps variables out of the global scope\n",
    "# so you can reuse variable names without affecting local variable scopes.\n",
    "# '__main__' is the \"entry point\" for every cell in Jupyter Notebooks. \n",
    "if __name__ == '__main__':\n",
    "    label = 'Pregnancies'\n",
    "    \n",
    "    # Declare a boxplot\n",
    "    box = plt.figure(num=None, figsize=(10, 8), dpi=96, facecolor='w', edgecolor='k')\n",
    "    axes1 = box.add_subplot(1,1,1) # Create an empty grid. '1,1,1' are position params.\n",
    "\n",
    "    # Group data by Diagnosis with a \"list comprehension filter\" method.\n",
    "    nondiabetic = df[df['Dx'] == 'Non-Diabetic'][label]\n",
    "    diabetic = df[df['Dx'] == 'Diabetic'][label]\n",
    "    dx_groups = [diabetic, nondiabetic]\n",
    "\n",
    "    axes1.boxplot(dx_groups, labels=['Diabetic', 'Non-Diabetic'])\n",
    "\n",
    "    axes1.set_xlabel('Dx')\n",
    "    axes1.set_ylabel(label)\n",
    "    axes1.set_title('Boxplot of ' + label + ' by Diagnosis')"
   ]
  },
  {
   "cell_type": "code",
   "execution_count": null,
   "id": "8d76c0ea",
   "metadata": {},
   "outputs": [],
   "source": [
    "if __name__ == '__main__':\n",
    "    label = 'PlasmaGlucose'\n",
    "    \n",
    "    # Declare a boxplot\n",
    "    box = plt.figure(num=None, figsize=(10, 8), dpi=96, facecolor='w', edgecolor='k')\n",
    "    axes1 = box.add_subplot(1,1,1) # Create an empty grid. '1,1,1' are position params.\n",
    "\n",
    "    # Group data by Diagnosis with a \"list comprehension\" method.\n",
    "    nondiabetic = df[df['Dx'] == 'Non-Diabetic'][label]\n",
    "    diabetic = df[df['Dx'] == 'Diabetic'][label]\n",
    "    dx_groups = [diabetic, nondiabetic]\n",
    "\n",
    "    axes1.boxplot(dx_groups, labels=['Diabetic', 'Non-Diabetic'])\n",
    "\n",
    "    axes1.set_xlabel('Dx')\n",
    "    axes1.set_ylabel(label)\n",
    "    axes1.set_title('Boxplot of ' + label + ' by Diagnosis')"
   ]
  },
  {
   "cell_type": "code",
   "execution_count": null,
   "id": "b46dd57e",
   "metadata": {},
   "outputs": [],
   "source": [
    "if __name__ == '__main__':\n",
    "    # Declare a boxplot\n",
    "    box = plt.figure(num=None, figsize=(10, 8), dpi=96, facecolor='w', edgecolor='k')\n",
    "    axes1 = box.add_subplot(1,1,1) # Create an empty grid. '1,1,1' are position params.\n",
    "\n",
    "    # Group data by Diagnosis with a \"list comprehension\" method.\n",
    "    nondiabetic = df[df['Dx'] == 'Non-Diabetic']['PlasmaGlucose']\n",
    "    diabetic = df[df['Dx'] == 'Diabetic']['PlasmaGlucose']\n",
    "    dx_groups = [diabetic, nondiabetic]\n",
    "\n",
    "    axes1.boxplot(dx_groups, labels=['Diabetic', 'Non-Diabetic'])\n",
    "\n",
    "    axes1.set_xlabel('Dx')\n",
    "    axes1.set_ylabel('PlasmaGlucose')\n",
    "    axes1.set_title('Boxplot of PlasmaGlucose by Diagnosis')"
   ]
  },
  {
   "cell_type": "code",
   "execution_count": null,
   "id": "a1528406",
   "metadata": {},
   "outputs": [],
   "source": [
    "if __name__ == '__main__':\n",
    "    label = 'DiastolicBloodPressure'\n",
    "    \n",
    "    # Declare a boxplot\n",
    "    box = plt.figure(num=None, figsize=(10, 8), dpi=96, facecolor='w', edgecolor='k')\n",
    "    axes1 = box.add_subplot(1,1,1) # Create an empty grid. '1,1,1' are position params.\n",
    "\n",
    "    # Group data by Diagnosis with a \"list comprehension\" method.\n",
    "    nondiabetic = df[df['Dx'] == 'Non-Diabetic'][label]\n",
    "    diabetic = df[df['Dx'] == 'Diabetic'][label]\n",
    "    dx_groups = [diabetic, nondiabetic]\n",
    "\n",
    "    axes1.boxplot(dx_groups, labels=['Diabetic', 'Non-Diabetic'])\n",
    "\n",
    "    axes1.set_xlabel('Dx')\n",
    "    axes1.set_ylabel(label)\n",
    "    axes1.set_title('Boxplot of ' + label + ' by Diagnosis')"
   ]
  },
  {
   "cell_type": "code",
   "execution_count": null,
   "id": "9df483be",
   "metadata": {},
   "outputs": [],
   "source": [
    "if __name__ == '__main__':\n",
    "    label = 'TricepsThickness'\n",
    "    \n",
    "    # Declare a boxplot\n",
    "    box = plt.figure(num=None, figsize=(10, 8), dpi=96, facecolor='w', edgecolor='k')\n",
    "    axes1 = box.add_subplot(1,1,1) # Create an empty grid. '1,1,1' are position params.\n",
    "\n",
    "    # Group data by Diagnosis with a \"list comprehension\" method.\n",
    "    nondiabetic = df[df['Dx'] == 'Non-Diabetic'][label]\n",
    "    diabetic = df[df['Dx'] == 'Diabetic'][label]\n",
    "    dx_groups = [diabetic, nondiabetic]\n",
    "\n",
    "    axes1.boxplot(dx_groups, labels=['Diabetic', 'Non-Diabetic'])\n",
    "\n",
    "    axes1.set_xlabel('Dx')\n",
    "    axes1.set_ylabel(label)\n",
    "    axes1.set_title('Boxplot of ' + label + ' by Diagnosis')"
   ]
  },
  {
   "cell_type": "code",
   "execution_count": null,
   "id": "967a2291",
   "metadata": {},
   "outputs": [],
   "source": [
    "if __name__ == '__main__':\n",
    "    label = 'SerumInsulin'\n",
    "    \n",
    "    # Declare a boxplot\n",
    "    box = plt.figure(num=None, figsize=(10, 8), dpi=96, facecolor='w', edgecolor='k')\n",
    "    axes1 = box.add_subplot(1,1,1) # Create an empty grid. '1,1,1' are position params.\n",
    "\n",
    "    # Group data by Diagnosis with a \"list comprehension\" method.\n",
    "    nondiabetic = df[df['Dx'] == 'Non-Diabetic'][label]\n",
    "    diabetic = df[df['Dx'] == 'Diabetic'][label]\n",
    "    dx_groups = [diabetic, nondiabetic]\n",
    "\n",
    "    axes1.boxplot(dx_groups, labels=['Diabetic', 'Non-Diabetic'])\n",
    "\n",
    "    axes1.set_xlabel('Dx')\n",
    "    axes1.set_ylabel(label)\n",
    "    axes1.set_title('Boxplot of ' + label + ' by Diagnosis')"
   ]
  },
  {
   "cell_type": "code",
   "execution_count": null,
   "id": "c4e1bd05",
   "metadata": {},
   "outputs": [],
   "source": [
    "if __name__ == '__main__':\n",
    "    label = 'BMI'\n",
    "    \n",
    "    # Declare a boxplot\n",
    "    box = plt.figure(num=None, figsize=(10, 8), dpi=96, facecolor='w', edgecolor='k')\n",
    "    axes1 = box.add_subplot(1,1,1) # Create an empty grid. '1,1,1' are position params.\n",
    "\n",
    "    # Group data by Diagnosis with a \"list comprehension\" method.\n",
    "    nondiabetic = df[df['Dx'] == 'Non-Diabetic'][label]\n",
    "    diabetic = df[df['Dx'] == 'Diabetic'][label]\n",
    "    dx_groups = [diabetic, nondiabetic]\n",
    "\n",
    "    axes1.boxplot(dx_groups, labels=['Diabetic', 'Non-Diabetic'])\n",
    "\n",
    "    axes1.set_xlabel('Dx')\n",
    "    axes1.set_ylabel(label)\n",
    "    axes1.set_title('Boxplot of ' + label + ' by Diagnosis')"
   ]
  },
  {
   "cell_type": "code",
   "execution_count": null,
   "id": "93548a5d",
   "metadata": {},
   "outputs": [],
   "source": [
    "if __name__ == '__main__':\n",
    "    label = 'DiabetesPedigree'\n",
    "    \n",
    "    # Declare a boxplot\n",
    "    box = plt.figure(num=None, figsize=(10, 8), dpi=96, facecolor='w', edgecolor='k')\n",
    "    axes1 = box.add_subplot(1,1,1) # Create an empty grid. '1,1,1' are position params.\n",
    "\n",
    "    # Group data by Diagnosis with a \"list comprehension\" method.\n",
    "    nondiabetic = df[df['Dx'] == 'Non-Diabetic'][label]\n",
    "    diabetic = df[df['Dx'] == 'Diabetic'][label]\n",
    "    dx_groups = [diabetic, nondiabetic]\n",
    "\n",
    "    axes1.boxplot(dx_groups, labels=['Diabetic', 'Non-Diabetic'])\n",
    "\n",
    "    axes1.set_xlabel('Dx')\n",
    "    axes1.set_ylabel(label)\n",
    "    axes1.set_title('Boxplot of ' + label + ' by Diagnosis')"
   ]
  },
  {
   "cell_type": "code",
   "execution_count": null,
   "id": "e76a799c",
   "metadata": {},
   "outputs": [],
   "source": [
    "if __name__ == '__main__':\n",
    "    label = 'Age'\n",
    "    \n",
    "    # Declare a boxplot\n",
    "    box = plt.figure(num=None, figsize=(10, 8), dpi=96, facecolor='w', edgecolor='k')\n",
    "    axes1 = box.add_subplot(1,1,1) # Create an empty grid. '1,1,1' are position params.\n",
    "\n",
    "    # Group data by Diagnosis with a \"list comprehension\" method.\n",
    "    nondiabetic = df[df['Dx'] == 'Non-Diabetic'][label]\n",
    "    diabetic = df[df['Dx'] == 'Diabetic'][label]\n",
    "    dx_groups = [diabetic, nondiabetic]\n",
    "\n",
    "    axes1.boxplot(dx_groups, labels=['Diabetic', 'Non-Diabetic'])\n",
    "\n",
    "    axes1.set_xlabel('Dx')\n",
    "    axes1.set_ylabel(label)\n",
    "    axes1.set_title('Boxplot of ' + label + ' by Diagnosis')"
   ]
  },
  {
   "cell_type": "markdown",
   "id": "3d59b453",
   "metadata": {},
   "source": [
    "## Create a Reusable Function"
   ]
  },
  {
   "cell_type": "code",
   "execution_count": null,
   "id": "e284c4ce",
   "metadata": {},
   "outputs": [],
   "source": [
    "def show_boxplots(df, columns):\n",
    "    \"\"\"\n",
    "    Show a boxplot for each numerical column, grouped by diagnosis, in the Diabetes dataset.\n",
    "    \"\"\"\n",
    "    def get_plot(label):\n",
    "        # Declare a boxplot\n",
    "        box = plt.figure(num=None, figsize=(10, 8), dpi=96, facecolor='w', edgecolor='k')\n",
    "        axes1 = box.add_subplot(1,1,1) # Create an empty grid. '1,1,1' are position params.\n",
    "\n",
    "        # Group data by Diagnosis with a \"list comprehension\" method.\n",
    "        nondiabetic = df[df['Dx'] == 'Non-Diabetic'][label]\n",
    "        diabetic = df[df['Dx'] == 'Diabetic'][label]\n",
    "        dx_groups = [diabetic, nondiabetic]\n",
    "\n",
    "        axes1.boxplot(dx_groups, labels=['Diabetic', 'Non-Diabetic'])\n",
    "        axes1.set_xlabel('Dx')\n",
    "        axes1.set_ylabel(label)\n",
    "        axes1.set_title('Boxplot of ' + label + ' by Diagnosis')\n",
    "        \n",
    "    for label in columns:\n",
    "        get_plot(label)\n",
    "  \n",
    "\n",
    "if __name__ == '__main__':\n",
    "    columns = df.columns.values.tolist()\n",
    "    columns.remove('PatientID')\n",
    "    columns.remove('Diabetic')\n",
    "    columns.remove('Dx')\n",
    "    show_boxplots(df, columns)"
   ]
  },
  {
   "cell_type": "markdown",
   "id": "98330124",
   "metadata": {},
   "source": [
    "<h2>How to Calculate the Lower and Upper Limits for Outliers</h2>\n",
    "\n",
    "<p style=\"font-size:1.2em\">Recall:</p>\n",
    "<div style=\"font-size:1.2em\">\n",
    "    <ul>\n",
    "        <li>Upper limit = Q3 + 1.5(IQR)</li>\n",
    "        <li>Lower limit = Q1 - 1.5(IQR)</li>\n",
    "    </ul>\n",
    "    <p>Numbers <u>less than the lower limit</u> or <u>greater than the upper limit</u> are considered to be <strong>outliers</strong>.</p>\n",
    "</div>\n",
    " "
   ]
  },
  {
   "cell_type": "code",
   "execution_count": null,
   "id": "2dc9f35f",
   "metadata": {},
   "outputs": [],
   "source": [
    "def quartiles(values):\n",
    "    \"\"\"\n",
    "    Find Q1 and Q3 for a range of numerical values.\n",
    "    \"\"\"\n",
    "    srt = sorted(values) # sort values ascending\n",
    "    mid = len(srt) // 2 # determine middle value of array\n",
    "    # find Q1 with the median function of lower half of data\n",
    "    q1 = median(srt[:mid]) \n",
    "    q3 = 0  \n",
    "    # find Q3 with the median function of upper half of data\n",
    "    if(mid % 2 == 0):\n",
    "        q3 = median(srt[mid:])\n",
    "    else:\n",
    "        q3 = median(srt[mid+1:])\n",
    "\n",
    "    return q1, q3\n",
    "\n",
    "def get_outliers(df, columns):\n",
    "    \"\"\"\n",
    "    IQR = Q3-Q1\n",
    "    Upper limit = Q3 + 1.5(IQR)\n",
    "    Lower limit = Q1 - 1.5(IQR)\n",
    "    \"\"\"\n",
    "    cols = []\n",
    "    data = []\n",
    "    outliers = None\n",
    "    outliers = pd.DataFrame()\n",
    "    \n",
    "    for col in columns:\n",
    "        q1, q3 = quartiles(df[col])\n",
    "        iqr = q3-q1\n",
    "        uppr = q3 + 1.5*iqr\n",
    "        lowr = q1 - 1.5*iqr\n",
    "        mn = min(df[col].values)\n",
    "        mx = max(df[col].values)\n",
    "        has_lower = mn < lowr\n",
    "        has_upper = mx > uppr\n",
    "        data.append((col, mn, lowr, uppr, mx))\n",
    "        \n",
    "        # Create dummy column for outliers.\n",
    "        if mn < lowr or mx > uppr:\n",
    "            outliers[col+'_outlier'] = \\\n",
    "            list(map(lambda n: 1 if (n < lowr or n > uppr) else 0, df[col].values))\n",
    "        \n",
    "    return outliers, pd.DataFrame(columns=['Xi', 'Min(Xi)', 'Lower Limit', 'Upper Limit', 'Max(Xi)'], \\\n",
    "                        data=data)\n",
    "        \n",
    "\n",
    "columns = df.columns.values.tolist()\n",
    "columns.remove('PatientID')\n",
    "columns.remove('Diabetic')\n",
    "columns.remove('Dx')\n",
    "\n",
    "outliers, desc = get_outliers(df, columns)\n",
    "\n",
    "display(desc)"
   ]
  },
  {
   "cell_type": "code",
   "execution_count": null,
   "id": "bc7affa5",
   "metadata": {},
   "outputs": [],
   "source": [
    "outliers.head()"
   ]
  },
  {
   "cell_type": "code",
   "execution_count": null,
   "id": "d1c4742a",
   "metadata": {},
   "outputs": [],
   "source": [
    "df = pd.concat([df, outliers], 1)\n",
    "df.tail()"
   ]
  }
 ],
 "metadata": {},
 "nbformat": 4,
 "nbformat_minor": 5
}
