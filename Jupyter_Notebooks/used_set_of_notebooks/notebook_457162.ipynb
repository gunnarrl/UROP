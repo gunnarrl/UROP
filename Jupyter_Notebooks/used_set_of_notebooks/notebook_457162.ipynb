{
 "cells": [
  {
   "cell_type": "code",
   "execution_count": null,
   "id": "0cea2772",
   "metadata": {},
   "outputs": [],
   "source": [
    "import pandas as pd\n",
    "import numpy as np\n",
    "import matplotlib.pyplot as plt\n",
    "from sklearn.linear_model import LinearRegression"
   ]
  },
  {
   "cell_type": "code",
   "execution_count": null,
   "id": "498f761e",
   "metadata": {},
   "outputs": [],
   "source": [
    "dtype_dict = {'bathrooms':float, 'waterfront':int, 'sqft_above':int, 'sqft_living15':float, 'grade':int, \n",
    "              'yr_renovated':int, 'price':float, 'bedrooms':float, 'zipcode':str, 'long':float, 'sqft_lot15':float, \n",
    "              'sqft_living':float, 'floors':str, 'condition':int, \n",
    "              'lat':float, 'date':str, 'sqft_basement':int, 'yr_built':int, 'id':str, 'sqft_lot':int, 'view':int}"
   ]
  },
  {
   "cell_type": "markdown",
   "id": "2a3df120",
   "metadata": {},
   "source": [
    "# define polynomial feature function"
   ]
  },
  {
   "cell_type": "code",
   "execution_count": null,
   "id": "3ef39a24",
   "metadata": {},
   "outputs": [],
   "source": [
    "def polynomial_dataframe(feature, degree):\n",
    "    poly_data = pd.DataFrame()\n",
    "    poly_data['power_1'] = feature\n",
    "    if degree <= 1: return poly_data\n",
    "    for i in range(2,degree+1):\n",
    "        column = 'power_' + str(i)\n",
    "        prev = 'power_' + str(i-1)\n",
    "        poly_data[column] = poly_data[prev] * feature\n",
    "    return poly_data"
   ]
  },
  {
   "cell_type": "markdown",
   "id": "0d71b086",
   "metadata": {},
   "source": [
    "# sort by square feet in ascending order"
   ]
  },
  {
   "cell_type": "code",
   "execution_count": null,
   "id": "33f9e568",
   "metadata": {},
   "outputs": [],
   "source": [
    "sales = pd.read_csv('kc_house_data.csv/kc_house_data.csv', dtype=dtype_dict)\n",
    "sales = sales.sort_values(['sqft_living','price'])"
   ]
  },
  {
   "cell_type": "markdown",
   "id": "ac18d876",
   "metadata": {},
   "source": [
    "# degree 1 polynomial"
   ]
  },
  {
   "cell_type": "code",
   "execution_count": null,
   "id": "563b3aeb",
   "metadata": {},
   "outputs": [],
   "source": [
    "poly1_data = polynomial_dataframe(sales['sqft_living'], degree=1)"
   ]
  },
  {
   "cell_type": "code",
   "execution_count": null,
   "id": "3016477b",
   "metadata": {},
   "outputs": [],
   "source": [
    "model1 = LinearRegression()\n",
    "model1.fit(poly1_data, sales['price'])"
   ]
  },
  {
   "cell_type": "code",
   "execution_count": null,
   "id": "6c6b8bec",
   "metadata": {},
   "outputs": [],
   "source": [
    "plt.plot(poly1_data['power_1'], sales['price'], '.')\n",
    "plt.plot(poly1_data['power_1'], model1.predict(poly1_data), '-')\n",
    "plt.show()\n",
    "print(model1.coef_)"
   ]
  },
  {
   "cell_type": "markdown",
   "id": "d8afefef",
   "metadata": {},
   "source": [
    "# degree 2,3 polynomials"
   ]
  },
  {
   "cell_type": "code",
   "execution_count": null,
   "id": "53921329",
   "metadata": {},
   "outputs": [],
   "source": [
    "poly2_data = polynomial_dataframe(sales['sqft_living'], degree=2)\n",
    "model2 = LinearRegression()\n",
    "model2.fit(poly2_data, sales['price'])\n",
    "print(model2.coef_)\n",
    "poly3_data = polynomial_dataframe(sales['sqft_living'], degree=3)\n",
    "model3 = LinearRegression()\n",
    "model3.fit(poly3_data, sales['price'])\n",
    "print(model3.coef_)\n",
    "\n",
    "plt.plot(poly1_data['power_1'], sales['price'], '.')\n",
    "# plt.plot(poly1_data['power_1'], model1.predict(poly1_data), '-')\n",
    "plt.plot(poly2_data['power_1'], model2.predict(poly2_data), '-')\n",
    "plt.plot(poly3_data['power_1'], model3.predict(poly3_data), '-')\n",
    "plt.show()"
   ]
  },
  {
   "cell_type": "markdown",
   "id": "9fab12d6",
   "metadata": {},
   "source": [
    "# degree 15 polynomial, the variance looks large"
   ]
  },
  {
   "cell_type": "code",
   "execution_count": null,
   "id": "73ceb743",
   "metadata": {},
   "outputs": [],
   "source": [
    "poly15_data = polynomial_dataframe(sales['sqft_living'], degree=15)\n",
    "model15 = LinearRegression()\n",
    "model15.fit(poly15_data, sales['price'])\n",
    "\n",
    "print(model15.coef_)\n",
    "plt.plot(poly1_data['power_1'], sales['price'], '.')\n",
    "plt.plot(poly15_data['power_1'], model15.predict(poly15_data), '-')\n",
    "plt.show()"
   ]
  },
  {
   "cell_type": "markdown",
   "id": "ee5da007",
   "metadata": {},
   "source": [
    "# degree 15 polynomial on splitted data sets"
   ]
  },
  {
   "cell_type": "code",
   "execution_count": null,
   "id": "7573b9c1",
   "metadata": {},
   "outputs": [],
   "source": [
    "for i in range(1,5):\n",
    "    salesi = pd.read_csv('wk3_kc_house_set_'+str(i)+'_data.csv/wk3_kc_house_set_'+str(i)+'_data.csv', dtype=dtype_dict)\n",
    "    salesi = salesi.sort_values(['sqft_living','price'])\n",
    "    polys_data = polynomial_dataframe(salesi['sqft_living'], degree=15)\n",
    "    model = LinearRegression()\n",
    "    model.fit(polys_data, salesi['price'])\n",
    "    print('set '+str(i),model.coef_)\n",
    "    plt.figure(i)\n",
    "    plt.plot(polys_data['power_1'],salesi['price'], '.')\n",
    "    plt.plot(polys_data['power_1'], model.predict(polys_data), '-')\n",
    "    plt.show()"
   ]
  },
  {
   "cell_type": "markdown",
   "id": "2c63efc7",
   "metadata": {},
   "source": [
    "# model selection among different polynomial degrees"
   ]
  },
  {
   "cell_type": "code",
   "execution_count": null,
   "id": "568d5902",
   "metadata": {},
   "outputs": [],
   "source": [
    "train_data = pd.read_csv('wk3_kc_house_train_data.csv/wk3_kc_house_train_data.csv', dtype=dtype_dict)\n",
    "train_data = train_data.sort_values(['sqft_living','price'])\n",
    "test_data = pd.read_csv('wk3_kc_house_test_data.csv/wk3_kc_house_test_data.csv', dtype=dtype_dict)\n",
    "test_data = test_data.sort_values(['sqft_living','price'])\n",
    "valid_data = pd.read_csv('wk3_kc_house_valid_data.csv/wk3_kc_house_valid_data.csv', dtype=dtype_dict)\n",
    "valid_data = valid_data.sort_values(['sqft_living','price'])\n"
   ]
  },
  {
   "cell_type": "code",
   "execution_count": null,
   "id": "8d8af1a8",
   "metadata": {},
   "outputs": [],
   "source": [
    "def compute_RSS(model, input_features, output):\n",
    "    totalSS = ((output - output.mean())**2).sum()\n",
    "    RSS = (1 - model.score(input_features, output)) * totalSS\n",
    "    return RSS"
   ]
  },
  {
   "cell_type": "code",
   "execution_count": null,
   "id": "a9d4d8d7",
   "metadata": {},
   "outputs": [],
   "source": [
    "rss = []\n",
    "for i in range(1,16):\n",
    "    data = polynomial_dataframe(train_data['sqft_living'], degree=i)\n",
    "    data_v = polynomial_dataframe(valid_data['sqft_living'], degree=i)\n",
    "    model = LinearRegression()\n",
    "    model.fit(data, train_data['price'])\n",
    "    RSS = compute_RSS(model, data_v, valid_data['price'])\n",
    "    rss.append(RSS)\n",
    "    print(str(i)+\" %.6e\"%RSS)\n",
    "num_degree = min(range(1,16), key= lambda i: rss[i-1])\n",
    "print(num_degree)"
   ]
  },
  {
   "cell_type": "code",
   "execution_count": null,
   "id": "a2104523",
   "metadata": {},
   "outputs": [],
   "source": [
    "\n",
    "data = polynomial_dataframe(train_data['sqft_living'], degree=num_degree)\n",
    "data_t = polynomial_dataframe(test_data['sqft_living'], degree=num_degree)\n",
    "model = LinearRegression()\n",
    "model.fit(data, train_data['price'])\n",
    "RSS = compute_RSS(model, data_t, test_data['price'])\n",
    "rss.append(RSS)\n",
    "print(str(num_degree)+\" %.6e\"%RSS)"
   ]
  }
 ],
 "metadata": {},
 "nbformat": 4,
 "nbformat_minor": 5
}
