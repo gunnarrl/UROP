{
 "cells": [
  {
   "cell_type": "markdown",
   "id": "1cc9f80d",
   "metadata": {},
   "source": [
    "This example computes the annual cycle for daily SST data in the NINO 3.4 region using the first two harmonics. It then computes the SST anomalies using the smoothed annual cycle and then plots a rolling average of the anomalies. "
   ]
  },
  {
   "cell_type": "markdown",
   "id": "6c142e45",
   "metadata": {},
   "source": [
    "Import Python Libraries"
   ]
  },
  {
   "cell_type": "code",
   "execution_count": null,
   "id": "52a977fc",
   "metadata": {},
   "outputs": [],
   "source": [
    "import os\n",
    "import numpy as np\n",
    "import numpy.ma as ma\n",
    "from glob import glob\n",
    "from time import strptime\n",
    "from datetime import datetime, timedelta\n",
    "from dateutil.relativedelta import relativedelta\n",
    "import matplotlib as mpl\n",
    "import matplotlib.pyplot as plt\n",
    "import pandas as pd\n",
    "\n",
    "from IPython.display import Image, display\n",
    "\n",
    "import scipy.io as sio\n",
    "import xarray as xr\n",
    "\n",
    "import matplotlib.dates as mdates"
   ]
  },
  {
   "cell_type": "markdown",
   "id": "ecfcb836",
   "metadata": {},
   "source": [
    "1.\tRead the daily SST data from 1 Jan 1979- 31 Dec 2017 – for all tasks below use SST in C"
   ]
  },
  {
   "cell_type": "code",
   "execution_count": null,
   "id": "8e4c9e2b",
   "metadata": {},
   "outputs": [],
   "source": [
    "filename_pattern  = '/home/voyager-sbarc/arc/reanalysis/erai/sfc/erai.sst.*'\n",
    "erai_files = glob(filename_pattern) # search files \n",
    "erai_files.sort()\n",
    "\n",
    "for ifile, file, in enumerate(erai_files):\n",
    "    file_object = sio.readsav(file, python_dict=False,verbose=False)\n",
    "    lons = file_object['rlon']\n",
    "    lats = file_object['rlat']\n",
    "    values0 = file_object['erai_sst']-273.15 ## convert to celsius\n",
    "    \n",
    "    if ifile == 0:\n",
    "        values = values0\n",
    "    else:\n",
    "        values = ma.concatenate((values, values0))"
   ]
  },
  {
   "cell_type": "code",
   "execution_count": null,
   "id": "6c2865d8",
   "metadata": {},
   "outputs": [],
   "source": [
    "## create array of times - daily between Jan 1, 1979 and Dec 31, 2017\n",
    "times = pd.date_range('1979-01-01-00', '2017-12-31-18', freq='D', normalize=True)\n",
    "times"
   ]
  },
  {
   "cell_type": "code",
   "execution_count": null,
   "id": "19590ed9",
   "metadata": {},
   "outputs": [],
   "source": [
    "## Read all data into single xarray dataset \n",
    "## this makes it easier to index bounds and do climatology stuff\n",
    "ds = xr.Dataset({'sst': (['time', 'lat', 'lon'], values)},\n",
    "                coords={'time': times,\n",
    "                        'lat': (['lat'], lats),\n",
    "                        'lon': (['lon'], lons)})\n",
    "ds"
   ]
  },
  {
   "cell_type": "markdown",
   "id": "613ea1f8",
   "metadata": {},
   "source": [
    "Compute the daily mean SST in the NINO34 region; your time series will run from 1 Jan 1979 to 31 Dec 2017; each value is the mean SST in the NINO34 region"
   ]
  },
  {
   "cell_type": "code",
   "execution_count": null,
   "id": "1a3480a1",
   "metadata": {},
   "outputs": [],
   "source": [
    "## Average area of NINO 3.4 region\n",
    "##  region 5°N-5°S, 120°- 170°W\n",
    "NINO34 = ds.sel(lat=slice(-5,5), lon=slice(360-170, 360-120))\n",
    "NINO34 = NINO34.mean(('lat', 'lon'))\n",
    "NINO34"
   ]
  },
  {
   "cell_type": "markdown",
   "id": "aed64c28",
   "metadata": {},
   "source": [
    "#### Plot Area-Average NINO3.4 "
   ]
  },
  {
   "cell_type": "code",
   "execution_count": null,
   "id": "77046682",
   "metadata": {},
   "outputs": [],
   "source": [
    "NINO34.sst.plot()\n",
    "plt.title('NINO 3.4 SST (*C)')"
   ]
  },
  {
   "cell_type": "markdown",
   "id": "7c8d3083",
   "metadata": {},
   "source": [
    "Compute the daily climatological SST: your time series will have 365 values; first value is 1 January, which is the average of all 1 January values from 1979-2017, second value is 2 January, which is the average of all 2 January values from 1979-2017 etc."
   ]
  },
  {
   "cell_type": "code",
   "execution_count": null,
   "id": "4bb10239",
   "metadata": {},
   "outputs": [],
   "source": [
    "climatology = NINO34.groupby('time.dayofyear').mean('time')\n",
    "climatology"
   ]
  },
  {
   "cell_type": "markdown",
   "id": "9bcd874f",
   "metadata": {},
   "source": [
    "Create 1st two harmonics and add together"
   ]
  },
  {
   "cell_type": "code",
   "execution_count": null,
   "id": "dcdffbb3",
   "metadata": {},
   "outputs": [],
   "source": [
    "def calc_harmonics(tseries):\n",
    "    ''' calculates sum of first two harmonics to approximate annual cycle'''\n",
    "    mtot = tseries.size\n",
    "    a0 = tseries.mean().item() # calculate mean of series\n",
    "    t = np.arange(0, mtot, 1, dtype='float')\n",
    "\n",
    "    omegas = []\n",
    "    coef_a = []\n",
    "    coef_b = []\n",
    "    \n",
    "    # compute coefficients\n",
    "    for p in np.arange(1, 4):\n",
    "        omegas.append((2.*np.pi*np.float(p))/np.float(mtot))\n",
    "        coef_a.append((2./mtot)*(tseries*np.cos((2*np.pi*p*t)/mtot)).sum())\n",
    "        coef_b.append((2./mtot)*(tseries*np.sin((2*np.pi*p*t)/mtot)).sum())\n",
    "        \n",
    "    ## first harmonic\n",
    "    tsrecSC1 = a0 + coef_a[0].item()*np.cos(omegas[0]*t) + coef_b[0].item()*np.sin(omegas[0]*t)\n",
    "    ## second harmonic\n",
    "    tsrecSC2 = a0 + coef_a[1].item()*np.cos(omegas[1]*t) + coef_b[1].item()*np.sin(omegas[1]*t)\n",
    "    ## first plus second harmonic\n",
    "    tsrecSC = a0 + coef_a[0].item()*np.cos(omegas[0]*t) + coef_b[0].item()*np.sin(omegas[0]*t) + coef_a[1].item()*np.cos(omegas[1]*t) \n",
    "    \n",
    "    return(tsrecSC1, tsrecSC2, tsrecSC)        "
   ]
  },
  {
   "cell_type": "code",
   "execution_count": null,
   "id": "3d0dab28",
   "metadata": {},
   "outputs": [],
   "source": [
    "tsrecSC1, tsrecSC2, tsrecSC = calc_harmonics(climatology.sst)"
   ]
  },
  {
   "cell_type": "markdown",
   "id": "f32fa5a0",
   "metadata": {},
   "source": [
    "2.\tMake a plot with:\n",
    " -   a.\tThe daily climatological SST\n",
    " -  b.\tOver-plot a time series given by the sum of the mean plus the annual harmonic\n",
    " -  c.\tOver-plot a time series given by the sum of the mean plus the semi-annual harmonic\n",
    " -  d.\tOver-plot a time series given by the sum of the mean, annual and semi-annual harmonics\n"
   ]
  },
  {
   "cell_type": "code",
   "execution_count": null,
   "id": "42064f9d",
   "metadata": {},
   "outputs": [],
   "source": [
    "plt.plot(np.arange(climatology.sst.size), climatology.sst, 'k', label='Climatological SST')\n",
    "plt.plot(np.arange(tsrecSC1.size), tsrecSC1, 'blue', label='1st Harmonic')\n",
    "plt.plot(np.arange(tsrecSC2.size), tsrecSC2, 'red', label='2nd Harmonic')\n",
    "plt.plot(np.arange(tsrecSC.size), tsrecSC, 'cyan', label='1st + 2nd Harmonics')\n",
    "plt.title('Harmonics')\n",
    "plt.ylabel('SST (*C)')\n",
    "plt.xlabel('Day of Year')\n",
    "plt.legend()\n",
    "plt.show()"
   ]
  },
  {
   "cell_type": "markdown",
   "id": "9ab601bb",
   "metadata": {},
   "source": [
    "3.\tYour SST annual cycle is given by the sum of the mean, annual and semi-annual harmonics. Remove the annual cycle from the daily SST during 1 Jan 1979-31 Dec 2017. The resulting time series is the daily SST anomalies."
   ]
  },
  {
   "cell_type": "code",
   "execution_count": null,
   "id": "e244fc70",
   "metadata": {},
   "outputs": [],
   "source": [
    "## place SST annual cycle in a dataset array to easily subtract from daily SST\n",
    "annual_cycle = xr.Dataset({'sst': (['dayofyear'], tsrecSC)},\n",
    "                coords={'dayofyear': np.arange(1,367,1)})\n",
    "annual_cycle"
   ]
  },
  {
   "cell_type": "code",
   "execution_count": null,
   "id": "2c2e35a6",
   "metadata": {},
   "outputs": [],
   "source": [
    "## Calculate SST daily anomalies and plot\n",
    "SST_anomalies = NINO34.groupby('time.dayofyear') - annual_cycle\n",
    "SST_anomalies.sst.plot()"
   ]
  },
  {
   "cell_type": "markdown",
   "id": "f7f7b5dc",
   "metadata": {},
   "source": [
    "4.\tApply a moving average of length equal to 30 days to smooth the daily SST anomalies."
   ]
  },
  {
   "cell_type": "code",
   "execution_count": null,
   "id": "5c15fd83",
   "metadata": {},
   "outputs": [],
   "source": [
    "da = SST_anomalies.sst\n",
    "yroll = da.rolling(time=30, center=True).mean()\n",
    "## Plot to Compare\n",
    "plt.plot(np.arange(SST_anomalies.sst.size), SST_anomalies.sst, 'b', label='SST Anomalies')\n",
    "plt.plot(np.arange(yroll.size), yroll, 'r', label='Rolling Window 30')\n",
    "plt.title('Raw Anomalies vs. 30 Rolling Window')\n",
    "plt.ylabel('SST (*C)')\n",
    "plt.legend()\n",
    "plt.show()"
   ]
  },
  {
   "cell_type": "markdown",
   "id": "83af691a",
   "metadata": {},
   "source": [
    "5.\tRepeat step 4 by applying a moving average of length equal to 150 days to smooth the daily SST anomalies."
   ]
  },
  {
   "cell_type": "code",
   "execution_count": null,
   "id": "5c0e7634",
   "metadata": {},
   "outputs": [],
   "source": [
    "da = SST_anomalies.sst\n",
    "yroll = da.rolling(time=150, center=True).mean()"
   ]
  },
  {
   "cell_type": "code",
   "execution_count": null,
   "id": "f924452a",
   "metadata": {},
   "outputs": [],
   "source": [
    "## Selecting the value every 5 months for plotting purposes\n",
    "times_list_150 =  pd.date_range('1979-01-01-00', '2017-12-31-18', freq='150D', normalize=True)\n",
    "\n",
    "# first_day_month_index = xr.cftime_range(start='1979', periods=468, freq='MS', calendar='standard')\n",
    "SST_anomalies_month_start = yroll.sel(time=times_list_150)\n",
    "SST_anomalies_month_start"
   ]
  },
  {
   "cell_type": "code",
   "execution_count": null,
   "id": "65c9495b",
   "metadata": {},
   "outputs": [],
   "source": [
    "import matplotlib.dates as mdates\n",
    "import matplotlib.pyplot as plt\n",
    "\n",
    "fig = plt.figure(figsize=(20,6))\n",
    "ax = fig.add_subplot(111)\n",
    "\n",
    "years = mdates.YearLocator()   # every year\n",
    "months = mdates.MonthLocator()  # every month\n",
    "yearsFmt = mdates.DateFormatter('%Y')\n",
    "\n",
    "ax.plot_date(SST_anomalies.time, yroll, 'r', label='Rolling Window 150')\n",
    "ax.plot_date(SST_anomalies_month_start.time, SST_anomalies_month_start, 'ro')\n",
    "ax.axhline(0.4, 0,1, color='k', linestyle='--')\n",
    "ax.axhline(0.0, 0,1, color='k')\n",
    "ax.axhline(-0.4, 0,1, color='k', linestyle='--')\n",
    "plt.ylabel('SST (*C)', fontsize=16)\n",
    "\n",
    "# format the ticks\n",
    "ax.xaxis.set_major_locator(years)\n",
    "ax.xaxis.set_major_formatter(yearsFmt)\n",
    "# ax.xaxis.set_minor_locator(months)\n",
    "ax.set_xlim('1979-01-01', '2017-12-31')\n",
    "ax.xaxis.grid(True)\n",
    "plt.title('NINO3.4 Anomalies', fontsize=16)\n",
    "plt.show()\n",
    "# ax.legend()\n",
    "# fig.savefig('./results/fig2.png', dpi = 300)"
   ]
  },
  {
   "cell_type": "markdown",
   "id": "bfe0f79c",
   "metadata": {},
   "source": [
    "6.\tBased on the definition discussed in Trenberth 1997, identify El Niño years."
   ]
  },
  {
   "cell_type": "markdown",
   "id": "0eef64e4",
   "metadata": {},
   "source": [
    "Although there have been many different ENSO indices with SST thresholds from 0.3\\*C to 0.5\\*C, Trenberth (1997) suggests that an El Nino can be said to occur if 5-month running means of sea surface temperature (SST) anomalies in the Nino 3.4 region (5°N-5°S, 120°-170°W) exceed 0.4°C for 6 months or more. According to the plot above and the definition discussed in Trenberth (1997), El Niño years are as follows: 1982-83, 1986-87, 1991-92, 1997-98, 2002-03, 2009-10, 2015-16. \n",
    "\n"
   ]
  }
 ],
 "metadata": {},
 "nbformat": 4,
 "nbformat_minor": 5
}
