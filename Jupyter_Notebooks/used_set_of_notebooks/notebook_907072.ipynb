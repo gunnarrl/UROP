{
 "cells": [
  {
   "cell_type": "markdown",
   "id": "cfbcb901",
   "metadata": {},
   "source": [
    "# GDP and population"
   ]
  },
  {
   "cell_type": "markdown",
   "id": "878f4e51",
   "metadata": {},
   "source": [
    "In this project we wish to investigate the relationship between GDP per capita and the population size of a country. The literature distinguishes between population pessimist and population optimist. Population pessimist originates from Thomas Malthus, who argues that due land being a fixed factor, an increase in population would lead to shortage of food, clean water and energy. Population optimists argues that population growth can lead to economics of scale in production and infrastructure. Furthermore, it can induce technological change and lead to more entrepreneurs and creators, which can increase the total factor productivity in the economy."
   ]
  },
  {
   "cell_type": "markdown",
   "id": "d2af1e35",
   "metadata": {},
   "source": [
    "Imports and set magics:"
   ]
  },
  {
   "cell_type": "code",
   "execution_count": null,
   "id": "f60094ef",
   "metadata": {},
   "outputs": [],
   "source": [
    "import pandas as pd\n",
    "import numpy as np\n",
    "import matplotlib.pyplot as plt\n",
    "import ipywidgets as widgets\n",
    "plt.style.use(\"seaborn\")\n",
    "import seaborn as sns\n",
    "\n",
    "\n",
    "# autoreload modules when code is run\n",
    "%load_ext autoreload\n",
    "%autoreload 2\n",
    "\n"
   ]
  },
  {
   "cell_type": "markdown",
   "id": "96644b8d",
   "metadata": {},
   "source": [
    "# Read and Clean Data"
   ]
  },
  {
   "cell_type": "markdown",
   "id": "6b2e67c4",
   "metadata": {},
   "source": [
    "## GDP Data\n",
    "**Read the GDP data** in ``GDP per cap.xlsx`` and clean it:"
   ]
  },
  {
   "cell_type": "code",
   "execution_count": null,
   "id": "19e5303e",
   "metadata": {},
   "outputs": [],
   "source": [
    "# a. load\n",
    "GDP_per_capita = pd.read_excel('GDP per cap.xlsx', skiprows=1)\n",
    "\n",
    "# b. drop columns\n",
    "drop_these = ['Indicator', 'Units', 'Scale', 'Measurement', 'Source',\t'Seasonally adjusted',\t'Base year price',\t'Base year index',\t'Historical end year',\t'Historical end quarter',\t'Date of last update',\t'Source details',\t'Additional source details',\t'Indicator code',\n",
    "]\n",
    "GDP_per_capita.drop(drop_these, axis=1, inplace=True)\n",
    "\n",
    "# c. rename columns\n",
    "myDict = {}\n",
    "for i in range(1990, 2020+1): # range goes from 1990 to 2020\n",
    "    myDict[str(i)] = f'GDP{i}' \n",
    "GDP_per_capita.rename(columns = myDict, inplace=True)\n",
    "\n",
    "# d. drop na: Remove all rows which do not have GDP data in all periods.\n",
    "GDP_per_capita = GDP_per_capita.dropna()\n",
    "\n",
    "#e. drop Eurozone \n",
    "GDP_per_capita = GDP_per_capita[GDP_per_capita.Location != \"Eurozone\"]\n",
    "\n",
    "# f. convert dataset to long\n",
    "GDP_per_capita_long = pd.wide_to_long(GDP_per_capita, stubnames='GDP', i='Location', j='Year').reset_index()\n",
    "\n",
    "# g. show\n",
    "GDP_per_capita_long.head(5)\n"
   ]
  },
  {
   "cell_type": "markdown",
   "id": "9216e650",
   "metadata": {},
   "source": [
    "## Population Data\n",
    "**Read the income data** in ``POP.xlsx`` and **clean it**:"
   ]
  },
  {
   "cell_type": "code",
   "execution_count": null,
   "id": "0ee7410b",
   "metadata": {},
   "outputs": [],
   "source": [
    "# a. load\n",
    "pop = pd.read_excel('POP.xlsx', skiprows=1)\n",
    "\n",
    "\n",
    "# b. drop columns\n",
    "drop_these = ['Indicator', 'Units', 'Scale', 'Measurement', 'Source',\t'Seasonally adjusted',\t'Base year price',\t'Base year index',\t'Historical end year',\t'Historical end quarter',\t'Date of last update',\t'Source details',\t'Additional source details',\t'Indicator code']\n",
    "pop.drop(drop_these, axis=1, inplace=True)\n",
    "\n",
    "# c. rename columns\n",
    "myDict_pop = {}\n",
    "for i in range(1990, 2020+1): # range goes from 1990 to 2020\n",
    "    myDict_pop[str(i)] = f'pop{i}' \n",
    "pop.rename(columns = myDict_pop, inplace=True)\n",
    "pop.head(10)\n",
    "\n",
    "# d. drop na\n",
    "pop = pop.dropna()\n",
    "\n",
    "#e. drop Eurozone \n",
    "pop = pop[pop.Location != \"Eurozone\"]\n",
    "\n",
    "# f. convert to long\n",
    "pop_long = pd.wide_to_long(pop, stubnames='pop', i='Location', j='Year').reset_index()\n",
    "\n",
    "# g. show\n",
    "pop_long.head(5)"
   ]
  },
  {
   "cell_type": "markdown",
   "id": "04cf3193",
   "metadata": {},
   "source": [
    "# Explore Data Set\n",
    "In order to be able to explore the data, we here provide two **interactive plots** to show the GDP per capita and the population in each country, respectively."
   ]
  },
  {
   "cell_type": "code",
   "execution_count": null,
   "id": "a28ad5dc",
   "metadata": {},
   "outputs": [],
   "source": [
    "def plot_GDP(df, Location,Location2):\n",
    "    fig = plt.figure(figsize=(10,4))\n",
    "    ax = fig.add_subplot(1,1,1)\n",
    "\n",
    "    I = df['Location'] == Location\n",
    "    I2 = df['Location'] == Location2\n",
    "\n",
    "    ax.plot(df.loc[I,:]['Year'],df.loc[I,:]['GDP'])\n",
    "    ax.plot(df.loc[I2,:]['Year'],df.loc[I2,:]['GDP'])\n",
    "\n",
    "    ax.set_ylabel('USD')\n",
    "    ax.set_xlabel('Year')\n",
    "    ax.legend(['GDP per capita '+ str(Location),'GDP per capita '+ str(Location2)])\n",
    "\n",
    "\n",
    "widgets.interact(plot_GDP,\n",
    "df = widgets.fixed(GDP_per_capita_long),\n",
    "Location = widgets.Dropdown(description='Location1',\n",
    "options=GDP_per_capita_long.Location.unique(),\n",
    "value='Denmark', ),\n",
    "Location2 = widgets.Dropdown(description='Location2',\n",
    "options=GDP_per_capita_long.Location.unique(),\n",
    "value='Sweden', )\n",
    "\n",
    ");"
   ]
  },
  {
   "cell_type": "code",
   "execution_count": null,
   "id": "ddfd5a71",
   "metadata": {},
   "outputs": [],
   "source": [
    "def plot_pop(df, Location,Location2):\n",
    "    fig = plt.figure(figsize=(10,4))\n",
    "    ax = fig.add_subplot(1,1,1)\n",
    "\n",
    "    I = df['Location'] == Location\n",
    "    I2 = df['Location'] == Location2\n",
    "\n",
    "    ax.plot(df.loc[I,:]['Year'],df.loc[I,:]['pop'])\n",
    "    ax.plot(df.loc[I2,:]['Year'],df.loc[I2,:]['pop'])\n",
    "\n",
    "    ax.set_ylabel('Population in thousands')\n",
    "    ax.set_xlabel('Year')\n",
    "    ax.legend(['Population '+ str(Location),'Population '+ str(Location2)])\n",
    "\n",
    "\n",
    "widgets.interact(plot_pop,\n",
    "df = widgets.fixed(pop_long),\n",
    "Location = widgets.Dropdown(description='Location1',\n",
    "options=pop_long.Location.unique(),\n",
    "value='Denmark', ),\n",
    "Location2 = widgets.Dropdown(description='Location2',\n",
    "options=pop_long.Location.unique(),\n",
    "value='Sweden', )\n",
    "\n",
    ");"
   ]
  },
  {
   "cell_type": "markdown",
   "id": "2bc04940",
   "metadata": {},
   "source": [
    "# Merge Data Sets"
   ]
  },
  {
   "cell_type": "code",
   "execution_count": null,
   "id": "a22aebdc",
   "metadata": {},
   "outputs": [],
   "source": [
    "GDP_pop = pd.merge(GDP_per_capita_long, pop_long, how='inner',on=['Location code', 'Year'])\n",
    "drop_duplicate_location = ['Location_y']\n",
    "GDP_pop.drop(drop_duplicate_location, axis=1, inplace=True)\n",
    "GDP_pop.rename(columns = {'Location_x':'Location'}, inplace=True)\n",
    "GDP_pop.head(5)"
   ]
  },
  {
   "cell_type": "code",
   "execution_count": null,
   "id": "069d92e9",
   "metadata": {},
   "outputs": [],
   "source": [
    "# We sort the data by left joining our data set on the data subset of 2019. This ensures the desired order of the data. \n",
    "GDP_pop_start = GDP_pop[(GDP_pop.Year == 2019)]\n",
    "GDP_pop_1 = pd.merge(GDP_pop_start, GDP_pop, how='left',on=['Location code'])\n",
    "drop_these = ['Year_x', 'GDP_x', 'pop_x', 'Location_y']\n",
    "rename_these = {'Location_x':'Location', 'Location code': 'Location_code', 'Year_y':'year', 'GDP_y':'GDP', 'pop_y':'pop'}\n",
    "GDP_pop_1.drop(drop_these, axis=1, inplace=True)\n",
    "GDP_pop_1.rename(columns = rename_these, inplace=True)\n",
    "GDP_pop_1.head(100)\n",
    "\n",
    "# Take logs of GDP\n",
    "GDP_pop_1['log_GDP'] =  np.log(GDP_pop_1['GDP'])\n",
    "\n",
    "# Take logs of population \n",
    "GDP_pop_1['log_pop'] =  np.log(GDP_pop_1['pop'])\n",
    "\n",
    "# GDP growth rates\n",
    "GDP_pop_1['growth_GDP'] = GDP_pop_1['log_GDP'].diff(1)\n",
    "\n",
    "# Population Growth rates\n",
    "GDP_pop_1['growth_pop'] = GDP_pop_1['log_pop'].diff(1)\n",
    "\n",
    "# Removing 1990 as there is no meaningful growth rate\n",
    "GDP_pop_1= GDP_pop_1[(GDP_pop_1.year > 1990)]\n",
    "GDP_pop_1.head(5)\n"
   ]
  },
  {
   "cell_type": "markdown",
   "id": "64e7a162",
   "metadata": {},
   "source": [
    "# Outlier Test\n",
    "We search for potential outliers that could skew our results"
   ]
  },
  {
   "cell_type": "code",
   "execution_count": null,
   "id": "c1b877f8",
   "metadata": {},
   "outputs": [],
   "source": [
    "# Defining outliers as countries with unrealistic year to year growth exceeding 100% \n",
    "GDP_pop_1[(GDP_pop_1.growth_GDP > 1)]\n"
   ]
  },
  {
   "cell_type": "code",
   "execution_count": null,
   "id": "74b346e7",
   "metadata": {},
   "outputs": [],
   "source": [
    "# Removing the outliers found above\n",
    "GDP_pop_out=GDP_pop_1[(GDP_pop_1.Location_code != 'ERI') & (GDP_pop_1.Location_code != 'BLR') & (GDP_pop_1.Location_code != 'TKM')]\n"
   ]
  },
  {
   "cell_type": "markdown",
   "id": "ce58faf9",
   "metadata": {},
   "source": [
    "# Analysis\n",
    "We divide all countries into 4 different income groups based on GDP per capita in 2019. The thresholds are from the income quantiles in 2019.s."
   ]
  },
  {
   "cell_type": "code",
   "execution_count": null,
   "id": "5a421065",
   "metadata": {},
   "outputs": [],
   "source": [
    "# Defining the income groups based on GDP-quantiles in 2019.\n",
    "GDP_pop_group4 = GDP_pop_out[(GDP_pop_out.GDP <= GDP_pop_out.GDP.quantile(0.25)) & (GDP_pop_out.year == 2019)]\n",
    "GDP_pop_group3 = GDP_pop_out[(GDP_pop_out.GDP >= GDP_pop_out.GDP.quantile(0.25)) & (GDP_pop_out.GDP <= GDP_pop_out.GDP.quantile(0.5)) & (GDP_pop_out.year == 2019)]\n",
    "GDP_pop_group2 = GDP_pop_out[(GDP_pop_out.GDP >= GDP_pop_out.GDP.quantile(0.5)) & (GDP_pop_out.GDP <= GDP_pop_out.GDP.quantile(0.75)) & (GDP_pop_out.year == 2019)]\n",
    "GDP_pop_group1 = GDP_pop_out[(GDP_pop_out.GDP >= GDP_pop_out.GDP.quantile(0.75)) & (GDP_pop_out.year == 2019)]"
   ]
  },
  {
   "cell_type": "markdown",
   "id": "8ad83373",
   "metadata": {},
   "source": [
    "Now we join the rest of the data set on the income groups"
   ]
  },
  {
   "cell_type": "code",
   "execution_count": null,
   "id": "506044b9",
   "metadata": {},
   "outputs": [],
   "source": [
    "# group 1\n",
    "join_group1 = pd.merge(GDP_pop_group1, GDP_pop_out, how='left',on=['Location_code'])\n",
    "drop_these = ['year_x', 'GDP_x', 'pop_x', 'Location_y','log_GDP_x','log_pop_x','growth_GDP_x','growth_pop_x']\n",
    "rename_these = {'year_y':'year', 'GDP_y':'GDP', 'pop_y':'pop','log_GDP_y':'log_GDP','log_pop_y':'log_pop','growth_GDP_y':'growth_GDP','growth_pop_y':'growth_pop','Location_x':'Location'}\n",
    "join_group1.drop(drop_these, axis=1, inplace=True)\n",
    "join_group1.rename(columns = rename_these, inplace=True)\n",
    "join_group1['income_group'] = str(\"group_1\")\n",
    "# group 2\n",
    "join_group2 = pd.merge(GDP_pop_group2, GDP_pop_out, how='left',on=['Location_code'])\n",
    "drop_these = ['year_x', 'GDP_x', 'pop_x', 'Location_y','log_GDP_x','log_pop_x','growth_GDP_x','growth_pop_x']\n",
    "rename_these = {'year_y':'year', 'GDP_y':'GDP', 'pop_y':'pop','log_GDP_y':'log_GDP','log_pop_y':'log_pop','growth_GDP_y':'growth_GDP','growth_pop_y':'growth_pop','Location_x':'Location'}\n",
    "join_group2.drop(drop_these, axis=1, inplace=True)\n",
    "join_group2.rename(columns = rename_these, inplace=True)\n",
    "join_group2['income_group'] = str(\"group_2\")\n",
    "# group 3\n",
    "join_group3 = pd.merge(GDP_pop_group3, GDP_pop_out, how='left',on=['Location_code'])\n",
    "drop_these = ['year_x', 'GDP_x', 'pop_x', 'Location_y','log_GDP_x','log_pop_x','growth_GDP_x','growth_pop_x']\n",
    "rename_these = {'year_y':'year', 'GDP_y':'GDP', 'pop_y':'pop','log_GDP_y':'log_GDP','log_pop_y':'log_pop','growth_GDP_y':'growth_GDP','growth_pop_y':'growth_pop','Location_x':'Location'}\n",
    "join_group3.drop(drop_these, axis=1, inplace=True)\n",
    "join_group3.rename(columns = rename_these, inplace=True)\n",
    "join_group3['income_group'] = str(\"group_3\")\n",
    "# group 4\n",
    "join_group4 = pd.merge(GDP_pop_group4, GDP_pop_out, how='left',on=['Location_code'])\n",
    "drop_these = ['year_x', 'GDP_x', 'pop_x', 'Location_y','log_GDP_x','log_pop_x','growth_GDP_x','growth_pop_x']\n",
    "rename_these = {'year_y':'year', 'GDP_y':'GDP', 'pop_y':'pop','log_GDP_y':'log_GDP','log_pop_y':'log_pop','growth_GDP_y':'growth_GDP','growth_pop_y':'growth_pop','Location_x':'Location'}\n",
    "join_group4.drop(drop_these, axis=1, inplace=True)\n",
    "join_group4.rename(columns = rename_these, inplace=True)\n",
    "join_group4['income_group'] = str(\"group_4\")\n",
    "\n",
    "join_group4.head(5)"
   ]
  },
  {
   "cell_type": "code",
   "execution_count": null,
   "id": "de0ad81e",
   "metadata": {},
   "outputs": [],
   "source": [
    "# We plot the average growth rates in GDP per capita for each income group\n",
    "x_coordinates = [1991, 2020]\n",
    "y_coordinates = [0.02, 0.02]\n",
    "plt.plot(x_coordinates, y_coordinates, sns.xkcd_rgb[\"orange\"])\n",
    "join_group1.groupby([\"year\"]).growth_GDP.mean().plot()\n",
    "join_group2.groupby([\"year\"]).growth_GDP.mean().plot().grid(True)\n",
    "join_group3.groupby([\"year\"]).growth_GDP.mean().plot().set_ylabel(\"Average growth in GDP per capita\")\n",
    "join_group4.groupby([\"year\"]).growth_GDP.mean().plot().legend([\"Reference line 2%\",\"income group 1\",\"income group 2\",\"income group 3\",\"income group 4\"]);"
   ]
  },
  {
   "cell_type": "markdown",
   "id": "bf36ff01",
   "metadata": {},
   "source": [
    "Finally, we want to see if there is any correlation between the average growth rates in GDP per capita and population. To do so, we concatenate the 4 income groups data sets into one final data set, which we call \"outcome\"."
   ]
  },
  {
   "cell_type": "code",
   "execution_count": null,
   "id": "56284cbc",
   "metadata": {},
   "outputs": [],
   "source": [
    "# Merge group tables\n",
    "outcome = pd.concat([join_group1, join_group2, join_group3, join_group4])\n"
   ]
  },
  {
   "cell_type": "code",
   "execution_count": null,
   "id": "6bc32b68",
   "metadata": {},
   "outputs": [],
   "source": [
    "# Scatter plot\n",
    "scatterx = outcome.groupby([\"Location\"]).growth_GDP.mean()\n",
    "scattery = outcome.groupby([\"Location\"]).growth_pop.mean()\n",
    "\n",
    "scatterdata1 = pd.merge(outcome, scatterx, how='left',on=['Location'])\n",
    "scatterdata2 = pd.merge(scatterdata1, scattery, how='left',on=['Location'])\n",
    "\n",
    "scatter = sns.scatterplot(x=\"growth_GDP_y\", y=\"growth_pop_y\", data=scatterdata2, hue= \"income_group\" , legend='full')\n",
    "plt.xlabel(\"Average growth in GDP per capita\")\n",
    "plt.ylabel(\"Average growth in population\");\n",
    "plt.grid(True)\n"
   ]
  },
  {
   "cell_type": "markdown",
   "id": "dec57753",
   "metadata": {},
   "source": [
    "# Conclusion"
   ]
  },
  {
   "cell_type": "markdown",
   "id": "56c1bb16",
   "metadata": {},
   "source": [
    "In this project we have worked with two data sets; one containing the GDP per capita for most countries from 1990 to 2019 and another containing the population for most countries in the same period. We started by cleaning both data sets and then made interactive plots of both variables in order to investigate the data and thereafter merged the two data sets to look at the correlation.\n",
    "\n",
    "In the analysis we divided all the countries into four different income groups based on the 25th, 50th and 75th quantile of GDP per capita in 2019. Then we calculated the growth rates for both GDP per capita and population.\n",
    "\n",
    "We graphed the average growth rates for the 4 income groups to investigate if there was any noticeable difference. \n",
    "We see that in the early 90's income group 3 and 4 had negative growth rates, which income group 3 escape earlier than income group 4.\n",
    "From around 2000 and foreward, income group 1 seems to have a lower growth rate than the three other groups, which can be a sign of convergence in global income.\n",
    "Worth noting is aound the financial crisis in 2008, where the highest income groups have the lowest growth rates.\n",
    "\n",
    "Finally, we make a scatterplot to examine the correlation between growth in population and GDP per capita. Some theories claim that there might be a positive correlation due to economics of scale in the economy. We do not find any graphical evidence to support these theories. "
   ]
  }
 ],
 "metadata": {},
 "nbformat": 4,
 "nbformat_minor": 5
}
