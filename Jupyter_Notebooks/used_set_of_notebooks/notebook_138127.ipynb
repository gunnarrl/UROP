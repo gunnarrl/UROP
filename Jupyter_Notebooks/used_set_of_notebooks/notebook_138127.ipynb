{
 "cells": [
  {
   "cell_type": "markdown",
   "id": "1d3a221a",
   "metadata": {},
   "source": [
    "## Handling Imbalanced Datasets"
   ]
  },
  {
   "cell_type": "code",
   "execution_count": null,
   "id": "999d2517",
   "metadata": {},
   "outputs": [],
   "source": [
    "import pandas as pd\n",
    "import matplotlib.pyplot as plt\n",
    "import numpy as np\n",
    "from sklearn.preprocessing import StandardScaler\n",
    "from imblearn.over_sampling import SMOTE\n",
    "from sklearn.model_selection import train_test_split\n",
    "from sklearn.linear_model import LogisticRegression\n",
    "from sklearn.cross_validation import KFold, cross_val_score\n",
    "from sklearn.metrics import confusion_matrix,precision_recall_curve,auc,roc_auc_score,roc_curve,recall_score,classification_report \n",
    "import itertools\n",
    "from sklearn.externals import joblib\n",
    "\n",
    "%matplotlib inline"
   ]
  },
  {
   "cell_type": "markdown",
   "id": "167aedda",
   "metadata": {},
   "source": [
    "## Helper methods"
   ]
  },
  {
   "cell_type": "code",
   "execution_count": null,
   "id": "76f18b1f",
   "metadata": {},
   "outputs": [],
   "source": [
    "def data_prepration(x): \n",
    "    x_features= x.iloc[:,x.columns != \"Class\"]\n",
    "    x_labels=x.iloc[:,x.columns==\"Class\"]\n",
    "    x_features_train,x_features_test,x_labels_train,x_labels_test = train_test_split(x_features,x_labels,test_size=0.3)\n",
    "    return(x_features_train,x_features_test,x_labels_train,x_labels_test)\n",
    "\n",
    "\n",
    "def printing_Kfold_scores(x_train_data,y_train_data):\n",
    "    fold = KFold(len(y_train_data),5,shuffle=False) \n",
    "\n",
    "    # Different C parameters\n",
    "    c_param_range = [0.01,0.1,1,1.5,10,100]\n",
    "\n",
    "    results_table = pd.DataFrame(index = range(len(c_param_range),2), columns = ['C_parameter','Mean recall score'])\n",
    "    results_table['C_parameter'] = c_param_range\n",
    "\n",
    "    # the k-fold will give 2 lists: train_indices = indices[0], test_indices = indices[1]\n",
    "    j = 0\n",
    "    for c_param in c_param_range:\n",
    "        print('-------------------------------------------')\n",
    "        print('C parameter: ', c_param)\n",
    "        print('-------------------------------------------')\n",
    "        print('')\n",
    "\n",
    "        recall_accs = []\n",
    "        for iteration, indices in enumerate(fold,start=1):\n",
    "\n",
    "            # Call the logistic regression model with a certain C parameter\n",
    "            lr = LogisticRegression(C = c_param, penalty = 'l1')\n",
    "\n",
    "            # Use the training data to fit the model. In this case, we use the portion of the fold to train the model\n",
    "            # with indices[0]. We then predict on the portion assigned as the 'test cross validation' with indices[1]\n",
    "            lr.fit(x_train_data.iloc[indices[0],:],y_train_data.iloc[indices[0],:].values.ravel())\n",
    "\n",
    "            # Predict values using the test indices in the training data\n",
    "            y_pred_undersample = lr.predict(x_train_data.iloc[indices[1],:].values)\n",
    "\n",
    "            # Calculate the recall score and append it to a list for recall scores representing the current c_parameter\n",
    "            recall_acc = recall_score(y_train_data.iloc[indices[1],:].values,y_pred_undersample)\n",
    "            recall_accs.append(recall_acc)\n",
    "            print('Iteration ', iteration,': recall score = ', recall_acc)\n",
    "\n",
    "        # The mean value of those recall scores is the metric we want to save and get hold of.\n",
    "        results_table.ix[j,'Mean recall score'] = np.mean(recall_accs)\n",
    "        j += 1\n",
    "        print('')\n",
    "        print('Mean recall score ', np.mean(recall_accs))\n",
    "        print('')\n",
    "\n",
    "    best_c = results_table.loc[results_table['Mean recall score'].idxmax()]['C_parameter']\n",
    "    \n",
    "    # Finally, we can check which C parameter is the best amongst the chosen.\n",
    "    print('*********************************************************************************')\n",
    "    print('Best model to choose from cross validation is with C parameter = ', best_c)\n",
    "    print('*********************************************************************************')\n",
    "    \n",
    "    return best_c\n",
    "\n",
    "\n",
    "def plot_confusion_matrix(cm, classes,\n",
    "                          normalize=False,\n",
    "                          title='Confusion matrix',\n",
    "                          cmap=plt.cm.Blues):\n",
    "    \"\"\"\n",
    "    This function prints and plots the confusion matrix.\n",
    "    Normalization can be applied by setting `normalize=True`.\n",
    "    \"\"\"\n",
    "    plt.imshow(cm, interpolation='nearest', cmap=cmap)\n",
    "    plt.title(title)\n",
    "    plt.colorbar()\n",
    "    tick_marks = np.arange(len(classes))\n",
    "    plt.xticks(tick_marks, classes, rotation=0)\n",
    "    plt.yticks(tick_marks, classes)\n",
    "\n",
    "    if normalize:\n",
    "        cm = cm.astype('float') / cm.sum(axis=1)[:, np.newaxis]\n",
    "    else:\n",
    "        pass\n",
    "    \n",
    "    thresh = cm.max() / 2.\n",
    "    for i, j in itertools.product(range(cm.shape[0]), range(cm.shape[1])):\n",
    "        plt.text(j, i, cm[i, j],\n",
    "                 horizontalalignment=\"center\",\n",
    "                 color=\"white\" if cm[i, j] > thresh else \"black\")\n",
    "\n",
    "    plt.tight_layout()\n",
    "    plt.ylabel('True label')\n",
    "    plt.xlabel('Predicted label')"
   ]
  },
  {
   "cell_type": "markdown",
   "id": "46c47879",
   "metadata": {},
   "source": [
    "## Load the data"
   ]
  },
  {
   "cell_type": "code",
   "execution_count": null,
   "id": "cfaa3095",
   "metadata": {},
   "outputs": [],
   "source": [
    "data = pd.read_csv(\"creditcard.csv\")\n",
    "data.head()"
   ]
  },
  {
   "cell_type": "markdown",
   "id": "c9dd5921",
   "metadata": {},
   "source": [
    "## Showing the ratio of classes"
   ]
  },
  {
   "cell_type": "code",
   "execution_count": null,
   "id": "51db848b",
   "metadata": {},
   "outputs": [],
   "source": [
    "count_of_classes = pd.value_counts(data['Class'], sort = True).sort_index()\n",
    "count_of_classes.plot(kind = 'bar')\n",
    "plt.title(\"Class Histogram\")\n",
    "plt.xlabel(\"Class\")\n",
    "plt.ylabel(\"Frequency\")\n",
    "\n",
    "# Showing ratio\n",
    "print(\"Percentage of normal transactions: \", len(data[data.Class == 0])/len(data))\n",
    "print(\"Percentage of fraud transactions: \", len(data[data.Class == 1])/len(data))\n",
    "print(\"Total number of transactions in data: \", len(data))"
   ]
  },
  {
   "cell_type": "markdown",
   "id": "7ad734be",
   "metadata": {},
   "source": [
    "## Data Preprocessing\n"
   ]
  },
  {
   "cell_type": "code",
   "execution_count": null,
   "id": "6016cb6b",
   "metadata": {},
   "outputs": [],
   "source": [
    "data['normalAmount'] = StandardScaler().fit_transform(data['Amount'].values.reshape(-1, 1))\n",
    "data = data.drop(['Time','Amount'],axis=1)\n",
    "data.head()"
   ]
  },
  {
   "cell_type": "markdown",
   "id": "90c234d0",
   "metadata": {},
   "source": [
    "## Split data into training and test sets"
   ]
  },
  {
   "cell_type": "code",
   "execution_count": null,
   "id": "804bac26",
   "metadata": {},
   "outputs": [],
   "source": [
    "train_X, test_X, train_Y, test_Y = data_prepration(data)\n",
    "columns = train_X.columns"
   ]
  },
  {
   "cell_type": "markdown",
   "id": "72918def",
   "metadata": {},
   "source": [
    "## Use SMOTE to balance our dataset"
   ]
  },
  {
   "cell_type": "code",
   "execution_count": null,
   "id": "24249fb1",
   "metadata": {},
   "outputs": [],
   "source": [
    "smote_algo = SMOTE(random_state=0)\n",
    "smote_data_X,smote_data_Y = smote_algo.fit_sample(train_X, train_Y)\n",
    "smote_data_X = pd.DataFrame(data=smote_data_X,columns=columns )\n",
    "smote_data_Y= pd.DataFrame(data=smote_data_Y,columns=[\"Class\"])\n",
    "smote_data = smote_data_X\n",
    "smote_data[\"Class\"] = smote_data_Y[\"Class\"]"
   ]
  },
  {
   "cell_type": "code",
   "execution_count": null,
   "id": "2510f3ad",
   "metadata": {},
   "outputs": [],
   "source": [
    "count_of_classes = pd.value_counts(smote_data_Y['Class'], sort = True).sort_index()\n",
    "count_of_classes.plot(kind = 'bar')\n",
    "plt.title(\"Class Histogram\")\n",
    "plt.xlabel(\"Class\")\n",
    "plt.ylabel(\"Frequency\")\n",
    "\n",
    "# Showing ratio\n",
    "print(\"Percentage of normal transactions: \", len(smote_data_Y[smote_data_Y.Class == 0])/len(smote_data_Y))\n",
    "print(\"Percentage of fraud transactions: \", len(smote_data_Y[smote_data_Y.Class == 1])/len(smote_data_Y))\n",
    "print(\"Total number of transactions in balanced data: \", len(smote_data_Y))"
   ]
  },
  {
   "cell_type": "markdown",
   "id": "08d02e0b",
   "metadata": {},
   "source": [
    "## Split the balanced data into training and test sets"
   ]
  },
  {
   "cell_type": "code",
   "execution_count": null,
   "id": "5488a892",
   "metadata": {},
   "outputs": [],
   "source": [
    "smote_train_X, smote_test_X, smote_train_Y, smote_test_Y = data_prepration(smote_data)\n",
    "columns = smote_train_X.columns"
   ]
  },
  {
   "cell_type": "code",
   "execution_count": null,
   "id": "100d54eb",
   "metadata": {},
   "outputs": [],
   "source": [
    "best_c = printing_Kfold_scores(smote_train_X, smote_train_Y)"
   ]
  },
  {
   "cell_type": "markdown",
   "id": "f9c4ae03",
   "metadata": {},
   "source": [
    "## Logisitic Regression Classifer on Imbalanced Data"
   ]
  },
  {
   "cell_type": "code",
   "execution_count": null,
   "id": "15a3b2c8",
   "metadata": {},
   "outputs": [],
   "source": [
    "# Use the best C parameter to build the final model with the training\n",
    "# dataset and predict the classes in the test dataset\n",
    "\n",
    "logreg = LogisticRegression(C = best_c, penalty = 'l1')\n",
    "fitted = logreg.fit(train_X, train_Y.values.ravel())\n",
    "y_pred = logreg.predict(test_X.values)\n",
    "\n",
    "# Compute confusion matrix\n",
    "cnf_matrix = confusion_matrix(test_Y, y_pred)\n",
    "np.set_printoptions(precision=2)\n",
    "\n",
    "print(\"Recall metric in the test dataset: \", cnf_matrix[1,1]/(cnf_matrix[1,0]+cnf_matrix[1,1]))\n",
    "\n",
    "class_names = [0,1]\n",
    "plt.figure()\n",
    "plot_confusion_matrix(cnf_matrix, classes=class_names, title='Confusion matrix')\n",
    "plt.show()\n",
    "\n",
    "# Plot ROC curves\n",
    "y_pred_score = fitted.decision_function(test_X.values)\n",
    "fpr, tpr, thresholds = roc_curve(test_Y.values.ravel(), y_pred_score)\n",
    "roc_auc = auc(fpr,tpr)\n",
    "\n",
    "plt.title('Receiver Operating Characteristic')\n",
    "plt.plot(fpr, tpr, 'b',label='AUC = %0.2f'% roc_auc)\n",
    "plt.legend(loc='lower right')\n",
    "plt.plot([0,1],[0,1],'r--')\n",
    "plt.xlim([-0.1,1.0])\n",
    "plt.ylim([-0.1,1.01])\n",
    "plt.ylabel('True Positive Rate')\n",
    "plt.xlabel('False Positive Rate')\n",
    "plt.show()"
   ]
  },
  {
   "cell_type": "markdown",
   "id": "1d8760b8",
   "metadata": {},
   "source": [
    "## Logistic Regression Classifier on Balanced Data"
   ]
  },
  {
   "cell_type": "code",
   "execution_count": null,
   "id": "97a8945a",
   "metadata": {},
   "outputs": [],
   "source": [
    "# Use the best C parameter to build the final model with the training\n",
    "# dataset and predict the classes in the test dataset\n",
    "\n",
    "logreg = LogisticRegression(C = best_c, penalty = 'l1')\n",
    "fitted = logreg.fit(smote_train_X,smote_train_Y.values.ravel())\n",
    "y_pred_smote = logreg.predict(smote_test_X.values)\n",
    "\n",
    "# Compute confusion matrix\n",
    "cnf_matrix = confusion_matrix(smote_test_Y, y_pred_smote)\n",
    "np.set_printoptions(precision=2)\n",
    "\n",
    "print(\"Recall metric in the test dataset: \", cnf_matrix[1,1]/(cnf_matrix[1,0]+cnf_matrix[1,1]))\n",
    "\n",
    "class_names = [0,1]\n",
    "plt.figure()\n",
    "plot_confusion_matrix(cnf_matrix, classes=class_names, title='Confusion matrix')\n",
    "plt.show()\n",
    "\n",
    "# Plot ROC curves\n",
    "y_pred_score = fitted.decision_function(smote_test_X.values)\n",
    "fpr, tpr, thresholds = roc_curve(smote_test_Y.values.ravel(), y_pred_score)\n",
    "roc_auc = auc(fpr,tpr)\n",
    "\n",
    "plt.title('Receiver Operating Characteristic')\n",
    "plt.plot(fpr, tpr, 'b',label='AUC = %0.2f'% roc_auc)\n",
    "plt.legend(loc='lower right')\n",
    "plt.plot([0,1],[0,1],'r--')\n",
    "plt.xlim([-0.1,1.0])\n",
    "plt.ylim([-0.1,1.01])\n",
    "plt.ylabel('True Positive Rate')\n",
    "plt.xlabel('False Positive Rate')\n",
    "plt.show()\n"
   ]
  },
  {
   "cell_type": "markdown",
   "id": "34d57a7c",
   "metadata": {},
   "source": [
    "## Persist our built model"
   ]
  },
  {
   "cell_type": "code",
   "execution_count": null,
   "id": "7487a6db",
   "metadata": {},
   "outputs": [],
   "source": [
    "# Persist the model\n",
    "joblib.dump(logreg, 'wiml_model.pkl')\n",
    "\n",
    "# Persist the feature names\n",
    "model_columns = list(test_X.columns)\n",
    "joblib.dump(model_columns, 'model_columns.pkl') "
   ]
  }
 ],
 "metadata": {},
 "nbformat": 4,
 "nbformat_minor": 5
}
