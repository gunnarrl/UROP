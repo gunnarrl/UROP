{
 "cells": [
  {
   "cell_type": "markdown",
   "id": "9375383e",
   "metadata": {},
   "source": [
    "### Multislice Simulations\n",
    "\n",
    "**Roberto dos Reis**<br>\n",
    "Northwestern University\n",
    "\n",
    "- The multislice method of Cowley and Moodie[1](https://doi.org/10.1107/S0365110X57002194) is, surely, the most widely used method for the simulation of images.\n",
    "\n",
    "- Multislice \n",
    "\n",
    "- This script is based on [Kirkland's Advanced Computing in Electron Microscopy](https://www.springer.com/us/book/9781489995094#otherversion=9781441965325)"
   ]
  },
  {
   "cell_type": "code",
   "execution_count": null,
   "id": "262d90b7",
   "metadata": {},
   "outputs": [],
   "source": [
    "# Numeric operations\n",
    "import numpy as np\n",
    "\n",
    "# Visualization / Plotting\n",
    "import matplotlib\n",
    "from matplotlib import pyplot as plt\n",
    "from matplotlib.patches import Rectangle\n",
    "from numpy.matlib import repmat\n",
    "\n",
    "#to load .mat files\n",
    "from scipy.io import loadmat\n",
    "from scipy.special import jv\n",
    "from scipy.io import loadmat\n",
    "\n",
    "# for math functions\n",
    "import scipy.special as sp\n",
    "from scipy.interpolate import interp1d\n",
    "from scipy.special import expit\n",
    "import math\n",
    "\n",
    "from mpmath import *\n",
    "from scipy.special import kn\n",
    "\n",
    "import os\n",
    "\n",
    "# Ensure that images are rendered in this notebook:\n",
    "%matplotlib inline"
   ]
  },
  {
   "cell_type": "markdown",
   "id": "45b062e7",
   "metadata": {},
   "source": [
    "### Define structure here\n",
    "\n",
    "- Essentially at he end of this block you need an array with x,y,z positions and Z number for each element tiled by the number of unit cells needed for simulations in [x,y] directions \n",
    "\n",
    "- This can be defined using softwares like Vesta or CrystalMaker\n",
    "\n",
    "- You can find similar code in the Week 5 material"
   ]
  },
  {
   "cell_type": "code",
   "execution_count": null,
   "id": "4f038378",
   "metadata": {},
   "outputs": [],
   "source": [
    "numUC = np.array([2,2])*8 #currently working only for squared projected structure\n",
    "thickness = 100\n",
    "\n",
    "## Define cubic SrTiO3\n",
    "\n",
    "#Lattice parameter\n",
    "a = 3.905\n",
    "\n",
    "potBound = 1.25\n",
    "\n",
    "# Cell dimensions\n",
    "cellDim = np.array([1,1,1])*a\n",
    "\n",
    "#Debye waller factors converted into RMS atomic displacements\n",
    "uSr = np.sqrt(0.270/8)/np.pi\n",
    "uTi = np.sqrt(0.415/8)/np.pi\n",
    "uO = 0.10\n",
    "\n",
    "#Define STO lattice\n",
    "b = np.array([[0.0, 0.0, 0.0, 38], \n",
    "             [0.5, 0.5, 0.5, 22],\n",
    "             [0.0, 0.0, 0.5, 8],\n",
    "             [0.0, 0.5, 0.0, 8],\n",
    "             [0.5, 0.0, 0.0, 8]])\n",
    "\n",
    "#Convert thicknesses into number of cells\n",
    "\n",
    "thickCells = np.round(thickness/cellDim[2])\n",
    "thickTotal = np.max(thickCells)\n",
    "\n",
    "# Make structure block\n",
    "[xa,ya,za] = np.meshgrid(np.arange(0,(numUC[0]-1)), np.arange(0,(numUC[1]-1)), 1)\n",
    "\n",
    "xxa = np.reshape(xa, (1,np.product(xa.shape))).transpose()\n",
    "yya = np.reshape(ya, (1,np.product(ya.shape))).transpose()\n",
    "zza = np.reshape(za, (1,np.product(za.shape))).transpose()\n",
    "\n",
    "p = np.squeeze(np.array([xxa, yya, zza, np.zeros(((xa.size),1))]))\n",
    "p= p.transpose()\n",
    "\n",
    "[pa,ba] = np.meshgrid(np.arange(0, np.size(p, axis=0)), np.arange(0, np.size(b, axis=0)))\n",
    "\n",
    "atoms = p[pa[:],] + b[ba[:],]\n",
    "atoms = atoms.reshape((atoms.shape[0]*atoms.shape[1]), atoms.shape[2])\n",
    "\n",
    "# scale to UC dimensions\n",
    "atoms[:,0] = atoms[:,0]*cellDim[0]\n",
    "atoms[:,1] = atoms[:,1]*cellDim[1]\n",
    "atoms[:,2] = atoms[:,2]*cellDim[2]"
   ]
  },
  {
   "cell_type": "code",
   "execution_count": null,
   "id": "0c13dde3",
   "metadata": {},
   "outputs": [],
   "source": [
    "import plotly.graph_objects as go\n",
    "import numpy as np\n",
    "\n",
    "# Data for three-dimensional scattered points\n",
    "zdata = atoms[:,2]\n",
    "xdata = atoms[:,0]\n",
    "ydata = atoms[:,1]\n",
    "\n",
    "fig = go.Figure(data=[go.Scatter3d(x=xdata, y=ydata, z=zdata,\n",
    "                                   mode='markers',\n",
    "                                   marker=dict(size=12,\n",
    "                                               colorscale='Viridis', # choose a colorscale\n",
    "                                               opacity=0.8))])\n",
    "fig.show()"
   ]
  },
  {
   "cell_type": "markdown",
   "id": "3bcf0849",
   "metadata": {},
   "source": [
    "### Simulation Inputs\n"
   ]
  },
  {
   "cell_type": "code",
   "execution_count": null,
   "id": "b9d62e1c",
   "metadata": {},
   "outputs": [],
   "source": [
    "numFP = 1\n",
    "\n",
    "#Flag to plot projected potentials\n",
    "f_plotPot = 1\n",
    "\n",
    "#Probe positions\n",
    "Nprobes = np.array([1,1])*8\n",
    "\n",
    "# xp = np.linspace(0,cellDim[0]*1, num = Nprobes[0])\n",
    "# xp[-1] = 0\n",
    "# yp = np.linspace(0,cellDim[1]*1, num = Nprobes[1])\n",
    "# yp[-1] = 0\n",
    "\n",
    "# for testing use single probe\n",
    "xp = [0,1]\n",
    "yp = [0,1]\n"
   ]
  },
  {
   "cell_type": "markdown",
   "id": "80f37a57",
   "metadata": {},
   "source": [
    "### Microscope parameters"
   ]
  },
  {
   "cell_type": "code",
   "execution_count": null,
   "id": "f1bf354d",
   "metadata": {},
   "outputs": [],
   "source": [
    "#Approximate pixel size - if cell is rectangular, pixel size in x and y will not be identical\n",
    "pSize = 0.05*2\n",
    "\n",
    "df = np.array([0,100,200]);   # -C1 focus on incident surface\n",
    "# df = np.arange(0,300,5)\n",
    "\n",
    "# Probe Aberrations\n",
    "C3 = -.000 * 10**7\n",
    "C5 = 0.0 * 10**7\n",
    "\n",
    "#illumination angle in mrads\n",
    "alphaMax = 10/1000\n",
    "\n",
    "#Microscope voltage\n",
    "E0 = 120*(10**3) \n",
    "\n",
    "#Calculate wavelength and electron interaction parameter\n",
    "m = 9.109383*10**-31\n",
    "e = 1.602177*10**-19\n",
    "c =  299792458\n",
    "h = 6.62607*10**-34\n",
    "\n",
    "#wavelength in A\n",
    "lamb = h/np.sqrt(2*m*e*E0)/np.sqrt(1 + e*E0/2/m/c**2)*10**10\n",
    "s = (2*np.pi/lamb/E0)*(m*c**2+e*E0)/(2*m*(c**2)+e*E0)\n",
    "\n",
    "# number of slices per cell defined using the z direction\n",
    "\n",
    "dz = cellDim[2]/2"
   ]
  },
  {
   "cell_type": "markdown",
   "id": "d927ab72",
   "metadata": {},
   "source": [
    "### Prepare RealSpace coordinate system"
   ]
  },
  {
   "cell_type": "code",
   "execution_count": null,
   "id": "677f5fc6",
   "metadata": {},
   "outputs": [],
   "source": [
    "#Make sure even number of pixels per cell\n",
    "Nx = np.ceil(numUC[0]*cellDim[0]/pSize/2)*2\n",
    "Ny = np.ceil(numUC[1]*cellDim[1]/pSize/2)*2\n",
    "\n",
    "xSize = numUC[0]*cellDim[0]/Nx\n",
    "ySize = numUC[1]*cellDim[1]/Nx\n",
    "xySize = np.array([xSize,ySize]) # this is the pixelsize in realspace\n"
   ]
  },
  {
   "cell_type": "markdown",
   "id": "e522b0a0",
   "metadata": {},
   "source": [
    "### Make Fourier coordinate system"
   ]
  },
  {
   "cell_type": "code",
   "execution_count": null,
   "id": "1267ebc4",
   "metadata": {},
   "outputs": [],
   "source": [
    "Lx = Nx*xSize\n",
    "Ly = Ny*ySize\n",
    "\n",
    "qx = np.roll(np.arange((-Nx/2),(Nx/2 -1))/Lx, (np.hstack((0,-Nx/2)).astype(int)))\n",
    "qy = np.roll(np.arange((-Ny/2),(Ny/2 -1))/Ly, (np.hstack((0,-Ny/2)).astype(int)))\n",
    "\n",
    "[qya, qxa] = np.meshgrid(qy,qx);\n",
    "q2 = np.dot(qxa,qxa) + np.dot(qya,qya)\n",
    "q4 = np.dot(q2,q2)\n",
    "q6 = np.dot(q2,q4)\n",
    "q1 = np.sqrt(abs(q2))"
   ]
  },
  {
   "cell_type": "markdown",
   "id": "768a883f",
   "metadata": {},
   "source": [
    "### Make propagators and anti aliasing aperture AA"
   ]
  },
  {
   "cell_type": "code",
   "execution_count": null,
   "id": "b7ec1eb2",
   "metadata": {},
   "outputs": [],
   "source": [
    "dq = qx[1]-qx[0]\n",
    "Adist = 2*(np.max(qx)/2 - q1)/dq+0\n",
    "AA = Adist\n",
    "AA = Adist\n",
    "AA[Adist>1] = 1\n",
    "AA[Adist<0] = 0"
   ]
  },
  {
   "cell_type": "markdown",
   "id": "981faf91",
   "metadata": {},
   "source": [
    "### Propagator"
   ]
  },
  {
   "cell_type": "code",
   "execution_count": null,
   "id": "9fbcfa9a",
   "metadata": {},
   "outputs": [],
   "source": [
    "zint = 1j\n",
    "prop = np.exp(-zint*np.pi*lamb*dz*q2)*AA"
   ]
  },
  {
   "cell_type": "code",
   "execution_count": null,
   "id": "c1e773da",
   "metadata": {},
   "outputs": [],
   "source": [
    "prop.shape"
   ]
  },
  {
   "cell_type": "markdown",
   "id": "5a64c64f",
   "metadata": {},
   "source": [
    "### Make probe components"
   ]
  },
  {
   "cell_type": "code",
   "execution_count": null,
   "id": "e7b83418",
   "metadata": {},
   "outputs": [],
   "source": [
    "qMax = alphaMax/lamb\n",
    "\n",
    "# chiProbe = (2*np.pi/lamb)*((1/2)*(lamb**2)*q2*df)\n",
    "\n",
    "chiProbe = (2*np.pi/lamb)*((1/2)*(lamb**2)*q2*df + (1/4)*(lamb**4)*q4*C3 + (1/6)*(lamb**6)*q6*C5)\n",
    "\n",
    "\n",
    "probefft = np.exp(-1j*chiProbe-2*np.pi*1j*(qx*(xp[0])+ qy*(yp[0])))*AA"
   ]
  },
  {
   "cell_type": "code",
   "execution_count": null,
   "id": "8849af25",
   "metadata": {},
   "outputs": [],
   "source": [
    "chiProbe.shape"
   ]
  },
  {
   "cell_type": "markdown",
   "id": "0ecaa6e6",
   "metadata": {},
   "source": [
    "### Construct projected potentials"
   ]
  },
  {
   "cell_type": "code",
   "execution_count": null,
   "id": "9c7a85f9",
   "metadata": {},
   "outputs": [],
   "source": [
    "fparams = loadmat('fparams.mat')"
   ]
  },
  {
   "cell_type": "code",
   "execution_count": null,
   "id": "eab0a50f",
   "metadata": {},
   "outputs": [],
   "source": [
    "fparams['fparams'][7]"
   ]
  },
  {
   "cell_type": "code",
   "execution_count": null,
   "id": "92a44a00",
   "metadata": {},
   "outputs": [],
   "source": [
    "ap = fparams['fparams'][37,:]\n",
    "\n",
    "#Super sampling for potential integration (should be even!!)\n",
    "ss = 2\n",
    "#Constants\n",
    "a0 = 0.5292\n",
    "e = 14.4\n",
    "term1 = 2*np.pi**2*a0*e\n",
    "term2 = 2*pi**(5/2)*a0*e\n",
    "\n",
    "#Make supersampled 2D grid for integration\n",
    "dx = (xr[1] - xr[0])\n",
    "dy = (yr[1] - yr[0])\n",
    "\n",
    "sub = np.arange((-(ss-1)/ss/2),((ss-1)/ss/2),(1/ss))\n",
    "#sub = (-(ss-1)/ss/2):(1/ss):((ss-1)/ss/2)\n",
    "[x1,x2] = np.meshgrid(xr,sub*dx)\n",
    "xv = x1[:] + x2[:]\n",
    "[y1,y2] = np.meshgrid(yr,sub*dy)\n",
    "yv = y1[:] + y2[:]\n",
    "[ya,xa] = np.meshgrid(yv,xv)\n",
    "r2 = xa**2 + ya**2\n",
    "r = np.sqrt(r2)\n",
    "\n",
    "\n",
    "potSS = term1*(ap[0]* kn(0,2*np.pi*np.sqrt(ap[1])*r)+ ap[2]*kn(0,2*np.pi*np.sqrt(ap[3]*r))+ ap[4]*kn(0,2*np.pi*np.sqrt(ap[5]*r)))\n",
    "+ term2*(ap[6]/ap[7]*np.exp((-np.pi**2)/ap[7]*r2)\n",
    "         + ap[8]/ap[9]*np.exp((-np.pi**2)/ap[9]*r2)\n",
    "         + ap[10]/ap[11]*np.exp((-np.pi**2)/ap[11]*r2))\n",
    "\n",
    "potMid = np.zeros((len(xr),len(yr)))\n",
    "\n",
    "for a0 in np.arange(0,ss):\n",
    "        potMid = potMid + potSS[(np.arange(a0,(-1+a0-ss),ss)),:]\n",
    "            \n",
    "#     pot = zeros(length(xr),length(yr))\n",
    "    \n",
    "#     for a0 = 1:ss:\n",
    "#             pot = pot + potMid(:,a0:ss:(end+a0-ss))\n",
    "            \n",
    "#     pot = pot / ss^2;"
   ]
  },
  {
   "cell_type": "code",
   "execution_count": null,
   "id": "25160dfd",
   "metadata": {},
   "outputs": [],
   "source": [
    "def projPot(fparams,atomID,xr,yr):\n",
    "    #Super sampling for potential integration (should be even!!)\n",
    "    ss = 4\n",
    "    \n",
    "    #Constants\n",
    "    a0 = 0.5292\n",
    "    e = 14.4\n",
    "    term1 = 2*np.pi**2*a0*e\n",
    "    term2 = 2*np.pi**(5/2)*a0*e\n",
    "    \n",
    "    #Make supersampled 2D grid for integration\n",
    "    dx = (xr[1] - xr[0])\n",
    "    dy = (yr[1] - yr[0])\n",
    "    \n",
    "    sub = np.arange((-(ss-1)/ss/2),((ss-1)/ss/2),(1/ss))\n",
    "    #sub = (-(ss-1)/ss/2):(1/ss):((ss-1)/ss/2)\n",
    "    [x1,x2] = np.meshgrid(xr,sub*dx)\n",
    "    xv = x1[:] + x2[:]\n",
    "    [y1,y2] = np.meshgrid(yr,sub*dy)\n",
    "    yv = y1[:] + y2[:]\n",
    "    [ya,xa] = np.meshgrid(yv,xv)\n",
    "    r2 = xa**2 + ya**2\n",
    "    r = np.sqrt(r2)\n",
    "    \n",
    "    #Compute potential\n",
    "    ap = fparams['fparams'][atomID,:]\n",
    "    \n",
    "    potSS = term1*(ap[0]*kn(0,2*np.pi*np.sqrt(ap[1])*r)\n",
    "                   + ap[2]*kn(0,2*np.pi*np.sqrt(ap[3]*r))+ ap[4]*kn(0,2*np.pi*np.sqrt(ap[5]*r)))\n",
    "    + term2*(ap[6]/ap[7]*np.exp((-np.pi**2)/ap[7]*r2)\n",
    "             + ap[8]/ap[9]*np.exp((-np.pi**2)/ap[9]*r2)\n",
    "             + ap[10]/ap[11]*np.exp((-np.pi**2)/ap[11]*r2))\n",
    "    \n",
    "    #Integrate!\n",
    "    \n",
    "    return pot"
   ]
  },
  {
   "cell_type": "code",
   "execution_count": null,
   "id": "7e19bca2",
   "metadata": {},
   "outputs": [],
   "source": [
    "# potSr = projPot(fparams,37,xr,yr)"
   ]
  },
  {
   "cell_type": "code",
   "execution_count": null,
   "id": "188d2284",
   "metadata": {},
   "outputs": [],
   "source": [
    "xyLeng = np.ceil(potBound/xySize)\n",
    "xvec = np.arange(-xyLeng[0]+1,xyLeng[0])\n",
    "yvec = np.arange(-xyLeng[1]+1,xyLeng[1])\n",
    "xr = xvec*xySize[0]\n",
    "yr = yvec*xySize[1]\n",
    "\n",
    "# potSr = projPot(38,xr,yr);\n",
    "# potTi = projPot(22,xr,yr);\n",
    "# potO = projPot(8,xr,yr);"
   ]
  }
 ],
 "metadata": {},
 "nbformat": 4,
 "nbformat_minor": 5
}
