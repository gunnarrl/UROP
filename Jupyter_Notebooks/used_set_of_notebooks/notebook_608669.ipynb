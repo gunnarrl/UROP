{
 "cells": [
  {
   "cell_type": "markdown",
   "id": "3b39d01b",
   "metadata": {
    "id": "3b39d01b"
   },
   "source": [
    "# Before your start:\n",
    "- Read the README.md file\n",
    "- Comment as much as you can and use the resources in the README.md file\n",
    "- Happy learning!"
   ]
  },
  {
   "cell_type": "markdown",
   "id": "b25c3d7f",
   "metadata": {
    "id": "b25c3d7f"
   },
   "source": [
    "# Challenge - Passing a Lambda Expression to a Function\n",
    "\n",
    "In the next excercise you will create a function that returns a lambda expression. Create a function called `modify_list`. The function takes two arguments, a list and a lambda expression. The function iterates through the list and applies the lambda expression to every element in the list."
   ]
  },
  {
   "cell_type": "code",
   "execution_count": null,
   "id": "a4b9fa85",
   "metadata": {
    "id": "a4b9fa85"
   },
   "outputs": [],
   "source": [
    "def modify_list(lst, lmbda):\n",
    "    \"\"\"\n",
    "    Input: list and lambda expression\n",
    "    Output: the transformed list\n",
    "    \"\"\"\n",
    "\n",
    "    # your code here\n"
   ]
  },
  {
   "cell_type": "markdown",
   "id": "87f5fb54",
   "metadata": {
    "id": "87f5fb54"
   },
   "source": [
    "#### Now we will define a lambda expression that will transform the elements of the list.\n",
    "\n",
    "In the cell below, create a lambda expression that converts Celsius to Kelvin. Recall that 0°C + 273.15 = 273.15K"
   ]
  },
  {
   "cell_type": "code",
   "execution_count": null,
   "id": "32987250",
   "metadata": {
    "id": "32987250"
   },
   "outputs": [],
   "source": [
    "lst = ['Himan-shu', 'Denisse', 'Leandro.', 'Skye.']\n",
    "import re\n",
    "str_upper =' '.join(lst)\n",
    "str_upper  = re.sub('[.-]','',str_upper).upper()\n",
    "lst = re.split(' ', str_upper)\n",
    "# Lst_upper = [Lst.upper() for x in Lst]\n",
    "# print(Lst_upper)\n",
    "print(lst)"
   ]
  },
  {
   "cell_type": "code",
   "execution_count": null,
   "id": "b701c42e",
   "metadata": {
    "id": "b701c42e"
   },
   "outputs": [],
   "source": [
    "# your code here\n",
    "ctok = lambda c: c + 273.15\n",
    "\n",
    "ctok(30)"
   ]
  },
  {
   "cell_type": "markdown",
   "id": "fe35c7ad",
   "metadata": {
    "id": "fe35c7ad"
   },
   "source": [
    "Finally, convert the list of temperatures below from Celsius to Kelvin."
   ]
  },
  {
   "cell_type": "code",
   "execution_count": null,
   "id": "e41884f6",
   "metadata": {
    "id": "e41884f6"
   },
   "outputs": [],
   "source": [
    "temps = [12, 23, 38, -55, 24]\n",
    "\n",
    "# your code here\n",
    "ktemps = [ ctok(i) for i in temps]\n",
    "print(ktemps)\n"
   ]
  },
  {
   "cell_type": "markdown",
   "id": "fe6ed10e",
   "metadata": {
    "id": "fe6ed10e"
   },
   "source": [
    "#### In this part, we will define a function that returns a lambda expression\n",
    "\n",
    "In the cell below, write a lambda expression that takes two numbers and returns 1 if one is divisible by the other and zero otherwise. Call the lambda expression `mod`."
   ]
  },
  {
   "cell_type": "code",
   "execution_count": null,
   "id": "56f1cfb0",
   "metadata": {
    "id": "56f1cfb0"
   },
   "outputs": [],
   "source": [
    "# your code here\n",
    "\n",
    "mod= lambda x, y: 1 if (x%y==0) else 0\n",
    "\n",
    "mod(5,5)"
   ]
  },
  {
   "cell_type": "markdown",
   "id": "79a8ea60",
   "metadata": {
    "id": "79a8ea60"
   },
   "source": [
    "#### Now create a function that returns mod. The function only takes one argument - the first number in the `mod` lambda function.\n",
    "\n",
    "Note: the lambda function above took two arguments, the lambda function in the return statement only takes one argument but also uses the argument passed to the function."
   ]
  },
  {
   "cell_type": "code",
   "execution_count": null,
   "id": "191c6ac6",
   "metadata": {
    "id": "191c6ac6"
   },
   "outputs": [],
   "source": [
    "# def divisor(b):\n",
    "#     \"\"\"\n",
    "#     Input: a number\n",
    "#     Output: a function that returns 1 if the number is\n",
    "#     divisible by another number (to be passed later) and zero otherwise.\n",
    "#     \"\"\"\n",
    "\n",
    "    # your code here\n",
    "\n",
    "def divisor(b):\n",
    "    return lambda x: 1 if (x%b==0) else 0"
   ]
  },
  {
   "cell_type": "markdown",
   "id": "b3b26efd",
   "metadata": {
    "id": "b3b26efd"
   },
   "source": [
    "Finally, pass the number 5 to `divisor`. Now the function will check whether a number is divisble by 5. Assign this function to `divisible5`"
   ]
  },
  {
   "cell_type": "code",
   "execution_count": null,
   "id": "24f27b47",
   "metadata": {
    "id": "24f27b47"
   },
   "outputs": [],
   "source": [
    "# your code here\n",
    "divisible5 = divisor(5)\n",
    "\n",
    "#here we are specifying that b = 5, and divisor will return a lambda expression, so now we just have to do divisible5(x)\n",
    "# and we will have the answer"
   ]
  },
  {
   "cell_type": "markdown",
   "id": "8ae378d6",
   "metadata": {
    "id": "8ae378d6"
   },
   "source": [
    "Test your function with the following test cases:"
   ]
  },
  {
   "cell_type": "code",
   "execution_count": null,
   "id": "8f92231e",
   "metadata": {
    "id": "8f92231e"
   },
   "outputs": [],
   "source": [
    "divisible5(10)"
   ]
  },
  {
   "cell_type": "code",
   "execution_count": null,
   "id": "59f71034",
   "metadata": {
    "id": "59f71034"
   },
   "outputs": [],
   "source": [
    "divisible5(8)"
   ]
  },
  {
   "cell_type": "markdown",
   "id": "2b5ae4c6",
   "metadata": {
    "id": "2b5ae4c6"
   },
   "source": [
    "# Bonus Challenge - Using Lambda Expressions in List Comprehensions\n",
    "\n",
    "In the following challenge, we will combine two lists using a lambda expression in a list comprehension.\n",
    "\n",
    "To do this, we will need to introduce the `zip` function. The `zip` function returns an iterator of tuples."
   ]
  },
  {
   "cell_type": "code",
   "execution_count": null,
   "id": "637927e3",
   "metadata": {
    "id": "637927e3"
   },
   "outputs": [],
   "source": [
    "# Here is an example of passing one list to the zip function.\n",
    "# Since the zip function returns an iterator, we need to evaluate the iterator by using a list comprehension.\n",
    "\n",
    "l = [1,2,3,4,5]\n",
    "[x for x in zip(l)]"
   ]
  },
  {
   "cell_type": "markdown",
   "id": "0a92d43f",
   "metadata": {
    "id": "0a92d43f"
   },
   "source": [
    "Using the `zip` function, let's iterate through two lists and add the elements by position."
   ]
  },
  {
   "cell_type": "code",
   "execution_count": null,
   "id": "b71b3254",
   "metadata": {
    "id": "b71b3254"
   },
   "outputs": [],
   "source": [
    "list1 = ['Green', 'cheese', 'English', 'tomato']\n",
    "list2 = ['eggs', 'cheese', 'cucumber', 'tomato']\n",
    "\n",
    "# your code here\n",
    "# full_list = [x for x in zip(list1)]\n",
    "\n",
    "full_list = [[x, y] for x, y in zip(list1, list2)]\n",
    "print(full_list)\n",
    "\n",
    "# full_list = []\n",
    "# for x in zip(,list1)\n",
    "#     full_list.append(x)\n",
    "\n",
    "#the sets below work, but it isn't using list comprehensions\n",
    "# mapped = zip(list1, list2)\n",
    "# mapped = set(mapped)\n",
    "# print(mapped)\n",
    "\n",
    "# zipped = zip(list1, list2)\n",
    "# list(zipped)\n",
    "\n",
    "# if i wanted to compare consecutive elements of two lists\n",
    "# compare = lambda a,b: print(\"True\") if (a>b) else print (\"False\")\n",
    "# for tup in zip(list1, list2):\n",
    "# compare(tup[0],tup[0])\n"
   ]
  },
  {
   "cell_type": "markdown",
   "id": "067bb86c",
   "metadata": {
    "id": "067bb86c"
   },
   "source": [
    "# Bonus Challenge - Using Lambda Expressions as Arguments\n",
    "\n",
    "#### In this challenge, we will zip together two lists and sort by the resulting tuple.\n",
    "\n",
    "In the cell below, take the two lists provided, zip them together and sort by the first letter of the second element of each tuple. Do this using a lambda function."
   ]
  },
  {
   "cell_type": "code",
   "execution_count": null,
   "id": "e491be55",
   "metadata": {
    "id": "e491be55"
   },
   "outputs": [],
   "source": [
    "list1 = ['Engineering', 'Computer Science', 'Political Science', 'Mathematics']\n",
    "list2 = ['Lab', 'Homework', 'Essay', 'Module']\n",
    "\n",
    "# your code here\n",
    "\n",
    "full_list = [[x, y] for x, y in zip(list1, list2)]\n",
    "full_list = sorted(full_list, key=lambda x: x[1])\n",
    "print(full_list)"
   ]
  },
  {
   "cell_type": "markdown",
   "id": "029bfc0a",
   "metadata": {
    "id": "029bfc0a"
   },
   "source": [
    "# Bonus Challenge - Sort a Dictionary by Values\n",
    "\n",
    "Given the dictionary below, sort it by values rather than by keys. Use a lambda function to specify the values as a sorting key."
   ]
  },
  {
   "cell_type": "code",
   "execution_count": null,
   "id": "c70c9795",
   "metadata": {
    "id": "c70c9795"
   },
   "outputs": [],
   "source": [
    "d = {'Honda': 1997, 'Toyota': 1995, 'Audi': 2001, 'BMW': 2005}\n",
    "\n",
    "# your code here\n",
    "# we have to convert to a list of tuples\n",
    "# d_list = list(d.items())\n",
    "# d_list.sort(key = lambda X:X[1])\n",
    "# convert back to dict\n",
    "# d = {}\n",
    "\n",
    "d_sorted = sorted(d(), key=lambda item: item[1])\n",
    "print(d_sorted)"
   ]
  },
  {
   "cell_type": "code",
   "execution_count": null,
   "id": "cdd38e75",
   "metadata": {
    "id": "cdd38e75"
   },
   "outputs": [],
   "source": [
    "import random\n",
    "\n",
    "rannum = random.randint(1,101)\n",
    "\n",
    "print(rannum)\n",
    "\n",
    "prompt = input('Welcome to Guess a Numebr. To play, please enter a number between 1-100')\n",
    "print(prompt)"
   ]
  }
 ],
 "metadata": {
  "colab": {
   "provenance": []
  }
 },
 "nbformat": 4,
 "nbformat_minor": 5
}
