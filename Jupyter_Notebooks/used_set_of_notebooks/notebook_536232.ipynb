{
 "cells": [
  {
   "cell_type": "markdown",
   "id": "c4ef0083",
   "metadata": {},
   "source": [
    "## Plotting relative free energy results from example csv file\n",
    "#### The example.csv file contains both the experimental absolute free energies, and the calculated relative free energies for a set of  ligands.\n"
   ]
  },
  {
   "cell_type": "code",
   "execution_count": null,
   "id": "a0957d0a",
   "metadata": {},
   "outputs": [],
   "source": [
    "import numpy as np\n",
    "\n",
    "%matplotlib inline\n",
    "import matplotlib.pylab as plt\n",
    "\n",
    "from arsenic import plotting, stats, wrangle, absolute"
   ]
  },
  {
   "cell_type": "markdown",
   "id": "083d1fc9",
   "metadata": {},
   "source": [
    "wrangle.FEMap makes an object that contains all the information of interest"
   ]
  },
  {
   "cell_type": "code",
   "execution_count": null,
   "id": "6b942f80",
   "metadata": {},
   "outputs": [],
   "source": [
    "fe = wrangle.FEMap('../data/example.csv')"
   ]
  },
  {
   "cell_type": "markdown",
   "id": "1714448b",
   "metadata": {},
   "source": [
    "First, lets look at the calculated relative free energies against the experimental ones. The RMSE and MUE are quoted."
   ]
  },
  {
   "cell_type": "code",
   "execution_count": null,
   "id": "7981e387",
   "metadata": {},
   "outputs": [],
   "source": [
    "plotting.plot_DDGs(fe.graph,target_name='example protein', title='Here\\'s a title')"
   ]
  },
  {
   "cell_type": "markdown",
   "id": "1dd1216e",
   "metadata": {},
   "source": [
    "The above is the plot of relative simulations that have been run, however the direction of the simulation is run in is arbitrary, and any data point could equally be plotted in the opposite quadrant. Note that the RMSE and MUE are unchanged. RMSE and MUE are left off these plots as they would change as theese datapoints are arbitrarily changed - hence they are not useful for assessment."
   ]
  },
  {
   "cell_type": "code",
   "execution_count": null,
   "id": "44549f55",
   "metadata": {},
   "outputs": [],
   "source": [
    "plotting.plot_DDGs(fe.graph,map_positive=True,title='mapped to positive!')"
   ]
  },
  {
   "cell_type": "markdown",
   "id": "0a1ded0d",
   "metadata": {},
   "source": [
    "Because the direction of relative free energy calculations is arbitrary, we could equally just plot each data point twice, using `symmetrise`. Again, the statistics don't change, but the number of datapoints doubles."
   ]
  },
  {
   "cell_type": "code",
   "execution_count": null,
   "id": "c92d6e08",
   "metadata": {},
   "outputs": [],
   "source": [
    "plotting.plot_DDGs(fe.graph,symmetrise=True,title='SYMMETRISED!')"
   ]
  },
  {
   "cell_type": "markdown",
   "id": "cafaff2e",
   "metadata": {},
   "source": [
    "Now lets look at what these relative free energies look like as absolute free energies. This requires there to be enough relative free energy results such that the graph is weakly connected. The relative free energy calculations are turned into absolute values under-the-hood using a maximum likelihood estimator (MLE).\n",
    "\n",
    "Note that now, R2 and rho are also provided."
   ]
  },
  {
   "cell_type": "code",
   "execution_count": null,
   "id": "2723a384",
   "metadata": {},
   "outputs": [],
   "source": [
    "plotting.plot_DGs(fe.graph,method_name='softwarename',target_name='made up protein')"
   ]
  },
  {
   "cell_type": "markdown",
   "id": "4cb64405",
   "metadata": {},
   "source": [
    "There are also different aesthetic details that can be changed in the plots"
   ]
  },
  {
   "cell_type": "code",
   "execution_count": null,
   "id": "0f8f6af0",
   "metadata": {},
   "outputs": [],
   "source": [
    "plotting.plot_DGs(fe.graph,method_name='softwarename',target_name='made up protein',\n",
    "                  color='hotpink',guidelines=False)"
   ]
  },
  {
   "cell_type": "code",
   "execution_count": null,
   "id": "571fa09d",
   "metadata": {},
   "outputs": [],
   "source": [
    "def bootstrap_statistic(y_true, y_pred, dy_true=None, dy_pred=None, ci=0.95, statistic='RMSE', nbootstrap = 1000, plot_type='dG'):\n",
    "    import sklearn.metrics\n",
    "    import scipy\n",
    "    \"\"\"Compute mean and confidence intervals of specified statistic.\n",
    "\n",
    "    Parameters\n",
    "    ----------\n",
    "    y_true : ndarray with shape (N,)\n",
    "        True values\n",
    "    y_pred : ndarray with shape (N,)\n",
    "        Predicted values\n",
    "    dy_true : ndarray with shape (N,) or None\n",
    "        Errors of true values. If None, the values are assumed to have no errors\n",
    "    dy_pred : ndarray with shape (N,) or None\n",
    "        Errors of predicted values. If None, the values are assumed to have no errors\n",
    "    ci : float, optional, default=0.95\n",
    "        Interval for CI\n",
    "    statistic : str\n",
    "        Statistic, one of ['RMSE', 'MUE', 'R2', 'rho','KTAU','RAE']\n",
    "    nbootstrap : int, optional, default=1000\n",
    "        Number of bootstrap samples\n",
    "    plot_type : str, optional, default='dG'\n",
    "        'dG' or 'ddG'\n",
    "\n",
    "    Returns\n",
    "    -------\n",
    "    rmse_stats : dict of floeat\n",
    "        'mean' : mean RMSE\n",
    "        'stderr' : standard error\n",
    "        'low' : low end of CI\n",
    "        'high' : high end of CI\n",
    "    \"\"\"\n",
    "\n",
    "    def compute_statistic(y_true_sample, y_pred_sample, statistic):\n",
    "        \"\"\"Compute requested statistic.\n",
    "\n",
    "        Parameters\n",
    "        ----------\n",
    "        y_true : ndarray with shape (N,)\n",
    "            True values\n",
    "        y_pred : ndarray with shape (N,)\n",
    "            Predicted values\n",
    "        statistic : str\n",
    "            Statistic, one of ['RMSE', 'MUE', 'R2', 'rho','RAE','KTAU']\n",
    "\n",
    "        \"\"\"\n",
    "\n",
    "        def calc_RAE(y_true_sample, y_pred_sample):\n",
    "            MAE = sklearn.metrics.mean_absolute_error(y_true_sample, y_pred_sample)\n",
    "            mean = np.mean(y_true_sample)\n",
    "            MAD = np.sum([np.abs(mean-i) for i in y_true_sample]) / float(len(y_true_sample))\n",
    "            return MAE / MAD\n",
    "\n",
    "        def calc_RRMSE(y_true_sample, y_pred_sample):\n",
    "            rmse = np.sqrt(sklearn.metrics.mean_squared_error(y_true_sample, y_pred_sample))\n",
    "            mean_exp = np.mean(y_true_sample)\n",
    "            mds = np.sum([(mean_exp - i) ** 2 for i in y_true_sample]) / float(len(y_true_sample))\n",
    "            rrmse = np.sqrt(rmse ** 2 / mds)\n",
    "            return rrmse\n",
    "\n",
    "        if statistic == 'RMSE':\n",
    "            return np.sqrt(sklearn.metrics.mean_squared_error(y_true_sample, y_pred_sample))\n",
    "        elif statistic == 'MUE':\n",
    "            return sklearn.metrics.mean_absolute_error(y_true_sample, y_pred_sample)\n",
    "        elif statistic == 'R2':\n",
    "            slope, intercept, r_value, p_value, std_err = scipy.stats.linregress(y_true_sample, y_pred_sample)\n",
    "            return r_value**2\n",
    "        elif statistic == 'rho':\n",
    "            return scipy.stats.pearsonr(y_true_sample, y_pred_sample)[0]\n",
    "        elif statistic == 'RAE':\n",
    "            return calc_RAE(y_true_sample, y_pred_sample)\n",
    "        elif statistic == 'KTAU':\n",
    "            return scipy.stats.kendalltau(y_true_sample, y_pred_sample)[0]\n",
    "        else:\n",
    "            raise Exception(\"unknown statistic '{}'\".format(statistic))\n",
    "\n",
    "    def unique_differences(x):\n",
    "        \"\"\"Compute all unique differences\"\"\"\n",
    "        N = len(x)\n",
    "        return np.array([(x[i] - x[j]) for i in range(N) for j in range(N) if (i != j)])\n",
    "\n",
    "    if dy_true is None:\n",
    "        dy_true = np.zeros_like(y_true)\n",
    "    if dy_pred is None:\n",
    "        dy_pred = np.zeros_like(y_pred)\n",
    "    assert len(y_true) == len(y_pred)\n",
    "    assert len(y_true) == len(dy_true)\n",
    "    assert len(y_true) == len(dy_pred)\n",
    "    sample_size = len(y_true)\n",
    "    s_n = np.zeros([nbootstrap], np.float64) # s_n[n] is the statistic computed for bootstrap sample n\n",
    "    for replicate in range(nbootstrap):\n",
    "        y_true_sample = np.zeros_like(y_true)\n",
    "        y_pred_sample = np.zeros_like(y_pred)\n",
    "        for i,j in enumerate(np.random.choice(np.arange(sample_size), size=[sample_size], replace=True)):\n",
    "            y_true_sample[i] = np.random.normal(loc=y_true[j], scale=np.fabs(dy_true[j]), size=1)\n",
    "            y_pred_sample[i] = np.random.normal(loc=y_pred[j], scale=np.fabs(dy_pred[j]), size=1)\n",
    "        s_n[replicate] = compute_statistic(y_true_sample, y_pred_sample, statistic)\n",
    "\n",
    "    rmse_stats = dict()\n",
    "    rmse_stats['mle'] = compute_statistic(y_true, y_pred, statistic)\n",
    "    rmse_stats['stderr'] = np.std(s_n)\n",
    "    rmse_stats['mean'] = np.mean(s_n)\n",
    "    # TODO: Is there a canned method to do this?\n",
    "    s_n = np.sort(s_n)\n",
    "    low_frac = (1.0-ci)/2.0\n",
    "    high_frac = 1.0 - low_frac\n",
    "    rmse_stats['low'] = s_n[int(np.floor(nbootstrap*low_frac))]\n",
    "    rmse_stats['high'] = s_n[int(np.ceil(nbootstrap*high_frac))]\n",
    "\n",
    "    return rmse_stats"
   ]
  },
  {
   "cell_type": "code",
   "execution_count": null,
   "id": "cb90e87a",
   "metadata": {},
   "outputs": [],
   "source": [
    "x = [x[2]['exp_DDG'] for x in fe.graph.edges(data=True)]\n",
    "y = [x[2]['calc_DDG'] for x in fe.graph.edges(data=True)]"
   ]
  },
  {
   "cell_type": "code",
   "execution_count": null,
   "id": "f0e7a6c4",
   "metadata": {},
   "outputs": [],
   "source": [
    "s_n, stat = bootstrap_statistic(x,y)"
   ]
  },
  {
   "cell_type": "code",
   "execution_count": null,
   "id": "f48630fa",
   "metadata": {},
   "outputs": [],
   "source": [
    "plt.hist(s_n)"
   ]
  },
  {
   "cell_type": "code",
   "execution_count": null,
   "id": "7da5461e",
   "metadata": {},
   "outputs": [],
   "source": [
    "print(stat)"
   ]
  },
  {
   "cell_type": "code",
   "execution_count": null,
   "id": "ff1e3157",
   "metadata": {},
   "outputs": [],
   "source": [
    "print(max(s_n))"
   ]
  }
 ],
 "metadata": {},
 "nbformat": 4,
 "nbformat_minor": 5
}
