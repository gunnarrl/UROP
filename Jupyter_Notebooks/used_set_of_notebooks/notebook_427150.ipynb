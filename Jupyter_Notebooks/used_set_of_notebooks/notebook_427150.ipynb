{
 "cells": [
  {
   "cell_type": "markdown",
   "id": "6a9766f5",
   "metadata": {},
   "source": [
    "# Allele Specificity Analysis\n",
    "#### By: Roham Razaghi (rrazagh1@jhu.edu), Timothy Gilpatrick (tgilpat@gmail.com)\n",
    "\n",
    "\n",
    "\n",
    "##### Below are the bash commands to generate HapCUT2 and annotated vcf files:\n",
    "$~/HapCUT2/build/extractHAIRS --nf 1 --ont 1 --bam NA12878-DirectRNA.pass.dedup.NoU.fastq.hg38.minimap2.sorted.bam --VCF Na128het.vcf --out NA12878het.fullgenome.extractHairs --ref /mithril/Data/NGS/Reference/human38/GRCH38.fa\n",
    "\n",
    "$java -Xmx12g -jar ~/snpEff/snpEff/snpEff.jar -c ~/snpEff/snpEff/snpEff.config -d -v -canon -no-downstream -no-intergenic -no-upstream GRCh38.86 Na128het.vcf > Na128het.ann.canon.vcf\n",
    "\n",
    "$ java -jar ~/snpEff/snpEff/SnpSift.jar extractFields -s \",\" -e \".\" Na128het.ann.canon.vcf CHROM POS REF ALT \"ANN[*].GENE\" \"ANN[*].EFFECT\" \"GEN[*].GT\" > Na128het.ann.canon.snpsift.vcf"
   ]
  },
  {
   "cell_type": "markdown",
   "id": "ee6c635a",
   "metadata": {},
   "source": [
    "#### Assigning allele specificity to each read:"
   ]
  },
  {
   "cell_type": "code",
   "execution_count": null,
   "id": "d52899c1",
   "metadata": {},
   "outputs": [],
   "source": [
    "import numpy as np\n",
    "import pandas as pd\n",
    "import seaborn as sns\n",
    "import matplotlib.pyplot as plt\n",
    "from scipy import stats\n",
    "sns.set(color_codes=True)\n",
    "%matplotlib inline\n",
    "import matplotlib\n",
    "matplotlib.rcParams['pdf.fonttype'] = 42\n",
    "matplotlib.rcParams['ps.fonttype'] = 42\n",
    "# EEF2\n",
    "\n",
    "params = {'legend.fontsize': 20,\n",
    "          'legend.handlelength': 2,\n",
    "          'axes.titlesize' : 40,\n",
    "          'axes.labelsize' : 40,\n",
    "          'lines.linewidth' : 3,\n",
    "          'lines.markersize' : 10,\n",
    "          'xtick.labelsize' : 25,\n",
    "          'ytick.labelsize' : 25}\n",
    "plt.rcParams.update(params)\n",
    "\n",
    "sns.set_style('ticks')\n",
    "sns.set_style(\"darkgrid\", {\"axes.facecolor\": \".9\"})\n",
    "plt.rcParams['figure.figsize']=30,10\n",
    "\n",
    "def block_specificity(block_offset, block_alleles, variant_file):\n",
    "    \"\"\"\n",
    "    This Function assigns specificity to each block.\n",
    "    for more information about the extractHAIR command output: \n",
    "    https://github.com/vibansal/HapCUT2/blob/master/old/FAQ.md\n",
    "    \"\"\"\n",
    "    spec = ''\n",
    "    genes = []\n",
    "#     chrom = ''\n",
    "    num_variants = len(block_alleles)\n",
    "    \n",
    "    for i in range(num_variants):\n",
    "        \n",
    "        line = variant_file[int(block_offset) + i].split('\\t')\n",
    "        genotype = line[6].split('|')\n",
    "        if block_alleles[i] == genotype[0]:\n",
    "            spec += 'P'\n",
    "        elif block_alleles[i] == genotype[1]:\n",
    "            spec += 'M'\n",
    "        chrom = line[0]\n",
    "        genes.append(line[4].split(','))\n",
    "        \n",
    "   \n",
    "    return chrom,genes,spec\n",
    "\n",
    "def uniq(seq):\n",
    "    \"\"\"\n",
    "    Output uniq values of a list\n",
    "    \"\"\"\n",
    "    Set = set(seq)\n",
    "    return list(Set) \n",
    "\n",
    "\n",
    "def read_specificity(fragment_line, variant_file):\n",
    "    \"\"\"\n",
    "    Finally assigning specificity to each read\n",
    "    \"\"\"\n",
    "    genes_frag = []\n",
    "    spec_frag = ''\n",
    "\n",
    "    fragment = fragment_line.split(' ')\n",
    "    num_blocks = int(fragment[0])\n",
    "    for i in range(num_blocks):\n",
    "        block_offset = fragment[5 + (2*i)]\n",
    "        block_alleles = fragment[6 + (2*i)]\n",
    "        chrom,genes,spec = block_specificity(block_offset, block_alleles, variant_file)\n",
    "        genes_frag.append([y for x in genes for y in x])\n",
    "        spec_frag += spec\n",
    "        \n",
    "    genes_frag = uniq([y for x in genes_frag for y in x])\n",
    "        \n",
    "    return chrom,genes_frag,spec_frag\n",
    "    \n",
    "\n",
    "\n",
    "if __name__ == '__main__':\n",
    "    \n",
    "    with open('Na128het.ann.canon.snpsift.vcf') as g:\n",
    "        \n",
    "        variant_file = g.read().splitlines()\n",
    "    \n",
    "    fg = open('NA12878het.fullgenome.extractHairs')\n",
    "    outF = open(\"test.ase\", \"w\")\n",
    "    for fragment_line in fg:\n",
    "\n",
    "        chrom,genes,spec = read_specificity(fragment_line, variant_file)\n",
    "        p_ratio = spec.count('P')/float(len(spec))\n",
    "        m_ratio = spec.count('M')/float(len(spec))\n",
    "        if p_ratio >= 0.75:\n",
    "            allele_calling = 'P'\n",
    "        elif m_ratio >= 0.75:\n",
    "            allele_calling = 'M'\n",
    "        else:\n",
    "            allele_calling = '.'\n",
    "                   \n",
    "        new_fragment_line = fragment_line[:-2] + ' ' + chrom + ' ' + \",\".join([str(x) for x in genes]) + ' ' + str(p_ratio) + ' ' + str(m_ratio) + ' ' + allele_calling \n",
    "        print(new_fragment_line, end=\"\\n\", file=outF)\n",
    "        \n",
    "    outF.close()\n",
    "    fg.close()\n",
    "\n",
    "    \n"
   ]
  },
  {
   "cell_type": "markdown",
   "id": "c915ff4e",
   "metadata": {},
   "source": [
    "#### Intersect output with FLAIR output to have gene/isoform specificity statistics:"
   ]
  },
  {
   "cell_type": "code",
   "execution_count": null,
   "id": "f34585dd",
   "metadata": {},
   "outputs": [],
   "source": [
    "file = \"test.ase\"\n",
    "f = open(file)\n",
    "read_to_specificity = {}\n",
    "read_to_chrom = {}\n",
    "\n",
    "for line in f:\n",
    "    read_id = line.split(' ')[1]\n",
    "    specificity = line.split(' ')[-1][0]\n",
    "    chrom = line.split(' ')[-5]\n",
    "    read_to_specificity[read_id] = specificity\n",
    "    read_to_chrom[read_id] = chrom\n",
    "f.close()"
   ]
  },
  {
   "cell_type": "code",
   "execution_count": null,
   "id": "0ad3635d",
   "metadata": {},
   "outputs": [],
   "source": [
    "file = \"./polyA/nvrna.180828.read.isoform.map.txt\"\n",
    "f = open(file)\n",
    "\n",
    "outF = open(\"nvrna.isoform.map.ase28.txt\", \"w\")\n",
    "print(\"#Read_ID\\tIsoform_ID\\tAllele_specificity\\tChr\", end=\"\\n\", file=outF)\n",
    "genes_stats = {}\n",
    "isoforms_stats = {}\n",
    "gene_to_reads = {}\n",
    "isoform_to_reads = {}\n",
    "gene_to_chrom = {}\n",
    "for line in f:\n",
    "    line_arr = line.strip().split('\\t')\n",
    "    read_id = line_arr[0]\n",
    "    isoform_id = line_arr[1].split('_')[0].split('.')[0]\n",
    "    try:\n",
    "        \n",
    "        gene_id = line_arr[1].split('_')[1].split('.')[0]\n",
    "    except IndexError:\n",
    "        continue \n",
    "    if read_id in read_to_specificity.keys():\n",
    "        gene_to_reads.setdefault(gene_id,[]).append(read_id)\n",
    "        isoform_to_reads.setdefault(isoform_id,[]).append(read_id)\n",
    "        new_line = line.strip() + '\\t' +  read_to_specificity[read_id] + '\\t' + read_to_chrom[read_id]\n",
    "        print(new_line, end=\"\\n\", file=outF)\n",
    "        \n",
    "        genes_stats.setdefault(gene_id,[]).append(read_to_specificity[read_id])\n",
    "        isoforms_stats.setdefault(isoform_id+'_'+gene_id,[]).append(read_to_specificity[read_id])\n",
    "        gene_to_chrom[gene_id] = read_to_chrom[read_id]\n",
    "        \n",
    "outF2 = open(\"nvrna.gene.stats28.txt\", \"w\")\n",
    "print(\"Gene_ID\\treads\\tMaternal\\tPaternal\\tChr\", end=\"\\n\", file=outF2)\n",
    "[print(str(k+'\\t'+ str(len(v))+'\\t' + str(float(v.count('M'))/len(v))+ '\\t' + str(float(v.count('P'))/len(v))+ '\\t'+ gene_to_chrom[k]), end=\"\\n\", file=outF2) for k,v in genes_stats.items()]\n",
    "outF3 = open(\"nvrna.isoform.stats28.txt\",\"w\")\n",
    "print(\"isoform_ID\\tGene_ID\\treads\\tMaternal\\tPaternal\", end=\"\\n\", file=outF3)\n",
    "[print(str(k.split('_')[0]+'\\t'+k.split('_')[1]+'\\t'+ str(len(v))+'\\t' + str(float(v.count('M'))/len(v))+ '\\t' + str(float(v.count('P'))/len(v))), end=\"\\n\", file=outF3) for k,v in isoforms_stats.items()]\n",
    "\n",
    "outF.close()\n",
    "outF2.close()\n",
    "outF3.close()\n",
    "f.close()"
   ]
  },
  {
   "cell_type": "markdown",
   "id": "16274ff3",
   "metadata": {},
   "source": [
    "#### Now we can visualize data:"
   ]
  },
  {
   "cell_type": "code",
   "execution_count": null,
   "id": "82755b95",
   "metadata": {},
   "outputs": [],
   "source": [
    "import pandas as pd\n",
    "import matplotlib.pyplot as plt\n",
    "%matplotlib inline\n",
    "plt.style.use('ggplot')\n",
    "df = pd.read_csv('nvrna.isoform.map.ase28.txt',sep='\\t')\n",
    "reads_assignment = df['Allele_specificity'].value_counts().tolist()\n",
    "\n",
    "label = ['Paternal Reads', 'Maternal Reads', 'Unassigned Reads']\n",
    "def make_autopct(values):\n",
    "    def my_autopct(pct):\n",
    "        total = sum(values)\n",
    "        val = int(round(pct*total/100.0))\n",
    "        return '{p:.2f}%  ({v:d})'.format(p=pct,v=val)\n",
    "    return my_autopct\n",
    "\n",
    "fig1, ax1 = plt.subplots()\n",
    "fig1.set_size_inches(8,8)\n",
    "patches, texts, autotexts = ax1.pie(reads_assignment, labels=label, autopct=make_autopct(reads_assignment), startangle=90, )\n",
    "for text in texts:\n",
    "    text.set_color('black')\n",
    "for autotext in autotexts:\n",
    "    autotext.set_color('black')\n",
    "# Equal aspect ratio ensures that pie is drawn as a circle\n",
    "ax1.axis('equal')  \n",
    "plt.tight_layout()"
   ]
  },
  {
   "cell_type": "code",
   "execution_count": null,
   "id": "c001b9ea",
   "metadata": {},
   "outputs": [],
   "source": [
    "df = pd.read_csv('nvrna.gene.stats28.txt',sep='\\t')\n",
    "df = df[(df.reads >= 5)]\n",
    "# paternal_x = df[(df.reads >= 5) & (df.Chr == \"chrX\") & (df.Paternal >= 0.9)]\n",
    "# maternal_x = df[(df.reads >= 5) & (df.Chr == \"chrX\") & (df.Maternal >= 0.9)]\n",
    "\n",
    "def f(row):\n",
    "    if row['Maternal'] >= 0.8:\n",
    "        val = 'Maternal'\n",
    "    elif row['Paternal'] >= 0.8:\n",
    "        val = 'Paternal'\n",
    "    else:\n",
    "        val = 'Unassigned'\n",
    "    return val\n",
    "df['ASE'] = df.apply(f, axis=1)\n",
    "df.head()"
   ]
  },
  {
   "cell_type": "code",
   "execution_count": null,
   "id": "e02be06e",
   "metadata": {},
   "outputs": [],
   "source": [
    "plt.style.use('ggplot')\n",
    "# titanic\n",
    "plt.rcParams['figure.figsize']=70,20\n",
    "sns.set(font_scale=4)\n",
    "plt.rcParams['legend.fontsize']= 25\n",
    "ax = sns.countplot(x=\"ASE\", hue=\"Chr\", data=df[(df.ASE != 'Unassigned')].sort_values('Chr'))"
   ]
  },
  {
   "cell_type": "markdown",
   "id": "74101332",
   "metadata": {},
   "source": [
    "#### Let's take a closer look at chromosome X since it has the least unassigned ASE genes and X-inactivation is observed:"
   ]
  },
  {
   "cell_type": "code",
   "execution_count": null,
   "id": "f5ceb05a",
   "metadata": {},
   "outputs": [],
   "source": [
    "df1 = df[(df.Chr == 'chrX')]\n",
    "plt.rcParams['figure.figsize']=8,6\n",
    "sns.set(font_scale=1)\n",
    "plt.rcParams['legend.fontsize']= 15\n",
    "ax = sns.countplot(x=\"ASE\", data=df1,saturation=1)"
   ]
  },
  {
   "cell_type": "markdown",
   "id": "123f55b6",
   "metadata": {},
   "source": [
    "#### Now let's see if we can separate the allele specific reads and visualize in IGV:"
   ]
  },
  {
   "cell_type": "code",
   "execution_count": null,
   "id": "249f25b4",
   "metadata": {},
   "outputs": [],
   "source": [
    "df.sort_values('reads', ascending=False).head()"
   ]
  },
  {
   "cell_type": "markdown",
   "id": "52e16161",
   "metadata": {},
   "source": [
    "AS an example we choose ACTB (ENSG00000075624) with the highest number of reads"
   ]
  },
  {
   "cell_type": "code",
   "execution_count": null,
   "id": "dfd3af2a",
   "metadata": {},
   "outputs": [],
   "source": [
    "import pysam\n",
    "bamfile = pysam.AlignmentFile('NA12878-DirectRNA.pass.dedup.NoU.fastq.hg38.minimap2.sorted.bam', 'rb')\n",
    "name_indexed = pysam.IndexedReads(bamfile)\n",
    "name_indexed.build()\n",
    "header = bamfile.header.copy()\n",
    "# this is probably not very efficient as it uses up a lot of memory but it'll do the job for now"
   ]
  },
  {
   "cell_type": "code",
   "execution_count": null,
   "id": "35d4ade1",
   "metadata": {},
   "outputs": [],
   "source": [
    "def ase_reads(reads, read_to_specificity):\n",
    "    paternal_reads = []\n",
    "    maternal_reads = []\n",
    "    for read in reads:\n",
    "        if read_to_specificity[read] == 'M':\n",
    "            maternal_reads.append(read)\n",
    "        if read_to_specificity[read] == 'P':\n",
    "            paternal_reads.append(read)\n",
    "    return paternal_reads,maternal_reads\n",
    "\n",
    "actb_paternal,actb_maternal = ase_reads(gene_to_reads['ENSG00000075624'], read_to_specificity)\n",
    "\n",
    "out_p = pysam.Samfile('ACTB_paternal.bam', 'wb', header=header)\n",
    "out_m = pysam.Samfile('ACTB_maternal.bam', 'wb', header=header)\n",
    "for name in actb_paternal:\n",
    "    iterator = name_indexed.find(name)\n",
    "    for x in iterator:\n",
    "        out_p.write(x)\n",
    "out_p.close()\n",
    "for name in actb_maternal:\n",
    "    iterator = name_indexed.find(name)\n",
    "    for x in iterator:\n",
    "        out_m.write(x)\n",
    "out_m.close()"
   ]
  },
  {
   "cell_type": "markdown",
   "id": "6f844af3",
   "metadata": {},
   "source": [
    "Let's visualize the two bam files in IGV and note the two alleles different than the referrence in the maternal file"
   ]
  },
  {
   "cell_type": "code",
   "execution_count": null,
   "id": "47f94753",
   "metadata": {},
   "outputs": [],
   "source": [
    "from IPython.display import Image\n",
    "Image(filename='actb.png') "
   ]
  },
  {
   "cell_type": "markdown",
   "id": "c0dd7b51",
   "metadata": {},
   "source": [
    "#### Let's see if we can find any genes with specific isoform alle expression:"
   ]
  },
  {
   "cell_type": "code",
   "execution_count": null,
   "id": "dddd080b",
   "metadata": {},
   "outputs": [],
   "source": [
    "genes = list(gene_to_reads.keys())\n",
    "df = pd.read_csv('nvrna.isoform.stats28.txt',sep='\\t')\n",
    "df['ASE'] = df.apply(f, axis=1)\n",
    "df = df[(df.reads >= 5)]\n",
    "df.head()"
   ]
  },
  {
   "cell_type": "code",
   "execution_count": null,
   "id": "e47e476e",
   "metadata": {},
   "outputs": [],
   "source": [
    "isoform_ase = []\n",
    "for gene in genes:\n",
    "    if len(df[(df.Gene_ID == gene) & (df.ASE == 'Paternal')]) >= 1 and len(df[(df.Gene_ID == gene) & (df.ASE == 'Maternal')]) >=1:\n",
    "        isoform_ase.append(gene)\n",
    "#         print('Gene ' + gene + ' has isoform specific expression')\n",
    "isoform_ase_df = df[(df.Gene_ID.isin(isoform_ase))&(df.ASE != 'Unassigned')].sort_values(['reads','Gene_ID'],ascending=False).reset_index(drop=True)"
   ]
  },
  {
   "cell_type": "code",
   "execution_count": null,
   "id": "d22ec0aa",
   "metadata": {},
   "outputs": [],
   "source": [
    "isoform_ase_df"
   ]
  },
  {
   "cell_type": "markdown",
   "id": "ea689fdb",
   "metadata": {},
   "source": [
    "#### let's go ahead and like above visualize the ENSG00000137959 (IFIH1)'s maternal/paternal isoforms in IGV since it has the most coverage for both mathernal and paternal isoforms:"
   ]
  },
  {
   "cell_type": "code",
   "execution_count": null,
   "id": "4d289768",
   "metadata": {},
   "outputs": [],
   "source": [
    "isoform_ase_df[(isoform_ase_df.Gene_ID == 'ENSG00000115267')]"
   ]
  },
  {
   "cell_type": "code",
   "execution_count": null,
   "id": "05ca0f10",
   "metadata": {},
   "outputs": [],
   "source": [
    "out_p = pysam.Samfile('IFIH1_ENST00000263642.bam', 'wb', header=header)\n",
    "out_m = pysam.Samfile('IFIH1_novel.bam', 'wb', header=header)\n",
    "for name in list(isoform_to_reads['d7debd96-8a4a-46a7-8a9f-314847da89ac']):\n",
    "    iterator = name_indexed.find(name)\n",
    "    for x in iterator:\n",
    "        out_m.write(x)\n",
    "out_m.close()\n",
    "for name in list(isoform_to_reads['ENST00000263642']):\n",
    "    iterator = name_indexed.find(name)\n",
    "    for x in iterator:\n",
    "        out_p.write(x)\n",
    "out_p.close()"
   ]
  },
  {
   "cell_type": "code",
   "execution_count": null,
   "id": "fc32fa4d",
   "metadata": {},
   "outputs": [],
   "source": [
    "Image(filename='IFIH1.png') "
   ]
  },
  {
   "cell_type": "markdown",
   "id": "a17e96f8",
   "metadata": {},
   "source": [
    "#### From above we can see that the novel isoform identified does not include an exon, now let's zoom in to find allele specificity:"
   ]
  },
  {
   "cell_type": "code",
   "execution_count": null,
   "id": "cb3c99ed",
   "metadata": {},
   "outputs": [],
   "source": [
    "Image(filename='IFIH2.png') "
   ]
  },
  {
   "cell_type": "code",
   "execution_count": null,
   "id": "d60a49a9",
   "metadata": {},
   "outputs": [],
   "source": [
    "Image(filename='IFIH3.png') "
   ]
  },
  {
   "cell_type": "markdown",
   "id": "13df9dde",
   "metadata": {},
   "source": [
    "#### Note that these alleles are about 3kb apart, something that previously was not detectable with conventional short reads"
   ]
  }
 ],
 "metadata": {},
 "nbformat": 4,
 "nbformat_minor": 5
}
