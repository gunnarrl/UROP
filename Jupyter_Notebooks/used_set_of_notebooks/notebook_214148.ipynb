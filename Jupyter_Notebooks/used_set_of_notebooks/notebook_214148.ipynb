{
 "cells": [
  {
   "cell_type": "markdown",
   "id": "3f5e1bea",
   "metadata": {},
   "source": [
    "# Why Most Published Research Findings are False\n",
    "\n",
    "Based on the essay by John Oiannidis: [_Why Most Published Research Findings are False_](https://journals.plos.org/plosmedicine/article?id=10.1371/journal.pmed.0020124), PLoS Medicine, August 2005.\n"
   ]
  },
  {
   "cell_type": "markdown",
   "id": "11f5c027",
   "metadata": {},
   "source": [
    "_R_ is the ratio of *true relationships* to *not true relationships*. For example, if we are doing a genome association study and there are 100,000 markers, and we expect 10 to be correlated with the condition, we would have:"
   ]
  },
  {
   "cell_type": "code",
   "execution_count": null,
   "id": "3af60692",
   "metadata": {},
   "outputs": [],
   "source": [
    "R = 10 / (100000 - 10)"
   ]
  },
  {
   "cell_type": "markdown",
   "id": "ad9a813f",
   "metadata": {},
   "source": [
    "Thus, the a priori probability that a tested relationship (randomly selected) is true is _R / (R_ + 1)."
   ]
  },
  {
   "cell_type": "code",
   "execution_count": null,
   "id": "7b56205b",
   "metadata": {},
   "outputs": [],
   "source": [
    "p = R / (R + 1)"
   ]
  },
  {
   "cell_type": "markdown",
   "id": "e0139b79",
   "metadata": {},
   "source": [
    "The probability of a Type I (false positive) error is &alpha;:"
   ]
  },
  {
   "cell_type": "code",
   "execution_count": null,
   "id": "6ccac56c",
   "metadata": {},
   "outputs": [],
   "source": [
    "alpha = 0.05"
   ]
  },
  {
   "cell_type": "markdown",
   "id": "6153bf17",
   "metadata": {},
   "source": [
    "The statistical power of the experiment, 1 - &Beta;, is the likelihood of finding an effect if there really is one. Typical experiments aim for statistical power of 0.8. The probability of a Type II (flase negative) error is &Beta;:"
   ]
  },
  {
   "cell_type": "code",
   "execution_count": null,
   "id": "17816f26",
   "metadata": {},
   "outputs": [],
   "source": [
    "beta = 0.2"
   ]
  },
  {
   "cell_type": "markdown",
   "id": "bb49eccf",
   "metadata": {},
   "source": [
    "So, the probability the is a true relationship and the outcome of the experiment finds it is _p_(1 - &Beta;):"
   ]
  },
  {
   "cell_type": "code",
   "execution_count": null,
   "id": "10821064",
   "metadata": {},
   "outputs": [],
   "source": [
    "pyy = (1 - beta) * p"
   ]
  },
  {
   "cell_type": "markdown",
   "id": "9ab3b8a2",
   "metadata": {},
   "source": [
    "The probability that there is no true relationship and the outcome of the experiment is true is (1 - _p_)&alpha;:"
   ]
  },
  {
   "cell_type": "code",
   "execution_count": null,
   "id": "2013c9b2",
   "metadata": {},
   "outputs": [],
   "source": [
    "pny = (1 - p) * alpha"
   ]
  },
  {
   "cell_type": "code",
   "execution_count": null,
   "id": "502dab9b",
   "metadata": {},
   "outputs": [],
   "source": [
    "pny, pyy"
   ]
  },
  {
   "cell_type": "markdown",
   "id": "aebc5129",
   "metadata": {},
   "source": [
    "The positive predictive value of the experiment is the number of true positives / total number of positive outcomes:"
   ]
  },
  {
   "cell_type": "code",
   "execution_count": null,
   "id": "037b832c",
   "metadata": {},
   "outputs": [],
   "source": [
    "PPV = pyy / (pny + pyy)"
   ]
  },
  {
   "cell_type": "code",
   "execution_count": null,
   "id": "6dbe0583",
   "metadata": {},
   "outputs": [],
   "source": [
    "PPV"
   ]
  },
  {
   "cell_type": "markdown",
   "id": "525794f0",
   "metadata": {},
   "source": [
    "Yikes! The likelihood of the research finding being false is over 99%:"
   ]
  },
  {
   "cell_type": "code",
   "execution_count": null,
   "id": "b2dc74d6",
   "metadata": {},
   "outputs": [],
   "source": [
    "print(100 * (1 - PPV))"
   ]
  },
  {
   "cell_type": "markdown",
   "id": "73be4b87",
   "metadata": {},
   "source": [
    "Let's try varying _R_ and hope things get better..."
   ]
  },
  {
   "cell_type": "code",
   "execution_count": null,
   "id": "8515c0c6",
   "metadata": {},
   "outputs": [],
   "source": [
    "def compute_ppv(R, alpha, beta):\n",
    "    p = R / (R + 1)\n",
    "    pyy = (1 - beta) * p\n",
    "    pny = (1 - p) * alpha\n",
    "    return pyy / (pny + pyy)"
   ]
  },
  {
   "cell_type": "code",
   "execution_count": null,
   "id": "2a354c43",
   "metadata": {},
   "outputs": [],
   "source": [
    "compute_ppv(10 / (100000 - 10), 0.05, 0.20)"
   ]
  },
  {
   "cell_type": "code",
   "execution_count": null,
   "id": "7a1dea95",
   "metadata": {},
   "outputs": [],
   "source": [
    "for R in [1/n for n in (10000, 1000, 100, 10, 2, 1)]:\n",
    "        print(\"R = {0:1.8f}, PPV = {1:1.5f}\".format(R, compute_ppv(R, alpha, beta)))"
   ]
  }
 ],
 "metadata": {},
 "nbformat": 4,
 "nbformat_minor": 5
}
