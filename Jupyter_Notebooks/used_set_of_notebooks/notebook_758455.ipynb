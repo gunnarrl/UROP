{
 "cells": [
  {
   "cell_type": "markdown",
   "id": "91f34886",
   "metadata": {},
   "source": [
    "<a href=\"https://colab.research.google.com/github/janilles/sentimentAnalysis/blob/master/fb_messages.ipynb\" target=\"_parent\"><img src=\"https://colab.research.google.com/assets/colab-badge.svg\" alt=\"Open In Colab\"/></a>"
   ]
  },
  {
   "cell_type": "markdown",
   "id": "5e8c286d",
   "metadata": {},
   "source": [
    "# Sentiment analysis of Facebook Messenger data\n",
    "Looking at sentiment change over time by chat participant."
   ]
  },
  {
   "cell_type": "markdown",
   "id": "0978d2d8",
   "metadata": {},
   "source": [
    "# Libraries used"
   ]
  },
  {
   "cell_type": "code",
   "execution_count": null,
   "id": "ab9e5b00",
   "metadata": {},
   "outputs": [],
   "source": [
    "import json\n",
    "import pandas as pd\n",
    "import nltk\n",
    "from nltk.sentiment.vader import SentimentIntensityAnalyzer\n",
    "import altair as alt\n"
   ]
  },
  {
   "cell_type": "markdown",
   "id": "6d56fc7b",
   "metadata": {},
   "source": [
    "# Import json file data"
   ]
  },
  {
   "cell_type": "code",
   "execution_count": null,
   "id": "85bebd8a",
   "metadata": {},
   "outputs": [],
   "source": [
    "path_to_file = 'json_dump.json'\n",
    "\n",
    "with open(path_to_file) as file:\n",
    "    chat_history = json.load(file)"
   ]
  },
  {
   "cell_type": "code",
   "execution_count": null,
   "id": "346b7c84",
   "metadata": {},
   "outputs": [],
   "source": [
    "chat_history.keys()"
   ]
  },
  {
   "cell_type": "markdown",
   "id": "4fcd1e31",
   "metadata": {},
   "source": [
    "# Load messages to dataframe"
   ]
  },
  {
   "cell_type": "code",
   "execution_count": null,
   "id": "9fe0c5ae",
   "metadata": {},
   "outputs": [],
   "source": [
    "messages = pd.DataFrame(chat_history['messages'])\n",
    "\n",
    "messages.head()\n"
   ]
  },
  {
   "cell_type": "markdown",
   "id": "5c48a5d4",
   "metadata": {},
   "source": [
    "## Converting timestamp format to date"
   ]
  },
  {
   "cell_type": "code",
   "execution_count": null,
   "id": "08f46a35",
   "metadata": {},
   "outputs": [],
   "source": [
    "# helper function\n",
    "def convert_time(timestamp):\n",
    "    return pd.to_datetime(timestamp,\n",
    "                          unit='ms') # because that's our format from json"
   ]
  },
  {
   "cell_type": "code",
   "execution_count": null,
   "id": "9e358efd",
   "metadata": {},
   "outputs": [],
   "source": [
    "# create new column\n",
    "messages['date'] = messages['timestamp_ms'].apply(convert_time)"
   ]
  },
  {
   "cell_type": "code",
   "execution_count": null,
   "id": "51a7ab8e",
   "metadata": {},
   "outputs": [],
   "source": [
    "messages.head(2)"
   ]
  },
  {
   "cell_type": "markdown",
   "id": "9ae18154",
   "metadata": {},
   "source": [
    "## Get month and year from date"
   ]
  },
  {
   "cell_type": "code",
   "execution_count": null,
   "id": "dbbb3f34",
   "metadata": {},
   "outputs": [],
   "source": [
    "# helper functions\n",
    "def get_month(date):\n",
    "    return date.month\n",
    "\n",
    "def get_year(date):\n",
    "    return date.year\n"
   ]
  },
  {
   "cell_type": "code",
   "execution_count": null,
   "id": "9bb85e55",
   "metadata": {},
   "outputs": [],
   "source": [
    "# create new columns\n",
    "messages['month'] = messages['date'].apply(get_month)\n",
    "messages['year'] = messages['date'].apply(get_year)\n"
   ]
  },
  {
   "cell_type": "markdown",
   "id": "a4548c27",
   "metadata": {},
   "source": [
    "# Sentiment analysis"
   ]
  },
  {
   "cell_type": "code",
   "execution_count": null,
   "id": "fbfb2564",
   "metadata": {},
   "outputs": [],
   "source": [
    "# download dictionary of words \n",
    "# with positive/negative scores assigned\n",
    "nltk.download('vader_lexicon')"
   ]
  },
  {
   "cell_type": "markdown",
   "id": "d3ac5fe4",
   "metadata": {},
   "source": [
    "## Create analyser object"
   ]
  },
  {
   "cell_type": "code",
   "execution_count": null,
   "id": "d9eaca6a",
   "metadata": {},
   "outputs": [],
   "source": [
    "# create analyser object\n",
    "sentiment_analyser = SentimentIntensityAnalyzer()"
   ]
  },
  {
   "cell_type": "markdown",
   "id": "531c47b4",
   "metadata": {},
   "source": [
    "## Get polarity scores"
   ]
  },
  {
   "cell_type": "code",
   "execution_count": null,
   "id": "3e8aec68",
   "metadata": {},
   "outputs": [],
   "source": [
    "# get polarity scores\n",
    "sentiment_analyser.polarity_scores('Have you ever wondered about all the personal data that Facebook collects on its over 2 billion users? It’s time to harness the information Facebook has on you for your own good and discover some insights.')"
   ]
  },
  {
   "cell_type": "code",
   "execution_count": null,
   "id": "46a7eb34",
   "metadata": {},
   "outputs": [],
   "source": [
    "# helper function\n",
    "def get_polarity(text):\n",
    "    # we're only interested in the compound score\n",
    "    return sentiment_analyser.polarity_scores(text)['compound']\n"
   ]
  },
  {
   "cell_type": "code",
   "execution_count": null,
   "id": "0aa0238b",
   "metadata": {},
   "outputs": [],
   "source": [
    "# create new column for polarity scores\n",
    "messages['sentiment'] = messages['content'].apply(get_polarity)\n",
    "\n",
    "messages.head()\n"
   ]
  },
  {
   "cell_type": "markdown",
   "id": "cb9bd9c0",
   "metadata": {},
   "source": [
    "## Who's the more positive/negative participant"
   ]
  },
  {
   "cell_type": "code",
   "execution_count": null,
   "id": "d3ef1b5c",
   "metadata": {},
   "outputs": [],
   "source": [
    "messages.groupby(\n",
    "    'sender_name',\n",
    "    as_index=False)['sentiment'].mean(\n",
    ").sort_values('sentiment',\n",
    "              ascending=False)\n"
   ]
  },
  {
   "cell_type": "markdown",
   "id": "b4692dbe",
   "metadata": {},
   "source": [
    "## Visualisation over time"
   ]
  },
  {
   "cell_type": "code",
   "execution_count": null,
   "id": "4dc76642",
   "metadata": {},
   "outputs": [],
   "source": [
    "year_month = messages.groupby(\n",
    "    ['month',\n",
    "     'year',\n",
    "     'sender_name'],\n",
    "    as_index=False)['sentiment'].mean()\n",
    "\n",
    "year_month.head()\n"
   ]
  },
  {
   "cell_type": "code",
   "execution_count": null,
   "id": "f9c1ccc0",
   "metadata": {},
   "outputs": [],
   "source": [
    "alt.Chart(year_month).mark_line().encode(\n",
    "    x='month',\n",
    "    y='sentiment',\n",
    "    color='sender_name'\n",
    ")"
   ]
  }
 ],
 "metadata": {},
 "nbformat": 4,
 "nbformat_minor": 5
}
