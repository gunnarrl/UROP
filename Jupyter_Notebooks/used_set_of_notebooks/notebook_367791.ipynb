{
 "cells": [
  {
   "cell_type": "markdown",
   "id": "5b20a757",
   "metadata": {},
   "source": [
    "# HAL Compound Rescue Analysis and Dendrogram"
   ]
  },
  {
   "cell_type": "markdown",
   "id": "d67b62d3",
   "metadata": {},
   "source": [
    "By Pablo Cárdenas, pcarden@mit.edu\n",
    "\n",
    "For Nakashima, et al. \n",
    "\n",
    "### Objectives:\n",
    "- Establish whether there were differences between compounds with rescue and non-rescue phenotypes for protein HAL knock-down in _Plasmodium falciparum_.\n",
    "- Create phylogenetic dendrogram of HAL sequences.\n"
   ]
  },
  {
   "cell_type": "markdown",
   "id": "949e1043",
   "metadata": {},
   "source": [
    "## Contents:\n",
    "* [0. Setup](#setup)\n",
    "* [1. Datasets: chemometrics](#datasets)\n",
    "* [2. Unsupervised clustering by chemometrics](#clustering)\n",
    "* [3. Phylogenetic dendrogram](#phylogenetics)"
   ]
  },
  {
   "cell_type": "markdown",
   "id": "2a121e2c",
   "metadata": {},
   "source": [
    "## 0. Setup <a name=\"setup\"></a>"
   ]
  },
  {
   "cell_type": "markdown",
   "id": "7762c301",
   "metadata": {},
   "source": [
    "### 0.1 Imports"
   ]
  },
  {
   "cell_type": "code",
   "execution_count": null,
   "id": "542e87fe",
   "metadata": {},
   "outputs": [],
   "source": [
    "# General purpose data handling and graphing\n",
    "import random\n",
    "import copy as cp\n",
    "import numpy as np\n",
    "import pandas as pd\n",
    "from pylab import *\n",
    "from matplotlib import pyplot as plt\n",
    "from matplotlib.colors import ListedColormap\n",
    "import seaborn as sns\n",
    "\n",
    "# Clustering\n",
    "import scipy.cluster as clu\n",
    "import scipy.spatial as spa\n",
    "import sklearn.decomposition as dec\n",
    "import sklearn.cluster as skc\n",
    "import sklearn.ensemble as ske\n",
    "import sklearn.model_selection as skms\n",
    "import sklearn.metrics as skm\n",
    "import sklearn.preprocessing as skp\n",
    "import sklearn.tree as skt\n",
    "import scipy.cluster.hierarchy as hc"
   ]
  },
  {
   "cell_type": "markdown",
   "id": "4ec96110",
   "metadata": {},
   "source": [
    "### 0.2 Plots"
   ]
  },
  {
   "cell_type": "code",
   "execution_count": null,
   "id": "eecc23ff",
   "metadata": {},
   "outputs": [],
   "source": [
    "matplotlib.rcParams.update({'font.size': 12}) # bigger text"
   ]
  },
  {
   "cell_type": "markdown",
   "id": "9a6a8412",
   "metadata": {},
   "source": [
    "## 1. Datasets: chemometrics and structure <a name=\"datasets\"></a>"
   ]
  },
  {
   "cell_type": "markdown",
   "id": "27426451",
   "metadata": {},
   "source": [
    "### 1.1 Names"
   ]
  },
  {
   "cell_type": "code",
   "execution_count": null,
   "id": "5fc2d4ee",
   "metadata": {},
   "outputs": [],
   "source": [
    "# Relates compound numbers to names. \n",
    "# Analysis was originally performed with compound names blinded.\n",
    "compound_names = {\n",
    "    1: 'Atorvastatin',\n",
    "    2: 'Simvastatin',\n",
    "    3: 'Propranolol',\n",
    "    4: 'Betaxolol',\n",
    "    5: 'Alprenolol',\n",
    "    6: 'Practolol',\n",
    "    7: 'Salbutamol',\n",
    "    8: 'Isoproteranol',\n",
    "    9: 'Chloroquine',\n",
    "    10: 'Mefloquine',\n",
    "    11: 'Clotrimazole',\n",
    "    12: 'Lumefantrine',\n",
    "    13: 'Piperaquine',\n",
    "    14: 'Bilirubin',\n",
    "    15: 'Alpha-tocopherol',\n",
    "    16: 'Probucol',\n",
    "    17: 'Ascorbate',\n",
    "    18: 'Dehydroascorbate',\n",
    "    19: 'Chlorpromazine',\n",
    "    20: 'Clomipramine',\n",
    "    21: 'Chembridge SMM_1 (ID: 19635129)',\n",
    "    22: 'Chembridge SMM_2 (ID: 48011879)',\n",
    "    23: 'Chembridge_SMM_3 (ID: 60165744)',\n",
    "    24: 'Chembridge_SMM_4 (ID: 6965313)',\n",
    "    25: 'ACMP',\n",
    "    26: 'NITD609',\n",
    "    27: 'Quercitin',\n",
    "    28: 'Norflurazon'\n",
    "}\n",
    "# pd.DataFrame(pd.Series(compound_names))"
   ]
  },
  {
   "cell_type": "markdown",
   "id": "4597adc7",
   "metadata": {},
   "source": [
    "### 1.2 Chemometrics and phenotype"
   ]
  },
  {
   "cell_type": "code",
   "execution_count": null,
   "id": "b7503cab",
   "metadata": {},
   "outputs": [],
   "source": [
    "# Import chemometric data and rescue phenotype data\n",
    "\n",
    "dat_cm = pd.read_csv('Supplementary table - HAL_Rescue_Compounds.csv') # read data \n",
    "dat_cm.index = dat_cm['Compound'] # preserve IDs\n",
    "dat_cm = dat_cm.drop(columns='Compound')\n",
    "dat_cm = dat_cm.transpose()\n",
    "\n",
    "# Data labels: rescue phenotype\n",
    "dat_lab = dat_cm['Rescue'] \n",
    "dat_cm = dat_cm.drop(columns='Rescue')\n",
    "\n",
    "# Log-transform these columns to make them more informative, \n",
    "# given their highly skewed distribution\n",
    "dat_cm['Lipid accumulation  ratio (LAR)'] \\\n",
    "    = np.log(dat_cm['Lipid accumulation  ratio (LAR)'])\n",
    "dat_cm['Vacuolar accumulation  ratio (VAR)']\\\n",
    "    = np.log(dat_cm['Vacuolar accumulation  ratio (VAR)'])\n",
    "\n",
    "dat_cm = dat_cm.drop(columns='log D7.4 (ChemAxon)') \n",
    "    # turns out this is the same as log LAR, so we drop it\n",
    "\n",
    "dat_cm_scaled = pd.DataFrame( \n",
    "    skp.scale( dat_cm,axis=0 ), \n",
    "    index=dat_cm.index, columns=dat_cm.columns \n",
    ") \n",
    "    # we rescale along time points, each protein independently"
   ]
  },
  {
   "cell_type": "markdown",
   "id": "2ce4a208",
   "metadata": {},
   "source": [
    "## 2. Unsupervised clustering by chemometrics  <a name=\"clustering\"></a>"
   ]
  },
  {
   "cell_type": "markdown",
   "id": "672b0574",
   "metadata": {},
   "source": [
    "### 2.1 Dimensionality reduction: PCA"
   ]
  },
  {
   "cell_type": "code",
   "execution_count": null,
   "id": "45f34c78",
   "metadata": {},
   "outputs": [],
   "source": [
    "pca = dec.PCA() # create PCA object\n",
    "pca.fit(dat_cm_scaled) # fit to data, only numeric data\n",
    "dat_pca = pca.transform(dat_cm_scaled) # transform it to matrix"
   ]
  },
  {
   "cell_type": "code",
   "execution_count": null,
   "id": "e12350b1",
   "metadata": {},
   "outputs": [],
   "source": [
    "print('explained variance ratio (first components): %s'\n",
    "      % str(np.sum(pca.explained_variance_ratio_[0:2])))"
   ]
  },
  {
   "cell_type": "code",
   "execution_count": null,
   "id": "ca2d449b",
   "metadata": {},
   "outputs": [],
   "source": [
    "# Explained variance plot\n",
    "\n",
    "fig = plt.figure()\n",
    "ax = fig.add_subplot(1,1,1) \n",
    "ax.set_xlabel('Principal component')\n",
    "ax.set_ylabel('Explained variance')\n",
    "\n",
    "sns.barplot(np.arange(1,dat_pca.shape[1]+1),pca.explained_variance_ratio_)\n",
    "plt.tight_layout()\n",
    "fig.savefig(\"PCA_Explained_variance.png\", dpi=300)"
   ]
  },
  {
   "cell_type": "code",
   "execution_count": null,
   "id": "65084d55",
   "metadata": {},
   "outputs": [],
   "source": [
    "# Loadings\n",
    "\n",
    "ld = pca.components_\n",
    "fig = plt.figure(figsize = (7,6))\n",
    "ax = fig.add_subplot(1,1,1) \n",
    "plt.scatter(ld[0,:],ld[1,:], alpha=0.6, label=\"Loadings\", color='purple');\n",
    "ax.set_xlabel('Principal Component 1')\n",
    "ax.set_ylabel('Principal Component 2')\n",
    "for i in range(ld.shape[1]): # show text for all\n",
    "    if i%50==0:\n",
    "        plt.text(ld[0,i]+0.01,ld[1,i]+0.003,dat_cm_scaled.columns[i],fontsize=10,alpha=0.6)\n",
    "    else:\n",
    "        plt.text(ld[0,i]+0.01,ld[1,i]-0.02,dat_cm_scaled.columns[i],fontsize=10,alpha=0.6)\n",
    "\n",
    "plt.tight_layout()\n",
    "fig.savefig(\"Loadings_12.png\", dpi=300)\n",
    "fig.savefig(\"Loadings_12.eps\", dpi=300)"
   ]
  },
  {
   "cell_type": "code",
   "execution_count": null,
   "id": "35f1955c",
   "metadata": {},
   "outputs": [],
   "source": [
    "# PC plot by phenotype\n",
    "\n",
    "fig = plt.figure(figsize = (5,5))\n",
    "ax = fig.add_subplot(1,1,1) \n",
    "colors = sns.color_palette('colorblind', 2) \n",
    "    # get a color palette of right length\n",
    "types = ['Rescue','No rescue']\n",
    "ax.set_xlabel('Principal Component 1')\n",
    "ax.set_ylabel('Principal Component 2')\n",
    "\n",
    "for lab, color in zip(dat_lab.unique(),colors): \n",
    "        # plots first one group of points with one color, then the other\n",
    "    plt.scatter(dat_pca[dat_lab == lab, 0], dat_pca[dat_lab == lab, 1], \n",
    "                color=color, alpha=.8, lw=2,label=types[int(lab==0)])\n",
    "    \n",
    "for i in range(len(dat_cm_scaled.index)): # show text for all\n",
    "    plt.text(dat_pca[i,0]-0.2,dat_pca[i,1]-0.3,\n",
    "             dat_cm_scaled.index[i],fontsize=10,alpha=0.6)\n",
    "    \n",
    "plt.legend(loc='best', shadow=False, scatterpoints=1)\n",
    "\n",
    "plt.tight_layout()\n",
    "fig.savefig(\"PCA_by_phenotype.png\", dpi=300)\n",
    "fig.savefig(\"PCA_by_phenotype.eps\", dpi=300)"
   ]
  },
  {
   "cell_type": "markdown",
   "id": "b73b6e6a",
   "metadata": {},
   "source": [
    "### 2.2 Hierarchical clustering"
   ]
  },
  {
   "cell_type": "code",
   "execution_count": null,
   "id": "4b2f5dde",
   "metadata": {},
   "outputs": [],
   "source": [
    "'''\n",
    "Plots clustermaps\n",
    "'''\n",
    "def heatmapClusters(\n",
    "    dat,labels,method='average',metric='euclidean',\n",
    "    file_name=\"\",col_palette=\"\"):\n",
    "\n",
    "    # Plot\n",
    "    dat = dat.transpose() \n",
    "        # we put the features along rows of heatmap to \n",
    "        # get compound dendrogram on top\n",
    "    dat.columns = [\n",
    "        str(i+1)+': '+compound_names[i+1] for i in range(len(compound_names))\n",
    "    ] # change index to names\n",
    "    if col_palette == \"\": # default behavior for colors\n",
    "        col_palette = sns.color_palette('colorblind', len(labels.unique())) \n",
    "        # get a color palette of right length\n",
    "        \n",
    "    lut = dict(zip(labels.unique(), col_palette)) \n",
    "        # associate each cluster with a color\n",
    "    row_colors = pd.Series(labels).map(lut) \n",
    "        # mark each clade with a color\n",
    "    row_colors.index = dat.columns \n",
    "        # allows correct colorbar mapping\n",
    "    g = sns.clustermap(\n",
    "        dat, col_colors=row_colors,method=method,metric=metric, \n",
    "        cbar_kws={'label': 'Scaled value'}, \n",
    "        cmap=sns.cubehelix_palette(start=-1, rot=1, as_cmap=True, reverse=True), \n",
    "        figsize=(12,10)\n",
    "    ) # show it\n",
    "    g.ax_heatmap.set_xticklabels(g.ax_heatmap.get_xticklabels(), \n",
    "                                 rotation=45, horizontalalignment='right')\n",
    "    \n",
    "    if len(file_name) > 0:\n",
    "        plt.tight_layout()\n",
    "        g.savefig(file_name+\".eps\", dpi=300)\n",
    "    \n",
    "    return g"
   ]
  },
  {
   "cell_type": "code",
   "execution_count": null,
   "id": "6b77ba56",
   "metadata": {},
   "outputs": [],
   "source": [
    "# Best clustermap, with rescue phenotype color bar\n",
    "\n",
    "fig = plt.figure()\n",
    "g = heatmapClusters(dat_cm_scaled,dat_lab,\n",
    "                    method='complete',metric='cityblock')\n",
    "g.savefig(\"Compounds_heatmap_phenotypes.png\", dpi=300)\n",
    "g.savefig(\"Compounds_heatmap_phenotypes.eps\", dpi=300)"
   ]
  },
  {
   "cell_type": "markdown",
   "id": "55f510b7",
   "metadata": {},
   "source": [
    "### 2.3 Examine individual features"
   ]
  },
  {
   "cell_type": "code",
   "execution_count": null,
   "id": "b99b5a7e",
   "metadata": {},
   "outputs": [],
   "source": [
    "figure = plt.figure(figsize=(10,6))\n",
    "\n",
    "dat_melt = pd.DataFrame(\n",
    "    dat_pca, columns=[i+1 for i in range(dat_pca.shape[1])], \n",
    "    index=dat_lab.index \n",
    ")\n",
    "dat_melt['Rescue'] = dat_lab\n",
    "dat_melt = dat_melt.melt(id_vars=['Rescue'])\n",
    "dat_melt.columns = ['Rescue','Principal Component','Value']\n",
    "dat_melt.loc[ dat_melt['Rescue']==1, 'Rescue' ] = 'Rescue'\n",
    "dat_melt.loc[ dat_melt['Rescue']==0, 'Rescue' ] = 'No rescue'\n",
    "\n",
    "ax = sns.violinplot(x='Principal Component', y='Value', hue='Rescue',\n",
    "                    data=dat_melt, palette=\"muted\", split=True)\n",
    "# ax.set_xticklabels(ax.get_xticklabels(), rotation=45, \n",
    "#                    horizontalalignment='right')\n",
    "\n",
    "figure.tight_layout()\n",
    "figure.savefig(\"PC_Comp.png\", dpi=300)\n",
    "# figure.savefig(\"PC_Comp.eps\", dpi=300)"
   ]
  },
  {
   "cell_type": "markdown",
   "id": "4d904eb7",
   "metadata": {},
   "source": [
    "## 3. Phylogenetic dendrogram <a name=\"phylogenetics\"></a>"
   ]
  },
  {
   "cell_type": "code",
   "execution_count": null,
   "id": "a8621b24",
   "metadata": {},
   "outputs": [],
   "source": [
    "dat = pd.read_csv('27 lipocalins percentage matrix.csv') # read data \n",
    "dat.head()"
   ]
  },
  {
   "cell_type": "code",
   "execution_count": null,
   "id": "f6469da8",
   "metadata": {},
   "outputs": [],
   "source": [
    "dat.columns = ['a','b','organism'] + list(dat['BBP Pieris brassicae'])\n",
    "\n",
    "dat.index = list(dat['organism'])\n",
    "dat = dat.drop(columns=['a','b','organism'])\n",
    "dat = 100-dat\n",
    "\n",
    "dat.head()"
   ]
  },
  {
   "cell_type": "code",
   "execution_count": null,
   "id": "e291d719",
   "metadata": {},
   "outputs": [],
   "source": [
    "linkage = hc.linkage(spa.distance.squareform(dat), method='weighted',optimal_ordering=True)\n",
    "g = sns.clustermap(dat, row_linkage=linkage, col_linkage=linkage, \n",
    "                   cmap=sns.cubehelix_palette(start=.5, rot=-.75, as_cmap=True, reverse=True), \n",
    "                   cbar_kws={'label': '% Distance'}) # hierarchical clustering\n",
    "g.savefig(\"MFP_Dendrogram.eps\", dpi=300)"
   ]
  }
 ],
 "metadata": {},
 "nbformat": 4,
 "nbformat_minor": 5
}
