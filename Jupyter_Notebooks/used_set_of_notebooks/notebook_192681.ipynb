{
 "cells": [
  {
   "cell_type": "code",
   "execution_count": null,
   "id": "ac2a5b1e",
   "metadata": {},
   "outputs": [],
   "source": [
    "import math\n",
    "import pandas as pd\n",
    "import numpy as np\n",
    "from quetzal.model import stepmodel"
   ]
  },
  {
   "cell_type": "markdown",
   "id": "26c4159c",
   "metadata": {},
   "source": [
    "# Fill price columns of LOS table"
   ]
  },
  {
   "cell_type": "code",
   "execution_count": null,
   "id": "f23356c2",
   "metadata": {},
   "outputs": [],
   "source": [
    "input_path = '../input/level_of_service/'\n",
    "output_path = '../output/'\n",
    "model_path = '../model/'"
   ]
  },
  {
   "cell_type": "code",
   "execution_count": null,
   "id": "9e6c56c3",
   "metadata": {},
   "outputs": [],
   "source": [
    "# Loading StepModel with LOS table...\n",
    "sm = stepmodel.read_zip(model_path + 'bw_los.zip')"
   ]
  },
  {
   "cell_type": "markdown",
   "id": "b97acd9a",
   "metadata": {},
   "source": [
    "### Cost function"
   ]
  },
  {
   "cell_type": "code",
   "execution_count": null,
   "id": "3ff4fa6a",
   "metadata": {},
   "outputs": [],
   "source": [
    "def monetary_cost(length, rf, vc, ac, al, ec, el, sf):\n",
    "    \"\"\" calculate monetary cost of travelling one O-D realtion within the LoS table\n",
    "    :param length: length of main leg in meter\n",
    "    :param df: regression factor for length (to be calibrated beforehand)\n",
    "    :param vc: distance-specific transport cost\n",
    "    :param ac: access cost\n",
    "    :param al: access link length (m)\n",
    "    :param ec: egress cost\n",
    "    :param el: egress link length (m)\n",
    "    :param sf: sharing factor (e.g. occupancy factor of a car)\n",
    "    :return: monetary cost\"\"\"\n",
    "    return (math.pow(length, rf) * vc + ac * al + ec * el) / sf"
   ]
  },
  {
   "cell_type": "markdown",
   "id": "77f70963",
   "metadata": {},
   "source": [
    "### MIT"
   ]
  },
  {
   "cell_type": "code",
   "execution_count": null,
   "id": "396535c2",
   "metadata": {},
   "outputs": [],
   "source": [
    "# Load list of cost elements\n",
    "cars = pd.read_csv(input_path + 'ADAC_2019_autokostenuebersicht_47085.csv')\n",
    "cars.head()"
   ]
  },
  {
   "cell_type": "markdown",
   "id": "d978c837",
   "metadata": {},
   "source": [
    "Take only perceived variable cost <br>\n",
    "Assume monthly mileage of 15,000km / 12"
   ]
  },
  {
   "cell_type": "code",
   "execution_count": null,
   "id": "c284076f",
   "metadata": {},
   "outputs": [],
   "source": [
    "# Elements of the cost function\n",
    "vc_car = cars['var_cost'].astype(int).mean() / (15000000/12) # in EUR/m\n",
    "print(vc_car)\n",
    "sf_car = 1.5\n",
    "parking_cost = {1: 5, 2: 1, 3: 0} # cost depending on urbanisation degree"
   ]
  },
  {
   "cell_type": "code",
   "execution_count": null,
   "id": "865ec0cf",
   "metadata": {},
   "outputs": [],
   "source": [
    "sm.analysis_car_length() # generate length columns\n",
    "sm.car_los['price'] = sm.car_los.apply(lambda df: monetary_cost(df['in_vehicle_length'], 1, vc_car,\n",
    "                                                                0,0, #parking_cost[sm.zones.loc[df['origin']]['urbanisation']], 1,\n",
    "                                                                0,0, #parking_cost[sm.zones.loc[df['destination']]['urbanisation']], 1,\n",
    "                                                                sf_car),\n",
    "                                      axis=1)"
   ]
  },
  {
   "cell_type": "code",
   "execution_count": null,
   "id": "ad93e5a3",
   "metadata": {},
   "outputs": [],
   "source": [
    "sm.car_los.head()"
   ]
  },
  {
   "cell_type": "markdown",
   "id": "2c3699e9",
   "metadata": {},
   "source": [
    "## PT\n",
    "Attribute fares to every link and then sum it up for the LOS table"
   ]
  },
  {
   "cell_type": "code",
   "execution_count": null,
   "id": "3eb1ffe2",
   "metadata": {},
   "outputs": [],
   "source": [
    "# Load list of distance-related cost\n",
    "c = pd.read_csv(input_path + 'DB_2020_preisliste_fahrplanjahr_2020.csv')\n",
    "c.head(3)"
   ]
  },
  {
   "cell_type": "code",
   "execution_count": null,
   "id": "a59fbe43",
   "metadata": {},
   "outputs": [],
   "source": [
    "# Use second class single trip prices\n",
    "# Choose a fit for a distance range up to 1000 km (longer trips are rare)\n",
    "rf_pt = 0.703\n",
    "c['regression'] = c['km'].apply(lambda km: math.pow(km, rf_pt))\n",
    "c.loc[0:1000, ['km', 'single_trip_second_class', 'regression']].set_index('km').plot()"
   ]
  },
  {
   "cell_type": "code",
   "execution_count": null,
   "id": "46dba5b8",
   "metadata": {},
   "outputs": [],
   "source": [
    "# Local transport trips are free but get a fare assigned in LOS table\n",
    "sm.links['price'] = 0"
   ]
  },
  {
   "cell_type": "code",
   "execution_count": null,
   "id": "e60d24b6",
   "metadata": {},
   "outputs": [],
   "source": [
    "# Long distance rail links\n",
    "sm.links.loc[sm.links['route_type']=='rail_long_distance', 'price'] = \\\n",
    "    sm.links['length'].apply(lambda l: monetary_cost(l/1000, rf_pt, 1,\n",
    "                                                     0, 0, 0, 0, 1))"
   ]
  },
  {
   "cell_type": "code",
   "execution_count": null,
   "id": "3aae8836",
   "metadata": {},
   "outputs": [],
   "source": [
    "# Short distance rail links\n",
    "sm.links.loc[sm.links['route_type']=='rail_short_distance', 'price'] = \\\n",
    "    sm.links['length'].apply(lambda l: monetary_cost(l/1000, rf_pt, 1,\n",
    "                                                     0, 0, 0, 0, 1))"
   ]
  },
  {
   "cell_type": "code",
   "execution_count": null,
   "id": "134a5f9b",
   "metadata": {},
   "outputs": [],
   "source": [
    "# Sum up prices in LOS table based on link fares\n",
    "sm.pt_los['price'] = sm.pt_los['link_path'].apply(\n",
    "    lambda l: sum([sm.links.loc[link, 'price'] for link in l]))\n",
    "# Add a fare for local transport services\n",
    "sm.pt_los.loc[sm.pt_los['route_types'].apply(\n",
    "    lambda t: 'short_distance_traffic' in t), 'price'] = \\\n",
    "    sm.pt_los['price'] + 3.5"
   ]
  },
  {
   "cell_type": "code",
   "execution_count": null,
   "id": "c55d4485",
   "metadata": {},
   "outputs": [],
   "source": [
    "# Generate length columns: in_vehicle_length, access_length, footpath_length\n",
    "sm.analysis_pt_length(walk_on_road=False)"
   ]
  },
  {
   "cell_type": "code",
   "execution_count": null,
   "id": "56df03b2",
   "metadata": {},
   "outputs": [],
   "source": [
    "print(sm.pt_los.columns)\n",
    "sm.pt_los.loc[~sm.pt_los['all_walk']]"
   ]
  },
  {
   "cell_type": "code",
   "execution_count": null,
   "id": "976c498d",
   "metadata": {},
   "outputs": [],
   "source": [
    "# Mean distance by foot\n",
    "sm.pt_los['footpath_length'].mean()"
   ]
  },
  {
   "cell_type": "markdown",
   "id": "860ce811",
   "metadata": {},
   "source": [
    "## Combine tables"
   ]
  },
  {
   "cell_type": "code",
   "execution_count": null,
   "id": "7b3c7add",
   "metadata": {},
   "outputs": [],
   "source": [
    "# Combine tables again\n",
    "sm.los = pd.concat([sm.pt_los, sm.car_los]).reset_index(drop=True)"
   ]
  },
  {
   "cell_type": "code",
   "execution_count": null,
   "id": "31b879b6",
   "metadata": {},
   "outputs": [],
   "source": [
    "print(sm.los.shape)\n",
    "sm.los.head()"
   ]
  },
  {
   "cell_type": "markdown",
   "id": "b76c057a",
   "metadata": {},
   "source": [
    "## Save"
   ]
  },
  {
   "cell_type": "code",
   "execution_count": null,
   "id": "0a9325a7",
   "metadata": {},
   "outputs": [],
   "source": [
    "# Saving model...\n",
    "sm.to_zip(model_path + r'bw_los.zip')"
   ]
  }
 ],
 "metadata": {},
 "nbformat": 4,
 "nbformat_minor": 5
}
