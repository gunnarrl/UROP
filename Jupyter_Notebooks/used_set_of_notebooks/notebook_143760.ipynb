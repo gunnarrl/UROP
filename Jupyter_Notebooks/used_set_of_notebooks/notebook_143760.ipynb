{
 "cells": [
  {
   "cell_type": "code",
   "execution_count": null,
   "id": "c7de4375",
   "metadata": {},
   "outputs": [],
   "source": [
    "import arviz as az\n",
    "import matplotlib.pyplot as plt\n",
    "import numpy as np\n",
    "import pymc3 as pm\n",
    "import scipy.stats as stats"
   ]
  },
  {
   "cell_type": "code",
   "execution_count": null,
   "id": "6f4cce10",
   "metadata": {},
   "outputs": [],
   "source": [
    "%config InlineBackend.figure_format = 'retina'\n",
    "%load_ext watermark\n",
    "az.style.use('arviz-darkgrid')"
   ]
  },
  {
   "cell_type": "markdown",
   "id": "a12b1484",
   "metadata": {},
   "source": [
    "#### Code 2.1"
   ]
  },
  {
   "cell_type": "code",
   "execution_count": null,
   "id": "d3a92582",
   "metadata": {},
   "outputs": [],
   "source": [
    "ways = np.array([0, 3, 8, 9, 0])\n",
    "ways / ways.sum()"
   ]
  },
  {
   "cell_type": "markdown",
   "id": "5c3a88c7",
   "metadata": {},
   "source": [
    "#### Code 2.2\n",
    "\n",
    "$$Pr(w \\mid n, p) =  \\frac{n!}{w!(n − w)!} p^w (1 − p)^{n−w}$$\n",
    "\n",
    "\n",
    "The probability of observing six W’s in nine tosses — below a value of $p=0.5$."
   ]
  },
  {
   "cell_type": "code",
   "execution_count": null,
   "id": "7e9949e8",
   "metadata": {},
   "outputs": [],
   "source": [
    "stats.binom.pmf(6, n=9, p=0.5)"
   ]
  },
  {
   "cell_type": "markdown",
   "id": "5aa99202",
   "metadata": {},
   "source": [
    "#### Code 2.3 and 2.5\n",
    "\n",
    "Computing the posterior using a grid approximation.\n",
    "\n",
    "In the book, the following code is not inside a function, but this way it is easier to play with different parameters."
   ]
  },
  {
   "cell_type": "code",
   "execution_count": null,
   "id": "fc53c5cd",
   "metadata": {},
   "outputs": [],
   "source": [
    "def posterior_grid_approx(grid_points=5, success=6, tosses=9):\n",
    "    \"\"\"\n",
    "    \"\"\"\n",
    "    # define grid\n",
    "    p_grid = np.linspace(0, 1, grid_points)\n",
    "\n",
    "    # define prior\n",
    "    prior = np.repeat(5, grid_points)  # uniform\n",
    "    # prior = (p_grid >= 0.5).astype(int)  # truncated\n",
    "    # prior = np.exp(- 5 * abs(p_grid - 0.5))  # double exp\n",
    "\n",
    "    # compute likelihood at each point in the grid\n",
    "    likelihood = stats.binom.pmf(success, tosses, p_grid)\n",
    "\n",
    "    # compute product of likelihood and prior\n",
    "    unstd_posterior = likelihood * prior\n",
    "\n",
    "    # standardize the posterior, so it sums to 1\n",
    "    posterior = unstd_posterior / unstd_posterior.sum()\n",
    "    return p_grid, posterior"
   ]
  },
  {
   "cell_type": "markdown",
   "id": "c96e2536",
   "metadata": {},
   "source": [
    "#### Code 2.3"
   ]
  },
  {
   "cell_type": "code",
   "execution_count": null,
   "id": "6d452695",
   "metadata": {},
   "outputs": [],
   "source": [
    "w, n = 6, 9\n",
    "\n",
    "_, ax = plt.subplots(1, 2, figsize=(12, 5))\n",
    "\n",
    "points = (5, 20)\n",
    "for idx, ps in enumerate(points):\n",
    "    p_grid, posterior = posterior_grid_approx(ps, w, n)\n",
    "    ax[idx].plot(p_grid, posterior, \"o-\", label=f\"successes = {w}\\ntosses = {n}\")\n",
    "    ax[idx].set_xlabel(\"probability of water\")\n",
    "    ax[idx].set_ylabel(\"posterior probability\")\n",
    "    ax[idx].set_title(f\"{ps} points\")\n",
    "    ax[idx].legend(loc=0)"
   ]
  },
  {
   "cell_type": "markdown",
   "id": "d98aeaa9",
   "metadata": {},
   "source": [
    "#### Code 2.6\n",
    "\n",
    "Computing the posterior using the quadratic aproximation (quad)."
   ]
  },
  {
   "cell_type": "code",
   "execution_count": null,
   "id": "21da2185",
   "metadata": {},
   "outputs": [],
   "source": [
    "np.repeat((0, 1), (3, 6))"
   ]
  },
  {
   "cell_type": "code",
   "execution_count": null,
   "id": "a631103f",
   "metadata": {},
   "outputs": [],
   "source": [
    "data = np.repeat((0, 1), (3, 6))\n",
    "with pm.Model() as normal_aproximation:\n",
    "    p = pm.Uniform(\"p\", 0, 1)  # uniform priors\n",
    "    w = pm.Binomial(\"w\", n=len(data), p=p, observed=data.sum())  # binomial likelihood\n",
    "    mean_q = pm.find_MAP()\n",
    "    std_q = ((1 / pm.find_hessian(mean_q, vars=[p])) ** 0.5)[0]\n",
    "\n",
    "# display summary of quadratic approximation\n",
    "print('  Mean, Standard deviation\\np {:.2}, {:.2}'.format(mean_q[\"p\"], std_q[0]))"
   ]
  },
  {
   "cell_type": "code",
   "execution_count": null,
   "id": "b9992399",
   "metadata": {},
   "outputs": [],
   "source": [
    "# Compute the 89% percentile interval\n",
    "norm = stats.norm(mean_q, std_q)\n",
    "prob = 0.89\n",
    "z = stats.norm.ppf([(1 - prob) / 2, (1 + prob) / 2])\n",
    "pi = mean_q[\"p\"] + std_q * z\n",
    "print('5.5%, 94.5% \\n{:.2}, {:.2}'.format(pi[0], pi[1]))"
   ]
  },
  {
   "cell_type": "markdown",
   "id": "21612683",
   "metadata": {},
   "source": [
    "#### Code 2.7"
   ]
  },
  {
   "cell_type": "code",
   "execution_count": null,
   "id": "2e369416",
   "metadata": {},
   "outputs": [],
   "source": [
    "# analytical calculation\n",
    "w, n = 6, 9\n",
    "x = np.linspace(0, 1, 100)\n",
    "plt.plot(x, stats.beta.pdf(x, w + 1, n - w + 1), label=\"True posterior\")\n",
    "\n",
    "# quadratic approximation\n",
    "plt.plot(x, stats.norm.pdf(x, mean_q[\"p\"], std_q), label=\"Quadratic approximation\")\n",
    "plt.legend(loc=0)\n",
    "\n",
    "plt.title(f\"n = {n}\")\n",
    "plt.xlabel(\"Proportion water\");"
   ]
  },
  {
   "cell_type": "code",
   "execution_count": null,
   "id": "f34e4b16",
   "metadata": {},
   "outputs": [],
   "source": [
    "# Figure 2.8\n",
    "x = np.linspace(0, 1, 100)\n",
    "w, n = [6, 12, 24], [9, 18, 36]\n",
    "\n",
    "fig, ax = plt.subplots(1,3, figsize=(21,7))\n",
    "\n",
    "for idx, ps in enumerate(zip(w,n)):\n",
    "    data = np.repeat((0, 1), (ps[1]-ps[0], ps[0]))\n",
    "    with pm.Model() as normal_aproximation:\n",
    "        p = pm.Uniform(\"p\", 0, 1)  # uniform priors\n",
    "        w = pm.Binomial(\"w\", n=len(data), p=p, observed=data.sum())  # binomial likelihood\n",
    "        mean_q = pm.find_MAP()\n",
    "        std_q = ((1 / pm.find_hessian(mean_q, vars=[p])) ** 0.5)[0]\n",
    "    \n",
    "    \n",
    "    ax[idx].plot(x, stats.beta.pdf(x, ps[0] + 1, ps[1] - ps[0] + 1), label=\"True posterior\")\n",
    "    ax[idx].plot(x, stats.norm.pdf(x, mean_q[\"p\"], std_q), label=\"Quadratic approximation\")\n",
    "    ax[idx].set_xlabel(\"probability of water\")\n",
    "    ax[idx].set_ylabel(\"density\")\n",
    "    ax[idx].set_title(r\"$n={}$\".format(ps[1]))\n",
    "    ax[idx].legend(loc='upper left')"
   ]
  },
  {
   "cell_type": "markdown",
   "id": "c300ced1",
   "metadata": {},
   "source": [
    "#### Code 2.8"
   ]
  },
  {
   "cell_type": "code",
   "execution_count": null,
   "id": "a5aa382d",
   "metadata": {},
   "outputs": [],
   "source": [
    "n_samples = 1000\n",
    "p = np.zeros(n_samples)\n",
    "p[0] = 0.5\n",
    "W = 6\n",
    "L = 3\n",
    "for i in range(1, n_samples):\n",
    "    p_new = stats.norm(p[i - 1], 0.1).rvs(1)\n",
    "    if p_new < 0:\n",
    "        p_new = -p_new\n",
    "    if p_new > 1:\n",
    "        p_new = 2 - p_new\n",
    "    q0 = stats.binom.pmf(W, n=W + L, p=p[i - 1])\n",
    "    q1 = stats.binom.pmf(W, n=W + L, p=p_new)\n",
    "    if stats.uniform.rvs(0, 1) < q1 / q0:\n",
    "        p[i] = p_new\n",
    "    else:\n",
    "        p[i] = p[i - 1]"
   ]
  },
  {
   "cell_type": "code",
   "execution_count": null,
   "id": "b358e10b",
   "metadata": {},
   "outputs": [],
   "source": [
    "az.plot_kde(p, label=\"Metropolis approximation\")\n",
    "x = np.linspace(0, 1, 100)\n",
    "plt.plot(x, stats.beta.pdf(x, W + 1, L + 1), \"C1\", label=\"True posterior\")\n",
    "plt.legend();"
   ]
  },
  {
   "cell_type": "code",
   "execution_count": null,
   "id": "ade54393",
   "metadata": {},
   "outputs": [],
   "source": [
    "%watermark -n -u -v -iv -w"
   ]
  }
 ],
 "metadata": {},
 "nbformat": 4,
 "nbformat_minor": 5
}
