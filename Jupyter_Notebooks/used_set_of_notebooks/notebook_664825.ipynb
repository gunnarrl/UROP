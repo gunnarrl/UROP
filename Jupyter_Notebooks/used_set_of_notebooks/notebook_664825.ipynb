{
 "cells": [
  {
   "cell_type": "markdown",
   "id": "c293a970",
   "metadata": {},
   "source": [
    "This notebook demonstrates the use of Anomalous Resource Access model in Sentinel.  It generates training and testing data, trains the Anomalous Resource Access model and uses it to score the test data.  The top predicted scores are submitted to Sentinel workspace.\n",
    "\n",
    "Steps:\n",
    "   0. One-time: Install the following packages on the cluster (refer: https://docs.databricks.com/libraries.html#install-a-library-on-a-cluster)\n",
    "        - sentinel_ai....whl package\n",
    "        - azure_sentinel_ml_utilities whl package\n",
    "        - scikit-surprise==1.0.6 (from PyPi)\n",
    "        - numpy==1.15.0 (from PyPi)\n",
    "        - pyarrow==0.12.0 (from PyPi)\n",
    "        - plotly (from PyPi)\n",
    "        \n",
    "   1. One-time: Set credentials in KeyVault so the notebook can access \n",
    "        - Log Analytics\n",
    "\n",
    " Storing and retrieving secrets: \n",
    "    - Using Azure KeyVault:- https://docs.azuredatabricks.net/security/secrets/secret-scopes.html"
   ]
  },
  {
   "cell_type": "markdown",
   "id": "cb7a9141",
   "metadata": {},
   "source": [
    "# Initialization"
   ]
  },
  {
   "cell_type": "code",
   "execution_count": null,
   "id": "2c873ca5",
   "metadata": {},
   "outputs": [],
   "source": [
    "# Specify the Log Analytics (LA) WorkSpaceId (of your Sentinel instance).  The workspacekey should be kept in the KeyVault as the best security practice\n",
    "\n",
    "# Log Analytics WorkSpace Info found in the 'Advanced Settings' page of your LA workspace\n",
    "workspace_id = 'YOUR LOG ANALYTICS WORKSPACE ID HERE'\n",
    "\n",
    "# For the shared key, use either the primary or the secondary key of the workspace. It is recommended that you store and get your key as a secret\n",
    "workspace_shared_key = dbutils.secrets.get(scope = 'NAME HERE', key = 'KEY NAME HERE')"
   ]
  },
  {
   "cell_type": "code",
   "execution_count": null,
   "id": "aff7f30c",
   "metadata": {},
   "outputs": [],
   "source": [
    "import numpy as np\n",
    "import pandas as pd\n",
    "\n",
    "from pyspark.sql import functions as f, types as t\n",
    "from pyspark.sql.window import *\n",
    "\n",
    "# ML\n",
    "from sentinel_ai.peer_anomaly import spark_collaborative_filtering as scf \n",
    "\n",
    "# spark\n",
    "from sentinel_ai.utils import sparkutils\n",
    "\n",
    "#utils\n",
    "from azure_sentinel_ml_utilities.log_analytics import log_analytics_client"
   ]
  },
  {
   "cell_type": "code",
   "execution_count": null,
   "id": "b16fccf7",
   "metadata": {},
   "outputs": [],
   "source": [
    "# The following module generates random training and testing data sets. Two test data sets are generated, one with low anomaly and the other with high anomaly compared to the training\n",
    "# data. Note that the data generated has a 'score' field that is a seed value for training. When working with real data, you will have a timestamp that you will need to use to\n",
    "# calculate a score based on the aggregation of access over a time interval (hourly or daily).\n",
    "train, test_high_anomaly, test_low_anomaly = scf.ProfileAccessDataset.gen_large_cluster_data(\n",
    "                                                                                    25,\n",
    "                                                                                    100,\n",
    "                                                                                    10\n",
    "                                                                                )\n",
    "\n",
    "dataSchema = t.StructType([\n",
    "            t.StructField('orgUser', t.StringType()),\n",
    "            t.StructField('orgRes', t.StringType()),\n",
    "            t.StructField('score', t.FloatType())\n",
    "        ])\n",
    "\n",
    "tmp_train_df = spark.createDataFrame(train, schema=dataSchema)\n",
    "tmp_test_high_anomaly_df = spark.createDataFrame(test_high_anomaly, schema=dataSchema)\n",
    "tmp_test_low_anomaly_df = spark.createDataFrame(test_low_anomaly, schema=dataSchema)"
   ]
  },
  {
   "cell_type": "code",
   "execution_count": null,
   "id": "e66bc20e",
   "metadata": {},
   "outputs": [],
   "source": [
    "# This module does 3 things:\n",
    "#  a) Makes the values of users and resources look more readable (that just numbers)\n",
    "#  b) Gives a default tenant ID of 0\n",
    "#  c) Adds a count for number of access (for displaying the graph)\n",
    "def updateValues(df, use_random_count):\n",
    "  tmp_df = df.withColumn('user', f.concat(f.lit('user_'), f.col(\"orgUser\")))\n",
    "  tmp_df = tmp_df.withColumn('res', f.concat(f.lit('res_'), f.col(\"orgRes\"))).select(f.lit('0').alias('tid'), 'user', 'res', 'score')\n",
    "  if use_random_count:\n",
    "     return tmp_df.withColumn('count_', f.round(1+f.rand()*10))\n",
    "  else:\n",
    "     return tmp_df.withColumn('count_', f.lit(1))\n",
    "\n",
    "\n",
    "train_df = updateValues(tmp_train_df, True)\n",
    "test_high_anomaly_df = updateValues(tmp_test_high_anomaly_df, False)\n",
    "test_low_anomaly_df = updateValues(tmp_test_low_anomaly_df, False)"
   ]
  },
  {
   "cell_type": "code",
   "execution_count": null,
   "id": "3f566f5e",
   "metadata": {},
   "outputs": [],
   "source": [
    "display(train_df)"
   ]
  },
  {
   "cell_type": "code",
   "execution_count": null,
   "id": "c1366304",
   "metadata": {},
   "outputs": [],
   "source": [
    "# Stats of each dataframes\n",
    "counts = train_df.agg(*(f.countDistinct(f.col(c)).alias(c) for c in train_df.columns))\n",
    "counts.show()\n",
    "\n",
    "counts = test_high_anomaly_df.agg(*(f.countDistinct(f.col(c)).alias(c) for c in test_high_anomaly_df.columns))\n",
    "counts.show()\n",
    "\n",
    "counts = test_low_anomaly_df.agg(*(f.countDistinct(f.col(c)).alias(c) for c in test_low_anomaly_df.columns))\n",
    "counts.show()"
   ]
  },
  {
   "cell_type": "markdown",
   "id": "22bf2943",
   "metadata": {},
   "source": [
    "# Meta params"
   ]
  },
  {
   "cell_type": "code",
   "execution_count": null,
   "id": "de988530",
   "metadata": {},
   "outputs": [],
   "source": [
    "train_df.describe().show()"
   ]
  },
  {
   "cell_type": "markdown",
   "id": "e2cced47",
   "metadata": {},
   "source": [
    "# Training"
   ]
  },
  {
   "cell_type": "code",
   "execution_count": null,
   "id": "275f15b8",
   "metadata": {},
   "outputs": [],
   "source": [
    "access_anomaly = scf.AccessAnomaly(tenant_colname='tid', score_colname='score')\n",
    "access_anomaly_model = access_anomaly.fit(train_df)"
   ]
  },
  {
   "cell_type": "markdown",
   "id": "bd941da3",
   "metadata": {},
   "source": [
    "# Testing"
   ]
  },
  {
   "cell_type": "code",
   "execution_count": null,
   "id": "6ec18868",
   "metadata": {},
   "outputs": [],
   "source": [
    "# Score the high anomaly test dataset\n",
    "pred_df = access_anomaly_model.transform(test_high_anomaly_df)"
   ]
  },
  {
   "cell_type": "code",
   "execution_count": null,
   "id": "24824519",
   "metadata": {},
   "outputs": [],
   "source": [
    "pred_df.first()"
   ]
  },
  {
   "cell_type": "code",
   "execution_count": null,
   "id": "6902c816",
   "metadata": {},
   "outputs": [],
   "source": [
    "pred_df.select('score', 'predicted_score').describe().show()"
   ]
  },
  {
   "cell_type": "markdown",
   "id": "9af2a609",
   "metadata": {},
   "source": [
    "### Report results"
   ]
  },
  {
   "cell_type": "code",
   "execution_count": null,
   "id": "5f7f4698",
   "metadata": {},
   "outputs": [],
   "source": [
    "full_res_df = pred_df.orderBy(f.desc('predicted_score')).cache()"
   ]
  },
  {
   "cell_type": "code",
   "execution_count": null,
   "id": "bb427b76",
   "metadata": {},
   "outputs": [],
   "source": [
    "display(full_res_df)"
   ]
  },
  {
   "cell_type": "markdown",
   "id": "c57635a6",
   "metadata": {},
   "source": [
    "#Rank anomalous users"
   ]
  },
  {
   "cell_type": "code",
   "execution_count": null,
   "id": "3bd1bbb6",
   "metadata": {},
   "outputs": [],
   "source": [
    "#\n",
    "# Select a subset of results to send to Log Analytics\n",
    "#\n",
    "from pyspark.sql.window import Window\n",
    "\n",
    "w = Window.partitionBy(\n",
    "                  'tid',\n",
    "                  'res',\n",
    "                  'user'\n",
    "                ).orderBy(\n",
    "                  f.desc('predicted_score')\n",
    "                )\n",
    "\n",
    "# select values above threshold\n",
    "results_above_threshold = full_res_df.filter(full_res_df.predicted_score > 1.0)\n",
    "\n",
    "# get distinct resource/user and corresponding timestamp and highest score\n",
    "results_to_la = results_above_threshold.withColumn(\n",
    "                  'index', f.row_number().over(w)\n",
    "                  ).orderBy(\n",
    "                    f.desc('predicted_score')\n",
    "                  ).select(\n",
    "                    'tid',\n",
    "                    f.col('res').alias('Resource'),\n",
    "                    f.col('user').alias('Actor'),\n",
    "                    'predicted_score'\n",
    "                  ).where(\n",
    "                    'index == 1'\n",
    "                  ).limit(100)\n",
    "  \n",
    "display(results_to_la)"
   ]
  },
  {
   "cell_type": "code",
   "execution_count": null,
   "id": "78358a25",
   "metadata": {},
   "outputs": [],
   "source": [
    "def print_ratio(df, thr):\n",
    "    print('ratio of above {0} items {1}/{2} = {3}%'.format(\n",
    "        thr,\n",
    "        df.filter(f.col('predicted_score') > thr).count(),\n",
    "        df.count(),\n",
    "        100.0*df.filter(f.col('predicted_score') > thr).count()/df.count()\n",
    "    ))\n",
    "    \n",
    "print_ratio(full_res_df, 0)\n",
    "print_ratio(full_res_df, 1.0)\n",
    "print_ratio(full_res_df, 2.0)\n",
    "print_ratio(full_res_df, 3.0)"
   ]
  },
  {
   "cell_type": "markdown",
   "id": "a6e5665a",
   "metadata": {},
   "source": [
    "#Display all resource accesses by users with highest anomalous score"
   ]
  },
  {
   "cell_type": "code",
   "execution_count": null,
   "id": "225a83e9",
   "metadata": {},
   "outputs": [],
   "source": [
    "from plotly import __version__\n",
    "from plotly.offline import download_plotlyjs, init_notebook_mode, plot, iplot, offline\n",
    "print (__version__) # requires version >= 1.9.0\n",
    "\n",
    "# run plotly in offline mode\n",
    "offline.init_notebook_mode()"
   ]
  },
  {
   "cell_type": "code",
   "execution_count": null,
   "id": "0fdedcdb",
   "metadata": {},
   "outputs": [],
   "source": [
    "#Find all server accesses of users with high predicted scores\n",
    "# For display, limit to top 25 results\n",
    "results_to_display = results_to_la.orderBy(\n",
    "                  f.desc('predicted_score')\n",
    "                ).limit(25)\n",
    "interesting_users = train_df.join(results_to_display, f.col('user') == f.col('Actor'), \"inner\")\n",
    "resource_accesses_in_train = interesting_users.groupBy(\n",
    "                          'user', \n",
    "                          'res'\n",
    "                        ).agg(\n",
    "                          f.sum('count_').alias('count'),\n",
    "                        ).select(\n",
    "                          f.col('user'),\n",
    "                          f.col('res'),\n",
    "                          'count'\n",
    "                        )\n",
    "\n",
    "# pick top 5 resource accessed per user\n",
    "w = Window.partitionBy(\n",
    "                  'user'\n",
    "                ).orderBy(\n",
    "                  f.desc('count')\n",
    "                )\n",
    "\n",
    "# get distinct resource/user and corresponding timestamp and highest score\n",
    "top_resource_accesses_in_train = resource_accesses_in_train.withColumn(\n",
    "                  'index', f.row_number().over(w)\n",
    "                  ).orderBy(\n",
    "                    f.desc('count')\n",
    "                  ).select(\n",
    "                    f.col('user').alias('Actor'),\n",
    "                    f.col('res').alias('Resource'),\n",
    "                    'count'\n",
    "                  ).where(\n",
    "                    f.col('index').isin([1,2,3,4,5])\n",
    "                  ).limit(100)\n",
    "\n",
    "# add the resource access with high score\n",
    "all_resource_access_df = top_resource_accesses_in_train.union(test_high_anomaly_df.select(f.col('user').alias('Actor'), f.col('res').alias('Resource'), f.col('count_').alias('count')))\n",
    "\n",
    "# get unique users and file shares\n",
    "high_scores_df = all_resource_access_df.toPandas()\n",
    "unique_arr = np.append(high_scores_df.Actor.unique(), high_scores_df.Resource.unique())\n",
    "\n",
    "unique_df = pd.DataFrame(data = unique_arr, columns = ['name'])\n",
    "unique_df['index'] = range(0, len(unique_df.index))\n",
    "\n",
    "# create index for source & target and color for the normal accesses\n",
    "normal_line_color = 'rgba(211, 211, 211, 0.8)'\n",
    "anomolous_color = 'red'\n",
    "x = pd.merge(high_scores_df, unique_df, how='left', left_on='Actor', right_on='name').drop(['name'], axis=1).rename(columns={'index' : 'ActorIndex'})\n",
    "all_access_index_df = pd.merge(x, unique_df, how='left', left_on='Resource', right_on='name').drop(['name'], axis=1).rename(columns={'index' : 'ResourceIndex'})\n",
    "all_access_index_df['color'] = normal_line_color\n",
    "\n",
    "# results_to_display index, color and \n",
    "y = results_to_display.toPandas().drop(['tid', 'predicted_score'], axis=1)\n",
    "y = pd.merge(y, unique_df, how='left', left_on='Actor', right_on='name').drop(['name'], axis=1).rename(columns={'index' : 'ActorIndex'})\n",
    "high_scores_index_df = pd.merge(y, unique_df, how='left', left_on='Resource', right_on='name').drop(['name'], axis=1).rename(columns={'index' : 'ResourceIndex'})\n",
    "high_scores_index_df['count'] = 1\n",
    "high_scores_index_df['color'] = anomolous_color\n",
    "\n",
    "# combine the two tables\n",
    "frames = [all_access_index_df, high_scores_index_df]\n",
    "display_df = pd.concat(frames)\n",
    "# display_df.head()"
   ]
  },
  {
   "cell_type": "code",
   "execution_count": null,
   "id": "40922213",
   "metadata": {},
   "outputs": [],
   "source": [
    "results_to_la.count()"
   ]
  },
  {
   "cell_type": "code",
   "execution_count": null,
   "id": "b5690369",
   "metadata": {},
   "outputs": [],
   "source": [
    "data_trace = dict(\n",
    "    type='sankey',\n",
    "    domain = dict(\n",
    "      x =  [0,1],\n",
    "      y =  [0,1]\n",
    "    ),\n",
    "    orientation = \"h\",\n",
    "    valueformat = \".0f\",\n",
    "    node = dict(\n",
    "      pad = 10,\n",
    "      thickness = 30,\n",
    "      line = dict(\n",
    "        color = \"black\",\n",
    "        width = 0\n",
    "      ),\n",
    "      label = unique_df['name'].dropna(axis=0, how='any')\n",
    "    ),\n",
    "    link = dict(\n",
    "      source = display_df['ActorIndex'].dropna(axis=0, how='any'),\n",
    "      target = display_df['ResourceIndex'].dropna(axis=0, how='any'),\n",
    "      value = display_df['count'].dropna(axis=0, how='any'),\n",
    "      color = display_df['color'].dropna(axis=0, how='any'),\n",
    "  )\n",
    ")\n",
    "\n",
    "layout =  dict(\n",
    "    title = \"All resources accessed by users with highest anomalous scores\",\n",
    "    height = 772,\n",
    "    font = dict(\n",
    "      size = 10\n",
    "    ),    \n",
    ")\n",
    "\n",
    "fig = dict(data=[data_trace], layout=layout)\n",
    "\n",
    "p = plot(fig, output_type='div')\n",
    "\n",
    "displayHTML(p)"
   ]
  },
  {
   "cell_type": "code",
   "execution_count": null,
   "id": "118022bc",
   "metadata": {},
   "outputs": [],
   "source": [
    "def send_results_to_log_analytics(df_to_la):\n",
    "  # The log type is the name of the event that is being submitted.  This will show up under \"Custom Logs\" as log_type + '_CL'\n",
    "  log_type = 'AnomalousResourceAccessResult'\n",
    "\n",
    "  # concatenate columns to form one json record\n",
    "  json_records = df_to_la.withColumn('json_field', f.concat(f.lit('{'), \n",
    "                                            f.lit(' \\\"TimeStamp\\\": \\\"2019-11-01 12:00:00'), f.lit('\\\",'),\n",
    "                                            f.lit(' \\\"Actor\\\": \\\"'), f.col('Actor'), f.lit('\\\",'),\n",
    "                                            f.lit(' \\\"Resource\\\": \\\"'), f.col('Resource'), f.lit('\\\",'),\n",
    "                                            f.lit(' \\\"PredictedScore\\\":'), f.col('predicted_score'),\n",
    "                                            f.lit('}')\n",
    "                                           )                       \n",
    "                                         )\n",
    "  # combine json record column to create the array\n",
    "  json_body = json_records.agg(f.concat_ws(\", \", f.collect_list('json_field')).alias('body'))\n",
    "\n",
    "  if len(json_body.first()) > 0:\n",
    "    json_payload = json_body.first()['body']\n",
    "    json_payload = '[' + json_payload + ']'\n",
    "\n",
    "    payload = json_payload.encode('utf-8') #json.dumps(json_payload)\n",
    "    #print(payload)\n",
    "    return log_analytics_client(workspace_id, workspace_shared_key).post_data(payload, log_type)\n",
    "  else:\n",
    "    return \"No json data to send to LA\"\n",
    "\n",
    "count = results_to_la.count()\n",
    "if count > 0:\n",
    "  print ('Results count = ', count)\n",
    "  result = send_results_to_log_analytics(results_to_la)\n",
    "  print(\"Writing to Log Analytics result: \", result)\n",
    "else:\n",
    "  print ('No results to send to LA')"
   ]
  }
 ],
 "metadata": {},
 "nbformat": 4,
 "nbformat_minor": 5
}
