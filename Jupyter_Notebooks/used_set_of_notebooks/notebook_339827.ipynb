{
 "cells": [
  {
   "cell_type": "code",
   "execution_count": null,
   "id": "9f93d28c",
   "metadata": {},
   "outputs": [],
   "source": [
    "import pandas as pd\n",
    "import numpy as np\n",
    "from sklearn.decomposition import PCA as pca\n",
    "from sklearn.preprocessing import StandardScaler as stscale\n",
    "#import scipy.stats as stats\n",
    "from scipy import stats, linalg\n",
    "\n",
    "import diff_classifier.aws as aws"
   ]
  },
  {
   "cell_type": "markdown",
   "id": "248cf0c4",
   "metadata": {},
   "source": [
    "# Importing and Scaling Data"
   ]
  },
  {
   "cell_type": "code",
   "execution_count": null,
   "id": "3eab8a31",
   "metadata": {},
   "outputs": [],
   "source": [
    "filename = 'ferret_stats.csv'\n",
    "folder = 'ferret_tracking'\n",
    "#aws.download_s3('{}/{}'.format(folder, filename), filename, bucket_name='ccurtis.data')"
   ]
  },
  {
   "cell_type": "code",
   "execution_count": null,
   "id": "bce14287",
   "metadata": {},
   "outputs": [],
   "source": [
    "fstats = pd.read_csv(filename, index_col='Unnamed: 0')\n",
    "fstats_raw = fstats.drop('run', axis=1).as_matrix()"
   ]
  },
  {
   "cell_type": "code",
   "execution_count": null,
   "id": "48b93407",
   "metadata": {},
   "outputs": [],
   "source": [
    "scaler = stscale()\n",
    "scaler.fit(fstats_raw)\n",
    "fstats_scaled = scaler.transform(fstats_raw)"
   ]
  },
  {
   "cell_type": "code",
   "execution_count": null,
   "id": "cf69d162",
   "metadata": {},
   "outputs": [],
   "source": [
    "fstats_scaled.shape"
   ]
  },
  {
   "cell_type": "markdown",
   "id": "4629fd28",
   "metadata": {},
   "source": [
    "# Bartlett Test"
   ]
  },
  {
   "cell_type": "code",
   "execution_count": null,
   "id": "9cab6559",
   "metadata": {},
   "outputs": [],
   "source": [
    "fstats_list = []\n",
    "for num in range(0, fstats_scaled.shape[0]):\n",
    "    fstats_list.append(fstats_scaled[num, :])\n",
    "    \n",
    "stats.bartlett(*fstats_list)"
   ]
  },
  {
   "cell_type": "markdown",
   "id": "a53e0eb5",
   "metadata": {},
   "source": [
    "We accept the null hypothesis that all input samples are from populations with equal variances."
   ]
  },
  {
   "cell_type": "markdown",
   "id": "1e97c08b",
   "metadata": {},
   "source": [
    "# Kaiser-Meyer-Olkin (KMO) Measure"
   ]
  },
  {
   "cell_type": "markdown",
   "id": "8c265eda",
   "metadata": {},
   "source": [
    "* 0.00 to 0.49 unacceptable.\n",
    "* 0.50 to 0.59 miserable.\n",
    "* 0.60 to 0.69 mediocre.\n",
    "* 0.70 to 0.79 middling.\n",
    "* 0.80 to 0.89 meritorious.\n",
    "* 0.90 to 1.00 marvelous."
   ]
  },
  {
   "cell_type": "code",
   "execution_count": null,
   "id": "b0025e86",
   "metadata": {},
   "outputs": [],
   "source": [
    "#Correlation matrix and the partial covariance matrix.\n",
    "corrmatrix = np.corrcoef(fstats_scaled.transpose())\n",
    "pcorr = partial_corr(fstats_scaled)\n",
    "\n",
    "#Calculation of the KMO statistic\n",
    "matrix = corrmatrix*corrmatrix\n",
    "rows = matrix.shape[0]\n",
    "cols = matrix.shape[1]\n",
    "rij = 0\n",
    "uij = 0\n",
    "for row in range(0, rows):\n",
    "    for col in range(0, cols):\n",
    "        if not row == col:\n",
    "            rij = rij + matrix[row, col]\n",
    "            uij = uij + pcorr[row, col]\n",
    "\n",
    "mo = rij/(rij+uij)\n",
    "print(mo)"
   ]
  },
  {
   "cell_type": "markdown",
   "id": "e04cbc71",
   "metadata": {},
   "source": [
    "We got middling results with our sampling. Will proceed regardless."
   ]
  },
  {
   "cell_type": "markdown",
   "id": "689947e1",
   "metadata": {},
   "source": [
    "# PCA Analysis"
   ]
  },
  {
   "cell_type": "code",
   "execution_count": null,
   "id": "2039ed18",
   "metadata": {},
   "outputs": [],
   "source": [
    "# pca1 = pca(n_components=5)\n",
    "# pca1.fit(fstats_raw)\n",
    "\n",
    "# print(pca1.explained_variance_ratio_) \n",
    "# print(pca1.singular_values_)  "
   ]
  },
  {
   "cell_type": "code",
   "execution_count": null,
   "id": "a0c6c3f5",
   "metadata": {},
   "outputs": [],
   "source": [
    "pca1 = pca(n_components=5)\n",
    "pca1.fit(fstats_scaled)\n",
    "\n",
    "print('Largest eigenvalues of covariance matrix: {}'.format(pca1.explained_variance_))\n",
    "print('Percent explained variance: {}'.format(pca1.explained_variance_ratio_)) \n",
    "#print(pca1.singular_values_)  "
   ]
  },
  {
   "cell_type": "markdown",
   "id": "85d19001",
   "metadata": {},
   "source": [
    "We picked components that met the following criteria:\n",
    "\n",
    "* Eigenvalues greater than 1\n",
    "* Percent explained variance cutoff of 80%\n",
    "\n",
    "This gave the first three components."
   ]
  },
  {
   "cell_type": "code",
   "execution_count": null,
   "id": "a4d9523d",
   "metadata": {},
   "outputs": [],
   "source": [
    "comps = pca1.components_\n",
    "pd.DataFrame(comps.transpose())"
   ]
  },
  {
   "cell_type": "code",
   "execution_count": null,
   "id": "4ccba55e",
   "metadata": {},
   "outputs": [],
   "source": [
    "pd.DataFrame(pca1.transform(fstats_scaled))"
   ]
  },
  {
   "cell_type": "code",
   "execution_count": null,
   "id": "044c42d8",
   "metadata": {},
   "outputs": [],
   "source": [
    "fstats"
   ]
  },
  {
   "cell_type": "code",
   "execution_count": null,
   "id": "99e513cc",
   "metadata": {},
   "outputs": [],
   "source": [
    "def partial_corr(C):\n",
    "    \"\"\"\n",
    "    Returns the sample linear partial correlation coefficients between pairs of variables in C, controlling \n",
    "    for the remaining variables in C.\n",
    "\n",
    "    Partial Correlation in Python (clone of Matlab's partialcorr)\n",
    "\n",
    "    This uses the linear regression approach to compute the partial \n",
    "    correlation (might be slow for a huge number of variables). The \n",
    "    algorithm is detailed here:\n",
    "\n",
    "        http://en.wikipedia.org/wiki/Partial_correlation#Using_linear_regression\n",
    "\n",
    "    Taking X and Y two variables of interest and Z the matrix with all the variable minus {X, Y},\n",
    "    the algorithm can be summarized as\n",
    "\n",
    "        1) perform a normal linear least-squares regression with X as the target and Z as the predictor\n",
    "        2) calculate the residuals in Step #1\n",
    "        3) perform a normal linear least-squares regression with Y as the target and Z as the predictor\n",
    "        4) calculate the residuals in Step #3\n",
    "        5) calculate the correlation coefficient between the residuals from Steps #2 and #4; \n",
    "\n",
    "        The result is the partial correlation between X and Y while controlling for the effect of Z\n",
    "\n",
    "\n",
    "    Date: Nov 2014\n",
    "    Author: Fabian Pedregosa-Izquierdo, f@bianp.net\n",
    "    Testing: Valentina Borghesani, valentinaborghesani@gmail.com\n",
    "\n",
    "    Parameters\n",
    "    ----------\n",
    "    C : array-like, shape (n, p)\n",
    "        Array with the different variables. Each column of C is taken as a variable\n",
    "\n",
    "\n",
    "    Returns\n",
    "    -------\n",
    "    P : array-like, shape (p, p)\n",
    "        P[i, j] contains the partial correlation of C[:, i] and C[:, j] controlling\n",
    "        for the remaining variables in C.\n",
    "    \"\"\"\n",
    "    \n",
    "    C = np.asarray(C)\n",
    "    p = C.shape[1]\n",
    "    P_corr = np.zeros((p, p), dtype=np.float)\n",
    "    for i in range(p):\n",
    "        P_corr[i, i] = 1\n",
    "        for j in range(i+1, p):\n",
    "            idx = np.ones(p, dtype=np.bool)\n",
    "            idx[i] = False\n",
    "            idx[j] = False\n",
    "            beta_i = linalg.lstsq(C[:, idx], C[:, j])[0]\n",
    "            beta_j = linalg.lstsq(C[:, idx], C[:, i])[0]\n",
    "\n",
    "            res_j = C[:, j] - C[:, idx].dot( beta_i)\n",
    "            res_i = C[:, i] - C[:, idx].dot(beta_j)\n",
    "            \n",
    "            corr = stats.pearsonr(res_i, res_j)[0]\n",
    "            P_corr[i, j] = corr\n",
    "            P_corr[j, i] = corr\n",
    "        \n",
    "    return P_corr"
   ]
  }
 ],
 "metadata": {},
 "nbformat": 4,
 "nbformat_minor": 5
}
