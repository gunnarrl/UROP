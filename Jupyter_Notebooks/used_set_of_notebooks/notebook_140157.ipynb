{
 "cells": [
  {
   "cell_type": "markdown",
   "id": "980c74bd",
   "metadata": {},
   "source": [
    "# Convert TFLite model to PyTorch\n",
    "\n",
    "This uses the model **face_detection_front.tflite** from [MediaPipe](https://github.com/google/mediapipe/tree/master/mediapipe/models).\n",
    "\n",
    "Prerequisites:\n",
    "\n",
    "1) Clone the MediaPipe repo:\n",
    "\n",
    "```\n",
    "git clone https://github.com/google/mediapipe.git\n",
    "```\n",
    "\n",
    "2) Install **flatbuffers**:\n",
    "\n",
    "```\n",
    "git clone https://github.com/google/flatbuffers.git\n",
    "cmake -G \"Unix Makefiles\" -DCMAKE_BUILD_TYPE=Release\n",
    "make -j\n",
    "\n",
    "cd flatbuffers/python\n",
    "python setup.py install\n",
    "```\n",
    "\n",
    "3) Clone the TensorFlow repo. We only need this to get the FlatBuffers schema files (I guess you could just download [schema.fbs](https://github.com/tensorflow/tensorflow/blob/master/tensorflow/lite/schema/schema.fbs)).\n",
    "\n",
    "```\n",
    "git clone https://github.com/tensorflow/tensorflow.git\n",
    "```\n",
    "\n",
    "4) Convert the schema files to Python files using **flatc**:\n",
    "\n",
    "```\n",
    "./flatbuffers/flatc --python tensorflow/tensorflow/lite/schema/schema.fbs\n",
    "```\n",
    "\n",
    "Now we can use the Python FlatBuffer API to read the TFLite file!"
   ]
  },
  {
   "cell_type": "code",
   "execution_count": null,
   "id": "a6d784e1",
   "metadata": {},
   "outputs": [],
   "source": [
    "import os\n",
    "import numpy as np\n",
    "from collections import OrderedDict"
   ]
  },
  {
   "cell_type": "markdown",
   "id": "f7268658",
   "metadata": {},
   "source": [
    "## Get the weights from the TFLite file"
   ]
  },
  {
   "cell_type": "markdown",
   "id": "9a4a9f27",
   "metadata": {},
   "source": [
    "Load the TFLite model using the FlatBuffers library:"
   ]
  },
  {
   "cell_type": "code",
   "execution_count": null,
   "id": "aae90a89",
   "metadata": {},
   "outputs": [],
   "source": [
    "from tflite import Model\n",
    "\n",
    "data = open(\"./mediapipe/mediapipe/models/face_detection_front.tflite\", \"rb\").read()\n",
    "model = Model.Model.GetRootAsModel(data, 0)"
   ]
  },
  {
   "cell_type": "code",
   "execution_count": null,
   "id": "7bb86814",
   "metadata": {},
   "outputs": [],
   "source": [
    "subgraph = model.Subgraphs(0)\n",
    "subgraph.Name()"
   ]
  },
  {
   "cell_type": "code",
   "execution_count": null,
   "id": "4fafe0a8",
   "metadata": {},
   "outputs": [],
   "source": [
    "def get_shape(tensor):\n",
    "    return [tensor.Shape(i) for i in range(tensor.ShapeLength())]"
   ]
  },
  {
   "cell_type": "markdown",
   "id": "f18797f7",
   "metadata": {},
   "source": [
    "List all the tensors in the graph:"
   ]
  },
  {
   "cell_type": "code",
   "execution_count": null,
   "id": "c2ea628d",
   "metadata": {},
   "outputs": [],
   "source": [
    "for i in range(0, subgraph.TensorsLength()):\n",
    "    tensor = subgraph.Tensors(i)\n",
    "    print(\"%3d %30s %d %2d %s\" % (i, tensor.Name(), tensor.Type(), tensor.Buffer(), \n",
    "                                  get_shape(subgraph.Tensors(i))))"
   ]
  },
  {
   "cell_type": "markdown",
   "id": "80c4634a",
   "metadata": {},
   "source": [
    "Make a look-up table that lets us get the tensor index based on the tensor name:"
   ]
  },
  {
   "cell_type": "code",
   "execution_count": null,
   "id": "d96c0630",
   "metadata": {},
   "outputs": [],
   "source": [
    "tensor_dict = {(subgraph.Tensors(i).Name().decode(\"utf8\")): i \n",
    "               for i in range(subgraph.TensorsLength())}"
   ]
  },
  {
   "cell_type": "markdown",
   "id": "29d7c559",
   "metadata": {},
   "source": [
    "Grab only the tensors that represent weights and biases."
   ]
  },
  {
   "cell_type": "code",
   "execution_count": null,
   "id": "6cfb3f1c",
   "metadata": {},
   "outputs": [],
   "source": [
    "parameters = {}\n",
    "for i in range(subgraph.TensorsLength()):\n",
    "    tensor = subgraph.Tensors(i)\n",
    "    if tensor.Buffer() > 0:\n",
    "        name = tensor.Name().decode(\"utf8\")\n",
    "        parameters[name] = tensor.Buffer()\n",
    "\n",
    "len(parameters)"
   ]
  },
  {
   "cell_type": "markdown",
   "id": "430ef239",
   "metadata": {},
   "source": [
    "The buffers are simply arrays of bytes. As the docs say,\n",
    "\n",
    "> The data_buffer itself is an opaque container, with the assumption that the\n",
    "> target device is little-endian. In addition, all builtin operators assume\n",
    "> the memory is ordered such that if `shape` is [4, 3, 2], then index\n",
    "> [i, j, k] maps to `data_buffer[i*3*2 + j*2 + k]`.\n",
    "\n",
    "For weights and biases, we need to interpret every 4 bytes as being as float. On my machine, the native byte ordering is already little-endian so we don't need to do anything special for that."
   ]
  },
  {
   "cell_type": "code",
   "execution_count": null,
   "id": "ebfbf967",
   "metadata": {},
   "outputs": [],
   "source": [
    "def get_weights(tensor_name):\n",
    "    i = tensor_dict[tensor_name]\n",
    "    tensor = subgraph.Tensors(i)\n",
    "    buffer = tensor.Buffer()\n",
    "    shape = get_shape(tensor)\n",
    "    assert(tensor.Type() == 0)  # FLOAT32\n",
    "    \n",
    "    W = model.Buffers(buffer).DataAsNumpy()\n",
    "    W = W.view(dtype=np.float32)\n",
    "    W = W.reshape(shape)\n",
    "    return W"
   ]
  },
  {
   "cell_type": "code",
   "execution_count": null,
   "id": "65dc4d9c",
   "metadata": {},
   "outputs": [],
   "source": [
    "W = get_weights(\"conv2d/Kernel\")\n",
    "b = get_weights(\"conv2d/Bias\")\n",
    "W.shape, b.shape"
   ]
  },
  {
   "cell_type": "markdown",
   "id": "d7f7ae9b",
   "metadata": {},
   "source": [
    "Now we can get the weights for all the layers and copy them into our PyTorch model."
   ]
  },
  {
   "cell_type": "markdown",
   "id": "fd67c0c0",
   "metadata": {},
   "source": [
    "## Convert the weights to PyTorch format"
   ]
  },
  {
   "cell_type": "code",
   "execution_count": null,
   "id": "6e9425e9",
   "metadata": {},
   "outputs": [],
   "source": [
    "import torch\n",
    "from blazeface import BlazeFace"
   ]
  },
  {
   "cell_type": "code",
   "execution_count": null,
   "id": "562cbc73",
   "metadata": {},
   "outputs": [],
   "source": [
    "net = BlazeFace()"
   ]
  },
  {
   "cell_type": "code",
   "execution_count": null,
   "id": "d1f0f970",
   "metadata": {},
   "outputs": [],
   "source": [
    "net"
   ]
  },
  {
   "cell_type": "markdown",
   "id": "ce4efed4",
   "metadata": {},
   "source": [
    "Make a lookup table that maps the layer names between the two models. We're going to assume here that the tensors will be in the same order in both models. If not, we should get an error because shapes don't match."
   ]
  },
  {
   "cell_type": "code",
   "execution_count": null,
   "id": "e61c0ede",
   "metadata": {},
   "outputs": [],
   "source": [
    "probable_names = []\n",
    "for i in range(0, subgraph.TensorsLength()):\n",
    "    tensor = subgraph.Tensors(i)\n",
    "    if tensor.Buffer() > 0 and tensor.Type() == 0:\n",
    "        probable_names.append(tensor.Name().decode(\"utf-8\"))\n",
    "        \n",
    "probable_names[:5]"
   ]
  },
  {
   "cell_type": "code",
   "execution_count": null,
   "id": "ce9ee820",
   "metadata": {},
   "outputs": [],
   "source": [
    "convert = {}\n",
    "i = 0\n",
    "for name, params in net.state_dict().items():\n",
    "    convert[name] = probable_names[i]\n",
    "    i += 1"
   ]
  },
  {
   "cell_type": "markdown",
   "id": "87466c70",
   "metadata": {},
   "source": [
    "Copy the weights into the layers.\n",
    "\n",
    "Note that the ordering of the weights is different between PyTorch and TFLite, so we need to transpose them.\n",
    "\n",
    "Convolution weights:\n",
    "\n",
    "    TFLite:  (out_channels, kernel_height, kernel_width, in_channels)\n",
    "    PyTorch: (out_channels, in_channels, kernel_height, kernel_width)\n",
    "\n",
    "Depthwise convolution weights:\n",
    "\n",
    "    TFLite:  (1, kernel_height, kernel_width, channels)\n",
    "    PyTorch: (channels, 1, kernel_height, kernel_width)"
   ]
  },
  {
   "cell_type": "code",
   "execution_count": null,
   "id": "5ead83ca",
   "metadata": {},
   "outputs": [],
   "source": [
    "new_state_dict = OrderedDict()\n",
    "\n",
    "for dst, src in convert.items():\n",
    "    W = get_weights(src)\n",
    "    print(dst, src, W.shape, net.state_dict()[dst].shape)\n",
    "\n",
    "    if W.ndim == 4:\n",
    "        if W.shape[0] == 1:\n",
    "            W = W.transpose((3, 0, 1, 2))  # depthwise conv\n",
    "        else:\n",
    "            W = W.transpose((0, 3, 1, 2))  # regular conv\n",
    "    \n",
    "    new_state_dict[dst] = torch.from_numpy(W)"
   ]
  },
  {
   "cell_type": "code",
   "execution_count": null,
   "id": "e4345840",
   "metadata": {},
   "outputs": [],
   "source": [
    "net.load_state_dict(new_state_dict, strict=True)"
   ]
  },
  {
   "cell_type": "markdown",
   "id": "30b8ddca",
   "metadata": {},
   "source": [
    "No errors? Then the conversion was successful!"
   ]
  },
  {
   "cell_type": "markdown",
   "id": "9b22f0b9",
   "metadata": {},
   "source": [
    "## Save the checkpoint"
   ]
  },
  {
   "cell_type": "code",
   "execution_count": null,
   "id": "ca6b8d89",
   "metadata": {},
   "outputs": [],
   "source": [
    "torch.save(net.state_dict(), \"blazeface.pth\")"
   ]
  }
 ],
 "metadata": {},
 "nbformat": 4,
 "nbformat_minor": 5
}
