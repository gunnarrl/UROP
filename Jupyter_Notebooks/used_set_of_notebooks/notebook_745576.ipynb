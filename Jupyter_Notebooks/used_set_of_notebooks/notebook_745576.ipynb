{
 "cells": [
  {
   "cell_type": "markdown",
   "id": "36007e40",
   "metadata": {},
   "source": [
    "# Test Speeds from Rutgers Server vs Azure Blob"
   ]
  },
  {
   "cell_type": "markdown",
   "id": "b4bd5813",
   "metadata": {},
   "source": [
    "#### Build a list of frames to process using the dbcamhd.json database"
   ]
  },
  {
   "cell_type": "code",
   "execution_count": null,
   "id": "24507c0b",
   "metadata": {},
   "outputs": [],
   "source": [
    "import numpy as np\n",
    "import pandas as pd\n",
    "import pycamhd as camhd\n",
    "dbcamhd = pd.read_json('dbcamhd.json', orient='records', lines=True)\n",
    "dbcamhd.tail()"
   ]
  },
  {
   "cell_type": "code",
   "execution_count": null,
   "id": "dcc04ff9",
   "metadata": {},
   "outputs": [],
   "source": [
    "fileindex = 2064\n",
    "filename = dbcamhd.filename[fileindex]\n",
    "timestamp = dbcamhd.timestamp[fileindex]\n",
    "frame_count = dbcamhd.frame_count[fileindex]\n",
    "n_images = 4000\n",
    "frame_numbers = np.linspace(750,frame_count-6000, n_images, dtype=np.int64())\n",
    "filename"
   ]
  },
  {
   "cell_type": "markdown",
   "id": "cf8190f5",
   "metadata": {},
   "source": [
    "#### Create timestamps for frames"
   ]
  },
  {
   "cell_type": "code",
   "execution_count": null,
   "id": "a2bcccbc",
   "metadata": {},
   "outputs": [],
   "source": [
    "from datetime import datetime\n",
    "timestamps = []\n",
    "for i in range(len(frame_numbers)):\n",
    "    timestamps.append(datetime.fromtimestamp(dbcamhd.timestamp[fileindex] + frame_numbers[i]/29.95))\n",
    "timestamps[0:5]"
   ]
  },
  {
   "cell_type": "markdown",
   "id": "6644e352",
   "metadata": {},
   "source": [
    "#### Set up Rutgers Dask array and Xarray"
   ]
  },
  {
   "cell_type": "code",
   "execution_count": null,
   "id": "82c57596",
   "metadata": {},
   "outputs": [],
   "source": [
    "from dask import delayed\n",
    "import dask.array as da\n",
    "import xarray as xr"
   ]
  },
  {
   "cell_type": "code",
   "execution_count": null,
   "id": "0e614505",
   "metadata": {},
   "outputs": [],
   "source": [
    "delayed_frames = []\n",
    "moov_atom = camhd.get_moov_atom(filename)\n",
    "for frame_number in frame_numbers:\n",
    "    delayed_frames.append(da.from_delayed(\n",
    "                            delayed(camhd.get_frame)(filename, frame_number, 'rgb24', moov_atom),\n",
    "                            shape=(1080, 1920, 3), dtype=np.uint8)[None,:,:,:])\n",
    "delayed_frames[0]"
   ]
  },
  {
   "cell_type": "code",
   "execution_count": null,
   "id": "5d02c948",
   "metadata": {},
   "outputs": [],
   "source": [
    "ds_rutgers = xr.DataArray(da.concatenate(delayed_frames, axis=0), dims=['time', 'y', 'x', 'channel'],\n",
    "                  coords={'time': timestamps}\n",
    "                 ).to_dataset(name='video')\n",
    "ds_rutgers"
   ]
  },
  {
   "cell_type": "markdown",
   "id": "5646f04c",
   "metadata": {},
   "source": [
    "#### Start a Dask cluster"
   ]
  },
  {
   "cell_type": "code",
   "execution_count": null,
   "id": "01d93629",
   "metadata": {},
   "outputs": [],
   "source": [
    "from dask_kubernetes import KubeCluster\n",
    "cluster = KubeCluster(n_workers=32)\n",
    "cluster"
   ]
  },
  {
   "cell_type": "code",
   "execution_count": null,
   "id": "eb10af04",
   "metadata": {},
   "outputs": [],
   "source": [
    "from dask.distributed import Client\n",
    "client = Client(cluster)\n",
    "client"
   ]
  },
  {
   "cell_type": "markdown",
   "id": "7f3f8f02",
   "metadata": {},
   "source": [
    "#### Compute the time-average of all images using Rutgers server and plot"
   ]
  },
  {
   "cell_type": "code",
   "execution_count": null,
   "id": "2b524bdc",
   "metadata": {},
   "outputs": [],
   "source": [
    "%%time\n",
    "mean_image = ds_rutgers.video.mean(dim='time').load()"
   ]
  },
  {
   "cell_type": "code",
   "execution_count": null,
   "id": "1dc4d2a4",
   "metadata": {},
   "outputs": [],
   "source": [
    "mean_image.astype('i8').plot.imshow();"
   ]
  },
  {
   "cell_type": "markdown",
   "id": "d02fd745",
   "metadata": {},
   "source": [
    "#### Create a list of Azure blobs to process"
   ]
  },
  {
   "cell_type": "code",
   "execution_count": null,
   "id": "485dc8f6",
   "metadata": {},
   "outputs": [],
   "source": [
    "blob_urls = []\n",
    "for frame_number in frame_numbers:\n",
    "    blob_urls.append('https://camhd.blob.core.windows.net/prores/%i-%08.0f' % (timestamp, frame_number))\n",
    "blob_urls[0]"
   ]
  },
  {
   "cell_type": "markdown",
   "id": "644019d0",
   "metadata": {},
   "source": [
    "#### Get frame from Azure function"
   ]
  },
  {
   "cell_type": "code",
   "execution_count": null,
   "id": "43ba09ed",
   "metadata": {},
   "outputs": [],
   "source": [
    "import requests\n",
    "def azure_get_frame(blob_url):\n",
    "    blob = requests.get(blob_url)\n",
    "    return camhd.decode_frame_data(blob.content, 'rgb24')"
   ]
  },
  {
   "cell_type": "code",
   "execution_count": null,
   "id": "13894c74",
   "metadata": {},
   "outputs": [],
   "source": [
    "test = azure_get_frame(blob_urls[0])"
   ]
  },
  {
   "cell_type": "code",
   "execution_count": null,
   "id": "022ef797",
   "metadata": {},
   "outputs": [],
   "source": [
    "type(test)"
   ]
  },
  {
   "cell_type": "code",
   "execution_count": null,
   "id": "725e1272",
   "metadata": {},
   "outputs": [],
   "source": [
    "%matplotlib inline\n",
    "import matplotlib.pyplot as plt"
   ]
  },
  {
   "cell_type": "code",
   "execution_count": null,
   "id": "8156eb86",
   "metadata": {},
   "outputs": [],
   "source": [
    "plt.imshow(test)"
   ]
  },
  {
   "cell_type": "markdown",
   "id": "f26229cf",
   "metadata": {},
   "source": [
    "#### Set up Azure Dask array"
   ]
  },
  {
   "cell_type": "code",
   "execution_count": null,
   "id": "6f249840",
   "metadata": {},
   "outputs": [],
   "source": [
    "delayed_frames = []\n",
    "for blob_url in blob_urls:\n",
    "    delayed_frames.append(da.from_delayed(\n",
    "                            delayed(azure_get_frame)(blob_url),\n",
    "                            shape=(1080, 1920, 3), dtype=np.uint8)[None,:,:,:])\n",
    "delayed_frames[0]"
   ]
  },
  {
   "cell_type": "code",
   "execution_count": null,
   "id": "c7485e6b",
   "metadata": {},
   "outputs": [],
   "source": [
    "ds_azure = xr.DataArray(da.concatenate(delayed_frames, axis=0), dims=['time', 'y', 'x', 'channel'],\n",
    "                  coords={'time': timestamps}\n",
    "                 ).to_dataset(name='video')\n",
    "ds_azure"
   ]
  },
  {
   "cell_type": "markdown",
   "id": "883e4f9f",
   "metadata": {},
   "source": [
    "#### Compute the time-average of all images using Azure blob and plot"
   ]
  },
  {
   "cell_type": "code",
   "execution_count": null,
   "id": "86467992",
   "metadata": {},
   "outputs": [],
   "source": [
    "%%time\n",
    "mean_image = ds_azure.video.mean(dim='time').load()"
   ]
  },
  {
   "cell_type": "code",
   "execution_count": null,
   "id": "bb670020",
   "metadata": {},
   "outputs": [],
   "source": [
    "mean_image.astype('i8').plot.imshow();"
   ]
  }
 ],
 "metadata": {},
 "nbformat": 4,
 "nbformat_minor": 5
}
