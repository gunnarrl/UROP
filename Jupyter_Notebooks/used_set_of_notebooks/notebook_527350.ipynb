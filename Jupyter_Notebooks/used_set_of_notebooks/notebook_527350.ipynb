{
 "cells": [
  {
   "cell_type": "code",
   "execution_count": null,
   "id": "bd5e46f3",
   "metadata": {},
   "outputs": [],
   "source": [
    "import numpy as np\n",
    "import pandas as pd\n",
    "import matplotlib.pyplot as plt\n",
    "from pandas.plotting import scatter_matrix\n",
    "from pandas.plotting import autocorrelation_plot\n",
    "import seaborn as sns\n",
    "from sklearn.preprocessing import MinMaxScaler\n",
    "import os"
   ]
  },
  {
   "cell_type": "code",
   "execution_count": null,
   "id": "b8843b78",
   "metadata": {},
   "outputs": [],
   "source": [
    "def normalize(data):\n",
    "    y = pd.to_numeric(data)\n",
    "    y = np.array(y.reshape(-1, 1))\n",
    "    \n",
    "    scaler = MinMaxScaler()\n",
    "    y = scaler.fit_transform(y)\n",
    "    y = y.reshape(1, -1)[0]\n",
    "    return y\n",
    "\n",
    "def getAllHighCorr(dataset, limit):\n",
    "    features = dataset.columns\n",
    "    hc_features = []\n",
    "    for w in range(0, len(features)):\n",
    "        #print('Highly correlated with ' + w)\n",
    "        col_name = features[w]\n",
    "        col = dataset[col_name]\n",
    "        temp = col[((col <= -limit) | (col >= limit))]\n",
    "        hc_features.append(temp)\n",
    "        #print(col[col>=0.5])\n",
    "        #print('\\n')\n",
    "        \n",
    "        \n",
    "    for w in range(1, len(features)-1):\n",
    "        hc_features[w] = hc_features[w].to_frame()\n",
    "        print(hc_features[w])\n",
    "        print('\\n')\n",
    "        \n",
    "    return hc_features\n",
    "\n",
    "\n",
    "def importDFOfRoad(roadIndex):\n",
    "    ROAD = ROADS_1[roadIndex]\n",
    "    TRAFFIC_WINDOWSIZE = 1\n",
    "    TRAFFIC_FILENAME = \"mmda_\" + ROAD + \"_\" + YEAR +  \"_transformed\"\n",
    "    traffic_raw_data = pd.read_csv(DATASET_DIR + \"mmda/2015/transformed/\" + TRAFFIC_FILENAME + EXT, skipinitialspace=True)\n",
    "    traffic_raw_data = traffic_raw_data.fillna(0)\n",
    "    traffic_dataset = traffic_raw_data\n",
    "\n",
    "    cols_to_remove =  [0, 1, 2]\n",
    "\n",
    "    traffic_dataset.drop(traffic_raw_data.columns[[cols_to_remove]], axis=1, inplace=True)\n",
    "    return traffic_dataset\n",
    "\n",
    "def trafficWeatherCorr(traffic, weather, rWindow=1):\n",
    "    d1 = traffic.rolling(rWindow).mean()\n",
    "    d2 = weather.rolling(rWindow).mean()\n",
    "    df = pd.merge(d1, d2, left_index=True, right_index=True)\n",
    "    corr = df.corr(method='spearman')\n",
    "    \n",
    "    return corr\n",
    "\n",
    "def oneDatasetCorr(df):\n",
    "    corr = df.corr(method='spearman')\n",
    "    return corr\n",
    "\n",
    "def visualizeCorrelationPlot(dc):\n",
    "    fig = plt.figure()\n",
    "    ax = fig.add_subplot(111)\n",
    "    cax = ax.matshow(dc, vmin=-1, vmax=1)\n",
    "    fig.colorbar(cax)\n",
    "    ticks = np.arange(0,len(dc.columns),1)\n",
    "    ax.set_yticks(ticks)\n",
    "    ticks = np.arange(0,len(dc.columns),1)\n",
    "    ax.set_xticks(ticks)\n",
    "    ax.set_yticklabels(dc.columns)    \n",
    "    ax.set_xticklabels(dc.columns, rotation=\"vertical\")\n",
    "\n",
    "    plt.show()"
   ]
  },
  {
   "cell_type": "markdown",
   "id": "bf7b98ce",
   "metadata": {},
   "source": [
    "\n",
    "## Importing Datasets"
   ]
  },
  {
   "cell_type": "code",
   "execution_count": null,
   "id": "112e0b14",
   "metadata": {},
   "outputs": [],
   "source": [
    "ROADS_1 = ['A. Maceda', 'Anda Circle', 'Antipolo',\n",
    "         'Bluementritt', 'Buendia', 'Edsa Extension', 'Finance Road', \n",
    "         'Gov. Forbes - Lacson', 'Lerma', 'Magsaysay Ave', 'P.Noval', 'Pablo Ocampo', 'Pedro Gil', \n",
    "         'Quezon Ave.', 'Quirino', 'Rajah Sulayman', 'Taft Ave.', 'U.N. Avenue',\n",
    "         'Vicente Cruz']\n",
    "\n",
    "ROAD = \"Taft Ave.\"\n",
    "YEAR = \"2015\"\n",
    "EXT = \".csv\"\n",
    "\n",
    "DATASET_DIR = \"../../../../datasets/\"\n",
    "DATASET_DIVISION = \"seasonWet\""
   ]
  },
  {
   "cell_type": "markdown",
   "id": "d66fd0ed",
   "metadata": {},
   "source": [
    "#### Traffic Dataset"
   ]
  },
  {
   "cell_type": "code",
   "execution_count": null,
   "id": "b10af68c",
   "metadata": {},
   "outputs": [],
   "source": [
    "TRAFFIC_LIST = []\n",
    "for t in ROADS_1:\n",
    "    ROAD = t\n",
    "    TRAFFIC_FILENAME = \"raw_mmda_\" + ROAD + \"_\" + YEAR +  \"_\" + DATASET_DIVISION\n",
    "    try:\n",
    "        traffic_raw_data = pd.read_csv(DATASET_DIR + \"mmda-wwo/raw/2015/\" +  DATASET_DIVISION + \"/mmda/\" + TRAFFIC_FILENAME + EXT, skipinitialspace=True)\n",
    "    except FileNotFoundError: \n",
    "        print(\"File not found... file: \" + TRAFFIC_FILENAME)\n",
    "        continue\n",
    "    \n",
    "    traffic_raw_data = traffic_raw_data.shift(-5)\n",
    "    traffic_raw_data = traffic_raw_data.fillna(0)\n",
    "    traffic_dataset = traffic_raw_data\n",
    "    \n",
    "    if DATASET_DIVISION == \"transformed\":\n",
    "        cols_to_remove = [0, 1, 2]\n",
    "    else:\n",
    "        cols_to_remove =  [0, 1]\n",
    "        \n",
    "\n",
    "    traffic_dataset.drop(traffic_raw_data.columns[[cols_to_remove]], axis=1, inplace=True)\n",
    "    TRAFFIC_LIST.append(traffic_dataset)\n",
    "    \n",
    "    print(\"File adding to array... file: \" + TRAFFIC_FILENAME)"
   ]
  },
  {
   "cell_type": "markdown",
   "id": "fb59f153",
   "metadata": {},
   "source": [
    "#### Weather Dataset"
   ]
  },
  {
   "cell_type": "code",
   "execution_count": null,
   "id": "23fe5ed4",
   "metadata": {},
   "outputs": [],
   "source": [
    "WEATHER_WINDOWSIZE = 2\n",
    "if DATASET_DIVISION == \"transformed\":\n",
    "    WEATHER_FILENAME = \"raw_wwo_\" + YEAR\n",
    "else:\n",
    "    WEATHER_FILENAME = \"raw_wwo_\" + YEAR + \"_\" + DATASET_DIVISION\n",
    "weather_dataset = pd.read_csv(DATASET_DIR + \"mmda-wwo/raw/2015/\" +  DATASET_DIVISION + \"/wwo/\" + WEATHER_FILENAME + EXT, skipinitialspace=True)\n",
    "weather_dataset = weather_dataset.fillna(0)\n",
    "\n",
    "if DATASET_DIVISION == \"transformed\":\n",
    "    cols_to_remove = [0]\n",
    "else:\n",
    "    cols_to_remove = [0, 1] #removes date and time\n",
    "weather_dataset = weather_dataset.drop(weather_dataset.columns[[cols_to_remove]], axis=1)\n",
    "\n",
    "weather_dataset.head()"
   ]
  },
  {
   "cell_type": "markdown",
   "id": "fd45dd78",
   "metadata": {},
   "source": [
    "#### Visualize Traffic (Original vs Rolling Mean)"
   ]
  },
  {
   "cell_type": "code",
   "execution_count": null,
   "id": "9fb0d87f",
   "metadata": {},
   "outputs": [],
   "source": [
    "r = 18\n",
    "\n",
    "td = TRAFFIC_LIST[r]\n",
    "wd = weather_dataset\n",
    "\n",
    "print(\"Traffic for \" + ROADS_1[r])\n",
    "\n",
    "plt.figure(figsize=(20, 4))\n",
    "xaxis = range(9, 12)\n",
    "\n",
    "lag = 96\n",
    "plt.plot(td.statusN[1500:1884], alpha=0.2, c='b')\n",
    "plt.plot(td.statusN[1500-lag:1884+lag].shift(lag), c='black')\n",
    "plt.grid()\n",
    "\n",
    "plt.show()\n",
    "\n",
    "traffic = td\n",
    "weather = wd\n",
    "corr = trafficWeatherCorr(traffic, weather)\n",
    "\n",
    "# print(\"Corr for \" + ROADS_1[r])\n",
    "# print(corr['statusS'])\n",
    "# print(\"================\")"
   ]
  },
  {
   "cell_type": "code",
   "execution_count": null,
   "id": "1e3d73ae",
   "metadata": {},
   "outputs": [],
   "source": [
    "def df_shifted(df, target=None, lag=0):\n",
    "    if not lag and not target:\n",
    "        return df       \n",
    "    new = {}\n",
    "    for c in df.columns:\n",
    "        if c == target:\n",
    "            new[c] = df[target]\n",
    "        else:\n",
    "            new[c] = df[c].shift(periods=lag)\n",
    "    return  pd.DataFrame(data=new)"
   ]
  },
  {
   "cell_type": "code",
   "execution_count": null,
   "id": "0aab517d",
   "metadata": {},
   "outputs": [],
   "source": [
    "r = 18\n",
    "td = TRAFFIC_LIST[r]\n",
    "\n",
    "\n",
    "start = 2348\n",
    "end = 2924\n",
    "lag = 96\n",
    "plt.plot(td.statusN[start:end], alpha=0.2, c='b')\n",
    "plt.plot(td.statusN[start:end+lag].shift(-lag).rolling(lag+1).mean(), alpha=0.4, c='black')\n",
    "plt.show()"
   ]
  },
  {
   "cell_type": "markdown",
   "id": "f2ce02c7",
   "metadata": {},
   "source": [
    "## Correlate"
   ]
  },
  {
   "cell_type": "markdown",
   "id": "67aed2a1",
   "metadata": {},
   "source": [
    "### Rainy Season (Weather x Traffic) Correlation"
   ]
  },
  {
   "cell_type": "code",
   "execution_count": null,
   "id": "00edd3c4",
   "metadata": {},
   "outputs": [],
   "source": [
    "if not os.path.exists(DATASET_DIR + \"analysis/\" + DATASET_DIVISION):\n",
    "        os.makedirs(DATASET_DIR + \"analysis/\" + DATASET_DIVISION)\n",
    "\n",
    "TO_EXPORT = False\n",
    "for r in range(len(TRAFFIC_LIST)):\n",
    "    traffic = TRAFFIC_LIST[r]\n",
    "    weather = weather_dataset\n",
    "    rainy_corr = trafficWeatherCorr(traffic, weather)\n",
    "    \n",
    "    if TO_EXPORT:\n",
    "        rainy_corr.to_csv(DATASET_DIR + \"analysis/\" + DATASET_DIVISION + \"/\" + ROADS_1[r] + \"_\" + YEAR + \"_\" + DATASET_DIVISION + EXT, encoding='utf-8')\n",
    "        \n",
    "    print(ROADS_1[r])\n",
    "    visualizeCorrelationPlot(rainy_corr)"
   ]
  },
  {
   "cell_type": "markdown",
   "id": "88dc3ee2",
   "metadata": {},
   "source": [
    "### Rolling Mean (Weather x Traffic) Correlation"
   ]
  },
  {
   "cell_type": "code",
   "execution_count": null,
   "id": "056b4692",
   "metadata": {},
   "outputs": [],
   "source": [
    "def renameRollingColumns(original, dataset, w):\n",
    "    temp_mean = original.rolling(w).mean().fillna(0)\n",
    "    for c in original.columns:\n",
    "        temp_mean = temp_mean.rename(columns={c:c + \"_Rmean=\" + str(w)})\n",
    "    \n",
    "    temp_min = original.rolling(w).min().fillna(0)\n",
    "    for c in original.columns:\n",
    "        temp_min = temp_min.rename(columns={c:c + \"_Rmin=\" + str(w)})\n",
    "    \n",
    "    temp_max = original.rolling(w).max().fillna(0)\n",
    "    for c in original.columns:\n",
    "        temp_max = temp_max.rename(columns={c:c + \"_Rmax=\" + str(w)})\n",
    "\n",
    "    return pd.concat([dataset, temp_mean, temp_min, temp_max], axis=1)"
   ]
  },
  {
   "cell_type": "code",
   "execution_count": null,
   "id": "793240af",
   "metadata": {},
   "outputs": [],
   "source": [
    "TO_EXPORT = True\n",
    "WINDOWS = [2,3,4,8,12,24,32,48,96]\n",
    "if not os.path.exists(DATASET_DIR + \"analysis/rolling_\" + DATASET_DIVISION + \"/\"):\n",
    "        os.makedirs(DATASET_DIR + \"analysis/rolling_\" + DATASET_DIVISION + \"/\")\n",
    "\n",
    "# for r in range(len(TRAFFIC_LIST)):\n",
    "# for r in range(len(ROADS_1)):\n",
    "r = 18\n",
    "\n",
    "try:\n",
    "    temp_traffic = pd.read_csv(DATASET_DIR + \"engineered/rolling/\" + YEAR + \"/\" + DATASET_DIVISION + \n",
    "                               \"/eng_mmda_\" + ROADS_1[r] + \"_\" + YEAR +  \"_\" + DATASET_DIVISION + EXT, skipinitialspace=True)\n",
    "    temp_weather = pd.read_csv(DATASET_DIR + \"engineered/rolling/\" + YEAR + \"/\" + DATASET_DIVISION + \n",
    "                               \"/eng_wwo_\" + ROADS_1[r] + \"_\" + YEAR + \"_\" + DATASET_DIVISION + EXT, skipinitialspace=True)\n",
    "    temp_traffic.drop(temp_traffic.columns[0], axis=1, inplace=True)\n",
    "    temp_weather.drop(temp_weather.columns[0], axis=1, inplace=True)\n",
    "    \n",
    "except FileNotFoundError:\n",
    "    print(\"Not found: \" + DATASET_DIR + \"engineered/rolling/\" + YEAR + \"/\" + DATASET_DIVISION +  \n",
    "          \"/eng_mmda_\" + ROADS_1[r] + \"_\" + YEAR +  \"_\" + DATASET_DIVISION + EXT)\n",
    "\n",
    "print(\">> Correlating \" + ROADS_1[r])\n",
    "rainy_corr = trafficWeatherCorr(temp_traffic, temp_weather)\n",
    "if TO_EXPORT:\n",
    "    rainy_corr.to_csv(DATASET_DIR + \"analysis/rolling_\" + DATASET_DIVISION + \"/rolling-\" \n",
    "                      + DATASET_DIVISION + \"_\" + ROADS_1[r] + \"_\" + YEAR + \"_\" + DATASET_DIVISION + EXT,\n",
    "                      encoding='utf-8')\n",
    "    print(\">> Exported file: \" + ROADS_1[r])\n",
    "print(\">> Done.\")"
   ]
  },
  {
   "cell_type": "markdown",
   "id": "6a56ecb6",
   "metadata": {},
   "source": [
    "### Auto Correlation\n",
    "<b>I have no idea kung tama ginagawa ko :D  -Dyan</b>"
   ]
  },
  {
   "cell_type": "code",
   "execution_count": null,
   "id": "932b66a2",
   "metadata": {},
   "outputs": [],
   "source": [
    "traffic_dataset.iloc[0].autocorr(lag=100)"
   ]
  },
  {
   "cell_type": "code",
   "execution_count": null,
   "id": "f57dd297",
   "metadata": {},
   "outputs": [],
   "source": [
    "#Auto Correlation of statusS\n",
    "plt.figure(figsize=(10, 6))\n",
    "#plt.acorr(traffic_dataset.iloc[23330:24002,:].statusS, maxlags=97)\n",
    "plt.acorr(traffic_dataset.statusN, maxlags=100)\n",
    "plt.show()"
   ]
  },
  {
   "cell_type": "code",
   "execution_count": null,
   "id": "947e9b96",
   "metadata": {},
   "outputs": [],
   "source": [
    "plt.figure(figsize=(10, 6))\n",
    "autocorrelation_plot(traffic_dataset.iloc[23330:24002,:].statusS);\n",
    "plt.show()"
   ]
  }
 ],
 "metadata": {},
 "nbformat": 4,
 "nbformat_minor": 5
}
