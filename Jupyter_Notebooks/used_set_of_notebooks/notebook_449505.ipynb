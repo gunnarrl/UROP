{
 "cells": [
  {
   "cell_type": "markdown",
   "id": "3ef5db84",
   "metadata": {},
   "source": [
    "## SLU05 - Functions Intermediate: Exercise notebook"
   ]
  },
  {
   "cell_type": "code",
   "execution_count": null,
   "id": "c4bcb5ce",
   "metadata": {},
   "outputs": [],
   "source": [
    "# Students don't need to worry about this cell\n",
    "# Just make sure that the first thing you do is\n",
    "# to run it or the rest of the grading won't work!\n",
    "\n",
    "import math\n",
    "import hashlib\n",
    "import inspect\n",
    "\n",
    "def _hash(s):\n",
    "    return hashlib.blake2b(\n",
    "        bytes(str(s), encoding='utf8'),\n",
    "        digest_size=5\n",
    "    ).hexdigest()"
   ]
  },
  {
   "cell_type": "markdown",
   "id": "36ae5f51",
   "metadata": {},
   "source": [
    "## Exercise 1\n",
    "\n",
    "Open up your favorite editor (word, google docs, notes, whatever) and write answers to the following questions in your own words:\n",
    "\n",
    "1. Explain what local scope is\n",
    "1. Explain what global scope is\n",
    "\n",
    "What you want to be able to do is get to the point where you can explain it (even if you don't understand it yet) using the right words and concepts. Having a good idea yourself about what all of these are is essential."
   ]
  },
  {
   "cell_type": "markdown",
   "id": "0d78b205",
   "metadata": {},
   "source": [
    "## What is local scope\n",
    "\n",
    "Write your answer here\n",
    "\n",
    "## What is global scope\n",
    "\n",
    "Write your answer here"
   ]
  },
  {
   "cell_type": "markdown",
   "id": "b091ea1b",
   "metadata": {},
   "source": [
    "## Exercise 2\n",
    "\n",
    "Consider the following code:\n"
   ]
  },
  {
   "cell_type": "code",
   "execution_count": null,
   "id": "0fbf0b69",
   "metadata": {},
   "outputs": [],
   "source": [
    "def hello_world():\n",
    "    a_var = 10\n",
    "    return a_var\n",
    "\n",
    "another_var = 100"
   ]
  },
  {
   "cell_type": "markdown",
   "id": "9952aaf4",
   "metadata": {},
   "source": [
    "What please identify which variable is in a local scope and which variale is in global scope and what variable is in "
   ]
  },
  {
   "cell_type": "code",
   "execution_count": null,
   "id": "bb7328e0",
   "metadata": {},
   "outputs": [],
   "source": [
    "# assign the string values of either 'local' or 'global'\n",
    "\n",
    "# Assign a_var_scope the value of 'local' or 'global'\n",
    "a_var_scope = ''\n",
    "\n",
    "# Assign another_var_scope the value of 'local' or 'global'\n",
    "another_var_scope = ''\n",
    "\n",
    "# YOUR CODE HERE\n",
    "raise NotImplementedError()"
   ]
  },
  {
   "cell_type": "code",
   "execution_count": null,
   "id": "50bfaf82",
   "metadata": {},
   "outputs": [],
   "source": [
    "assert _hash(a_var_scope) == '702153dc06', 'incorrect scope, try again!'\n",
    "assert _hash(another_var_scope) == 'ec9f60ee7b', 'incorrect scope, try again!'"
   ]
  },
  {
   "cell_type": "markdown",
   "id": "c667912c",
   "metadata": {},
   "source": [
    "## Exercise 3\n",
    "\n",
    "In this exercise, you'll learn the difference between scopes regardless of the name of a variable. The name of the variable is not the important part, it's all about being inside or outside of a function when the variable is assigned it's value."
   ]
  },
  {
   "cell_type": "code",
   "execution_count": null,
   "id": "10d504d7",
   "metadata": {},
   "outputs": [],
   "source": [
    "outside_var = 100\n",
    "\n",
    "def hello_world_complicated():\n",
    "    print(outside_var)\n",
    "    a_var = 10\n",
    "    outside_var = 200\n",
    "    print(outside_var)"
   ]
  },
  {
   "cell_type": "code",
   "execution_count": null,
   "id": "04bc7720",
   "metadata": {},
   "outputs": [],
   "source": [
    "# The print(outside_var) which is the first line in the function is printing\n",
    "# the value of a global or locally scoped variable\n",
    "# Assign outside_var_first_print_scope the value of 'local' or 'global'\n",
    "\n",
    "outside_var_first_print_scope = ''\n",
    "\n",
    "# The print(outside_var) which is the last line in the function is printing\n",
    "# the value of a global or locally scoped variable\n",
    "# Assign outside_var_second_print_scope the value of 'local' or 'global'\n",
    "\n",
    "outside_var_second_print_scope = ''\n",
    "\n",
    "\n",
    "# YOUR CODE HERE\n",
    "raise NotImplementedError()"
   ]
  },
  {
   "cell_type": "code",
   "execution_count": null,
   "id": "fdd43778",
   "metadata": {},
   "outputs": [],
   "source": [
    "assert _hash('a' + outside_var_first_print_scope) == 'fc6003ae12', 'incorrect scope, try again!'\n",
    "assert _hash('b' + outside_var_second_print_scope) == '650bfd57ec', 'incorrect scope, try again!'"
   ]
  },
  {
   "cell_type": "markdown",
   "id": "36318eb2",
   "metadata": {},
   "source": [
    "## Exercise 4\n",
    "\n",
    "Now you'll learn about how local and global scope can clash (and potentially create problems) when a local function accesses things in the global scope."
   ]
  },
  {
   "cell_type": "markdown",
   "id": "c239105c",
   "metadata": {},
   "source": [
    "### DO NOT RUN THIS CODE\n",
    "\n",
    "The point of this exercise is to read and understand what is happening between the variables and the scopes. You can easily run this code and come up with the answers but if you do without trying to reason about it first, you'll be robbing yourself of a valueable learning activity!\n",
    "\n",
    "```py\n",
    "a_list = [1, 2, 3]\n",
    "\n",
    "def hello():\n",
    "    another_list = a_list\n",
    "    another_list.append(4)\n",
    "    \n",
    "my_value_1 = a_list + [5]\n",
    "hello()\n",
    "my_value_2 = a_list\n",
    "```"
   ]
  },
  {
   "cell_type": "code",
   "execution_count": null,
   "id": "17edb698",
   "metadata": {},
   "outputs": [],
   "source": [
    "# Fill in the values by ONLY READING the code.\n",
    "# DO NOT RUN THE CELL ABOVE\n",
    "\n",
    "\n",
    "my_value_1 = [] # fill in the values in the list for my_value_1\n",
    "my_value_2 = [] # fill in the values in the list for my_value_2\n",
    "\n",
    "# YOUR CODE HERE\n",
    "raise NotImplementedError()"
   ]
  },
  {
   "cell_type": "code",
   "execution_count": null,
   "id": "09c24f21",
   "metadata": {},
   "outputs": [],
   "source": [
    "assert _hash(my_value_1) == '90cd62da52', 'not quite, follow the code and the concepts!'\n",
    "assert _hash(my_value_2) == '76d2a49034', 'not quite, follow the code and the concepts!'"
   ]
  },
  {
   "cell_type": "markdown",
   "id": "7b20924f",
   "metadata": {},
   "source": [
    "## Exercise 5\n",
    "\n",
    "In this exercise, you will create a variable in the global scope and then use it inside the local scope\n",
    "of another function. Your instructions are:\n",
    "\n",
    "1. Create a global variable called `a_number` and assign it the value of `2`\n",
    "1. Create a function called `use_global_scope` that takes one argument\n",
    "1. The argument is called `multiply_by` and should be an integer\n",
    "1. If `multiply_by` is not an integer, the function returns `None`\n",
    "1. This function should return the value of the global variable `a_number` multiplied by `multiply_by`"
   ]
  },
  {
   "cell_type": "code",
   "execution_count": null,
   "id": "3d554700",
   "metadata": {},
   "outputs": [],
   "source": [
    "\n",
    "# first define a global variable called a_number\n",
    "\n",
    "# next define your function use_global_scope that multiplies a_number by multiply_by\n",
    "\n",
    "\n",
    "# YOUR CODE HERE\n",
    "raise NotImplementedError()"
   ]
  },
  {
   "cell_type": "code",
   "execution_count": null,
   "id": "b5708de5",
   "metadata": {},
   "outputs": [],
   "source": [
    "sig = inspect.signature(use_global_scope)\n",
    "source = inspect.getsource(use_global_scope)\n",
    "params = sig.parameters\n",
    "\n",
    "assert len(sig.parameters) == 1, 'your function should take one argument'\n",
    "assert 'multiply_by' in params, 'you must have an argument called my_list'\n",
    "assert 'a_number' in globals(), 'be sure to define a_number in the global scope'\n",
    "assert use_global_scope(10) == 20, 'check the spec and your implementation'\n",
    "assert use_global_scope('hello') == None, 'check the spec and your implementation'\n",
    "assert 'a_number' in source, 'be sure to use a_number in side of the function'\n",
    "assert '=' not in source, 'you do not need to assign any values to any variables inside of this function'\n",
    "assert '10' not in source, 'are you cheating by hard-coding?'\n",
    "assert '20' not in source, 'no cheating by hard-coding stuff!'"
   ]
  },
  {
   "cell_type": "markdown",
   "id": "ea06e8f7",
   "metadata": {},
   "source": [
    "## Exercise 6\n",
    "\n",
    "In this exercise, you will create a function that multiplies all the elements of a list\n",
    "by a given number\n",
    "\n",
    "1. Create a function named `mult_by`\n",
    "1. It takes one positional argument called `my_list`\n",
    "1. It take one keyword argument called is called `multiply_by` and is a number\n",
    "    1. The default value is `2`\n",
    "1. The function must multiply all elements of the list by `multiply_by` and return the result"
   ]
  },
  {
   "cell_type": "code",
   "execution_count": null,
   "id": "f876d08b",
   "metadata": {},
   "outputs": [],
   "source": [
    "# YOUR CODE HERE\n",
    "raise NotImplementedError()"
   ]
  },
  {
   "cell_type": "code",
   "execution_count": null,
   "id": "9b34ed39",
   "metadata": {},
   "outputs": [],
   "source": [
    "assert 'mult_by' in globals(), 'did you name the function correctly?'\n",
    "\n",
    "sig = inspect.signature(mult_by)\n",
    "source = inspect.getsource(mult_by)\n",
    "params = sig.parameters\n",
    "\n",
    "assert len(sig.parameters) == 2, 'your function should define two arguments'\n",
    "assert 'my_list' in params, 'you must have an argument called my_list'\n",
    "assert 'multiply_by' in params, 'you must have an argument called multiply_by'\n",
    "assert sig.parameters['my_list'].default == inspect._empty, 'my_list should be a positional arg'\n",
    "assert sig.parameters['multiply_by'].default == 2, 'multiply_by should be position and default to 2'\n",
    "assert (\n",
    "    '8' not in source\n",
    "    and\n",
    "    '10' not in source\n",
    "), 'are you cheeeeeting?'\n",
    "\n",
    "\n",
    "assert mult_by([4, 5]) == [8, 10], 'wrong return value, check spec and implementation!'\n",
    "assert mult_by([4, 5], multiply_by=1) == [4, 5], 'wrong return value, check spec and implementation!'"
   ]
  }
 ],
 "metadata": {},
 "nbformat": 4,
 "nbformat_minor": 5
}
