{
 "cells": [
  {
   "cell_type": "markdown",
   "id": "0f0e3239",
   "metadata": {},
   "source": [
    "# Quantum Ensemble as Simple Averaging -  Experiments"
   ]
  },
  {
   "cell_type": "markdown",
   "id": "a485119a",
   "metadata": {},
   "source": [
    "This notebook reproduces the results in Section 4.3 of the paper *Quantum Ensemble for Classification* where is shown that the quantum ensemble algorithm is able to compute the expectation value of multiple quantum trajectories in superposition with just one execution of the quantum cosine classifier. \n",
    "\n",
    "For more details about the theoretical background see **Quantum Ensemble - Independent Trajectories.ipynb**\n"
   ]
  },
  {
   "cell_type": "code",
   "execution_count": null,
   "id": "ea2bc842",
   "metadata": {},
   "outputs": [],
   "source": [
    "# Import packages and functions\n",
    "import sys\n",
    "sys.path.insert(1, '../')\n",
    "\n",
    "from Utils import *\n",
    "from modeling import *"
   ]
  },
  {
   "cell_type": "markdown",
   "id": "422cc7dc",
   "metadata": {},
   "source": [
    "Create the toy dataset reported in Table 1 and execute the (classical) cosine classifiers."
   ]
  },
  {
   "cell_type": "code",
   "execution_count": null,
   "id": "f0db4f68",
   "metadata": {},
   "outputs": [],
   "source": [
    "# Load data without normalisation\n",
    "X_data, Y_data, x_test = load_data_custom(normalize = False)\n",
    "\n",
    "# Create table as shown in the paper (Table 1)\n",
    "data = pd.DataFrame(X_data, columns = [r'$X_1$', r'$X_2$'])\n",
    "\n",
    "# Extract the value of the target variable as integer\n",
    "y = [c[1] for c in Y_data]\n",
    "\n",
    "# Compute the cosine distance between the training points and the test point\n",
    "dist = [cosine_similarity([x], [x_test])[0][0] for x in X_data]\n",
    "\n",
    "# Compute the value of the cosine distance classifier\n",
    "# for the four training points from the test point\n",
    "p = [cosine_classifier(x, x_test)[0][0] for x in X_data]\n",
    "\n",
    "# Extract the probabilities for the test point to be classified in class \n",
    "# 1 according to the (classical) cosine classifies Equation (16)\n",
    "probs = []\n",
    "for i,j in zip(y,p):\n",
    "    if i == 0:\n",
    "        probs.append(1-j)\n",
    "    else:\n",
    "        probs.append(j)\n",
    "\n",
    "# Create dataset as in paper (Table 1)\n",
    "probs = np.array(probs)\n",
    "\n",
    "# Rename columns\n",
    "data[r'$y$'] = np.array(y)\n",
    "data[r'$d($$\\cdot$$, $ $x^{(test)})$'] = np.round(dist,2)\n",
    "data[r'$P($$y^{(test)}$$=1$$|b$ $)$'] = probs\n",
    "\n",
    "# Rename rows\n",
    "data.index = [r'$x_1$', r'$x_2$', r'$x_3$', r'$x_4$',]\n",
    "\n",
    "#Visualize dataset\n",
    "data"
   ]
  },
  {
   "cell_type": "markdown",
   "id": "3e3463af",
   "metadata": {},
   "source": [
    "### Implementation of the quantum cosine classifier"
   ]
  },
  {
   "cell_type": "code",
   "execution_count": null,
   "id": "c2667bca",
   "metadata": {},
   "outputs": [],
   "source": [
    "# Load normalised data\n",
    "X_data, Y_data, x_test = load_data_custom()"
   ]
  },
  {
   "cell_type": "code",
   "execution_count": null,
   "id": "45968708",
   "metadata": {},
   "outputs": [],
   "source": [
    "#Visualisation of quantum cosine classifier\n",
    "quantum_cosine = quantum_cosine_classifier(X_data[0], x_test, Y_data[0] )\n",
    "quantum_cosine.draw(output='mpl', scale=.7)"
   ]
  },
  {
   "cell_type": "markdown",
   "id": "b3eef4ac",
   "metadata": {},
   "source": [
    "For each training point in *data* the quantum cosine classifier is executed to compute the prediction of the target variable for the test point $\\tilde{x}$. Thus, given the measurements of the quantum circuts, the target probabilities are retrieved using the function *retrieve_proba*."
   ]
  },
  {
   "cell_type": "code",
   "execution_count": null,
   "id": "e303a298",
   "metadata": {},
   "outputs": [],
   "source": [
    "qc1 = quantum_cosine_classifier(X_data[0], x_test, Y_data[0] )\n",
    "r1 = exec_simulator(qc1)\n",
    "r1 = retrieve_proba(r1) \n",
    "\n",
    "qc2 = quantum_cosine_classifier(X_data[1], x_test, Y_data[1])\n",
    "r2 = exec_simulator(qc2)\n",
    "r2 = retrieve_proba(r2)\n",
    "\n",
    "qc3 = quantum_cosine_classifier(X_data[2], x_test, Y_data[2])\n",
    "r3 = exec_simulator(qc3)\n",
    "r3 = retrieve_proba(r3)\n",
    "\n",
    "qc4 = quantum_cosine_classifier(X_data[3], x_test, Y_data[3])\n",
    "r4 = exec_simulator(qc4)\n",
    "r4 = retrieve_proba(r4)\n",
    "\n",
    "out = [r1, r2, r3, r4]"
   ]
  },
  {
   "cell_type": "markdown",
   "id": "11e79f6f",
   "metadata": {},
   "source": [
    "We compute the average of predictions provided by the four quantum cosine classifiers that corresponds to the classical ensemble prediction, using simple averaging as aggregation strategy."
   ]
  },
  {
   "cell_type": "code",
   "execution_count": null,
   "id": "b9af291c",
   "metadata": {},
   "outputs": [],
   "source": [
    "p0 = [p[0] for p in out]\n",
    "p1 = [p[1] for p in out]\n",
    "r_avg = [np.mean(p0), np.mean(p1)]\n",
    "# print(np.mean(p0), np.mean(p1))"
   ]
  },
  {
   "cell_type": "markdown",
   "id": "c0fa063b",
   "metadata": {},
   "source": [
    "### Quantum Ensemble of four cosine classifiers"
   ]
  },
  {
   "cell_type": "code",
   "execution_count": null,
   "id": "eef3bed0",
   "metadata": {},
   "outputs": [],
   "source": [
    "qc = ensemble_fixed_U(X_data, Y_data, x_test)\n",
    "qc.draw(output='mpl', scale=.6, #filename='output/ensemble_circuit.png', \n",
    "        style={'fontsize':15, 'dpi':200})"
   ]
  },
  {
   "cell_type": "code",
   "execution_count": null,
   "id": "734598d7",
   "metadata": {},
   "outputs": [],
   "source": [
    "r = exec_simulator(qc, n_shots=8192)\n",
    "r_ens = retrieve_proba(r)\n",
    "print(r_ens)"
   ]
  },
  {
   "cell_type": "code",
   "execution_count": null,
   "id": "eea9f11a",
   "metadata": {},
   "outputs": [],
   "source": [
    "# collect the results\n",
    "output_simulator = [r1, r2, r3, r4, r_avg, r_ens]\n",
    "\n",
    "data_pred = pd.DataFrame(output_simulator, \n",
    "                         columns=['p0', 'p1'], index=['qc1','qc2','qc3','qc4','AVG','Ensemble'])\n",
    "data_pred\n",
    "# data_pred.to_csv('output/sim_results.csv', index=False)"
   ]
  },
  {
   "cell_type": "code",
   "execution_count": null,
   "id": "dcad6800",
   "metadata": {},
   "outputs": [],
   "source": [
    "plot_cls(output_simulator, title= '')"
   ]
  },
  {
   "cell_type": "markdown",
   "id": "54def5ff",
   "metadata": {},
   "source": [
    "The probability provided by the quantum cosine classifiers ($f_1$, $f_2$, $f_3$, $f_4$)  are pretty much the same to the classical cosine classifier (*data*). Furthermore, the average of the four classifiers is almost the same to the quantum ensemble prediction where it is required only one execution of the cosine classifier."
   ]
  },
  {
   "cell_type": "markdown",
   "id": "a0f99032",
   "metadata": {},
   "source": [
    "## Multiple Experiments"
   ]
  },
  {
   "cell_type": "markdown",
   "id": "601247cf",
   "metadata": {},
   "source": [
    "In order to show that the result of quantum ensemble holds regardless of the data reported in *Table 1*, the same experiment is performed on $20$ randomly generated datasets, and the average of the quantum cosine classifiers and the quantum ensemble prediction are compared"
   ]
  },
  {
   "cell_type": "code",
   "execution_count": null,
   "id": "8e80a325",
   "metadata": {},
   "outputs": [],
   "source": [
    "seed = 543\n",
    "\n",
    "n_shots = 8192\n",
    "N_runs = 20\n",
    "y_labels =[[0,1], [1,0]]"
   ]
  },
  {
   "cell_type": "code",
   "execution_count": null,
   "id": "0059f627",
   "metadata": {},
   "outputs": [],
   "source": [
    "p1_avg = []\n",
    "p1_ens = []\n",
    "\n",
    "np.random.seed(seed)\n",
    "for run in np.arange(N_runs):\n",
    "    # print(run)\n",
    "    x1 = [np.random.randint(1, 9), np.random.randint(1, 9)]\n",
    "    x2 = [np.random.randint(1, 9), np.random.randint(1, 9)]\n",
    "    x3 = [np.random.randint(1, 9), np.random.randint(1, 9)]\n",
    "    x4 = [np.random.randint(1, 9), np.random.randint(1, 9)]\n",
    "    \n",
    "    y1 = y_labels[np.random.randint(0, 2)]\n",
    "    y2 = y_labels[np.random.randint(0, 2)]\n",
    "    y3 = y_labels[np.random.randint(0, 2)]\n",
    "    y4 = y_labels[np.random.randint(0, 2)]\n",
    "    \n",
    "    Y_data = [y1, y2, y3, y4]  \n",
    "    X_data = [x1, x2, x3, x4]\n",
    "    \n",
    "    x_test = [np.random.randint(1, 9), np.random.randint(1, 9)]\n",
    "\n",
    "    X_data, Y_data, x_test = load_data_custom(X_data, Y_data, x_test = x_test)\n",
    "\n",
    "    qc1 = quantum_cosine_classifier(X_data[0], x_test, Y_data[0] )\n",
    "    r1 = exec_simulator(qc1)\n",
    "    r1 = retrieve_proba(r1)\n",
    "\n",
    "    qc2 = quantum_cosine_classifier(X_data[1], x_test, Y_data[1])\n",
    "    r2 = exec_simulator(qc2)\n",
    "    r2 = retrieve_proba(r2)\n",
    "\n",
    "    qc3 = quantum_cosine_classifier(X_data[2], x_test, Y_data[2])\n",
    "    r3 = exec_simulator(qc3)\n",
    "    r3 = retrieve_proba(r3)\n",
    "\n",
    "    qc4 = quantum_cosine_classifier(X_data[3], x_test, Y_data[3])\n",
    "    r4 = exec_simulator(qc4)\n",
    "    r4 = retrieve_proba(r4)\n",
    "     \n",
    "    out = [r1, r2, r3, r4]\n",
    "\n",
    "    p0 = [p[0] for p in out]\n",
    "    p1 = [p[1] for p in out]\n",
    "    \n",
    "    r_avg = [np.mean(p0), np.mean(p1)]\n",
    "    # print('AVG:', r_avg)\n",
    "\n",
    "    \n",
    "    qc = ensemble_fixed_U(X_data, Y_data, x_test)\n",
    "    qc = transpile(qc, basis_gates = ['u1', 'u2', 'u3', 'cx'], optimization_level=3)\n",
    "\n",
    "    r = exec_simulator(qc, n_shots=n_shots)\n",
    "    r_ens = retrieve_proba(r)\n",
    "    # print('Ensemble', r_ens)\n",
    "\n",
    "    out = [r1, r2, r3, r4, r_avg, r_ens]\n",
    "    \n",
    "    p1_avg.append(r_avg[1])\n",
    "    p1_ens.append(r_ens[1])"
   ]
  },
  {
   "cell_type": "code",
   "execution_count": null,
   "id": "eb234981",
   "metadata": {},
   "outputs": [],
   "source": [
    "avg_vs_ensemble(p1_avg, p1_ens)"
   ]
  },
  {
   "cell_type": "markdown",
   "id": "39516b4d",
   "metadata": {},
   "source": [
    "##### In order to perform the same computation on real device it is necessary to load an IBMQ account and to use the function $\\text{run_real_device}$ instead of $\\text{exec_simulator}$"
   ]
  },
  {
   "cell_type": "code",
   "execution_count": null,
   "id": "43864923",
   "metadata": {},
   "outputs": [],
   "source": [
    "# Execution on real device\n",
    "IBMQ.load_account()\n",
    "provider = IBMQ.get_provider(hub='ibm-q')\n",
    "provider.backends()\n",
    "backend_16 = provider.get_backend('ibmq_16_melbourne')\n",
    "backend_5 = provider.get_backend('ibmq_rome')\n",
    "\n",
    "def run_real_device(qc, backend, shots=8192):\n",
    "    job = execute(qc, backend, shots=shots)\n",
    "    results = job.result()\n",
    "    r = results.get_counts(qc)\n",
    "    return r"
   ]
  }
 ],
 "metadata": {},
 "nbformat": 4,
 "nbformat_minor": 5
}
