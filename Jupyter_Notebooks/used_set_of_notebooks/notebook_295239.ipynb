{
 "cells": [
  {
   "cell_type": "markdown",
   "id": "954e3587",
   "metadata": {},
   "source": [
    "# Image Denoising with Autoencoders\n",
    "\n",
    "## Task 1: Introduction and Importing Libraries\n",
    "___\n",
    "Note: If you are starting the notebook from this task, you can run cells from all previous tasks in the kernel by going to the top menu and then selecting Kernel > Restart and Run All\n",
    "___"
   ]
  },
  {
   "cell_type": "code",
   "execution_count": null,
   "id": "350c6947",
   "metadata": {},
   "outputs": [],
   "source": [
    "import numpy as np\n",
    "\n",
    "from tensorflow.keras.datasets import mnist\n",
    "from matplotlib import pyplot as plt\n",
    "from tensorflow.keras.models import Sequential, Model\n",
    "from tensorflow.keras.layers import Dense, Input\n",
    "from tensorflow.keras.callbacks import EarlyStopping, LambdaCallback\n",
    "from tensorflow.keras.utils import to_categorical\n",
    "\n",
    "%matplotlib inline"
   ]
  },
  {
   "cell_type": "markdown",
   "id": "0f5d6580",
   "metadata": {},
   "source": [
    "## Task 2: Data Preprocessing\n",
    "___\n",
    "Note: If you are starting the notebook from this task, you can run cells from all previous tasks in the kernel by going to the top menu and then selecting Kernel > Restart and Run All\n",
    "___"
   ]
  },
  {
   "cell_type": "code",
   "execution_count": null,
   "id": "dbce435d",
   "metadata": {},
   "outputs": [],
   "source": [
    "(x_train, y_train), (x_test, y_test) = mnist.load_data()\n",
    "x_train = x_train.astype('float')/255.0\n",
    "x_test = x_test.astype('float')/255.0"
   ]
  },
  {
   "cell_type": "code",
   "execution_count": null,
   "id": "995df656",
   "metadata": {},
   "outputs": [],
   "source": [
    "x_train = np.reshape(x_train, (60000, 784))\n",
    "x_test = np.reshape(x_test,(10000, 784))"
   ]
  },
  {
   "cell_type": "markdown",
   "id": "e8f5f987",
   "metadata": {},
   "source": [
    "## Task 3: Adding Noise\n",
    "___\n",
    "Note: If you are starting the notebook from this task, you can run cells from all previous tasks in the kernel by going to the top menu and then selecting Kernel > Restart and Run All\n",
    "___"
   ]
  },
  {
   "cell_type": "code",
   "execution_count": null,
   "id": "3b6aada0",
   "metadata": {},
   "outputs": [],
   "source": [
    "noise_factor = 0.9\n",
    "\n",
    "x_train_noisy = x_train + np.random.rand(60000, 784)*noise_factor\n",
    "x_train_noisy = np.clip(x_train_noisy, 0., 1.)\n",
    "\n",
    "x_test_noisy = x_test + np.random.rand(10000, 784)*noise_factor\n",
    "x_test_noisy = np.clip(x_test_noisy, 0., 1.)"
   ]
  },
  {
   "cell_type": "code",
   "execution_count": null,
   "id": "f015d6d2",
   "metadata": {},
   "outputs": [],
   "source": [
    "def plot(x, p, labels=False):\n",
    "    plt.figure(figsize=(20,2))\n",
    "    for i in range(10):\n",
    "        plt.subplot(1,10,i+1)\n",
    "        plt.imshow(x[i].reshape(28,28), cmap='binary')\n",
    "        plt.xticks([])\n",
    "        plt.yticks([])\n",
    "        if labels:\n",
    "            plt.xlabel(np.argmax(p[i]))\n",
    "    plt.show()\n",
    "plot(x_train, None)"
   ]
  },
  {
   "cell_type": "code",
   "execution_count": null,
   "id": "5d471058",
   "metadata": {},
   "outputs": [],
   "source": [
    "plot(x_train_noisy, None)"
   ]
  },
  {
   "cell_type": "markdown",
   "id": "dd3e41fe",
   "metadata": {},
   "source": [
    "## Task 4: Building and Training a Classifier\n",
    "___\n",
    "Note: If you are starting the notebook from this task, you can run cells from all previous tasks in the kernel by going to the top menu and then selecting Kernel > Restart and Run All\n",
    "___"
   ]
  },
  {
   "cell_type": "code",
   "execution_count": null,
   "id": "83aba60e",
   "metadata": {},
   "outputs": [],
   "source": [
    "classifier = Sequential([\n",
    "    Dense(256, activation='relu', input_shape=(784,)),\n",
    "    Dense(256, activation='relu'),\n",
    "    Dense(128, activation='relu'),\n",
    "    Dense(10, activation='softmax')\n",
    "])\n",
    "\n",
    "classifier.compile(\n",
    "    optimizer = 'adam',\n",
    "    loss='sparse_categorical_crossentropy',\n",
    "    metrics=['accuracy']\n",
    ")\n",
    "\n",
    "classifier.summary()"
   ]
  },
  {
   "cell_type": "code",
   "execution_count": null,
   "id": "0671d943",
   "metadata": {},
   "outputs": [],
   "source": [
    "history=classifier.fit(\n",
    "    x_train, y_train,\n",
    "    batch_size=512,\n",
    "    epochs=5\n",
    ")"
   ]
  },
  {
   "cell_type": "code",
   "execution_count": null,
   "id": "c8ae8bd8",
   "metadata": {},
   "outputs": [],
   "source": [
    "loss, accuracy = classifier.evaluate(x_test, y_test)\n",
    "print(accuracy)"
   ]
  },
  {
   "cell_type": "code",
   "execution_count": null,
   "id": "040aac8c",
   "metadata": {},
   "outputs": [],
   "source": [
    "loss, accuracy = classifier.evaluate(x_test_noisy, y_test)\n",
    "print(accuracy)"
   ]
  },
  {
   "cell_type": "markdown",
   "id": "c73ebf39",
   "metadata": {},
   "source": [
    "## Task 5: Building the Autoencoder\n",
    "___\n",
    "Note: If you are starting the notebook from this task, you can run cells from all previous tasks in the kernel by going to the top menu and then selecting Kernel > Restart and Run All\n",
    "___"
   ]
  },
  {
   "cell_type": "code",
   "execution_count": null,
   "id": "f62c54cf",
   "metadata": {},
   "outputs": [],
   "source": [
    "Input_image = Input(shape=(784,))\n",
    "\n",
    "encoded = Dense(64, activation='relu')(Input_image)\n",
    "decoded = Dense(784, activation='sigmoid')(encoded)\n",
    "\n",
    "autoencoder = Model(Input_image, decoded)\n",
    "autoencoder.compile(\n",
    "    optimizer = 'adam',\n",
    "    loss ='binary_crossentropy',\n",
    "    metrics=['accuracy']\n",
    ")\n",
    "autoencoder.summary()"
   ]
  },
  {
   "cell_type": "markdown",
   "id": "a3c38fe2",
   "metadata": {},
   "source": [
    "## Task 6: Training the Autoencoder\n",
    "___\n",
    "Note: If you are starting the notebook from this task, you can run cells from all previous tasks in the kernel by going to the top menu and then selecting Kernel > Restart and Run All\n",
    "___"
   ]
  },
  {
   "cell_type": "code",
   "execution_count": null,
   "id": "39a5cd5a",
   "metadata": {},
   "outputs": [],
   "source": [
    "autoencoder.fit(\n",
    "    x_train_noisy, x_train,\n",
    "    validation_split=0.2,\n",
    "    batch_size=512,\n",
    "    epochs=100,\n",
    "    verbose=False,\n",
    "    callbacks=[\n",
    "        EarlyStopping(monitor='val_loss', patience=5),\n",
    "        LambdaCallback(on_epoch_end=lambda e,l: print('{:.3f}'.format(l['val_loss']), end=' _ '))\n",
    "    ]\n",
    ")\n",
    "\n",
    "print(' _ ')\n",
    "print('Training Done')"
   ]
  },
  {
   "cell_type": "markdown",
   "id": "1f1175d8",
   "metadata": {},
   "source": [
    "## Task 7: Denoised Images\n",
    "___\n",
    "Note: If you are starting the notebook from this task, you can run cells from all previous tasks in the kernel by going to the top menu and then selecting Kernel > Restart and Run All\n",
    "___"
   ]
  },
  {
   "cell_type": "code",
   "execution_count": null,
   "id": "1b7f9e65",
   "metadata": {},
   "outputs": [],
   "source": [
    "predictions = autoencoder.predict(x_test_noisy)"
   ]
  },
  {
   "cell_type": "code",
   "execution_count": null,
   "id": "5f47a293",
   "metadata": {},
   "outputs": [],
   "source": [
    "plot(x_test_noisy, None)"
   ]
  },
  {
   "cell_type": "code",
   "execution_count": null,
   "id": "6b0f5002",
   "metadata": {},
   "outputs": [],
   "source": [
    "plot(predictions, None)"
   ]
  },
  {
   "cell_type": "code",
   "execution_count": null,
   "id": "5faffe15",
   "metadata": {},
   "outputs": [],
   "source": [
    "loss, accuracy = classifier.evaluate(predictions, y_test)\n",
    "print(accuracy)"
   ]
  },
  {
   "cell_type": "markdown",
   "id": "c80ada70",
   "metadata": {},
   "source": [
    "## Task 8: Composite Model\n",
    "___\n",
    "Note: If you are starting the notebook from this task, you can run cells from all previous tasks in the kernel by going to the top menu and then selecting Kernel > Restart and Run All\n",
    "___"
   ]
  },
  {
   "cell_type": "code",
   "execution_count": null,
   "id": "4d90bf14",
   "metadata": {},
   "outputs": [],
   "source": [
    "input_image = Input(shape=(784,))\n",
    "\n",
    "x=autoencoder(input_image)\n",
    "y=classifier(x)\n",
    "\n",
    "denoise_and_classify = Model(input_image, y)"
   ]
  },
  {
   "cell_type": "code",
   "execution_count": null,
   "id": "ffc9429f",
   "metadata": {},
   "outputs": [],
   "source": [
    "predictions = denoise_and_classify.predict(x_test_noisy)"
   ]
  },
  {
   "cell_type": "code",
   "execution_count": null,
   "id": "df9df280",
   "metadata": {},
   "outputs": [],
   "source": [
    "plot(x_test_noisy, predictions, True)"
   ]
  },
  {
   "cell_type": "code",
   "execution_count": null,
   "id": "874f4264",
   "metadata": {},
   "outputs": [],
   "source": [
    "plot(x_test, to_categorical(y_test), True)"
   ]
  }
 ],
 "metadata": {},
 "nbformat": 4,
 "nbformat_minor": 5
}
