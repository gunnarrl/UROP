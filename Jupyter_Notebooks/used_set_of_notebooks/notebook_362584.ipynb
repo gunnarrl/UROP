{
 "cells": [
  {
   "cell_type": "markdown",
   "id": "0c47c883",
   "metadata": {},
   "source": [
    "# Linear Regression"
   ]
  },
  {
   "cell_type": "markdown",
   "id": "86df93b0",
   "metadata": {},
   "source": [
    "## กิจกรรมที่ 1 \n",
    "จุดประสงค์: ให้ผู้เรียนทดลองคำนวณ Linear Regression ด้วยมือ"
   ]
  },
  {
   "cell_type": "markdown",
   "id": "25549807",
   "metadata": {},
   "source": [
    "ให้ผู้เรียนเก็บข้อมูลที่เป็น Numerical data มา 2 อย่าง เช่น \n",
    "1. จำนวน Pokemon ต่อความหนาแน่นของเมือง (https://youtu.be/CtKeHnfK5uA)\n",
    "2. จำนวน Muggle ในประเทศไทย ต่อพื้นที่/ความหนาแน่นของเมือง\n",
    "\n",
    "ให้ลองคำนวณด้วยมือ หรือใช้ Excel ช่วยตามตัวอย่างข้างล่าง\n",
    "https://github.com/reigngt09/MachineLearningFNE"
   ]
  },
  {
   "cell_type": "markdown",
   "id": "aa9154b6",
   "metadata": {},
   "source": [
    "## ระบบตัวอย่าง\n",
    "ใช้ Python แสดงผลกราฟด้วย Matplotlib และ Plotly (วิธีการติดตั้ง https://plot.ly/python/getting-started/) ข้อมูลตัวอย่างใช้ Diabetes dataset (https://scikit-learn.org/stable/datasets/index.html#diabetes-dataset) ซึ่งในการใช้งานจริง จะใช้ข้อมูลตัวอย่างที่นักเรียนน่าจะสนใจมากกว่านี้"
   ]
  },
  {
   "cell_type": "code",
   "execution_count": null,
   "id": "3888cc39",
   "metadata": {},
   "outputs": [],
   "source": [
    "import ipywidgets as widgets\n",
    "from ipywidgets import interact, interact_manual"
   ]
  },
  {
   "cell_type": "code",
   "execution_count": null,
   "id": "8409e6fb",
   "metadata": {},
   "outputs": [],
   "source": [
    "import matplotlib.pyplot as plt\n",
    "import numpy as np\n",
    "from sklearn import datasets, linear_model\n",
    "from sklearn.metrics import mean_squared_error, r2_score\n",
    "\n",
    "# Load the diabetes dataset\n",
    "diabetes_X, diabetes_y = datasets.load_diabetes(return_X_y=True)\n",
    "\n",
    "# Use only one feature (BMI)\n",
    "diabetes_X2D = diabetes_X[:, np.newaxis, 2]\n",
    "# Use only two feature (BMI and Average blood pressure)\n",
    "diabetes_X3D = diabetes_X[:,[2, 3]]"
   ]
  },
  {
   "cell_type": "markdown",
   "id": "4389fa8b",
   "metadata": {},
   "source": [
    "## กิจกรรมที่ 2\n",
    "จุดประสงค์: ให้ผู้เรียนสามารถอธิบายกระบวนการ Tune Parameters ของเทคนิค Linear Regression\n",
    "\n",
    "ให้นักเรียนลองปรับค่า parameter ด้วยมือ เพื่อให้เห็นผลกระทบของ Parameter แต่ละตัว โดยเราจะใช้ data อื่น ที่น่าสนใจสำหรับเด็กกว่านี้ หรือให้นักเรียนสามารถอัพโหลดข้อมูลใส่ในกราฟของเราได้\n",
    "\n",
    "### ส่วนที่ 1 \n",
    "Linear Regression ที่มี 1 Independent Variable จึงต้องปรับ parameters 2 ตัว"
   ]
  },
  {
   "cell_type": "code",
   "execution_count": null,
   "id": "23b3a82e",
   "metadata": {},
   "outputs": [],
   "source": [
    "# Split the data into training/testing sets\n",
    "diabetes_X_train = diabetes_X2D[:-20]\n",
    "diabetes_X_test = diabetes_X2D[-20:]\n",
    "\n",
    "# Split the targets into training/testing sets\n",
    "diabetes_y_train = diabetes_y[:-20]\n",
    "diabetes_y_test = diabetes_y[-20:]"
   ]
  },
  {
   "cell_type": "code",
   "execution_count": null,
   "id": "48672cf1",
   "metadata": {},
   "outputs": [],
   "source": [
    "# Create linear regression object\n",
    "regr = linear_model.LinearRegression()\n",
    "# Train the model using the training sets\n",
    "regr.fit(diabetes_X_train, diabetes_y_train)"
   ]
  },
  {
   "cell_type": "code",
   "execution_count": null,
   "id": "e02414ad",
   "metadata": {},
   "outputs": [],
   "source": [
    "@interact\n",
    "def show_articles_more_than(m=1000, c=100):\n",
    "    # Make predictions using the testing set\n",
    "    regr.coef_[0] = m\n",
    "    regr.intercept_ = c\n",
    "    diabetes_y_pred = regr.predict(diabetes_X_test)\n",
    "\n",
    "    plt.scatter(diabetes_X_test, diabetes_y_test,  color='black')\n",
    "    plt.plot(diabetes_X_test, diabetes_y_pred, color='red', linewidth=3)\n",
    "\n",
    "    plt.xlim=(-0.1, 0.15)\n",
    "    plt.ylim=(0, 350)\n",
    "    plt.title('BMI vs disease progression')\n",
    "    plt.xlabel('Body mass index')\n",
    "    plt.ylabel('Disease Progression')\n",
    "    plt.show()\n",
    "    return m, c"
   ]
  },
  {
   "cell_type": "markdown",
   "id": "ed2441b6",
   "metadata": {},
   "source": [
    "### ส่วนที่ 2\n",
    "Linear Regression ที่มี 2 Independent Variables จึงต้องปรับ parameters 3 ตัว"
   ]
  },
  {
   "cell_type": "code",
   "execution_count": null,
   "id": "d015e22c",
   "metadata": {},
   "outputs": [],
   "source": [
    "# Split the data into training/testing sets\n",
    "diabetes_X_train = diabetes_X3D[:-20]\n",
    "diabetes_X_test = diabetes_X3D[-20:]\n",
    "\n",
    "# Split the targets into training/testing sets\n",
    "diabetes_y_train = diabetes_y[:-20]\n",
    "diabetes_y_test = diabetes_y[-20:]"
   ]
  },
  {
   "cell_type": "code",
   "execution_count": null,
   "id": "049f7720",
   "metadata": {},
   "outputs": [],
   "source": [
    "# Create linear regression object\n",
    "regr = linear_model.LinearRegression()\n",
    "# Train the model using the training sets\n",
    "regr.fit(diabetes_X_train, diabetes_y_train)"
   ]
  },
  {
   "cell_type": "code",
   "execution_count": null,
   "id": "49ab2fd7",
   "metadata": {},
   "outputs": [],
   "source": [
    "x1max, x2max = np.around(diabetes_X_train.max(axis=0), 2)\n",
    "x1min, x2min = np.around(diabetes_X_train.min(axis=0), 2)"
   ]
  },
  {
   "cell_type": "code",
   "execution_count": null,
   "id": "4d9e39c0",
   "metadata": {},
   "outputs": [],
   "source": [
    "[a1, a2] = regr.coef_\n",
    "d = regr.intercept_\n",
    "\n",
    "x1max, x2max = np.around(diabetes_X_train.max(axis=0), 2)\n",
    "x1min, x2min = np.around(diabetes_X_train.min(axis=0), 2)\n",
    "\n",
    "# create x,y\n",
    "xx, yy = np.meshgrid(np.linspace(x1min,x1max,10), np.linspace(x2min,x2max,10))\n",
    "\n",
    "# calculate corresponding z\n",
    "zz = a1*xx + a2*yy + d"
   ]
  },
  {
   "cell_type": "code",
   "execution_count": null,
   "id": "a07cb363",
   "metadata": {},
   "outputs": [],
   "source": [
    "import plotly.graph_objs as go\n",
    "\n",
    "fig = go.FigureWidget(data=\n",
    "                      [go.Scatter3d(x=diabetes_X_train[:,0], \n",
    "                                    y=diabetes_X_train[:,1] , \n",
    "                                    z=diabetes_y_train, \n",
    "                                    mode='markers',\n",
    "                                    opacity=0.9),\n",
    "                      go.Surface(x=xx, y=yy, z=zz, opacity=0.8)])\n",
    "\n",
    "fig.update_traces(marker=dict(size=6,\n",
    "                              line=dict(width=1, color='DarkSlateGrey')),\n",
    "                  selector=dict(mode='markers'))\n",
    "\n",
    "fig.update_layout(title='BMI and average blood pressure vs disease progression',\n",
    "                   scene = dict(\n",
    "                       xaxis = dict(title='BMI'),\n",
    "                       yaxis = dict(title='Average Blood Pressure'),\n",
    "                       zaxis = dict(title='Disease Progression'),),\n",
    "                  autosize=False,\n",
    "                  width=800, height=800,\n",
    "                  margin=dict(l=65, r=50, b=65, t=90))\n",
    "fig"
   ]
  },
  {
   "cell_type": "code",
   "execution_count": null,
   "id": "f194b4a1",
   "metadata": {},
   "outputs": [],
   "source": [
    "@interact\n",
    "def show_articles_more_than(a1=139, a2=912, d=152):\n",
    "    # Make predictions using the testing set\n",
    "    zz = a1*xx + a2*yy + d\n",
    "    bar = fig.data[1]\n",
    "    bar.z = zz\n",
    "    return "
   ]
  },
  {
   "cell_type": "markdown",
   "id": "2ae6d703",
   "metadata": {},
   "source": [
    "## กิจกรรมที่ 3\n",
    "จุดประสงค์: ให้ผู้เรียนสามารถอธิบายผลกระทบของลักษณะ Data ที่มีต่อการสร้าง Linear Regression Model\n",
    "\n",
    "#### **การสุ่มเลือกข้อมูล (Sampling Data)**\n",
    "\n",
    "การเลือกข้อมูล หรือ sampling มีผลต่อ model ที่ได้ (เลือกใช้ข้อมูลที่ผู้เรียนน่าจะสนใจมากกว่านี้)\n",
    "\n",
    "1. ให้เก็บตัวอย่างข้อมูลจากทุกกลุ่มข้อมูล (population) เพื่อไม่ให้ Model มี Bias หรือรู้จำรูปแบบของข้อมูลแค่บางประเภท  "
   ]
  },
  {
   "cell_type": "code",
   "execution_count": null,
   "id": "39de498f",
   "metadata": {},
   "outputs": [],
   "source": [
    "# Split the data into training/testing sets\n",
    "diabetes_X_train = diabetes_X2D[:-20]\n",
    "diabetes_X_test = diabetes_X2D[-20:]\n",
    "\n",
    "# Split the targets into training/testing sets\n",
    "diabetes_y_train = diabetes_y[:-20]\n",
    "diabetes_y_test = diabetes_y[-20:]\n",
    "\n",
    "# Create linear regression object\n",
    "regr = linear_model.LinearRegression()\n",
    "\n",
    "@interact\n",
    "def show_articles_more_than(groups=['A', 'B', 'C']):\n",
    "    # Make predictions using the testing set\n",
    "    # Train the model using the training sets\n",
    "    if groups == 'A':\n",
    "        idx = diabetes_X_train > -np.inf\n",
    "        regr.fit(diabetes_X_train, diabetes_y_train)\n",
    "    elif groups == 'B':\n",
    "        idx = diabetes_X_train > 0.1\n",
    "    else:\n",
    "        idx = diabetes_X_train < -0.05\n",
    "        \n",
    "    regr.fit(diabetes_X_train[idx,np.newaxis], diabetes_y_train[idx.flatten()])\n",
    "    \n",
    "    # Make predictions using the testing set\n",
    "    diabetes_y_pred = regr.predict(diabetes_X_test)\n",
    "\n",
    "    # The coefficients\n",
    "    print('Coefficients: ', regr.coef_[0])\n",
    "    # The mean squared error\n",
    "    print('Mean squared error: %.2f'\n",
    "          % mean_squared_error(diabetes_y_test, diabetes_y_pred))\n",
    "    # The coefficient of determination: 1 is perfect prediction\n",
    "    print('Coefficient of determination: %.2f'\n",
    "          % r2_score(diabetes_y_test, diabetes_y_pred))\n",
    "\n",
    "    # Plot outputs\n",
    "    sc1 = plt.scatter(diabetes_X_train[idx,np.newaxis], diabetes_y_train[idx.flatten()],  color='black')\n",
    "    sc2 = plt.scatter(diabetes_X_train[~idx,np.newaxis], diabetes_y_train[~idx.flatten()],  color='lightgray')\n",
    "    sc3 = plt.scatter(diabetes_X_test, diabetes_y_test,  color='blue')\n",
    "    \n",
    "    plt.plot(diabetes_X_test, diabetes_y_pred, color='red', linewidth=3)\n",
    "\n",
    "    sc1.set_label('Training data')\n",
    "    sc2.set_label('Unknown data')\n",
    "    sc3.set_label('Test data')\n",
    "    \n",
    "    plt.title('BMI vs disease progression in sampling bias settings')\n",
    "    plt.xlabel('Body mass index')\n",
    "    plt.ylabel('Disease Progression')\n",
    "    plt.legend()\n",
    "    plt.show()"
   ]
  },
  {
   "cell_type": "markdown",
   "id": "9519dfbd",
   "metadata": {},
   "source": [
    "2. ระวังชุดข้อมูลที่มีปริมาณข้อมูลบางประเภทมากกว่าประเภทอื่น ๆ เป็นจำนวนมาก (Imbalanced Data)"
   ]
  },
  {
   "cell_type": "code",
   "execution_count": null,
   "id": "08299775",
   "metadata": {},
   "outputs": [],
   "source": [
    "idx1 = np.where(np.bitwise_and(diabetes_X_train < 0.1, diabetes_y_train.reshape((-1,1)) > 200))[0]\n",
    "idx2 = np.where(diabetes_X_train >= 0.1)[0]\n",
    "idx = np.concatenate((idx1[:20], idx2))\n",
    "\n",
    "regr.fit(diabetes_X_train[idx], diabetes_y_train[idx.flatten()])\n",
    "\n",
    "# Make predictions using the testing set\n",
    "diabetes_y_pred = regr.predict(diabetes_X_test)\n",
    "\n",
    "# The coefficients\n",
    "print('Coefficients: ', regr.coef_[0])\n",
    "# The mean squared error\n",
    "print('Mean squared error: %.2f'\n",
    "      % mean_squared_error(diabetes_y_test, diabetes_y_pred))\n",
    "# The coefficient of determination: 1 is perfect prediction\n",
    "print('Coefficient of determination: %.2f'\n",
    "      % r2_score(diabetes_y_test, diabetes_y_pred))\n",
    "\n",
    "# Plot outputs\n",
    "sc2 = plt.scatter(diabetes_X_train, diabetes_y_train,  color='lightgray')\n",
    "sc1 = plt.scatter(diabetes_X_train[idx], diabetes_y_train[idx.flatten()],  color='black')\n",
    "sc3 = plt.scatter(diabetes_X_test, diabetes_y_test,  color='blue')\n",
    "\n",
    "plt.plot(diabetes_X_test, diabetes_y_pred, color='red', linewidth=3)\n",
    "\n",
    "sc1.set_label('Training data')\n",
    "sc2.set_label('Unknown data')\n",
    "sc3.set_label('Test data')\n",
    "\n",
    "plt.title('BMI vs disease progression in imbalanced data setting')\n",
    "plt.xlabel('Body mass index')\n",
    "plt.ylabel('Disease Progression')\n",
    "plt.legend()\n",
    "plt.show()"
   ]
  },
  {
   "cell_type": "markdown",
   "id": "e7859849",
   "metadata": {},
   "source": [
    "## กิจกรรมที่ 4\n",
    "จุดประสงค์: ให้ผู้เรียนทดลองใช้เครื่องมือ (Tools and Libraries) ในการสร้าง Linear Regression Model\n",
    "\n",
    "ให้ทดลองใช้ Scikit-Learn (https://scikit-learn.org/stable/) ในการ Tune Parameters ของ Linear Regression โดย**อัตโนมัติ**"
   ]
  },
  {
   "cell_type": "code",
   "execution_count": null,
   "id": "388ec7e1",
   "metadata": {},
   "outputs": [],
   "source": [
    "# Train the model using the training sets\n",
    "regr.fit(diabetes_X_train, diabetes_y_train)\n",
    "\n",
    "# Make predictions using the testing set\n",
    "diabetes_y_pred = regr.predict(diabetes_X_test)\n",
    "\n",
    "# The coefficients\n",
    "print('Coefficients: ', regr.coef_[0])\n",
    "# The mean squared error\n",
    "print('Mean squared error: %.2f'\n",
    "      % mean_squared_error(diabetes_y_test, diabetes_y_pred))\n",
    "# The coefficient of determination: 1 is perfect prediction\n",
    "print('Coefficient of determination: %.2f'\n",
    "      % r2_score(diabetes_y_test, diabetes_y_pred))\n",
    "\n",
    "# Plot outputs\n",
    "plt.scatter(diabetes_X_test, diabetes_y_test,  color='black')\n",
    "plt.plot(diabetes_X_test, diabetes_y_pred, color='red', linewidth=3)\n",
    "\n",
    "plt.xticks(())\n",
    "plt.yticks(())\n",
    "\n",
    "plt.title('BMI vs disease progression')\n",
    "plt.xlabel('Body mass index')\n",
    "plt.ylabel('Disease Progression')\n",
    "plt.show()"
   ]
  },
  {
   "cell_type": "markdown",
   "id": "ba0f3f14",
   "metadata": {},
   "source": [
    "## กิจกรรมที่ 5\n",
    "จุดประสงค์: ให้ผู้เรียนสามารถอธิบายข้อจำกัดของ Linear Regression Model ได้\n",
    "\n",
    "1. เหมาะกับข้อมูลที่สัมพันธ์กันในรูปแบบ Linear เท่านั้น (Linear Regression Is Limited to Linear Relationships)\n",
    "\n",
    "หาชุดข้อมูลที่แสดงให้เห็น limitation ถึงจุดนี้ แล้วให้นักเรียนลองหาค่า parameter ด้วยมือหรือ app ก็จะพบว่าได้คำตอบที่ไม่ค่อยแม่นยำ\n",
    "\n",
    "2. Linear Regression มีการเปลี่ยนแปลงไวต่อค่าผิดปกติ หรือ Outliers (Sensitive to Outliers)\n",
    "\n",
    "หาชุดข้อมูลที่แสดงให้เห็น limitation ถึงจุดนี้ แล้วให้นักเรียนลองหาค่า parameter ด้วยมือหรือ app ก็จะพบว่าได้คำตอบที่ไม่ได้สนใจ Outliers หรือไม่เหมาะกับข้อมูลส่วนใหญ่\n"
   ]
  },
  {
   "cell_type": "markdown",
   "id": "05faf576",
   "metadata": {},
   "source": [
    "## กิจกรรมที่ 6\n",
    "จุดประสงค์: ให้ผู้เรียนทดลองใช้เทคนิค Linear Regression Model ในการแก้ปัญหาในชีวิตจริง\n",
    "\n",
    "ให้นักเรียนตั้งโจทย์ เก็บข้อมูล แล้วทดลองใช้ Linear Regression ในการแก้ปัญหานั้น"
   ]
  }
 ],
 "metadata": {},
 "nbformat": 4,
 "nbformat_minor": 5
}
