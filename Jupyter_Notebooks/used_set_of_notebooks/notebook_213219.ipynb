{
 "cells": [
  {
   "cell_type": "code",
   "execution_count": null,
   "id": "ce2c763d",
   "metadata": {},
   "outputs": [],
   "source": [
    "import numpy as np\n",
    "import scipy as sp\n",
    "from scipy import optimize\n",
    "import matplotlib.pyplot as plt\n",
    "from sympy.solvers import solve\n",
    "from sympy import Symbol\n",
    "import math as mt\n",
    "#pyomo"
   ]
  },
  {
   "cell_type": "markdown",
   "id": "2906c560",
   "metadata": {},
   "source": [
    "## Problem 1"
   ]
  },
  {
   "cell_type": "code",
   "execution_count": null,
   "id": "7733e785",
   "metadata": {},
   "outputs": [],
   "source": [
    "#define parameters\n",
    "R = 5.0\n",
    "C = 2.0\n",
    "mu = 10.0\n",
    "lambd = 8.0\n",
    "rho = lambd/mu"
   ]
  },
  {
   "cell_type": "code",
   "execution_count": null,
   "id": "12a9e626",
   "metadata": {},
   "outputs": [],
   "source": [
    "#define social rate function\n",
    "def f(n):\n",
    "    return lambd*R*((1-rho**n)/(1-rho**(n+1)))-(C*((rho/(1-rho))-((n+1)*rho**(n+1))/(1-rho**(n+1))))"
   ]
  },
  {
   "cell_type": "code",
   "execution_count": null,
   "id": "cb8e4459",
   "metadata": {},
   "outputs": [],
   "source": [
    "#plot expected social benefit rate vs n\n",
    "\n",
    "for n in range(1,40,1):\n",
    "    plt.plot(n, f(n), marker = \"o\")\n",
    "plt.title('expected social benefit rate vs n')\n",
    "plt.show()"
   ]
  },
  {
   "cell_type": "code",
   "execution_count": null,
   "id": "3ec22c5e",
   "metadata": {},
   "outputs": [],
   "source": [
    "#find the exact max value and associated n value, define the benefit\n",
    "#rate again\n",
    "def SO(n):\n",
    "    return lambd*R*((1-rho**n[0])/(1-rho**(n[0]+1)))-C*((rho/(1-rho))-((n[0]+1)*rho**(n[0]+1))/(1-rho**(n[0]+1)))"
   ]
  },
  {
   "cell_type": "code",
   "execution_count": null,
   "id": "5f847c27",
   "metadata": {},
   "outputs": [],
   "source": [
    "sp.optimize.fmin(lambda n: -SO(n), np.array([0,0]))"
   ]
  },
  {
   "cell_type": "markdown",
   "id": "7f704b7c",
   "metadata": {},
   "source": [
    "### As shown above result, when n* $\\approx$ 8, the social benefit rate reaches maximum where the social maximum rate is about 33.24."
   ]
  },
  {
   "cell_type": "code",
   "execution_count": null,
   "id": "af3670a1",
   "metadata": {},
   "outputs": [],
   "source": [
    "#calculate individual optimize system size\n",
    "n_e = (R * mu)/C\n",
    "print(n_e)"
   ]
  },
  {
   "cell_type": "markdown",
   "id": "655d5d71",
   "metadata": {},
   "source": [
    "### n* = 10 < $n_{e}$ = 25, socially optimal system size is less than the individually optimal system size $n_{e}$."
   ]
  },
  {
   "cell_type": "code",
   "execution_count": null,
   "id": "8af7b567",
   "metadata": {},
   "outputs": [],
   "source": [
    "p = Symbol('p')\n",
    "solve(((R - p)*mu)/C - 8, p)"
   ]
  },
  {
   "cell_type": "markdown",
   "id": "0dd08b89",
   "metadata": {},
   "source": [
    "### when p = 3.4, n* = $n_{e}$, the lowest toll is 3.4."
   ]
  },
  {
   "cell_type": "markdown",
   "id": "19ef89d7",
   "metadata": {},
   "source": [
    "## Problem 2"
   ]
  },
  {
   "cell_type": "code",
   "execution_count": null,
   "id": "aff24ece",
   "metadata": {},
   "outputs": [],
   "source": [
    "def z_n(n):\n",
    "    return lambd*((1-rho**n)/(1-rho**(n+1)))*(R - (C*n)/mu)"
   ]
  },
  {
   "cell_type": "code",
   "execution_count": null,
   "id": "5d8d3185",
   "metadata": {},
   "outputs": [],
   "source": [
    "for n in range(1,40,1):\n",
    "    plt.plot(n, z_n(n), marker = \"o\")\n",
    "plt.title('expected profit rate vs n')\n",
    "plt.show()"
   ]
  },
  {
   "cell_type": "code",
   "execution_count": null,
   "id": "7c2e26e2",
   "metadata": {},
   "outputs": [],
   "source": [
    "#define the profit function again in array form for optimizer\n",
    "def z_n_a(n):\n",
    "    return lambd*((1-rho**n[0])/(1-rho**(n[0]+1)))*(R - (C*n[0])/mu)"
   ]
  },
  {
   "cell_type": "code",
   "execution_count": null,
   "id": "0e773f59",
   "metadata": {},
   "outputs": [],
   "source": [
    "sp.optimize.fmin(lambda n: -z_n_a(n), np.array([0,0]))"
   ]
  },
  {
   "cell_type": "markdown",
   "id": "66e50bba",
   "metadata": {},
   "source": [
    "### $n_{m}$ $\\approx$ 4, $n_{m}$ < n*"
   ]
  },
  {
   "cell_type": "markdown",
   "id": "1be07561",
   "metadata": {},
   "source": [
    "## Problem 4"
   ]
  },
  {
   "cell_type": "code",
   "execution_count": null,
   "id": "940b2cde",
   "metadata": {},
   "outputs": [],
   "source": [
    "rho4 = 0.95\n",
    "def p0_cal(c):\n",
    "    sec_part = 0\n",
    "    for j in range(0, c, 1):\n",
    "        sec_part = sec_part + ((c*rho4)**j)/mt.factorial(j)\n",
    "    return (((c*rho4)**c)/((1-rho4)*mt.factorial(c)) + sec_part)**(-1)"
   ]
  },
  {
   "cell_type": "code",
   "execution_count": null,
   "id": "1acead85",
   "metadata": {},
   "outputs": [],
   "source": [
    "for c in [1, 2, 4, 8, 16, 32]:\n",
    "    p0 = p0_cal(c)\n",
    "    d_frac = p0*((c**c)/mt.factorial(c))*((rho4**c)/(1 - rho4))\n",
    "    d_exp = (1/(1 - rho4*(1/c))) * d_frac\n",
    "    print('c = ', c, \",\", 'fraction delayed = ', d_frac, ', expected delay time = ', d_exp)"
   ]
  }
 ],
 "metadata": {},
 "nbformat": 4,
 "nbformat_minor": 5
}
