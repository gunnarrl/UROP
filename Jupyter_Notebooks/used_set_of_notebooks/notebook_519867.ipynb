{
 "cells": [
  {
   "cell_type": "markdown",
   "id": "d7effc5e",
   "metadata": {},
   "source": [
    "## Select galaxies (for the LSLGA) from G<18 Gaia sources\n",
    "\n",
    "The goal of this notebook is to develop a set of cuts that we can use to find galaxies which will otherwise be \"forced PSF\" in DR9.\n",
    "\n",
    "Before running this notebook, some preparatory work needs to be done to generate a set of sweep catalogs containing *just* *G<18* Gaia stars. The details are documented in `/global/cfs/cdirs/desi/users/ioannis/lslga-from-gaia/README`, but briefly, we select ~22M Gaia point sources using the following cuts:\n",
    "\n",
    "```\n",
    "BRICK_PRIMARY == True &\n",
    "GAIA_PHOT_G_MEAN_MAG > 0 & \n",
    "GAIA_PHOT_G_MEAN_MAG < 18 & \n",
    "GAIA_ASTROMETRIC_EXCESS_NOISE < 10**0.5 &\n",
    "(MASKBITS & 0x2) == 0 &\n",
    "(MASKBITS & 0x2000) == 0 &\n",
    "FLUX_R > 0 &\n",
    "FLUX_W1 > 0 &\n",
    "ALLMASK_G == 0\n",
    "ALLMASK_R == 0\n",
    "ALLMASK_z == 0\n",
    "NOBS_G > 0\n",
    "NOBS_R > 0\n",
    "NOBS_Z > 0\n",
    "```\n",
    "\n",
    "Once that's done, this notebook can be run."
   ]
  },
  {
   "cell_type": "code",
   "execution_count": null,
   "id": "b45df26d",
   "metadata": {},
   "outputs": [],
   "source": [
    "import os, pdb\n",
    "import fitsio\n",
    "import numpy as np\n",
    "import matplotlib.pyplot as plt\n",
    "from glob import glob\n",
    "from astropy.table import vstack, Table\n",
    "from astrometry.libkd.spherematch import match_radec"
   ]
  },
  {
   "cell_type": "code",
   "execution_count": null,
   "id": "205ccd82",
   "metadata": {},
   "outputs": [],
   "source": [
    "import seaborn as sns\n",
    "sns.set(context='talk', style='ticks', font_scale=1.4)\n",
    "%matplotlib inline"
   ]
  },
  {
   "cell_type": "code",
   "execution_count": null,
   "id": "4b7072c3",
   "metadata": {},
   "outputs": [],
   "source": [
    "dr8dir = '/global/project/projectdirs/cosmo/data/legacysurvey/dr8/'\n",
    "outdir = '/global/project/projectdirs/desi/users/ioannis/lslga-from-gaia'"
   ]
  },
  {
   "cell_type": "markdown",
   "id": "0c2264e7",
   "metadata": {},
   "source": [
    "#### Read the SDSS training sample.\n",
    "\n",
    "Train our selection using the set of spectroscopically confirmed SDSS galaxies which would otherwise be forced PSF."
   ]
  },
  {
   "cell_type": "code",
   "execution_count": null,
   "id": "5d213ef8",
   "metadata": {},
   "outputs": [],
   "source": [
    "def read_gaia_psf_sdss(clobber=False):\n",
    "    outfile = os.path.join(outdir, 'dr8-gaia-psf-sdss.fits')\n",
    "    if os.path.isfile(outfile) and not clobber:\n",
    "        out = Table.read(outfile)\n",
    "        print('Read {} galaxies from {}'.format(len(out), outfile))\n",
    "    else:\n",
    "        sdss = fitsio.read('/global/cfs/cdirs/cosmo/work/sdss/cats/specObj-dr14.fits')\n",
    "        out = []\n",
    "        for region in ('north', 'south'):\n",
    "            print('Working on {}'.format(region))\n",
    "            ext = fitsio.read(os.path.join(dr8dir, region, 'external', \n",
    "                                           'survey-dr8-{}-specObj-dr14.fits'.format(region)))\n",
    "            keep = np.where((ext['GAIA_PHOT_G_MEAN_MAG'] > 0) * \n",
    "                            (ext['GAIA_PHOT_G_MEAN_MAG'] < 18) * \n",
    "                            (ext['GAIA_ASTROMETRIC_EXCESS_NOISE'] < 10.**0.5) * \n",
    "                            (ext['FLUX_W1'] > 0) * \n",
    "                            (ext['FLUX_R'] > 0) * \n",
    "                            ((sdss['PRIMTARGET'] & 2**6) != 0) * \n",
    "                            (sdss['Z'] > 0.001) * (sdss['Z'] < 1) * \n",
    "                            (sdss['ZWARNING'] == 0))[0]\n",
    "            if len(keep) > 0:\n",
    "                out.append(Table(ext[keep]))\n",
    "        out = vstack(out)\n",
    "        out.write(outfile, overwrite=True)\n",
    "    return out               "
   ]
  },
  {
   "cell_type": "code",
   "execution_count": null,
   "id": "16b78678",
   "metadata": {},
   "outputs": [],
   "source": [
    "%time specz = read_gaia_psf_sdss(clobber=False)\n",
    "#m1, m2, _ = match_radec(specz['RA'], specz['DEC'], specz['RA'], specz['DEC'], 1/3600, nearest=False)\n",
    "#print(len(m1), len(specz))"
   ]
  },
  {
   "cell_type": "code",
   "execution_count": null,
   "id": "1236795d",
   "metadata": {},
   "outputs": [],
   "source": [
    "#ext = fitsio.read(os.path.join(dr8dir, 'north', 'external', 'survey-dr8-north-specObj-dr14.fits'))\n",
    "#m1, m2, _ = match_radec(ext['RA'], ext['DEC'], ext['RA'], ext['DEC'], 1/3600, nearest=False)\n",
    "#print(len(m1), len(ext))"
   ]
  },
  {
   "cell_type": "markdown",
   "id": "f22fcf5b",
   "metadata": {},
   "source": [
    "#### Next, assemble the full catalog of forced-PSF Gaia sources from DR8."
   ]
  },
  {
   "cell_type": "markdown",
   "id": "c1de5960",
   "metadata": {},
   "source": [
    "Merge the sweeps together that were generated using `/global/cfs/cdirs/desi/users/ioannis/lslga-from-gaia/build-gaia-psf`. For DR8 this step takes approximately 7 minutes to generate it for the first time, or roughly 45 seconds to read it in."
   ]
  },
  {
   "cell_type": "code",
   "execution_count": null,
   "id": "3cb279b8",
   "metadata": {},
   "outputs": [],
   "source": [
    "def read_gaia_psf(clobber=False):    \n",
    "    outfile = os.path.join(outdir, 'dr8-gaia-psf.fits')\n",
    "    if os.path.isfile(outfile) and not clobber:\n",
    "        out = Table(fitsio.read(outfile))\n",
    "        print('Read {} objects from {}'.format(len(out), outfile))\n",
    "    else:\n",
    "        out = []\n",
    "        for region in ['north', 'south']:\n",
    "            print('Working on {}'.format(region))\n",
    "            sweepdir = os.path.join(outdir, 'sweep-{}-gaia'.format(region))\n",
    "            catfile = glob(os.path.join(sweepdir, 'sweep*.fits'))\n",
    "            for ii, ff in enumerate(catfile):\n",
    "                if ii % 50 == 0:\n",
    "                    print('{} / {}'.format(ii, len(catfile)))\n",
    "                cc = fitsio.read(ff)\n",
    "                if len(cc) > 0:\n",
    "                    out.append(Table(cc))\n",
    "        out = vstack(out)\n",
    "        print('Writing {} objects to {}'.format(len(out), outfile))\n",
    "        out.write(outfile, overwrite=True)\n",
    "    return out"
   ]
  },
  {
   "cell_type": "code",
   "execution_count": null,
   "id": "53358d62",
   "metadata": {},
   "outputs": [],
   "source": [
    "%time cat = read_gaia_psf(clobber=True)"
   ]
  },
  {
   "cell_type": "markdown",
   "id": "70f5f7bd",
   "metadata": {},
   "source": [
    "### Make some plots and develop the selection."
   ]
  },
  {
   "cell_type": "code",
   "execution_count": null,
   "id": "aec7fa68",
   "metadata": {},
   "outputs": [],
   "source": [
    "def getmags(cat):\n",
    "    gmag = cat['GAIA_PHOT_G_MEAN_MAG']\n",
    "    bp = cat['GAIA_PHOT_BP_MEAN_MAG']\n",
    "    rp = cat['GAIA_PHOT_RP_MEAN_MAG']\n",
    "    rmag = 22.5-2.5*np.log10(cat['FLUX_R'])\n",
    "    Wmag = 22.5-2.5*np.log10(cat['FLUX_W1'])\n",
    "    resid = cat['APFLUX_RESID_R'][:, 5]/10**(-0.4*(gmag-22.5))\n",
    "    #resid = cat['APFLUX_RESID_R'][:, 7]/cat['FLUX_R']\n",
    "    chi2 = cat['RCHISQ_R']\n",
    "    return gmag-Wmag, bp-rp, resid, chi2\n",
    "\n",
    "gW, bprp, resid, chi2 = getmags(cat)\n",
    "sgW, sbprp, sresid, schi2 = getmags(specz)\n",
    "\n",
    "xlim, ylim = (-0.3, 4), (0, 3.5)\n",
    "\n",
    "# north cuts\n",
    "#x0, x1, x2, x3 = (0.2, 0.2, 0.55, 5.0)\n",
    "#y0, y1, y2, y3 = (  _, 1.7, 1.0, 1.0)\n",
    "# north/south\n",
    "x0, x1, x2, x3 = (0.25, 0.25, 0.55, 5.0)\n",
    "y0, y1, y2, y3 = (  _, 1.7, 1.2, 1.2)\n",
    "\n",
    "c1 = np.polyfit([x1, x2], [y1, y2], 1)\n",
    "c2 = np.polyfit([x2, x3], [y2, y3], 1)\n",
    "print('Cut 1: x>{:.2f}'.format(x0))\n",
    "print('Cut 2: y>{:.4f}x + {:.4f}'.format(c1[0], c1[1]))\n",
    "print('Cut 3: y>{:.2f}'.format(c2[0]))\n",
    "#print(c1, c2)\n",
    "\n",
    "J = np.where((resid > x0) * (gW > np.polyval(c1, resid)) * (gW > np.polyval(c2, resid)))[0]\n",
    "I = np.where((sresid > x0) * (sgW > np.polyval(c1, sresid)) * (sgW > np.polyval(c2, sresid)))[0]\n",
    "\n",
    "print('Selected SDSS-specz galaxies: N={}/{} ({:.4f}%)'.format(len(I), len(specz), 100*len(I)/len(specz)))\n",
    "print('Candidate LSLGA-Gaia galaxies: N={}/{} ({:.4f}%)'.format(len(J), len(cat), 100*len(J)/len(cat)))\n",
    "#print(len(J), len(cat), len(J)/len(cat))\n",
    "\n",
    "fig, ax = plt.subplots(figsize=(12, 10))\n",
    "ax.hexbin(resid, gW, mincnt=3, cmap='Greys_r',\n",
    "          extent=np.hstack((xlim, ylim)))\n",
    "ax.scatter(resid[J], gW[J], s=10, marker='s', alpha=0.7,\n",
    "           label='Candidate galaxies (N={})'.format(len(J)))\n",
    "ax.scatter(sresid, sgW, s=15, marker='o', alpha=0.7,\n",
    "           label='SDSS-specz (N={})'.format(len(specz)))\n",
    "ax.plot([x0, x0], [y1, ylim[1]], color='red', lw=2)\n",
    "ax.plot([x1, x2], [y1, y2], color='red', lw=2)\n",
    "ax.plot([x2, x3], [y2, y3], color='red', lw=2)\n",
    "ax.set_xlim(xlim)\n",
    "ax.set_ylim(ylim)\n",
    "ax.set_xlabel(r'Residual Aperture $r$ Flux (7\" diameter) / Gaia $G$ flux')\n",
    "ax.set_ylabel(r'$G - W_{1}$ (mag)')\n",
    "#_ = ax.set_title(r'$0 < G < 18$ & AEN $< 10^{0.5}$')\n",
    "ax.text(0.93, 0.9, r'$0 < G < 18$ & AEN $< 10^{0.5}$', \n",
    "        ha='right', va='bottom', transform=ax.transAxes,\n",
    "        fontsize=20)\n",
    "hh, ll = ax.get_legend_handles_labels()\n",
    "#print(ll)\n",
    "ax.legend(hh[1:], ll[1:], loc='lower right', fontsize=18)\n",
    "\n",
    "fig.subplots_adjust(left=0.13, bottom=0.12, top=0.95)\n",
    "\n",
    "pngfile = os.path.join(outdir, 'dr8-gaia-psf-galaxies.png')\n",
    "print('Writing {}'.format(pngfile))\n",
    "fig.savefig(pngfile)"
   ]
  },
  {
   "cell_type": "markdown",
   "id": "b3a84a94",
   "metadata": {},
   "source": [
    "Might as well add all the SDSS galaxies to the output sample, irrespective of where they lie."
   ]
  },
  {
   "cell_type": "code",
   "execution_count": null,
   "id": "8834c70c",
   "metadata": {},
   "outputs": [],
   "source": [
    "K = []\n",
    "for brickid in set(specz['BRICKID']):\n",
    "    W = np.where(brickid == specz['BRICKID'])[0]\n",
    "    for ww in W:\n",
    "        K.append(np.where((cat['BRICKID'] == brickid) * (cat['OBJID'] == specz['OBJID'][ww]))[0])\n",
    "K = np.unique(np.hstack(K))\n",
    "print('Matched {} unique galaxies from the parent SDSS-Gaia sample.'.format(len(K)))"
   ]
  },
  {
   "cell_type": "code",
   "execution_count": null,
   "id": "7a1bcc55",
   "metadata": {},
   "outputs": [],
   "source": [
    "Jfinal = np.unique(np.hstack((J, K)))\n",
    "print('Original sample = {}, final sample = {}'.format(len(J), len(Jfinal)))"
   ]
  },
  {
   "cell_type": "code",
   "execution_count": null,
   "id": "cd7f9eb7",
   "metadata": {},
   "outputs": [],
   "source": [
    "#m1, m2, _ = match_radec(cat['RA'][J], cat['DEC'][J], specz['RA'], specz['DEC'], 1/3600.0, nearest=True)\n",
    "#missed = np.delete(np.arange(len(specz)), m2)\n",
    "#print('Selected SDSS galaxies {}/{}, missing {}.'.format(len(m2), len(specz), len(missed)))\n",
    "#k1, k2, _ = match_radec(cat['RA'], cat['DEC'], specz['RA'][missed], specz['DEC'][missed], \n",
    "#                        1/3600.0, nearest=True)\n",
    "#print('Found {}/{} of the missed SDSS galaxies.'.format(len(k2), len(missed)))"
   ]
  },
  {
   "cell_type": "code",
   "execution_count": null,
   "id": "ca77c55d",
   "metadata": {},
   "outputs": [],
   "source": [
    "# check\n",
    "#m1, m2, _ = match_radec(cat['RA'][Jfinal], cat['DEC'][Jfinal], specz['RA'], specz['DEC'], 2/3600.0, nearest=True)\n",
    "#print(len(m2), len(specz))\n",
    "#missed = np.delete(np.arange(len(specz)), m2)\n",
    "#specz[missed]\n",
    "#assert(len(m2)==len(specz))"
   ]
  },
  {
   "cell_type": "code",
   "execution_count": null,
   "id": "7a31ef15",
   "metadata": {},
   "outputs": [],
   "source": [
    "for ra, dec in zip(cat['RA'][Jfinal[:500]], cat['DEC'][Jfinal[:500]]):\n",
    "    if dec < 30:\n",
    "        print(ra, dec)"
   ]
  },
  {
   "cell_type": "code",
   "execution_count": null,
   "id": "fe0f381b",
   "metadata": {},
   "outputs": [],
   "source": [
    "# We get this broadline QSO now!!\n",
    "# http://legacysurvey.org/viewer-dev?ra=178.6654&dec=34.8714&layer=dr8-resid&zoom=14&lslga&masks-dr9&spectra\n",
    "#match_radec(cat['RA'][Jfinal], cat['DEC'][Jfinal], 178.6654, 34.8714, 1/3600, nearest=True)"
   ]
  },
  {
   "cell_type": "markdown",
   "id": "f83b0af8",
   "metadata": {},
   "source": [
    "#### Write out."
   ]
  },
  {
   "cell_type": "code",
   "execution_count": null,
   "id": "eeea8684",
   "metadata": {},
   "outputs": [],
   "source": [
    "outfile = os.path.join(outdir, 'dr8-gaia-psf-galaxies.fits')\n",
    "print('Writing {} galaxies to {}'.format(len(Jfinal), outfile))\n",
    "cat[Jfinal].write(outfile, overwrite=True)"
   ]
  }
 ],
 "metadata": {},
 "nbformat": 4,
 "nbformat_minor": 5
}
