{
 "cells": [
  {
   "cell_type": "markdown",
   "id": "892d0ba3",
   "metadata": {},
   "source": [
    "## Imports"
   ]
  },
  {
   "cell_type": "code",
   "execution_count": null,
   "id": "c014e45a",
   "metadata": {},
   "outputs": [],
   "source": [
    "from sklearn.decomposition import TruncatedSVD\n",
    "from sklearn.datasets import load_iris\n",
    "from sklearn.model_selection import train_test_split\n",
    "from mpl_toolkits.mplot3d import Axes3D\n",
    "import matplotlib\n",
    "import matplotlib.pyplot as plt\n",
    "import seaborn as sns\n",
    "import numpy as np\n",
    "from PIL import Image\n",
    "from sklearn.linear_model import LogisticRegression"
   ]
  },
  {
   "cell_type": "markdown",
   "id": "a0c39433",
   "metadata": {},
   "source": [
    "## Get Data"
   ]
  },
  {
   "cell_type": "code",
   "execution_count": null,
   "id": "7b15fb9e",
   "metadata": {},
   "outputs": [],
   "source": [
    "iris = load_iris()\n",
    "data = iris.data\n",
    "target = iris.target"
   ]
  },
  {
   "cell_type": "markdown",
   "id": "ae25df0b",
   "metadata": {},
   "source": [
    "## Description"
   ]
  },
  {
   "cell_type": "code",
   "execution_count": null,
   "id": "398a329c",
   "metadata": {},
   "outputs": [],
   "source": [
    "print(iris.DESCR)"
   ]
  },
  {
   "cell_type": "markdown",
   "id": "020d09d5",
   "metadata": {},
   "source": [
    "## 2D Plots"
   ]
  },
  {
   "cell_type": "markdown",
   "id": "3de4c8e5",
   "metadata": {},
   "source": [
    "## 3D Plot"
   ]
  },
  {
   "cell_type": "code",
   "execution_count": null,
   "id": "dbe3f135",
   "metadata": {},
   "outputs": [],
   "source": [
    "fig = plt.figure(1, figsize=(8, 6))\n",
    "colors = ['red','green','blue']\n",
    "ax = Axes3D(fig, elev=20, azim=135)\n",
    "ax.scatter(data[:,0], data[:,1], data[:,2], \n",
    "           c=target, \n",
    "           cmap=matplotlib.colors.ListedColormap(colors))\n",
    "ax.set_title(\"Iris Dataset\")\n",
    "ax.set_xlabel(\"sepal length\")\n",
    "ax.w_xaxis.set_ticklabels([])\n",
    "ax.set_ylabel(\"sepal width\")\n",
    "ax.w_yaxis.set_ticklabels([])\n",
    "ax.set_zlabel(\"petal length\")\n",
    "ax.w_zaxis.set_ticklabels([])\n",
    "ax.legend(['Iris-Setosa'])\n",
    "\n",
    "plt.show()"
   ]
  },
  {
   "cell_type": "markdown",
   "id": "3d227576",
   "metadata": {},
   "source": [
    "## SVD - Explained Variance"
   ]
  },
  {
   "cell_type": "code",
   "execution_count": null,
   "id": "30a2ac08",
   "metadata": {},
   "outputs": [],
   "source": [
    "svd = TruncatedSVD(n_components=3, random_state=42)\n",
    "svd.fit(data)\n",
    "exp_var = svd.explained_variance_ratio_"
   ]
  },
  {
   "cell_type": "code",
   "execution_count": null,
   "id": "e7a11d12",
   "metadata": {},
   "outputs": [],
   "source": [
    "plt.bar(range(3), exp_var, color='blue', align='center')\n",
    "plt.xticks(range(3), ('1st Comp', '2nd Comp', '3rd Comp'))\n",
    "plt.title('% explained variance')\n",
    "plt.show()"
   ]
  },
  {
   "cell_type": "markdown",
   "id": "8b298832",
   "metadata": {},
   "source": [
    "## Train/Test Split"
   ]
  },
  {
   "cell_type": "code",
   "execution_count": null,
   "id": "3d48d4ea",
   "metadata": {},
   "outputs": [],
   "source": [
    "X_train, X_test, y_train, y_test = train_test_split(data, target, \n",
    "                                                    test_size=0.2, \n",
    "                                                    random_state=99,\n",
    "                                                    stratify=target)"
   ]
  },
  {
   "cell_type": "markdown",
   "id": "0bbcbeac",
   "metadata": {},
   "source": [
    "## SVD on Iris"
   ]
  },
  {
   "cell_type": "code",
   "execution_count": null,
   "id": "05c89780",
   "metadata": {},
   "outputs": [],
   "source": [
    "svd = TruncatedSVD(n_components=2, random_state=42)\n",
    "svd.fit(X_train)\n",
    "X_train_svd = svd.transform(X_train)\n",
    "X_test_svd = svd.transform(X_test)"
   ]
  },
  {
   "cell_type": "code",
   "execution_count": null,
   "id": "a24ce149",
   "metadata": {},
   "outputs": [],
   "source": [
    "plt.scatter(X_train_svd[:,0], X_train_svd[:,1], \n",
    "            c=y_train, \n",
    "            cmap=matplotlib.colors.ListedColormap(colors))\n",
    "plt.title('SVD w/2 Components -- Train')\n",
    "plt.show()"
   ]
  },
  {
   "cell_type": "code",
   "execution_count": null,
   "id": "b080bcc4",
   "metadata": {},
   "outputs": [],
   "source": [
    "plt.scatter(X_test_svd[:,0], X_test_svd[:,1], \n",
    "            c=y_test, \n",
    "            cmap=matplotlib.colors.ListedColormap(colors))\n",
    "plt.title('SVD w/2 Components -- Test')\n",
    "plt.show()"
   ]
  },
  {
   "cell_type": "markdown",
   "id": "5c4612a3",
   "metadata": {},
   "source": [
    "## Modeling"
   ]
  },
  {
   "cell_type": "code",
   "execution_count": null,
   "id": "51a07160",
   "metadata": {},
   "outputs": [],
   "source": [
    "# w/out SVD\n",
    "lr1 = LogisticRegression(penalty='l2', \n",
    "                        random_state=12, \n",
    "                        multi_class='ovr')\n",
    "lr1.fit(X_train, y_train)"
   ]
  },
  {
   "cell_type": "code",
   "execution_count": null,
   "id": "e140267d",
   "metadata": {},
   "outputs": [],
   "source": [
    "print('In-sample:{:7.3f}'.format(lr1.score(X_train, y_train)))\n",
    "print('Out-sample: {:.3f}'.format(lr1.score(X_test, y_test)))"
   ]
  },
  {
   "cell_type": "code",
   "execution_count": null,
   "id": "7a1e1555",
   "metadata": {},
   "outputs": [],
   "source": [
    "# w/SVD\n",
    "lr2 = LogisticRegression(penalty='l2', \n",
    "                        random_state=12, \n",
    "                        multi_class='ovr')\n",
    "lr2.fit(X_train_svd, y_train)"
   ]
  },
  {
   "cell_type": "code",
   "execution_count": null,
   "id": "97600e7d",
   "metadata": {},
   "outputs": [],
   "source": [
    "print('In-sample:{:7.3f}'.format(lr2.score(X_train_svd, y_train)))\n",
    "print('Out-sample: {:.3f}'.format(lr2.score(X_test_svd, y_test)))"
   ]
  },
  {
   "cell_type": "markdown",
   "id": "8b601492",
   "metadata": {},
   "source": [
    "## Images"
   ]
  },
  {
   "cell_type": "code",
   "execution_count": null,
   "id": "0b943616",
   "metadata": {},
   "outputs": [],
   "source": [
    "# Read image and convert to grayscale\n",
    "img = Image.open('/Users/davidziganto/images/f35.jpg')\n",
    "imggray = img.convert('LA')\n",
    "\n",
    "fig = plt.figure(figsize=(18, 12)) ## Figure object\n",
    "ax1 = fig.add_subplot(1, 2, 1) \n",
    "ax2 = fig.add_subplot(1, 2, 2)\n",
    "ax1.imshow(img)\n",
    "ax2.imshow(imggray);\n",
    "plt.show()"
   ]
  },
  {
   "cell_type": "code",
   "execution_count": null,
   "id": "ee26a2d5",
   "metadata": {},
   "outputs": [],
   "source": [
    "def convert_img_to_numpy(image):\n",
    "    pass"
   ]
  },
  {
   "cell_type": "code",
   "execution_count": null,
   "id": "5ba7458f",
   "metadata": {},
   "outputs": [],
   "source": [
    "def SVD(image, n_comps=3):\n",
    "    \n",
    "    U, sigma, V = np.linalg.svd(imgmat)\n",
    "    \n",
    "    return np.matrix(U[:, :n_comps]) * np.diag(sigma[:n_comps]) * np.matrix(V[:n_comps, :])"
   ]
  }
 ],
 "metadata": {},
 "nbformat": 4,
 "nbformat_minor": 5
}
