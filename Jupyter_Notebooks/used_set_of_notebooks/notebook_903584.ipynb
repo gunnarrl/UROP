{
 "cells": [
  {
   "cell_type": "code",
   "execution_count": null,
   "id": "4a0fc29e",
   "metadata": {},
   "outputs": [],
   "source": [
    "import pandas as pd\n",
    "import numpy as np\n",
    "import sys\n",
    "%matplotlib inline"
   ]
  },
  {
   "cell_type": "code",
   "execution_count": null,
   "id": "14a24635",
   "metadata": {},
   "outputs": [],
   "source": [
    "print('Python version ' + sys.version)\n",
    "print('Pandas version ' + pd.__version__)"
   ]
  },
  {
   "cell_type": "markdown",
   "id": "0020e49a",
   "metadata": {},
   "source": [
    "# Compute"
   ]
  },
  {
   "cell_type": "markdown",
   "id": "70a4ddda",
   "metadata": {},
   "source": [
    "### How to get the sum and length of a group?"
   ]
  },
  {
   "cell_type": "code",
   "execution_count": null,
   "id": "7abab838",
   "metadata": {},
   "outputs": [],
   "source": [
    "df = pd.DataFrame({'group1':[\"a\",\"a\",\"b\",\"b\"],\n",
    "                'value':[10,20,30,40]\n",
    "                })\n",
    "df"
   ]
  },
  {
   "cell_type": "code",
   "execution_count": null,
   "id": "2d09c891",
   "metadata": {},
   "outputs": [],
   "source": [
    "group = df.groupby('group1')\n",
    "group.agg([len,sum])"
   ]
  },
  {
   "cell_type": "markdown",
   "id": "c39ecd15",
   "metadata": {},
   "source": [
    "### How can I add a column that is equal to the sum of a group?"
   ]
  },
  {
   "cell_type": "code",
   "execution_count": null,
   "id": "3ce107ef",
   "metadata": {},
   "outputs": [],
   "source": [
    "df = pd.DataFrame({'labels':[\"a\",\"a\",\"b\",\"b\"],\n",
    "                'value':[10,20,30,40]\n",
    "                })\n",
    "df"
   ]
  },
  {
   "cell_type": "code",
   "execution_count": null,
   "id": "31b3d885",
   "metadata": {},
   "outputs": [],
   "source": [
    "group = df.groupby('labels')['value']\n",
    "df['value.sum'] = group.transform('sum')\n",
    "df"
   ]
  },
  {
   "cell_type": "markdown",
   "id": "24d31f59",
   "metadata": {},
   "source": [
    "### How to get the month name out of a date column?"
   ]
  },
  {
   "cell_type": "code",
   "execution_count": null,
   "id": "dcf7e258",
   "metadata": {},
   "outputs": [],
   "source": [
    "df = pd.DataFrame({'col1':[pd.Timestamp('20130102000030'),\n",
    "                         pd.Timestamp('2013-02-03 00:00:30'),\n",
    "                         pd.Timestamp('3/4/2013 000030')]\n",
    "                 })\n",
    "df"
   ]
  },
  {
   "cell_type": "code",
   "execution_count": null,
   "id": "e3e1eef0",
   "metadata": {},
   "outputs": [],
   "source": [
    "df['MonthNumber'] = df['col1'].apply(lambda x: x.month)\n",
    "df['Day'] = df['col1'].apply(lambda x: x.day)\n",
    "df['Year'] = df['col1'].apply(lambda x: x.year)\n",
    "df['MonthName'] = df['col1'].apply(lambda x: x.strftime('%B'))\n",
    "df['WeekDay'] = df['col1'].apply(lambda x: x.strftime('%A'))\n",
    "df"
   ]
  },
  {
   "cell_type": "markdown",
   "id": "951a2f50",
   "metadata": {},
   "source": [
    "### How can I create a column based on two other columns?"
   ]
  },
  {
   "cell_type": "code",
   "execution_count": null,
   "id": "243608c5",
   "metadata": {},
   "outputs": [],
   "source": [
    "df = pd.DataFrame({'col1':['minus','minus','positive','nan'],\n",
    "                'col2':[10,20,30,40]\n",
    "                })\n",
    "df"
   ]
  },
  {
   "cell_type": "code",
   "execution_count": null,
   "id": "58a5e64e",
   "metadata": {},
   "outputs": [],
   "source": [
    "df['col3'] = df['col2']*df['col1'].apply(lambda x: -1 if x=='minus' else (1 if x=='positive' else np.nan))\n",
    "df"
   ]
  },
  {
   "cell_type": "markdown",
   "id": "e81a0af1",
   "metadata": {},
   "source": [
    "### How can I apply a function to a group and add the results to my original data frame?"
   ]
  },
  {
   "cell_type": "code",
   "execution_count": null,
   "id": "c9a2ffa5",
   "metadata": {},
   "outputs": [],
   "source": [
    "df = pd.DataFrame({'group1':['a','a','a','b','b','b'],\n",
    "                       'group2':['c','c','d','d','d','e'],\n",
    "                       'value1':[1.1,2,3,4,5,6],\n",
    "                       'value2':[7.1,8,9,10,11,12]\n",
    "})\n",
    "\n",
    "df"
   ]
  },
  {
   "cell_type": "code",
   "execution_count": null,
   "id": "e912082e",
   "metadata": {},
   "outputs": [],
   "source": [
    "group = df.groupby(['group1','group2'])\n",
    "\n",
    "def Half(x):\n",
    "    return x.sum()\n",
    "\n",
    "df['new'] = group['value1'].transform(Half)\n",
    "df"
   ]
  },
  {
   "cell_type": "code",
   "execution_count": null,
   "id": "a26c19fb",
   "metadata": {},
   "outputs": [],
   "source": [
    "# For multiple functions\n",
    "def HalfPlus(x):\n",
    "    return x.sum() + 1\n",
    "\n",
    "newcol = group['value1'].agg([Half,HalfPlus])\n",
    "newcol"
   ]
  },
  {
   "cell_type": "code",
   "execution_count": null,
   "id": "78978dd3",
   "metadata": {},
   "outputs": [],
   "source": [
    "df.merge(newcol, left_on=['group1','group2'], right_index=True)"
   ]
  },
  {
   "cell_type": "markdown",
   "id": "cd3c2146",
   "metadata": {},
   "source": [
    "### How to add two data frames and not get null values?"
   ]
  },
  {
   "cell_type": "code",
   "execution_count": null,
   "id": "0e7d91b5",
   "metadata": {},
   "outputs": [],
   "source": [
    "df1 = pd.DataFrame(data=[26371, 1755, 2], index=[-9999, 240, 138.99], columns=['value'])\n",
    "df1"
   ]
  },
  {
   "cell_type": "code",
   "execution_count": null,
   "id": "04958105",
   "metadata": {},
   "outputs": [],
   "source": [
    "df2 = pd.DataFrame(data=[26371, 1755, 6, 4], index=[-9999, 240, 113.03, 110], columns=['value'])\n",
    "df2"
   ]
  },
  {
   "cell_type": "code",
   "execution_count": null,
   "id": "c997fa89",
   "metadata": {},
   "outputs": [],
   "source": [
    "# If you simply add them, you will get null values\n",
    "# were the index does not match\n",
    "df1 + df2"
   ]
  },
  {
   "cell_type": "code",
   "execution_count": null,
   "id": "677bfa3c",
   "metadata": {},
   "outputs": [],
   "source": [
    "# Here we fix this issue\n",
    "df1.add(df2, fill_value=0)"
   ]
  },
  {
   "cell_type": "markdown",
   "id": "64bf3f4c",
   "metadata": {},
   "source": [
    "<p class=\"text-muted\">This tutorial was created by <a href=\"http://www.hedaro.com\" target=\"_blank\"><strong>HEDARO</strong></a></p>"
   ]
  }
 ],
 "metadata": {},
 "nbformat": 4,
 "nbformat_minor": 5
}
