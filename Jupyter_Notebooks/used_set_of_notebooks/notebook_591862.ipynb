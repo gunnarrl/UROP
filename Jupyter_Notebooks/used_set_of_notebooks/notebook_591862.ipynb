{
 "cells": [
  {
   "cell_type": "markdown",
   "id": "36d5a64e",
   "metadata": {},
   "source": [
    "##1. Import the necessary packages to read in the data, plot, and create a linear regression model"
   ]
  },
  {
   "cell_type": "code",
   "execution_count": null,
   "id": "eecceb80",
   "metadata": {},
   "outputs": [],
   "source": [
    "import pandas as pd\n",
    "%matplotlib inline\n",
    "import matplotlib.pyplot as plt \n",
    "import statsmodels.formula.api as smf "
   ]
  },
  {
   "cell_type": "markdown",
   "id": "90f2f63a",
   "metadata": {},
   "source": [
    "## 2. Read in the hanford.csv file "
   ]
  },
  {
   "cell_type": "code",
   "execution_count": null,
   "id": "be59eddd",
   "metadata": {},
   "outputs": [],
   "source": [
    "df = pd.read_csv(\"../data/hanford.csv\")\n",
    "df.head()"
   ]
  },
  {
   "cell_type": "markdown",
   "id": "627929d7",
   "metadata": {},
   "source": [
    "<img src=\"images/hanford_variables.png\">"
   ]
  },
  {
   "cell_type": "markdown",
   "id": "8634831d",
   "metadata": {},
   "source": [
    "## 3. Calculate the basic descriptive statistics on the data"
   ]
  },
  {
   "cell_type": "code",
   "execution_count": null,
   "id": "b06fc59e",
   "metadata": {},
   "outputs": [],
   "source": [
    "df.describe()"
   ]
  },
  {
   "cell_type": "markdown",
   "id": "755afdbb",
   "metadata": {},
   "source": [
    "## 4. Calculate the coefficient of correlation (r) and generate the scatter plot. Does there seem to be a correlation worthy of investigation?"
   ]
  },
  {
   "cell_type": "code",
   "execution_count": null,
   "id": "7c73b659",
   "metadata": {},
   "outputs": [],
   "source": [
    "df.corr()"
   ]
  },
  {
   "cell_type": "code",
   "execution_count": null,
   "id": "7f59d294",
   "metadata": {},
   "outputs": [],
   "source": [
    "df.plot(kind='scatter',x='Exposure',y='Mortality')"
   ]
  },
  {
   "cell_type": "code",
   "execution_count": null,
   "id": "6a32126f",
   "metadata": {},
   "outputs": [],
   "source": [
    "print('Yes.')"
   ]
  },
  {
   "cell_type": "markdown",
   "id": "bdcb600c",
   "metadata": {},
   "source": [
    "## 5. Create a linear regression model based on the available data to predict the mortality rate given a level of exposure"
   ]
  },
  {
   "cell_type": "code",
   "execution_count": null,
   "id": "1ef591fe",
   "metadata": {},
   "outputs": [],
   "source": [
    "lm = smf.ols(formula=\"Mortality~Exposure\",data=df).fit() \n",
    "lm.params"
   ]
  },
  {
   "cell_type": "code",
   "execution_count": null,
   "id": "746d2fc6",
   "metadata": {},
   "outputs": [],
   "source": [
    "intercept, slope = lm.params"
   ]
  },
  {
   "cell_type": "code",
   "execution_count": null,
   "id": "30a9e1a0",
   "metadata": {},
   "outputs": [],
   "source": [
    "df.plot(kind='scatter',x='Exposure',y='Mortality',color='steelblue',linewidth=0)\n",
    "plt.plot(df[\"Exposure\"],slope*df[\"Exposure\"]+intercept,\"-\",color=\"red\")"
   ]
  },
  {
   "cell_type": "markdown",
   "id": "778ca62f",
   "metadata": {},
   "source": [
    "## 6. Plot the linear regression line on the scatter plot of values. Calculate the r^2 (coefficient of determination)"
   ]
  },
  {
   "cell_type": "code",
   "execution_count": null,
   "id": "871ed56d",
   "metadata": {},
   "outputs": [],
   "source": [
    "lm.summary()"
   ]
  },
  {
   "cell_type": "code",
   "execution_count": null,
   "id": "c4ecc9b2",
   "metadata": {},
   "outputs": [],
   "source": [
    "print(\"R^2 equals to 0.858.\")"
   ]
  },
  {
   "cell_type": "markdown",
   "id": "5fb7adc6",
   "metadata": {},
   "source": [
    "## 7. Predict the mortality rate (Cancer per 100,000 man years) given an index of exposure = 10"
   ]
  },
  {
   "cell_type": "code",
   "execution_count": null,
   "id": "15a57f58",
   "metadata": {},
   "outputs": [],
   "source": [
    "print(\"The mortality rate of exposure 10 is\", 10*slope+intercept)"
   ]
  },
  {
   "cell_type": "code",
   "execution_count": null,
   "id": "6c04f516",
   "metadata": {},
   "outputs": [],
   "source": [
    "def get_mr(exposure):\n",
    "    rate = exposure*slope + intercept\n",
    "    return rate"
   ]
  },
  {
   "cell_type": "code",
   "execution_count": null,
   "id": "4543e1b2",
   "metadata": {},
   "outputs": [],
   "source": [
    "get_mr(10)"
   ]
  }
 ],
 "metadata": {},
 "nbformat": 4,
 "nbformat_minor": 5
}
