{
 "cells": [
  {
   "cell_type": "markdown",
   "id": "e048c4ac",
   "metadata": {
    "id": "e048c4ac"
   },
   "source": []
  },
  {
   "cell_type": "markdown",
   "id": "e57381f3",
   "metadata": {
    "id": "e57381f3"
   },
   "source": [
    "<h1>Table of Contents<span class=\"tocSkip\"></span></h1>\n",
    "<div class=\"toc\"><ul class=\"toc-item\"><li><ul class=\"toc-item\"><li><span><a href=\"#Assignment-#1:-Regression\" data-toc-modified-id=\"Assignment-#1:-Regression-0.1\">Assignment #1: Regression</a></span></li><li><span><a href=\"#Learning-Outcomes\" data-toc-modified-id=\"Learning-Outcomes-0.2\">Learning Outcomes</a></span></li></ul></li><li><span><a href=\"#Data-Science-Workflow:\" data-toc-modified-id=\"Data-Science-Workflow:-1\">Data Science Workflow:</a></span><ul class=\"toc-item\"><li><span><a href=\"#1)-Ask:-\" data-toc-modified-id=\"1)-Ask:--1.1\">1) Ask: </a></span></li><li><span><a href=\"#2)-Acquire\" data-toc-modified-id=\"2)-Acquire-1.2\">2) Acquire</a></span></li><li><span><a href=\"#3)-Process\" data-toc-modified-id=\"3)-Process-1.3\">3) Process</a></span></li><li><span><a href=\"#4)-Model\" data-toc-modified-id=\"4)-Model-1.4\">4) Model</a></span></li><li><span><a href=\"#Model-Evaluation\" data-toc-modified-id=\"Model-Evaluation-1.5\">Model Evaluation</a></span></li><li><span><a href=\"#5)-Deliver\" data-toc-modified-id=\"5)-Deliver-1.6\">5) Deliver</a></span></li><li><span><a href=\"#Helpful-Hints\" data-toc-modified-id=\"Helpful-Hints-1.7\">Helpful Hints</a></span></li></ul></li></ul></div>"
   ]
  },
  {
   "cell_type": "markdown",
   "id": "90de09f2",
   "metadata": {
    "id": "90de09f2"
   },
   "source": [
    "Assignment #1: Regression\n",
    "----\n",
    "\n",
    "<center><img src=\"https://i.imgur.com/s888wFw.png\" width=\"75%\"/></center>\n",
    "\n",
    "Learning Outcomes\n",
    "------\n",
    "\n",
    "__By the end of this assignment, you should be able to__:\n",
    "\n",
    "- Practice applying the Data Science worklflow to a real-world problem.\n",
    "- Fit a regression model with scikit-learn.\n",
    "\n",
    "Data Science Workflow:\n",
    "======\n",
    "\n",
    "1. Ask\n",
    "2. Acquire\n",
    "3. Process\n",
    "4. Model\n",
    "5. Deliver"
   ]
  },
  {
   "cell_type": "markdown",
   "id": "808a72a3",
   "metadata": {
    "id": "808a72a3"
   },
   "source": [
    "1) Ask:\n",
    "----\n",
    "\n",
    "Can a linear regression model learn to predict the price of airbnb rentals in San Francisco?"
   ]
  },
  {
   "cell_type": "markdown",
   "id": "7b427177",
   "metadata": {
    "id": "7b427177"
   },
   "source": [
    "2) Acquire\n",
    "----\n",
    "\n",
    "The data was sourced from [airbnb](https://www.airbnb.com/) and converted to a .csv for you."
   ]
  },
  {
   "cell_type": "code",
   "execution_count": null,
   "id": "adb0709c",
   "metadata": {
    "id": "adb0709c"
   },
   "outputs": [],
   "source": [
    "reset -fs"
   ]
  },
  {
   "cell_type": "code",
   "execution_count": null,
   "id": "c50cc507",
   "metadata": {
    "id": "c50cc507"
   },
   "outputs": [],
   "source": [
    "import numpy as np\n",
    "import pandas as pd"
   ]
  },
  {
   "cell_type": "code",
   "execution_count": null,
   "id": "f03e2cd0",
   "metadata": {
    "id": "f03e2cd0"
   },
   "outputs": [],
   "source": [
    "path = \"../../data/regression/\"\n",
    "\n",
    "# Load train data - train data has potential features and price as target\n",
    "data_train_raw = pd.read_csv(path+\"train.csv\", low_memory=False)\n",
    "assert \"price\" in data_train_raw.columns\n",
    "\n",
    "target_raw = data_train_raw.pop('price')\n",
    "# Convert `price` as a string with dollar signs and commas to a float.\n",
    "y_train = np.array(target_raw.str.replace('$', '').str.replace(',', '').astype(float))\n",
    "\n",
    "# Keep track of the number of instances\n",
    "n_rows_input = data_train_raw.shape[0]"
   ]
  },
  {
   "cell_type": "markdown",
   "id": "5ef8a96a",
   "metadata": {
    "id": "5ef8a96a"
   },
   "source": [
    "3) Process\n",
    "-----"
   ]
  },
  {
   "cell_type": "code",
   "execution_count": null,
   "id": "963c5dae",
   "metadata": {
    "id": "963c5dae"
   },
   "outputs": [],
   "source": [
    "def process_data(data):\n",
    "    \"\"\"Feature engineering & feature selection\n",
    "    The input parameter and return value have the same name. All processing should happen inplace.\n",
    "    \"\"\"\n",
    "\n",
    "    # YOUR CODE HERE\n",
    "    raise NotImplementedError()\n",
    "\n",
    "    return data"
   ]
  },
  {
   "cell_type": "code",
   "execution_count": null,
   "id": "18e26dfd",
   "metadata": {
    "id": "18e26dfd"
   },
   "outputs": [],
   "source": [
    "\"\"\"\n",
    "2 points\n",
    "Test code for the 'process_data' function.\n",
    "This cell should NOT give any errors when it is run.\n",
    "\"\"\"\n",
    "\n",
    "data_train = process_data(data_train_raw)\n",
    "\n",
    "# Double check the type is still a pd.DataFrame\n",
    "assert type(data_train) == pd.core.frame.DataFrame\n",
    "# Double check no rows where drop. Dropping which will break test data performance.\n",
    "assert data_train.shape[0] == n_rows_input"
   ]
  },
  {
   "cell_type": "code",
   "execution_count": null,
   "id": "8b991c40",
   "metadata": {
    "id": "8b991c40"
   },
   "outputs": [],
   "source": [
    "# Convert from pandas.DataFrame (tabular) to numpy.array (matrix)\n",
    "X_train = np.array(data_train)"
   ]
  },
  {
   "cell_type": "markdown",
   "id": "e1e02c50",
   "metadata": {
    "id": "e1e02c50"
   },
   "source": [
    "4) Model\n",
    "-----\n",
    "\n",
    "Only use scikit-learn's [Generalized Linear Models (GLM)](https://scikit-learn.org/stable/modules/linear_model.html). No other models are allowed.\n",
    "\n",
    "No automatic hyperparameter search is allowed in final submitted code, thus no model with `CV` suffix."
   ]
  },
  {
   "cell_type": "code",
   "execution_count": null,
   "id": "4edb7137",
   "metadata": {
    "id": "4edb7137"
   },
   "outputs": [],
   "source": [
    "from sklearn import linear_model"
   ]
  },
  {
   "cell_type": "code",
   "execution_count": null,
   "id": "37b515d8",
   "metadata": {
    "id": "37b515d8"
   },
   "outputs": [],
   "source": [
    "# Fit simple LR\n",
    "lm = linear_model.LinearRegression() # TODO: Replace with your choice of algorithm and hyperparameters\n",
    "lm.fit(X_train, y_train) # Train model\n",
    "\n",
    "# YOUR CODE HERE\n",
    "raise NotImplementedError()"
   ]
  },
  {
   "cell_type": "code",
   "execution_count": null,
   "id": "4da7782e",
   "metadata": {
    "id": "4da7782e"
   },
   "outputs": [],
   "source": [
    "\"\"\"\n",
    "1 point\n",
    "Test for valid model type.\n",
    "This cell should NOT give any errors when it is run.\n",
    "\"\"\"\n",
    "\n",
    "assert str(type(lm)).split(\".\")[1] == 'linear_model'\n",
    "assert str(type(lm)).split(\".\")[-1].count('CV') == 0"
   ]
  },
  {
   "cell_type": "markdown",
   "id": "b61510f5",
   "metadata": {
    "id": "b61510f5"
   },
   "source": [
    "Model Evaluation\n",
    "------"
   ]
  },
  {
   "cell_type": "markdown",
   "id": "1703261c",
   "metadata": {
    "id": "1703261c"
   },
   "source": [
    "__Root Mean Squared Logarithmic Error__\n",
    "\n",
    "$$ RMSLE = \\sqrt{\\frac{1}{n}\\sum_{i=1}(log(p_i + 1) - log(a_i + 1))^2}$$\n",
    "\n",
    "p = predicted\n",
    "\n",
    "a = actual"
   ]
  },
  {
   "cell_type": "code",
   "execution_count": null,
   "id": "a94322f3",
   "metadata": {
    "id": "a94322f3"
   },
   "outputs": [],
   "source": [
    "def rmlse(target_true, target_predicted):\n",
    "    \"Root Mean Squared Logarithmic Error\"\n",
    "\n",
    "    assert len(target_true) == len(target_predicted), \"True and predicted targets need to be the same length\"\n",
    "\n",
    "    log_diff = np.log(target_predicted + 1) - np.log(target_true + 1)\n",
    "    return np.sqrt(np.mean(np.power(log_diff, 2)))"
   ]
  },
  {
   "cell_type": "code",
   "execution_count": null,
   "id": "5262f45c",
   "metadata": {
    "id": "5262f45c"
   },
   "outputs": [],
   "source": [
    "rmlse_value = rmlse(y_train, lm.predict(X_train))\n",
    "print(f\"{rmlse_value:.4f} rmlse on training set\")"
   ]
  },
  {
   "cell_type": "markdown",
   "id": "94cf632e",
   "metadata": {
    "id": "94cf632e"
   },
   "source": [
    "__Median Absolute Error__\n",
    "\n",
    "$$\\text{MedAE} = \\text{median}(\\mid p_1 - a_1 \\mid, \\ldots, \\mid p_n - a_n \\mid)$$"
   ]
  },
  {
   "cell_type": "code",
   "execution_count": null,
   "id": "d6c3c14b",
   "metadata": {
    "id": "d6c3c14b"
   },
   "outputs": [],
   "source": [
    "from sklearn import metrics\n",
    "\n",
    "medae_value = metrics.median_absolute_error(y_train, lm.predict(X_train))\n",
    "print(f\"{medae_value:.4f} medae on training set\")"
   ]
  },
  {
   "cell_type": "markdown",
   "id": "7f4e2cf1",
   "metadata": {
    "id": "7f4e2cf1"
   },
   "source": [
    "5) Deliver\n",
    "-----\n",
    "\n",
    "How well can your model predict the test data?"
   ]
  },
  {
   "cell_type": "code",
   "execution_count": null,
   "id": "2421d1de",
   "metadata": {
    "id": "2421d1de"
   },
   "outputs": [],
   "source": [
    "# Load test data - test data only has potential features, no price as target\n",
    "data_test_raw = pd.read_csv(path+\"test.csv\", low_memory=False)\n",
    "assert not \"price\" in data_test_raw.columns\n",
    "\n",
    "n_rows_input = data_test_raw.shape[0]"
   ]
  },
  {
   "cell_type": "code",
   "execution_count": null,
   "id": "3979520a",
   "metadata": {
    "id": "3979520a"
   },
   "outputs": [],
   "source": [
    "\"\"\"\n",
    "2 points\n",
    "Test code for the 'process_data' function.\n",
    "This cell should NOT give any errors when it is run.\n",
    "\"\"\"\n",
    "\n",
    "data_test = process_data(data_test_raw)\n",
    "\n",
    "# Double check the type is still a pd.DataFrame\n",
    "assert type(data_test) == pd.core.frame.DataFrame\n",
    "\n",
    "# Double check not dropping any rows which will break test data\n",
    "assert data_test.shape[0] == n_rows_input"
   ]
  },
  {
   "cell_type": "code",
   "execution_count": null,
   "id": "81c66201",
   "metadata": {
    "id": "81c66201"
   },
   "outputs": [],
   "source": [
    "# Performance on median benchmark (mock test dataset)\n",
    "# Sanity-check that your model can generate predicts in the correct form for actual test dataset.\n",
    "# Your performance on the median data is not a good indicator of preformance on actual test dataset.\n",
    "\n",
    "X_test = np.array(data_test)\n",
    "\n",
    "test_solutions = pd.read_csv(path+'median_benchmark.csv')\n",
    "y_median = test_solutions['median_price']\n",
    "\n",
    "medae_value = metrics.median_absolute_error(y_median, lm.predict(X_test))\n",
    "print(f\"{medae_value:.4f} medae on median test set\")"
   ]
  },
  {
   "cell_type": "code",
   "execution_count": null,
   "id": "763fb7bb",
   "metadata": {
    "id": "763fb7bb"
   },
   "outputs": [],
   "source": [
    "\"\"\"\n",
    "1 point for medae less than 100 on test dataset.\n",
    "Tests are hidden since you don't have access to test targets.\n",
    "\"\"\"\n",
    "\n"
   ]
  },
  {
   "cell_type": "code",
   "execution_count": null,
   "id": "39c73eb9",
   "metadata": {
    "id": "39c73eb9"
   },
   "outputs": [],
   "source": [
    "\"\"\"\n",
    "1 point for medae less than 90 on test dataset.\n",
    "Tests are hidden since you don't have access to test targets.\n",
    "\"\"\"\n",
    "\n"
   ]
  },
  {
   "cell_type": "code",
   "execution_count": null,
   "id": "31bce835",
   "metadata": {
    "id": "31bce835"
   },
   "outputs": [],
   "source": [
    "\"\"\"\n",
    "1 point for medae less than 80 on test dataset.\n",
    "Tests are hidden since you don't have access to test targets.\n",
    "\"\"\"\n",
    "\n"
   ]
  },
  {
   "cell_type": "code",
   "execution_count": null,
   "id": "5e16231a",
   "metadata": {
    "id": "5e16231a"
   },
   "outputs": [],
   "source": [
    "\"\"\"\n",
    "1 point for medae less than 70 on test dataset.\n",
    "Tests are hidden since you don't have access to test targets.\n",
    "\"\"\"\n",
    "\n"
   ]
  },
  {
   "cell_type": "code",
   "execution_count": null,
   "id": "e090384e",
   "metadata": {
    "id": "e090384e"
   },
   "outputs": [],
   "source": [
    "\"\"\"\n",
    "1 point for medae less than 60 on test dataset.\n",
    "Tests are hidden since you don't have access to test targets.\n",
    "\"\"\"\n",
    "\n"
   ]
  },
  {
   "cell_type": "markdown",
   "id": "022b3eb8",
   "metadata": {
    "id": "022b3eb8"
   },
   "source": [
    "Helpful Hints\n",
    "------\n",
    "\n",
    "- The primary deliverables are `process_data` function and a single linear model, aka `lm`. There should be no other code in the notebook, including visualizations or hyperparameter search code.\n",
    "- Suggested steps (deliverable / nondeliverable)\n",
    "    1. Exploratory data analysis (EDA) (nondeliverable)\n",
    "    2. Process data to create features (deliverable)\n",
    "    3. Search for model, hyperparamter, parameters (nondeliverable)\n",
    "    4. Select single algorithm with single set of hyperparamter (deliverable)\n",
    "- There are __no__ tricks to doing well on the test dataset. This assignment requires fundamental machine learning skills:\n",
    "    - Domain and data knowledge\n",
    "    - Feature engineering and feature selection\n",
    "    - Model selection and hyperparameter tuning\n",
    "- Domain knowledge is always important - Check out [airbnb San Francisco listings](https://www.airbnb.com/a/San-Francisco--California--United-States) to understand the data.\n",
    "- Use your EDA skills. Create a separate notebook for EDA.\n",
    "- Clean data is better than dirty data.\n",
    "- Think deeply about the data. What potential issues will arise with modeling this data with a linear regression algorithm?\n",
    "- High quality regression results often require hand-tuning of features and model hyperparameters.\n",
    "- Academic Integrity reminder - Use only course notes and package (scikit-learn, pandas, …) documentation for this assignment. You should __not__ be googling for help. You should be working independently."
   ]
  },
  {
   "cell_type": "markdown",
   "id": "29f05c4c",
   "metadata": {
    "id": "29f05c4c"
   },
   "source": [
    "<br>\n",
    "<br>\n",
    "<br>\n",
    "\n",
    "----"
   ]
  }
 ],
 "metadata": {
  "colab": {
   "provenance": []
  }
 },
 "nbformat": 4,
 "nbformat_minor": 5
}
