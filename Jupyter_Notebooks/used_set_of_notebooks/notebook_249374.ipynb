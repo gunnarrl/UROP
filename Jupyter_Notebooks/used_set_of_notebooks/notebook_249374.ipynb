{
 "cells": [
  {
   "cell_type": "markdown",
   "id": "ecc7a948",
   "metadata": {},
   "source": [
    "# TARRAGONA DATATHON, November 2018\n",
    "## team_10 activities\n",
    "\n",
    "*   Marianna Polini: Data Scientist / SQL-Databases\n",
    "*   Christian Villavicencio: Clinician\n",
    "*   Eva Machado: Clinician\n",
    "*   Raquel Carbonell: Clinician\n",
    "*   Diana Gil: Clinician\n",
    "*   Laia Labad: Clinician\n",
    "*   Santiago Frias: Data Scientist / Statistics-Models\n",
    "\n"
   ]
  },
  {
   "cell_type": "markdown",
   "id": "5298c9da",
   "metadata": {},
   "source": [
    "## Septic Shock query and stay time representation"
   ]
  },
  {
   "cell_type": "code",
   "execution_count": null,
   "id": "98dfa53c",
   "metadata": {},
   "outputs": [],
   "source": [
    "# Importacion Librerias\n",
    "import numpy\n",
    "print('numpy Version: ',numpy.__version__)\n",
    "import os\n",
    "import pandas\n",
    "print('Pandas Version: ',pandas.__version__)\n",
    "import matplotlib.pyplot as pyplot\n",
    "pyplot.rcParams['figure.figsize']= [20,12]\n",
    "import matplotlib.patches as patches\n",
    "import matplotlib.path as path\n",
    "import tensorflow\n",
    "print('tensorflow Version: ',tensorflow.__version__)\n",
    "# Visualización Dataframes\n",
    "from IPython.display import display, HTML\n",
    "\n",
    "# Acceso repositorio datos Datathon.\n",
    "from google.colab import auth\n",
    "from google.cloud import bigquery"
   ]
  },
  {
   "cell_type": "code",
   "execution_count": null,
   "id": "4011ba39",
   "metadata": {},
   "outputs": [],
   "source": [
    "# Autentificacion BigQuery, generacion resumen verificacion a pegar despues de validacion.\n",
    "auth.authenticate_user()"
   ]
  },
  {
   "cell_type": "code",
   "execution_count": null,
   "id": "92201fc0",
   "metadata": {},
   "outputs": [],
   "source": [
    "# Hosting solo lectura proyecto datathon-tarragona-2018\n",
    "# Creado proyecto compartido team_10 asignado en este kernel\n",
    "project_id='datathon-tarragona-2018'\n",
    "os.environ[\"GOOGLE_CLOUD_PROJECT\"]=project_id"
   ]
  },
  {
   "cell_type": "code",
   "execution_count": null,
   "id": "69c6aaa4",
   "metadata": {},
   "outputs": [],
   "source": [
    "# Asignar configuracion de la ejecucion de sentencias SQL en BigQuery\n",
    "def run_query(query):\n",
    "  return pandas.io.gbq.read_gbq(query, project_id=project_id, verbose=True, configuration={'query':{'useLegacySql': True}})"
   ]
  },
  {
   "cell_type": "markdown",
   "id": "e10cd188",
   "metadata": {},
   "source": [
    "# Crude Data"
   ]
  },
  {
   "cell_type": "code",
   "execution_count": null,
   "id": "32991f5e",
   "metadata": {},
   "outputs": [],
   "source": [
    "consulta = run_query(\"SELECT patientunitstayid,activeupondischarge,diagnosisoffset FROM [physionet-data:eicu_crd.diagnosis] WHERE LOWER(diagnosisstring) LIKE '%septic shock%' ORDER BY patientunitstayid,activeupondischarge, diagnosisoffset\")"
   ]
  },
  {
   "cell_type": "code",
   "execution_count": null,
   "id": "c395ac23",
   "metadata": {},
   "outputs": [],
   "source": [
    "consulta"
   ]
  },
  {
   "cell_type": "code",
   "execution_count": null,
   "id": "459a5bd1",
   "metadata": {},
   "outputs": [],
   "source": [
    "# Scatter Plot de correlacion entre eje x, eje y, de ejemplo crude data\n",
    "consulta.plot(figsize = [20,16], kind='scatter',x='patientunitstayid',y='diagnosisoffset' )"
   ]
  },
  {
   "cell_type": "markdown",
   "id": "9374490f",
   "metadata": {},
   "source": [
    "# Data for patients registered on Septic Shock Diag with almost near of 3 days"
   ]
  },
  {
   "cell_type": "code",
   "execution_count": null,
   "id": "3746cef0",
   "metadata": {},
   "outputs": [],
   "source": [
    "consulta = run_query(\"SELECT patientunitstayid,activeupondischarge,diagnosisoffset FROM [physionet-data:eicu_crd.diagnosis] WHERE LOWER(diagnosisstring) LIKE '%septic shock%' AND diagnosisoffset > 4000 ORDER BY patientunitstayid,activeupondischarge,diagnosisoffset\")"
   ]
  },
  {
   "cell_type": "code",
   "execution_count": null,
   "id": "55f449a5",
   "metadata": {},
   "outputs": [],
   "source": [
    "consulta"
   ]
  },
  {
   "cell_type": "code",
   "execution_count": null,
   "id": "f91b72ae",
   "metadata": {},
   "outputs": [],
   "source": [
    "# Scatter Plot de correlacion entre eje x, eje y, eliminados pacientes de los que no tenemos datos de tres dias\n",
    "consulta.plot(figsize = [20,16], kind='scatter',x='patientunitstayid',y='diagnosisoffset' )"
   ]
  },
  {
   "cell_type": "markdown",
   "id": "b7302e77",
   "metadata": {},
   "source": [
    "# Number of unique id's to profile  load balancing"
   ]
  },
  {
   "cell_type": "code",
   "execution_count": null,
   "id": "7d481003",
   "metadata": {},
   "outputs": [],
   "source": [
    "consulta = run_query(\"SELECT patientunitstayid FROM [physionet-data:eicu_crd.diagnosis] WHERE LOWER(diagnosisstring) LIKE '%septic shock%' AND diagnosisoffset > 4000 GROUP BY patientunitstayid  ORDER BY patientunitstayid\")\n"
   ]
  },
  {
   "cell_type": "code",
   "execution_count": null,
   "id": "1b0e077d",
   "metadata": {},
   "outputs": [],
   "source": [
    "consulta"
   ]
  },
  {
   "cell_type": "markdown",
   "id": "b9d4261e",
   "metadata": {},
   "source": [
    "# Intake Output Balance events to calculate overload. Crude Data."
   ]
  },
  {
   "cell_type": "code",
   "execution_count": null,
   "id": "a2472c3d",
   "metadata": {},
   "outputs": [],
   "source": [
    "consulta = run_query(\"SELECT patientunitstayid,nettotal,intakeoutputentryoffset FROM [physionet-data:eicu_crd.intakeoutput] ORDER BY patientunitstayid\")"
   ]
  },
  {
   "cell_type": "code",
   "execution_count": null,
   "id": "7dbda2ec",
   "metadata": {},
   "outputs": [],
   "source": [
    "consulta"
   ]
  },
  {
   "cell_type": "code",
   "execution_count": null,
   "id": "96a367b0",
   "metadata": {},
   "outputs": [],
   "source": [
    "# Scatter Plot exploratorio para detectar eventos con valores imposibles a eliminar.\n",
    "consulta.plot(figsize = [19,15], kind='scatter',x='patientunitstayid',y='nettotal' )"
   ]
  },
  {
   "cell_type": "markdown",
   "id": "59d26b83",
   "metadata": {},
   "source": [
    "# Intake Output Balance events to calculate overload. Cleaned Data"
   ]
  },
  {
   "cell_type": "code",
   "execution_count": null,
   "id": "d1600237",
   "metadata": {},
   "outputs": [],
   "source": [
    "consulta = run_query(\"SELECT f.patientunitstayid , f.nettotal, f.intakeoutputentryoffset FROM [physionet-data:eicu_crd.intakeoutput] AS f WHERE (f.nettotal < 5000) AND (f.nettotal > -5000) ORDER BY f.patientunitstayid, f.intakeoutputentryoffset\") "
   ]
  },
  {
   "cell_type": "code",
   "execution_count": null,
   "id": "7d5ecab6",
   "metadata": {},
   "outputs": [],
   "source": [
    "consulta"
   ]
  },
  {
   "cell_type": "code",
   "execution_count": null,
   "id": "dbc2bdcf",
   "metadata": {},
   "outputs": [],
   "source": [
    "# Scatter Plot exploratorio de la topologia del balance de fluidos por estancia del paciente\n",
    "consulta.plot(figsize = [19,15], kind='scatter',x='f_patientunitstayid',y='f_intakeoutputentryoffset' )"
   ]
  }
 ],
 "metadata": {},
 "nbformat": 4,
 "nbformat_minor": 5
}
