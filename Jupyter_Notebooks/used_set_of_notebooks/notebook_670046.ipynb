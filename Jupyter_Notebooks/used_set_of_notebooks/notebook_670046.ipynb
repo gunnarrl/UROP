{
 "cells": [
  {
   "cell_type": "markdown",
   "id": "67b094a9",
   "metadata": {},
   "source": [
    "# Custom Display Logic Exercises"
   ]
  },
  {
   "cell_type": "code",
   "execution_count": null,
   "id": "31506cc3",
   "metadata": {},
   "outputs": [],
   "source": [
    "from IPython.display import display\n",
    "from IPython.display import (\n",
    "    display_png, display_html, display_latex,\n",
    "    display_javascript, display_svg\n",
    ")"
   ]
  },
  {
   "cell_type": "markdown",
   "id": "d4a33807",
   "metadata": {},
   "source": [
    "## Circle class with custom display methods"
   ]
  },
  {
   "cell_type": "markdown",
   "id": "62daf775",
   "metadata": {},
   "source": [
    "Write a simple `MyCircle` Python class. Here is a skeleton to get you started:\n",
    "\n",
    "```python\n",
    "class MyCircle(object):\n",
    "    def __init__(self, center=(0.0,0.0), radius=1.0, color='blue'):\n",
    "        self.center = center\n",
    "        self.radius = radius\n",
    "        self.color = color\n",
    "```\n",
    "\n",
    "Now add special display methods to this class for the following representations (remember to wrap them in Python strings):\n",
    "\n",
    "For HTML:\n",
    "\n",
    "    &#x25CB;\n",
    "\n",
    "For LaTeX (wrap with `$` and use a raw Python string):\n",
    "\n",
    "    \\bigcirc\n",
    "\n",
    "For JavaScript:\n",
    "\n",
    "    alert('I am a circle!');\n",
    "\n",
    "After you write the class, create an instance and then use `display_html`, `display_svg`, `display_latex` and `display_javascript` to display those representations."
   ]
  },
  {
   "cell_type": "markdown",
   "id": "24cc2ecd",
   "metadata": {},
   "source": [
    "### Solution"
   ]
  },
  {
   "cell_type": "markdown",
   "id": "dc462bbc",
   "metadata": {},
   "source": [
    "Here is the solution to the simple `MyCircle` class:"
   ]
  },
  {
   "cell_type": "code",
   "execution_count": null,
   "id": "3a13dc92",
   "metadata": {},
   "outputs": [],
   "source": [
    "%load soln/mycircle.py"
   ]
  },
  {
   "cell_type": "markdown",
   "id": "6f9a6331",
   "metadata": {},
   "source": [
    "Now create an instance and use the display methods:"
   ]
  },
  {
   "cell_type": "code",
   "execution_count": null,
   "id": "42fe0b28",
   "metadata": {},
   "outputs": [],
   "source": [
    "c = MyCircle()"
   ]
  },
  {
   "cell_type": "code",
   "execution_count": null,
   "id": "5474eb29",
   "metadata": {},
   "outputs": [],
   "source": [
    "display(c)"
   ]
  },
  {
   "cell_type": "code",
   "execution_count": null,
   "id": "eb041bbc",
   "metadata": {},
   "outputs": [],
   "source": [
    "display_html(c)"
   ]
  },
  {
   "cell_type": "code",
   "execution_count": null,
   "id": "eed67c8e",
   "metadata": {},
   "outputs": [],
   "source": [
    "display_latex(c)"
   ]
  },
  {
   "cell_type": "markdown",
   "id": "f57a9d93",
   "metadata": {},
   "source": [
    "## PNG formatter for `MyCircle`"
   ]
  },
  {
   "cell_type": "code",
   "execution_count": null,
   "id": "47c4881a",
   "metadata": {},
   "outputs": [],
   "source": [
    "%matplotlib inline\n",
    "from matplotlib import pyplot as plt"
   ]
  },
  {
   "cell_type": "markdown",
   "id": "0cac1a08",
   "metadata": {},
   "source": [
    "Now let's assume that the `MyCircle` class has already been defined and add a PNG representation using a formatter display function. Here is a function that converts a `MyCircle` instance to raw PNG data."
   ]
  },
  {
   "cell_type": "code",
   "execution_count": null,
   "id": "83c71a5b",
   "metadata": {},
   "outputs": [],
   "source": [
    "from IPython.core.pylabtools import print_figure\n",
    "\n",
    "def circle_to_png(circle):\n",
    "    \"\"\"Render AnotherCircle to png data using matplotlib\"\"\"\n",
    "    fig, ax = plt.subplots()\n",
    "    patch = plt.Circle(circle.center,\n",
    "                       radius=circle.radius,\n",
    "                       fc=circle.color,\n",
    "                       )\n",
    "    ax.add_patch(patch)\n",
    "    plt.axis('scaled')\n",
    "    data = print_figure(fig, 'png')\n",
    "    # We MUST close the figure, otherwise IPython's display machinery\n",
    "    # will pick it up and send it as output, resulting in a double display\n",
    "    plt.close(fig)\n",
    "    return data"
   ]
  },
  {
   "cell_type": "markdown",
   "id": "3cbfc5b4",
   "metadata": {},
   "source": [
    "Now use the IPython API to get the PNG formatter (`image/png`) and call the `for_type` method to register `circle_to_png` as the display function for `MyCircle`."
   ]
  },
  {
   "cell_type": "code",
   "execution_count": null,
   "id": "91a88b55",
   "metadata": {},
   "outputs": [],
   "source": [
    "%load soln/mycircle_png.py"
   ]
  },
  {
   "cell_type": "code",
   "execution_count": null,
   "id": "fe2ff7f4",
   "metadata": {},
   "outputs": [],
   "source": [
    "display_png(c)"
   ]
  },
  {
   "cell_type": "markdown",
   "id": "dd857c57",
   "metadata": {},
   "source": [
    "## PNG formatter for NumPy arrays"
   ]
  },
  {
   "cell_type": "markdown",
   "id": "e872fae4",
   "metadata": {},
   "source": [
    "In this exercise, you will register a display formatter function that generates a PNG representation of a 2d NumPy array. Here is the function that uses the [Python Imaging Library (PIL)](http://www.pythonware.com/products/pil/) to generate the raw PNG data:"
   ]
  },
  {
   "cell_type": "code",
   "execution_count": null,
   "id": "69d25c58",
   "metadata": {},
   "outputs": [],
   "source": [
    "from PIL import Image\n",
    "from io import BytesIO\n",
    "import numpy as np\n",
    "\n",
    "def ndarray_to_png(x):\n",
    "    if len(x.shape) != 2: return\n",
    "    x = np.asarray(Image.fromarray(x).resize((500, 500)))\n",
    "    x = (x - x.min()) / (x.max() - x.min())\n",
    "    img = Image.fromarray((x*256).astype('uint8'))\n",
    "    img_buffer = BytesIO()\n",
    "    img.save(img_buffer, format='png')\n",
    "    return img_buffer.getvalue()"
   ]
  },
  {
   "cell_type": "markdown",
   "id": "fc381025",
   "metadata": {},
   "source": [
    "Use the `for_type` method of the PNG formatter to register `ndarray_to_png` as the display function for `np.ndarray`."
   ]
  },
  {
   "cell_type": "code",
   "execution_count": null,
   "id": "9823b0bc",
   "metadata": {},
   "outputs": [],
   "source": [
    "%load soln/ndarray_png.py"
   ]
  },
  {
   "cell_type": "markdown",
   "id": "d82b5fbe",
   "metadata": {},
   "source": [
    "Now create a few NumPy arrays and display them. Notice that their default representation in the Notebook is PNG rather than text."
   ]
  },
  {
   "cell_type": "code",
   "execution_count": null,
   "id": "1f5bfe4e",
   "metadata": {},
   "outputs": [],
   "source": [
    "a = np.random.rand(100,100)"
   ]
  },
  {
   "cell_type": "code",
   "execution_count": null,
   "id": "13ad1fb7",
   "metadata": {},
   "outputs": [],
   "source": [
    "a"
   ]
  },
  {
   "cell_type": "markdown",
   "id": "3898a5f1",
   "metadata": {},
   "source": [
    "You can still display the plain text representation using the `display_pretty` function."
   ]
  },
  {
   "cell_type": "code",
   "execution_count": null,
   "id": "a83a7888",
   "metadata": {},
   "outputs": [],
   "source": [
    "from IPython.display import display_pretty"
   ]
  },
  {
   "cell_type": "code",
   "execution_count": null,
   "id": "6dd2b60e",
   "metadata": {},
   "outputs": [],
   "source": [
    "display_pretty(a)"
   ]
  },
  {
   "cell_type": "code",
   "execution_count": null,
   "id": "dbe3f3b7",
   "metadata": {},
   "outputs": [],
   "source": [
    "b = np.linspace(0,100.0, 100**2).reshape((100,100))"
   ]
  },
  {
   "cell_type": "code",
   "execution_count": null,
   "id": "86842b35",
   "metadata": {},
   "outputs": [],
   "source": [
    "b"
   ]
  }
 ],
 "metadata": {},
 "nbformat": 4,
 "nbformat_minor": 5
}
