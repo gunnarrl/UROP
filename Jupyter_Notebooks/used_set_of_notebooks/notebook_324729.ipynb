{
 "cells": [
  {
   "cell_type": "markdown",
   "id": "3b607d1e",
   "metadata": {},
   "source": [
    "# Create an interactive Parallel Plot\n",
    "To demonstrate the use of the interactive parallel plot, we use a project already loaded into the CKG database."
   ]
  },
  {
   "cell_type": "code",
   "execution_count": null,
   "id": "693296b5",
   "metadata": {},
   "outputs": [],
   "source": [
    "import pandas as pd\n",
    "from report_manager import project, dataset, report\n",
    "from analytics_core.viz import viz as plots\n",
    "import networkx as nx\n",
    "from networkx.readwrite import json_graph\n",
    "from plotly.offline import init_notebook_mode, iplot\n",
    "import plotly.graph_objs as go\n",
    "from scipy.stats import zscore\n",
    "init_notebook_mode(connected=True)\n",
    "%matplotlib inline\n",
    "import ipywidgets as widgets\n",
    "from ipywidgets import interact, interact_manual\n",
    "\n",
    "import warnings\n",
    "warnings.filterwarnings('ignore')\n",
    "import logging\n",
    "logger = logging.getLogger()\n",
    "logger.setLevel(logging.CRITICAL)"
   ]
  },
  {
   "cell_type": "markdown",
   "id": "46e85baf",
   "metadata": {},
   "source": [
    "#### We create a new project object and load the respective data and report"
   ]
  },
  {
   "cell_type": "code",
   "execution_count": null,
   "id": "dde34ba9",
   "metadata": {},
   "outputs": [],
   "source": [
    "my_project = project.Project(identifier='P0000001', datasets={}, report={})\n",
    "my_project.load_project_data()\n",
    "my_project.load_project_report()"
   ]
  },
  {
   "cell_type": "markdown",
   "id": "7c0c1581",
   "metadata": {},
   "source": [
    "#### We can now access to all the results for each data type"
   ]
  },
  {
   "cell_type": "code",
   "execution_count": null,
   "id": "40f8b4a8",
   "metadata": {},
   "outputs": [],
   "source": [
    "my_project.list_datasets()"
   ]
  },
  {
   "cell_type": "markdown",
   "id": "c6c78625",
   "metadata": {},
   "source": [
    "#### We will use the results from the proteomics analyses. We access the dataset 'proteomics' for further analysis"
   ]
  },
  {
   "cell_type": "code",
   "execution_count": null,
   "id": "1dd47aef",
   "metadata": {},
   "outputs": [],
   "source": [
    "proteomics_dataset = my_project.get_dataset('proteomics')"
   ]
  },
  {
   "cell_type": "markdown",
   "id": "cbdc997f",
   "metadata": {},
   "source": [
    "#### The available analysis for this dataset are:"
   ]
  },
  {
   "cell_type": "code",
   "execution_count": null,
   "id": "bcbbdd86",
   "metadata": {},
   "outputs": [],
   "source": [
    "my_project.get_dataset('proteomics').list_dataframes()"
   ]
  },
  {
   "cell_type": "markdown",
   "id": "ba3dd9bd",
   "metadata": {},
   "source": [
    "#### We can access the different dataframes like this:"
   ]
  },
  {
   "cell_type": "code",
   "execution_count": null,
   "id": "1847110d",
   "metadata": {},
   "outputs": [],
   "source": [
    "my_project.get_dataset('proteomics').get_dataframe('go annotation')"
   ]
  },
  {
   "cell_type": "markdown",
   "id": "c7bff5c8",
   "metadata": {},
   "source": [
    "#### In this case, we will use the the processed dataframe with transformed and imputed LFQ intensities. We then normalize the data using Z Score."
   ]
  },
  {
   "cell_type": "code",
   "execution_count": null,
   "id": "17e18473",
   "metadata": {},
   "outputs": [],
   "source": [
    "proteomics_dataset = my_project.get_dataset('proteomics')\n",
    "processed_df = proteomics_dataset.get_dataframe('processed')"
   ]
  },
  {
   "cell_type": "code",
   "execution_count": null,
   "id": "9f655cf4",
   "metadata": {},
   "outputs": [],
   "source": [
    "processed_df.head()"
   ]
  },
  {
   "cell_type": "code",
   "execution_count": null,
   "id": "b931d177",
   "metadata": {},
   "outputs": [],
   "source": [
    "processed_df = processed_df.drop(['sample', 'subject'], axis=1).set_index('group').apply(zscore).reset_index()"
   ]
  },
  {
   "cell_type": "markdown",
   "id": "129b3e25",
   "metadata": {},
   "source": [
    "#### In order to find clusters of proteins, we access the report and the protein-protein correlation network as a dictionary."
   ]
  },
  {
   "cell_type": "code",
   "execution_count": null,
   "id": "3ca8c38f",
   "metadata": {},
   "outputs": [],
   "source": [
    "proteomics_report = my_project.get_dataset('proteomics').report\n",
    "proteomics_report.list_plots()"
   ]
  },
  {
   "cell_type": "code",
   "execution_count": null,
   "id": "cf2edf39",
   "metadata": {},
   "outputs": [],
   "source": [
    "correlation_net_dict = proteomics_report.get_plot('16~correlation_correlation~network')[0]"
   ]
  },
  {
   "cell_type": "markdown",
   "id": "0f48ff95",
   "metadata": {},
   "source": [
    "#### To convert the dictionary into a network, we access the json version within the dictionary and convert it using the networkX package."
   ]
  },
  {
   "cell_type": "code",
   "execution_count": null,
   "id": "dc800c68",
   "metadata": {},
   "outputs": [],
   "source": [
    "correlation_net = json_graph.node_link_graph(correlation_net_dict['net_json'])"
   ]
  },
  {
   "cell_type": "markdown",
   "id": "23f4048b",
   "metadata": {},
   "source": [
    "#### Now that we have a network with proteins colored by cluster, we can convert this information into a dataframe to be used in this Jupyter Notebook."
   ]
  },
  {
   "cell_type": "code",
   "execution_count": null,
   "id": "25d6014a",
   "metadata": {},
   "outputs": [],
   "source": [
    "correlation_df = pd.DataFrame.from_dict(correlation_net.nodes(data=True))\n",
    "correlation_df = correlation_df[0].to_frame().join(correlation_df[1].apply(pd.Series))"
   ]
  },
  {
   "cell_type": "code",
   "execution_count": null,
   "id": "5d52c8d7",
   "metadata": {},
   "outputs": [],
   "source": [
    "correlation_df.columns = ['identifier', 'degree', 'radius', 'color', 'cluster']"
   ]
  },
  {
   "cell_type": "markdown",
   "id": "5f236ae0",
   "metadata": {},
   "source": [
    "#### Since the correlation network was generated using cut-off , not all the proteins in the processed dataframe are part of a cluster, therefore we filter the processed dataframe and keep only the proteins that are present in the correlation clusters."
   ]
  },
  {
   "cell_type": "code",
   "execution_count": null,
   "id": "0ecacf84",
   "metadata": {},
   "outputs": [],
   "source": [
    "min_val = processed_df._get_numeric_data().min().min().round()\n",
    "max_val = processed_df._get_numeric_data().max().max().round()\n",
    "processed_df = processed_df[list(correlation_df.identifier) + ['group']]"
   ]
  },
  {
   "cell_type": "markdown",
   "id": "692bf5be",
   "metadata": {},
   "source": [
    "#### Ready! To build the parallel plot, we create a dictionary with the clusters and respectives colors, and filter the processed dataframe to include only the proteins in a specific cluster.\n",
    "Using the Jupyter Widgets **interact** function, we can make the plot interactive and allow the visualization of a cluster selected by the user."
   ]
  },
  {
   "cell_type": "code",
   "execution_count": null,
   "id": "4de0fba5",
   "metadata": {},
   "outputs": [],
   "source": [
    "from IPython.core.display import display, HTML"
   ]
  },
  {
   "cell_type": "code",
   "execution_count": null,
   "id": "ca56550f",
   "metadata": {},
   "outputs": [],
   "source": [
    "@interact\n",
    "def plot_parallel_plot(cluster=correlation_df.cluster.unique()):\n",
    "    cluster_colors = dict(zip(correlation_df.cluster, correlation_df.color))\n",
    "    clusters = correlation_df.groupby('cluster')\n",
    "    identifiers = clusters.get_group(cluster)['identifier'].tolist()\n",
    "    title= \"Parallel plot cluster: {}\".format(cluster)\n",
    "    df = processed_df.set_index('group')[identifiers].reset_index()\n",
    "    figure = plots.get_parallel_plot(df, identifier=cluster, args={'color':cluster_colors[cluster],'group':'group', \n",
    "                                                                          'title':title,\n",
    "                                                                          'zscore':False})\n",
    "    display(HTML(\"<p>{}</p>\".format(\",\".join(identifiers))))\n",
    "    iplot(figure.figure)"
   ]
  }
 ],
 "metadata": {},
 "nbformat": 4,
 "nbformat_minor": 5
}
