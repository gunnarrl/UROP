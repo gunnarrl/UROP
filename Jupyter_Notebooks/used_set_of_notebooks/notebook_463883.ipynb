{
 "cells": [
  {
   "cell_type": "markdown",
   "id": "95cd8d7e",
   "metadata": {},
   "source": [
    "# Partials\n",
    "\n",
    "Partials really help using functional concepts in Python. Using a partial just means executing a function with a partial argument list, which return another function, with the partials arguments alerady \"filled\".\n",
    "\n",
    "Can make classes that are just used as attribute containers obsolete. I find this very appealing.\n"
   ]
  },
  {
   "cell_type": "code",
   "execution_count": null,
   "id": "44087c2e",
   "metadata": {},
   "outputs": [],
   "source": [
    "from functools import partial"
   ]
  },
  {
   "cell_type": "markdown",
   "id": "82190c82",
   "metadata": {},
   "source": [
    "Example from: http://kachayev.github.io/talks/uapycon2012/#/41"
   ]
  },
  {
   "cell_type": "code",
   "execution_count": null,
   "id": "88516f40",
   "metadata": {},
   "outputs": [],
   "source": [
    "def greet(greeting, name):\n",
    "    return \"{0}! {1}\".format(greeting, name)"
   ]
  },
  {
   "cell_type": "markdown",
   "id": "35d8fbac",
   "metadata": {},
   "source": [
    "The following is the standard way of calling this function. I want to greet Klaus with a simple \"Hello\". Thus, I add two arguments to the function."
   ]
  },
  {
   "cell_type": "code",
   "execution_count": null,
   "id": "987eadc7",
   "metadata": {},
   "outputs": [],
   "source": [
    "greet(\"Hello\", \"Klaus\")"
   ]
  },
  {
   "cell_type": "markdown",
   "id": "e486173c",
   "metadata": {},
   "source": [
    "Now I want to build a function that always greets with the phrase \"Good evening\". I could solve this with a class or just always use two arguments. Or I could define a partial function."
   ]
  },
  {
   "cell_type": "code",
   "execution_count": null,
   "id": "6a46a88a",
   "metadata": {},
   "outputs": [],
   "source": [
    "good_evening_greet = partial(greet, \"Good evening\")"
   ]
  },
  {
   "cell_type": "code",
   "execution_count": null,
   "id": "89ba598a",
   "metadata": {},
   "outputs": [],
   "source": [
    "good_evening_greet(\"Klaus\")"
   ]
  },
  {
   "cell_type": "code",
   "execution_count": null,
   "id": "636ea396",
   "metadata": {},
   "outputs": [],
   "source": [
    "good_evening_greet(\"Engelbert\")"
   ]
  },
  {
   "cell_type": "markdown",
   "id": "d1f4d601",
   "metadata": {},
   "source": [
    "good_evening_greet itself is a function:"
   ]
  },
  {
   "cell_type": "code",
   "execution_count": null,
   "id": "97501ba9",
   "metadata": {},
   "outputs": [],
   "source": [
    "good_evening_greet"
   ]
  },
  {
   "cell_type": "markdown",
   "id": "b7c1c1b2",
   "metadata": {},
   "source": [
    " This nice little tool allows me to create different functions from a function that have some values already embedded into them. This approach is very similar to the closure appraoch from lesson one, but with one important distinction: \n",
    " \n",
    " __I don't have to think about the closure-ness at the time I am writing the greet function.__ \n",
    " \n",
    " The closurable \"greet\" function would have to look like this:"
   ]
  },
  {
   "cell_type": "code",
   "execution_count": null,
   "id": "963d3c9b",
   "metadata": {},
   "outputs": [],
   "source": [
    "def closure_greet(greeting):\n",
    "    def named_greet(name):\n",
    "        return \"{0}! {1}\".format(greeting, name)\n",
    "    return named_greet"
   ]
  },
  {
   "cell_type": "code",
   "execution_count": null,
   "id": "4e3fcd82",
   "metadata": {},
   "outputs": [],
   "source": [
    "evening_closure_greet = closure_greet(\"Good evening my dear closure\")"
   ]
  },
  {
   "cell_type": "code",
   "execution_count": null,
   "id": "e0c3e8e5",
   "metadata": {},
   "outputs": [],
   "source": [
    "evening_closure_greet(\"Klaus\")"
   ]
  },
  {
   "cell_type": "markdown",
   "id": "0dc9854e",
   "metadata": {},
   "source": [
    "Note how it wouldn't be possible to embed a pre-fixed name into this construct, because the order of nesting does not allow this. Using a partial, this is very simple:"
   ]
  },
  {
   "cell_type": "code",
   "execution_count": null,
   "id": "b1541d0f",
   "metadata": {},
   "outputs": [],
   "source": [
    "greet_queen_mother = partial(greet, name=\"Queen Elizabeth the Queen Mother\")"
   ]
  },
  {
   "cell_type": "code",
   "execution_count": null,
   "id": "564c7493",
   "metadata": {},
   "outputs": [],
   "source": [
    "greet_queen_mother(\"Nice to see you\")"
   ]
  },
  {
   "cell_type": "markdown",
   "id": "f96331b6",
   "metadata": {},
   "source": [
    "I could even build on good_evening_greet to wish the Queen Mother a good evening:"
   ]
  },
  {
   "cell_type": "code",
   "execution_count": null,
   "id": "3f38edb4",
   "metadata": {},
   "outputs": [],
   "source": [
    "good_evening_queen_mother = good_evening_greet(\"Queen Elizabeth the Queen Mother\")"
   ]
  },
  {
   "cell_type": "code",
   "execution_count": null,
   "id": "8c38db75",
   "metadata": {},
   "outputs": [],
   "source": [
    "good_evening_queen_mother"
   ]
  },
  {
   "cell_type": "markdown",
   "id": "20891031",
   "metadata": {},
   "source": [
    "Thus, I do find partials a very neat and flexible way to enable a very important concept of FP. Note how there is no global state introduced and no variables needed to be set."
   ]
  }
 ],
 "metadata": {},
 "nbformat": 4,
 "nbformat_minor": 5
}
