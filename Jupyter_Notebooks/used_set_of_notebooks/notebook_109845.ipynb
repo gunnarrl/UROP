{
 "cells": [
  {
   "cell_type": "markdown",
   "id": "3ac1960f",
   "metadata": {},
   "source": [
    "# Fetching data from a CSW catalog with Python tools\n",
    "\n",
    "This notebook shows a typical workflow to query a [Catalog Service for the Web (CSW)](https://en.wikipedia.org/wiki/Catalog_Service_for_the_Web) and create a request for data endpoints that are suitable for download.\n",
    "\n",
    "In this queries multiple catalogs for the near real time HF-Radar current data.\n",
    "\n",
    "The first step is to create the data filter based on the geographical region bounding box, the time span, and the CF variable standard name."
   ]
  },
  {
   "cell_type": "code",
   "execution_count": null,
   "id": "07f6af04",
   "metadata": {},
   "outputs": [],
   "source": [
    "from datetime import datetime, timedelta\n",
    "\n",
    "# Region: West coast.\n",
    "min_lon, max_lon = -123, -121\n",
    "min_lat, max_lat = 36, 40\n",
    "\n",
    "bbox = [min_lon, min_lat, max_lon, max_lat]\n",
    "crs = \"urn:ogc:def:crs:OGC:1.3:CRS84\"\n",
    "\n",
    "# Temporal range: past week.\n",
    "now = datetime.utcnow()\n",
    "start, stop = now - timedelta(days=(14)), now - timedelta(days=(7))\n",
    "\n",
    "# Surface velocity CF names.\n",
    "cf_names = [\n",
    "    \"surface_northward_sea_water_velocity\",\n",
    "    \"surface_eastward_sea_water_velocity\",\n",
    "]\n",
    "\n",
    "msg = \"\"\"\n",
    "*standard_names*: {cf_names}\n",
    "*start and stop dates*: {start} to {stop}\n",
    "*bounding box*:{bbox}\n",
    "*crs*: {crs}\"\"\".format\n",
    "\n",
    "print(\n",
    "    msg(\n",
    "        **{\n",
    "            \"cf_names\": \", \".join(cf_names),\n",
    "            \"start\": start,\n",
    "            \"stop\": stop,\n",
    "            \"bbox\": bbox,\n",
    "            \"crs\": crs,\n",
    "        }\n",
    "    )\n",
    ")"
   ]
  },
  {
   "cell_type": "markdown",
   "id": "6a5919b8",
   "metadata": {},
   "source": [
    "Now it is possible to assemble a [OGC Filter Encoding (FE)](http://www.opengeospatial.org/standards/filter) for the search using `owslib.fes`\\*. Note that the final result is only a list with all the filtering conditions.\n",
    "\n",
    "\\* OWSLib is a Python package for client programming with Open Geospatial Consortium (OGC) web service (hence OWS) interface standards, and their related content models."
   ]
  },
  {
   "cell_type": "code",
   "execution_count": null,
   "id": "0f803eb3",
   "metadata": {},
   "outputs": [],
   "source": [
    "from owslib import fes\n",
    "\n",
    "\n",
    "def fes_date_filter(start, stop, constraint=\"overlaps\"):\n",
    "    start = start.strftime(\"%Y-%m-%d %H:00\")\n",
    "    stop = stop.strftime(\"%Y-%m-%d %H:00\")\n",
    "    if constraint == \"overlaps\":\n",
    "        propertyname = \"apiso:TempExtent_begin\"\n",
    "        begin = fes.PropertyIsLessThanOrEqualTo(propertyname=propertyname, literal=stop)\n",
    "        propertyname = \"apiso:TempExtent_end\"\n",
    "        end = fes.PropertyIsGreaterThanOrEqualTo(\n",
    "            propertyname=propertyname, literal=start\n",
    "        )\n",
    "    elif constraint == \"within\":\n",
    "        propertyname = \"apiso:TempExtent_begin\"\n",
    "        begin = fes.PropertyIsGreaterThanOrEqualTo(\n",
    "            propertyname=propertyname, literal=start\n",
    "        )\n",
    "        propertyname = \"apiso:TempExtent_end\"\n",
    "        end = fes.PropertyIsLessThanOrEqualTo(propertyname=propertyname, literal=stop)\n",
    "    else:\n",
    "        raise NameError(\"Unrecognized constraint {}\".format(constraint))\n",
    "    return begin, end"
   ]
  },
  {
   "cell_type": "code",
   "execution_count": null,
   "id": "cc0ca786",
   "metadata": {},
   "outputs": [],
   "source": [
    "kw = dict(wildCard=\"*\", escapeChar=\"\\\\\", singleChar=\"?\", propertyname=\"apiso:AnyText\")\n",
    "\n",
    "or_filt = fes.Or([fes.PropertyIsLike(literal=(\"*%s*\" % val), **kw) for val in cf_names])\n",
    "\n",
    "# Exclude GNOME returns.\n",
    "not_filt = fes.Not([fes.PropertyIsLike(literal=\"*GNOME*\", **kw)])\n",
    "\n",
    "begin, end = fes_date_filter(start, stop)\n",
    "bbox_crs = fes.BBox(bbox, crs=crs)\n",
    "filter_list = [fes.And([bbox_crs, begin, end, or_filt, not_filt])]"
   ]
  },
  {
   "cell_type": "markdown",
   "id": "5ed83010",
   "metadata": {},
   "source": [
    "It is possible to use the same filter to search multiple catalogs. The cell below loops over 3 catalogs hoping to find which one is more up-to-date and returns the near real time data."
   ]
  },
  {
   "cell_type": "code",
   "execution_count": null,
   "id": "9a2dee32",
   "metadata": {},
   "outputs": [],
   "source": [
    "def get_csw_records(csw, filter_list, pagesize=10, maxrecords=1000):\n",
    "    \"\"\"Iterate `maxrecords`/`pagesize` times until the requested value in\n",
    "    `maxrecords` is reached.\n",
    "    \"\"\"\n",
    "    from owslib.fes import SortBy, SortProperty\n",
    "\n",
    "    # Iterate over sorted results.\n",
    "    sortby = SortBy([SortProperty(\"dc:title\", \"ASC\")])\n",
    "    csw_records = {}\n",
    "    startposition = 0\n",
    "    nextrecord = getattr(csw, \"results\", 1)\n",
    "    while nextrecord != 0:\n",
    "        csw.getrecords2(\n",
    "            constraints=filter_list,\n",
    "            startposition=startposition,\n",
    "            maxrecords=pagesize,\n",
    "            sortby=sortby,\n",
    "        )\n",
    "        csw_records.update(csw.records)\n",
    "        if csw.results[\"nextrecord\"] == 0:\n",
    "            break\n",
    "        startposition += pagesize + 1  # Last one is included.\n",
    "        if startposition >= maxrecords:\n",
    "            break\n",
    "    csw.records.update(csw_records)"
   ]
  },
  {
   "cell_type": "code",
   "execution_count": null,
   "id": "f4894521",
   "metadata": {},
   "outputs": [],
   "source": [
    "from owslib.csw import CatalogueServiceWeb\n",
    "\n",
    "endpoint = \"https://data.ioos.us/csw\"\n",
    "\n",
    "csw = CatalogueServiceWeb(endpoint, timeout=60)\n",
    "get_csw_records(csw, filter_list, pagesize=10, maxrecords=1000)\n",
    "\n",
    "records = \"\\n\".join(csw.records.keys())\n",
    "print(\"Found {} records.\\n\".format(len(csw.records.keys())))\n",
    "for key, value in list(csw.records.items()):\n",
    "    print(\"[{}]: {}\".format(value.title, key))"
   ]
  },
  {
   "cell_type": "markdown",
   "id": "9908de52",
   "metadata": {},
   "source": [
    "Let us check the 6 km resolution metadata record we found above."
   ]
  },
  {
   "cell_type": "code",
   "execution_count": null,
   "id": "4415c883",
   "metadata": {},
   "outputs": [],
   "source": [
    "value = csw.records[\n",
    "    \"HFR/USWC/6km/hourly/RTV/HFRADAR_US_West_Coast_6km_Resolution_Hourly_RTV_best.ncd\"\n",
    "]\n",
    "\n",
    "print(value.abstract)"
   ]
  },
  {
   "cell_type": "code",
   "execution_count": null,
   "id": "6b9c96fa",
   "metadata": {},
   "outputs": [],
   "source": [
    "attrs = [attr for attr in dir(value) if not attr.startswith(\"_\")]\n",
    "nonzero = [attr for attr in attrs if getattr(value, attr)]\n",
    "nonzero"
   ]
  },
  {
   "cell_type": "markdown",
   "id": "18ee6830",
   "metadata": {},
   "source": [
    "The `xml` has the full dataset metadata from the catalog. Let's print a few key ones here:"
   ]
  },
  {
   "cell_type": "code",
   "execution_count": null,
   "id": "5e3c3811",
   "metadata": {},
   "outputs": [],
   "source": [
    "value.subjects  # What is in there?"
   ]
  },
  {
   "cell_type": "code",
   "execution_count": null,
   "id": "7d894f7a",
   "metadata": {},
   "outputs": [],
   "source": [
    "value.modified  # Is it up-to-date?"
   ]
  },
  {
   "cell_type": "code",
   "execution_count": null,
   "id": "ac23addb",
   "metadata": {},
   "outputs": [],
   "source": [
    "bbox = value.bbox.minx, value.bbox.miny, value.bbox.maxx, value.bbox.maxy\n",
    "bbox  # The actual bounding box of the data."
   ]
  },
  {
   "cell_type": "markdown",
   "id": "4a95e072",
   "metadata": {},
   "source": [
    "The next step is to inspect the type services and schemes available for downloading the data.\n",
    "The easiest way to accomplish that is with by \"sniffing\" the URLs with `geolinks`."
   ]
  },
  {
   "cell_type": "code",
   "execution_count": null,
   "id": "f35f116d",
   "metadata": {},
   "outputs": [],
   "source": [
    "from geolinks import sniff_link\n",
    "\n",
    "msg = \"geolink: {geolink}\\nscheme: {scheme}\\nURL: {url}\\n\".format\n",
    "for ref in value.references:\n",
    "    if ref[\"scheme\"] == \"OPeNDAP:OPeNDAP\":\n",
    "        url = ref[\"url\"]\n",
    "    print(msg(geolink=sniff_link(ref[\"url\"]), **ref))"
   ]
  },
  {
   "cell_type": "markdown",
   "id": "6601af6c",
   "metadata": {},
   "source": [
    "For a detailed description of what those `geolink` results mean check the [lookup](https://github.com/OSGeo/Cat-Interop/blob/master/LinkPropertyLookupTable.csv) table.\n",
    "There are Web Coverage Service (WCS), Web Map Service (WMS),\n",
    "direct links, and OPeNDAP services available.\n",
    "\n",
    "We can use any of those to obtain the data but the easiest one to explore interactively is the open OPeNDAP endpoint."
   ]
  },
  {
   "cell_type": "code",
   "execution_count": null,
   "id": "e2a2d6b1",
   "metadata": {},
   "outputs": [],
   "source": [
    "import xarray as xr\n",
    "\n",
    "ds = xr.open_dataset(url)\n",
    "ds"
   ]
  },
  {
   "cell_type": "markdown",
   "id": "e3702a1f",
   "metadata": {},
   "source": [
    "Select \"yesterday\" data."
   ]
  },
  {
   "cell_type": "code",
   "execution_count": null,
   "id": "23ac7c74",
   "metadata": {},
   "outputs": [],
   "source": [
    "from datetime import date, timedelta\n",
    "\n",
    "yesterday = date.today() - timedelta(days=1)\n",
    "\n",
    "ds = ds.sel(time=yesterday)"
   ]
  },
  {
   "cell_type": "markdown",
   "id": "3eea4cac",
   "metadata": {},
   "source": [
    "Compute the speed while masking invalid values."
   ]
  },
  {
   "cell_type": "code",
   "execution_count": null,
   "id": "74d376b3",
   "metadata": {},
   "outputs": [],
   "source": [
    "import numpy.ma as ma\n",
    "\n",
    "u = ds[\"u\"].data\n",
    "v = ds[\"v\"].data\n",
    "\n",
    "lon = ds.coords[\"lon\"].data\n",
    "lat = ds.coords[\"lat\"].data\n",
    "time = ds.coords[\"time\"].data\n",
    "\n",
    "u = ma.masked_invalid(u)\n",
    "v = ma.masked_invalid(v)"
   ]
  },
  {
   "cell_type": "markdown",
   "id": "d42b97dd",
   "metadata": {},
   "source": [
    "This cell is only a trick to show all quiver arrows with the same length,\n",
    "for visualization purposes,\n",
    "and indicate the vector magnitude with colors instead."
   ]
  },
  {
   "cell_type": "code",
   "execution_count": null,
   "id": "6426b76b",
   "metadata": {},
   "outputs": [],
   "source": [
    "import numpy as np\n",
    "from oceans.ocfis import spdir2uv, uv2spdir\n",
    "\n",
    "angle, speed = uv2spdir(u, v)\n",
    "us, vs = spdir2uv(np.ones_like(speed), angle, deg=True)"
   ]
  },
  {
   "cell_type": "markdown",
   "id": "3a77abf0",
   "metadata": {},
   "source": [
    "And now we are ready to create the plot."
   ]
  },
  {
   "cell_type": "code",
   "execution_count": null,
   "id": "c1490bf3",
   "metadata": {},
   "outputs": [],
   "source": [
    "%matplotlib inline\n",
    "\n",
    "import cartopy.crs as ccrs\n",
    "import matplotlib.pyplot as plt\n",
    "from cartopy import feature\n",
    "from cartopy.mpl.gridliner import LATITUDE_FORMATTER, LONGITUDE_FORMATTER\n",
    "\n",
    "LAND = feature.NaturalEarthFeature(\n",
    "    \"physical\", \"land\", \"10m\", edgecolor=\"face\", facecolor=\"lightgray\"\n",
    ")\n",
    "\n",
    "sub = 2\n",
    "dx = dy = 0.5\n",
    "center = -122.416667, 37.783333  # San Francisco.\n",
    "bbox = lon.min(), lon.max(), lat.min(), lat.max()\n",
    "\n",
    "fig, (ax0, ax1) = plt.subplots(\n",
    "    ncols=2, figsize=(20, 20), subplot_kw=dict(projection=ccrs.PlateCarree())\n",
    ")\n",
    "\n",
    "\n",
    "ax0.set_extent(bbox)\n",
    "cs = ax0.pcolormesh(lon, lat, ma.masked_invalid(speed))\n",
    "gl = ax0.gridlines(draw_labels=True)\n",
    "gl.xlabels_top = gl.ylabels_right = False\n",
    "gl.xformatter = LONGITUDE_FORMATTER\n",
    "gl.yformatter = LATITUDE_FORMATTER\n",
    "\n",
    "cbar = fig.colorbar(cs, ax=ax0, shrink=0.45, extend=\"both\")\n",
    "cbar.ax.set_title(r\"speed m s$^{-1}$\", loc=\"left\")\n",
    "\n",
    "ax0.add_feature(LAND, zorder=0, edgecolor=\"black\")\n",
    "ax0.set_title(\"{}\\n{}\".format(value.title, ds[\"time\"].values))\n",
    "\n",
    "ax1.set_extent([center[0] - dx - dx, center[0] + dx, center[1] - dy, center[1] + dy])\n",
    "q = ax1.quiver(\n",
    "    lon[::sub],\n",
    "    lat[::sub],\n",
    "    us[::sub, ::sub],\n",
    "    vs[::sub, ::sub],\n",
    "    speed[::sub, ::sub],\n",
    "    scale=30,\n",
    ")\n",
    "ax1.quiverkey(q, 0.5, 0.85, 1, r\"1 m s$^{-1}$\", coordinates=\"axes\")\n",
    "gl = ax1.gridlines(draw_labels=True)\n",
    "gl.xlabels_top = gl.ylabels_right = False\n",
    "gl.xformatter = LONGITUDE_FORMATTER\n",
    "gl.yformatter = LATITUDE_FORMATTER\n",
    "\n",
    "ax1.add_feature(LAND, zorder=0, edgecolor=\"black\")\n",
    "ax1.plot(\n",
    "    ds[\"site_lon\"], ds[\"site_lat\"], marker=\"o\", linestyle=\"none\", color=\"darkorange\"\n",
    ")\n",
    "ax1.set_title(\"San Francisco Bay area\")"
   ]
  },
  {
   "cell_type": "markdown",
   "id": "0d3ff149",
   "metadata": {},
   "source": [
    "And here is yesterday's sea surface currents from the west coast with a zoom in the San Francisco Bay area."
   ]
  }
 ],
 "metadata": {},
 "nbformat": 4,
 "nbformat_minor": 5
}
