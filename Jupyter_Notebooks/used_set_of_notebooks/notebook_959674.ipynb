{
 "cells": [
  {
   "cell_type": "markdown",
   "id": "1b6397b9",
   "metadata": {},
   "source": [
    "# Logistic Regression Notebook"
   ]
  },
  {
   "cell_type": "markdown",
   "id": "9714b375",
   "metadata": {},
   "source": [
    "#### *Author: Kunyu He*\n",
    "#### *University of Chicago, CAPP'20*"
   ]
  },
  {
   "cell_type": "code",
   "execution_count": null,
   "id": "86467f16",
   "metadata": {},
   "outputs": [],
   "source": [
    "import matplotlib as mpl\n",
    "import pandas as pd\n",
    "import numpy as np\n",
    "import matplotlib.pyplot as plt\n",
    "\n",
    "from sklearn.model_selection import train_test_split\n",
    "from sklearn.preprocessing import StandardScaler\n",
    "from sklearn.linear_model import LogisticRegression\n",
    "from sklearn.metrics import confusion_matrix\n",
    "from matplotlib.colors import ListedColormap"
   ]
  },
  {
   "cell_type": "code",
   "execution_count": null,
   "id": "f7fbf391",
   "metadata": {},
   "outputs": [],
   "source": [
    "mpl.style.use(\"seaborn\")"
   ]
  },
  {
   "cell_type": "markdown",
   "id": "df880245",
   "metadata": {},
   "source": [
    "### Load Data"
   ]
  },
  {
   "cell_type": "code",
   "execution_count": null,
   "id": "09dd88f0",
   "metadata": {},
   "outputs": [],
   "source": [
    "network = pd.read_csv(\"Social_Network_Ads.csv\")\n",
    "network.head()"
   ]
  },
  {
   "cell_type": "markdown",
   "id": "7c453c69",
   "metadata": {},
   "source": [
    "### Data Cleaning"
   ]
  },
  {
   "cell_type": "code",
   "execution_count": null,
   "id": "3fb56433",
   "metadata": {},
   "outputs": [],
   "source": [
    "network.shape"
   ]
  },
  {
   "cell_type": "code",
   "execution_count": null,
   "id": "fc99deb4",
   "metadata": {},
   "outputs": [],
   "source": [
    "network.isnull().sum(axis=0)"
   ]
  },
  {
   "cell_type": "markdown",
   "id": "78f69f67",
   "metadata": {},
   "source": [
    "No missing data."
   ]
  },
  {
   "cell_type": "markdown",
   "id": "37869915",
   "metadata": {},
   "source": [
    "### Feature Selection"
   ]
  },
  {
   "cell_type": "code",
   "execution_count": null,
   "id": "f0d7ec0c",
   "metadata": {},
   "outputs": [],
   "source": [
    "X = network.iloc[:, 2:4].values.astype(float)\n",
    "X.shape"
   ]
  },
  {
   "cell_type": "code",
   "execution_count": null,
   "id": "0a343048",
   "metadata": {},
   "outputs": [],
   "source": [
    "y = network.Purchased.values.astype(float)\n",
    "y.shape"
   ]
  },
  {
   "cell_type": "markdown",
   "id": "114477e1",
   "metadata": {},
   "source": [
    "### Training and Test Set Split"
   ]
  },
  {
   "cell_type": "code",
   "execution_count": null,
   "id": "efec6b11",
   "metadata": {},
   "outputs": [],
   "source": [
    "X_train, X_test, y_train, y_test = train_test_split(X, y, test_size=0.25,\n",
    "                                                    random_state=123)"
   ]
  },
  {
   "cell_type": "markdown",
   "id": "fa8ae28a",
   "metadata": {},
   "source": [
    "### Feature Scaling"
   ]
  },
  {
   "cell_type": "code",
   "execution_count": null,
   "id": "309e3b58",
   "metadata": {},
   "outputs": [],
   "source": [
    "sc_X = StandardScaler()\n",
    "\n",
    "X_train = sc_X.fit_transform(X_train)\n",
    "X_test = sc_X.fit_transform(X_test)"
   ]
  },
  {
   "cell_type": "markdown",
   "id": "2b96a0e6",
   "metadata": {},
   "source": [
    "### Model Training"
   ]
  },
  {
   "cell_type": "code",
   "execution_count": null,
   "id": "90186f57",
   "metadata": {},
   "outputs": [],
   "source": [
    "lrc = LogisticRegression(solver='lbfgs', random_state=123)\n",
    "lrc.fit(X_train, y_train)"
   ]
  },
  {
   "cell_type": "markdown",
   "id": "06cc68f7",
   "metadata": {},
   "source": [
    "### Model Evaluation"
   ]
  },
  {
   "cell_type": "code",
   "execution_count": null,
   "id": "77b2cac1",
   "metadata": {},
   "outputs": [],
   "source": [
    "test_pred = lrc.predict(X_test)"
   ]
  },
  {
   "cell_type": "code",
   "execution_count": null,
   "id": "6a4db19a",
   "metadata": {},
   "outputs": [],
   "source": [
    "confusion_matrix(y_test, test_pred)"
   ]
  },
  {
   "cell_type": "markdown",
   "id": "9b9f0673",
   "metadata": {},
   "source": [
    "Define a function that visualize the actual observation (scatters) against our predictions (regions)."
   ]
  },
  {
   "cell_type": "code",
   "execution_count": null,
   "id": "50acaa3d",
   "metadata": {},
   "outputs": [],
   "source": [
    "def actual_vs_predicted(ax, classifier, X, y, \n",
    "                        title=None, xlabel=None, ylabel=None,\n",
    "                        postive_color=\"red\", negative_color=\"green\", edge_color=\"black\",\n",
    "                        postive_legend=None, negative_legend=None, legend_loc=\"best\"):\n",
    "    X1, X2 = np.meshgrid(np.arange(X[:, 0].min() - 1, X[:, 0].max() + 1, 0.01),\n",
    "                         np.arange(X[:, 1].min() - 1, X[:, 1].max() + 1, 0.01))\n",
    "\n",
    "    ax.contourf(X1, X2, classifier.predict(np.array([X1.ravel(),X2.ravel()]\n",
    "                                                    ).T).reshape(X1.shape),\n",
    "                 alpha = 0.75, cmap = ListedColormap((negative_color,\n",
    "                                                      postive_color)))\n",
    "    ax.scatter(X[y == 0, 0], X[y == 0, 1], c=negative_color,\n",
    "               label=negative_legend, edgecolors=edge_color, alpha=0.8)\n",
    "    ax.scatter(X[y == 1, 0], X[y == 1, 1], c=postive_color,\n",
    "               label=postive_legend, edgecolors=edge_color, alpha=0.8)\n",
    "    \n",
    "    ax.set_xlim(X1.min(), X1.max())\n",
    "    ax.set_ylim(X2.min(), X2.max())\n",
    "    ax.set_title(title, fontdict={'fontsize': 15, 'fontweight': \"bold\"})\n",
    "    ax.set_xlabel(xlabel, fontsize=13)\n",
    "    ax.set_ylabel(ylabel, fontsize=13)\n",
    "    ax.legend(frameon=True, framealpha=0.3, fancybox=True, fontsize=12)"
   ]
  },
  {
   "cell_type": "code",
   "execution_count": null,
   "id": "72f24900",
   "metadata": {},
   "outputs": [],
   "source": [
    "fig = plt.figure(figsize=[24, 8])\n",
    "ax1 = fig.add_subplot(1, 2, 1)\n",
    "ax2 = fig.add_subplot(1, 2, 2)\n",
    "\n",
    "actual_vs_predicted(ax1, lrc, X_train, y_train,\n",
    "                    title=\"Logistic Regression Classifier: the classified training set\",\n",
    "                    xlabel=\"Age\", ylabel=\"Estimated Salary\",\n",
    "                    postive_legend=\"Bought SUV\", negative_legend=\"Did not buy SUV\")\n",
    "\n",
    "actual_vs_predicted(ax2, lrc, X_test, y_test,\n",
    "                    title=\"Logistic Regression Classifier: the slassified test set\",\n",
    "                    xlabel=\"Age\", ylabel=\"Estimated Salary\",\n",
    "                    postive_legend=\"Bought SUV\", negative_legend=\"Did not buy SUV\")\n",
    "\n",
    "plt.show()"
   ]
  }
 ],
 "metadata": {},
 "nbformat": 4,
 "nbformat_minor": 5
}
