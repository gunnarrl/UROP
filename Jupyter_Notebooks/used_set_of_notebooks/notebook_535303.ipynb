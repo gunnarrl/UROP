{
 "cells": [
  {
   "cell_type": "markdown",
   "id": "15a546ad",
   "metadata": {},
   "source": [
    "# The missing shapes of protected areas\n",
    "\n",
    "The WDPA reports all protected areas in Europe, but for some there is no information on their geographic shape. In here I want to assess whether those areas can be neglected, and if not, how to estimate them."
   ]
  },
  {
   "cell_type": "code",
   "execution_count": null,
   "id": "3ada865b",
   "metadata": {},
   "outputs": [],
   "source": [
    "import math\n",
    "\n",
    "import fiona\n",
    "import geopandas as gpd\n",
    "import pycountry"
   ]
  },
  {
   "cell_type": "markdown",
   "id": "742b6158",
   "metadata": {},
   "source": [
    "## The fraction of protected areas with missing shape\n",
    "\n",
    "First I am assessing the fraction of protected land, for which the shape is missing. The WDPA comes in two databases: one with polygons reporting the protected areas for which shapes are known, and another one with points of the areas for which shapes are not known. I am not too much interested in the count of areas, but the actual land they cover. Hence I will assess that in the following.\n",
    "\n",
    "The polygon database is nasty: the polygons are complex and operations often take long. Even worse: there is one polygon which seems invalid and `geopandas` fails reading it. I am hence using `fiona` in the following which allows for quick filtering of the data (the invalid one is not in Europe)."
   ]
  },
  {
   "cell_type": "code",
   "execution_count": null,
   "id": "ff8bd3bd",
   "metadata": {},
   "outputs": [],
   "source": [
    "COUNTRIES = [\n",
    "    \"Austria\",\n",
    "    \"Belgium\",\n",
    "    \"Bulgaria\",\n",
    "    \"Croatia\",\n",
    "    \"Cyprus\",\n",
    "    \"Czech Republic\",\n",
    "    \"Denmark\",\n",
    "    \"Estonia\",\n",
    "    \"Finland\",\n",
    "    \"France\",\n",
    "    \"Germany\",\n",
    "    \"Greece\",\n",
    "    \"Hungary\",\n",
    "    \"Ireland\",\n",
    "    \"Italy\",\n",
    "    \"Latvia\",\n",
    "    \"Lithuania\",\n",
    "    \"Luxembourg\",\n",
    "    \"Malta\",\n",
    "    \"Netherlands\",\n",
    "    \"Poland\",\n",
    "    \"Portugal\",\n",
    "    \"Romania\",\n",
    "    \"Slovakia\",\n",
    "    \"Slovenia\",\n",
    "    \"Spain\",\n",
    "    \"Sweden\",\n",
    "    \"United Kingdom\",\n",
    "    \"Norway\",\n",
    "    \"Switzerland\"\n",
    "]\n",
    "\n",
    "COUNTRIES_ISO_ALPHA_3 = [pycountry.countries.lookup(country).alpha_3 for country in COUNTRIES]\n",
    "BBOX_EUROPE = (-12, 20, 40, 79)"
   ]
  },
  {
   "cell_type": "code",
   "execution_count": null,
   "id": "8c2c5ec0",
   "metadata": {},
   "outputs": [],
   "source": [
    "with fiona.open(\"../build/raw-wdpa-jan2018/WDPA_Jan2018-shapefile-points.shp\") as f_points:\n",
    "    rep_area_points = sum([rec[1][\"properties\"][\"REP_AREA\"] \n",
    "                           for rec in f_points.items(bbox=BBOX_EUROPE)\n",
    "                           if rec[1][\"properties\"][\"ISO3\"] in COUNTRIES_ISO_ALPHA_3\n",
    "                           if rec[1][\"properties\"][\"STATUS\"] == 'Designated'\n",
    "                          ])\n",
    "    rep_m_area_points = sum([rec[1][\"properties\"][\"REP_M_AREA\"] \n",
    "                             for rec in f_points.items(bbox=BBOX_EUROPE)                             \n",
    "                             if rec[1][\"properties\"][\"ISO3\"] in COUNTRIES_ISO_ALPHA_3\n",
    "                             if rec[1][\"properties\"][\"STATUS\"] == 'Designated'\n",
    "                            ])"
   ]
  },
  {
   "cell_type": "code",
   "execution_count": null,
   "id": "692aeb36",
   "metadata": {},
   "outputs": [],
   "source": [
    "print(\"Reported area of points:        {:.2f} km^2\".format(rep_area_points))\n",
    "print(\"Reported marine area of points: {:.2f} km^2\".format(rep_m_area_points))"
   ]
  },
  {
   "cell_type": "code",
   "execution_count": null,
   "id": "0dc457c9",
   "metadata": {},
   "outputs": [],
   "source": [
    "with fiona.open(\"../build/raw-wdpa-jan2018/WDPA_Jan2018-shapefile-polygons.shp\") as f_polygon:\n",
    "    rep_area_polygons = sum([rec[1][\"properties\"][\"REP_AREA\"] \n",
    "                             for rec in f_polygon.items(bbox=BBOX_EUROPE)                           \n",
    "                             if rec[1][\"properties\"][\"ISO3\"] in COUNTRIES_ISO_ALPHA_3\n",
    "                             if rec[1][\"properties\"][\"STATUS\"] == 'Designated'\n",
    "                            ])\n",
    "    rep_m_area_polygons = sum([rec[1][\"properties\"][\"REP_M_AREA\"] \n",
    "                               for rec in f_polygon.items(bbox=BBOX_EUROPE)\n",
    "                               if rec[1][\"properties\"][\"ISO3\"] in COUNTRIES_ISO_ALPHA_3\n",
    "                               if rec[1][\"properties\"][\"STATUS\"] == 'Designated'\n",
    "                              ])"
   ]
  },
  {
   "cell_type": "code",
   "execution_count": null,
   "id": "43fc0378",
   "metadata": {},
   "outputs": [],
   "source": [
    "print(\"Reported area of polygons:        {:.2f} km^2\".format(rep_area_polygons))\n",
    "print(\"Reported marine area of polygons: {:.2f} km^2\".format(rep_m_area_polygons))"
   ]
  },
  {
   "cell_type": "code",
   "execution_count": null,
   "id": "8fd05113",
   "metadata": {},
   "outputs": [],
   "source": [
    "fraction_points = rep_area_points / (rep_area_points + rep_area_polygons)\n",
    "print(\"Fraction of area reported as points: {:.1f}%\".format(fraction_points * 100))"
   ]
  },
  {
   "cell_type": "code",
   "execution_count": null,
   "id": "579ef493",
   "metadata": {},
   "outputs": [],
   "source": [
    "fraction_m_points = rep_m_area_points / (rep_m_area_points + rep_m_area_polygons)\n",
    "print(\"Fraction of marine area reported as points: {:.1f}%\".format(fraction_m_points * 100))"
   ]
  },
  {
   "cell_type": "markdown",
   "id": "4806af29",
   "metadata": {},
   "source": [
    "If I was to ignore the point database, I'd neglect 7% of the protected land in Europe. That's roughly the area of half of the size of Germany. Almost all missing shapes span over land, not marine areas."
   ]
  },
  {
   "cell_type": "markdown",
   "id": "db48a77b",
   "metadata": {},
   "source": [
    "## Estimating the shape of areas reported as points"
   ]
  },
  {
   "cell_type": "markdown",
   "id": "0afcee65",
   "metadata": {},
   "source": [
    "Let's try to come up with an estimation of the shape of areas that are reported as points. Here's what the manual of WDPA Jan 2018 states about the points:\n",
    "\n",
    "> Where boundary data is unavailable, the latitude and longitude of the centermost point of the site is requested as a reference point for the protected area instead. Although this is strongly encouraged, data providers are not always able to submit such information. Therefore, it should not be assumed that all points in the WDPA represent a central point of a given site. If the protected area is made up of multiple parts, multi- points associated with the central locations of each part of the protected area may be stored instead (see Figure 2.2).\n",
    "\n",
    "So the points are centroids, or at least should be. A simple approach would be to draw a circle around that centroid with the reported area size and use that as an estimation of the real protected area. A difficulty here would be the areas that are represented by more than one point. Let's find out how many of those there are and how to handle them."
   ]
  },
  {
   "cell_type": "code",
   "execution_count": null,
   "id": "409c42e5",
   "metadata": {},
   "outputs": [],
   "source": [
    "with fiona.open(\"../build/raw-wdpa-jan2018/WDPA_Jan2018-shapefile-points.shp\") as f_points:\n",
    "    points_in_europe = list(rec for rec in f_points.items(bbox=BBOX_EUROPE)\n",
    "                            if rec[1][\"properties\"][\"ISO3\"] in COUNTRIES_ISO_ALPHA_3\n",
    "                           )"
   ]
  },
  {
   "cell_type": "code",
   "execution_count": null,
   "id": "fd4e60a1",
   "metadata": {},
   "outputs": [],
   "source": [
    "types = set(point[1][\"geometry\"][\"type\"] for point in points_in_europe)\n",
    "print(types)"
   ]
  },
  {
   "cell_type": "markdown",
   "id": "3aa57383",
   "metadata": {},
   "source": [
    "Technically, everything seems to be stored as a `MultiPoint`."
   ]
  },
  {
   "cell_type": "code",
   "execution_count": null,
   "id": "86c2aea1",
   "metadata": {},
   "outputs": [],
   "source": [
    "n_coordinates = set(len(point[1][\"geometry\"][\"coordinates\"]) for point in points_in_europe)\n",
    "print(n_coordinates)"
   ]
  },
  {
   "cell_type": "markdown",
   "id": "2a760903",
   "metadata": {},
   "source": [
    "In any case, there are no entries in the database that contain more than one point."
   ]
  },
  {
   "cell_type": "markdown",
   "id": "28a0cbab",
   "metadata": {},
   "source": [
    "### Approach 1: Drawing circles around points"
   ]
  },
  {
   "cell_type": "markdown",
   "id": "dc5f44c3",
   "metadata": {},
   "source": [
    "In the following, I will project to gall peters temporarily, because the coordinate system is equidistant. Every unit represents 1 meter."
   ]
  },
  {
   "cell_type": "code",
   "execution_count": null,
   "id": "08d161b5",
   "metadata": {},
   "outputs": [],
   "source": [
    "# from http://spatialreference.org/ref/sr-org/22/\n",
    "GALL_PETERS_PROJ4 = \"+proj=cea +lon_0=0 +lat_ts=45 +x_0=0 +y_0=0 +ellps=WGS84 +units=m +no_defs \""
   ]
  },
  {
   "cell_type": "code",
   "execution_count": null,
   "id": "eb0c56c5",
   "metadata": {},
   "outputs": [],
   "source": [
    "points = gpd.read_file(\"../build/raw-wdpa-jan2018/WDPA_Jan2018-shapefile-points.shp\")\n",
    "points_in_europe = points.cx[-12:40, 20:79].loc[points.ISO3.isin(COUNTRIES_ISO_ALPHA_3)].copy()\n",
    "original_crs = points_in_europe.crs"
   ]
  },
  {
   "cell_type": "code",
   "execution_count": null,
   "id": "9b899b40",
   "metadata": {},
   "outputs": [],
   "source": [
    "# convert points to circles\n",
    "points_in_europe = points_in_europe.to_crs(GALL_PETERS_PROJ4)\n",
    "def radius_meter(area_squarekilometer):\n",
    "    area_squaremeter = area_squarekilometer * 1e6\n",
    "    return math.sqrt(area_squaremeter / math.pi)\n",
    "points_in_europe.geometry = [rec[1].geometry.buffer(radius_meter(rec[1][\"REP_AREA\"])) \n",
    "                             for rec in points_in_europe.iterrows()]"
   ]
  },
  {
   "cell_type": "code",
   "execution_count": null,
   "id": "7abbd706",
   "metadata": {},
   "outputs": [],
   "source": [
    "# test area size (error must be smaller 1%)\n",
    "area_size_calculated = points_in_europe.area.sum() / 1e6\n",
    "area_size_reported = points_in_europe.REP_AREA.sum()\n",
    "assert abs(area_size_calculated - area_size_reported) < area_size_reported / 100"
   ]
  },
  {
   "cell_type": "code",
   "execution_count": null,
   "id": "f98068fe",
   "metadata": {},
   "outputs": [],
   "source": [
    "# project back to original CRS\n",
    "points_in_europe = points_in_europe.to_crs(original_crs)"
   ]
  },
  {
   "cell_type": "markdown",
   "id": "f90b96be",
   "metadata": {},
   "source": [
    "This approach is simple and pragmatic and its error in terms of total amount of land area is less than 1%."
   ]
  }
 ],
 "metadata": {},
 "nbformat": 4,
 "nbformat_minor": 5
}
