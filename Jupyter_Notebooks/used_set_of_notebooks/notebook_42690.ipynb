{
 "cells": [
  {
   "cell_type": "markdown",
   "id": "f25e8ce8",
   "metadata": {},
   "source": [
    "# Multi-Task Learning Example"
   ]
  },
  {
   "cell_type": "markdown",
   "id": "1dc39634",
   "metadata": {},
   "source": [
    "This is a simple example to show how to use mxnet for multi-task learning.\n",
    "\n",
    "The network is jointly going to learn whether a number is odd or even and to actually recognize the digit.\n",
    "\n",
    "\n",
    "For example\n",
    "\n",
    "- 1 : 1 and odd\n",
    "- 2 : 2 and even\n",
    "- 3 : 3 and odd\n",
    "\n",
    "etc\n",
    "\n",
    "In this example we don't expect the tasks to contribute to each other much, but for example multi-task learning has been successfully applied to the domain of image captioning. In [A Multi-task Learning Approach for Image Captioning](https://www.ijcai.org/proceedings/2018/0168.pdf) by Wei Zhao, Benyou Wang, Jianbo Ye, Min Yang, Zhou Zhao, Ruotian Luo, Yu Qiao, they train a network to jointly classify images and generate text captions"
   ]
  },
  {
   "cell_type": "code",
   "execution_count": null,
   "id": "874a533b",
   "metadata": {},
   "outputs": [],
   "source": [
    "import logging\n",
    "import random\n",
    "import time\n",
    "\n",
    "import matplotlib.pyplot as plt\n",
    "import mxnet as mx\n",
    "from mxnet import gluon, nd, autograd\n",
    "import numpy as np"
   ]
  },
  {
   "cell_type": "markdown",
   "id": "ec588b01",
   "metadata": {},
   "source": [
    "### Parameters"
   ]
  },
  {
   "cell_type": "code",
   "execution_count": null,
   "id": "8aab40d4",
   "metadata": {},
   "outputs": [],
   "source": [
    "batch_size = 128\n",
    "epochs = 5\n",
    "ctx = mx.gpu() if mx.context.num_gpus() > 0 else mx.cpu()\n",
    "lr = 0.01"
   ]
  },
  {
   "cell_type": "markdown",
   "id": "3afc79d2",
   "metadata": {},
   "source": [
    "## Data\n",
    "\n",
    "We get the traditionnal MNIST dataset and add a new label to the existing one. For each digit we return a new label that stands for Odd or Even"
   ]
  },
  {
   "cell_type": "markdown",
   "id": "d8ecea43",
   "metadata": {},
   "source": [
    "![](https://upload.wikimedia.org/wikipedia/commons/2/27/MnistExamples.png)"
   ]
  },
  {
   "cell_type": "code",
   "execution_count": null,
   "id": "e3f00b97",
   "metadata": {},
   "outputs": [],
   "source": [
    "train_dataset = gluon.data.vision.MNIST(train=True)\n",
    "test_dataset = gluon.data.vision.MNIST(train=False)"
   ]
  },
  {
   "cell_type": "code",
   "execution_count": null,
   "id": "9e75010b",
   "metadata": {},
   "outputs": [],
   "source": [
    "def transform(x,y):\n",
    "    x = x.transpose((2,0,1)).astype('float32')/255.\n",
    "    y1 = y\n",
    "    y2 = y % 2 #odd or even\n",
    "    return x, np.float32(y1), np.float32(y2)"
   ]
  },
  {
   "cell_type": "markdown",
   "id": "0397b9b3",
   "metadata": {},
   "source": [
    "We assign the transform to the original dataset"
   ]
  },
  {
   "cell_type": "code",
   "execution_count": null,
   "id": "729f91c3",
   "metadata": {},
   "outputs": [],
   "source": [
    "train_dataset_t = train_dataset.transform(transform)\n",
    "test_dataset_t = test_dataset.transform(transform)"
   ]
  },
  {
   "cell_type": "markdown",
   "id": "9037ea6d",
   "metadata": {},
   "source": [
    "We load the datasets DataLoaders"
   ]
  },
  {
   "cell_type": "code",
   "execution_count": null,
   "id": "f1e4dfc4",
   "metadata": {},
   "outputs": [],
   "source": [
    "train_data = gluon.data.DataLoader(train_dataset_t, shuffle=True, last_batch='rollover', batch_size=batch_size, num_workers=5)\n",
    "test_data = gluon.data.DataLoader(test_dataset_t, shuffle=False, last_batch='rollover', batch_size=batch_size, num_workers=5)"
   ]
  },
  {
   "cell_type": "code",
   "execution_count": null,
   "id": "0bed0736",
   "metadata": {},
   "outputs": [],
   "source": [
    "print(\"Input shape: {}, Target Labels: {}\".format(train_dataset[0][0].shape, train_dataset_t[0][1:]))"
   ]
  },
  {
   "cell_type": "markdown",
   "id": "cd635a98",
   "metadata": {},
   "source": [
    "## Multi-task Network\n",
    "\n",
    "The output of the featurization is passed to two different outputs layers"
   ]
  },
  {
   "cell_type": "code",
   "execution_count": null,
   "id": "43a2bbb8",
   "metadata": {},
   "outputs": [],
   "source": [
    "class MultiTaskNetwork(gluon.HybridBlock):\n",
    "    \n",
    "    def __init__(self):\n",
    "        super(MultiTaskNetwork, self).__init__()\n",
    "        \n",
    "        self.shared = gluon.nn.HybridSequential()\n",
    "        with self.shared.name_scope():\n",
    "            self.shared.add(\n",
    "                gluon.nn.Dense(128, activation='relu'),\n",
    "                gluon.nn.Dense(64, activation='relu'),\n",
    "                gluon.nn.Dense(10, activation='relu')\n",
    "            )\n",
    "        self.output1 = gluon.nn.Dense(10) # Digist recognition\n",
    "        self.output2 = gluon.nn.Dense(1) # odd or even\n",
    "\n",
    "        \n",
    "    def hybrid_forward(self, F, x):\n",
    "        y = self.shared(x)\n",
    "        output1 = self.output1(y)\n",
    "        output2 = self.output2(y)\n",
    "        return output1, output2"
   ]
  },
  {
   "cell_type": "markdown",
   "id": "e127a1d2",
   "metadata": {},
   "source": [
    "We can use two different losses, one for each output"
   ]
  },
  {
   "cell_type": "code",
   "execution_count": null,
   "id": "1f949050",
   "metadata": {},
   "outputs": [],
   "source": [
    "loss_digits = gluon.loss.SoftmaxCELoss()\n",
    "loss_odd_even = gluon.loss.SigmoidBCELoss()"
   ]
  },
  {
   "cell_type": "markdown",
   "id": "d7db6be1",
   "metadata": {},
   "source": [
    "We create and initialize the network"
   ]
  },
  {
   "cell_type": "code",
   "execution_count": null,
   "id": "9da88b5a",
   "metadata": {},
   "outputs": [],
   "source": [
    "mx.random.seed(42)\n",
    "random.seed(42)"
   ]
  },
  {
   "cell_type": "code",
   "execution_count": null,
   "id": "f75b3115",
   "metadata": {},
   "outputs": [],
   "source": [
    "net = MultiTaskNetwork()"
   ]
  },
  {
   "cell_type": "code",
   "execution_count": null,
   "id": "3b2e8cd7",
   "metadata": {},
   "outputs": [],
   "source": [
    "net.initialize(mx.init.Xavier(), ctx=ctx)\n",
    "net.hybridize() # hybridize for speed"
   ]
  },
  {
   "cell_type": "code",
   "execution_count": null,
   "id": "7f0f0240",
   "metadata": {},
   "outputs": [],
   "source": [
    "trainer = gluon.Trainer(net.collect_params(), 'adam', {'learning_rate':lr})"
   ]
  },
  {
   "cell_type": "markdown",
   "id": "4517221a",
   "metadata": {},
   "source": [
    "## Evaluate Accuracy\n",
    "We need to evaluate the accuracy of each task separately"
   ]
  },
  {
   "cell_type": "code",
   "execution_count": null,
   "id": "55c050e2",
   "metadata": {},
   "outputs": [],
   "source": [
    "def evaluate_accuracy(net, data_iterator):\n",
    "    acc_digits = mx.gluon.metric.Accuracy(name='digits')\n",
    "    acc_odd_even = mx.gluon.metric.Accuracy(name='odd_even')\n",
    "    \n",
    "    for i, (data, label_digit, label_odd_even) in enumerate(data_iterator):\n",
    "        data = data.as_in_context(ctx)\n",
    "        label_digit = label_digit.as_in_context(ctx)\n",
    "        label_odd_even = label_odd_even.as_in_context(ctx).reshape(-1,1)\n",
    "\n",
    "        output_digit, output_odd_even = net(data)\n",
    "        \n",
    "        acc_digits.update(label_digit, output_digit.softmax())\n",
    "        acc_odd_even.update(label_odd_even, output_odd_even.sigmoid() > 0.5)\n",
    "    return acc_digits.get(), acc_odd_even.get()"
   ]
  },
  {
   "cell_type": "markdown",
   "id": "c8492d1f",
   "metadata": {},
   "source": [
    "## Training Loop"
   ]
  },
  {
   "cell_type": "markdown",
   "id": "33651fd6",
   "metadata": {},
   "source": [
    "We need to balance the contribution of each loss to the overall training and do so by tuning this alpha parameter within [0,1]."
   ]
  },
  {
   "cell_type": "code",
   "execution_count": null,
   "id": "56be8b16",
   "metadata": {},
   "outputs": [],
   "source": [
    "alpha = 0.5 # Combine losses factor"
   ]
  },
  {
   "cell_type": "code",
   "execution_count": null,
   "id": "dba8ec10",
   "metadata": {},
   "outputs": [],
   "source": [
    "for e in range(epochs):\n",
    "    # Accuracies for each task\n",
    "    acc_digits = mx.gluon.metric.Accuracy(name='digits')\n",
    "    acc_odd_even = mx.gluon.metric.Accuracy(name='odd_even')\n",
    "    # Accumulative losses\n",
    "    l_digits_ = 0.\n",
    "    l_odd_even_ = 0. \n",
    "    \n",
    "    for i, (data, label_digit, label_odd_even) in enumerate(train_data):\n",
    "        data = data.as_in_context(ctx)\n",
    "        label_digit = label_digit.as_in_context(ctx)\n",
    "        label_odd_even = label_odd_even.as_in_context(ctx).reshape(-1,1)\n",
    "        \n",
    "        with autograd.record():\n",
    "            output_digit, output_odd_even = net(data)\n",
    "            l_digits = loss_digits(output_digit, label_digit)\n",
    "            l_odd_even = loss_odd_even(output_odd_even, label_odd_even)\n",
    "\n",
    "            # Combine the loss of each task\n",
    "            l_combined = (1-alpha)*l_digits + alpha*l_odd_even\n",
    "            \n",
    "        l_combined.backward()\n",
    "        trainer.step(data.shape[0])\n",
    "        \n",
    "        l_digits_ += l_digits.mean()\n",
    "        l_odd_even_ += l_odd_even.mean()\n",
    "        acc_digits.update(label_digit, output_digit.softmax())\n",
    "        acc_odd_even.update(label_odd_even, output_odd_even.sigmoid() > 0.5)\n",
    "        \n",
    "    print(\"Epoch [{}], Acc Digits   {:.4f} Loss Digits   {:.4f}\".format(\n",
    "        e, acc_digits.get()[1], l_digits_.asscalar()/(i+1)))\n",
    "    print(\"Epoch [{}], Acc Odd/Even {:.4f} Loss Odd/Even {:.4f}\".format(\n",
    "        e, acc_odd_even.get()[1], l_odd_even_.asscalar()/(i+1)))\n",
    "    print(\"Epoch [{}], Testing Accuracies {}\".format(e, evaluate_accuracy(net, test_data)))\n",
    "        "
   ]
  },
  {
   "cell_type": "markdown",
   "id": "36c5a3fa",
   "metadata": {},
   "source": [
    "## Testing"
   ]
  },
  {
   "cell_type": "code",
   "execution_count": null,
   "id": "19b40e16",
   "metadata": {},
   "outputs": [],
   "source": [
    "def get_random_data():\n",
    "    idx = random.randint(0, len(test_dataset))\n",
    "\n",
    "    img = test_dataset[idx][0]\n",
    "    data, _, _ = test_dataset_t[idx]\n",
    "    data = data.as_in_context(ctx).expand_dims(axis=0)\n",
    "\n",
    "    plt.imshow(img.squeeze().asnumpy(), cmap='gray')\n",
    "    \n",
    "    return data"
   ]
  },
  {
   "cell_type": "code",
   "execution_count": null,
   "id": "5433fad6",
   "metadata": {},
   "outputs": [],
   "source": [
    "data = get_random_data()\n",
    "\n",
    "digit, odd_even = net(data)\n",
    "\n",
    "digit = digit.argmax(axis=1)[0].asnumpy()\n",
    "odd_even = (odd_even.sigmoid()[0] > 0.5).asnumpy()\n",
    "\n",
    "print(\"Predicted digit: {}, odd: {}\".format(digit, odd_even))"
   ]
  }
 ],
 "metadata": {},
 "nbformat": 4,
 "nbformat_minor": 5
}
