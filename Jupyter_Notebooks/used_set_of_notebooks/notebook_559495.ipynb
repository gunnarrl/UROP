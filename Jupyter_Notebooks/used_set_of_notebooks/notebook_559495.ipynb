{
 "cells": [
  {
   "cell_type": "markdown",
   "id": "2de8c539",
   "metadata": {},
   "source": [
    "<img src=https://upload.wikimedia.org/wikipedia/commons/thumb/1/11/TensorFlowLogo.svg/2000px-TensorFlowLogo.svg.png width=20% img>"
   ]
  },
  {
   "cell_type": "markdown",
   "id": "6d352763",
   "metadata": {},
   "source": [
    "# Predicting the Number of Cylinders With <font color='orange'>Tensorflow 2.0</font>"
   ]
  },
  {
   "cell_type": "code",
   "execution_count": null,
   "id": "3dde0cde",
   "metadata": {},
   "outputs": [],
   "source": [
    "import os\n",
    "os.chdir('c:/users/nicolas/documents/data/thecarconnection')\n",
    "\n",
    "import pandas as pd\n",
    "import numpy as np\n",
    "from sklearn.model_selection import train_test_split\n",
    "from sklearn.preprocessing import MinMaxScaler\n",
    "import tensorflow as tf\n",
    "from tensorflow.keras.layers import Dense\n",
    "from tensorflow.keras.models import Model\n",
    "tf.keras.backend.set_floatx('float64')\n",
    "from sklearn.preprocessing import LabelEncoder"
   ]
  },
  {
   "cell_type": "markdown",
   "id": "4dacdc4d",
   "metadata": {},
   "source": [
    "#### Loading the data"
   ]
  },
  {
   "cell_type": "code",
   "execution_count": null,
   "id": "fdd3a658",
   "metadata": {},
   "outputs": [],
   "source": [
    "df = pd.read_csv([i for i in os.listdir() if i.startswith('cleaned')][0])"
   ]
  },
  {
   "cell_type": "code",
   "execution_count": null,
   "id": "74d12e86",
   "metadata": {},
   "outputs": [],
   "source": [
    "cols = ['Passenger Capacity', 'Passenger Doors', 'Front Shoulder Room (in)',\n",
    "        'Front Head Room (in)', 'Second Leg Room (in)', 'Front Leg Room (in)',\n",
    "        'Second Shoulder Room (in)', 'Second Head Room (in)',\n",
    "        'Height, Overall (in)', 'Wheelbase (in)', 'Width, Max w/o mirrors (in)',\n",
    "        'Fuel Tank Capacity, Approx (gal)', 'EPA Fuel Economy Est - Hwy (MPG)',\n",
    "        'EPA Fuel Economy Est - City (MPG)', 'Third Gear Ratio (:1)',\n",
    "        'First Gear Ratio (:1)', 'Fourth Gear Ratio (:1)',\n",
    "        'Second Gear Ratio (:1)', 'Front Brake Rotor Diam x Thickness (in)',\n",
    "        'Rear Brake Rotor Diam x Thickness (in)',\n",
    "        'Turning Diameter - Curb to Curb', 'Gears', 'Net Horsepower',\n",
    "        'Net Horsepower RPM', 'Net Torque', 'Net Torque RPM', 'Cylinders',\n",
    "        'Displacement (L)', 'Displacement (cc)', 'Rear Tire Width',\n",
    "        'Front Tire Width', 'Rear Wheel Size', 'Front Wheel Size', 'Tire Ratio']"
   ]
  },
  {
   "cell_type": "code",
   "execution_count": null,
   "id": "df6148b5",
   "metadata": {},
   "outputs": [],
   "source": [
    "df = df[cols].sample(frac=1)"
   ]
  },
  {
   "cell_type": "markdown",
   "id": "efc119b7",
   "metadata": {},
   "source": [
    "#### Encoding the input"
   ]
  },
  {
   "cell_type": "code",
   "execution_count": null,
   "id": "076d8208",
   "metadata": {},
   "outputs": [],
   "source": [
    "df.head().iloc[:, :4].reset_index(drop=True)"
   ]
  },
  {
   "cell_type": "code",
   "execution_count": null,
   "id": "6b437d7d",
   "metadata": {},
   "outputs": [],
   "source": [
    "x = df.drop('Cylinders', axis=1)\n",
    "y = df['Cylinders']"
   ]
  },
  {
   "cell_type": "code",
   "execution_count": null,
   "id": "1523fbb3",
   "metadata": {},
   "outputs": [],
   "source": [
    "le = LabelEncoder()\n",
    "y = le.fit_transform(y)"
   ]
  },
  {
   "cell_type": "markdown",
   "id": "4ccf90aa",
   "metadata": {},
   "source": [
    "#### Transforming the data"
   ]
  },
  {
   "cell_type": "code",
   "execution_count": null,
   "id": "aebc4338",
   "metadata": {},
   "outputs": [],
   "source": [
    "ms = MinMaxScaler()\n",
    "x = ms.fit_transform(x)"
   ]
  },
  {
   "cell_type": "code",
   "execution_count": null,
   "id": "8870c27a",
   "metadata": {},
   "outputs": [],
   "source": [
    "xtrain, xtest, ytrain, ytest = train_test_split(x, y)"
   ]
  },
  {
   "cell_type": "markdown",
   "id": "df49b390",
   "metadata": {},
   "source": [
    "#### Creating an iterable"
   ]
  },
  {
   "cell_type": "code",
   "execution_count": null,
   "id": "955d389d",
   "metadata": {},
   "outputs": [],
   "source": [
    "train_ds = tf.data.Dataset.from_tensor_slices((xtrain, ytrain)).shuffle(25).batch(24)\n",
    "test_ds = tf.data.Dataset.from_tensor_slices((xtest, ytest)).batch(24)"
   ]
  },
  {
   "cell_type": "markdown",
   "id": "1ef8482f",
   "metadata": {},
   "source": [
    "#### Creating a neural net class"
   ]
  },
  {
   "cell_type": "code",
   "execution_count": null,
   "id": "5c76f452",
   "metadata": {},
   "outputs": [],
   "source": [
    "class MyModel(Model):\n",
    "    def __init__(self):\n",
    "        super(MyModel, self).__init__()\n",
    "        self.d1 = Dense(64, activation='relu')\n",
    "        self.d2 = Dense(128, activation='relu')\n",
    "        self.d3 = Dense(256, activation='relu')\n",
    "        self.d4 = Dense(7, activation='softmax')\n",
    "        \n",
    "    def call(self, x):\n",
    "        x = self.d1(x)\n",
    "        x = self.d2(x)\n",
    "        x = self.d3(x)\n",
    "        x = self.d4(x)\n",
    "        return x"
   ]
  },
  {
   "cell_type": "code",
   "execution_count": null,
   "id": "f87a7f19",
   "metadata": {},
   "outputs": [],
   "source": [
    "model = MyModel()"
   ]
  },
  {
   "cell_type": "markdown",
   "id": "7956e93c",
   "metadata": {},
   "source": [
    "#### Creating loss and accuracy objects"
   ]
  },
  {
   "cell_type": "code",
   "execution_count": null,
   "id": "b1c212ea",
   "metadata": {},
   "outputs": [],
   "source": [
    "loss_object = tf.keras.losses.SparseCategoricalCrossentropy()"
   ]
  },
  {
   "cell_type": "code",
   "execution_count": null,
   "id": "62a84d64",
   "metadata": {},
   "outputs": [],
   "source": [
    "train_acc = tf.keras.metrics.SparseCategoricalAccuracy()\n",
    "train_loss = tf.keras.metrics.Mean(name='train_loss')"
   ]
  },
  {
   "cell_type": "code",
   "execution_count": null,
   "id": "64b174dd",
   "metadata": {},
   "outputs": [],
   "source": [
    "test_acc = tf.keras.metrics.SparseCategoricalAccuracy()\n",
    "test_loss = tf.keras.metrics.Mean(name='test_loss')"
   ]
  },
  {
   "cell_type": "code",
   "execution_count": null,
   "id": "4cf8506e",
   "metadata": {},
   "outputs": [],
   "source": [
    "optimizer = tf.keras.optimizers.Adam()"
   ]
  },
  {
   "cell_type": "markdown",
   "id": "e130e0c9",
   "metadata": {},
   "source": [
    "#### Step functions"
   ]
  },
  {
   "cell_type": "code",
   "execution_count": null,
   "id": "2c656eba",
   "metadata": {},
   "outputs": [],
   "source": [
    "@tf.function\n",
    "def train_step(inputs, targets):\n",
    "    with tf.GradientTape() as tape:\n",
    "        predictions = model(inputs)\n",
    "        loss = loss_object(targets, predictions)\n",
    "    gradients = tape.gradient(loss, model.trainable_variables) \n",
    "    optimizer.apply_gradients(zip(gradients, model.trainable_variables))\n",
    "    \n",
    "    train_loss(loss)\n",
    "    train_acc(targets, predictions)"
   ]
  },
  {
   "cell_type": "code",
   "execution_count": null,
   "id": "1deb62cb",
   "metadata": {},
   "outputs": [],
   "source": [
    "@tf.function\n",
    "def test_step(inputs, targets):\n",
    "    predictions = model(inputs)\n",
    "    t_loss = loss_object(targets, predictions)\n",
    "    \n",
    "    test_loss(t_loss)\n",
    "    test_acc(targets, predictions)"
   ]
  },
  {
   "cell_type": "markdown",
   "id": "bce440b9",
   "metadata": {},
   "source": [
    "#### Training the model"
   ]
  },
  {
   "cell_type": "code",
   "execution_count": null,
   "id": "f8a545a7",
   "metadata": {},
   "outputs": [],
   "source": [
    "for epoch in range(5):\n",
    "    for data, labels in train_ds:\n",
    "        train_step(data, labels)\n",
    "        \n",
    "    for test_data, test_labels in test_ds:\n",
    "        test_step(test_data, test_labels)\n",
    "        \n",
    "    template = 'Epoch {:d}, Loss: {:>6.4f}, Acc.: {:>5.2%}, '\\\n",
    "    'Test Loss: {:>6.4f}, Test Acc.: {:>5.2%}'\n",
    "\n",
    "    print(template.format(epoch+1,\n",
    "                        train_loss.result(),\n",
    "                        train_acc.result(),\n",
    "                        test_loss.result(),\n",
    "                        test_acc.result()))\n",
    "        \n",
    "    train_loss.reset_states()\n",
    "    train_acc.reset_states()\n",
    "    \n",
    "    test_loss.reset_states()\n",
    "    test_acc.reset_states()"
   ]
  }
 ],
 "metadata": {},
 "nbformat": 4,
 "nbformat_minor": 5
}
