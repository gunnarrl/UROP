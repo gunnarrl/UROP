{
 "cells": [
  {
   "cell_type": "code",
   "execution_count": null,
   "id": "9ac6bc70",
   "metadata": {},
   "outputs": [],
   "source": [
    "#\n",
    "import base58\n",
    "import binascii\n",
    "import ecdsa\n",
    "import hashlib\n",
    "import json\n",
    "import os\n",
    "import subprocess\n",
    "import time\n",
    "\n",
    "def dSHA256(data):\n",
    "    hash_1 = hashlib.sha256(data).digest()\n",
    "    hash_2 = hashlib.sha256(hash_1).digest()\n",
    "    return hash_2\n",
    "\n",
    "def hash160(s):\n",
    "    '''sha256 followed by ripemd160'''\n",
    "    return hashlib.new('ripemd160', hashlib.sha256(s).digest()).digest()\n",
    "\n",
    "def privkey_to_pubkey(privkey):\n",
    "    signing_key = ecdsa.SigningKey.from_string(privkey, curve=ecdsa.SECP256k1) # Don't forget to specify the curve\n",
    "    verifying_key = signing_key.get_verifying_key()\n",
    "\n",
    "    # Use this code block if the address you gave corresponds to the compressed public key\n",
    "    x_cor = bytes.fromhex(verifying_key.to_string().hex())[:32] # The first 32 bytes are the x coordinate\n",
    "    y_cor = bytes.fromhex(verifying_key.to_string().hex())[32:] # The last 32 bytes are the y coordinate\n",
    "    if int.from_bytes(y_cor, byteorder=\"big\", signed=True) % 2 == 0: # We need to turn the y_cor into a number.\n",
    "        public_key = bytes.fromhex(\"02\" + x_cor.hex())\n",
    "    else:\n",
    "        public_key = bytes.fromhex(\"03\" + x_cor.hex())\n",
    "    return public_key"
   ]
  },
  {
   "cell_type": "code",
   "execution_count": null,
   "id": "ebd170d2",
   "metadata": {},
   "outputs": [],
   "source": [
    "# Functions related to generating bitcoin addresses\n",
    "\n",
    "def encode_base58(s):\n",
    "    BASE58_ALPHABET = '123456789ABCDEFGHJKLMNPQRSTUVWXYZabcdefghijkmnopqrstuvwxyz'\n",
    "    count = 0\n",
    "    for c in s:  \n",
    "        if c == 0:\n",
    "            count += 1\n",
    "        else:\n",
    "            break\n",
    "    num = int.from_bytes(s, 'big')\n",
    "    prefix = '1' * count\n",
    "    result = ''\n",
    "    while num > 0:  \n",
    "        num, mod = divmod(num, 58)\n",
    "        result = BASE58_ALPHABET[mod] + result\n",
    "    return prefix + result\n",
    "\n",
    "def encode_base58_checksum(b):\n",
    "    return encode_base58(b + dSHA256(b)[:4])\n",
    "\n",
    "# https://en.bitcoin.it/wiki/Wallet_import_format\n",
    "def privkey_to_wif(privkey, compressed_pubkey, testnet):\n",
    "    if testnet:\n",
    "        prefix = b\"\\xEF\"\n",
    "    else:\n",
    "        prefix = b\"\\x80\"\n",
    "    \n",
    "    # if the privkey will correspond to a compressed public key\n",
    "    if compressed_pubkey: \n",
    "        extended = prefix + privkey + b\"\\x01\"\n",
    "    else:\n",
    "        extended = prefix + privkey \n",
    "        \n",
    "    extendedchecksum = extended + dSHA256(extended)[:4]\n",
    "    wif = encode_base58(extendedchecksum)\n",
    "    \n",
    "    return wif\n",
    "\n",
    "# https://learnmeabitcoin.com/guide/wif\n",
    "def wif_to_privkey(private_key_WIF):\n",
    "    private_key_full = base58.b58decode(private_key_WIF)\n",
    "    \n",
    "    # If the WIF encoding includes the optional \"01\" byte for compressed privKey,\n",
    "    # do not include it in the final output.\n",
    "    if len(private_key_full) == 38:\n",
    "        private_key = private_key_full[1:-5] \n",
    "        print(\"compressed pubkey\")\n",
    "    else:\n",
    "        private_key = private_key_full[1:-4] \n",
    "        print(\"not compressed pubkey\")\n",
    "    return private_key\n",
    "\n",
    "\n",
    "def pk_to_p2pkh(compressed, testnet):\n",
    "    '''Returns the address string'''\n",
    "    pk_hash = hash160(compressed)\n",
    "    if testnet:\n",
    "        prefix = b'\\x6f'\n",
    "    else:\n",
    "        prefix = b'\\x00'\n",
    "    return encode_base58_checksum(prefix + pk_hash)\n",
    "\n",
    "def pk_to_p2sh_p2wpkh(compressed, testnet):\n",
    "    pk_hash = hash160(compressed)\n",
    "    redeemScript = bytes.fromhex(f\"0014{pk_hash.hex()}\")\n",
    "    rs_hash = hash160(redeemScript)\n",
    "    if testnet:\n",
    "        prefix = b\"\\xc4\"\n",
    "    else:\n",
    "        prefix = b\"\\x05\"\n",
    "    return encode_base58_checksum(prefix + rs_hash)\n",
    "\n",
    "def wif_to_addresses(wif):\n",
    "#     wif = \"cUy9rC6wteKizfu1fgP2abKUWTkJxjqKp2fba91FkU332CFHo6ix\"\n",
    "    privkey = wif_to_privkey(wif)\n",
    "    public_key = privkey_to_pubkey(privkey)\n",
    "    p2pkh_address = pk_to_p2pkh(public_key, testnet = True)\n",
    "    p2sh_p2wpkh_address = pk_to_p2sh_p2wpkh(public_key, testnet = True)\n",
    "\n",
    "    print(\"WIF Private key: \" + wif)\n",
    "    print(\"Private key: \" + privkey.hex())\n",
    "    print(\"Public key: \" + public_key.hex())\n",
    "    print(\"Public key hash: \" + hash160(public_key).hex())\n",
    "    print(\"Address: \" + p2pkh_address)\n",
    "    print(\"Address: \" + p2sh_p2wpkh_address)\n",
    "    \n",
    "def privkey_to_addresses(privkey):\n",
    "    # privkey = bytes.fromhex(\"AF933A6C602069F1CBC85990DF087714D7E86DF0D0E48398B7D8953E1F03534A\")\n",
    "    public_key = privkey_to_pubkey(privkey)\n",
    "    p2pkh_address = pk_to_p2pkh(public_key, testnet = True)\n",
    "    p2sh_p2wpkh_address = pk_to_p2sh_p2wpkh(public_key, testnet = True)\n",
    "\n",
    "    print(\"Private key: \" + privkey.hex())\n",
    "    print(\"Public key: \" + public_key.hex())\n",
    "    print(\"Public key hash: \" + hash160(public_key).hex())\n",
    "    print(\"Address: \" + p2pkh_address)\n",
    "    print(\"Address: \" + p2sh_p2wpkh_address)"
   ]
  },
  {
   "cell_type": "markdown",
   "id": "ef8ae17e",
   "metadata": {},
   "source": [
    "# Merch-close with CPFP  --> Close-merch with CPFP"
   ]
  },
  {
   "cell_type": "markdown",
   "id": "a66eaa8b",
   "metadata": {},
   "source": [
    "Generate all the priv/public keys"
   ]
  },
  {
   "cell_type": "code",
   "execution_count": null,
   "id": "4baa5312",
   "metadata": {},
   "outputs": [],
   "source": [
    "# Generate example priv/pubkeys\n",
    "funding_privkey_hex = \"1111111111111111111111111111111100000000000000000000000000000000\"\n",
    "funding_pubkey_hex = privkey_to_pubkey(bytes.fromhex(funding_privkey_hex)).hex()\n",
    "\n",
    "change_privkey_hex = \"1111111111111111111111111111111111111111111111111111111111111111\"\n",
    "change_pubkey_hex = privkey_to_pubkey(bytes.fromhex(change_privkey_hex)).hex()\n",
    "\n",
    "merch_privkey_hex = \"3911111111111111111111111111111111111111111111111111111111111111\"\n",
    "merch_pubkey_hex = privkey_to_pubkey(bytes.fromhex(merch_privkey_hex)).hex()\n",
    "\n",
    "cust_privkey_hex = \"7911111111111111111111111111111111111111111111111111111111111111\"\n",
    "cust_pubkey_hex = privkey_to_pubkey(bytes.fromhex(cust_privkey_hex)).hex()\n",
    "\n",
    "cust_payout_privkey_hex = \"7711111111111111111111111111111111111111111111111111111111111111\"\n",
    "cust_payout_pubkey_hex = privkey_to_pubkey(bytes.fromhex(cust_payout_privkey_hex)).hex()\n",
    "\n",
    "merch_payout_privkey_hex = \"3711111111111111111111111111111111111111111111111111111111111111\"\n",
    "merch_payout_pubkey_hex = privkey_to_pubkey(bytes.fromhex(merch_payout_privkey_hex)).hex()\n",
    "\n",
    "merch_disp_privkey_hex = \"3111111111111111111111111111111111111111111111111111111111111111\"\n",
    "merch_disp_pubkey_hex = privkey_to_pubkey(bytes.fromhex(merch_disp_privkey_hex)).hex()\n",
    "\n",
    "revocation_secret_hex = \"4011111111111111111111111111111111111111111111111111111111111111\"\n",
    "RL = hashlib.sha256(bytes.fromhex(revocation_secret_hex)).digest()\n",
    "revocation_lock_hex = RL.hex()\n",
    "\n",
    "merch_cpfp_privkey_hex = \"2222222222222222222222222222222277777777777777777777777777777777\"\n",
    "merch_cpfp_pubkey_hex = privkey_to_pubkey(bytes.fromhex(merch_cpfp_privkey_hex)).hex()\n",
    "\n",
    "cust_cpfp_privkey_hex = \"3322222222222222222222222222222277777777777777777777777777777777\"\n",
    "cust_cpfp_pubkey_hex = privkey_to_pubkey(bytes.fromhex(merch_cpfp_privkey_hex)).hex()\n",
    "\n",
    "# merch_fee_privkey_hex = \"2222222222222222222222222222222266666666666666666666666666666666\"\n",
    "# merch_fee_pubkey_hex = privkey_to_pubkey(bytes.fromhex(merch_fee_privkey_hex)).hex()"
   ]
  },
  {
   "cell_type": "code",
   "execution_count": null,
   "id": "b4ec6cd6",
   "metadata": {},
   "outputs": [],
   "source": [
    "# # cpfp priv/pubkeys\n",
    "# merch1_privkey_hex = \"0221111111111111111111111111111100000000000000000000000000000000\"\n",
    "# merch1_privkey = bytes.fromhex(merch1_privkey_hex)\n",
    "# merch1_pubkey = privkey_to_pubkey(merch1_privkey)\n",
    "\n",
    "# merch2_privkey_hex = \"2221111111111111111111111111111100000000000000000000000000000000\"\n",
    "# merch2_privkey = bytes.fromhex(merch2_privkey_hex)\n",
    "# merch2_pubkey = privkey_to_pubkey(merch2_privkey).hex()\n",
    "\n",
    "# merch3_privkey_hex = \"3311111111111111111111111111111100000000000000000000000000000000\"\n",
    "# merch3_privkey = bytes.fromhex(merch3_privkey_hex)\n",
    "# merch3_pubkey = privkey_to_pubkey(merch3_privkey).hex()"
   ]
  },
  {
   "cell_type": "markdown",
   "id": "dd1d0a1d",
   "metadata": {},
   "source": [
    "### Start up regtest mode\n",
    "Delete any history so we are starting from scratch. <br>\n",
    "Mine 101 blocks so we can spend some btc."
   ]
  },
  {
   "cell_type": "code",
   "execution_count": null,
   "id": "bb44398a",
   "metadata": {},
   "outputs": [],
   "source": [
    "# Make sure bitcoind is not already running\n",
    "os.system(\"bitcoin-cli -regtest stop\")\n",
    "time.sleep(2) \n",
    "\n",
    "# Delete any previous files to restart regtest\n",
    "os.system(\"rm -rfv $HOME/Library/Application\\ Support/Bitcoin/regtest/\")\n",
    "\n",
    "# start up bitcoind in regtest mode\n",
    "# os.system(\"bitcoind -regtest -daemon -minrelaytxfee=0\")\n",
    "os.system(\"bitcoind -regtest -daemon\")\n",
    "time.sleep(2)\n",
    "\n",
    "# generate 101 blocks so we can fund transactions\n",
    "os.system(\"bitcoin-cli -regtest generate 101\")\n",
    "blockcount = subprocess.getoutput(\"bitcoin-cli -regtest getblockcount\")\n",
    "\n",
    "print(\"blockcount: \" + str(blockcount))"
   ]
  },
  {
   "cell_type": "markdown",
   "id": "142a5ce5",
   "metadata": {},
   "source": [
    "Generate base58 address for the escrow funder"
   ]
  },
  {
   "cell_type": "code",
   "execution_count": null,
   "id": "b8c4ed23",
   "metadata": {},
   "outputs": [],
   "source": [
    "# Generate p2sh-p2wpkh address to fund the escrow funder\n",
    "privkey = bytes.fromhex(funding_privkey_hex)\n",
    "public_key = privkey_to_pubkey(privkey)\n",
    "p2sh_p2wpkh_address = pk_to_p2sh_p2wpkh(public_key, testnet = True)\n",
    "\n",
    "# print(\"Private key: \" + privkey.hex())\n",
    "# print(\"Public key: \" + public_key.hex())\n",
    "print(\"Address: \" + p2sh_p2wpkh_address)"
   ]
  },
  {
   "cell_type": "markdown",
   "id": "6cbdeb5a",
   "metadata": {},
   "source": [
    "### Send btc to the escrow funder"
   ]
  },
  {
   "cell_type": "code",
   "execution_count": null,
   "id": "c48e40f1",
   "metadata": {},
   "outputs": [],
   "source": [
    "txid_1 = subprocess.getoutput(\"bitcoin-cli -regtest sendtoaddress \" + p2sh_p2wpkh_address + \" 3.0\")\n",
    "print(txid_1)"
   ]
  },
  {
   "cell_type": "code",
   "execution_count": null,
   "id": "b87f4fb7",
   "metadata": {},
   "outputs": [],
   "source": [
    "# Find which output index the btc was sent to\n",
    "raw_tx = subprocess.getoutput(\"bitcoin-cli -regtest getrawtransaction \" + txid_1)\n",
    "decoded = subprocess.getoutput(\"bitcoin-cli -regtest decoderawtransaction \" + raw_tx)\n",
    "d = json.loads(decoded)\n",
    "# print(decoded)\n",
    "\n",
    "if d[\"vout\"][0][\"scriptPubKey\"][\"addresses\"][0] == p2sh_p2wpkh_address:\n",
    "    index = 0\n",
    "else:\n",
    "    index = 1\n",
    "print(\"index: \" + str(index))"
   ]
  },
  {
   "cell_type": "code",
   "execution_count": null,
   "id": "0c07ccfb",
   "metadata": {},
   "outputs": [],
   "source": [
    "os.system(\"bitcoin-cli -regtest generate 1\");"
   ]
  },
  {
   "cell_type": "markdown",
   "id": "4b73cf79",
   "metadata": {},
   "source": [
    "## Create Funding tx"
   ]
  },
  {
   "cell_type": "code",
   "execution_count": null,
   "id": "966bb63b",
   "metadata": {},
   "outputs": [],
   "source": [
    "raw_escrow_tx = subprocess.getoutput(\"python funding_tx_with_changev2.py\" \n",
    "                        + \" --txid \" + txid_1\n",
    "                        + \" --index \" + str(index)\n",
    "                        + \" --input_amount_btc \" + \"3.0\"\n",
    "                        + \" --funding_privkey \" + funding_privkey_hex\n",
    "                        + \" --escrow_value_btc \" + \"2.1\"\n",
    "                        + \" --cust_pubkey \" + cust_pubkey_hex\n",
    "                        + \" --merch_pubkey \" + merch_pubkey_hex\n",
    "                        + \" --cust_change_value_btc \" + \"0.89\"\n",
    "                        + \" --cust_change_pubkey \" + change_pubkey_hex)\n",
    "print(\"serialized funding tx:\\n\" + raw_escrow_tx)\n",
    "\n",
    "# Broadcast funding tx\n",
    "escrow_txid = subprocess.getoutput(\"bitcoin-cli -regtest sendrawtransaction \" + raw_escrow_tx + \" true\")\n",
    "# \"true\" flag means we are okay with an 'absurdly' high tx fee\n",
    "\n",
    "print(\"\\nfunding txid:\\n\"+escrow_txid)"
   ]
  },
  {
   "cell_type": "code",
   "execution_count": null,
   "id": "f6e13af5",
   "metadata": {},
   "outputs": [],
   "source": [
    "os.system(\"bitcoin-cli -regtest generate 1\");"
   ]
  },
  {
   "cell_type": "markdown",
   "id": "1fc8737c",
   "metadata": {},
   "source": [
    "#### Decode escrow funding transaction"
   ]
  },
  {
   "cell_type": "code",
   "execution_count": null,
   "id": "9d6750e2",
   "metadata": {},
   "outputs": [],
   "source": [
    "# raw_escrow_tx1 = subprocess.getoutput(\"bitcoin-cli -regtest getrawtransaction \" + escrow_txid)\n",
    "# decoded = subprocess.getoutput(\"bitcoin-cli -regtest decoderawtransaction \" + raw_escrow_tx1)\n",
    "# print(decoded)"
   ]
  },
  {
   "cell_type": "markdown",
   "id": "71e36327",
   "metadata": {},
   "source": [
    "## Merch-close with CPFP"
   ]
  },
  {
   "cell_type": "code",
   "execution_count": null,
   "id": "0d433486",
   "metadata": {},
   "outputs": [],
   "source": [
    "merch_close_cpfp_tx = subprocess.getoutput(\"python merch_close_with_cpfp.py\"        \n",
    "                + \" --txid_str \" + escrow_txid\n",
    "                + \" --index \" + \"0\"\n",
    "                + \" --input_amount_btc \" + \"2.1\"\n",
    "                + \" --cust_privkey \" + cust_privkey_hex \n",
    "                + \" --merch_privkey \" + merch_privkey_hex\n",
    "                + \" --output_value_btc \" + \"1.99\"\n",
    "                + \" --merch_payout_pubkey \" + merch_payout_pubkey_hex   \n",
    "                + \" --to_self_delay \" + \"05cf\" # number of blocks to delay to-self output   \n",
    "                + \" --merch_cpfp_pubkey \" + merch_cpfp_pubkey_hex   \n",
    "                + \" --merch_cpfp_value_btc \" + \"0.1\") # number of blocks to delay to-self output       \n",
    "print(\"merch close with cpfp tx:\\n\" + merch_close_cpfp_tx)"
   ]
  },
  {
   "cell_type": "markdown",
   "id": "125efba5",
   "metadata": {},
   "source": [
    "This tx could be broadcast by itself and it would be a valid tx (cell below). If the fee was too small, we can effectively bump up the fee by creating a 'child' tx that spends from it"
   ]
  },
  {
   "cell_type": "code",
   "execution_count": null,
   "id": "04828f9a",
   "metadata": {},
   "outputs": [],
   "source": [
    "merch_close_cpfp_txid = subprocess.getoutput(\"bitcoin-cli -regtest sendrawtransaction \" + merch_close_cpfp_tx)\n",
    "print(merch_close_cpfp_txid) "
   ]
  },
  {
   "cell_type": "code",
   "execution_count": null,
   "id": "ff511a31",
   "metadata": {},
   "outputs": [],
   "source": [
    "os.system(\"bitcoin-cli -regtest generate 1\");"
   ]
  },
  {
   "cell_type": "code",
   "execution_count": null,
   "id": "92bd86cc",
   "metadata": {},
   "outputs": [],
   "source": [
    "mined_merch_close_cpfp_tx = subprocess.getoutput(\"bitcoin-cli -regtest getrawtransaction \" + merch_close_cpfp_txid)\n",
    "decoded = subprocess.getoutput(\"bitcoin-cli -regtest decoderawtransaction \" + mined_merch_close_cpfp_tx)\n",
    "print(decoded)"
   ]
  },
  {
   "cell_type": "markdown",
   "id": "18696907",
   "metadata": {},
   "source": [
    "## Cust-close with CPFP from Merch-Close with CPFP"
   ]
  },
  {
   "cell_type": "code",
   "execution_count": null,
   "id": "fa82cd84",
   "metadata": {},
   "outputs": [],
   "source": [
    "cust_close_cpfp_tx = subprocess.getoutput(\"python cust_close_with_cpfp.py\"        \n",
    "                + \" --spend_from \" + \"merch-close\"\n",
    "                + \" --txid_str \" + merch_close_cpfp_txid\n",
    "                + \" --index \" + \"0\"\n",
    "                + \" --input_amount_btc \" + \"1.99\"\n",
    "                + \" --cust_privkey \" + cust_privkey_hex \n",
    "                + \" --merch_privkey \" + merch_privkey_hex                                           \n",
    "                + \" --cust_script_value_btc \" + \"0.88\"\n",
    "                + \" --cust_payout_pubkey \" + cust_payout_pubkey_hex\n",
    "                + \" --to_self_delay \" + \"05cf\"\n",
    "                + \" --merch_payout_value_btc \" + \"1\"\n",
    "                + \" --merch_payout_pubkey \" + merch_payout_pubkey_hex\n",
    "                + \" --revocation_lock \" + revocation_lock_hex\n",
    "                + \" --merch_dispute_pubkey \" + merch_disp_pubkey_hex\n",
    "                + \" --cust_cpfp_value_btc \" + \"0.099\"\n",
    "                + \" --cust_cpfp_pubkey \" + cust_pubkey_hex)\n",
    "                                          \n",
    "print(\"cust close with cpfp tx:\\n\" + cust_close_cpfp_tx)"
   ]
  },
  {
   "cell_type": "code",
   "execution_count": null,
   "id": "f06690cc",
   "metadata": {},
   "outputs": [],
   "source": [
    "cust_close_cpfp_txid = subprocess.getoutput(\"bitcoin-cli -regtest sendrawtransaction \" + cust_close_cpfp_tx)\n",
    "print(cust_close_cpfp_txid) "
   ]
  },
  {
   "cell_type": "code",
   "execution_count": null,
   "id": "b457f69b",
   "metadata": {},
   "outputs": [],
   "source": [
    "os.system(\"bitcoin-cli -regtest generate 1\");"
   ]
  },
  {
   "cell_type": "code",
   "execution_count": null,
   "id": "1d61a405",
   "metadata": {},
   "outputs": [],
   "source": [
    "mined_cust_close_cpfp_tx = subprocess.getoutput(\"bitcoin-cli -regtest getrawtransaction \" + cust_close_cpfp_txid)\n",
    "decoded = subprocess.getoutput(\"bitcoin-cli -regtest decoderawtransaction \" + mined_cust_close_cpfp_tx)\n",
    "print(decoded)"
   ]
  }
 ],
 "metadata": {},
 "nbformat": 4,
 "nbformat_minor": 5
}
