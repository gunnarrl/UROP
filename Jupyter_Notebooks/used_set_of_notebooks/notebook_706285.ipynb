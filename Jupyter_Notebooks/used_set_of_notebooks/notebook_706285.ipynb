{
 "cells": [
  {
   "cell_type": "markdown",
   "id": "532c6360",
   "metadata": {},
   "source": [
    "###  Task- Performing Data Cleaning, and analysis on \"Titanic\" dataset"
   ]
  },
  {
   "cell_type": "code",
   "execution_count": null,
   "id": "0ed8778f",
   "metadata": {},
   "outputs": [],
   "source": [
    "import pandas as pd\n",
    "import numpy as np"
   ]
  },
  {
   "cell_type": "code",
   "execution_count": null,
   "id": "de670398",
   "metadata": {},
   "outputs": [],
   "source": [
    "titanic=pd.read_csv(\"titanic_train.csv\") \n",
    "#Loading dataset from the csv file into \"Pandas Dataframe\"\n",
    "titanic.head() #Head shows the first 5 entries of the dataframe"
   ]
  },
  {
   "cell_type": "markdown",
   "id": "4e63f8b9",
   "metadata": {},
   "source": [
    "## Performing Data Cleaning and Analysis\n",
    "#### 1. Understanding meaning of each column:\n",
    "<br>Data Dictionary:\n",
    "<br>**Variable        Description**</br>\n",
    "1. Survived\t- Survived (1) or died (0)\n",
    "2. Pclass -\tPassenger’s class (1 = 1st, 2 = 2nd, 3 = 3rd)\n",
    "3. Name\t- Passenger’s name\n",
    "4. Sex -\tPassenger’s sex\n",
    "5. Age\t- Passenger’s age\n",
    "6. SibSp -\tNumber of siblings/spouses aboard\n",
    "7. Parch -\tNumber of parents/children aboard (Some children travelled only with a nanny, therefore parch=0 for them.)\n",
    "8. Ticket -\tTicket number\n",
    "9. Fare -\tFare\n",
    "10. Cabin -\tCabin\n",
    "11. Embarked -\tPort of embarkation (C = Cherbourg, Q = Queenstown, S = Southampton)\n",
    "\n",
    "#### 2. Analysing which columns are completely useless in predicting the survival and deleting them\n",
    "**Note** - Don't just delete the columns because you are not finding it useful. Or focus is not on deleting the columns. Our focus is on analysing how each column is affecting the result or the prediction and in accordance with that deciding whether to keep the column or to delete the column or fill the null values of the column by some values and if yes, then what values.\n",
    "\n"
   ]
  },
  {
   "cell_type": "code",
   "execution_count": null,
   "id": "bd91c778",
   "metadata": {},
   "outputs": [],
   "source": [
    "#Name column can never decide survival of a person, hence we can safely delete it\n",
    "#Better to display the entire dataframe after a deletion of a column to get a better view\n",
    "del titanic[\"Name\"]\n",
    "titanic.head()"
   ]
  },
  {
   "cell_type": "code",
   "execution_count": null,
   "id": "91a32f4e",
   "metadata": {},
   "outputs": [],
   "source": [
    "del titanic[\"PassengerId\"]\n",
    "titanic.head()"
   ]
  },
  {
   "cell_type": "code",
   "execution_count": null,
   "id": "7a39b863",
   "metadata": {},
   "outputs": [],
   "source": [
    "del titanic[\"Ticket\"]\n",
    "titanic.head()"
   ]
  },
  {
   "cell_type": "code",
   "execution_count": null,
   "id": "2c8da064",
   "metadata": {},
   "outputs": [],
   "source": [
    "#To see how many entries are there\n",
    "\n",
    "\n",
    "\n",
    "titanic.shape"
   ]
  },
  {
   "cell_type": "code",
   "execution_count": null,
   "id": "5d4952f5",
   "metadata": {},
   "outputs": [],
   "source": [
    "#To see how many null entries are there in each column\n",
    "#Here isnull() returns 1 if there is a null entry adding upon \n",
    "#which(using sum() function) we get number of null entries in each column \n",
    "\n",
    "\n",
    "\n",
    "titanic.isnull().sum()"
   ]
  },
  {
   "cell_type": "code",
   "execution_count": null,
   "id": "28ce72a8",
   "metadata": {},
   "outputs": [],
   "source": [
    "del titanic[\"Cabin\"]\n",
    "titanic.head()"
   ]
  },
  {
   "cell_type": "code",
   "execution_count": null,
   "id": "8f4916c2",
   "metadata": {},
   "outputs": [],
   "source": [
    "#Applying statistical approach on the above dataframe to analyse \n",
    "#which feature or column is affecting the survival rate and which is useless colum\n",
    "titanic.describe()"
   ]
  },
  {
   "cell_type": "code",
   "execution_count": null,
   "id": "fe7f9ac8",
   "metadata": {},
   "outputs": [],
   "source": [
    "del titanic[\"Fare\"]\n",
    "titanic.head()"
   ]
  },
  {
   "cell_type": "markdown",
   "id": "faa0ebfd",
   "metadata": {},
   "source": [
    "#### We want to check if \"Embarked\" column is is important for analysis or not, that is whether survival of the person depends on the Embarked column value or not. "
   ]
  },
  {
   "cell_type": "code",
   "execution_count": null,
   "id": "a64bbdff",
   "metadata": {},
   "outputs": [],
   "source": [
    "# Finding the number of people who have survived \n",
    "# given that they have embarked or boarded from a particular port\n",
    "\n",
    "survivedS = titanic[titanic.Embarked == 'Q'][titanic.Survived == 1].shape[0]\n",
    "survivedS\n",
    "\n",
    "#similarly checked for C and S too and the results were\n",
    "# Survived for C=93\n",
    "# Survived for S=217"
   ]
  },
  {
   "cell_type": "code",
   "execution_count": null,
   "id": "a9c5c5a1",
   "metadata": {},
   "outputs": [],
   "source": [
    "# Finding the number of people who have not survived \n",
    "# given that they have embarked or boarded from a particular port\n",
    "\n",
    "\n",
    "survivedNS= titanic[titanic.Embarked==\"Q\"][titanic.Survived==0].shape[0]\n",
    "survivedNS\n",
    "\n",
    "#similarly checked for C and S too and the results were\n",
    "# Not Survived for C = 75\n",
    "# Not Survived for S = 427"
   ]
  },
  {
   "cell_type": "markdown",
   "id": "aee39848",
   "metadata": {},
   "source": [
    "As there are significant changes in the survival rate based on which port the passengers aboard the ship.\n",
    "<br>\n",
    "We cannot delete the whole embarked column(It is useful).\n",
    "<br>\n",
    "Now the Embarked column has two null values in it with total entries 891 rows and hence we can safely say that deleting two rows from 891 rows will not affect the result. So rather than trying to fill those null values with some vales. We can simply remove them.\n",
    "<br>\n",
    "For the Null values in Embarked we can remove the rows with null values\n",
    "<br>\n",
    "perform **dropna()** on the Datafrem when only these values are present as null\n",
    "<br>\n",
    "titanic.dropna(inplace = True)\n",
    "<br>\n",
    "Note - inplace = True , so that the changes takes place in the same dataframe and not in the copy\n",
    "<br>\n",
    "titanic.shape"
   ]
  },
  {
   "cell_type": "markdown",
   "id": "a32fd828",
   "metadata": {},
   "source": [
    "#### Changing Value for \"Male, Female\" string values to numeric values , male=1 and female=2"
   ]
  },
  {
   "cell_type": "code",
   "execution_count": null,
   "id": "3b6bc9cd",
   "metadata": {},
   "outputs": [],
   "source": [
    "def getNumber(str):\n",
    "    if str==\"male\":\n",
    "        return 1\n",
    "    else:\n",
    "        return 2\n",
    "titanic[\"gender\"]=titanic[\"Sex\"].apply(getNumber)\n",
    "#We have created a new column called \"gender\" and \n",
    "#filling it with values 1 ,2 based on the values of sex column\n",
    "titanic.head()"
   ]
  },
  {
   "cell_type": "code",
   "execution_count": null,
   "id": "caf23579",
   "metadata": {},
   "outputs": [],
   "source": [
    "#Deleting Sex column, since no use of it now\n",
    "del titanic[\"Sex\"]\n",
    "titanic.head()"
   ]
  },
  {
   "cell_type": "markdown",
   "id": "65c36872",
   "metadata": {},
   "source": [
    "#### Drawing a pie chart for number of males and females aboard"
   ]
  },
  {
   "cell_type": "code",
   "execution_count": null,
   "id": "4c0d5b62",
   "metadata": {},
   "outputs": [],
   "source": [
    "import matplotlib.pyplot as plt\n",
    "from matplotlib import style\n",
    "\n",
    "males = (titanic['gender'] == 1).sum() \n",
    "#Summing up all the values of column gender with a \n",
    "#condition for male and similary for females\n",
    "females = (titanic['gender'] == 2).sum()\n",
    "print(males)\n",
    "print(females)\n",
    "p = [males, females]\n",
    "plt.pie(p,    #giving array\n",
    "       labels = ['Male', 'Female'], #Correspndingly giving labels\n",
    "       colors = ['blue', 'red'],   # Corresponding colors\n",
    "       explode = (0.15, 0),    #How much the gap should me there between the pies\n",
    "       startangle = 0)  #what start angle should be given\n",
    "plt.axis('equal') \n",
    "plt.show()"
   ]
  },
  {
   "cell_type": "markdown",
   "id": "4e13d9d9",
   "metadata": {},
   "source": [
    "#### Fill the null values of the Age column. Fill mean Survived age(mean age of the survived people) in the column where the person has survived and mean not Survived age (mean age of the people who have not survived) in the column where person has not survived"
   ]
  },
  {
   "cell_type": "code",
   "execution_count": null,
   "id": "91174dc1",
   "metadata": {},
   "outputs": [],
   "source": [
    "#finding mean survived age\n",
    "meanS= titanic[titanic.Survived==1].Age.mean()\n",
    "meanS"
   ]
  },
  {
   "cell_type": "markdown",
   "id": "0e4e48ee",
   "metadata": {},
   "source": [
    "#### Creating a new \"age\" column , filling values in it with a condition (given inside) if goes True then given values (here meanS) is put in place of last values else nothing happens, simply the values are copied from the \"Age\" column of the daatset  "
   ]
  },
  {
   "cell_type": "code",
   "execution_count": null,
   "id": "fdde86b8",
   "metadata": {},
   "outputs": [],
   "source": [
    "titanic[\"age\"]=np.where(pd.isnull(titanic.Age) & titanic[\"Survived\"]==1  ,meanS, titanic[\"Age\"])\n",
    "titanic"
   ]
  },
  {
   "cell_type": "code",
   "execution_count": null,
   "id": "27c12b0a",
   "metadata": {},
   "outputs": [],
   "source": [
    "# Finding the mean age of \"Not Survived\" people\n",
    "meanNS=titanic[titanic.Survived==0].Age.mean()\n",
    "meanNS"
   ]
  },
  {
   "cell_type": "markdown",
   "id": "98246ec7",
   "metadata": {},
   "source": [
    "Now the \"age\" column contains null entries in the places where survived is equal to zero.\n",
    "<br>\n",
    "Filling those null values in one go with meanNS "
   ]
  },
  {
   "cell_type": "code",
   "execution_count": null,
   "id": "549aea78",
   "metadata": {},
   "outputs": [],
   "source": [
    "titanic.age.fillna(meanNS,inplace=True)\n",
    "titanic"
   ]
  },
  {
   "cell_type": "code",
   "execution_count": null,
   "id": "094d278b",
   "metadata": {},
   "outputs": [],
   "source": [
    "#We can safely delete the Age column\n",
    "del titanic[\"Age\"]\n",
    "titanic"
   ]
  },
  {
   "cell_type": "code",
   "execution_count": null,
   "id": "a79e8303",
   "metadata": {},
   "outputs": [],
   "source": [
    "#Renaming \"age\" and \"gender\" columns\n",
    "titanic.rename(columns={'age':'Age'}, inplace=True)\n",
    "titanic.rename(columns={'gender':'Sex'}, inplace=True)\n",
    "titanic.head()"
   ]
  },
  {
   "cell_type": "markdown",
   "id": "30e7f804",
   "metadata": {},
   "source": [
    "#### Now removing two rows where embarked value was null (Discussed in the beginning)"
   ]
  },
  {
   "cell_type": "code",
   "execution_count": null,
   "id": "ed4df5e6",
   "metadata": {},
   "outputs": [],
   "source": [
    "titanic.dropna(inplace=True)\n",
    "titanic.head()"
   ]
  }
 ],
 "metadata": {},
 "nbformat": 4,
 "nbformat_minor": 5
}
