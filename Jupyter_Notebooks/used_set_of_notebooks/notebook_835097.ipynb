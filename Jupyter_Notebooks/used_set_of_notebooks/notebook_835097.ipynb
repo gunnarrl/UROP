{
 "cells": [
  {
   "cell_type": "markdown",
   "id": "b9fe90c9",
   "metadata": {},
   "source": [
    "# loading packages"
   ]
  },
  {
   "cell_type": "code",
   "execution_count": null,
   "id": "3ac9a52f",
   "metadata": {},
   "outputs": [],
   "source": [
    "import numpy as np\n",
    "import pandas as pd\n",
    "%matplotlib inline\n",
    "from tqdm import tqdm_notebook\n",
    "import matplotlib.pyplot as plt\n",
    "import plotly\n",
    "from time import time\n",
    "\n",
    "beta_1 = 1\n",
    "beta_2 = 1"
   ]
  },
  {
   "cell_type": "markdown",
   "id": "b0eca8d9",
   "metadata": {},
   "source": [
    "# initial settings"
   ]
  },
  {
   "cell_type": "code",
   "execution_count": null,
   "id": "2240f97c",
   "metadata": {},
   "outputs": [],
   "source": [
    "L = 512\n",
    "r = 0.5\n",
    "\n",
    "k = 1\n",
    "N = 1\n",
    "taken = np.zeros([L,L])     # 数量\n",
    "possess = np.zeros([L,L]) # 类\n",
    "all_edges = [(int(L/2),int(L/2))]\n",
    "edges = [{(int(L/2),int(L/2)):[np.array([L/2.,L/2.])]}]\n",
    "taken[(int(L/2),int(L/2))] = 1\n",
    "possess[(int(L/2),int(L/2))] = 1\n"
   ]
  },
  {
   "cell_type": "markdown",
   "id": "f7eca441",
   "metadata": {},
   "source": [
    "# Useful functions"
   ]
  },
  {
   "cell_type": "code",
   "execution_count": null,
   "id": "ff602983",
   "metadata": {},
   "outputs": [],
   "source": [
    "# togo\n",
    "def togo(r = 0.5):\n",
    "    theta = 2 * np.pi * np.random.random()\n",
    "    togo =  r * np.array([np.cos(theta),np.sin(theta)])\n",
    "    return togo\n",
    "\n",
    "# 是否是边界\n",
    "def if_edge(block):\n",
    "    global taken, possess\n",
    "    neighbors = get_neighbors(block)\n",
    "    if len(set([possess[neighbor] for neighbor in neighbors])) == 1:\n",
    "        return False\n",
    "    else:\n",
    "        return True\n",
    "        \n",
    "# 得到邻居结点\n",
    "def get_neighbors(block,L = L):\n",
    "    neighbors = []\n",
    "    a,b = block\n",
    "    for i in range(-1,2):\n",
    "        for j in range(-1,2):\n",
    "            x,y = a+i,b+j\n",
    "            if (x<L)&(x>=0)&(y<L)&(y>=0):\n",
    "                neighbors.append((a + i , b +j))\n",
    "    neighbors.remove(block)\n",
    "    return neighbors"
   ]
  },
  {
   "cell_type": "code",
   "execution_count": null,
   "id": "368417c4",
   "metadata": {},
   "outputs": [],
   "source": [
    "def mech_2():\n",
    "    global k, N, all_edges, edges, taken,possess # ,block,choice,father_block,city,father_node,position\n",
    "    \n",
    "    probs = taken.flatten()\n",
    "    choice = np.random.choice(np.arange(L * L),p = probs/sum(probs))\n",
    "    father_block = int(choice//L), int(choice%L)\n",
    "    # 是否是边缘结点\n",
    "    city = int(possess[father_block])\n",
    "    if father_block in all_edges:\n",
    "        father_node =  edges[city-1][father_block][np.random.choice(int(taken[father_block]))]\n",
    "        position = np.array([2*L,2*L])\n",
    "        while (position[0] >= L) or (position[0] < 0) or (position[1] >= L) or (position[1] < 0):\n",
    "            position = father_node + togo()\n",
    "        block = tuple(position.astype(int))\n",
    "        if possess[block] == 0:# 空格子，那么它一定是边界asas\n",
    "#             print(block) # 边缘\n",
    "            all_edges.append(block)\n",
    "            edges[city-1][block] = [position]\n",
    "            taken[block] = 1\n",
    "            N += 1\n",
    "            possess[block] = city\n",
    "            # 验证邻居是不是边界结点\n",
    "            neighbors = get_neighbors(block)\n",
    "            for neighbor in neighbors:\n",
    "                if (not if_edge(neighbor)) & (neighbors in all_edges):\n",
    "                    del edges[city-1][neighbor]\n",
    "                    all_edges.remove(neighbor)\n",
    "        elif possess[block] == city:\n",
    "            if block in edges[city-1].keys():\n",
    "                edges[city-1][block].append(position)\n",
    "            taken[block] += 1\n",
    "            N += 1\n",
    "    else:#不是边缘结点\n",
    "        father_node = np.array(father_block) + np.random.random(2)\n",
    "        position = father_node + togo()\n",
    "        block = position.astype(int)      \n",
    "        if block in all_edges:\n",
    "            edges[city-1][block].append(position)\n",
    "        taken[block] += 1\n",
    "        N += 1"
   ]
  },
  {
   "cell_type": "code",
   "execution_count": null,
   "id": "9865f292",
   "metadata": {},
   "outputs": [],
   "source": [
    "def mech_1():\n",
    "    global k, N, all_edges, edges, taken,possess,block\n",
    "    choice = np.random.randint(L*L)\n",
    "    block = int(choice//L), int(choice%L)\n",
    "    position = np.array(block) + togo()\n",
    "    if possess[block] == 0:\n",
    "        k += 1\n",
    "        possess[block] = k\n",
    "        all_edges.append(block)\n",
    "        edges.append( {block: [position]} )\n",
    "        taken[block] = 1\n",
    "        N+=1\n",
    "        "
   ]
  },
  {
   "cell_type": "markdown",
   "id": "6173e362",
   "metadata": {},
   "source": [
    "# 运行机制"
   ]
  },
  {
   "cell_type": "code",
   "execution_count": null,
   "id": "24c7aca2",
   "metadata": {},
   "outputs": [],
   "source": [
    "def generate(x):\n",
    "    global k,beta_1,beta_2,N,case1,case2\n",
    "    if x < ((k*beta_2)/(beta_2*k+beta_1*N)):\n",
    "        mech_1()\n",
    "#         case1 +=1\n",
    "    else:\n",
    "        mech_2()\n",
    "#         case2 +=1"
   ]
  },
  {
   "cell_type": "markdown",
   "id": "5133c706",
   "metadata": {},
   "source": [
    "# 运行"
   ]
  },
  {
   "cell_type": "code",
   "execution_count": null,
   "id": "06e294c2",
   "metadata": {},
   "outputs": [],
   "source": [
    "p = np.random.random(int(1e8))"
   ]
  },
  {
   "cell_type": "code",
   "execution_count": null,
   "id": "448fe6e4",
   "metadata": {},
   "outputs": [],
   "source": [
    "for _ in tqdm_notebook(range(int(1e6))):\n",
    "    generate(p[_]) # 重复一亿次"
   ]
  },
  {
   "cell_type": "code",
   "execution_count": null,
   "id": "e8634cd4",
   "metadata": {},
   "outputs": [],
   "source": [
    "plt.matshow(taken)\n",
    "plt.savefig('pics/{}_{}_{}.pdf'.format(beta_1,beta_2,time()))"
   ]
  },
  {
   "cell_type": "code",
   "execution_count": null,
   "id": "9e2186ae",
   "metadata": {},
   "outputs": [],
   "source": [
    "taken64 = taken[:,::2]+taken[:,1::2]\n",
    "taken64 = taken64[::2,:]+taken64[1::2,:]\n",
    "plt.matshow(taken64)"
   ]
  },
  {
   "cell_type": "code",
   "execution_count": null,
   "id": "6ca800fa",
   "metadata": {},
   "outputs": [],
   "source": [
    "taken64 = taken[:,::2]+taken[:,1::2]\n",
    "taken64 = taken64[::2,:]+taken64[1::2,:]\n",
    "plt.matshow(taken64)"
   ]
  },
  {
   "cell_type": "code",
   "execution_count": null,
   "id": "df948ff9",
   "metadata": {},
   "outputs": [],
   "source": [
    "k,N, case1, case2"
   ]
  },
  {
   "cell_type": "code",
   "execution_count": null,
   "id": "f2d5908b",
   "metadata": {},
   "outputs": [],
   "source": [
    "for i in range(5):\n",
    "    plt.matshow(possess == i+1)"
   ]
  },
  {
   "cell_type": "code",
   "execution_count": null,
   "id": "2720bb06",
   "metadata": {},
   "outputs": [],
   "source": [
    "ranks = []\n",
    "for i in range(1,k+1):\n",
    "    ranks.append(sum(taken[possess == i]))"
   ]
  },
  {
   "cell_type": "code",
   "execution_count": null,
   "id": "f2bc6b15",
   "metadata": {},
   "outputs": [],
   "source": [
    "import powerlaw\n",
    "results = powerlaw.Fit(ranks)\n",
    "R, p = results.distribution_compare('power_law', 'lognormal')\n",
    "results.power_law.alpha, results.power_law.xmin, R, p"
   ]
  },
  {
   "cell_type": "markdown",
   "id": "9679c6f9",
   "metadata": {},
   "source": [
    "# Box counting"
   ]
  },
  {
   "cell_type": "code",
   "execution_count": null,
   "id": "02b848a2",
   "metadata": {},
   "outputs": [],
   "source": [
    "def box_counting(edge,r = 2):\n",
    "    rearrange = []\n",
    "    for box in range(len(edge)):\n",
    "        x,y = edge[box]\n",
    "        new_box = x // r, y // r\n",
    "        rearrange.append(new_box)\n",
    "    return list(set(rearrange))"
   ]
  },
  {
   "cell_type": "code",
   "execution_count": null,
   "id": "9db5b420",
   "metadata": {},
   "outputs": [],
   "source": [
    "largest_city_edge = list(edges[0].keys())\n",
    "print(len(largest_city_edge))\n",
    "rescale_1 = box_counting(largest_city_edge)\n",
    "print(len(rescale_1))\n",
    "rescale_2 = box_counting(rescale_1)\n",
    "print(len(rescale_2))\n",
    "rescale_3 = box_counting(rescale_2)\n",
    "print(len(rescale_3))\n",
    "rescale_4 = box_counting(rescale_3)\n",
    "print(len(rescale_4))"
   ]
  },
  {
   "cell_type": "code",
   "execution_count": null,
   "id": "42651939",
   "metadata": {},
   "outputs": [],
   "source": [
    "rescale_3 , rescale_4"
   ]
  },
  {
   "cell_type": "markdown",
   "id": "f70a0b55",
   "metadata": {},
   "source": [
    "# area scaling"
   ]
  },
  {
   "cell_type": "code",
   "execution_count": null,
   "id": "0ed675f5",
   "metadata": {},
   "outputs": [],
   "source": [
    "area = []\n",
    "for i in range(k):\n",
    "    area.append(sum(sum(possess == i+1)))\n",
    "plt.plot(area)"
   ]
  },
  {
   "cell_type": "code",
   "execution_count": null,
   "id": "bc77f448",
   "metadata": {},
   "outputs": [],
   "source": [
    "area_pwl = powerlaw.Fit(area)"
   ]
  },
  {
   "cell_type": "code",
   "execution_count": null,
   "id": "6152674c",
   "metadata": {},
   "outputs": [],
   "source": [
    "print(area_pwl.alpha, area_pwl.xmin)\n",
    "area_pwl.plot_pdf()"
   ]
  },
  {
   "cell_type": "code",
   "execution_count": null,
   "id": "c9d74007",
   "metadata": {},
   "outputs": [],
   "source": [
    "area_ = np.array(area)[np.array(area)>1]"
   ]
  },
  {
   "cell_type": "code",
   "execution_count": null,
   "id": "db122514",
   "metadata": {},
   "outputs": [],
   "source": [
    "plt.semilogy(np.sort(area_))"
   ]
  }
 ],
 "metadata": {},
 "nbformat": 4,
 "nbformat_minor": 5
}
