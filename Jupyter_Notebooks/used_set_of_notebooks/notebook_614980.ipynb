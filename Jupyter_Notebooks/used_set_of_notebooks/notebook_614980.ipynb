{
 "cells": [
  {
   "cell_type": "markdown",
   "id": "a6e12694",
   "metadata": {},
   "source": [
    "# Skript for Creating Animated Graphics About Opioids in the USA"
   ]
  },
  {
   "cell_type": "code",
   "execution_count": null,
   "id": "615bb499",
   "metadata": {},
   "outputs": [],
   "source": [
    "import os\n",
    "import sys\n",
    "import numpy as np\n",
    "import pandas as pd\n",
    "import seaborn as sns\n",
    "import matplotlib.pyplot as plt\n",
    "import matplotlib.animation as animation\n",
    "import matplotlib\n",
    "#matplotlib.use(\"Agg\")\n",
    "#matplotlib.use('qt5agg')\n",
    "from matplotlib.animation import FuncAnimation\n",
    "import scipy.io as spio\n",
    "import folium"
   ]
  },
  {
   "cell_type": "markdown",
   "id": "ff7323ee",
   "metadata": {},
   "source": [
    "## Overdose Graphic For Heroin And Perscribed Opioid Pain Relievers\n",
    "* The number of heroin overdoses has increased by 533% since 2002\n",
    "* If the death toll continues to rise on its current path, nearly 94,000 (written in https://www.statnews.com/2017/06/27/opioid-deaths-forecast/) Americans will die yearly from opioids by 2027\n",
    "* If the trend continues on its current trajectory the epidemic will kill more Americans than U.S. servicemen killed during World War Two\n",
    "* 2016, more Americans died from drug overdoses than U.S. soldiers killed in the entire Vietnam war\n",
    "\n",
    "* Opioids are killing more Americans than breast cancer and Opioid related overdoses kill more Americans than AIDS and HIV at the peak of their epidemics"
   ]
  },
  {
   "cell_type": "markdown",
   "id": "fddcdfc6",
   "metadata": {},
   "source": [
    "#### Read in Data"
   ]
  },
  {
   "cell_type": "code",
   "execution_count": null,
   "id": "8cd5c10d",
   "metadata": {},
   "outputs": [],
   "source": [
    "overdoseAll = pd.read_excel('overdose_data_1999-2015.xls',sheetname='Online',skiprows =6)\n",
    "#source: https://www.drugabuse.gov/related-topics/trends-statistics/overdose-death-rates"
   ]
  },
  {
   "cell_type": "code",
   "execution_count": null,
   "id": "883de3bb",
   "metadata": {},
   "outputs": [],
   "source": [
    "overdoseAll"
   ]
  },
  {
   "cell_type": "markdown",
   "id": "7bbcab19",
   "metadata": {},
   "source": [
    "#### Helper Functions"
   ]
  },
  {
   "cell_type": "code",
   "execution_count": null,
   "id": "f17a844e",
   "metadata": {},
   "outputs": [],
   "source": [
    "def get_data(table,rownum,title):\n",
    "    data = pd.DataFrame(table.loc[rownum][2:]).astype(float)\n",
    "    data.columns = {title}\n",
    "    return data\n",
    "def augment(xold,yold,numsteps):\n",
    "    xnew = []\n",
    "    ynew = []\n",
    "    for i in range(len(xold)-1):\n",
    "        difX = xold[i+1]-xold[i]\n",
    "        stepsX = difX/numsteps\n",
    "        difY = yold[i+1]-yold[i]\n",
    "        stepsY = difY/numsteps\n",
    "        for s in range(numsteps):\n",
    "            xnew = np.append(xnew,xold[i]+s*stepsX)\n",
    "            ynew = np.append(ynew,yold[i]+s*stepsY)\n",
    "    return xnew,ynew"
   ]
  },
  {
   "cell_type": "markdown",
   "id": "a25d5e48",
   "metadata": {},
   "source": [
    "### Plot the Number of Opioid Overdoses"
   ]
  },
  {
   "cell_type": "code",
   "execution_count": null,
   "id": "d55d3502",
   "metadata": {},
   "outputs": [],
   "source": [
    "%matplotlib notebook\n",
    "title = 'Opioid Overdoses'\n",
    "d = get_data(overdoseAll,21,title)\n",
    "x = np.array(d.index)\n",
    "y = np.array(d['Opioid Overdoses'])\n",
    "XN,YN = augment(x,y,10)\n",
    "augmented = pd.DataFrame(YN,XN)\n",
    "augmented.columns = {title}\n",
    "\n",
    "Writer = animation.writers['ffmpeg']\n",
    "writer = Writer(fps=50, metadata=dict(artist='Me'), bitrate=1800)\n",
    "\n",
    "fig = plt.figure(figsize=(10,6))\n",
    "plt.xlim(1999, 2016)\n",
    "plt.ylim(np.min(augmented)[0], np.max(augmented)[0])\n",
    "plt.xlabel('Year',fontsize=20)\n",
    "plt.ylabel(title,fontsize=20)\n",
    "\n",
    "plt.title('Opioid Overdoses per Year',fontsize=20)\n",
    "def animate(i):\n",
    "    data = augmented.iloc[:int(i+1)]\n",
    "    p = sns.lineplot(x=data.index, y=data[title], data=data, color=\"r\")\n",
    "    p.tick_params(labelsize=17)\n",
    "    plt.setp(p.lines,linewidth=7)\n",
    "ani = matplotlib.animation.FuncAnimation(fig, animate, frames=160, repeat=True)\n",
    "#ani.save('OpioidOverdoses.mp4', writer=writer)\n",
    "plt.show()"
   ]
  },
  {
   "cell_type": "markdown",
   "id": "1e43ad97",
   "metadata": {},
   "source": [
    "### Opioid Overdoses Outlook"
   ]
  },
  {
   "cell_type": "code",
   "execution_count": null,
   "id": "093b7980",
   "metadata": {},
   "outputs": [],
   "source": [
    "def forcast(original,numSteps,numYears,goalNumber):\n",
    "    Countstepsize = (goalNumber - np.max(augmented)[0])/(numYears*numSteps)\n",
    "    YearStepsize = (numYears)/(numYears*numSteps)\n",
    "    startYear = max(original.index) + YearStepsize\n",
    "    newYear = [startYear]\n",
    "    newNum = [np.max(augmented)[0]+Countstepsize]\n",
    "    for year in range(numYears):\n",
    "        for step in range(numSteps):\n",
    "            newYear = np.append(newYear,newYear[-1]+YearStepsize)\n",
    "            newNum = np.append(newNum,newNum[-1]+Countstepsize)\n",
    "    new = pd.DataFrame(newNum,newYear)\n",
    "    new.columns = {title}\n",
    "    return new"
   ]
  },
  {
   "cell_type": "code",
   "execution_count": null,
   "id": "a2661085",
   "metadata": {},
   "outputs": [],
   "source": [
    "%matplotlib notebook\n",
    "title = 'Opioid Overdoses'\n",
    "d = get_data(overdoseAll,21,title)\n",
    "x = np.array(d.index)\n",
    "y = np.array(d['Opioid Overdoses'])\n",
    "XN,YN = augment(x,y,10)\n",
    "augmented = pd.DataFrame(YN,XN)\n",
    "augmented.columns = {title}\n",
    "f = forcast(augmented,10,12,100000)\n",
    "fc = augmented.append(f)\n",
    "\n",
    "Writer = animation.writers['ffmpeg']\n",
    "writer = Writer(fps=50, metadata=dict(artist='Me'), bitrate=1800)\n",
    "\n",
    "maxRec = np.max(augmented)[0]\n",
    "\n",
    "fig = plt.figure(figsize=(10,6))\n",
    "fig.subplots_adjust(hspace=0.9, wspace=0.9)\n",
    "plt.xlim(1999, 2027)\n",
    "plt.ylim(np.min(augmented)[0], 94000)\n",
    "plt.xlabel('Year',fontsize=20)\n",
    "plt.ylabel(title,fontsize=20)\n",
    "plt.gcf().subplots_adjust(left=0.15)\n",
    "plt.title('Opioid Overdoses per Year',fontsize=20)\n",
    "def animate(i):\n",
    "    data = fc.iloc[:int(i+1)]    \n",
    "    if data.iloc[-1][0]>maxRec:\n",
    "        startFc = data[data[title]==maxRec].index[0]\n",
    "        data = data[startFc:]\n",
    "        p2 = sns.lineplot(x=data.index, y=data[title], data=data, color=\"maroon\")\n",
    "        p2.tick_params(labelsize=17)\n",
    "        plt.setp(p2.lines,linewidth=7)#, linestyle='dotted')\n",
    "    else:\n",
    "        p = sns.lineplot(x=data.index, y=data[title], data=data, color=\"r\")\n",
    "        p.tick_params(labelsize=17)\n",
    "        plt.setp(p.lines,linewidth=7)\n",
    "ani = matplotlib.animation.FuncAnimation(fig, animate, frames=320, repeat=True)\n",
    "ani.save('OpioidOverdosesFc.mp4', writer=writer)\n",
    "#plt.show()"
   ]
  },
  {
   "cell_type": "markdown",
   "id": "0ee47e82",
   "metadata": {},
   "source": [
    "### Heroin Overdoses"
   ]
  },
  {
   "cell_type": "code",
   "execution_count": null,
   "id": "84e8f23d",
   "metadata": {},
   "outputs": [],
   "source": [
    "%matplotlib notebook\n",
    "title = 'Heroin Overdoses'\n",
    "d = get_data(overdoseAll,18,title)\n",
    "x = np.array(d.index)\n",
    "y = np.array(d['Heroin Overdoses'])\n",
    "XN,YN = augment(x,y,10)\n",
    "augmented = pd.DataFrame(YN,XN)\n",
    "augmented.columns = {title}\n",
    "\n",
    "Writer = animation.writers['ffmpeg']\n",
    "writer = Writer(fps=50, metadata=dict(artist='Me'), bitrate=1800)\n",
    "\n",
    "fig = plt.figure(figsize=(10,6))\n",
    "plt.xlim(1999, 2016)\n",
    "plt.ylim(np.min(augmented)[0], np.max(augmented)[0])\n",
    "plt.xlabel('Year',fontsize=20)\n",
    "plt.ylabel(title,fontsize=20)\n",
    "\n",
    "plt.title('Heroin Overdoses per Year',fontsize=20)\n",
    "def animate(i):\n",
    "    data = augmented.iloc[:int(i+1)]\n",
    "    p = sns.lineplot(x=data.index, y=data[title], data=data, color=\"r\")\n",
    "    p.tick_params(labelsize=17)\n",
    "    plt.setp(p.lines,linewidth=7)\n",
    "ani = matplotlib.animation.FuncAnimation(fig, animate, frames=160, repeat=True)\n",
    "ani.save('HeroinOverdoses.mp4', writer=writer)\n",
    "#plt.show()"
   ]
  },
  {
   "cell_type": "markdown",
   "id": "42e57793",
   "metadata": {},
   "source": [
    "## Opioid Deaths - Crude Rate Map"
   ]
  },
  {
   "cell_type": "markdown",
   "id": "0fe2b908",
   "metadata": {},
   "source": [
    "#### Read in Data"
   ]
  },
  {
   "cell_type": "code",
   "execution_count": null,
   "id": "22a31c57",
   "metadata": {},
   "outputs": [],
   "source": [
    "opioid_death = pd.read_csv('opioid_death_1999_2014_v1_1.csv')\n",
    "#source: https://data.world/health/opioid-overdose-deaths/ \n",
    "#who got it from: https://www.cdc.gov/mmwr/preview/mmwrhtml/mm6450a3.htm"
   ]
  },
  {
   "cell_type": "code",
   "execution_count": null,
   "id": "96fcdf4e",
   "metadata": {},
   "outputs": [],
   "source": [
    "opioid_death"
   ]
  },
  {
   "cell_type": "markdown",
   "id": "0c617e9f",
   "metadata": {},
   "source": [
    "#### Look at Crude Rate Distribution\n",
    "Since we have a long tail to the right side of the distribution we use the four percentiles of the distribution for the color scale:"
   ]
  },
  {
   "cell_type": "code",
   "execution_count": null,
   "id": "3c399964",
   "metadata": {},
   "outputs": [],
   "source": [
    "%matplotlib inline\n",
    "maxRate = np.max(opioid_death['crude_rate'].replace(\"Unreliable\",\"0.0\").replace(\"Suppressed\",\"0.0\").apply(pd.to_numeric))\n",
    "scale = np.array(np.linspace(0,maxRate,4,dtype='int'))\n",
    "rates = opioid_death['crude_rate'].replace(\"Unreliable\",\"0.0\").replace(\"Suppressed\",\"0.0\").apply(pd.to_numeric)\n",
    "plt.hist(rates)\n",
    "plt.title(\"Distribution of Crude Rates Over all Years\")\n",
    "plt.xlabel(\"Crude Rate\")\n",
    "plt.ylabel(\"Count\")\n",
    "plt.show();"
   ]
  },
  {
   "cell_type": "markdown",
   "id": "bdfead4c",
   "metadata": {},
   "source": [
    "#### Calculate Percentiles for Color Scale"
   ]
  },
  {
   "cell_type": "code",
   "execution_count": null,
   "id": "71361e9d",
   "metadata": {},
   "outputs": [],
   "source": [
    "perc1 = np.percentile(rates, 25)\n",
    "perc2 = np.percentile(rates, 50)\n",
    "perc3 = np.percentile(rates, 75)"
   ]
  },
  {
   "cell_type": "markdown",
   "id": "7cb16a90",
   "metadata": {},
   "source": [
    "### Plot Crude Rates for Each State in One Year"
   ]
  },
  {
   "cell_type": "code",
   "execution_count": null,
   "id": "61b5bab3",
   "metadata": {},
   "outputs": [],
   "source": [
    "def getTableOneYear(data,year):\n",
    "    new = data[data['year']==year][['state','crude_rate']].reset_index()\n",
    "    new = new.replace(\"Unreliable\",\"0.0\").replace(\"Suppressed\",\"0.0\")[['state',\"crude_rate\"]]\n",
    "    new['crude_rate'] = new['crude_rate'].apply(pd.to_numeric)\n",
    "    return new\n",
    "t = getTableOneYear(opioid_death,2014)"
   ]
  },
  {
   "cell_type": "code",
   "execution_count": null,
   "id": "0477ad50",
   "metadata": {},
   "outputs": [],
   "source": [
    "# Find the original file here: https://github.com/python-visualization/folium/tree/master/examples/data\n",
    "state_geo = 'us-states.json'\n",
    "\n",
    "m = folium.Map(location=[37, -101], zoom_start=4)\n",
    "\n",
    "m.choropleth(\n",
    " geo_data=state_geo,\n",
    " name='choropleth',\n",
    " data=t,\n",
    " columns=['state', 'crude_rate'],\n",
    " key_on='feature.properties.name',\n",
    " fill_color='Reds',\n",
    " fill_opacity=0.8,\n",
    " line_opacity=0.3,\n",
    "    threshold_scale=[ 0,perc1,perc2,perc3,maxRate+1],reset=True,\n",
    " legend_name='Crude Rate (Opioid Related Deaths per 100.000 )'\n",
    ")\n",
    "\n",
    "folium.LayerControl().add_to(m)     \n",
    "\n",
    "m"
   ]
  },
  {
   "cell_type": "markdown",
   "id": "c22de62b",
   "metadata": {},
   "source": [
    "## Opioid Perscription Data\n",
    "-> No graphic needed"
   ]
  },
  {
   "cell_type": "code",
   "execution_count": null,
   "id": "f02b8b15",
   "metadata": {},
   "outputs": [],
   "source": [
    "opioid_persc = pd.read_csv('OpioidPerscriptions.csv')\n",
    "#Source: https://www.cdc.gov/drugoverdose/maps/rxrate-maps.html"
   ]
  },
  {
   "cell_type": "code",
   "execution_count": null,
   "id": "3b21d6ce",
   "metadata": {},
   "outputs": [],
   "source": [
    "opioid_persc"
   ]
  },
  {
   "cell_type": "markdown",
   "id": "47d44f52",
   "metadata": {},
   "source": [
    "### Data for Overdose per County (2015-2017)"
   ]
  },
  {
   "cell_type": "code",
   "execution_count": null,
   "id": "b95f82eb",
   "metadata": {},
   "outputs": [],
   "source": [
    "overdose = pd.read_csv('VSRR_Provisional_Drug_Overdose_Death_Counts.csv')"
   ]
  },
  {
   "cell_type": "code",
   "execution_count": null,
   "id": "052b14d1",
   "metadata": {},
   "outputs": [],
   "source": [
    "overdose"
   ]
  }
 ],
 "metadata": {},
 "nbformat": 4,
 "nbformat_minor": 5
}
