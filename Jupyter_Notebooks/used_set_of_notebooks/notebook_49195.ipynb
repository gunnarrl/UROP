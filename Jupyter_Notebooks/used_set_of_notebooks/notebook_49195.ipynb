{
 "cells": [
  {
   "cell_type": "markdown",
   "id": "32a9c7db",
   "metadata": {},
   "source": [
    "# Forecasting a Time Series \n"
   ]
  },
  {
   "cell_type": "markdown",
   "id": "8c72ce92",
   "metadata": {},
   "source": [
    "### Data loading & Processing "
   ]
  },
  {
   "cell_type": "code",
   "execution_count": null,
   "id": "c36c19af",
   "metadata": {},
   "outputs": [],
   "source": [
    "%matplotlib inline\n",
    "import pandas as pd\n",
    "\n",
    "\n",
    "pd.set_option('display.max_rows', 500)\n",
    "pd.set_option('display.max_columns', 500)\n",
    "\n",
    "\n",
    "data = pd.read_csv(\"sample.csv\",index_col=0)\n",
    "data.head()"
   ]
  },
  {
   "cell_type": "code",
   "execution_count": null,
   "id": "3abf8676",
   "metadata": {},
   "outputs": [],
   "source": [
    "data.index"
   ]
  },
  {
   "cell_type": "code",
   "execution_count": null,
   "id": "a811d6b2",
   "metadata": {},
   "outputs": [],
   "source": [
    "data.index = pd.to_datetime(data.index)"
   ]
  },
  {
   "cell_type": "code",
   "execution_count": null,
   "id": "eecfef4a",
   "metadata": {},
   "outputs": [],
   "source": [
    "data.head()"
   ]
  },
  {
   "cell_type": "code",
   "execution_count": null,
   "id": "daedb03e",
   "metadata": {},
   "outputs": [],
   "source": [
    "data.index"
   ]
  },
  {
   "cell_type": "code",
   "execution_count": null,
   "id": "1e677a53",
   "metadata": {},
   "outputs": [],
   "source": [
    "data[pd.isnull(data['IPG2211A2N'])]"
   ]
  },
  {
   "cell_type": "code",
   "execution_count": null,
   "id": "2c098bf1",
   "metadata": {},
   "outputs": [],
   "source": [
    "data.columns = ['Value']"
   ]
  },
  {
   "cell_type": "code",
   "execution_count": null,
   "id": "9718522a",
   "metadata": {},
   "outputs": [],
   "source": [
    "data.tail()"
   ]
  },
  {
   "cell_type": "markdown",
   "id": "cb0a25a0",
   "metadata": {},
   "source": [
    "### ARIMA Time Series Model Setting "
   ]
  },
  {
   "cell_type": "code",
   "execution_count": null,
   "id": "1745d179",
   "metadata": {},
   "outputs": [],
   "source": [
    "import itertools\n",
    "\n",
    "# S_period: periodicity of the time series (4 for quarterly periods, 12 for yearly periods for monthly data, etc.)\n",
    "S_period = 12\n",
    "\n",
    "# Define the p, d and q parameters to take any value between 0 and 2\n",
    "#p = d = q = range(0, 5)\n",
    "\n",
    "p = range(0, 2)\n",
    "d = range(0, 2)\n",
    "q = range(0, 2)\n",
    "\n",
    "# Generate all different combinations of p, q and q triplets\n",
    "pdq = list(itertools.product(p, d, q))\n",
    "\n",
    "# Generate all different combinations of seasonal p, q and q triplets\n",
    "seasonal_pdq = [(x[0], x[1], x[2], S_period) for x in list(itertools.product(p, d, q))]"
   ]
  },
  {
   "cell_type": "code",
   "execution_count": null,
   "id": "f1aa662c",
   "metadata": {},
   "outputs": [],
   "source": [
    "pdq"
   ]
  },
  {
   "cell_type": "markdown",
   "id": "4a42adec",
   "metadata": {},
   "source": [
    "###  Parameter Selection for the ARIMA Time Series Model"
   ]
  },
  {
   "cell_type": "code",
   "execution_count": null,
   "id": "384dae38",
   "metadata": {},
   "outputs": [],
   "source": [
    "import warnings\n",
    "import statsmodels.api as sm\n",
    "import numpy as np\n",
    "import time\n",
    "\n",
    "\n",
    "warnings.filterwarnings(\"ignore\") # specify to ignore warning messages\n",
    "\n",
    "\n",
    "cnt_loop = 0\n",
    "\n",
    "\n",
    "aic_table = pd.DataFrame(np.zeros((len(pdq), len(seasonal_pdq))), index = pdq, columns = seasonal_pdq)\n",
    "\n",
    "print(\"Time mearuse started.\")\n",
    "startTime = time.time()\n",
    "                         \n",
    "for param in pdq:\n",
    "    for param_seasonal in seasonal_pdq:\n",
    "\n",
    "        mod = sm.tsa.statespace.SARIMAX(data,\n",
    "                                        order=param,\n",
    "                                        seasonal_order=param_seasonal,\n",
    "                                        enforce_stationarity=False,\n",
    "                                        enforce_invertibility=False)\n",
    "\n",
    "        results = mod.fit()\n",
    "\n",
    "\n",
    "        print('ARIMA{}x{}12 - AIC:{}'.format(param, param_seasonal, results.aic))\n",
    "\n",
    "        aic_table[param, param_seasonal] = results.aic\n",
    "\n",
    "        if cnt_loop == 0:\n",
    "            min_aic = results.aic\n",
    "            min_aic_param = param\n",
    "            min_aic_param_seasonal = param_seasonal\n",
    "\n",
    "        if results.aic < min_aic:\n",
    "            min_aic = results.aic\n",
    "            min_aic_param = param\n",
    "            min_aic_param_seasonal = param_seasonal          \n",
    "        cnt_loop = cnt_loop + 1             \n",
    "\n",
    "            \n",
    "\n",
    "\n",
    "endTime = time.time() - startTime\n",
    "print(\"Spent time:\", endTime) \n",
    "\n",
    "print(\"Minimum AIC value:\", min_aic) "
   ]
  },
  {
   "cell_type": "code",
   "execution_count": null,
   "id": "46a61f19",
   "metadata": {},
   "outputs": [],
   "source": [
    "min_combination = {\"min_aic\":min_aic, \"min_aic_param\":min_aic_param, \"min_aic_param_seasonal\":min_aic_param_seasonal}\n",
    "\n",
    "\n",
    "print(min_combination)\n"
   ]
  },
  {
   "cell_type": "markdown",
   "id": "ff87f910",
   "metadata": {},
   "source": [
    "### Fitting an ARIMA Time Series Model"
   ]
  },
  {
   "cell_type": "code",
   "execution_count": null,
   "id": "8941f589",
   "metadata": {},
   "outputs": [],
   "source": [
    "\n",
    "\n",
    "mod = sm.tsa.statespace.SARIMAX(data,\n",
    "                                order=min_aic_param,\n",
    "                                seasonal_order=min_aic_param_seasonal,\n",
    "                                enforce_stationarity=False,\n",
    "                                enforce_invertibility=False)\n",
    "\n",
    "results = mod.fit()\n",
    "\n",
    "\n",
    "print(results.summary().tables[1])"
   ]
  },
  {
   "cell_type": "markdown",
   "id": "b26baf99",
   "metadata": {},
   "source": [
    "### Diagnosis of model"
   ]
  },
  {
   "cell_type": "code",
   "execution_count": null,
   "id": "4bc42eec",
   "metadata": {},
   "outputs": [],
   "source": [
    "import matplotlib.pyplot as plt\n",
    "\n",
    "results.plot_diagnostics(figsize=(15, 12))\n",
    "plt.show()"
   ]
  },
  {
   "cell_type": "markdown",
   "id": "2b5b9086",
   "metadata": {},
   "source": [
    "### Validating Forecasts (Static)"
   ]
  },
  {
   "cell_type": "code",
   "execution_count": null,
   "id": "38206d5b",
   "metadata": {},
   "outputs": [],
   "source": [
    "\n",
    "\n",
    "PREDICTION_START_DATETIME = pd.to_datetime('2015-01-01')\n",
    "\n",
    "pred = results.get_prediction(start=PREDICTION_START_DATETIME, dynamic=False)\n",
    "\"\"\"\n",
    "The dynamic=False argument ensures that we produce one-step ahead forecasts, meaning that forecasts at each point are generated using the full history up to that point.\n",
    "\"\"\"\n",
    "\n",
    "# confidence intervals for forcasts of the time series \n",
    "pred_ci = pred.conf_int()\n",
    "\n",
    "\n",
    "\n",
    "# plotting forcast result\n",
    "ax = data['2010-01-01':].plot(label='observed')\n",
    "pred.predicted_mean.plot(ax=ax, label='One-step ahead Forecast', alpha=.7)\n",
    "\n",
    "ax.fill_between(pred_ci.index,\n",
    "                pred_ci.iloc[:, 0],\n",
    "                pred_ci.iloc[:, 1], color='k', alpha=.2)\n",
    "\n",
    "ax.fill_betweenx(ax.get_ylim(), PREDICTION_START_DATETIME, data.index[-1],\n",
    "                 alpha=.1, zorder=-1)\n",
    "\n",
    "\n",
    "ax.set_xlabel('Date')\n",
    "ax.set_ylabel('Value')\n",
    "plt.legend()\n",
    "\n",
    "plt.show()\n",
    "\n",
    "\n"
   ]
  },
  {
   "cell_type": "markdown",
   "id": "dd240144",
   "metadata": {},
   "source": [
    "### Generating table including all information (Static)"
   ]
  },
  {
   "cell_type": "code",
   "execution_count": null,
   "id": "8942ff3b",
   "metadata": {},
   "outputs": [],
   "source": [
    "df_true_value = data.copy()\n",
    "df_true_value.columns = ['Value']\n",
    "\n",
    "df_predicted_mean = pd.DataFrame(pred.predicted_mean)\n",
    "df_predicted_mean.index = pd.to_datetime(df_predicted_mean.index)\n",
    "df_predicted_mean.index.name = 'DATE'\n",
    "df_predicted_mean.columns = ['Predicted value']\n",
    "df_pred_ci = pred_ci.copy()\n",
    "df_pred_ci.index = pd.to_datetime(df_pred_ci.index)\n",
    "df_pred_ci.index.name = 'DATE'\n",
    "\n",
    "#df['Abnomal'] = df[]\n",
    "\n",
    "#result = left.join(right, how='outer')\n",
    "df = df_true_value.join(df_predicted_mean, how = 'outer')\n",
    "df = df.join(df_pred_ci, how = 'outer')"
   ]
  },
  {
   "cell_type": "markdown",
   "id": "ec0baba7",
   "metadata": {},
   "source": [
    "### Calculating MSE, MAPE (Static)"
   ]
  },
  {
   "cell_type": "code",
   "execution_count": null,
   "id": "72a8ab86",
   "metadata": {},
   "outputs": [],
   "source": [
    "\n",
    "y_forecasted = df.loc[PREDICTION_START_DATETIME:, 'Predicted value'].values\n",
    "y_truth = df.loc[PREDICTION_START_DATETIME:, 'Value'].values\n",
    "\n",
    "# Compute the mean square error\n",
    "mse = ((y_forecasted - y_truth) ** 2).mean()\n",
    "print('The Mean Squared Error of our forecasts is {}'.format(round(mse, 2)))\n",
    "\n",
    "# Compute the mean square error\n",
    "\n",
    "def mean_absolute_percentage_error(y_true, y_pred): \n",
    "    y_true, y_pred = np.array(y_true), np.array(y_pred)\n",
    "    return np.mean(np.abs((y_true - y_pred) / y_true)) * 100\n",
    "\n",
    "mape = mean_absolute_percentage_error(y_truth, y_forecasted)\n",
    "print('The Mean Absolute Percentage Error of our forecasts is {}'.format(round(mape, 2)))"
   ]
  },
  {
   "cell_type": "markdown",
   "id": "c3c4f42d",
   "metadata": {},
   "source": [
    "### Validating Forecasts (Dynamic)"
   ]
  },
  {
   "cell_type": "code",
   "execution_count": null,
   "id": "099a60ba",
   "metadata": {},
   "outputs": [],
   "source": [
    "\"\"\"Dynamic forecast: only use information from the time series up to a certain point, and after that,\n",
    "                     forecasts are generated using values from previous forecasted time points.\n",
    "\"\"\"\n",
    "\n",
    "PREDICTION_START_DATETIME = pd.to_datetime('2015-01-01')\n",
    "\n",
    "pred_dynamic = results.get_prediction(start=PREDICTION_START_DATETIME, dynamic=True, full_results=True)\n",
    "pred_dynamic_ci = pred_dynamic.conf_int()\n",
    "\n",
    "ax = data['2010-01-01':].plot(label='observed')\n",
    "pred_dynamic.predicted_mean.plot(ax=ax, label='Dynamic Forecast', alpha=.7)\n",
    "\n",
    "ax.fill_between(pred_dynamic_ci.index,\n",
    "                pred_dynamic_ci.iloc[:, 0],\n",
    "                pred_dynamic_ci.iloc[:, 1], color='k', alpha=.25)\n",
    "\n",
    "ax.fill_betweenx(ax.get_ylim(), PREDICTION_START_DATETIME, data.index[-1],\n",
    "                 alpha=.1, zorder=-1)\n",
    "\n",
    "ax.set_xlabel('Date')\n",
    "ax.set_ylabel('Value')\n",
    "\n",
    "plt.legend()\n",
    "\n",
    "plt.show()\n"
   ]
  },
  {
   "cell_type": "markdown",
   "id": "7e4171f4",
   "metadata": {},
   "source": [
    "### Generating table including all information (Dynamic)"
   ]
  },
  {
   "cell_type": "code",
   "execution_count": null,
   "id": "98c33808",
   "metadata": {},
   "outputs": [],
   "source": [
    "df_true_value = data.copy()\n",
    "df_true_value.columns = ['Value']\n",
    "\n",
    "df_dynamic_predicted_mean = pd.DataFrame(pred_dynamic.predicted_mean)\n",
    "df_dynamic_predicted_mean.index = pd.to_datetime(df_dynamic_predicted_mean.index)\n",
    "df_dynamic_predicted_mean.index.name = 'DATE'\n",
    "df_dynamic_predicted_mean.columns = ['Predicted value']\n",
    "df_dynamic_pred_ci = pred_dynamic_ci.copy()\n",
    "df_dynamic_pred_ci.index = pd.to_datetime(df_dynamic_pred_ci.index)\n",
    "df_dynamic_pred_ci.index.name = 'DATE'\n",
    "\n",
    "#df['Abnomal'] = df[]\n",
    "\n",
    "#result = left.join(right, how='outer')\n",
    "df_dynamic = df_true_value.join(df_dynamic_predicted_mean, how = 'outer')\n",
    "df_dynamic = df_dynamic.join(df_dynamic_pred_ci, how = 'outer')"
   ]
  },
  {
   "cell_type": "markdown",
   "id": "00190525",
   "metadata": {},
   "source": [
    "### Calculating MSE, MAPE (Dynamic)"
   ]
  },
  {
   "cell_type": "code",
   "execution_count": null,
   "id": "1b5c1fe9",
   "metadata": {},
   "outputs": [],
   "source": [
    "y_forecasted = df_dynamic.loc[PREDICTION_START_DATETIME:, 'Predicted value'].values\n",
    "y_truth = df_dynamic.loc[PREDICTION_START_DATETIME:, 'Value'].values\n",
    "\n",
    "# Compute the mean square error\n",
    "mse = ((y_forecasted - y_truth) ** 2).mean()\n",
    "print('The Mean Squared Error of our forecasts is {}'.format(round(mse, 2)))\n",
    "\n",
    "# Compute the mean square error\n",
    "\n",
    "def mean_absolute_percentage_error(y_true, y_pred): \n",
    "    y_true, y_pred = np.array(y_true), np.array(y_pred)\n",
    "    return np.mean(np.abs((y_true - y_pred) / y_true)) * 100\n",
    "\n",
    "mape = mean_absolute_percentage_error(y_truth, y_forecasted)\n",
    "print('The Mean Absolute Percentage Error of our forecasts is {}'.format(round(mape, 2)))"
   ]
  },
  {
   "cell_type": "markdown",
   "id": "e12d01e7",
   "metadata": {},
   "source": [
    "### Future Forecast"
   ]
  },
  {
   "cell_type": "code",
   "execution_count": null,
   "id": "e641b2d9",
   "metadata": {},
   "outputs": [],
   "source": [
    "# Get forecast 500 steps ahead in future\n",
    "pred_uc = results.get_forecast(steps=200)\n",
    "\n",
    "# Get confidence intervals of forecasts\n",
    "pred_ci = pred_uc.conf_int()\n",
    "\n",
    "\n",
    "ax = data.plot(label='observed', figsize=(20, 15))\n",
    "pred_uc.predicted_mean.plot(ax=ax, label='Forecast')\n",
    "ax.fill_between(pred_ci.index,\n",
    "                pred_ci.iloc[:, 0],\n",
    "                pred_ci.iloc[:, 1], color='k', alpha=.25)\n",
    "ax.set_xlabel('Date')\n",
    "ax.set_ylabel('Value')\n",
    "\n",
    "plt.legend()\n",
    "plt.show()"
   ]
  },
  {
   "cell_type": "code",
   "execution_count": null,
   "id": "4ec99ffe",
   "metadata": {},
   "outputs": [],
   "source": [
    "#from pyramid.arima import auto_arima"
   ]
  }
 ],
 "metadata": {},
 "nbformat": 4,
 "nbformat_minor": 5
}
