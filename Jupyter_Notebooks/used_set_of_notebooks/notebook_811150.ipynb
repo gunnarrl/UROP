{
 "cells": [
  {
   "cell_type": "markdown",
   "id": "41a96881",
   "metadata": {},
   "source": [
    "<a href=\"https://colab.research.google.com/github/seungbinahn/START_AI/blob/master/02_Machine_Learning%E2%80%8E/04_2_%ED%83%80%EC%9D%B4%ED%83%80%EB%8B%89_%EB%8D%B0%EC%9D%B4%ED%84%B0_%EB%B6%84%EC%84%9D.ipynb\" target=\"_parent\"><img src=\"https://colab.research.google.com/assets/colab-badge.svg\" alt=\"Open In Colab\"/></a>"
   ]
  },
  {
   "cell_type": "markdown",
   "id": "8923e9bb",
   "metadata": {},
   "source": [
    "# Titanic 데이터 생존 예측 실습"
   ]
  },
  {
   "cell_type": "code",
   "execution_count": null,
   "id": "52106750",
   "metadata": {},
   "outputs": [],
   "source": [
    "import numpy as np\n",
    "import pandas as pd\n",
    "import matplotlib.pyplot as plt\n",
    "import seaborn as sns\n",
    "%matplotlib inline\n",
    "\n",
    "titanic_df = pd.read_csv('./train.csv') # 트레인 데이서 읽기\n",
    "titanic_df.head()"
   ]
  },
  {
   "cell_type": "markdown",
   "id": "8c8e9f26",
   "metadata": {},
   "source": [
    "* Passengerid: 탑승자 데이터 일련번호\n",
    "* survived: 생존 여부, 0 = 사망, 1 = 생존\n",
    "* Pclass: 티켓의 선실 등급, 1 = 일등석, 2 = 이등석, 3 = 삼등석\n",
    "* name: 탑승자 이름\n",
    "* sex: 탑승자 성별, (male, female)\n",
    "* Age: 탑승자 나이\n",
    "* sibsp: 같이 탑승한 형제자매 또는 배우자 인원수\n",
    "* parch: 같이 탑승한 부모님 또는 어린이 인원수\n",
    "* ticket: 티켓 번호\n",
    "* fare: 요금\n",
    "* cabin: 선실 번호\n",
    "* embarked: 중간 정착 항구 C = Cherbourg, Q = Queenstown, S = Southampton"
   ]
  },
  {
   "cell_type": "code",
   "execution_count": null,
   "id": "553573c6",
   "metadata": {},
   "outputs": [],
   "source": [
    "print(titanic_df.info())"
   ]
  },
  {
   "cell_type": "markdown",
   "id": "91004938",
   "metadata": {},
   "source": [
    "## 데이터 전처리"
   ]
  },
  {
   "cell_type": "code",
   "execution_count": null,
   "id": "a841ef10",
   "metadata": {},
   "outputs": [],
   "source": [
    "# NULL 컬럼들에 대한 처리\n",
    "print(titanic_df.isnull().sum()) # 각 칼럼에 대한 null 개수\n",
    "print(titanic_df.isnull().sum().sum()) # null의 총 개수\n",
    "\n",
    "# NaN 값 채우기\n",
    "titanic_df.Age.fillna(titanic_df.Age.mean(), inplace=True) # inplace : 원본 데이터 수정\n",
    "titanic_df.Cabin.fillna('N',inplace=True) # inplace : 원본 데이터 수정\n",
    "titanic_df.Embarked.fillna('N',inplace=True) # inplace : 원본 데이터 수정\n",
    "\n",
    "# 변환 작업 후 \n",
    "print(titanic_df.isnull().sum()) # 각 칼럼에 대한 null 개수\n",
    "print(titanic_df.isnull().sum().sum()) # null의 총 개수"
   ]
  },
  {
   "cell_type": "code",
   "execution_count": null,
   "id": "5c54aa53",
   "metadata": {},
   "outputs": [],
   "source": [
    "# 컬럼 데이터 분포 확인\n",
    "print(titanic_df['Sex'].value_counts(), '\\n') # 남자가 더 많음\n",
    "print(titanic_df['Cabin'].value_counts(), '\\n') # N이 가장 많음, 여러 개의 선실을 가진 경우도 있음\n",
    "print(titanic_df['Embarked'].value_counts(), '\\n') # S가 가장 많음"
   ]
  },
  {
   "cell_type": "code",
   "execution_count": null,
   "id": "a3722e2e",
   "metadata": {},
   "outputs": [],
   "source": [
    "# Cabin 데이터 전처리\n",
    "titanic_df['Cabin'] = titanic_df['Cabin'].str[:1]\n",
    "print(titanic_df['Cabin'].head())\n",
    "titanic_df['Cabin'].value_counts()"
   ]
  },
  {
   "cell_type": "markdown",
   "id": "02eaa65b",
   "metadata": {},
   "source": [
    "## 데이터 분석"
   ]
  },
  {
   "cell_type": "code",
   "execution_count": null,
   "id": "89b9517f",
   "metadata": {},
   "outputs": [],
   "source": [
    "# 성별 별 생존 데이터 분석\n",
    "rst = titanic_df.groupby(['Sex','Survived'])['Survived'].count()\n",
    "print(rst)"
   ]
  },
  {
   "cell_type": "code",
   "execution_count": null,
   "id": "4d14e0ff",
   "metadata": {},
   "outputs": [],
   "source": [
    "# 성별 별 생존률 시각화\n",
    "sns.barplot(data=titanic_df, x='Sex', y='Survived')"
   ]
  },
  {
   "cell_type": "code",
   "execution_count": null,
   "id": "c935caba",
   "metadata": {},
   "outputs": [],
   "source": [
    "# Pclass 별, 성별 별 생존 데이터 분석\n",
    "titanic_df.groupby(['Pclass','Sex','Survived'])['Survived'].count()\n",
    "# pclass가 높은 여성은 굉장히 높은 생존률을 보임"
   ]
  },
  {
   "cell_type": "code",
   "execution_count": null,
   "id": "871242f4",
   "metadata": {},
   "outputs": [],
   "source": [
    "# Pclass 별, 성별 별 생존률 시각화\n",
    "sns.barplot(data = titanic_df, x = 'Pclass', y = 'Survived', hue='Sex')\n",
    "# pclass가 높은 여성은 굉장히 높은 생존률을 보임, 특히 1, 여성의 경우 1에 가까운 생존률을 보임"
   ]
  },
  {
   "cell_type": "markdown",
   "id": "17f9f4cd",
   "metadata": {},
   "source": [
    "## 데이터 범주화"
   ]
  },
  {
   "cell_type": "code",
   "execution_count": null,
   "id": "d4dd94f6",
   "metadata": {},
   "outputs": [],
   "source": [
    "# 나이를 구간에 따라 범주화 하는 함수\n",
    "# lambda를 활용하여 Age의 모든 컬럼에 get_category 함수 적용 후 신규 컬럼 생성\n",
    "def get_category(age):\n",
    "    cat = ''\n",
    "    if age <= -1: cat = 'Unknown'\n",
    "    elif age <= 5: cat = 'Baby'\n",
    "    elif age <= 12: cat = 'Child'\n",
    "    elif age <= 18: cat = 'Teenager'\n",
    "    elif age <= 25: cat = 'Student'\n",
    "    elif age <= 35: cat = 'Young Adult'\n",
    "    elif age <= 60: cat = 'Adult'\n",
    "    else : cat = 'Elderly'\n",
    "    \n",
    "    return cat\n",
    "\n",
    "titanic_df['Age_cat'] = titanic_df['Age'].apply(get_category)\n",
    "titanic_df.head()"
   ]
  },
  {
   "cell_type": "code",
   "execution_count": null,
   "id": "4639f673",
   "metadata": {},
   "outputs": [],
   "source": [
    "# 막대그래프의 크기 figure를 더 크게 설정 \n",
    "plt.figure(figsize=(10,6))\n",
    "\n",
    "#X축의 값을 순차적으로 표시하기 위한 설정 \n",
    "group_names = ['Unknown', 'Baby', 'Child', 'Teenager', 'Student', 'Young Adult', 'Adult', 'Elderly']\n",
    "\n",
    "# Seaborn을 활용하여 데이터 시각화\n",
    "sns.barplot(x='Age_cat', y = 'Survived', hue='Sex', data=titanic_df, order = group_names)\n",
    "titanic_df.drop('Age_cat', axis=1, inplace=True)"
   ]
  },
  {
   "cell_type": "code",
   "execution_count": null,
   "id": "d4541f0e",
   "metadata": {},
   "outputs": [],
   "source": [
    "from sklearn import preprocessing\n",
    "# Cabin, Sex, Embarked 컬럼에 대해 Label Encoding 수행\n",
    "def encode_features(df):\n",
    "  features = ['Cabin','Sex','Embarked']\n",
    "  for feature in features:\n",
    "    le = preprocessing.LabelEncoder()\n",
    "    le = le.fit(df[feature])\n",
    "    df[feature] = le.transform(df[feature])\n",
    "\n",
    "  return df\n",
    "\n",
    "titanic_df = encode_features(titanic_df)\n",
    "titanic_df.head()"
   ]
  },
  {
   "cell_type": "code",
   "execution_count": null,
   "id": "376d9326",
   "metadata": {},
   "outputs": [],
   "source": [
    "from sklearn.preprocessing import LabelEncoder\n",
    "\n",
    "# 데이터 전처리 기능 모듈화\n",
    "# Null 처리 함수\n",
    "def fillna(df):\n",
    "  df.Age.fillna(df.Age.mean(), inplace=True) # inplace : 원본 데이터 수정\n",
    "  df.Cabin.fillna('N',inplace=True) # inplace : 원본 데이터 수정\n",
    "  df.Embarked.fillna('N',inplace=True) # inplace : 원본 데이터 수정\n",
    "  return df\n",
    "\n",
    "# 불필요한 속성 제거 함수\n",
    "def drop_features(df):\n",
    "  df.drop(['PassengerId','Name','Ticket'], axis=1, inplace=True)\n",
    "  return df\n",
    "\n",
    "# 레이블 인코딩 함수\n",
    "def format_features(df):\n",
    "  df['Cabin'] = df['Cabin'].str[:1]\n",
    "  features = ['Cabin','Sex','Embarked']\n",
    "  for feature in features:\n",
    "    le = preprocessing.LabelEncoder()\n",
    "    le = le.fit(df[feature])\n",
    "    df[feature] = le.transform(df[feature])\n",
    "  return df\n",
    "\n",
    "# 앞에서 설정한 Data Preprocessing 함수 호출\n",
    "def transform_features(df):\n",
    "  df = fillna(df)\n",
    "  df = drop_features(df)\n",
    "  df = format_features(df)\n",
    "  return df"
   ]
  },
  {
   "cell_type": "code",
   "execution_count": null,
   "id": "2ae5f031",
   "metadata": {},
   "outputs": [],
   "source": [
    "# 원본 데이터 후 transform_features 함수 호출하여 전처리 \n",
    "titanic_df = pd.read_csv('./train.csv')\n",
    "\n",
    "y_titanic_df = titanic_df['Survived']\n",
    "X_titanic_df = titanic_df.drop('Survived', axis=1)\n",
    "\n",
    "X_titanic_df = transform_features(X_titanic_df)\n",
    "X_titanic_df.head()"
   ]
  },
  {
   "cell_type": "markdown",
   "id": "79c638fc",
   "metadata": {},
   "source": [
    "## 모델 생성"
   ]
  },
  {
   "cell_type": "code",
   "execution_count": null,
   "id": "6cc1f82c",
   "metadata": {},
   "outputs": [],
   "source": [
    "from sklearn.model_selection import train_test_split\n",
    "\n",
    "X_train, X_test, y_train, y_test = train_test_split(X_titanic_df, y_titanic_df, test_size=0.2, random_state=11)"
   ]
  },
  {
   "cell_type": "code",
   "execution_count": null,
   "id": "8ded1ffe",
   "metadata": {},
   "outputs": [],
   "source": [
    "from sklearn.tree import DecisionTreeClassifier\n",
    "from sklearn.ensemble import RandomForestClassifier\n",
    "from sklearn.linear_model import LogisticRegression\n",
    "from sklearn.metrics import accuracy_score\n",
    "\n",
    "# 3개의 분류 모델을 사용하여 학습\n",
    "dt_clf = DecisionTreeClassifier(random_state=11)\n",
    "rf_clf = RandomForestClassifier(random_state=11)\n",
    "lr_clf = LogisticRegression(max_iter=300)\n",
    "\n",
    "# 결정 트리\n",
    "dt_clf.fit(X_train, y_train)\n",
    "dt_pred = dt_clf.predict(X_test)\n",
    "print('DecisionTreeClassfies 정확도 : {0:.4f}'.format(accuracy_score(y_test,dt_pred)))\n",
    "\n",
    "# 랜덤 포레스트\n",
    "rf_clf.fit(X_train, y_train)\n",
    "rf_pred = rf_clf.predict(X_test)\n",
    "print('DecisionTreeClassfies 정확도 : {0:.4f}'.format(accuracy_score(y_test,rf_pred)))\n",
    "\n",
    "# 로지스틱 리그레션\n",
    "lr_clf.fit(X_train, y_train)\n",
    "lr_pred = lr_clf.predict(X_test)\n",
    "print('DecisionTreeClassfies 정확도 : {0:.4f}'.format(accuracy_score(y_test,lr_pred)))"
   ]
  },
  {
   "cell_type": "code",
   "execution_count": null,
   "id": "8b386aa3",
   "metadata": {},
   "outputs": [],
   "source": [
    "from sklearn.model_selection import KFold\n",
    "\n",
    "# k-Fold 교차 검증 함수\n",
    "def exec_kfold(clf, folds=5):\n",
    "    kfold = KFold(n_splits=folds)\n",
    "    scores = []\n",
    "    \n",
    "    for iter_count , (train_index, test_index) in enumerate(kfold.split(X_titanic_df)):\n",
    "        X_train, X_test = X_titanic_df.values[train_index], X_titanic_df.values[test_index]\n",
    "        y_train, y_test = y_titanic_df.values[train_index], y_titanic_df.values[test_index]\n",
    "        \n",
    "        clf.fit(X_train, y_train) \n",
    "        predictions = clf.predict(X_test)\n",
    "        accuracy = accuracy_score(y_test, predictions)\n",
    "        scores.append(accuracy)\n",
    "        print(\"교차 검증 {0} 정확도: {1:.4f}\".format(iter_count, accuracy))     \n",
    "    \n",
    "    mean_score = np.mean(scores)\n",
    "    print(\"평균 정확도: {0:.4f}\".format(mean_score)) \n",
    "\n",
    "exec_kfold(dt_clf , folds=5) "
   ]
  },
  {
   "cell_type": "code",
   "execution_count": null,
   "id": "4bd08eef",
   "metadata": {},
   "outputs": [],
   "source": [
    "from sklearn.model_selection import cross_val_score\n",
    "\n",
    "# cross_val_score 사용하여 교차 검증 수행\n",
    "cv = cross_val_score(dt_clf, X_titanic_df, y_titanic_df, cv = 5)\n",
    "cv"
   ]
  },
  {
   "cell_type": "code",
   "execution_count": null,
   "id": "c0965d2a",
   "metadata": {},
   "outputs": [],
   "source": [
    "from sklearn.model_selection import GridSearchCV\n",
    "\n",
    "parameters = {'max_depth':[2,3,5,10],\n",
    "             'min_samples_split':[2,3,5], 'min_samples_leaf':[1,5,8]}\n",
    "\n",
    "# GridSearchCV 활용한 모델 학습\n",
    "grid_dclf = GridSearchCV(dt_clf, param_grid=parameters, scoring='accuracy', cv=5)\n",
    "grid_dclf.fit(X_train, y_train)\n",
    "\n",
    "print('best_params_:', grid_dclf.best_params_)\n",
    "print('best_score_:', grid_dclf.best_score_)\n",
    "\n",
    "best_dclf = grid_dclf.best_estimator_\n",
    "pred = best_dclf.predict(X_test)\n",
    "print('accuracy:', accuracy_score(y_test, pred))\n"
   ]
  }
 ],
 "metadata": {},
 "nbformat": 4,
 "nbformat_minor": 5
}
