{
 "cells": [
  {
   "cell_type": "code",
   "execution_count": null,
   "id": "fd7a47fc",
   "metadata": {},
   "outputs": [],
   "source": [
    "import numpy as np"
   ]
  },
  {
   "cell_type": "code",
   "execution_count": null,
   "id": "eddb8ce2",
   "metadata": {},
   "outputs": [],
   "source": [
    "import matplotlib.pyplot as plt\n",
    "import matplotlib.colors as mcolors\n",
    "\n",
    "plt.style.use('fivethirtyeight')\n",
    "\n",
    "plt.rcParams['font.family'] = 'sans-serif'\n",
    "plt.rcParams['font.serif'] = 'Ubuntu'\n",
    "plt.rcParams['font.monospace'] = 'Ubuntu Mono'\n",
    "plt.rcParams['font.size'] = 10\n",
    "plt.rcParams['axes.labelsize'] = 10\n",
    "plt.rcParams['axes.labelweight'] = 'bold'\n",
    "plt.rcParams['axes.titlesize'] = 10\n",
    "plt.rcParams['xtick.labelsize'] = 8\n",
    "plt.rcParams['ytick.labelsize'] = 8\n",
    "plt.rcParams['legend.fontsize'] = 10\n",
    "plt.rcParams['figure.titlesize'] = 12\n",
    "plt.rcParams['image.cmap'] = 'jet'\n",
    "plt.rcParams['image.interpolation'] = 'none'\n",
    "plt.rcParams['figure.figsize'] = (16, 8)\n",
    "plt.rcParams['lines.linewidth'] = 2\n",
    "plt.rcParams['lines.markersize'] = 8\n",
    "\n",
    "colors = ['#008fd5', '#fc4f30', '#e5ae38', '#6d904f', '#8b8b8b', '#810f7c', '#137e6d', '#be0119', '#3b638c', '#af6f09']\n",
    "\n",
    "cmap = mcolors.LinearSegmentedColormap.from_list(\"\", [\"#82cafc\", \"#069af3\", \"#0485d1\", colors[0], colors[8]])"
   ]
  },
  {
   "cell_type": "code",
   "execution_count": null,
   "id": "470d74a1",
   "metadata": {},
   "outputs": [],
   "source": [
    "def local_regression(x, X, t, tau):\n",
    "    x_ext = np.r_[1, x]\n",
    "    w = local_regression_coeffs(x, X, t, tau)\n",
    "    return x_ext @ w"
   ]
  },
  {
   "cell_type": "code",
   "execution_count": null,
   "id": "470525bb",
   "metadata": {},
   "outputs": [],
   "source": [
    "def local_regression_coeffs(x, X, t, tau):\n",
    "    psi = diag_kernel(x, X, tau)\n",
    "    X_ext = np.c_[np.ones(len(X)), X]\n",
    "    return np.linalg.pinv((X_ext.T @ psi) @ X_ext) @ X_ext.T @ psi @ t"
   ]
  },
  {
   "cell_type": "markdown",
   "id": "486997e5",
   "metadata": {},
   "source": [
    "Funzione kernel"
   ]
  },
  {
   "cell_type": "code",
   "execution_count": null,
   "id": "5ae7f861",
   "metadata": {},
   "outputs": [],
   "source": [
    "def kernel(x,xi,tau):\n",
    "    return np.exp(np.sum((xi - x) ** 2, axis=1) / (-2 * tau * tau))"
   ]
  },
  {
   "cell_type": "markdown",
   "id": "049be034",
   "metadata": {},
   "source": [
    "Funzione che restituisce la matrice diagonale $\\Psi$ dei valori kernel tra $x$ e tutti gli elementi nel training set"
   ]
  },
  {
   "cell_type": "code",
   "execution_count": null,
   "id": "b963cf79",
   "metadata": {},
   "outputs": [],
   "source": [
    "def diag_kernel(x, X, tau):\n",
    "    return np.diag(kernel(X,x,tau))"
   ]
  },
  {
   "cell_type": "markdown",
   "id": "bf8c14b9",
   "metadata": {},
   "source": [
    "Genera dataset secondo la funzione $\\log(|x^2-1|+.5)$ con rumore additivo gaussiano"
   ]
  },
  {
   "cell_type": "code",
   "execution_count": null,
   "id": "3b7559ca",
   "metadata": {},
   "outputs": [],
   "source": [
    "n = 1000\n",
    "X = np.linspace(-3, 3, num=n)\n",
    "t = np.log(np.abs(X ** 2 - 1) + .5)\n",
    "\n",
    "X += np.random.normal(scale=.1, size=n)\n",
    "X = X.reshape(-1,1)"
   ]
  },
  {
   "cell_type": "markdown",
   "id": "f73894b3",
   "metadata": {},
   "source": [
    "Fissa valore della varianza del kernel"
   ]
  },
  {
   "cell_type": "code",
   "execution_count": null,
   "id": "393a680f",
   "metadata": {},
   "outputs": [],
   "source": [
    "tau = .05"
   ]
  },
  {
   "cell_type": "markdown",
   "id": "e241d34a",
   "metadata": {},
   "source": [
    "Regressione in un punto $x$"
   ]
  },
  {
   "cell_type": "code",
   "execution_count": null,
   "id": "0a077847",
   "metadata": {},
   "outputs": [],
   "source": [
    "x = -0.03\n",
    "\n",
    "# calcola matrice kernel\n",
    "psi = diag_kernel(np.array([x]).reshape(-1,1),X,tau)\n",
    "domain = np.linspace(-3, 3, num=300)"
   ]
  },
  {
   "cell_type": "markdown",
   "id": "db0efa3f",
   "metadata": {},
   "source": [
    "Visualizza valori del kernel"
   ]
  },
  {
   "cell_type": "code",
   "execution_count": null,
   "id": "65c21079",
   "metadata": {},
   "outputs": [],
   "source": [
    "f = plt.figure(figsize=(16,4))\n",
    "plt.title('$x={0:5.3f}$'.format(x))\n",
    "plt.plot(domain, kernel(x,domain.reshape(-1,1),tau), c=colors[0])\n",
    "plt.show()"
   ]
  },
  {
   "cell_type": "markdown",
   "id": "8e5ef7c3",
   "metadata": {},
   "source": [
    "Calcola i coefficienti della regressione locale a $x$"
   ]
  },
  {
   "cell_type": "code",
   "execution_count": null,
   "id": "97d514a8",
   "metadata": {},
   "outputs": [],
   "source": [
    "y = local_regression(x, X, t, tau)\n",
    "w = local_regression_coeffs(x, X, t, tau)"
   ]
  },
  {
   "cell_type": "markdown",
   "id": "991420e3",
   "metadata": {},
   "source": [
    "Plot retta di regressione a $x$"
   ]
  },
  {
   "cell_type": "code",
   "execution_count": null,
   "id": "baccd330",
   "metadata": {},
   "outputs": [],
   "source": [
    "f = plt.figure(figsize=(16,8))\n",
    "plt.title('$x={0:5.3f}$'.format(x))\n",
    "plt.scatter(X, t, c= colors[0], alpha=.5)\n",
    "plt.plot([x], [y], marker='o', color=colors[7], alpha=.5)\n",
    "plt.plot(domain, np.c_[np.ones(len(domain)), domain] @ w, color=colors[1])\n",
    "plt.show()"
   ]
  },
  {
   "cell_type": "markdown",
   "id": "0d220a31",
   "metadata": {},
   "source": [
    "Calcola predizioni su tutti i punti considerati"
   ]
  },
  {
   "cell_type": "code",
   "execution_count": null,
   "id": "cce34679",
   "metadata": {},
   "outputs": [],
   "source": [
    "prediction = [local_regression(x, X, t, tau) for x in domain]"
   ]
  },
  {
   "cell_type": "markdown",
   "id": "09bad750",
   "metadata": {},
   "source": [
    "Visualizza valori predetti"
   ]
  },
  {
   "cell_type": "code",
   "execution_count": null,
   "id": "03de855f",
   "metadata": {},
   "outputs": [],
   "source": [
    "f = plt.figure(figsize=(16,8))\n",
    "plt.title('tau=%g' % tau)\n",
    "plt.scatter(X, t, c= colors[0], alpha=.5)\n",
    "plt.plot(domain, prediction, lw=2, c=colors[1])\n",
    "plt.show()"
   ]
  }
 ],
 "metadata": {},
 "nbformat": 4,
 "nbformat_minor": 5
}
