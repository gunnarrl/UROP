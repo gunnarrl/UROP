{
 "cells": [
  {
   "cell_type": "markdown",
   "id": "891c4486",
   "metadata": {},
   "source": [
    "# Analiza podatkov pri programiranju 1: Najbolj popularni animeji\n",
    "\n",
    "**Predpriprava**\n",
    "\n",
    "Naložimo knjižnico pandas ter razpredelnico s podatki."
   ]
  },
  {
   "cell_type": "code",
   "execution_count": null,
   "id": "f1c1f00d",
   "metadata": {},
   "outputs": [],
   "source": [
    "# naložimo knjižnice\n",
    "import numpy as np \n",
    "import pandas as pd\n",
    "import os\n",
    "\n",
    "# naložimo razpredelnico, s katero bomo delali\n",
    "anime = pd.read_csv('anime/anime.csv')\n",
    "\n",
    "# izberemo interaktivni \"notebook\" stil risanja\n",
    "%matplotlib inline\n"
   ]
  },
  {
   "cell_type": "code",
   "execution_count": null,
   "id": "bb1de854",
   "metadata": {},
   "outputs": [],
   "source": [
    "# vidimo, v kateri mapi se trenutno nahajamo -> specificiramo pot, kjer naj pd isce .csv datoteko\n",
    "os.getcwd()"
   ]
  },
  {
   "cell_type": "code",
   "execution_count": null,
   "id": "00eff954",
   "metadata": {},
   "outputs": [],
   "source": [
    "anime"
   ]
  },
  {
   "cell_type": "markdown",
   "id": "c674b2fc",
   "metadata": {},
   "source": [
    "**Sledi proučevanje podatkov**"
   ]
  },
  {
   "cell_type": "code",
   "execution_count": null,
   "id": "3f5319cf",
   "metadata": {},
   "outputs": [],
   "source": [
    "# poglejmo najprej povprečno oceno animejev, da vidimo, kakšno filtriranje glede na ocene je najbolj smiselno\n",
    "# najprej izoliramo stolpec ocen\n",
    "anime_ocene = anime['ocena'] \n",
    "#nato izračunamo povprečno vrednost\n",
    "anime_ocene.mean()"
   ]
  },
  {
   "cell_type": "code",
   "execution_count": null,
   "id": "aa4fdf20",
   "metadata": {},
   "outputs": [],
   "source": [
    "# naravno se zdi, da animeje grupiramo po (maturity) rating-u ter nato izračunamo povprečno oceno po posamezni skupini, da vidimo, če obstaja kakšna korelacija\n",
    "anime_group_by_rating = anime.groupby('rating')\n",
    "# pogledamo povprečje posamezne skupine za ocene in število epizod\n",
    "anime_group_by_rating.mean()"
   ]
  },
  {
   "cell_type": "markdown",
   "id": "1628fdc8",
   "metadata": {},
   "source": [
    "Ugotovimo, da maturity rating ne vpliva na oceno, kar lahko interetiramo kot da tako mladi kot stari ljudje uživajo v gledanju animejev."
   ]
  },
  {
   "cell_type": "code",
   "execution_count": null,
   "id": "a86d41e1",
   "metadata": {},
   "outputs": [],
   "source": [
    "# zanima nas, ali obstaja korelacija med oceno in številom epizod\n",
    "# prepostavljamo, da imajo bolj popularni animeji večje število epizod\n",
    "# pogrupiramo jih po številu epizod\n",
    "anime.groupby('stevilo_epizod').size()"
   ]
  },
  {
   "cell_type": "code",
   "execution_count": null,
   "id": "0b446230",
   "metadata": {},
   "outputs": [],
   "source": [
    "# izračunamo povprečno oceno posamezne skupine animejev, glede na število epizod\n",
    "anime.groupby('stevilo_epizod').mean()"
   ]
  },
  {
   "cell_type": "markdown",
   "id": "c8b98e35",
   "metadata": {},
   "source": [
    "Razen animeja s 500 epizodami lahko rečemo, da število epizod ne vpliva na gledanost oz. oceno. Očitno imajo gledalci zelo raznolike preference in za vsakogar se najde nekaj, kar mu odgovarja."
   ]
  },
  {
   "cell_type": "code",
   "execution_count": null,
   "id": "6fc9634c",
   "metadata": {},
   "outputs": [],
   "source": [
    "# poglejmo število animejev glede na vrsto/zvrst (type)\n",
    "# previdevamo, da je TV najbolj popularen tip\n",
    "anime_group_by_type = anime.groupby('type')\n",
    "anime_group_by_type.size()"
   ]
  },
  {
   "cell_type": "code",
   "execution_count": null,
   "id": "b8502624",
   "metadata": {},
   "outputs": [],
   "source": [
    "# zanima nas, ali obstaja kakšna povezava med tem, kakšne vrste je anime in tem, kakšno oceno ima\n",
    "anime_group_by_type['ocena'].mean()\n",
    "\n",
    "# presenetljiva ugotovitev je, da se povprečna ocena glede na tip ne razlikuje"
   ]
  },
  {
   "cell_type": "code",
   "execution_count": null,
   "id": "1257e87d",
   "metadata": {},
   "outputs": [],
   "source": [
    "# zanima nas, kateri animeji so zelo nadpovprečni oz podpovprečni ter koliko jih je\n",
    "podvoprecni = anime['ocena'] < 7.5\n",
    "nadpovprecni = anime['ocena'] > 9\n",
    "anime[podvoprecni | nadpovprecni]"
   ]
  },
  {
   "cell_type": "code",
   "execution_count": null,
   "id": "15066e39",
   "metadata": {},
   "outputs": [],
   "source": [
    "# sedaj jih še preštejemo\n",
    "anime.groupby(anime.ocena < 7.5).size()"
   ]
  },
  {
   "cell_type": "code",
   "execution_count": null,
   "id": "6c56fc44",
   "metadata": {},
   "outputs": [],
   "source": [
    "anime.groupby(anime.ocena > 9).size()"
   ]
  },
  {
   "cell_type": "markdown",
   "id": "ef279f7f",
   "metadata": {},
   "source": [
    "Kot zanimivost izračunamo povprečno število besed v naslovih."
   ]
  },
  {
   "cell_type": "code",
   "execution_count": null,
   "id": "ef487f34",
   "metadata": {},
   "outputs": [],
   "source": [
    "def povprecno_st_besed(x):\n",
    "    words = x.split()\n",
    "    return len(words) \n",
    "\n",
    "counter = 0\n",
    "st_animejev = 0\n",
    "for naslov in anime['naslov']:\n",
    "    counter += povprecno_st_besed(naslov)\n",
    "    st_animejev += 1\n",
    "print(counter / st_animejev)"
   ]
  },
  {
   "cell_type": "markdown",
   "id": "d65ea13a",
   "metadata": {},
   "source": [
    "Zanima nas, ali obstaja \"zlata doba\" animejev, t.j. leto, v katerem je bilo ustvarjenih največ animejev.\n",
    "\n",
    "Najprej naredimo pomožni funkciji, ki iz stolpcev \"start_date\" in \"end_date\" pidobita samo leto začetka in konca predvajanja. Le-ta podatka bomo uporabili za nadaljno analizo."
   ]
  },
  {
   "cell_type": "code",
   "execution_count": null,
   "id": "bbf9ba29",
   "metadata": {},
   "outputs": [],
   "source": [
    "letnice_zacetka = []\n",
    "letnice_konca = []\n",
    "\n",
    "\n",
    "for i,j in anime['start_date'].iteritems():\n",
    "    leto = anime['start_date'][i].split(\"-\")[-1]\n",
    "    if leto == \"\":\n",
    "        leto = 0 #za animeje, pri katerih nimamo podatka o začetnem letu predvajanja, le-to vrednost nastavimo na 0\n",
    "    else:\n",
    "        leto = int(leto)\n",
    "\n",
    "        if leto > 20:\n",
    "\t        leto += 1900\n",
    "        else:\n",
    "            leto += 2000\n",
    "    letnice_zacetka.append(leto)\n",
    "\n",
    "\n",
    "for i,j in anime['end_date'].iteritems():\n",
    "    leto = anime['end_date'][i].split(\"-\")[-1]\n",
    "    if leto == \"\":\n",
    "        leto = 0\n",
    "    else:\n",
    "        leto = int(leto)\n",
    "        if leto > 20:\n",
    "            leto += 1900\n",
    "        else:\n",
    "            leto += 2000\n",
    "    letnice_konca.append(leto)\n",
    "\n",
    "#    #letnice_zacetka.append(anime['start_date'][i].split(\"-\")[-1])\n",
    "#    #letnice_konca.append(anime['end_date'][i].split(\"-\")[-1])\n",
    "\n",
    "anime['start_year'] = letnice_zacetka\n",
    "anime['end_year'] = letnice_konca\n"
   ]
  },
  {
   "cell_type": "code",
   "execution_count": null,
   "id": "145755e6",
   "metadata": {},
   "outputs": [],
   "source": [
    "# pogrupiramo animeje po letih začetka predvajanja\n",
    "anime_by_start_year = anime.groupby('start_year')\n",
    "\n",
    "#preštejemo njihovo število\n",
    "anime_by_start_year.size()"
   ]
  },
  {
   "cell_type": "code",
   "execution_count": null,
   "id": "fa2d7e2e",
   "metadata": {},
   "outputs": [],
   "source": [
    "# pogrupiramo animeje po letih konca predvajanja\n",
    "anime_by_end_year = anime.groupby('end_year')\n",
    "\n",
    "#preštejemo njihovo število\n",
    "anime_by_end_year.size()"
   ]
  },
  {
   "cell_type": "markdown",
   "id": "9d1d95cb",
   "metadata": {},
   "source": [
    "Ugotovimo, da je največ animejv bilo postnetih v zadnjem desetletju. Špekuliramo, da se bo število samo povečevalo, saj so gledalci čedalje bolj zahtevni in imajo željo po novih"
   ]
  },
  {
   "cell_type": "markdown",
   "id": "4553307e",
   "metadata": {},
   "source": [
    "**Grafična predstavitev podatkov**\n",
    "\n",
    "Za lažjo grafično predstavo analiziranih podatkov narišemo grafe, ki predstavljajo naše ugotovitve.\n",
    "\n",
    "Uporabljamo predvsem stolpični diagram, saj želimo primerjati podatke po diskretnih (kategorničnih) spremenljivkah."
   ]
  },
  {
   "cell_type": "code",
   "execution_count": null,
   "id": "feccc8c7",
   "metadata": {},
   "outputs": [],
   "source": [
    "# narišemo graf, ki prikazuje število animejev za posamezen tip\n",
    "anime_group_by_type.size().plot.bar(x='tip', y='število animejev')"
   ]
  },
  {
   "cell_type": "markdown",
   "id": "e3af3205",
   "metadata": {},
   "source": [
    "Najbolj popularen tip je TV, najmanj pa glasbeni videi."
   ]
  },
  {
   "cell_type": "code",
   "execution_count": null,
   "id": "92ea6a68",
   "metadata": {},
   "outputs": [],
   "source": [
    "# narišemo graf, ki predtsavlja število animejev glede na maturity rating\n",
    "anime_group_by_rating.size().plot.bar(x='ocena', y='stevilo animejev')"
   ]
  },
  {
   "cell_type": "markdown",
   "id": "ca5ad00b",
   "metadata": {},
   "source": [
    "Ta graf nam jasno pokaže, da so ciljna publika večinoma najstniki med 13-15 let, ne preseneča nas pa tudi, da je hentai zelo popularna zvrst."
   ]
  },
  {
   "cell_type": "markdown",
   "id": "f1b295df",
   "metadata": {},
   "source": [
    "Zanima nas korelacija med oceno in številom glasov.\n",
    "\n",
    "Domnevamo, da so bili animeji z boljšo oceno večkrat ocenjeni.\n",
    "\n",
    "Predvidevamo, da ljudje ne radi dajejo slabih ocen, zato so animeji s slabšo oceno manjkrat ocenjeni."
   ]
  },
  {
   "cell_type": "code",
   "execution_count": null,
   "id": "b417f199",
   "metadata": {},
   "outputs": [],
   "source": [
    "# ker smo naleteli na problem, da so objekti števila glasov tipa str, mi pa želimo številski tip (int ali float), potakom spremenimo tip\n",
    "for i, j in anime['stevilo_glasov'].iteritems():\n",
    "    anime['stevilo_glasov'][i] = anime['stevilo_glasov'][i].replace(',', '')\n",
    "\n",
    "anime['stevilo_glasov'] = anime['stevilo_glasov'].apply(int)"
   ]
  },
  {
   "cell_type": "code",
   "execution_count": null,
   "id": "c7aa0c5a",
   "metadata": {},
   "outputs": [],
   "source": [
    "# narišemo razsevni diagram, ki prikazuje povezavo med oceno in številom glasov\n",
    "anime.plot.scatter('ocena', 'stevilo_glasov')\n"
   ]
  },
  {
   "cell_type": "code",
   "execution_count": null,
   "id": "402239db",
   "metadata": {},
   "outputs": [],
   "source": [
    "# grafično predstavimo posamezno število animejev, glede na začetno leto predvajanja \n",
    "anime_vecji = anime[anime.start_year > 1960]\n",
    "anime_vecji_zacetek = anime_vecji.groupby('start_year')\n",
    "anime_vecji_zacetek.size().plot()\n"
   ]
  }
 ],
 "metadata": {},
 "nbformat": 4,
 "nbformat_minor": 5
}
