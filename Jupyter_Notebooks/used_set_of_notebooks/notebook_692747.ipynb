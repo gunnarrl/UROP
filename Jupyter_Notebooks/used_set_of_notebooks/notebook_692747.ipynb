{
 "cells": [
  {
   "cell_type": "markdown",
   "id": "761475c4",
   "metadata": {},
   "source": [
    "# Python Basics\n",
    "\n",
    "This is a collection of exercises that I wrote as a refresher of key Python features.\n",
    "\n",
    "## Built-in datatypes and variable binding\n",
    "Python uses <a href=“http://stackoverflow.com/questions/11328920/is-python-strongly-typed”>dynamic typing</a>. This means that the type of data in a variable is not explicitly identified in a program, like it is in C++ or Java.\""
   ]
  },
  {
   "cell_type": "markdown",
   "id": "2b9f04b9",
   "metadata": {},
   "source": [
    "## ints and floats"
   ]
  },
  {
   "cell_type": "markdown",
   "id": "2c08f9e8",
   "metadata": {},
   "source": [
    "### boolean\n",
    "\n",
    "Python's boolean values are True and False. It is case-sensitive: capitalizing the first letter is required. "
   ]
  },
  {
   "cell_type": "markdown",
   "id": "f8dcf813",
   "metadata": {},
   "source": [
    "### Strings"
   ]
  },
  {
   "cell_type": "markdown",
   "id": "a4490115",
   "metadata": {},
   "source": [
    "### Lists and tuples"
   ]
  },
  {
   "cell_type": "code",
   "execution_count": null,
   "id": "e26c7d60",
   "metadata": {},
   "outputs": [],
   "source": [
    "#shortcut for list of consecutive integers\n",
    "\n",
    "#slices\n"
   ]
  },
  {
   "cell_type": "code",
   "execution_count": null,
   "id": "1c3c328a",
   "metadata": {},
   "outputs": [],
   "source": [
    "#List comprehension\n",
    "# create a list of squares for integers 0 to 9\n",
    "\n",
    "# create a list of tuples (x, x*x) for integers 0 to 9\n",
    "\n",
    "# create a list of tuples (x, x*x, x**3) for integers 0 to 9\n"
   ]
  },
  {
   "cell_type": "markdown",
   "id": "366c3809",
   "metadata": {},
   "source": [
    "## Looping (for, while, reduce)"
   ]
  },
  {
   "cell_type": "code",
   "execution_count": null,
   "id": "8a3fb940",
   "metadata": {},
   "outputs": [],
   "source": [
    "#for\n",
    "#sum integers from 1 to 100\n"
   ]
  },
  {
   "cell_type": "code",
   "execution_count": null,
   "id": "d3e4f9db",
   "metadata": {},
   "outputs": [],
   "source": [
    "#while\n",
    "#sum integers from 1 to 100\n",
    "\n"
   ]
  },
  {
   "cell_type": "code",
   "execution_count": null,
   "id": "40620e1e",
   "metadata": {},
   "outputs": [],
   "source": [
    "#concise way to sum integers from 1 to 100 using reduce\n",
    "\n",
    "import functools\n"
   ]
  },
  {
   "cell_type": "code",
   "execution_count": null,
   "id": "af7e2760",
   "metadata": {},
   "outputs": [],
   "source": [
    "#use the sum function\n"
   ]
  },
  {
   "cell_type": "code",
   "execution_count": null,
   "id": "b5bbe55b",
   "metadata": {},
   "outputs": [],
   "source": [
    "#preferred way to sum floating point (faster) using fsum\n"
   ]
  },
  {
   "cell_type": "markdown",
   "id": "e6656af5",
   "metadata": {},
   "source": [
    "### Conditional execution (if)\n"
   ]
  },
  {
   "cell_type": "code",
   "execution_count": null,
   "id": "47f75d5f",
   "metadata": {},
   "outputs": [],
   "source": [
    "#if\n"
   ]
  },
  {
   "cell_type": "markdown",
   "id": "7b53a2c1",
   "metadata": {},
   "source": [
    "### Dictionaries"
   ]
  },
  {
   "cell_type": "code",
   "execution_count": null,
   "id": "0c652ab3",
   "metadata": {},
   "outputs": [],
   "source": [
    "#distribution of characters in a string\n",
    "s = \"The quick brown fox jumps over the lazy dog.\"\n"
   ]
  },
  {
   "cell_type": "markdown",
   "id": "5885f567",
   "metadata": {},
   "source": [
    "## Functions"
   ]
  },
  {
   "cell_type": "code",
   "execution_count": null,
   "id": "081de3c4",
   "metadata": {},
   "outputs": [],
   "source": [
    "def factorial(n):\n",
    "    ...\n",
    "for n in range(0,5):\n",
    "    print(str(n) +\"! =\", factorial(n))"
   ]
  },
  {
   "cell_type": "code",
   "execution_count": null,
   "id": "6d66468c",
   "metadata": {},
   "outputs": [],
   "source": [
    "def gcd(a, b):\n",
    "    ...\n",
    "\n",
    "print(gcd(144, 256))"
   ]
  }
 ],
 "metadata": {},
 "nbformat": 4,
 "nbformat_minor": 5
}
