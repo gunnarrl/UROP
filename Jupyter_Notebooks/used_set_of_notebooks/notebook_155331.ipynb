{
 "cells": [
  {
   "cell_type": "markdown",
   "id": "532d8243",
   "metadata": {},
   "source": [
    "# SLU3 - Transforming data: Exercise notebook"
   ]
  },
  {
   "cell_type": "markdown",
   "id": "dd69cf4e",
   "metadata": {},
   "source": [
    "In this notebook you'll practice the following:\n",
    "\n",
    "    - Dropping rows and columns \n",
    "    - Inplace\n",
    "    - Copying dataframes\n",
    "    - Basic math operations with dataframes\n",
    "    - Group by (split/apply/combine)\n",
    "    - Concat\n",
    "    - Sorting the index\n",
    "    - Setting the index\n",
    "    - Resetting the index\n",
    "    - Sorting values"
   ]
  },
  {
   "cell_type": "code",
   "execution_count": null,
   "id": "a9ee29b3",
   "metadata": {},
   "outputs": [],
   "source": [
    "import pandas as pd"
   ]
  },
  {
   "cell_type": "code",
   "execution_count": null,
   "id": "2fe221ef",
   "metadata": {},
   "outputs": [],
   "source": [
    "# Data source: https://www.kaggle.com/nickhould/craft-cans/data\n",
    "# Import beers data\n",
    "beers = pd.read_csv('data/beers.csv', index_col=0)\n",
    "\n",
    "# Import breweries data\n",
    "breweries = pd.read_csv('data/breweries.csv', index_col=0)"
   ]
  },
  {
   "cell_type": "markdown",
   "id": "e335b2c1",
   "metadata": {},
   "source": [
    "## Exercise 1\n",
    "\n",
    "The first thing we'll practice is dropping rows in a DataFrame.\n",
    "But since we don't want this change to be permanent, we'll also practice copying DataFrames.\n",
    "\n",
    "So, start by creating a copy of the beers DataFrame and call it original_beers.\n",
    "\n",
    "Then, on beers DataFrame drop lines 3, 14, 15, 92 and 65.\n",
    "\n",
    "Finally, return the original_beers and beers DataFrames."
   ]
  },
  {
   "cell_type": "code",
   "execution_count": null,
   "id": "e20da03d",
   "metadata": {},
   "outputs": [],
   "source": [
    "def exercise_1(beers):\n",
    "    \"\"\" \n",
    "    Create a copy of the beers DataFrame called original_beers\n",
    "    Drop lines 3, 14, 15, 92 and 65 of beers\n",
    "    \n",
    "    Args:\n",
    "        beers (pd.DataFrame): the input DataFrame\n",
    "\n",
    "    Returns:\n",
    "        original_beers (pd.DataFrame): the original beers DataFrame\n",
    "        beers (pd.DataFrame): the transformed DataFrame\n",
    "\n",
    "    \"\"\"\n",
    "    \n",
    "    # create the original_beers DataFrame\n",
    "    # YOUR CODE HERE\n",
    "    raise NotImplementedError()\n",
    "    \n",
    "    # drop lines 3, 14, 15, 92 and 65 of beers\n",
    "    # YOUR CODE HERE\n",
    "    raise NotImplementedError()\n",
    "    \n",
    "    # return original_beers and beers\n",
    "    # YOUR CODE HERE\n",
    "    raise NotImplementedError()"
   ]
  },
  {
   "cell_type": "code",
   "execution_count": null,
   "id": "37999b79",
   "metadata": {},
   "outputs": [],
   "source": [
    "# This cell is what will test your code, please ignore it!"
   ]
  },
  {
   "cell_type": "markdown",
   "id": "8fde223b",
   "metadata": {},
   "source": [
    "## Exercise 2\n",
    "\n",
    "Drop column ibu. You can either do it inplace or not :)\n",
    "Then return the transformed DataFrame."
   ]
  },
  {
   "cell_type": "code",
   "execution_count": null,
   "id": "33a5584f",
   "metadata": {},
   "outputs": [],
   "source": [
    "def exercise_2(beers):\n",
    "    \"\"\" \n",
    "    Drop column ibu\n",
    "    \n",
    "    Args:\n",
    "        beers (pd.DataFrame): the input DataFrame\n",
    "\n",
    "    Returns:\n",
    "        beers (pd.DataFrame): the transformed DataFrame\n",
    "\n",
    "    \"\"\"\n",
    "    \n",
    "    # drop column ibu\n",
    "    # YOUR CODE HERE\n",
    "    raise NotImplementedError()\n",
    "    \n",
    "    # return the transformed DataFrame\n",
    "    # YOUR CODE HERE\n",
    "    raise NotImplementedError()"
   ]
  },
  {
   "cell_type": "code",
   "execution_count": null,
   "id": "b724f047",
   "metadata": {},
   "outputs": [],
   "source": [
    "# This cell is what will test your code, please ignore it!"
   ]
  },
  {
   "cell_type": "markdown",
   "id": "13669c95",
   "metadata": {},
   "source": [
    "## Exercise 3\n",
    "\n",
    "Set column brewery_id as index and sort it.\n",
    "Then return the resulting DataFrame."
   ]
  },
  {
   "cell_type": "code",
   "execution_count": null,
   "id": "0f87b5ee",
   "metadata": {},
   "outputs": [],
   "source": [
    "def exercise_3(beers):\n",
    "    \"\"\" \n",
    "    Set column brewery_id as index\n",
    "    Sort the index\n",
    "    \n",
    "    Args:\n",
    "        beers (pd.DataFrame): the input DataFrame\n",
    "\n",
    "    Returns:\n",
    "        beers (pd.DataFrame): the transformed DataFrame\n",
    "\n",
    "    \"\"\"\n",
    "    \n",
    "    # set brewery_id as index\n",
    "    # YOUR CODE HERE\n",
    "    raise NotImplementedError()\n",
    "    \n",
    "    # sort the index\n",
    "    # YOUR CODE HERE\n",
    "    raise NotImplementedError()\n",
    "    \n",
    "    # return the transformed DataFrame\n",
    "    # YOUR CODE HERE\n",
    "    raise NotImplementedError()"
   ]
  },
  {
   "cell_type": "code",
   "execution_count": null,
   "id": "963b90cc",
   "metadata": {},
   "outputs": [],
   "source": [
    "# This cell is what will test your code, please ignore it!"
   ]
  },
  {
   "cell_type": "markdown",
   "id": "192f168f",
   "metadata": {},
   "source": [
    "## Exercise 4\n",
    "\n",
    "Now, we want to concatenate the two DataFrames along the columns.\n",
    "\n",
    "On this question, you have to find the algorithm to determine the shape of the concatenation of beers and breweries DataFrames __without__ actually concatenating them!\n",
    "\n",
    "You should think of the concatenation function from Pandas, with default options.\n",
    "\n",
    "The return values should be a tupple like (number_of_rows, number_of_columns).\n",
    "\n",
    "Hint: the index doesn't count in the number of columns."
   ]
  },
  {
   "cell_type": "code",
   "execution_count": null,
   "id": "ddc669fd",
   "metadata": {},
   "outputs": [],
   "source": [
    "def exercise_4(beers, breweries):\n",
    "    \"\"\" \n",
    "    Define the formula to compute the shape of the concatenation of the beers and breweries DataFrames\n",
    "    \n",
    "    Args:\n",
    "        beers (pd.DataFrame): input DataFrame\n",
    "        breweries (pd.DataFrame): input DataFrame\n",
    "\n",
    "    Returns:\n",
    "        shape (tuple): the shape of the DataFrame that results from concatenating the two input DataFrames\n",
    "\n",
    "    \"\"\"\n",
    "    \n",
    "    # find the resulting number of rows \n",
    "    # rows = ...\n",
    "    # YOUR CODE HERE\n",
    "    raise NotImplementedError()\n",
    "    \n",
    "    # find the resulting number of columns \n",
    "    # columns = ...\n",
    "    # YOUR CODE HERE\n",
    "    raise NotImplementedError()\n",
    "    \n",
    "    # return a tuple with the shape\n",
    "    # YOUR CODE HERE\n",
    "    raise NotImplementedError()"
   ]
  },
  {
   "cell_type": "code",
   "execution_count": null,
   "id": "051c1b0d",
   "metadata": {},
   "outputs": [],
   "source": [
    "# This cell is what will test your code, please ignore it!"
   ]
  },
  {
   "cell_type": "markdown",
   "id": "ef726c7e",
   "metadata": {},
   "source": [
    "## Exercise 5\n",
    "\n",
    "Now let's concatenate the two DataFrames along the columns!\n",
    "\n",
    "The function should return the concatenation of the two DataFrames, and the shape of the resulting DataFrame."
   ]
  },
  {
   "cell_type": "code",
   "execution_count": null,
   "id": "3bc53f0b",
   "metadata": {},
   "outputs": [],
   "source": [
    "def exercise_5(beers, breweries):\n",
    "    \"\"\" \n",
    "    Concatenate the beers and breweries DataFrames\n",
    "    Get the shape of the resulting DataFrame\n",
    "    \n",
    "    Args:\n",
    "        beers (pd.DataFrame): input DataFrame\n",
    "        breweries (pd.DataFrame): input DataFrame\n",
    "\n",
    "    Returns:\n",
    "        df (pd.DataFrame): the result of concatenating beers and breweries\n",
    "        shape (tuple): the shape of df\n",
    "\n",
    "    \"\"\"\n",
    "\n",
    "    # YOUR CODE HERE\n",
    "    raise NotImplementedError()"
   ]
  },
  {
   "cell_type": "code",
   "execution_count": null,
   "id": "497f2632",
   "metadata": {},
   "outputs": [],
   "source": [
    "# This cell is what will test your code, please ignore it!"
   ]
  },
  {
   "cell_type": "markdown",
   "id": "14344a8a",
   "metadata": {},
   "source": [
    "## Exercise 6\n",
    "\n",
    "Reset the DataFrame index, and make sure that the current index is kept as a column in the DataFrame."
   ]
  },
  {
   "cell_type": "code",
   "execution_count": null,
   "id": "f1101cbc",
   "metadata": {},
   "outputs": [],
   "source": [
    "def exercise_6(df):\n",
    "    \"\"\" \n",
    "    Reset the DataFrame index\n",
    "    \n",
    "    Args:\n",
    "        df (pd.DataFrame): input DataFrame\n",
    "\n",
    "    Returns:\n",
    "        df (pd.DataFrame): transformed DataFrame\n",
    "\n",
    "    \"\"\"\n",
    "    \n",
    "    # Reset the DataFrame index\n",
    "    # df = ...\n",
    "    # YOUR CODE HERE\n",
    "    raise NotImplementedError()\n",
    "    \n",
    "    # NOT GRADED -> when we reset the index, the new column will be called index.\n",
    "    # This instruction renames that column brewery_id\n",
    "    df = df.rename(columns={'index': 'brewery_id'})\n",
    "    \n",
    "    # Return the transformed DataFrame\n",
    "    # YOUR CODE HERE\n",
    "    raise NotImplementedError()"
   ]
  },
  {
   "cell_type": "code",
   "execution_count": null,
   "id": "c0295f8e",
   "metadata": {},
   "outputs": [],
   "source": [
    "# This cell is what will test your code, please ignore it!"
   ]
  },
  {
   "cell_type": "markdown",
   "id": "25e6ee6d",
   "metadata": {},
   "source": [
    "## Exercise 7\n",
    "\n",
    "Add a column to the DataFrame called centilitres, which is the can size in cl.\n",
    "\n",
    "The formula to convert from ounces to centilitres is the following:\n",
    "```\n",
    "1 oz = 2.95735296 cl\n",
    "```"
   ]
  },
  {
   "cell_type": "code",
   "execution_count": null,
   "id": "1b86fcdf",
   "metadata": {},
   "outputs": [],
   "source": [
    "def exercise_7(df):\n",
    "    \"\"\" \n",
    "    Add a centilitres column to the DataFrame\n",
    "    \n",
    "    Args:\n",
    "        df (pd.DataFrame): input DataFrame\n",
    "\n",
    "    Returns:\n",
    "        df (pd.DataFrame): transformed DataFrame\n",
    "\n",
    "    \"\"\"\n",
    "    \n",
    "    # YOUR CODE HERE\n",
    "    raise NotImplementedError()"
   ]
  },
  {
   "cell_type": "code",
   "execution_count": null,
   "id": "beebd9be",
   "metadata": {},
   "outputs": [],
   "source": [
    "# This cell is what will test your code, please ignore it!"
   ]
  },
  {
   "cell_type": "markdown",
   "id": "8e25bde7",
   "metadata": {},
   "source": [
    "## Exercise 8\n",
    "\n",
    "Now let's find out the average abv in each beer style.\n",
    "Then, order the results from the most alcoholic to the least alcoholic and select only the top three rows."
   ]
  },
  {
   "cell_type": "code",
   "execution_count": null,
   "id": "8551af75",
   "metadata": {},
   "outputs": [],
   "source": [
    "def exercise_8(df):\n",
    "    \"\"\" \n",
    "    Compute the average abv per beer style\n",
    "    Order the results from the most alcoholic to the leat alcoholic style\n",
    "    Return the top three rows\n",
    "    \n",
    "    Args:\n",
    "        df (pd.DataFrame): input DataFrame\n",
    "\n",
    "    Returns:\n",
    "        df (pd.DataFrame): transformed DataFrame\n",
    "\n",
    "    \"\"\"\n",
    "    \n",
    "    # Compute the average abvs and order the resulting DataFrame\n",
    "    # df = ...\n",
    "    # YOUR CODE HERE\n",
    "    raise NotImplementedError()\n",
    "    \n",
    "    # Return the top three rows\n",
    "    # YOUR CODE HERE\n",
    "    raise NotImplementedError()"
   ]
  },
  {
   "cell_type": "code",
   "execution_count": null,
   "id": "c0e06ba4",
   "metadata": {},
   "outputs": [],
   "source": [
    "# This cell is what will test your code, please ignore it!"
   ]
  },
  {
   "cell_type": "markdown",
   "id": "66796222",
   "metadata": {},
   "source": [
    "## Exercise 9\n",
    "\n",
    "Some people really like beer, but don't want to drinking alcohol, so they prefer the least alcoholic beers.\n",
    "\n",
    "So, first, find the least alcoholic beer per brewery. And then find the five breweries that have the least alcoholic beers.\n",
    "\n",
    "The result should be a list with the brewery names."
   ]
  },
  {
   "cell_type": "code",
   "execution_count": null,
   "id": "3d8108d5",
   "metadata": {},
   "outputs": [],
   "source": [
    "def exercise_9(df):\n",
    "    \"\"\" \n",
    "    Get the least alcoholic beers per brewery\n",
    "    Return the top 5 brewery names\n",
    "    \n",
    "    Args:\n",
    "        df (pd.DataFrame): input DataFrame\n",
    "\n",
    "    Returns:\n",
    "        brewery_names (list): the top 5 least alcoholic breweries, name list\n",
    "\n",
    "    \"\"\"\n",
    "    \n",
    "    # Group the breweries, get the average abv per brewery and get the top 5 least alcoholic ones\n",
    "    # YOUR CODE HERE\n",
    "    raise NotImplementedError()\n",
    "    \n",
    "    # Return the brewery names\n",
    "    # YOUR CODE HERE\n",
    "    raise NotImplementedError()"
   ]
  },
  {
   "cell_type": "code",
   "execution_count": null,
   "id": "99ed2f9b",
   "metadata": {},
   "outputs": [],
   "source": [
    "# This cell is what will test your code, please ignore it!"
   ]
  },
  {
   "cell_type": "markdown",
   "id": "242e723c",
   "metadata": {},
   "source": [
    "## Exercise 10\n",
    "\n",
    "Find out the state which has produced more beers.\n",
    "Return the state code."
   ]
  },
  {
   "cell_type": "code",
   "execution_count": null,
   "id": "fcf6fda8",
   "metadata": {},
   "outputs": [],
   "source": [
    "def exercise_10(df):\n",
    "    \"\"\" \n",
    "    Get the state with more beers produced\n",
    "    Return the state code\n",
    "    \n",
    "    Args:\n",
    "        df (pd.DataFrame): input DataFrame\n",
    "\n",
    "    Returns:\n",
    "        state_code (string): the state code of the state which has produce more beers\n",
    "\n",
    "    \"\"\"\n",
    "\n",
    "    # YOUR CODE HERE\n",
    "    raise NotImplementedError()"
   ]
  },
  {
   "cell_type": "code",
   "execution_count": null,
   "id": "b6cfbb2c",
   "metadata": {},
   "outputs": [],
   "source": [
    "# This cell is what will test your code, please ignore it!"
   ]
  }
 ],
 "metadata": {},
 "nbformat": 4,
 "nbformat_minor": 5
}
