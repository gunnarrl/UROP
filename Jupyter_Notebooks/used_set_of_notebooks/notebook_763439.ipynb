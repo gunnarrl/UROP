{
 "cells": [
  {
   "cell_type": "markdown",
   "id": "66ef92c5",
   "metadata": {},
   "source": [
    "# Inference of Sine Wave"
   ]
  },
  {
   "cell_type": "code",
   "execution_count": null,
   "id": "4e0880b4",
   "metadata": {},
   "outputs": [],
   "source": [
    "import torch\n",
    "from torch import tensor\n",
    "import torch.nn as nn\n",
    "import torch.optim as optim\n",
    "from torch.autograd import Variable\n",
    "import torch.nn.functional as F\n",
    "\n",
    "import numpy as np\n",
    "import matplotlib.pyplot as plt"
   ]
  },
  {
   "cell_type": "markdown",
   "id": "5ef858f2",
   "metadata": {},
   "source": [
    "## Make Dataset"
   ]
  },
  {
   "cell_type": "code",
   "execution_count": null,
   "id": "dde2b2d8",
   "metadata": {},
   "outputs": [],
   "source": [
    "timeline = np.arange(0, 60, 0.1)\n",
    "y_np = (np.sin(timeline)).astype('f')\n",
    "x_np = (y_np[:500] + (np.random.rand(len(timeline[:500])) * 0.2)).astype('f')  # Add noise"
   ]
  },
  {
   "cell_type": "code",
   "execution_count": null,
   "id": "4ccf0734",
   "metadata": {},
   "outputs": [],
   "source": [
    "# input data\n",
    "plt.figure(figsize=(13, 7))\n",
    "plt.plot(timeline[0:100], x_np[0:100])\n",
    "\n",
    "plt.xlabel('x')\n",
    "plt.ylabel('y')\n",
    "plt.show()"
   ]
  },
  {
   "cell_type": "code",
   "execution_count": null,
   "id": "f4d975c5",
   "metadata": {},
   "outputs": [],
   "source": [
    "step_num = 100\n",
    "pred_num = 1\n",
    "X = []\n",
    "y = []\n",
    "for i in range(len(x_np) - step_num):\n",
    "    X.append(x_np[i:i+step_num])\n",
    "    y.append(y_np[i+step_num:i+step_num+pred_num])"
   ]
  },
  {
   "cell_type": "markdown",
   "id": "2e72d7ae",
   "metadata": {},
   "source": [
    "### Example\n",
    "index = 0  \n",
    "X(input): timestep 0~99  \n",
    "y(output): time 100\n",
    "\n",
    "index = 1  \n",
    "X(input): timestep 1~100  \n",
    "y(output): time 101  \n",
    "\n",
    "index = 2  \n",
    "...  \n",
    "index = 399  \n",
    "X(input): timestep 400~499  \n",
    "y(output): time 500"
   ]
  },
  {
   "cell_type": "code",
   "execution_count": null,
   "id": "49116a9c",
   "metadata": {},
   "outputs": [],
   "source": [
    "# Split DataSet and Make Batch\n",
    "from sklearn.model_selection import train_test_split\n",
    "(X_train, X_test, y_train, y_test) = train_test_split(\n",
    "    X, y, test_size=0.2, random_state=0)"
   ]
  },
  {
   "cell_type": "markdown",
   "id": "8d21c896",
   "metadata": {},
   "source": [
    "## Make The Model"
   ]
  },
  {
   "cell_type": "code",
   "execution_count": null,
   "id": "5f9a04e9",
   "metadata": {},
   "outputs": [],
   "source": [
    "class Model_lstm(nn.Module):\n",
    "    def __init__(self):\n",
    "        super().__init__()\n",
    "        input_size = 1\n",
    "        hidden_size = 5\n",
    "        in_features = 500\n",
    "        out_features = 1\n",
    "        layer1 = nn.LSTM(input_size=input_size, hidden_size=hidden_size, num_layers=1)\n",
    "        self.layers = nn.ModuleList([layer1])\n",
    "        fc1 = nn.Linear(in_features=in_features, out_features=out_features)\n",
    "        self.functions = nn.ModuleList([fc1])\n",
    "        \n",
    "    def forward(self,x):\n",
    "        x, c = self.layers[0](x) \n",
    "        x = F.relu(x)\n",
    "\n",
    "        T, N, D = x.size()\n",
    "        x = x.view(1, T*N*D)\n",
    "        x = self.functions[0](x)\n",
    "        \n",
    "        return x"
   ]
  },
  {
   "cell_type": "code",
   "execution_count": null,
   "id": "15ac92fa",
   "metadata": {},
   "outputs": [],
   "source": [
    "model_lstm = Model_lstm()\n",
    "\n",
    "criterion = nn.MSELoss()\n",
    "\n",
    "optimizer = optim.SGD(model_lstm.parameters(), lr=0.001, momentum=0.9)"
   ]
  },
  {
   "cell_type": "markdown",
   "id": "0313dd94",
   "metadata": {},
   "source": [
    "## Training"
   ]
  },
  {
   "cell_type": "code",
   "execution_count": null,
   "id": "805f688a",
   "metadata": {},
   "outputs": [],
   "source": [
    "epochs = 10\n",
    "\n",
    "for epoch in range(epochs):\n",
    "\n",
    "    total_loss = 0.0  # In 1-epoch\n",
    "\n",
    "    for X, y in zip(X_train, y_train):\n",
    "        inputs = torch.from_numpy(X).view(100, 1, 1)\n",
    "        label = torch.from_numpy(y)\n",
    "        inputs, label = Variable(inputs, requires_grad=True), Variable(label)\n",
    "        optimizer.zero_grad()\n",
    "        outputs = model_lstm(inputs)\n",
    "        loss = criterion(outputs.view(1, 1), label.view(1, 1))\n",
    "        loss.backward(retain_graph=True)\n",
    "        optimizer.step()\n",
    "        total_loss += loss.item()\n",
    "    print('[{0:3},'.format(epoch + 1) + '{0:3d}]'.format(epochs) + 'loss: %.5f' % (total_loss))\n",
    "    total_loss = 0.0\n",
    "\n",
    "print('Finished Training')"
   ]
  },
  {
   "cell_type": "code",
   "execution_count": null,
   "id": "2ecb2149",
   "metadata": {},
   "outputs": [],
   "source": [
    "#PATH = \"model_sin.pth\"\n",
    "#torch.save(model_lstm.state_dict(), PATH)  # Save model"
   ]
  },
  {
   "cell_type": "markdown",
   "id": "b9f1f8a8",
   "metadata": {},
   "source": [
    "## Inference of PyTorch"
   ]
  },
  {
   "cell_type": "code",
   "execution_count": null,
   "id": "77877c8e",
   "metadata": {},
   "outputs": [],
   "source": [
    "model_inf = model_lstm\n",
    "#model_inf.load_state_dict(torch.load(PATH))  # Load model\n",
    "model_inf.eval()"
   ]
  },
  {
   "cell_type": "code",
   "execution_count": null,
   "id": "97b30e09",
   "metadata": {},
   "outputs": [],
   "source": [
    "pred_size = len(y_np[500:600])\n",
    "pred = x_np[400:500].tolist()\n",
    "for i in range(pred_size):\n",
    "    inputs_pred = torch.tensor(pred).view(100, 1, 1)\n",
    "    output_pred = model_inf(inputs_pred)\n",
    "    pred.pop(0)\n",
    "    pred.append(output_pred.view(1).detach().tolist()[0])"
   ]
  },
  {
   "cell_type": "code",
   "execution_count": null,
   "id": "92efb59c",
   "metadata": {},
   "outputs": [],
   "source": [
    "timeline_pred = np.arange(500, 600, 1)\n",
    "timeline_act = np.arange(480, 600, 1)\n",
    "\n",
    "plt.figure(figsize=(12, 7))\n",
    "plt.plot(timeline_act, y_np[480:], label=\"actual\")\n",
    "plt.plot(timeline_pred, pred, label=\"predict PyTorch\")\n",
    "plt.legend(loc=\"lower right\", fontsize=\"15\")\n",
    "plt.xlabel('x')\n",
    "plt.ylabel('y')\n",
    "plt.show()"
   ]
  },
  {
   "cell_type": "markdown",
   "id": "c2ef715f",
   "metadata": {},
   "source": [
    "## Set parameters in C"
   ]
  },
  {
   "cell_type": "code",
   "execution_count": null,
   "id": "93395e7f",
   "metadata": {},
   "outputs": [],
   "source": [
    "from tool import get_model_data"
   ]
  },
  {
   "cell_type": "code",
   "execution_count": null,
   "id": "d023c20e",
   "metadata": {},
   "outputs": [],
   "source": [
    "model_data = get_model_data.GetDefinition(model=model_inf, input_x_row=100)"
   ]
  },
  {
   "cell_type": "code",
   "execution_count": null,
   "id": "8a9653dc",
   "metadata": {},
   "outputs": [],
   "source": [
    "flatten_len = model_data.macro_str\n",
    "params = model_data.variable_params_str\n",
    "size = model_data.variable_size_str"
   ]
  },
  {
   "cell_type": "code",
   "execution_count": null,
   "id": "58c9ffa0",
   "metadata": {},
   "outputs": [],
   "source": [
    "path = '../src/main.c'"
   ]
  },
  {
   "cell_type": "code",
   "execution_count": null,
   "id": "80c253cf",
   "metadata": {},
   "outputs": [],
   "source": [
    "def change_param_c(filename, after_flatten_len, after_params, after_size):\n",
    "    with open(filename) as test:\n",
    "        strings = test.read()\n",
    "    before_flatten_len = strings.split(\"// パラメーターの配列の長さの定義始まり\\n\")[-1].split(\"// パラメーターの配列の長さの定義終わり\\n\")[0]\n",
    "    before_size = strings.split(\"      // パラメーターのサイズの定義始まり\\n\")[-1].split(\"      // パラメーターのサイズの定義終わり\")[0]\n",
    "    before_params = strings.split(\"      // パラメーターの定義始まり\\n\")[-1].split(\"      // パラメーターの定義終わり\\n\")[0]\n",
    "    strings = strings.replace(before_flatten_len, after_flatten_len)\n",
    "    strings = strings.replace(before_size, after_size)\n",
    "    strings = strings.replace(before_params, after_params)\n",
    "    with open(filename, mode='w') as test:\n",
    "        test.write(strings)"
   ]
  },
  {
   "cell_type": "code",
   "execution_count": null,
   "id": "7993ac5c",
   "metadata": {},
   "outputs": [],
   "source": [
    "change_param_c(path, flatten_len, params, size)"
   ]
  },
  {
   "cell_type": "markdown",
   "id": "3008a5ce",
   "metadata": {},
   "source": [
    "## Get stdout of C"
   ]
  },
  {
   "cell_type": "code",
   "execution_count": null,
   "id": "8e9f2222",
   "metadata": {},
   "outputs": [],
   "source": [
    "import subprocess\n",
    "import os"
   ]
  },
  {
   "cell_type": "code",
   "execution_count": null,
   "id": "acc4092e",
   "metadata": {},
   "outputs": [],
   "source": [
    "try:\n",
    "    subprocess.check_output('make')  # Run make command\n",
    "    print('Success')\n",
    "except:\n",
    "    print('Error. You should ')"
   ]
  },
  {
   "cell_type": "code",
   "execution_count": null,
   "id": "6992f34a",
   "metadata": {},
   "outputs": [],
   "source": [
    "pred_stdout_c_lang = subprocess.Popen('../sample/lstm', stdout=subprocess.PIPE).communicate()[0]\n",
    "pred_c_lang = [float(i.replace(\"b'\", \"\").replace(\"'\", \"\")) for i in str(pred_stdout_c_lang[:-1]).split(\"\\\\n\")]"
   ]
  },
  {
   "cell_type": "code",
   "execution_count": null,
   "id": "efd732fc",
   "metadata": {},
   "outputs": [],
   "source": [
    "timeline_pred = np.arange(500, 600, 1)\n",
    "timeline_act = np.arange(480, 600, 1)\n",
    "\n",
    "plt.figure(figsize=(12, 7))\n",
    "plt.plot(timeline_act, y_np[480:], label=\"actual\")\n",
    "plt.plot(timeline_pred, pred, label=\"predict 'PyTorch'\")\n",
    "plt.plot(timeline_pred, pred_c_lang, label=\"predict 'C Language'\")\n",
    "plt.legend(loc=\"lower right\", fontsize=\"15\")\n",
    "plt.xlabel('x')\n",
    "plt.ylabel('y')\n",
    "plt.show()"
   ]
  },
  {
   "cell_type": "markdown",
   "id": "0ca6c0f9",
   "metadata": {},
   "source": [
    "This result show that inference of C Language is much the same as inference of PyTorch"
   ]
  },
  {
   "cell_type": "markdown",
   "id": "e2ed102e",
   "metadata": {},
   "source": [
    "---"
   ]
  },
  {
   "cell_type": "markdown",
   "id": "d7c27bf8",
   "metadata": {},
   "source": [
    "~~Sorry, we have not been able to set parameters of this model automatically yet.~~ (1/6/'19)  \n",
    "**We can set parameters of this model automatically. (1/18)**  \n",
    "In this jupyter notebook, you can run make command. (1/19)"
   ]
  }
 ],
 "metadata": {},
 "nbformat": 4,
 "nbformat_minor": 5
}
