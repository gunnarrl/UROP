{
 "cells": [
  {
   "cell_type": "code",
   "execution_count": null,
   "id": "b1aac8cd",
   "metadata": {},
   "outputs": [],
   "source": [
    "import os\n",
    "import re\n",
    "import sys\n",
    "import math\n",
    "import numpy as np\n",
    "import pandas as pd\n",
    "from scipy.stats import describe\n",
    "\n",
    "# Visualization\n",
    "import matplotlib.pyplot as plt\n",
    "import matplotlib.cm as cmap\n",
    "%matplotlib inline\n",
    "\n",
    "from wordcloud import WordCloud\n",
    "import networkx as nx"
   ]
  },
  {
   "cell_type": "code",
   "execution_count": null,
   "id": "1c8686d0",
   "metadata": {},
   "outputs": [],
   "source": [
    "# Data files\n",
    "\n",
    "# article_id, article_url\n",
    "SRC_ARTICLES = '../data/guardian-100000/articles-100000.csv'\n",
    "\n",
    "# author_id, comment_author\n",
    "SRC_AUTHORS = '../data/guardian-100000/authors-100000.csv'\n",
    "\n",
    "# article_id, author_id, comment_id, comment_text, parent_comment_id, timestamp, upvotes\n",
    "SRC_COMMENTS = '../data/guardian-100000/sorted_comments-100000.csv'\n",
    "\n",
    "OUTPUT_DIR = './intro-plots'"
   ]
  },
  {
   "cell_type": "code",
   "execution_count": null,
   "id": "80d3b17b",
   "metadata": {},
   "outputs": [],
   "source": [
    "articles_df = pd.read_csv(SRC_ARTICLES)\n",
    "authors_df = pd.read_csv(SRC_AUTHORS)\n",
    "comments_df = pd.read_csv(SRC_COMMENTS)"
   ]
  },
  {
   "cell_type": "markdown",
   "id": "5b2b600c",
   "metadata": {},
   "source": [
    "##### Utils functions"
   ]
  },
  {
   "cell_type": "code",
   "execution_count": null,
   "id": "e8b8b63b",
   "metadata": {},
   "outputs": [],
   "source": [
    "def adjacency_matrix(article_id):\n",
    "    # Collect data\n",
    "    article_comments = comments_df[comments_df['article_id'] == article_id]\n",
    "    edges = article_comments[['comment_id', 'parent_comment_id']]\n",
    "    text_lengths = list(article_comments['comment_text'].str.len())\n",
    "    having_parent_comment = list(article_comments['parent_comment_id'].str.isdigit() == True)\n",
    "    \n",
    "    # Transform edges into adjacency matrix\n",
    "    index_to_id_map = dict(enumerate(article_comments['comment_id']))\n",
    "    id_to_index_map = dict((y, x) for (x, y) in index_to_id_map.items())\n",
    "    \n",
    "    comment_amount = len(article_comments)\n",
    "    adj_matrix = np.zeros((comment_amount, comment_amount))\n",
    "    for index, (source, target) in edges.iterrows():\n",
    "        # If there is no parent comment don't create a graph connection\n",
    "        if not str(target).isdigit():\n",
    "            continue\n",
    "        # Do the same for invalid parent ids\n",
    "        if not target in id_to_index_map:\n",
    "            # e.g. there is not comment with id '14593723' at all.\n",
    "            continue\n",
    "        from_ = id_to_index_map[source]\n",
    "        to_ = id_to_index_map[target]\n",
    "        adj_matrix[from_, to_] = 1\n",
    "    return pd.DataFrame(adj_matrix), text_lengths, having_parent_comment\n",
    "\n",
    "def plot_relations_graph(article_id, adj_matrix, node_weights, nodes_is_start):\n",
    "    G = nx.from_pandas_adjacency(adj_matrix)\n",
    "    G.name = 'Comments relations'\n",
    "    pos=nx.spring_layout(G, scale=10)\n",
    "    \n",
    "    # Output stats and visualization\n",
    "    with open(os.path.join(OUTPUT_DIR, 'comment_relations_{}.stats'.format(article_id)), 'w') as f:\n",
    "        f.write(nx.info(G))\n",
    "        print(nx.info(G))\n",
    "        f.write('\\nDescribe text length:\\nObservations={}\\nMin-Max={}\\nMean={}\\nVar={}\\nSkewness={}\\nKurtosis={}'.format(*describe(node_weights)))\n",
    "        print('\\nDescribe text length:\\nObservations={}\\nMin-Max={}\\nMean={}\\nVar={}\\nSkewness={}\\nKurtosis={}'.format(*describe(node_weights)))\n",
    "    # Adjust node sizes determining on the comments text length\n",
    "    plt.figure(figsize=(12,12))\n",
    "    nx.draw(G, pos, node_size=[x**0.7 for x in node_weights], node_color=nodes_is_start)\n",
    "    plt.savefig(os.path.join(OUTPUT_DIR, 'comment_relations_{}.pdf'.format(article_id)))\n",
    "\n",
    "def analyse_relations(article_id):\n",
    "    adj_matrix, node_weights, nodes_is_start = adjacency_matrix(article_id)\n",
    "    plot_relations_graph(article_id, adj_matrix, node_weights, nodes_is_start)"
   ]
  },
  {
   "cell_type": "markdown",
   "id": "7625acde",
   "metadata": {},
   "source": [
    "##### Amount of comments in articles"
   ]
  },
  {
   "cell_type": "code",
   "execution_count": null,
   "id": "937c2330",
   "metadata": {},
   "outputs": [],
   "source": [
    "comments_by_articles = comments_df.groupby('article_id').describe()\n",
    "articles_comments = comments_by_articles['author_id', 'count']\n",
    "# top 5 most popular articles\n",
    "articles_comments.sort_values(0, ascending=False).head(5)"
   ]
  },
  {
   "cell_type": "markdown",
   "id": "1c3ae61d",
   "metadata": {},
   "source": [
    "##### Amount of comments per author"
   ]
  },
  {
   "cell_type": "code",
   "execution_count": null,
   "id": "fce7bc7d",
   "metadata": {},
   "outputs": [],
   "source": [
    "comments_by_authors = comments_df.groupby('author_id').describe()\n",
    "authors_comments = comments_by_authors['article_id', 'count']\n",
    "# top 5 most active comment authors\n",
    "authors_comments.sort_values(0, ascending=False).head(5)"
   ]
  },
  {
   "cell_type": "markdown",
   "id": "826df580",
   "metadata": {},
   "source": [
    "##### Looking for specific comments based on content"
   ]
  },
  {
   "cell_type": "code",
   "execution_count": null,
   "id": "0d6b2919",
   "metadata": {},
   "outputs": [],
   "source": [
    "short_comments = comments_df[comments_df['comment_text'].str.len() < 200]\n",
    "short_comments[short_comments['comment_text'].str.contains('Merkel')][['article_id', 'author_id', 'comment_text', 'upvotes']]"
   ]
  },
  {
   "cell_type": "markdown",
   "id": "231aaf43",
   "metadata": {},
   "source": [
    "##### Word Cloud - comment text"
   ]
  },
  {
   "cell_type": "code",
   "execution_count": null,
   "id": "c638c892",
   "metadata": {},
   "outputs": [],
   "source": [
    "wordcloud = WordCloud().generate(' '.join(comments_df['comment_text'].tail(1000)))\n",
    "plt.imshow(wordcloud)"
   ]
  },
  {
   "cell_type": "markdown",
   "id": "ffe7eadf",
   "metadata": {},
   "source": [
    "##### Word Cloud - author names"
   ]
  },
  {
   "cell_type": "code",
   "execution_count": null,
   "id": "6eb73090",
   "metadata": {},
   "outputs": [],
   "source": [
    "# Replace all characters not matching letters and numbers with a whitespace\n",
    "authors_name_parts = re.sub(r'[^a-zA-Z0-9]', ' ', ' '.join(authors_df['comment_author']))\n",
    "wordcloud = WordCloud().generate(authors_name_parts)\n",
    "plt.imshow(wordcloud)"
   ]
  },
  {
   "cell_type": "markdown",
   "id": "74da1dcf",
   "metadata": {},
   "source": [
    "##### Analyse relations between comment"
   ]
  },
  {
   "cell_type": "code",
   "execution_count": null,
   "id": "b15c079c",
   "metadata": {},
   "outputs": [],
   "source": [
    "analyse_relations(1)"
   ]
  },
  {
   "cell_type": "code",
   "execution_count": null,
   "id": "e5889b41",
   "metadata": {},
   "outputs": [],
   "source": [
    "analyse_relations(10)"
   ]
  },
  {
   "cell_type": "code",
   "execution_count": null,
   "id": "8cd0051a",
   "metadata": {},
   "outputs": [],
   "source": [
    "analyse_relations(100)"
   ]
  },
  {
   "cell_type": "code",
   "execution_count": null,
   "id": "fc04bab9",
   "metadata": {},
   "outputs": [],
   "source": [
    "analyse_relations(1001)"
   ]
  },
  {
   "cell_type": "code",
   "execution_count": null,
   "id": "9f6dc8bb",
   "metadata": {},
   "outputs": [],
   "source": [
    "analyse_relations(1110)"
   ]
  },
  {
   "cell_type": "markdown",
   "id": "325b4f0f",
   "metadata": {},
   "source": [
    "##### Extract numeric features and get correlations"
   ]
  },
  {
   "cell_type": "code",
   "execution_count": null,
   "id": "589881c7",
   "metadata": {},
   "outputs": [],
   "source": [
    "# TODO:\n",
    "feature_names = ['text_length', 'full_responses', 'direct_responses', 'names_of_politicians', 'upvotes', 'authors_comments', 'popular_topics']  # popular_topic -> extract top words from its WordCloud\n",
    "comments_features = []\n",
    "\n",
    "# TODO: Visualize correlations"
   ]
  },
  {
   "cell_type": "code",
   "execution_count": null,
   "id": "7d9a61a6",
   "metadata": {},
   "outputs": [],
   "source": [
    "# TODO: Most common phrase\n",
    "# TODO: Cut last year? Which is the biggest timespan between date of article and comment\n",
    "# TODO: Writing comments vs. responding to comments\n",
    "# TODO: Toxic words\n",
    "# TODO: Comments per authors .values() plot"
   ]
  }
 ],
 "metadata": {},
 "nbformat": 4,
 "nbformat_minor": 5
}
