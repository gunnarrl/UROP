{
 "cells": [
  {
   "cell_type": "markdown",
   "id": "b8ab0a07",
   "metadata": {},
   "source": [
    "# Задание №3"
   ]
  },
  {
   "cell_type": "markdown",
   "id": "03155999",
   "metadata": {},
   "source": [
    "**Формулировка:**\n",
    "\n",
    "- Исследовать поведение итерационной последовательности при решении уравнения $z^3 - 1 = 0$ в комплексной плоскости методом Ньютона. В качестве начального приближения использовать точки, находящиеся в квадрате $-2 <= Re(z) <=2, -2 <= Im(z) <=2 $ с разрешением, соответствующим одному пикселу на экране компьютера. \n",
    "\n",
    "- В зависимости от того, к какому из трех корней уравнения сойдется итерационная последовательность, присвоить начальной точке один из трех выбранных цветов, если последовательность не сойдется, то присвоить начальной точке четвертый цвет. \n",
    "\n",
    "- Убедиться, что области притяжения трех корней уравнения (т.н. бассейны) имеют фрактальную границу. Нарисовать траектории сходимости для произвольно выбранных начальных приближений."
   ]
  },
  {
   "cell_type": "code",
   "execution_count": null,
   "id": "19be1f91",
   "metadata": {},
   "outputs": [],
   "source": [
    "import numpy as np\n",
    "import matplotlib.pyplot as plt"
   ]
  },
  {
   "cell_type": "markdown",
   "id": "1235750f",
   "metadata": {},
   "source": [
    "## Начальные данные №1"
   ]
  },
  {
   "cell_type": "code",
   "execution_count": null,
   "id": "091a41d3",
   "metadata": {},
   "outputs": [],
   "source": [
    "def f(z):\n",
    "    return z**3 - 1\n",
    "\n",
    "coeffs = [1, 0, 0, -1]\n",
    "\n",
    "def f_prime(z):\n",
    "    return 3*z**2"
   ]
  },
  {
   "cell_type": "code",
   "execution_count": null,
   "id": "c9f51768",
   "metadata": {},
   "outputs": [],
   "source": [
    "colors = ['xkcd:sunny yellow', \n",
    "          'xkcd:hot green', \n",
    "          'b', \n",
    "          'r']"
   ]
  },
  {
   "cell_type": "markdown",
   "id": "5f9bd198",
   "metadata": {},
   "source": [
    "## Начальные данные №2"
   ]
  },
  {
   "cell_type": "code",
   "execution_count": null,
   "id": "916ba1cf",
   "metadata": {},
   "outputs": [],
   "source": [
    "def f1(z):\n",
    "    return z**3 - 2*z + 2\n",
    "\n",
    "coeffs1 = [1, 0, -2, 2]\n",
    "\n",
    "def f1_prime(z):\n",
    "    return 3*z**2 - 2"
   ]
  },
  {
   "cell_type": "code",
   "execution_count": null,
   "id": "94ca2aa0",
   "metadata": {},
   "outputs": [],
   "source": [
    "colors1 = ['xkcd:bright light blue', \n",
    "           'xkcd:light lilac', \n",
    "           'xkcd:candy pink', \n",
    "           'xkcd:vivid blue']"
   ]
  },
  {
   "cell_type": "markdown",
   "id": "3668e341",
   "metadata": {},
   "source": [
    "## Начальные данные №3"
   ]
  },
  {
   "cell_type": "code",
   "execution_count": null,
   "id": "b31d3289",
   "metadata": {},
   "outputs": [],
   "source": [
    "def f2(z):\n",
    "    return z**6 + z**3 - 1\n",
    "\n",
    "coeffs2 = [1, 0, 0, 1, 0, 0, -1]\n",
    "\n",
    "def f2_prime(z):\n",
    "    return 5*z**5 + 3*z**2"
   ]
  },
  {
   "cell_type": "code",
   "execution_count": null,
   "id": "89d607b0",
   "metadata": {},
   "outputs": [],
   "source": [
    "colors2 = ['xkcd:bright blue', \n",
    "           'xkcd:bright purple', \n",
    "           'xkcd:yellowish orange', \n",
    "           'xkcd:pastel yellow', \n",
    "           'xkcd:bright pink', \n",
    "           'xkcd:aqua green', \n",
    "           'w']"
   ]
  },
  {
   "cell_type": "markdown",
   "id": "c3e41e50",
   "metadata": {},
   "source": [
    "## Решение"
   ]
  },
  {
   "cell_type": "code",
   "execution_count": null,
   "id": "75828525",
   "metadata": {},
   "outputs": [],
   "source": [
    "def find_root_by_newton(f, f_prime, appr, max_iter=100, eps=1e-14, tolerance=1e-10):\n",
    "    \"\"\"Iteratively finding root with Newton's method.\n",
    "    \n",
    "    Args: \n",
    "        f (function):           function that we find root of.\n",
    "        f_prime (function):     first derivative of f.\n",
    "        appr (float | complex): approximation to root of f.\n",
    "        max_iter (int):         max number of iterations.\n",
    "        eps (float):            minimal bound such that if\n",
    "                                f_prime < eps we finish \n",
    "                                algorithm.\n",
    "        tolerance (float):      value such that if difference\n",
    "                                between results less than\n",
    "                                tolerance, we finish.\n",
    "        \n",
    "    Returns: \n",
    "        is_found (bool):        exists a solution.\n",
    "        appr (float | complex): obtained approximation to root.\n",
    "        iterations (int):       at what iteration is found.\n",
    "    \"\"\"\n",
    "    iterations = 0\n",
    "    is_found = False\n",
    "    for i in range(max_iter):\n",
    "        y = f(appr)\n",
    "        y_prime = f_prime(appr)\n",
    "        \n",
    "        iterations += 1\n",
    "        \n",
    "        if(np.absolute(y_prime) < eps):\n",
    "            return (is_found, appr, iterations)\n",
    "        \n",
    "        old_appr = appr\n",
    "        appr = old_appr - y/y_prime\n",
    "        if(np.absolute(old_appr - appr) <= tolerance):\n",
    "            is_found = True\n",
    "            return (is_found, appr, iterations)\n",
    "    \n",
    "    return (is_found, appr, iterations)"
   ]
  },
  {
   "cell_type": "code",
   "execution_count": null,
   "id": "cb92d0a5",
   "metadata": {},
   "outputs": [],
   "source": [
    "def colorize(f, f_prime, coeffs, colors, appr, tolerance=1e-10):\n",
    "    \"\"\"Getting color of approximation according to colors of function roots.\n",
    "    \n",
    "    Args: \n",
    "        f (function):           function that we find root of.\n",
    "        f_prime (function):     first derivative of f.\n",
    "        coeffs (list<float>):   polynomial coefficients.\n",
    "        colors (list<string>):  colors for each root + color for bad approximation.\n",
    "        appr (float | complex): approximation to root.\n",
    "        tolerance (float):      value such that if difference\n",
    "                                between approximate value and root\n",
    "                                less than tolerance, return color.\n",
    "                                \n",
    "    Returns:\n",
    "        (string): color of appr.\n",
    "    \"\"\"\n",
    "    newton = find_root_by_newton(f, f_prime, appr)\n",
    "    roots = np.roots(coeffs)\n",
    "    if(newton[0]):\n",
    "        for i in range(len(roots)):\n",
    "            if(np.absolute(newton[1]-roots[i]) <= tolerance):\n",
    "                return colors[i]\n",
    "            \n",
    "    return colors[len(colors)-1]"
   ]
  },
  {
   "cell_type": "code",
   "execution_count": null,
   "id": "d48be68e",
   "metadata": {},
   "outputs": [],
   "source": [
    "def visualization(f, f_prime, coeffs, colors, re_min_bound=-2, \n",
    "                  re_max_bound=2, im_min_bound=-2, im_max_bound=2, point_num=200):\n",
    "    \"\"\"Visualizing Newton fractal for given function.\n",
    "    \n",
    "    Args:\n",
    "        f (function):           function that we find root of.\n",
    "        f_prime (function):     first derivative of f.\n",
    "        coeffs (list<float>):   polynomial coefficients.\n",
    "        colors (list<string>):  colors for each root + color for bad approximation.\n",
    "        re_min_bound (float):   min bound for real part of approximate value.\n",
    "        re_max_bound (float):   max bound for real part of approximate value.\n",
    "        im_min_bound (float):   min bound for imaginary part of approximate value.\n",
    "        im_max_bound (float):   max bound for imaginary part of approximate value.\n",
    "        point_num (int):        number of points on axis.\n",
    "    \"\"\"\n",
    "    xs = np.linspace(re_min_bound, re_max_bound, point_num)\n",
    "    ys = np.linspace(im_min_bound, im_max_bound, point_num)\n",
    "    xs = np.append(xs, [0])\n",
    "    ys = np.append(ys, [0])\n",
    "    cs = []\n",
    "    xs_new = []\n",
    "    ys_new = []\n",
    "    \n",
    "    for i in xs:\n",
    "        for j in ys:\n",
    "            xs_new.append(i)\n",
    "            ys_new.append(j)\n",
    "            cs.append(colorize(f, f_prime, coeffs, colors, complex(i,j)))\n",
    "        \n",
    "    plt.figure(figsize=(10, 10))\n",
    "    plt.scatter(xs_new, ys_new, color=cs)\n",
    "    plt.show()\n",
    "    \n",
    "    pass"
   ]
  },
  {
   "cell_type": "markdown",
   "id": "103ad0c9",
   "metadata": {},
   "source": [
    "## Тестирование"
   ]
  },
  {
   "cell_type": "markdown",
   "id": "310941ee",
   "metadata": {},
   "source": [
    "### №1"
   ]
  },
  {
   "cell_type": "code",
   "execution_count": null,
   "id": "fd6867c8",
   "metadata": {},
   "outputs": [],
   "source": [
    "find_root_by_newton(f, f_prime, (1+2j))"
   ]
  },
  {
   "cell_type": "code",
   "execution_count": null,
   "id": "67b7461d",
   "metadata": {},
   "outputs": [],
   "source": [
    "colorize(f, f_prime, coeffs, colors, 0)"
   ]
  },
  {
   "cell_type": "code",
   "execution_count": null,
   "id": "a9cbb42e",
   "metadata": {},
   "outputs": [],
   "source": [
    "visualization(f, f_prime, coeffs, colors)"
   ]
  },
  {
   "cell_type": "markdown",
   "id": "b50c424e",
   "metadata": {},
   "source": [
    "### №2"
   ]
  },
  {
   "cell_type": "code",
   "execution_count": null,
   "id": "9a5c31f8",
   "metadata": {},
   "outputs": [],
   "source": [
    "find_root_by_newton(f1, f1_prime, (1+2j))"
   ]
  },
  {
   "cell_type": "code",
   "execution_count": null,
   "id": "8ccd7337",
   "metadata": {},
   "outputs": [],
   "source": [
    "colorize(f1, f1_prime, coeffs1, colors1, 0)"
   ]
  },
  {
   "cell_type": "code",
   "execution_count": null,
   "id": "eb8be762",
   "metadata": {},
   "outputs": [],
   "source": [
    "visualization(f1, f1_prime, coeffs1, colors1)"
   ]
  },
  {
   "cell_type": "markdown",
   "id": "21242a98",
   "metadata": {},
   "source": [
    "### №3"
   ]
  },
  {
   "cell_type": "code",
   "execution_count": null,
   "id": "014f0a7e",
   "metadata": {},
   "outputs": [],
   "source": [
    "find_root_by_newton(f2, f2_prime, (1+2j))"
   ]
  },
  {
   "cell_type": "code",
   "execution_count": null,
   "id": "8574fb7b",
   "metadata": {},
   "outputs": [],
   "source": [
    "colorize(f2, f2_prime, coeffs2, colors2, (1+2j))"
   ]
  },
  {
   "cell_type": "code",
   "execution_count": null,
   "id": "d0976dc1",
   "metadata": {},
   "outputs": [],
   "source": [
    "visualization(f2, f2_prime, coeffs2, colors2)"
   ]
  }
 ],
 "metadata": {},
 "nbformat": 4,
 "nbformat_minor": 5
}
