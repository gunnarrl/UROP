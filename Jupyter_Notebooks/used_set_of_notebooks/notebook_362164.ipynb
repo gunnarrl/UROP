{
 "cells": [
  {
   "cell_type": "code",
   "execution_count": null,
   "id": "01584a6b",
   "metadata": {},
   "outputs": [],
   "source": [
    "%pylab inline --no-import-all"
   ]
  },
  {
   "cell_type": "markdown",
   "id": "f6e000b4",
   "metadata": {},
   "source": [
    "# Using `poppy`'s ThinLens, ZernikeWFE, and ParameterizedWFE classes\n",
    "\n",
    "This notebook will show you three different ways to introduce defocus in your model optical system, as well as some of the additional flexibility afforded by the `ZernikeWFE` and `ParameterizedWFE` classes.\n",
    "\n",
    "First off, we import `poppy` and define some useful constants. We're going to use 460 nm light through a 1 meter circular aperture."
   ]
  },
  {
   "cell_type": "code",
   "execution_count": null,
   "id": "56821f30",
   "metadata": {},
   "outputs": [],
   "source": [
    "import poppy\n",
    "poppy.__version__"
   ]
  },
  {
   "cell_type": "code",
   "execution_count": null,
   "id": "eb3059d2",
   "metadata": {},
   "outputs": [],
   "source": [
    "RADIUS = 1.0 # meters\n",
    "WAVELENGTH = 460e-9 # meters\n",
    "PIXSCALE = 0.01 # arcsec / pix\n",
    "FOV = 1 # arcsec\n",
    "NWAVES = 1.0"
   ]
  },
  {
   "cell_type": "markdown",
   "id": "302bc189",
   "metadata": {},
   "source": [
    "# Visualizing the PSF without any defocus\n",
    "\n",
    "This is just about the simplest optical system we can make. Light illuminates a circular pupil, and is imaged onto a detector."
   ]
  },
  {
   "cell_type": "code",
   "execution_count": null,
   "id": "f3eb5067",
   "metadata": {},
   "outputs": [],
   "source": [
    "osys = poppy.OpticalSystem()\n",
    "circular_aperture = poppy.CircularAperture(radius=RADIUS)\n",
    "osys.add_pupil(circular_aperture)\n",
    "osys.add_detector(pixelscale=PIXSCALE, fov_arcsec=FOV)\n",
    "\n",
    "plt.figure(figsize=(8, 8))\n",
    "psf = osys.calc_psf(wavelength=WAVELENGTH, display_intermediates=True)\n",
    "plt.tight_layout()"
   ]
  },
  {
   "cell_type": "markdown",
   "id": "815850e9",
   "metadata": {},
   "source": [
    "Ahh, a nice Airy function. This is a monochromatic PSF at `WAVELENGTH` (460 nm).\n",
    "\n",
    "The `ThinLens` optic lets us introduce defocus specified as number of waves. One wave of defocus means that the maximum of the Airy disk becomes a minimum, with a lot of intensity pushed out into a \"donut\" around the center of the PSF.\n",
    "\n",
    "# Adding a Thin Lens\n",
    "\n",
    "Let's add a `ThinLens` in the code to create our optical system. We're going to use 1 wave of defocus, and the same reference wavelength as we're using to calculate our monochromatic psf."
   ]
  },
  {
   "cell_type": "code",
   "execution_count": null,
   "id": "ab9a5109",
   "metadata": {},
   "outputs": [],
   "source": [
    "osys = poppy.OpticalSystem()\n",
    "circular_aperture = poppy.CircularAperture(radius=RADIUS)\n",
    "osys.add_pupil(circular_aperture)\n",
    "\n",
    "thinlens = poppy.ThinLens(nwaves=NWAVES, reference_wavelength=WAVELENGTH, radius=RADIUS)\n",
    "osys.add_pupil(thinlens)\n",
    "\n",
    "osys.add_detector(pixelscale=PIXSCALE, fov_arcsec=FOV)\n",
    "\n",
    "plt.figure(figsize=(8, 8))\n",
    "psf = osys.calc_psf(wavelength=WAVELENGTH, display_intermediates=True)\n",
    "plt.tight_layout()"
   ]
  },
  {
   "cell_type": "markdown",
   "id": "d805151d",
   "metadata": {},
   "source": [
    "Introducing defocus is just one type of aberration you might want to model. `ThinLens` is a separate class because it allows you to specify defocus in waves relative to a reference wavelength rather than RMS wavefront error. Both techniques are useful, but the specifications for JWST NIRCam are delivered in such a way that it makes sense to implement `ThinLens` in this way. (Just one artifact of POPPY's connection to JWST!)\n",
    "\n",
    "Let's get familiar with `ThinLens`'s big brother, `ZernikeWFE`.\n",
    "\n",
    "# Reproducing the ThinLens behavior with the ZernikeWFE\n",
    "\n",
    "ZernikeWFE lets us specify a sequence of scaling coefficients for the Zernike basis functions, which are then summed to make a model optical element in our `OpticalSystem` with that behavior. The sequence corresponds to the [Noll indexing convention](https://en.wikipedia.org/wiki/Zernike_polynomials#Zernike_polynomials) for 1-D Zernike polynomial indices. The first (or \"zeroth\") element of the sequence is the coefficient for $Z_{j=1}$, the second for $Z_{j=2}$, and so on.\n",
    "\n",
    "The Noll index for the defocus term, $Z_2^0$, is $Z_{j=4}$.\n",
    "\n",
    "Whereas `ThinLens` uses a number of waves, the scaling coefficients for `ZernikeWFE` are with respect to the normalized RMS wavefront error of 1.0 meters. That would be a huge optical path difference, so coefficients will typically be on the order of the wavelength (expressed in meters).\n",
    "\n",
    "The normalization of ZernikeWFE introduces a factor of $2 \\sqrt{3}$, so we calculate our coefficient as:\n",
    "\n",
    "$$k = \\frac{\\mathrm{N_{waves}} \\lambda}{2\\sqrt{3}} .$$"
   ]
  },
  {
   "cell_type": "code",
   "execution_count": null,
   "id": "dc1c5239",
   "metadata": {},
   "outputs": [],
   "source": [
    "defocus_coefficient = NWAVES * WAVELENGTH / (2 * np.sqrt(3))\n",
    "coefficients_sequence = [0, 0, 0, defocus_coefficient]\n",
    "\n",
    "osys = poppy.OpticalSystem()\n",
    "circular_aperture = poppy.CircularAperture(radius=RADIUS)\n",
    "osys.add_pupil(circular_aperture)\n",
    "thinlens = poppy.ZernikeWFE(radius=RADIUS, coefficients=coefficients_sequence)\n",
    "osys.add_pupil(thinlens)\n",
    "osys.add_detector(pixelscale=PIXSCALE, fov_arcsec=FOV)\n",
    "\n",
    "plt.figure(figsize=(8,8))\n",
    "psf_with_zernikewfe = osys.calc_psf(wavelength=WAVELENGTH, display_intermediates=True)\n",
    "plt.tight_layout()"
   ]
  },
  {
   "cell_type": "markdown",
   "id": "4cc5059f",
   "metadata": {},
   "source": [
    "## Compare the two PSFs\n",
    "\n",
    "To ensure we've got agreement between the two methods, `poppy.display_psf_difference` will show any discrepancies."
   ]
  },
  {
   "cell_type": "code",
   "execution_count": null,
   "id": "f524583c",
   "metadata": {},
   "outputs": [],
   "source": [
    "poppy.display_psf_difference(psf, psf_with_zernikewfe, title='ThinLens vs. ZernikeWFE')"
   ]
  },
  {
   "cell_type": "markdown",
   "id": "e9448b62",
   "metadata": {},
   "source": [
    "# Adding some tilt and astigmatism"
   ]
  },
  {
   "cell_type": "code",
   "execution_count": null,
   "id": "b78afd78",
   "metadata": {},
   "outputs": [],
   "source": [
    "coefficients_sequence = [0, 0, 2e-7, defocus_coefficient, 0, 3e-8]\n",
    "\n",
    "osys = poppy.OpticalSystem(\"Testing Thin Lens w/ Zernike Module\")\n",
    "circular_aperture = poppy.CircularAperture(radius=RADIUS)\n",
    "osys.add_pupil(circular_aperture)\n",
    "thinlens = poppy.ZernikeWFE(radius=RADIUS, coefficients=coefficients_sequence)\n",
    "osys.add_pupil(thinlens)\n",
    "osys.add_detector(pixelscale=PIXSCALE, fov_arcsec=FOV)\n",
    "\n",
    "plt.figure(figsize=(8,8))\n",
    "psf_with_astigmatism = osys.calc_psf(wavelength=WAVELENGTH, display_intermediates=True)\n",
    "plt.tight_layout()"
   ]
  },
  {
   "cell_type": "markdown",
   "id": "cfc3c235",
   "metadata": {},
   "source": [
    "# Can we accomplish the same thing with `ParameterizedWFE`?\n",
    "\n",
    "`ParameterizedWFE` lets us specify optical aberrations in terms of a linear combination of basis functions evaluated over the pupil. This is more general than the `ZernikeWFE`, which specifies that you must use the Zernike basis functions to represent the distortion, but we can use `ParameterizedWFE` in an equivalent way if we wish.\n",
    "\n",
    "To specify which basis we want, we supply a `basis_factory` argument. This is a callable (e.g. a function) that gets keyword arguments `nterms` and `npix`, and returns an `nterms` by `npix` by `npix` array containing the first `nterms` terms evaluated over a pupil circumscribed by a circle of diameter `npix`.\n",
    "\n",
    "Two useful basis functions are provided in `poppy.zernike`: `zernike_basis` and `hexike_basis`. The `zernike_basis` allows us to provide equivalent functionality to `ZernikeWFE`, if we wish. Here's what that would look like:"
   ]
  },
  {
   "cell_type": "code",
   "execution_count": null,
   "id": "d1a642e2",
   "metadata": {},
   "outputs": [],
   "source": [
    "osys = poppy.OpticalSystem()\n",
    "circular_aperture = poppy.CircularAperture(radius=RADIUS)\n",
    "osys.add_pupil(circular_aperture)\n",
    "thinlens = poppy.ParameterizedWFE(\n",
    "    coefficients=coefficients_sequence,\n",
    "    basis_factory=poppy.zernike.zernike_basis,\n",
    "    radius=RADIUS\n",
    ")\n",
    "osys.add_pupil(thinlens)\n",
    "osys.add_detector(pixelscale=PIXSCALE, fov_arcsec=FOV)\n",
    "\n",
    "plt.figure(figsize=(8,8))\n",
    "psf_with_parameterizedwfe = osys.calc_psf(wavelength=WAVELENGTH, display_intermediates=True)\n",
    "plt.tight_layout()"
   ]
  },
  {
   "cell_type": "markdown",
   "id": "41432c39",
   "metadata": {},
   "source": [
    "# What else is `ParameterizedWFE` good for?\n",
    "\n",
    "The ability to specify `basis_factory` means that we're not limited to Zernike polynomials. Suppose we have a telescope with a hexagonal pupil? The correct way to specify Zernike-like aberrations in an orthonormal basis on the unit hexagon is with \"hexikes\", a modified Zernike basis.\n",
    "\n",
    "Hexikes are computed by `poppy.zernike.hexike_basis`, which we pass in (along with the same coefficients as before) to get an idea of how the hexagon aperture changes things:"
   ]
  },
  {
   "cell_type": "code",
   "execution_count": null,
   "id": "47ee05f0",
   "metadata": {},
   "outputs": [],
   "source": [
    "osys = poppy.OpticalSystem()\n",
    "hex_aperture = poppy.HexagonAperture(side=RADIUS)\n",
    "osys.add_pupil(hex_aperture)\n",
    "thinlens = poppy.ParameterizedWFE(\n",
    "    coefficients=coefficients_sequence,\n",
    "    basis_factory=poppy.zernike.hexike_basis,\n",
    "    radius=RADIUS\n",
    ")\n",
    "osys.add_pupil(thinlens)\n",
    "osys.add_detector(pixelscale=PIXSCALE, fov_arcsec=FOV)\n",
    "\n",
    "plt.figure(figsize=(8,8))\n",
    "psf_with_hexikes = osys.calc_psf(wavelength=WAVELENGTH, display_intermediates=True)\n",
    "plt.tight_layout()"
   ]
  },
  {
   "cell_type": "markdown",
   "id": "0b70de33",
   "metadata": {},
   "source": [
    "# Scriptability of `ZernikeWFE`\n",
    "\n",
    "The API for `ZernikeWFE` also lends itself well to generating coefficients programmatically and passing it in. Say we have an error budget where we know the following about the RMS wavefront error in the Zernike components:\n",
    "\n",
    "  * **Piston**, *j=1* — disregarded for a telescope\n",
    "  * **Tilt X**, *j=2* — $\\pm$ 100 nm\n",
    "  * **Tilt Y**, *j=3* — $\\pm$ 100 nm\n",
    "  * **Focus**, *j=4* — $\\pm$ 50 nm\n",
    "  * **Astigmatism 45**, *j=5* — $\\pm$ 36 nm\n",
    "  * **Astigmatism 0**, *j=6* — $\\pm$ 36 nm\n",
    "\n",
    "We can use `ZernikeWFE` to generate a library of sample PSFs satisfying this error budget. First, we write a short function that can generate coefficients from our specifications."
   ]
  },
  {
   "cell_type": "code",
   "execution_count": null,
   "id": "c72c47bd",
   "metadata": {},
   "outputs": [],
   "source": [
    "wfe_budget = [0, 100, 100, 50, 36, 36]\n",
    "\n",
    "def generate_coefficients(wfe_budget):\n",
    "    coefficients = []\n",
    "    for term in wfe_budget:\n",
    "        coefficients.append(\n",
    "            np.random.uniform(low=-1e-9 * term, high=1e-9 * term)  # convert nm to meters, get value in range\n",
    "        )\n",
    "    return coefficients"
   ]
  },
  {
   "cell_type": "markdown",
   "id": "54f2842a",
   "metadata": {},
   "source": [
    "Now we use this to generate a few sets of coefficients."
   ]
  },
  {
   "cell_type": "code",
   "execution_count": null,
   "id": "636ea0be",
   "metadata": {},
   "outputs": [],
   "source": [
    "possible_coefficients = [generate_coefficients(wfe_budget) for i in range(5)]"
   ]
  },
  {
   "cell_type": "code",
   "execution_count": null,
   "id": "d0afc156",
   "metadata": {},
   "outputs": [],
   "source": [
    "plt.figure(figsize=(18,2))\n",
    "\n",
    "for idx, coefficient_set in enumerate(possible_coefficients, start=1):\n",
    "    plt.subplot(1, 5, idx)\n",
    "\n",
    "    osys = poppy.OpticalSystem()\n",
    "    hex_aperture = poppy.CircularAperture(radius=RADIUS)\n",
    "    osys.add_pupil(hex_aperture)\n",
    "    thinlens = poppy.ZernikeWFE(\n",
    "        coefficients=coefficient_set,\n",
    "        radius=RADIUS\n",
    "    )\n",
    "    osys.add_pupil(thinlens)\n",
    "    osys.add_detector(pixelscale=PIXSCALE, fov_arcsec=FOV)\n",
    "\n",
    "    psf = osys.calc_psf(wavelength=WAVELENGTH, display=False)\n",
    "    poppy.display_psf(psf, title=\"PSF #{}\".format(idx))"
   ]
  }
 ],
 "metadata": {},
 "nbformat": 4,
 "nbformat_minor": 5
}
