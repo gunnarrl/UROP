{
 "cells": [
  {
   "cell_type": "markdown",
   "id": "635b10ef",
   "metadata": {},
   "source": [
    "# Analytical surfaces\n",
    "***\n",
    "In this notebook we will look at some of the features of analytical surfaces in slippy.Surface, we will cover:\n",
    "- What makes an analytical surface\n",
    "- The FlatSurface\n",
    "- Plotting analytical surfaces\n",
    "- Translating analytical surfaces\n",
    "- The types of analytical surface avaliable\n",
    "- Combining analytical surfaces\n",
    "- Combining analytical surfaces with discrete surfaces\n",
    "- Making your own analytical surface types\n",
    "***\n",
    "Analytical surfaces are found in the surface sub package, here we will also import numpy:"
   ]
  },
  {
   "cell_type": "code",
   "execution_count": null,
   "id": "f1d8a563",
   "metadata": {},
   "outputs": [],
   "source": [
    "import slippy.surface as S\n",
    "import numpy as np"
   ]
  },
  {
   "cell_type": "markdown",
   "id": "914c6067",
   "metadata": {},
   "source": [
    "An analytical surface is a surfaces that can be defined by a continuous single valued funciton in the x,y plane. These surfaces can be used without descretisation in much of slippy including the contact mechanics solvers. Using these surfaces can greatly simpify making models and solving tribological problems. \n",
    "\n",
    "All of the functionality that can be used with the standard surface class can be used with analytical surfaces, apart from reading from file. In addition, each analytical surface has a height method that gives the height of the surface at specified points.\n",
    "***\n",
    "\n",
    "## FlatSurface\n",
    "The simplest type of analytical surface is the flat surface:"
   ]
  },
  {
   "cell_type": "code",
   "execution_count": null,
   "id": "a0ee93b3",
   "metadata": {},
   "outputs": [],
   "source": [
    "flat = S.FlatSurface()\n",
    "flat.height(1,1)"
   ]
  },
  {
   "cell_type": "markdown",
   "id": "cf94cdf5",
   "metadata": {},
   "source": [
    "While this surface has no extent or grid spacing it can give it's height at any point, we can also make inclined surfaces in the same way:"
   ]
  },
  {
   "cell_type": "code",
   "execution_count": null,
   "id": "3896107b",
   "metadata": {},
   "outputs": [],
   "source": [
    "incline = S.FlatSurface(slope = (1,1))\n",
    "print(incline.height(0,0), incline.height(1,0))"
   ]
  },
  {
   "cell_type": "markdown",
   "id": "1ea549b6",
   "metadata": {},
   "source": [
    "## Showing an Analytical Surface\n",
    "\n",
    "We cannot show this surface until an extent  is set, this can either be set directly or by setting the grid spacing and the shape of the surface (number of grid points in each direction). When this is done, the surface can be shown. This is done by generating a profiel using the surface's height method. by default 100 grid points are generated along the shortest direction, this can be increased or decreased by setting the n_pts key word argument."
   ]
  },
  {
   "cell_type": "code",
   "execution_count": null,
   "id": "390bbed0",
   "metadata": {},
   "outputs": [],
   "source": [
    "try:\n",
    "    incline.show()\n",
    "except AttributeError:\n",
    "    print('Surface cannot be shown until the extent is set\\n')\n",
    "\n",
    "print('Setting extent:')\n",
    "incline.extent=(1,1)\n",
    "print('Surface can now be shown:')\n",
    "incline.show()\n",
    "print('The surface has not been permanently changed: ', incline.profile is None)\n",
    "print('No more attibutes of the surface have been set: ', incline.grid_spacing is None)"
   ]
  },
  {
   "cell_type": "markdown",
   "id": "1ff286ea",
   "metadata": {},
   "source": [
    "## Translating and rotating\n",
    "Analytical surfaces can be translated and rotated: either on instantiation, by setting the shift and roation keywords or after generation by usning the shift or rotate methods. If shift is called with no arguments and the extent of the surface is set the shift required to move the origin of the surface to the centre of the extent is calculated and applied. This shift is also applied if a surface is instatiated with it's extent set, this can be prevented by setting the shift keyword to (0, 0) . \n",
    "\n",
    "Rotations and translations can be added as needed, no matter how many have been combined the sum of the roations is always applied first and roation is around the origin. The sum of the translations is then applied."
   ]
  },
  {
   "cell_type": "code",
   "execution_count": null,
   "id": "23e9df1e",
   "metadata": {},
   "outputs": [],
   "source": [
    "print('Translating or rotating a surface object:')\n",
    "incline.shift((1,2)) # shift 1 in the x direction and 2 in the y direction\n",
    "incline.rotate(1) # rotate one radian\n",
    "incline.show()"
   ]
  },
  {
   "cell_type": "code",
   "execution_count": null,
   "id": "4495699f",
   "metadata": {},
   "outputs": [],
   "source": [
    "print('Shifting a surface on instantiation:')\n",
    "new_flat_surface = S.FlatSurface(slope=(1,0.1), rotation=2, shift=(5,1), extent=(1,1))\n",
    "new_flat_surface.show()"
   ]
  },
  {
   "cell_type": "markdown",
   "id": "37117311",
   "metadata": {},
   "source": [
    "## Types of analytical surfaces\n",
    "There are several types of analytical surfaces avaliable in slippy. Examples of these are shown below, however it is possible that this list will be out of date by the time you read it. At any point you can see a full list of analytical surface types by checking the subclass registy of the \\_AnalyticalSurface base class:"
   ]
  },
  {
   "cell_type": "code",
   "execution_count": null,
   "id": "28a3c060",
   "metadata": {},
   "outputs": [],
   "source": [
    "registry = S._AnalyticalSurface._analytic_subclass_registry\n",
    "for item in registry:\n",
    "    print(item.__name__)"
   ]
  },
  {
   "cell_type": "markdown",
   "id": "a9cd38d4",
   "metadata": {},
   "source": [
    "Below some of these surfaces are shown however the user is directed to the documentation for each class for full details of how to use each type of analytical surface."
   ]
  },
  {
   "cell_type": "code",
   "execution_count": null,
   "id": "b8afc82b",
   "metadata": {},
   "outputs": [],
   "source": [
    "import matplotlib.pyplot as plt\n",
    "\n",
    "fig = plt.figure(figsize=(15, 10))\n",
    "\n",
    "# A round surface\n",
    "round_surface = S.RoundSurface((1,1,1), extent = (0.3,0.3))\n",
    "ax_0 = fig.add_subplot(221, projection='3d')\n",
    "round_surface.show('profile', 'surface', ax_0)\n",
    "ax_0.set_title('Round Surface')\n",
    "\n",
    "# A pyramid surface\n",
    "p_surface = S.PyramidSurface((1,1,1), extent = (0.3,0.3))\n",
    "ax_1 = fig.add_subplot(222, projection='3d')\n",
    "p_surface.show('profile', 'surface', ax_1)\n",
    "ax_1.set_title('Pyramid Surface')\n",
    "\n",
    "# A discrete frequency based surface\n",
    "df_surface = S.DiscFreqSurface([2, 4, 6], [0.05, 0.025, 0.0125], [0, 0, 0], extent = (0.3,0.3))\n",
    "ax_2 = fig.add_subplot(223, projection='3d')\n",
    "df_surface.show('profile', 'surface', ax_2)\n",
    "ax_2.set_title('Discrete frequency Surface')\n",
    "\n",
    "# A hurst fractal surface\n",
    "hf_surface = S.HurstFractalSurface(1, 0.2, shape = (128,128), grid_spacing = 1, generate = True)\n",
    "ax_3 = fig.add_subplot(224, projection='3d')\n",
    "hf_surface.show('profile', 'surface', ax_3)\n",
    "_ = ax_3.set_title('Hurst Fractal Surface')"
   ]
  },
  {
   "cell_type": "markdown",
   "id": "e73388a9",
   "metadata": {},
   "source": [
    "## Combining analytical surfaces\n",
    "Analytical surfaces can be combined while remaining analytical, the result is a SurfaceCombination object. As many surfaces as needed can be combined, the result can still be used in a contact model without descretisation."
   ]
  },
  {
   "cell_type": "code",
   "execution_count": null,
   "id": "5fae35b0",
   "metadata": {},
   "outputs": [],
   "source": [
    "comb_1 = round_surface+p_surface\n",
    "comb_1.show()"
   ]
  },
  {
   "cell_type": "code",
   "execution_count": null,
   "id": "cc661a3d",
   "metadata": {},
   "outputs": [],
   "source": [
    "comb_2 = comb_1+df_surface\n",
    "comb_2.show()\n",
    "print(repr(comb_2))"
   ]
  },
  {
   "cell_type": "markdown",
   "id": "318fd157",
   "metadata": {},
   "source": [
    "## Combining analytical surfaces with discrete surfaces, \n",
    "Occationally you may want to combine an analytical surface with a discrete surface such as roughness measurmetns from a flattented replica and an analytical description of the surface geometry. In these cases the surfaces can simply be added or subtracted as needed. The analytical surface is automatically descretised to the same grid as the discrete surface. After this the combinaiton is just like any other discrete surface. "
   ]
  },
  {
   "cell_type": "markdown",
   "id": "5b25ab3b",
   "metadata": {},
   "source": [
    "## Making your own analytical surfaces (extending slippy)\n",
    "In your research you may have a particular pattern or shape that can be defined analytically. In order to implement your own analytical surfaces you need to subclass the \\_AnalyticalSurface base class and implement the abstract methods and your own \\_\\_init\\_\\_ method (the method that is run on instatiation. \n",
    "\n",
    "The abstarct methods are the \\_\\_repr\\_\\_ method and the \\_height method. \n",
    "\n",
    "The \\_\\_init\\_\\_ method should check and store the input variables and call the super class's \\_\\_init\\_\\_ method to sort out the grid_spacing etc.\n",
    "\n",
    "The \\_\\_repr\\_\\_ method should just return a string that would produce a copy of the instance if pasted into the terminal. \n",
    "\n",
    "The \\_height method should take two inputs x_mesh and y_mesh which are numpy arrays of x and y coordinates respectively. It should return an array of surface heights with the same shape as x_mesh. \n",
    "\n",
    "All translations and roations are handeled by the base class, as is setting the grid_spacing etc. By implementing these methods your surface type can be used in any of the ways outlined above. \n",
    "\n",
    "Below is an example of this working: "
   ]
  },
  {
   "cell_type": "code",
   "execution_count": null,
   "id": "42b7b634",
   "metadata": {},
   "outputs": [],
   "source": [
    "from slippy.surface import _AnalyticalSurface\n",
    "import numpy as np\n",
    "\n",
    "class SlottedSurface(_AnalyticalSurface):\n",
    "    \"\"\" A flat surface with recessed slots:\n",
    "           <-> flat_width\n",
    "    ___    ___    ___    ___    ____\n",
    "       |  |   |  |   |  |   |  |    ^\n",
    "       |  |   |  |   |  |   |  |    | slot_depth\n",
    "       |__|   |__|   |__|   |__|    v\n",
    "        <> slot_width\n",
    "    \"\"\"\n",
    "    \n",
    "    def __init__(self, slot_depth: float, slot_width: float, flat_width: float, \n",
    "                 rotation: float = None, shift: tuple = None,\n",
    "                 generate: bool = False, grid_spacing: float = None, \n",
    "                 extent: tuple = None, shape: tuple = None):\n",
    "        if any([slot_depth <= 0, slot_width<=0, flat_width<=0]):\n",
    "            raise ValueError('All inputs must be greater than zero')\n",
    "        self.slot_depth = slot_depth\n",
    "        self.slot_width = slot_width\n",
    "        self.flat_width = flat_width\n",
    "        super().__init__(generate=generate, rotation=rotation, shift=shift,\n",
    "                         grid_spacing=grid_spacing, extent=extent, shape=shape)\n",
    "        \n",
    "    def __repr__(self):\n",
    "        # repr helper sorts out the grid spacing etc.\n",
    "        string = self._repr_helper()\n",
    "        return ('SlottedSurface(slot_depth=' + repr(self.slot_depth) + \n",
    "                ', slot_width=' + repr(self.slot_width) + \n",
    "                ', flat_width=' + repr(self.flat_width) + string + ')')\n",
    "    \n",
    "    def _height(self, x_mesh, y_mesh):\n",
    "        z = np.zeros_like(x_mesh)\n",
    "        z[x_mesh%(self.slot_width+self.flat_width)<self.slot_width] = -1*self.slot_depth\n",
    "        return z"
   ]
  },
  {
   "cell_type": "markdown",
   "id": "edf66ae0",
   "metadata": {},
   "source": [
    "Now that we have defined the class we can make an instance of it and use it just like any other analytical surface."
   ]
  },
  {
   "cell_type": "code",
   "execution_count": null,
   "id": "f132913e",
   "metadata": {},
   "outputs": [],
   "source": [
    "my_slotted_surface = SlottedSurface(1,1,3, extent = (20,20))\n",
    "my_slotted_surface.show()"
   ]
  },
  {
   "cell_type": "markdown",
   "id": "ff3f9bfe",
   "metadata": {},
   "source": [
    "We can rotate or shift the surface:"
   ]
  },
  {
   "cell_type": "code",
   "execution_count": null,
   "id": "e7156b83",
   "metadata": {},
   "outputs": [],
   "source": [
    "my_slotted_surface.rotate(2)\n",
    "my_slotted_surface.show(n_pts=500)"
   ]
  },
  {
   "cell_type": "markdown",
   "id": "6b7a9b89",
   "metadata": {},
   "source": [
    "We can combine the surface with other surfaces:"
   ]
  },
  {
   "cell_type": "code",
   "execution_count": null,
   "id": "23bbda40",
   "metadata": {},
   "outputs": [],
   "source": [
    "big_round = S.RoundSurface((20,20,20), shift = (-10,-10))\n",
    "comb_3 = my_slotted_surface + big_round\n",
    "comb_3.show(n_pts=1000)"
   ]
  },
  {
   "cell_type": "markdown",
   "id": "3c51fd63",
   "metadata": {},
   "source": [
    "And lets check that the repr mehtod works, this should give a text string containing code that can be used to make the object:"
   ]
  },
  {
   "cell_type": "code",
   "execution_count": null,
   "id": "505a01d5",
   "metadata": {},
   "outputs": [],
   "source": [
    "my_slotted_surface"
   ]
  }
 ],
 "metadata": {},
 "nbformat": 4,
 "nbformat_minor": 5
}
