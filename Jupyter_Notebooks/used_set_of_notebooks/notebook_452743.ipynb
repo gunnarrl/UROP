{
 "cells": [
  {
   "cell_type": "markdown",
   "id": "4242a839",
   "metadata": {},
   "source": [
    "# NWM Reanalysis Use Case"
   ]
  },
  {
   "cell_type": "markdown",
   "id": "290b66f6",
   "metadata": {},
   "source": [
    "## Provide use case for comparing the performance of the NWM for modeling the water depth to the USGS station observation. "
   ]
  },
  {
   "cell_type": "code",
   "execution_count": null,
   "id": "dc315897",
   "metadata": {},
   "outputs": [],
   "source": [
    "from reanalysis import get_reanalysis_paths_gs, data_access_gs, plotReanalysis\n",
    "import gcsfs\n",
    "import json\n",
    "import os\n",
    "import urllib3\n",
    "import xarray as xr\n",
    "import pandas as pd\n",
    "from glob import glob\n",
    "from time import time\n",
    "from IPython.display import IFrame\n",
    "from scipy.interpolate import interp1d\n",
    "import matplotlib.pyplot as plt\n",
    "\n",
    "from pandas.plotting import register_matplotlib_converters\n",
    "register_matplotlib_converters()\n",
    "\n",
    "\n",
    "%matplotlib inline"
   ]
  },
  {
   "cell_type": "code",
   "execution_count": null,
   "id": "f21e044f",
   "metadata": {},
   "outputs": [],
   "source": [
    "def open_station_website(USGS_ID:str, start_date:str, end_date:str) -> IFrame:\n",
    "    '''Open the selected USGS station website. Users can use this website to prepare the required parameters for retrieving the desired records.'''\n",
    "    return IFrame(src=f\"https://nwis.waterdata.usgs.gov/usa/nwis/uv/?cb_00060=on&cb_00065=on&format=gif_default&site_no={USGS_ID}&period=&begin_date={start_date}&end_date={end_date}\", width='100%', height='500px')"
   ]
  },
  {
   "cell_type": "code",
   "execution_count": null,
   "id": "b4210985",
   "metadata": {},
   "outputs": [],
   "source": [
    "def usgs_data(station_id:str, start_date:str, end_date:str, parameter:str) -> dict:\n",
    "    '''Retrieve time series data for a USGS gauge.'''\n",
    "        \n",
    "    urllib3.disable_warnings(urllib3.exceptions.InsecureRequestWarning)\n",
    "    http = urllib3.PoolManager()\n",
    "\n",
    "    # Define URL parameters    \n",
    "    data_format = \"json\"\n",
    "    station_id = station_id\n",
    "    start_date = start_date\n",
    "    end_date = end_date\n",
    "    parameter = parameter\n",
    "    site_type = \"ST\"\n",
    "    site_status = \"all\"\n",
    "    \n",
    "    # Build the URL to retrieve the data\n",
    "    st_service_url = \"https://nwis.waterservices.usgs.gov/nwis/iv/?format=\"+ data_format +\\\n",
    "    \"&sites=\"+ station_id +\"&startDT=\"+ start_date +\"&endDT=\"+ end_date +\"&parameterCd=\"+ parameter +\\\n",
    "    \"&siteType=\"+ site_type +\"&siteStatus=\"+ site_status\n",
    "    url = http.request('GET', st_service_url).data\n",
    "    response = json.loads(url)\n",
    "    usgs_values = response['value']['timeSeries'][0]['values'][0]['value']\n",
    "    \n",
    "    # usgs_values = {'value': value in str, 'qualifiers': qualifiers in str, 'dateTime': dateTime in str}\n",
    "    return usgs_values"
   ]
  },
  {
   "cell_type": "code",
   "execution_count": null,
   "id": "63d9097e",
   "metadata": {},
   "outputs": [],
   "source": [
    "def get_NWM_rc(comid, rc_filepath=r\"data/hydroprop-fulltable2D.nc\") -> (interp1d, pd.DataFrame):\n",
    "    \"\"\"Opens the hydroprop-fulltable2D.nc file and retireves rating curves.\n",
    "    This is available for download at: \n",
    "    https://web.corral.tacc.utexas.edu/nfiedata/hydraulic-property-table/.\n",
    "    More information can be found at: https://web.corral.tacc.utexas.edu/nfiedata/.\n",
    "    \"\"\"\n",
    "    ds = xr.open_dataset(rc_filepath)\n",
    "    dis_ds = ds.Discharge.sel(CatchId=comid)\n",
    "    dis_df = dis_ds.to_dataframe().reset_index().drop(columns=[\"CatchId\"]).dropna()\n",
    "    f = interp1d(dis_df.Discharge, dis_df.Stage, kind=\"cubic\")\n",
    "    return f, dis_df"
   ]
  },
  {
   "cell_type": "code",
   "execution_count": null,
   "id": "90425dc3",
   "metadata": {},
   "outputs": [],
   "source": [
    "def new_plot(x_label='Time (hr)', y_label='Discharge (cfs)', figsize=(20,6), fontsize=18) -> plt.subplots:\n",
    "    '''Return a created new plotframe.'''\n",
    "    \n",
    "    fig,  ax = plt.subplots(figsize=figsize)\n",
    "    ax.set_xlabel(x_label, fontsize=fontsize)\n",
    "    ax.set_ylabel(y_label, fontsize=fontsize)\n",
    "    ax.tick_params(axis='both', which='major', labelsize=18)\n",
    "    ax.grid(which='major', color='lightgrey', linestyle='--', linewidth=2)\n",
    "    return fig, ax"
   ]
  },
  {
   "cell_type": "markdown",
   "id": "c2ed0440",
   "metadata": {},
   "source": [
    "## Identify use case parameters and target start and end dates"
   ]
  },
  {
   "cell_type": "code",
   "execution_count": null,
   "id": "318b392b",
   "metadata": {},
   "outputs": [],
   "source": [
    "USGS_ID = '02087570' # USGS 02087570 NEUSE RIVER AT SMITHFIELD, NC\n",
    "\n",
    "comid = 8785685 # NWM stream comid where the USGS station located. It is the same stream comid in the NHDPlus dataset.\n",
    "\n",
    "start_date = '2016-10-05'\n",
    "end_date = '2016-10-15'\n",
    "\n",
    "freq = \"1H\"\n",
    "\n",
    "# NWM rating curve NetCDF file path \n",
    "nwm_rc_path = r\"C:\\Users\\mmorsy\\Documents\\GitHub\\fcast\\notebooks\\data\\hydroprop-fulltable2D.nc\""
   ]
  },
  {
   "cell_type": "markdown",
   "id": "543f271f",
   "metadata": {},
   "source": [
    "## Observation"
   ]
  },
  {
   "cell_type": "code",
   "execution_count": null,
   "id": "6cf934b9",
   "metadata": {},
   "outputs": [],
   "source": [
    "open_station_website(USGS_ID, start_date, end_date)"
   ]
  },
  {
   "cell_type": "markdown",
   "id": "81482a65",
   "metadata": {},
   "source": [
    "### Based on the available station observation, decide which observation parameter to retrieve"
   ]
  },
  {
   "cell_type": "code",
   "execution_count": null,
   "id": "bf9a9404",
   "metadata": {},
   "outputs": [],
   "source": [
    "parameter = \"00065\"  # USGS Gage Height Code"
   ]
  },
  {
   "cell_type": "markdown",
   "id": "5d5c4346",
   "metadata": {},
   "source": [
    "### USGS observation retrieval"
   ]
  },
  {
   "cell_type": "code",
   "execution_count": null,
   "id": "33a073bb",
   "metadata": {},
   "outputs": [],
   "source": [
    "usgs_values = usgs_data(USGS_ID, start_date, end_date, parameter)\n",
    "usgs_df = pd.DataFrame.from_records(usgs_values)\n",
    "usgs_df.head()"
   ]
  },
  {
   "cell_type": "code",
   "execution_count": null,
   "id": "00215a0d",
   "metadata": {},
   "outputs": [],
   "source": [
    "# clean-up and post-process the observation\n",
    "usgs_df = usgs_df[usgs_df.value != '-999999']\n",
    "usgs_df['dateTime'] =  pd.to_datetime(usgs_df['dateTime'], utc=False)\n",
    "usgs_df['value']= pd.to_numeric(usgs_df['value'])\n",
    "\n",
    "if parameter == \"00065\":\n",
    "    usgs_df['value']= usgs_df['value'] * 0.3048 #if stage, multiply by 0.3048 to change the units from feet to meter\n",
    "    \n",
    "if  parameter == \"00060\":\n",
    "    usgs_df['value']= pd.to_numeric(usgs_df['value']) * 0.028316847 #if discharge, multiply by 0.028316847 to change the units from cfs to cms\n",
    "\n",
    "usgs_df = usgs_df.assign(increment_hr = usgs_df.dateTime.diff())\n",
    "usgs_df.head()"
   ]
  },
  {
   "cell_type": "code",
   "execution_count": null,
   "id": "bc1d1d42",
   "metadata": {},
   "outputs": [],
   "source": [
    "fig, ax = new_plot(x_label='Date/Time', y_label='Stage(m)')\n",
    "ax.plot(usgs_df.dateTime, usgs_df.value, label=\"Stage Height\")\n",
    "ax.legend(fontsize=18)"
   ]
  },
  {
   "cell_type": "markdown",
   "id": "8ebc52b8",
   "metadata": {},
   "source": [
    "## national-water-model-v2 reanalysis data"
   ]
  },
  {
   "cell_type": "markdown",
   "id": "e1dba04d",
   "metadata": {},
   "source": [
    "### Prepare the list of the files to access through gs"
   ]
  },
  {
   "cell_type": "code",
   "execution_count": null,
   "id": "5502c2ed",
   "metadata": {},
   "outputs": [],
   "source": [
    "target_analysis = 'full_physics' # Choose between: 1) full_physics; 2) long_range\n",
    "gs_paths = get_reanalysis_paths_gs(start_date, end_date, freq, target_analysis=target_analysis)"
   ]
  },
  {
   "cell_type": "markdown",
   "id": "d86fbc8b",
   "metadata": {},
   "source": [
    "### Choose between two methods to access the data: 1) 'real-time' (default); 2) 'download'.\n",
    "#### If the second method is chosen, please provide the target local directory to download the data. \n",
    "#### By default, the local directory to store the downloaded data is './data'"
   ]
  },
  {
   "cell_type": "code",
   "execution_count": null,
   "id": "1fe2de66",
   "metadata": {},
   "outputs": [],
   "source": [
    "all_data = data_access_gs(gs_paths, gs_access_method='download')"
   ]
  },
  {
   "cell_type": "markdown",
   "id": "a83e057b",
   "metadata": {},
   "source": [
    "## Begin exploration"
   ]
  },
  {
   "cell_type": "code",
   "execution_count": null,
   "id": "1d5e694b",
   "metadata": {},
   "outputs": [],
   "source": [
    "NWM_df = all_data.sel(feature_id=comid)['streamflow'].to_dataframe().drop(columns=['feature_id', 'latitude', 'longitude'])\n",
    "NWM_df.head()"
   ]
  },
  {
   "cell_type": "code",
   "execution_count": null,
   "id": "f57355fc",
   "metadata": {},
   "outputs": [],
   "source": [
    "plotReanalysis(NWM_df, comid, freq)"
   ]
  },
  {
   "cell_type": "code",
   "execution_count": null,
   "id": "f0848393",
   "metadata": {},
   "outputs": [],
   "source": [
    "# get the NWM rating curve for the given comid\n",
    "ds = xr.open_dataset(nwm_rc_path)\n",
    "f, nwm_rc = get_NWM_rc(comid, nwm_rc_path)\n",
    "nwm_rc.head()"
   ]
  },
  {
   "cell_type": "code",
   "execution_count": null,
   "id": "26276439",
   "metadata": {},
   "outputs": [],
   "source": [
    "f(0.293121)"
   ]
  },
  {
   "cell_type": "code",
   "execution_count": null,
   "id": "5ac377c7",
   "metadata": {},
   "outputs": [],
   "source": [
    "fig, ax = new_plot(x_label='Stage Height (m)', y_label='Discharge (cms)')\n",
    "ax.plot(nwm_rc.Stage, nwm_rc.Discharge, label=f\"Rating curve for comid: {comid}\")\n",
    "ax.legend(fontsize=18)"
   ]
  },
  {
   "cell_type": "markdown",
   "id": "c9a87a03",
   "metadata": {},
   "source": [
    "## Convert the NWM modeled discharge to water depth using the retrieved rating curve"
   ]
  },
  {
   "cell_type": "code",
   "execution_count": null,
   "id": "8d2e4533",
   "metadata": {},
   "outputs": [],
   "source": [
    "NWM_stage_df = NWM_df.apply(f).rename(columns={'streamflow': 'stage'})\n",
    "NWM_stage_df.head()"
   ]
  },
  {
   "cell_type": "code",
   "execution_count": null,
   "id": "e6cd70e7",
   "metadata": {},
   "outputs": [],
   "source": [
    "plotReanalysis(NWM_stage_df, comid, freq, flow=False)"
   ]
  },
  {
   "cell_type": "markdown",
   "id": "d67317a7",
   "metadata": {},
   "source": [
    "## Compare the USGS observed stage height with the NWM modeled water depth"
   ]
  },
  {
   "cell_type": "code",
   "execution_count": null,
   "id": "c191016e",
   "metadata": {},
   "outputs": [],
   "source": [
    "fig, ax = new_plot(x_label='Date/Time', y_label='Stage(m)')\n",
    "ax.plot(usgs_df.dateTime, usgs_df.value, label=\"USGS\")\n",
    "ax.plot(NWM_stage_df, label=\"NWM\")\n",
    "ax.legend(fontsize=18)"
   ]
  },
  {
   "cell_type": "markdown",
   "id": "56f6f41a",
   "metadata": {},
   "source": [
    "# End"
   ]
  }
 ],
 "metadata": {},
 "nbformat": 4,
 "nbformat_minor": 5
}
