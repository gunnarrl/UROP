{
 "cells": [
  {
   "cell_type": "markdown",
   "id": "ce3a9bb4",
   "metadata": {},
   "source": [
    "## Import necessary packages"
   ]
  },
  {
   "cell_type": "code",
   "execution_count": null,
   "id": "8a38f14c",
   "metadata": {},
   "outputs": [],
   "source": [
    "import xlrd\n",
    "import pandas as pd\n",
    "import numpy as np\n",
    "import seaborn as sns\n",
    "import hypertools as hyp\n",
    "import matplotlib.pyplot as plt\n",
    "%matplotlib inline\n",
    "sns.set_context('poster')"
   ]
  },
  {
   "cell_type": "markdown",
   "id": "06771ca5",
   "metadata": {},
   "source": [
    "## Read in data"
   ]
  },
  {
   "cell_type": "code",
   "execution_count": null,
   "id": "efe1175f",
   "metadata": {},
   "outputs": [],
   "source": [
    "data = pd.read_excel('GSS 3.xlsx', sheetname='Data')"
   ]
  },
  {
   "cell_type": "code",
   "execution_count": null,
   "id": "2328f014",
   "metadata": {},
   "outputs": [],
   "source": [
    "data.head()"
   ]
  },
  {
   "cell_type": "markdown",
   "id": "c3a937a9",
   "metadata": {},
   "source": [
    "## Create new data frames only looking at happiness, work, and demographic factors"
   ]
  },
  {
   "cell_type": "code",
   "execution_count": null,
   "id": "eb02e5af",
   "metadata": {},
   "outputs": [],
   "source": [
    "#list of happiness factors\n",
    "happiness = ['Standard of living of r will improve', \n",
    "             'How much time felt sad in past wk', \n",
    "             'How much time felt happy in past wk',\n",
    "             'How much time felt depressed in past wk',\n",
    "             'I am meeting my current goals',\n",
    "             'I see myself as successful',\n",
    "             'I expect more good things to happen to me than bad',\n",
    "             'I\\'m always optimistic about my future',\n",
    "             'Happiness of marriage',\n",
    "             'General happiness',\n",
    "             'Happiness of relt with partner',\n",
    "             'Condition of health',\n",
    "             'Satisfaction with financial situation',\n",
    "             'Rs self ranking of social position',\n",
    "             'Is life exciting or dull']\n",
    "\n",
    "#list of work factors\n",
    "work = ['Rs income in constant $',\n",
    "        'Rs job is useful to society',\n",
    "        'R has opportunity to advance',\n",
    "        'Rs income is high',\n",
    "        'Rs job is secure',\n",
    "        'The highest degree r have earned',\n",
    "        'Respondents income',\n",
    "        'Rs living standard compared to parents',\n",
    "        'Respondents income',\n",
    "        'Living with parents when 16 yrs old',\n",
    "        'Marital status',\n",
    "        'Number of hours usually work a week',\n",
    "        'Job or housework',\n",
    "        'Is r likely to lose job']\n",
    "\n",
    "#list of demographic factors\n",
    "demo = ['Ballot used for interview', \n",
    "        'Gss year for this respondent                       ',\n",
    "        'Year of birth',\n",
    "        'Region of interview',\n",
    "        'Was r born in this country']"
   ]
  },
  {
   "cell_type": "code",
   "execution_count": null,
   "id": "212fc38d",
   "metadata": {},
   "outputs": [],
   "source": [
    "demo_df = data[demo]\n",
    "happiness_df = data[happiness]\n",
    "work_df = data[work]"
   ]
  },
  {
   "cell_type": "markdown",
   "id": "04cbd786",
   "metadata": {},
   "source": [
    "## Is happiness data clustered in any way?"
   ]
  },
  {
   "cell_type": "code",
   "execution_count": null,
   "id": "1fc0241e",
   "metadata": {},
   "outputs": [],
   "source": [
    "hyp.plot(happiness_df, '.', group = happiness_df['General happiness'], legend = list(happiness_df['General happiness'].unique()))"
   ]
  },
  {
   "cell_type": "code",
   "execution_count": null,
   "id": "508e086b",
   "metadata": {},
   "outputs": [],
   "source": [
    "for factor in happiness:\n",
    "    print(factor)\n",
    "    hyp.plot(happiness_df, '.', group=happiness_df[factor], legend = list(happiness_df[factor].unique()))"
   ]
  },
  {
   "cell_type": "markdown",
   "id": "adbbe0ae",
   "metadata": {},
   "source": [
    "## Overall, how many respondents consider themselves happy?"
   ]
  },
  {
   "cell_type": "code",
   "execution_count": null,
   "id": "e0eedf2b",
   "metadata": {},
   "outputs": [],
   "source": [
    "sns.countplot('General happiness', data = data, order = ['Very happy', 'Pretty happy', 'Not too happy', \"Don't know\", 'No answer'])"
   ]
  },
  {
   "cell_type": "markdown",
   "id": "33a14bba",
   "metadata": {},
   "source": [
    "## What does work look like for different levels of happiness?"
   ]
  },
  {
   "cell_type": "code",
   "execution_count": null,
   "id": "c985e3d3",
   "metadata": {},
   "outputs": [],
   "source": [
    "sns.swarmplot(data = data, x='General happiness', y='Rs income in constant $')"
   ]
  },
  {
   "cell_type": "code",
   "execution_count": null,
   "id": "15494b73",
   "metadata": {},
   "outputs": [],
   "source": [
    "sns.violinplot(data = data, x='General happiness', y='Rs income in constant $', order = ['Very happy', 'Pretty happy', 'Not too happy', \"Don't know\"])"
   ]
  },
  {
   "cell_type": "code",
   "execution_count": null,
   "id": "cbb19ff3",
   "metadata": {},
   "outputs": [],
   "source": [
    "sns.boxplot(data = data, x='General happiness', y='Rs income in constant $', order = ['Very happy', 'Pretty happy', 'Not too happy', \"Don't know\"])"
   ]
  },
  {
   "cell_type": "code",
   "execution_count": null,
   "id": "a56d1490",
   "metadata": {},
   "outputs": [],
   "source": [
    "#create a data frame for people who answered \"pretty happy\"\n",
    "pretty_happy = data.loc[data['General happiness'] == 'Pretty happy']\n",
    "\n",
    "#create a data frame for people who answered \"very happy\"\n",
    "very_happy = data.loc[data['General happiness'] == 'Very happy']\n",
    "\n",
    "#create a data frame for people who answered \"not too happy\"\n",
    "not_too_happy = data.loc[data['General happiness'] == 'Not too happy']"
   ]
  },
  {
   "cell_type": "markdown",
   "id": "8b3f6154",
   "metadata": {},
   "source": [
    "### Income"
   ]
  },
  {
   "cell_type": "code",
   "execution_count": null,
   "id": "ee582239",
   "metadata": {},
   "outputs": [],
   "source": [
    "sns.countplot('Rs income in constant $', data = very_happy)\n",
    "plt.title('Very happy')\n",
    "plt.xticks(rotation=90)\n",
    "plt.ylim(0, 60)\n",
    "plt.show()\n",
    "\n",
    "sns.countplot('Rs income in constant $', data = pretty_happy)\n",
    "plt.title('Pretty happy')\n",
    "plt.xticks(rotation=90)\n",
    "plt.ylim(0, 100)\n",
    "plt.show()\n",
    "\n",
    "sns.countplot('Rs income in constant $', data = not_too_happy)\n",
    "plt.title('Not too happy')\n",
    "plt.xticks(rotation=90)\n",
    "plt.ylim(0, 20)\n",
    "plt.show()"
   ]
  },
  {
   "cell_type": "markdown",
   "id": "d5e53968",
   "metadata": {},
   "source": [
    "### Job satisfaction"
   ]
  },
  {
   "cell_type": "code",
   "execution_count": null,
   "id": "4da68b6e",
   "metadata": {},
   "outputs": [],
   "source": [
    "sns.countplot('Job or housework', data = very_happy, order = ['Very satisfied', 'Mod. satisfied', 'A little dissat', 'Very dissatisfied', \"Don't know\", 'Not applicable', 'No answer'])\n",
    "plt.title('Very happy')\n",
    "plt.xticks(rotation=90)\n",
    "#plt.ylim(0, 100)\n",
    "plt.show()\n",
    "\n",
    "sns.countplot('Job or housework', data = pretty_happy, order = ['Very satisfied', 'Mod. satisfied', 'A little dissat', 'Very dissatisfied', \"Don't know\", 'Not applicable', 'No answer'])\n",
    "plt.title('Pretty happy')\n",
    "plt.xticks(rotation=90)\n",
    "#plt.ylim(0, 60)\n",
    "plt.show()\n",
    "\n",
    "sns.countplot('Job or housework', data = not_too_happy, order = ['Very satisfied', 'Mod. satisfied', 'A little dissat', 'Very dissatisfied', \"Don't know\", 'Not applicable', 'No answer'])\n",
    "plt.title('Not too happy')\n",
    "plt.xticks(rotation=90)\n",
    "#plt.ylim(0, 20)\n",
    "plt.show()"
   ]
  },
  {
   "cell_type": "markdown",
   "id": "36006f71",
   "metadata": {},
   "source": [
    "### Job security"
   ]
  },
  {
   "cell_type": "code",
   "execution_count": null,
   "id": "0ea8d3fe",
   "metadata": {},
   "outputs": [],
   "source": [
    "sns.countplot('Rs job is secure', data = very_happy, order = ['Strongly agree', 'Agree', 'Neither', 'Disagree', 'Strongly disagree', 'No issp'])\n",
    "plt.title('Very happy')\n",
    "plt.xticks(rotation=90)\n",
    "plt.ylim(0, 150)\n",
    "plt.show()\n",
    "\n",
    "sns.countplot('Rs job is secure', data = pretty_happy, order = ['Strongly agree', 'Agree', 'Neither', 'Disagree', 'Strongly disagree', 'No issp'])\n",
    "plt.xticks(rotation=90)\n",
    "plt.ylim(0, 250)\n",
    "plt.show()\n",
    "\n",
    "sns.countplot('Rs job is secure', data = not_too_happy, order = ['Strongly agree', 'Agree', 'Neither', 'Disagree', 'Strongly disagree', 'No issp'])\n",
    "plt.title('Not too happy')\n",
    "plt.xticks(rotation=90)\n",
    "plt.ylim(0, 50)\n",
    "plt.show()"
   ]
  },
  {
   "cell_type": "markdown",
   "id": "ec1b3b2d",
   "metadata": {},
   "source": [
    "### Graph with percentages instead of counts"
   ]
  },
  {
   "cell_type": "code",
   "execution_count": null,
   "id": "cf238dbd",
   "metadata": {},
   "outputs": [],
   "source": [
    "#write function to get percentages by dividing value count of each by total count\n",
    "\n",
    "def answer(df, factor):\n",
    "    \n",
    "    #make list for all unique answers\n",
    "    answers = []\n",
    "    \n",
    "    for answer in range(0, len(df[factor].value_counts())):\n",
    "        answers.append(df[factor].value_counts().index[answer])\n",
    "        \n",
    "    return answers\n",
    "\n",
    "def percentage(df, factor):\n",
    "    \n",
    "    #make list for all percentages\n",
    "    percentage_list = []\n",
    "    \n",
    "    #get percentages\n",
    "    for answer in range(0, len(df[factor].value_counts())):\n",
    "        percentage_list.append(df[factor].value_counts()[answer]/sum(df[factor].value_counts()))\n",
    "    \n",
    "    return percentage_list"
   ]
  },
  {
   "cell_type": "code",
   "execution_count": null,
   "id": "c667e613",
   "metadata": {},
   "outputs": [],
   "source": [
    "#wrong bc value_counts and unique() are not in same order\n",
    "x = answer(very_happy, 'Job or housework')\n",
    "print(x)\n",
    "\n",
    "y = percentage(very_happy, 'Job or housework')\n",
    "print(y)\n",
    "\n",
    "sns.barplot(x = x, y = y, order = ['Very satisfied', 'Mod. satisfied', 'A little dissat', 'Very dissatisfied', \"Don't know\", 'Not applicable', 'No answer'])"
   ]
  }
 ],
 "metadata": {},
 "nbformat": 4,
 "nbformat_minor": 5
}
