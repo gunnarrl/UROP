{
 "cells": [
  {
   "cell_type": "markdown",
   "id": "35357bca",
   "metadata": {},
   "source": [
    "### Importamos las librerias necesitaremos"
   ]
  },
  {
   "cell_type": "code",
   "execution_count": null,
   "id": "89438be5",
   "metadata": {},
   "outputs": [],
   "source": [
    "import pandas as pd"
   ]
  },
  {
   "cell_type": "code",
   "execution_count": null,
   "id": "03b93d62",
   "metadata": {},
   "outputs": [],
   "source": [
    "import seaborn as sns"
   ]
  },
  {
   "cell_type": "code",
   "execution_count": null,
   "id": "57f827f4",
   "metadata": {},
   "outputs": [],
   "source": [
    "import matplotlib.pyplot as plt"
   ]
  },
  {
   "cell_type": "markdown",
   "id": "5fc0919a",
   "metadata": {},
   "source": [
    "### Leemos el excel, ignorando las 2 primeras filas ya que no nos interesan, y luego le quitamos todas las filas vacias que tiene"
   ]
  },
  {
   "cell_type": "code",
   "execution_count": null,
   "id": "48adcbdf",
   "metadata": {},
   "outputs": [],
   "source": [
    "data = pd.read_excel('data.csv',skiprows=2)"
   ]
  },
  {
   "cell_type": "code",
   "execution_count": null,
   "id": "468ea472",
   "metadata": {},
   "outputs": [],
   "source": [
    "data.dropna(inplace=True)"
   ]
  },
  {
   "cell_type": "markdown",
   "id": "29943341",
   "metadata": {},
   "source": [
    "### Primer vistazo a los datos"
   ]
  },
  {
   "cell_type": "code",
   "execution_count": null,
   "id": "b7c2ef9e",
   "metadata": {},
   "outputs": [],
   "source": [
    "data.head()"
   ]
  },
  {
   "cell_type": "markdown",
   "id": "ed8a2fab",
   "metadata": {},
   "source": [
    "### Promedio de Oxido nitroso en esos 2 dias"
   ]
  },
  {
   "cell_type": "code",
   "execution_count": null,
   "id": "410b10a8",
   "metadata": {},
   "outputs": [],
   "source": [
    "data['NO2'].mean()"
   ]
  },
  {
   "cell_type": "markdown",
   "id": "9b2cce29",
   "metadata": {},
   "source": [
    "### Convirtiendo el campo de fecha a un campo de Fecha Real"
   ]
  },
  {
   "cell_type": "code",
   "execution_count": null,
   "id": "71959edf",
   "metadata": {},
   "outputs": [],
   "source": [
    "data['Date'] = pd.to_datetime(data['Date&Time'])"
   ]
  },
  {
   "cell_type": "markdown",
   "id": "241e4c6d",
   "metadata": {},
   "source": [
    "### Nos aseguramos que el nuevo campo Date haya sido creado"
   ]
  },
  {
   "cell_type": "code",
   "execution_count": null,
   "id": "57693d3a",
   "metadata": {},
   "outputs": [],
   "source": [
    "data.head()"
   ]
  },
  {
   "cell_type": "code",
   "execution_count": null,
   "id": "bcd682e0",
   "metadata": {},
   "outputs": [],
   "source": [
    "%matplotlib inline"
   ]
  },
  {
   "cell_type": "markdown",
   "id": "e867b80c",
   "metadata": {},
   "source": [
    "### Creamos un indice con el campo fecha para poder trabajar en graficas con ellas."
   ]
  },
  {
   "cell_type": "code",
   "execution_count": null,
   "id": "279338d8",
   "metadata": {},
   "outputs": [],
   "source": [
    "index = pd.DatetimeIndex(data['Date'])"
   ]
  },
  {
   "cell_type": "markdown",
   "id": "c64fa98a",
   "metadata": {},
   "source": [
    "### Empezamos a graficar, se hace una Serie con el campo que queremos y el indice, se crea el plot y se guarda en disco"
   ]
  },
  {
   "cell_type": "code",
   "execution_count": null,
   "id": "938e8073",
   "metadata": {},
   "outputs": [],
   "source": [
    "dataO3 = pd.Series(data['O3'].values, index=index)\n",
    "plot = dataO3.plot(kind='line',title='O3 en horas del 1 y 2 de Diciembre del 2018',legend=True, label='Nivel de O3')\n",
    "figure = plot.get_figure()\n",
    "figure.savefig(\"O3.png\")"
   ]
  },
  {
   "cell_type": "code",
   "execution_count": null,
   "id": "d4798bba",
   "metadata": {},
   "outputs": [],
   "source": [
    "dataNO = pd.Series(data['NO'].values, index=index)\n",
    "plot = dataNO.plot(kind='line',title='NO en horas del 1 y 2 de Diciembre del 2018',legend=True,color='g', label='Nivel de NO')\n",
    "figure = plot.get_figure()\n",
    "figure.savefig(\"NO.png\")"
   ]
  },
  {
   "cell_type": "code",
   "execution_count": null,
   "id": "2ee07c9d",
   "metadata": {},
   "outputs": [],
   "source": [
    "dataNO2 = pd.Series(data['NO2'].values, index=index)\n",
    "plot = dataNO2.plot(kind='line',title='NO2 en horas del 1 y 2 de Diciembre del 2018',legend=True,color='r', label='Nivel de NO2')\n",
    "figure = plot.get_figure()\n",
    "figure.savefig(\"NO2.png\")"
   ]
  },
  {
   "cell_type": "code",
   "execution_count": null,
   "id": "36e26b34",
   "metadata": {},
   "outputs": [],
   "source": [
    "dataSO2 = pd.Series(data['SO2'].values, index=index)\n",
    "plot = dataSO2.plot(kind='line',title='SO2 en horas del 1 y 2 de Diciembre del 2018',color='y',legend=True, label='Nivel de SO2')\n",
    "figure = plot.get_figure()\n",
    "figure.savefig(\"SO2.png\")"
   ]
  },
  {
   "cell_type": "code",
   "execution_count": null,
   "id": "b8a13317",
   "metadata": {},
   "outputs": [],
   "source": [
    "dataPM = pd.Series(data['PM2.5'].values, index=index)\n",
    "plot = dataPM.plot(kind='line',title='PM2.5 en horas del 1 y 2 de Diciembre del 2018',color='b',legend=True, label='Nivel de PM2.5')\n",
    "figure = plot.get_figure()\n",
    "figure.savefig(\"PM.png\")"
   ]
  },
  {
   "cell_type": "code",
   "execution_count": null,
   "id": "f6a3d421",
   "metadata": {},
   "outputs": [],
   "source": [
    "dataNOx = pd.Series(data['NOx'].values, index=index)\n",
    "plot = dataNOx.plot(kind='line',title='NOx en horas del 1 y 2 de Diciembre del 2018',color='g',legend=True, label='Nivel de NOx')\n",
    "figure = plot.get_figure()\n",
    "figure.savefig(\"NOx.png\")"
   ]
  },
  {
   "cell_type": "code",
   "execution_count": null,
   "id": "b1f9e866",
   "metadata": {},
   "outputs": [],
   "source": [
    "def to_number(n):\n",
    "    if(isinstance(n, float) or isinstance(n,int)):\n",
    "        return n\n",
    "    else:\n",
    "        return float(n.replace(' ',''))\n",
    "    "
   ]
  },
  {
   "cell_type": "markdown",
   "id": "2570b50f",
   "metadata": {},
   "source": [
    "### El campo de \"CO\", tiene algunos numeros mal, por lo que reemplazamos espacios vacios para poder convertirlos a numeros"
   ]
  },
  {
   "cell_type": "code",
   "execution_count": null,
   "id": "19285bab",
   "metadata": {},
   "outputs": [],
   "source": [
    "data['CO'] = data['CO'].map(to_number)"
   ]
  },
  {
   "cell_type": "code",
   "execution_count": null,
   "id": "24642207",
   "metadata": {},
   "outputs": [],
   "source": [
    "dataCO = pd.Series(data['CO'].values, index=index)\n",
    "pd.to_numeric(dataCO, errors='coerce')\n",
    "plot = dataCO.plot(kind='line',title='NOx en horas del 1 y 2 de Diciembre del 2018',color='r',legend=True, label='Nivel de CO')\n",
    "figure = plot.get_figure()\n",
    "figure.savefig(\"CO.png\")"
   ]
  }
 ],
 "metadata": {},
 "nbformat": 4,
 "nbformat_minor": 5
}
