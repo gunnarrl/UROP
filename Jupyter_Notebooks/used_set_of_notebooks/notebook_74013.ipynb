{
 "cells": [
  {
   "cell_type": "markdown",
   "id": "c57d9c85",
   "metadata": {},
   "source": [
    "# Using AWS Rekognition to recognise faces"
   ]
  },
  {
   "cell_type": "markdown",
   "id": "5fe041b4",
   "metadata": {},
   "source": [
    "### TODO : Set your bucket name here"
   ]
  },
  {
   "cell_type": "code",
   "execution_count": null,
   "id": "ef1b5179",
   "metadata": {},
   "outputs": [],
   "source": [
    "bucket_name = 'applied-ai-20180924150202'\n",
    "image_path = '../lfw'"
   ]
  },
  {
   "cell_type": "markdown",
   "id": "2a79740f",
   "metadata": {},
   "source": [
    "### Imports"
   ]
  },
  {
   "cell_type": "code",
   "execution_count": null,
   "id": "cb645f76",
   "metadata": {},
   "outputs": [],
   "source": [
    "import os\n",
    "import sys\n",
    "sys.path.append('../') \n",
    "\n",
    "import random\n",
    "import pandas\n",
    "import numpy as np\n",
    "from sklearn.model_selection import train_test_split\n",
    "import matplotlib.pyplot as plt\n",
    "%matplotlib inline\n",
    "import cv2\n",
    "\n",
    "from utils import show_side_by_side, load_image_as_array\n",
    "from aws_rekognition import train, test"
   ]
  },
  {
   "cell_type": "markdown",
   "id": "7621aa3a",
   "metadata": {},
   "source": [
    "### Create an array of images from our dataset"
   ]
  },
  {
   "cell_type": "markdown",
   "id": "7a0dff37",
   "metadata": {},
   "source": [
    "Create 2 arrays, X and y, containing our training data.  In machine learning terminology, X is the data (in our case the file path for the images) and y is the labels. For this example, we'll use a mix of images of David Beckham and Serena Williams from the LFW dataset."
   ]
  },
  {
   "cell_type": "code",
   "execution_count": null,
   "id": "93f6b159",
   "metadata": {},
   "outputs": [],
   "source": [
    "X = []\n",
    "y = []\n",
    "names = ['david_beckham', 'serena_williams']\n",
    "for name in names:\n",
    "    for image in os.listdir(os.path.join(image_path, name)):\n",
    "        filename = os.path.join(image_path, name, image) \n",
    "        X.append(filename)\n",
    "        y.append(name)\n",
    "X = np.array(X)\n",
    "y = np.array(y)"
   ]
  },
  {
   "cell_type": "code",
   "execution_count": null,
   "id": "ecc69d65",
   "metadata": {},
   "outputs": [],
   "source": [
    "y"
   ]
  },
  {
   "cell_type": "code",
   "execution_count": null,
   "id": "1acf9bdb",
   "metadata": {},
   "outputs": [],
   "source": [
    "# def show_side_by_side(images:list, cmap:str='gray', figsize:tuple=None, labels:list=[])->None:\n",
    "#     \"\"\"Pass a list of images to display them side by side\"\"\"\n",
    "#     fig, axes = plt.subplots(ncols=len(images), nrows=1)\n",
    "    \n",
    "#     if figsize:\n",
    "#         fig.set_size_inches(*figsize)\n",
    "        \n",
    "#     for i, im in enumerate(images):\n",
    "#         axes[i].imshow(im, cmap=cmap)\n",
    "#         axes[i].set_xticks([])\n",
    "#         axes[i].set_yticks([])\n",
    "        \n",
    "#     if len(labels) > 0:\n",
    "#         for i, label in enumerate(labels):\n",
    "#             axes[i].set_title(label)\n",
    "    \n",
    "#     plt.tight_layout()\n",
    "    \n",
    "# def load_image_as_array(path:str)->np.ndarray:\n",
    "#     \"\"\"Load image from disk into numpy array\"\"\"\n",
    "#     img = cv2.cvtColor(cv2.imread(path), cv2.COLOR_BGR2RGB)\n",
    "#     return img\n",
    "\n",
    "def get_samples(X, y, num_samples=5):\n",
    "    samples = [random.randint(0, len(X) - 1) for i in range(num_samples)]\n",
    "    images = [load_image_as_array(image) for image in (X[samples])]\n",
    "    labels = y[samples]\n",
    "    return images, labels"
   ]
  },
  {
   "cell_type": "markdown",
   "id": "0ac04a55",
   "metadata": {},
   "source": [
    "### Let's look at a sample of the images\n",
    "Create an index of 5 sample images to see what we have"
   ]
  },
  {
   "cell_type": "code",
   "execution_count": null,
   "id": "d7b23402",
   "metadata": {},
   "outputs": [],
   "source": [
    "images, labels = get_samples(X, y)\n",
    "show_side_by_side(images, figsize=(100,100), labels=labels) "
   ]
  },
  {
   "cell_type": "markdown",
   "id": "77ca02bf",
   "metadata": {},
   "source": [
    "### Let's split our data into training and testing data\n",
    "\n",
    "Obvioulsy, to do this properly we'd use more than just one person as this is going to overfit"
   ]
  },
  {
   "cell_type": "code",
   "execution_count": null,
   "id": "b5dbf355",
   "metadata": {},
   "outputs": [],
   "source": [
    "X_train, X_test, y_train, y_test = train_test_split(X, y, test_size=0.2, random_state=42)"
   ]
  },
  {
   "cell_type": "markdown",
   "id": "c8780cad",
   "metadata": {},
   "source": [
    "* Let's view our train and testing data"
   ]
  },
  {
   "cell_type": "code",
   "execution_count": null,
   "id": "acde2c51",
   "metadata": {},
   "outputs": [],
   "source": [
    "[d for d in zip(X_train, y_train)]"
   ]
  },
  {
   "cell_type": "code",
   "execution_count": null,
   "id": "5e648aca",
   "metadata": {},
   "outputs": [],
   "source": [
    "[d for d in zip(X_test, y_test)]"
   ]
  },
  {
   "cell_type": "markdown",
   "id": "605f65f7",
   "metadata": {},
   "source": [
    "### Now let's train Rekognition by copying our images to the S3 bucket"
   ]
  },
  {
   "cell_type": "code",
   "execution_count": null,
   "id": "892446d9",
   "metadata": {},
   "outputs": [],
   "source": [
    "train(X_train, y_train, bucket_name)"
   ]
  },
  {
   "cell_type": "markdown",
   "id": "4daf96ed",
   "metadata": {},
   "source": [
    "### Now let's test Rekognition to see how accurate it is\n",
    "We'll use our test dataset for this"
   ]
  },
  {
   "cell_type": "code",
   "execution_count": null,
   "id": "b4b6ce8a",
   "metadata": {},
   "outputs": [],
   "source": [
    "images, labels = get_samples(np.array(X_test), np.array(y_test))"
   ]
  },
  {
   "cell_type": "code",
   "execution_count": null,
   "id": "e2097daf",
   "metadata": {},
   "outputs": [],
   "source": [
    "def show_image(image):\n",
    "    img = image.squeeze()\n",
    "    plt.axis(\"off\")\n",
    "    plt.imshow(img, cmap='gray', interpolation='nearest')  # Manipulation to display image in the correct orientation!\n",
    "    plt.show() "
   ]
  },
  {
   "cell_type": "code",
   "execution_count": null,
   "id": "df842266",
   "metadata": {},
   "outputs": [],
   "source": [
    "for image, label in zip(X_test, y_test):\n",
    "    print('Testing image {}'.format(image))\n",
    "    img = load_image_as_array(image)\n",
    "    show_image(img) \n",
    "    inferred = test(image)\n",
    "    print(inferred)\n",
    "    break"
   ]
  }
 ],
 "metadata": {},
 "nbformat": 4,
 "nbformat_minor": 5
}
