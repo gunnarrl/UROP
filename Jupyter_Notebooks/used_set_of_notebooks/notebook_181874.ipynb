{
 "cells": [
  {
   "cell_type": "code",
   "execution_count": null,
   "id": "f4921fc9",
   "metadata": {},
   "outputs": [],
   "source": [
    "import azureml.dataprep as dprep\n",
    "\n",
    "dflow = dprep.auto_read_file(path='./data/train.csv')\n",
    "dflow.head(5)"
   ]
  },
  {
   "cell_type": "markdown",
   "id": "b3cd6b05",
   "metadata": {},
   "source": [
    "## get_profile"
   ]
  },
  {
   "cell_type": "code",
   "execution_count": null,
   "id": "590098ab",
   "metadata": {},
   "outputs": [],
   "source": [
    "dflow.get_profile()"
   ]
  },
  {
   "cell_type": "markdown",
   "id": "0f60285c",
   "metadata": {},
   "source": [
    "## substring"
   ]
  },
  {
   "cell_type": "code",
   "execution_count": null,
   "id": "e2aed6b9",
   "metadata": {},
   "outputs": [],
   "source": [
    "cabin_not_null_filter = dprep.f_not(dprep.col('Cabin').is_null())\n",
    "\n",
    "substr_exp = dprep.col('Cabin').substring(0, 1)\n",
    "out = dflow.filter(cabin_not_null_filter).add_column(\n",
    "    expression=substr_exp, new_column_name='CabinCode', prior_column='Cabin')\n",
    "out.head(5)"
   ]
  },
  {
   "cell_type": "markdown",
   "id": "cb07cbd1",
   "metadata": {},
   "source": [
    "## to_bool"
   ]
  },
  {
   "cell_type": "code",
   "execution_count": null,
   "id": "23464649",
   "metadata": {},
   "outputs": [],
   "source": [
    "from azureml.dataprep import MismatchAsOption\n",
    "\n",
    "out = dflow.to_bool(['Survived'], true_values=['yes'], false_values=['no'], mismatch_as=MismatchAsOption.ASFALSE)\n",
    "out.head(5)"
   ]
  },
  {
   "cell_type": "markdown",
   "id": "d48daeca",
   "metadata": {},
   "source": [
    "## to_number"
   ]
  },
  {
   "cell_type": "code",
   "execution_count": null,
   "id": "d72fadde",
   "metadata": {},
   "outputs": [],
   "source": [
    "from azureml.dataprep import DecimalMark\n",
    "\n",
    "def transform(df, index):\n",
    "    df['Latitude'] = '53,346532'\n",
    "    df['Longitude'] = '-6,246138'\n",
    "    return df\n",
    "\n",
    "out = dflow.map_partition(fn=transform).to_number(['Latitude', 'Longitude'], decimal_point=DecimalMark.COMMA)\n",
    "out.head()"
   ]
  },
  {
   "cell_type": "markdown",
   "id": "74dd6380",
   "metadata": {},
   "source": [
    "## to_datetime"
   ]
  },
  {
   "cell_type": "code",
   "execution_count": null,
   "id": "a95d2b18",
   "metadata": {},
   "outputs": [],
   "source": [
    "def transform(df, index):\n",
    "    df['Date'] = '01.01.2020 11:11'\n",
    "    return df\n",
    "\n",
    "out = dflow.map_partition(fn=transform).to_datetime('Date', date_time_formats=['%d.%m.%Y %H:%M'])\n",
    "out.head(5)"
   ]
  },
  {
   "cell_type": "markdown",
   "id": "e32b33cb",
   "metadata": {},
   "source": [
    "## derive_column_by_example"
   ]
  },
  {
   "cell_type": "code",
   "execution_count": null,
   "id": "8337f55a",
   "metadata": {},
   "outputs": [],
   "source": [
    "df = dflow.head(5)\n",
    "\n",
    "builder = dflow.builders.derive_column_by_example(source_columns=['Name'], new_column_name='Title')\n",
    "builder.add_example(source_data=df.iloc[0], example_value='Mr')\n",
    "builder.add_example(source_data=df.iloc[1], example_value='Mrs')\n",
    "builder.add_example(source_data=df.iloc[2], example_value='Miss')\n",
    "builder.add_example(source_data=df.iloc[3], example_value='Mrs')\n",
    "builder.preview(count=10)"
   ]
  },
  {
   "cell_type": "code",
   "execution_count": null,
   "id": "150053b5",
   "metadata": {},
   "outputs": [],
   "source": [
    "out = builder.to_dataflow()\n",
    "out.head(5)"
   ]
  },
  {
   "cell_type": "markdown",
   "id": "10895f41",
   "metadata": {},
   "source": [
    "## ImputeColumnArguments"
   ]
  },
  {
   "cell_type": "code",
   "execution_count": null,
   "id": "900b97fd",
   "metadata": {},
   "outputs": [],
   "source": [
    "impute_embarked = dprep.ImputeColumnArguments(column_id='Embarked', custom_impute_value='S')"
   ]
  },
  {
   "cell_type": "code",
   "execution_count": null,
   "id": "05e04f2e",
   "metadata": {},
   "outputs": [],
   "source": [
    "from azureml.dataprep import StringMissingReplacementOption\n",
    "\n",
    "impute_cabin = dprep.ImputeColumnArguments(column_id='Cabin', impute_function=dprep.ReplaceValueFunction.MIN,\n",
    "  string_missing_option=StringMissingReplacementOption.NULLSANDEMPTY)\n",
    "\n",
    "impute_age = dprep.ImputeColumnArguments(column_id='Age', impute_function=dprep.ReplaceValueFunction.MEAN,\n",
    "  string_missing_option=StringMissingReplacementOption.NULLSANDEMPTY)"
   ]
  },
  {
   "cell_type": "code",
   "execution_count": null,
   "id": "7cb42aca",
   "metadata": {},
   "outputs": [],
   "source": [
    "impute_builder = dflow.builders.impute_missing_values(\n",
    "  impute_columns=[impute_embarked, impute_cabin, impute_age], group_by_columns=['Sex', 'Pclass'])\n",
    "impute_builder.learn()\n",
    "\n",
    "out = impute_builder.to_dataflow()\n",
    "out.head(5)"
   ]
  },
  {
   "cell_type": "code",
   "execution_count": null,
   "id": "0e600356",
   "metadata": {},
   "outputs": [],
   "source": [
    "out.get_profile()"
   ]
  },
  {
   "cell_type": "markdown",
   "id": "8451edfb",
   "metadata": {},
   "source": [
    "## label_encode"
   ]
  },
  {
   "cell_type": "code",
   "execution_count": null,
   "id": "0b55b564",
   "metadata": {},
   "outputs": [],
   "source": [
    "out = dflow.label_encode(source_column='Sex', new_column_name='Sex_Label').drop_columns(['Sex'])\n",
    "out.head(5)"
   ]
  },
  {
   "cell_type": "markdown",
   "id": "9d19afd0",
   "metadata": {},
   "source": [
    "## one_hot_encode"
   ]
  },
  {
   "cell_type": "code",
   "execution_count": null,
   "id": "55bc095b",
   "metadata": {},
   "outputs": [],
   "source": [
    "out = dflow.one_hot_encode(source_column='Embarked', prefix='Embarked_').drop_columns(['Embarked'])\n",
    "out.head(5)"
   ]
  },
  {
   "cell_type": "markdown",
   "id": "4691572e",
   "metadata": {},
   "source": [
    "## fuzzy_group_column"
   ]
  },
  {
   "cell_type": "code",
   "execution_count": null,
   "id": "13ffefcd",
   "metadata": {},
   "outputs": [],
   "source": [
    "# requires version 0.5.3\n",
    "# https://github.com/microsoft/AMLDataPrepDocs/issues/61\n",
    "# out = dflow.fuzzy_group_column(source_column='Ticket', new_column_name='Ticket_Groups',\n",
    "#  similarity_threshold=0.75, similarity_score_column_name='similarity_score')\n",
    "# out.head(5)"
   ]
  },
  {
   "cell_type": "markdown",
   "id": "06f6f4ec",
   "metadata": {},
   "source": [
    "## quantile_transform"
   ]
  },
  {
   "cell_type": "code",
   "execution_count": null,
   "id": "6744f782",
   "metadata": {},
   "outputs": [],
   "source": [
    "out = dflow.quantile_transform(source_column='Fare', new_column='Fare_Normal',\n",
    "  quantiles_count=5, output_distribution=\"Normal\").drop_columns(['Fare'])\n",
    "out.head(5)"
   ]
  },
  {
   "cell_type": "markdown",
   "id": "59b0a6de",
   "metadata": {},
   "source": [
    "## min_max_scale"
   ]
  },
  {
   "cell_type": "code",
   "execution_count": null,
   "id": "0bd4509e",
   "metadata": {},
   "outputs": [],
   "source": [
    "out = dflow.min_max_scale(column='Parch', range_min=0, range_max=1)\n",
    "out.head(5)"
   ]
  },
  {
   "cell_type": "markdown",
   "id": "f4586518",
   "metadata": {},
   "source": [
    "## filter"
   ]
  },
  {
   "cell_type": "code",
   "execution_count": null,
   "id": "9ff52b94",
   "metadata": {},
   "outputs": [],
   "source": [
    "out = dflow.filter(dflow['PassengerId'] > dflow['Pclass'])\n",
    "out.head(5)"
   ]
  },
  {
   "cell_type": "code",
   "execution_count": null,
   "id": "bc2d0959",
   "metadata": {},
   "outputs": [],
   "source": [
    "out = dflow.filter(dprep.col('Fare') > 50)\n",
    "out.head(5)"
   ]
  },
  {
   "cell_type": "code",
   "execution_count": null,
   "id": "b4ea490a",
   "metadata": {},
   "outputs": [],
   "source": [
    "out = dflow.filter(dflow['Name'].starts_with('Cumings'))\n",
    "out.head(5)"
   ]
  },
  {
   "cell_type": "code",
   "execution_count": null,
   "id": "4bc390bb",
   "metadata": {},
   "outputs": [],
   "source": [
    "out = dflow.filter(dflow['Cabin'].ends_with('5'))\n",
    "out.head(5)"
   ]
  },
  {
   "cell_type": "code",
   "execution_count": null,
   "id": "adeeb0da",
   "metadata": {},
   "outputs": [],
   "source": [
    "out = dflow.filter(dprep.f_not(dprep.col('Survived').is_null()))\n",
    "out.head(5)"
   ]
  }
 ],
 "metadata": {},
 "nbformat": 4,
 "nbformat_minor": 5
}
