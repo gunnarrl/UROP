{
 "cells": [
  {
   "cell_type": "markdown",
   "id": "9bde1c65",
   "metadata": {},
   "source": [
    "# nlC3 Color Analysis Examples\n",
    "* __Parametric Difference Equation imaging methods__ _in the context of the Escape Time Algorithm_\n",
    "    * grayscale\n",
    "    * map directly to HSV\n",
    "    * color-map to RGB\n",
    "    \n",
    "#### Equation Definition Code:"
   ]
  },
  {
   "cell_type": "code",
   "execution_count": null,
   "id": "7133e571",
   "metadata": {},
   "outputs": [],
   "source": [
    "import cmath"
   ]
  },
  {
   "cell_type": "code",
   "execution_count": null,
   "id": "f30261e4",
   "metadata": {},
   "outputs": [],
   "source": [
    "\"\"\" get the external code files\"\"\"\n",
    "import warnings\n",
    "warnings.filterwarnings('ignore')\n",
    "\n",
    "import os\n",
    "import sys   \n",
    "import numpy as np\n",
    "import time\n",
    "\n",
    "from IPython.display import display\n",
    "\n",
    "sys.path.insert(1, '../src');\n",
    "import z_plane as zp\n",
    "import graphic_utility as gu;\n",
    "import itergataters as ig\n",
    "import numcolorpy as ncp\n",
    "\n",
    "\"\"\" known parameter sets  \"\"\"\n",
    "# tsty_64 = np.array([0.161145800333, 0.370248409961, 0.119609846764], dtype=complex)\n",
    "tsty_64 = np.array([0.161145800333, 0.370248409961, 0.119609846764])\n",
    "tsty_33 = [-0.112413777603, -0.350438576801, 0.377731470314]\n",
    "tsty_61 = [-0.107692385723, 1.539081783286, 0.584733068445]\n",
    "tsty_62 = [-1.077419657727, 1.079694186592, 0.567453371505]\n",
    "tsty_66 = [0.106699281931,-1.446300888486, 0.763588120232]\n",
    "tsty_77 = [0.046632473878, 0.223406467719, 1.386264134664]\n",
    "tsty_87 = [0.830928213916, 2.171631574827, -0.651878138495]\n",
    "\"\"\" define the equation \"\"\"\n",
    "def nlC3(Z, p, Z0=None, ET=None):\n",
    "    \"\"\" \n",
    "    Args:\n",
    "        Z:    a real or complex number\n",
    "        p:    a real of complex number\n",
    "    Returns:\n",
    "        Z:    the result (complex)\n",
    "    \"\"\"\n",
    "    # Z = Z^(2*Z^(-c(1)^(Z^-c(2))^(Z^-c(3))));\n",
    "    Z = Z**(2*Z**(-p[0]**( Z**-p[1] )**( Z**-p[2] )  ))\n",
    "    return Z"
   ]
  },
  {
   "cell_type": "markdown",
   "id": "5d861a5c",
   "metadata": {},
   "source": [
    "### ! MATLAB vs Python -- implausible complex number differences !"
   ]
  },
  {
   "cell_type": "code",
   "execution_count": null,
   "id": "429377ad",
   "metadata": {},
   "outputs": [],
   "source": [
    "Z = 1 + 1j\n",
    "print(Z)\n",
    "p = tsty_64\n",
    "print(nlC3(Z, p))\n",
    "print('MATLAB = 0.3485 + 2.7781i')\n",
    "\n",
    "# -c(3) = -0.119610 \n",
    "# Z^-c(3) =   0.9552 - 0.0900i\n",
    "\n",
    "# -c(2) = -0.370248 \n",
    "# Z^-c(2) =   0.8426 - 0.2522i"
   ]
  },
  {
   "cell_type": "markdown",
   "id": "253c97de",
   "metadata": {},
   "source": [
    "# Products of Escape Time Algorithm\n",
    "* ET, Z, Z0 = get_primitives( [ (function-name, function-parameters ) ], complex_plane_definition)\n",
    "    * Z0  = initial complex vector at each point (on the complex plane == the input image)\n",
    "    * ET  = Escape Time at each point\n",
    "    * Z   = final complex vector at each point"
   ]
  },
  {
   "cell_type": "code",
   "execution_count": null,
   "id": "f0632e50",
   "metadata": {},
   "outputs": [],
   "source": [
    "\"\"\" Define a complex plane point for each pixel \"\"\"\n",
    "par_set = {'n_rows': 700, 'n_cols': 500}\n",
    "par_set['center_point'] = 0.0 + 0.0*1j\n",
    "par_set['theta'] = np.pi / 2\n",
    "par_set['zoom'] = 3/4\n",
    "\n",
    "par_set['it_max'] = 64\n",
    "par_set['max_d'] = 10 / par_set['zoom']\n",
    "par_set['dir_path'] = os.getcwd()\n",
    "\n",
    "\"\"\" Define the function handle and numerical parameter set \"\"\"\n",
    "list_tuple = [(nlC3, (tsty_66))]\n",
    "t0 = time.time()\n",
    "\n",
    "\"\"\" Get the primitive products of the calculation \"\"\"\n",
    "ET_sm, Z_sm, Z0_sm = ig.get_primitives(list_tuple, par_set)\n",
    "print(time.time() - t0, '\\t calculate primitives total time')"
   ]
  },
  {
   "cell_type": "markdown",
   "id": "867e204a",
   "metadata": {},
   "source": [
    "# Normalized number planes for use as image color values\n",
    "* Zd, Zr, ETn = etg_norm(Z0, Z, ET)\n",
    "    * Zd  = distance at ET\n",
    "    * Zr  = rotation at ET\n",
    "    * ETn = ET"
   ]
  },
  {
   "cell_type": "code",
   "execution_count": null,
   "id": "0383d68c",
   "metadata": {},
   "outputs": [],
   "source": [
    "\"\"\" Normalize \"\"\"\n",
    "t0 = time.time()\n",
    "Zd_sm, Zr_sm, ETn_sm = ncp.etg_norm(Z0_sm, Z_sm, ET_sm)\n",
    "print(time.time() - t0, '\\t normalize primitives to color values')"
   ]
  },
  {
   "cell_type": "markdown",
   "id": "93320d00",
   "metadata": {},
   "source": [
    "# Grayscale\n",
    "* D = mat_to_gray(Zd, max_v=255, min_v=64)\n",
    "    * normalized number plane\n",
    "    * (optional) grascale parameters"
   ]
  },
  {
   "cell_type": "code",
   "execution_count": null,
   "id": "3b4d2114",
   "metadata": {},
   "outputs": [],
   "source": [
    "\"\"\" Number of iterations for each Vector at Escape Time as a full range grayscale  \"\"\"\n",
    "t0 = time.time()\n",
    "ETd = ncp.mat_to_gray(ETn_sm)\n",
    "print(time.time() - t0, '\\t grayscale converstion time')\n",
    "display(ETd)"
   ]
  },
  {
   "cell_type": "code",
   "execution_count": null,
   "id": "bb486f0a",
   "metadata": {},
   "outputs": [],
   "source": [
    "\"\"\" Vector Distance at Escape Time as a full range grayscale  \"\"\"\n",
    "t0 = time.time()\n",
    "D = ncp.mat_to_gray(Zd_sm, max_v=255, min_v=64)\n",
    "print(time.time() - t0, '\\t grayscale converstion time')\n",
    "display(D)"
   ]
  },
  {
   "cell_type": "code",
   "execution_count": null,
   "id": "ef49fda2",
   "metadata": {},
   "outputs": [],
   "source": [
    "\"\"\" Vector Rotation at Escape Time as a full range grayscale  \"\"\"\n",
    "t0 = time.time()\n",
    "R = ncp.mat_to_gray(Zr_sm, max_v=255, min_v=64)\n",
    "print(time.time() - t0, '\\t grayscale converstion time')\n",
    "display(R)"
   ]
  },
  {
   "cell_type": "markdown",
   "id": "fa8067bd",
   "metadata": {},
   "source": [
    "# Hue Saturation Value: HSV direct\n",
    "* Ihsv = rgb_2_hsv_mat(H, S, V)\n",
    "    * H = ncp.range_norm(Zr - Zd, lo=0.5, hi=0.85)\n",
    "    * S = ncp.range_norm(1 - ETn, lo=0.0, hi=0.9)\n",
    "    * V = ncp.range_norm(ETn, lo=0.0, hi=1.0)"
   ]
  },
  {
   "cell_type": "code",
   "execution_count": null,
   "id": "b0c124e2",
   "metadata": {},
   "outputs": [],
   "source": [
    "\"\"\" number one of two functions \n",
    "    (both examples using Distance, Rotation and ET as H,S,V) \"\"\"\n",
    "t0 = time.time()\n",
    "H = ncp.range_norm(Zd_sm, lo=0.25, hi=0.95)\n",
    "S = ncp.range_norm(Zr_sm, lo=0.0, hi=0.7)\n",
    "V = ncp.range_norm(ETn_sm, lo=0.3, hi=1.0)\n",
    "Ihsv = ncp.rgb_2_hsv_mat(H, S, V)\n",
    "print(time.time() - t0, '\\t HSV converstion time')\n",
    "display(Ihsv)"
   ]
  },
  {
   "cell_type": "code",
   "execution_count": null,
   "id": "5cf91209",
   "metadata": {},
   "outputs": [],
   "source": [
    "\"\"\" number 2 of two functions\n",
    "    (using using Distance, Rotation and ET as full range H, S, V) \"\"\"\n",
    "t0 = time.time()\n",
    "H2 = ncp.range_norm(Zd_sm)\n",
    "S2 = ncp.range_norm(Zr_sm)\n",
    "V2 = ncp.range_norm(ETn_sm)\n",
    "I_hsv2 = ncp.normat_hsv_intrgb(H2, S2, V2, H_max=1.0, H_min=0.0, S_max=1.0, S_min=0.0, V_max=1.0, V_min=0.0)\n",
    "print(time.time() - t0, '\\t HSV converstion time')\n",
    "display(I_hsv2)"
   ]
  },
  {
   "cell_type": "markdown",
   "id": "a1f07660",
   "metadata": {},
   "source": [
    "# Color-mapped\n",
    "* I_mapped = mat_to_mapped(Zd, mp)\n",
    "    * Zd converted to index of unique values\n",
    "    * mp will be resized to number of unique values in Zd"
   ]
  },
  {
   "cell_type": "code",
   "execution_count": null,
   "id": "503e180f",
   "metadata": {},
   "outputs": [],
   "source": [
    "\"\"\" Color map example: Red to Black to Blue-Green \"\"\"\n",
    "t0 = time.time()\n",
    "mp = np.array([[1.0, 0.0, 0.0],[0.0, 0.0, 0.0],[0.0, 1.0, 1.0]])\n",
    "I_rgb = ncp.mat_to_mapped(Zd_sm, mp)\n",
    "print(time.time() - t0, '\\t HSV converstion time')\n",
    "display(I_rgb)"
   ]
  },
  {
   "cell_type": "markdown",
   "id": "35b7a2ca",
   "metadata": {},
   "source": [
    "## Interesting numerical factoid section:"
   ]
  },
  {
   "cell_type": "code",
   "execution_count": null,
   "id": "7448be35",
   "metadata": {},
   "outputs": [],
   "source": [
    "\"\"\"  Time-Point of Escape individual escape time points for each escape time\n",
    "     Animations possible  \"\"\"\n",
    "lo_ET = 2\n",
    "hi_ET = lo_ET + 6\n",
    "for t in range(lo_ET, hi_ET):\n",
    "    print('ET =\\t',t)\n",
    "    I = np.ones(ET_sm.shape)\n",
    "    I[ET_sm == t] = 0\n",
    "    display(ncp.mat_to_gray(I))\n",
    "I = np.ones(ET_sm.shape)\n",
    "I[ET_sm > hi_ET] = 0\n",
    "print('ET >\\t',hi_ET)\n",
    "display(ncp.mat_to_gray(I))"
   ]
  },
  {
   "cell_type": "code",
   "execution_count": null,
   "id": "2a678b06",
   "metadata": {},
   "outputs": [],
   "source": [
    "\"\"\"  number of points escaped at each iteration: escape time frequency  \"\"\"\n",
    "Total_Points = ET_sm.shape[0] * ET_sm.shape[1]\n",
    "print('\\t\\t%i remain in orbit after %i iterations\\n'%((ET_sm > (ET_sm.max()-1)).sum(),  ET_sm.max()))\n",
    "print('%3s) %10s\\n'%('ET', 'Escaped'))\n",
    "t_esc = 0\n",
    "for k in range(1,int(ET_sm.max())):\n",
    "    print('%3i) %7i'%(k, (ET_sm == k).sum()))\n",
    "    t_esc += (ET_sm == k).sum()\n",
    "\n",
    "print('\\n(in)Sanity check:\\n%i Total points\\n%i Escaped\\n%i Remain'%(Total_Points, t_esc, Total_Points - t_esc))"
   ]
  },
  {
   "cell_type": "code",
   "execution_count": null,
   "id": "9fbc8fd8",
   "metadata": {},
   "outputs": [],
   "source": [
    "\"\"\" partial list of unescaped starting points (look for orbit points) \"\"\"\n",
    "Z_overs = Z0_sm[ET_sm == ET_sm.max()]\n",
    "\n",
    "v1 = Z_overs[0]\n",
    "d = '%0.2f'%(np.abs(v1))\n",
    "theta = '%0.1f'%(180*np.arctan2(np.imag(v1), np.real(v1))/np.pi)\n",
    "print('Unescaped Vector:\\n\\tV = ', d, theta, 'degrees\\n')\n",
    "\n",
    "print('%9d'%Z_overs.size, 'total unescaped points\\n')\n",
    "print('%9s'%('points'), 'near V', '      (plane units)')\n",
    "for denom0 in range(1,12):\n",
    "    neighbor_distance = np.abs(v1) * 1/denom0\n",
    "    v1_list = Z_overs[np.abs(Z_overs-v1) < neighbor_distance]\n",
    "    print('%9d'%len(v1_list), 'within V/%2d  (%0.3f)'%(denom0, neighbor_distance))"
   ]
  }
 ],
 "metadata": {},
 "nbformat": 4,
 "nbformat_minor": 5
}
