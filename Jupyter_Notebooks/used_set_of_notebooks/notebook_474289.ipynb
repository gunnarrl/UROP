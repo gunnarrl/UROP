{
 "cells": [
  {
   "cell_type": "markdown",
   "id": "f1bb506c",
   "metadata": {},
   "source": [
    "## Part 2: Clinical Application\n",
    "\n",
    "### Contents\n",
    "Fill out this notebook as part 2 of your final project submission.\n",
    "\n",
    "**You will have to complete the Code (Load Metadata & Compute Resting Heart Rate) and Project Write-up sections.**  \n",
    "\n",
    "- [Code](#Code) is where you will implement some parts of the **pulse rate algorithm** you created and tested in Part 1 and already includes the starter code.\n",
    "  - [Imports](#Imports) - These are the imports needed for Part 2 of the final project. \n",
    "    - [glob](https://docs.python.org/3/library/glob.html)\n",
    "    - [os](https://docs.python.org/3/library/os.html)\n",
    "    - [numpy](https://numpy.org/)\n",
    "    - [pandas](https://pandas.pydata.org/)\n",
    "  - [Load the Dataset](#Load-the-dataset)  \n",
    "  - [Load Metadata](#Load-Metadata)\n",
    "  - [Compute Resting Heart Rate](#Compute-Resting-Heart-Rate)\n",
    "  - [Plot Resting Heart Rate vs. Age Group](#Plot-Resting-Heart-Rate-vs.-Age-Group)\n",
    "- [Project Write-up](#Project-Write-Up) to describe the clinical significance you observe from the **pulse rate algorithm** applied to this dataset, what ways/information that could improve your results, and if we validated a trend known in the science community. \n",
    "\n",
    "### Dataset (CAST)\n",
    "\n",
    "The data from this project comes from the [Cardiac Arrythmia Suppression Trial (CAST)](https://physionet.org/content/crisdb/1.0.0/), which was sponsored by the National Heart, Lung, and Blood Institute (NHLBI). CAST collected 24 hours of heart rate data from ECGs from people who have had a myocardial infarction (MI) within the past two years.[1] This data has been smoothed and resampled to more closely resemble PPG-derived pulse rate data from a wrist wearable.[2]\n",
    "\n",
    "1. **CAST RR Interval Sub-Study Database Citation** - Stein PK, Domitrovich PP, Kleiger RE, Schechtman KB, Rottman JN. Clinical and demographic determinants of heart rate variability in patients post myocardial infarction: insights from the Cardiac Arrhythmia Suppression Trial (CAST). Clin Cardiol 23(3):187-94; 2000 (Mar)\n",
    "2. **Physionet Citation** - Goldberger AL, Amaral LAN, Glass L, Hausdorff JM, Ivanov PCh, Mark RG, Mietus JE, Moody GB, Peng C-K, Stanley HE. PhysioBank, PhysioToolkit, and PhysioNet: Components of a New Research Resource for Complex Physiologic Signals (2003). Circulation. 101(23):e215-e220.\n",
    "\n",
    "-----"
   ]
  },
  {
   "cell_type": "markdown",
   "id": "ec4e0e49",
   "metadata": {},
   "source": [
    "### Code\n",
    "#### Imports\n",
    "\n",
    "When you implement the functions, you'll only need to you use the packages you've used in the classroom, like [Pandas](https://pandas.pydata.org/) and [Numpy](http://www.numpy.org/). These packages are imported for you here. We recommend you don't import other packages outside of the [Standard Library](https://docs.python.org/3/library/) , otherwise the grader might not be able to run your code."
   ]
  },
  {
   "cell_type": "code",
   "execution_count": null,
   "id": "f9c2ebc8",
   "metadata": {},
   "outputs": [],
   "source": [
    "import glob\n",
    "import os\n",
    "\n",
    "import numpy as np\n",
    "import pandas as pd\n",
    "import csv"
   ]
  },
  {
   "cell_type": "markdown",
   "id": "ea3203ee",
   "metadata": {},
   "source": [
    "#### Load the dataset\n",
    "\n",
    "The dataset is stored as [.npz](https://docs.scipy.org/doc/numpy/reference/generated/numpy.savez.html) files. Each file contains roughly 24 hours of heart rate data in the 'hr' array sampled at 1Hz. The subject ID is the name of the file. You will use these files to compute resting heart rate.\n",
    "\n",
    "Demographics metadata is stored in a file called 'metadata.csv'. This CSV has three columns, one for subject ID, age group, and sex. You will use this file to make the association between resting heart rate and age group for each gender.\n",
    "\n",
    "Find the dataset in `../datasets/crisdb/`"
   ]
  },
  {
   "cell_type": "code",
   "execution_count": null,
   "id": "f8f99e69",
   "metadata": {},
   "outputs": [],
   "source": [
    "hr_filenames = glob.glob('/data/crisdb/*.npz')"
   ]
  },
  {
   "cell_type": "code",
   "execution_count": null,
   "id": "ab4853f3",
   "metadata": {},
   "outputs": [],
   "source": [
    "# Determine number of files\n",
    "len(hr_filenames)"
   ]
  },
  {
   "cell_type": "code",
   "execution_count": null,
   "id": "54ebf1b4",
   "metadata": {},
   "outputs": [],
   "source": [
    "# Explore the format of hr_filenames\n",
    "for i in range(10):\n",
    "    print(hr_filenames[i])"
   ]
  },
  {
   "cell_type": "markdown",
   "id": "a3a81fed",
   "metadata": {},
   "source": [
    "#### Load Metadata\n",
    "Load the metadata file into a datastructure that allows for easy lookups from subject ID to age group and sex."
   ]
  },
  {
   "cell_type": "code",
   "execution_count": null,
   "id": "f557a1c2",
   "metadata": {},
   "outputs": [],
   "source": [
    "\"\"\"\n",
    "# Load CSV with Python Standard Library\n",
    "metadata_filename = '/data/crisdb/metadata.csv'\n",
    "\n",
    "# Load the metadata file into this variable.\n",
    "with open(metadata_filename, 'r') as f:\n",
    "    reader = csv.reader(f, delimiter=',')\n",
    "    headers = next(reader)\n",
    "    metadata = np.array(list(reader)).astype(str)\n",
    "    \n",
    "for i in range(5):\n",
    "    print(metadata[i])\n",
    "\"\"\""
   ]
  },
  {
   "cell_type": "code",
   "execution_count": null,
   "id": "20b8e1a8",
   "metadata": {},
   "outputs": [],
   "source": [
    "\"\"\"\n",
    "# Load CSV with Numpy\n",
    "metadata_filename = '/data/crisdb/metadata.csv'\n",
    "\n",
    "# Load the metadata file into this variable.\n",
    "metadata = np.genfromtxt(metadata_filename, dtype='b', delimiter=',', names=True)\n",
    "\n",
    "print(metadata)\n",
    "\"\"\""
   ]
  },
  {
   "cell_type": "code",
   "execution_count": null,
   "id": "6419b964",
   "metadata": {},
   "outputs": [],
   "source": [
    "# Load CSV with Pandas\n",
    "metadata_filename = '/data/crisdb/metadata.csv'\n",
    "\n",
    "# Load the metadata file into this variable.\n",
    "metadata = pd.read_csv(metadata_filename)\n",
    "metadata = metadata.set_index('subject')\n",
    "\n",
    "metadata.head()"
   ]
  },
  {
   "cell_type": "code",
   "execution_count": null,
   "id": "ded850c9",
   "metadata": {},
   "outputs": [],
   "source": [
    "print(metadata[metadata.age == '20-24'])"
   ]
  },
  {
   "cell_type": "code",
   "execution_count": null,
   "id": "d7ddb20f",
   "metadata": {},
   "outputs": [],
   "source": [
    "# TEST 1: Load the heart rate timeseries \n",
    "# *** PASSED ***\n",
    "filename = hr_filenames[0]\n",
    "np.load(filename)['hr']"
   ]
  },
  {
   "cell_type": "code",
   "execution_count": null,
   "id": "1e480230",
   "metadata": {},
   "outputs": [],
   "source": [
    "# TEST 2: Compute the resting heart rate from the timeseries by finding the lowest 5th percentile value in hr_data\n",
    "# *** PASSED ***\n",
    "filename = hr_filenames[0]\n",
    "hr_data = np.load(filename)['hr']\n",
    "np.percentile(hr_data, 5)"
   ]
  },
  {
   "cell_type": "code",
   "execution_count": null,
   "id": "d8bc8e9e",
   "metadata": {},
   "outputs": [],
   "source": [
    "# Check on TEST 2: Number of HR measurements in data\n",
    "len(sorted(hr_data))"
   ]
  },
  {
   "cell_type": "code",
   "execution_count": null,
   "id": "6f10a990",
   "metadata": {},
   "outputs": [],
   "source": [
    "# Check on TEST 2: Value at 5th percentile\n",
    "sorted(hr_data)[4300]"
   ]
  },
  {
   "cell_type": "code",
   "execution_count": null,
   "id": "3c552a10",
   "metadata": {},
   "outputs": [],
   "source": [
    "# TEST 3: Find the subject ID from the filename.\n",
    "# *** PASSED ***\n",
    "filename = hr_filenames[0]\n",
    "(filename.split('/')[3]).split('.')[0]"
   ]
  },
  {
   "cell_type": "code",
   "execution_count": null,
   "id": "18623b8c",
   "metadata": {},
   "outputs": [],
   "source": [
    "# TEST 4: Find the age group for this subject in metadata.\n",
    "# *** PASSED ***\n",
    "subject = 'e190a'\n",
    "metadata.at[subject, 'age']"
   ]
  },
  {
   "cell_type": "code",
   "execution_count": null,
   "id": "6a8e4567",
   "metadata": {},
   "outputs": [],
   "source": [
    "# TEST 5: Find the sex for this subject in metadata.\n",
    "# *** PASSED ***\n",
    "subject = 'e190a'\n",
    "metadata.at[subject, 'sex']"
   ]
  },
  {
   "cell_type": "markdown",
   "id": "a92d8977",
   "metadata": {},
   "source": [
    "#### Compute Resting Heart Rate\n",
    "For each subject we want to compute the resting heart rate while keeping track of which age group this subject belongs to. An easy, robust way to compute the resting heart rate is to use the lowest 5th percentile value in the heart rate timeseries."
   ]
  },
  {
   "cell_type": "code",
   "execution_count": null,
   "id": "85924deb",
   "metadata": {},
   "outputs": [],
   "source": [
    "def AgeAndRHR(metadata, filename):\n",
    "\n",
    "    # Load the heart rate timeseries\n",
    "    hr_data = np.load(filename)['hr']                           # CORRECT\n",
    "    \n",
    "    # Compute the resting heart rate from the timeseries by finding the lowest 5th percentile value in hr_data\n",
    "    rhr = np.percentile(hr_data, 5)                             # CORRECT\n",
    "\n",
    "    # Find the subject ID from the filename.\n",
    "    subject = (filename.split('/')[3]).split('.')[0]            # CORRECT\n",
    "\n",
    "    # Find the age group for this subject in metadata.\n",
    "    age_group = metadata.at[subject, 'age']                     # CORRECT\n",
    "    \n",
    "    # Find the sex for this subject in metadata.\n",
    "    sex = metadata.at[subject, 'sex']                           # CORRECT\n",
    "\n",
    "    return age_group, sex, rhr\n",
    "\n",
    "df = pd.DataFrame(data=[AgeAndRHR(metadata, filename) for filename in hr_filenames],\n",
    "                  columns=['age_group', 'sex', 'rhr'])"
   ]
  },
  {
   "cell_type": "markdown",
   "id": "4d2d8138",
   "metadata": {},
   "source": [
    "#### Plot Resting Heart Rate vs. Age Group\n",
    "We'll use [seaborn](https://seaborn.pydata.org/) to plot the relationship. Seaborn is a thin wrapper around matplotlib, which we've used extensively in this class, that enables higher-level statistical plots.\n",
    "\n",
    "We will use [lineplot](https://seaborn.pydata.org/generated/seaborn.lineplot.html#seaborn.lineplot) to plot the mean of the resting heart rates for each age group along with the 95% confidence interval around the mean. Learn more about making plots that show uncertainty [here](https://seaborn.pydata.org/tutorial/relational.html#aggregation-and-representing-uncertainty)."
   ]
  },
  {
   "cell_type": "code",
   "execution_count": null,
   "id": "f7df2c90",
   "metadata": {},
   "outputs": [],
   "source": [
    "import seaborn as sns\n",
    "from matplotlib import pyplot as plt\n",
    "\n",
    "labels = sorted(np.unique(df.age_group))\n",
    "df['xaxis'] = df.age_group.map(lambda x: labels.index(x)).astype('float')\n",
    "plt.figure(figsize=(12, 8))\n",
    "sns.lineplot(x='xaxis', y='rhr', hue='sex', data=df)\n",
    "plt.xticks(np.arange(len(labels)), labels)"
   ]
  },
  {
   "cell_type": "markdown",
   "id": "41f035e7",
   "metadata": {},
   "source": [
    "### Clinical Conclusion\n",
    "Answer the following prompts to draw a conclusion about the data.\n",
    "> 1. For women, we see .... \n",
    "> 2. For men, we see ... \n",
    "> 3. In comparison to men, women's heart rate is .... \n",
    "> 4. What are some possible reasons for what we see in our data?\n",
    "> 5. What else can we do or go and find to figure out what is really happening? How would that improve the results?\n",
    "> 6. Did we validate the trend that average resting heart rate increases up until middle age and then decreases into old age? How?\n",
    "\n",
    "Your write-up will go here..."
   ]
  },
  {
   "cell_type": "markdown",
   "id": "f28ed46b",
   "metadata": {},
   "source": [
    "### Write-Up\n",
    "\n",
    "1. **For women, we see ...**\n",
    "\n",
    "    - For women, we see the expected trend, where average resting heart rate increases up until middle age, then decreases into old age.\n",
    "    \n",
    "\n",
    "2. **For men, we see ...**\n",
    "\n",
    "    - For men, we do not see the expected trend, at least for the 35-79 year-old segments. In fact, resting heart rate appears to be dropping throughout this age range.\n",
    "    \n",
    "\n",
    "3. **In comparison to men, women's heart rate is ...**\n",
    "\n",
    "    - Women's heart rate is generally higher than it is for men until the late 60s. \n",
    "    - It demonstrates the expected trend in heart rate, while men do not. \n",
    "    - In addition, women's heart rate is is much more variable. While men's heart rates cluster close to the mean within the 95% confidence interval, women's heart rates show a large variation, especially for the 35-54 year-old age range. \n",
    "    \n",
    "\n",
    "4. **What are some possible reasons for what we see in our data**?\n",
    "\n",
    "    - Women may have higher heart rates because of physiological reasons, perhaps because their hearts are smaller, on average, compared to the volume of blood that must be pumped. Therefore they must pump more frequently. \n",
    "    - The lack of expected trend in our data for men might be due to a high level of fitness with respect to the general population. It could also be that heart rate peaks earlier for men than age 35. \n",
    "    - The greater variation in our data for women may be due to smaller sample size. There may be a lot more men in the sample than women, so the 95th confidence interval appears wider. Another reason might be that the variation in health of the women was much greater than the variation in health conditions for men in the sample.\n",
    "\n",
    "\n",
    "5. **What else can we do or go and find to figure out what is really happening? How would that improve the results?**\n",
    "\n",
    "    - To figure out what is really happening, we could try to identify the level of fitness based on subject data. We can also conduct additional exploratory data analyses, determining the number of women versus the number of men, and the ratio of women to men at every age grouping. \n",
    "    - Based on our findings from this research and anlaysis, we could try to improve the results by enlarging the dataset to include a wider variation of fitness levels for men, and a larger number of subjects who are women.\n",
    "    \n",
    "\n",
    "6. **Did we validate the trend that average resting heart rate increases up until middle age and then decreases into old age? How?**\n",
    "\n",
    "    - We validated the trend that average resting heart rate increases up until middle age and then decreases into old age for women.\n",
    "    - However, we could not validate this trend for men. We only see that the heart rate decreases over time from age 35 to age 79."
   ]
  }
 ],
 "metadata": {},
 "nbformat": 4,
 "nbformat_minor": 5
}
