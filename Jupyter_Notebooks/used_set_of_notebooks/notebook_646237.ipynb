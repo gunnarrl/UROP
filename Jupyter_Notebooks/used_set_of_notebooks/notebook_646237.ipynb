{
 "cells": [
  {
   "cell_type": "markdown",
   "id": "1919fbfc",
   "metadata": {},
   "source": [
    "# Day 7, Part 2 - Heatmap\n",
    "One more fun info viz thing - we'll do a few things with ```bqplot``` which is the plotting library used by bloomberg.\n",
    "\n",
    "**Please note** that this codebase very new (Bloomberg just released it) is constantly being updated so is less developed than `matplotlib` or others and therefore might be a little buggy."
   ]
  },
  {
   "cell_type": "code",
   "execution_count": null,
   "id": "1d22cdea",
   "metadata": {},
   "outputs": [],
   "source": [
    "# lets import our usual stuff\n",
    "import pandas as pd\n",
    "import numpy as np\n",
    "import ipywidgets\n",
    "%matplotlib inline\n",
    "#%matplotlib notebook"
   ]
  },
  {
   "cell_type": "markdown",
   "id": "232fc908",
   "metadata": {},
   "source": [
    "Now we'll import bqplot.  You'll have to install it with pip or conda if you don't have it installed already.  You will probably have to restart the kernel and/or "
   ]
  },
  {
   "cell_type": "code",
   "execution_count": null,
   "id": "27b90b71",
   "metadata": {},
   "outputs": [],
   "source": [
    "# if you get a \"No module named bqplot\" -> install!\n",
    "\n",
    "#!pip install bqplot\n",
    "#!conda install -c conda-forge bqplot --yes # try first\n",
    "\n",
    "# it is possible you'll need:\n",
    "#!jupyter nbextension enable --py --sys-prefix bqplot\n",
    "#!jupyter nbextension enable --py --sys-prefix widgetsnbextension"
   ]
  },
  {
   "cell_type": "code",
   "execution_count": null,
   "id": "bef62f3f",
   "metadata": {},
   "outputs": [],
   "source": [
    "import bqplot"
   ]
  },
  {
   "cell_type": "markdown",
   "id": "b74dfb94",
   "metadata": {},
   "source": [
    "### Test heatmap\n",
    "\n",
    "Lets start thinking about heatmaps with some random data:"
   ]
  },
  {
   "cell_type": "code",
   "execution_count": null,
   "id": "354f5811",
   "metadata": {},
   "outputs": [],
   "source": [
    "data = np.random.random((10, 10))\n",
    "data"
   ]
  },
  {
   "cell_type": "code",
   "execution_count": null,
   "id": "50b3193b",
   "metadata": {},
   "outputs": [],
   "source": [
    "# lets start by generating a quick heat map\n",
    "\n",
    "# (1)\n",
    "# create our first scale of our plot: just a color scale\n",
    "col_sc = bqplot.ColorScale() \n",
    "# now we'll use bqplot's gridheatmap function\n",
    "#  with our randomly generated data & our scales to \n",
    "#  make a heatmap like so:\n",
    "heat_map = bqplot.GridHeatMap(color = data, \n",
    "                              scales = {'color': col_sc})\n",
    "# put our marks into our figure and lets go!\n",
    "fig = bqplot.Figure(marks = [heat_map])\n",
    "\n",
    "# (2) ok, this is fine and all, but lets add some reference for our \n",
    "#  color scheme with a colorbar & also lets choose a different \n",
    "#  color scheme\n",
    "col_sc = bqplot.ColorScale(scheme = \"Reds\")\n",
    "# lets plot some axes on our plot as well, in this case\n",
    "#  our axis will be a color bar, vertically on the right\n",
    "#  of our heatmap\n",
    "c_ax = bqplot.ColorAxis(scale = col_sc, \n",
    "                        orientation = 'vertical', \n",
    "                        side = 'right')\n",
    "# put it all together and lets take a look!\n",
    "heat_map = bqplot.GridHeatMap(color = data, \n",
    "                              scales = {'color': col_sc})\n",
    "# generate fig!\n",
    "fig = bqplot.Figure(marks = [heat_map], axes = [c_ax])\n",
    "\n",
    "# (3) finally, lets add some axes labels on the x & y axis,\n",
    "#  we need to add their scales first\n",
    "# this scale will just count up the boxes in the vertical \n",
    "#   & horizontal direction\n",
    "x_sc = bqplot.OrdinalScale()\n",
    "y_sc = bqplot.OrdinalScale()\n",
    "# add our axes objects\n",
    "x_ax = bqplot.Axis(scale = x_sc)\n",
    "y_ax = bqplot.Axis(scale = y_sc, \n",
    "                   orientation = 'vertical')\n",
    "heat_map = bqplot.GridHeatMap(color = data, \n",
    "                              scales = {'color': col_sc, \n",
    "                                        'row': y_sc,\n",
    "                                        'column':x_sc})\n",
    "fig = bqplot.Figure(marks = [heat_map], \n",
    "                    axes = [c_ax, y_ax, x_ax])\n",
    "\n",
    "\n",
    "fig"
   ]
  },
  {
   "cell_type": "markdown",
   "id": "943f709f",
   "metadata": {},
   "source": [
    "#### Note: if no figure shows, try restarting the kernel and/or refreshing the page"
   ]
  },
  {
   "cell_type": "markdown",
   "id": "83a9773a",
   "metadata": {},
   "source": [
    "So, while this indeed a lovely heatmap, it isn't interactive in any way! boo to that!"
   ]
  },
  {
   "cell_type": "code",
   "execution_count": null,
   "id": "6cf954bd",
   "metadata": {},
   "outputs": [],
   "source": [
    "# keep data from last time\n",
    "#import IPython\n",
    "#IPython.OutputArea.auto_scroll_threshold = 9999;\n",
    "from IPython import display\n",
    "\n",
    "# now add scales - colors, x & y\n",
    "col_sc = bqplot.ColorScale(scheme = \"Reds\")\n",
    "x_sc = bqplot.OrdinalScale()\n",
    "y_sc = bqplot.OrdinalScale()\n",
    "\n",
    "# create axis - for colors, x & y\n",
    "c_ax = bqplot.ColorAxis(scale = col_sc, \n",
    "                        orientation = 'vertical', \n",
    "                        side = 'right')\n",
    "x_ax = bqplot.Axis(scale = x_sc)\n",
    "y_ax = bqplot.Axis(scale = y_sc, \n",
    "                   orientation = 'vertical')\n",
    "\n",
    "# lets now re-do our heat map & add in some interactivity:\n",
    "heat_map = bqplot.GridHeatMap(color = data,\n",
    "                              scales = {'color': col_sc,\n",
    "                                        'row': y_sc,\n",
    "                                        'column': x_sc},\n",
    "                              interactions = {'click': 'select'}, \n",
    "                             anchor_style={\"fill\":\"blue\"})\n",
    "#NOTE: anchor_style seems not to do anything now...\n",
    "\n",
    "# stir and combine into 1 figure\n",
    "fig = bqplot.Figure(marks = [heat_map], \n",
    "                    axes = [c_ax, y_ax, x_ax])\n",
    "\n",
    "#display(fig)\n",
    "#ipywidgets.HBox([fig])\n",
    "fig"
   ]
  },
  {
   "cell_type": "code",
   "execution_count": null,
   "id": "6a4bc615",
   "metadata": {},
   "outputs": [],
   "source": [
    "#  Ok fine, but our selection isn't linked to anything!\n",
    "#  lets check out what heat_map selected is\n",
    "heat_map.selected\n",
    "#  note if I select a different box & re-run this cell,\n",
    "#  I get out different values"
   ]
  },
  {
   "cell_type": "code",
   "execution_count": null,
   "id": "3b44dd77",
   "metadata": {},
   "outputs": [],
   "source": [
    "# so now, lets write a little function that links the data value\n",
    "#  to the selected & lets print this in a little ipywidgets label\n",
    "mySelectedLabel = ipywidgets.Label()\n",
    "\n",
    "# (1) \n",
    "# lets write our linking function\n",
    "# there are a few ways to link this,\n",
    "#  here is a simple way first\n",
    "def get_data_value(change):\n",
    "    i,j = heat_map.selected[0]\n",
    "    v = data[i,j] # grab data value\n",
    "    mySelectedLabel.value = str(v) # set our label\n",
    "\n",
    "# (2) this is maybe in-elegant as we are \n",
    "#  explicitly calling our origininal heat map!\n",
    "#  so, lets instead remind ourselves what \"change\" is here\n",
    "def get_data_value(change):\n",
    "    print(change)\n",
    "    i,j = heat_map.selected[0]\n",
    "    v = data[i,j] # grab data value\n",
    "    mySelectedLabel.value = str(v) # set our label\n",
    "# now we see when we click we get back a whole\n",
    "#  dictionary of information - if we recall, \n",
    "#  \"owner\" here is our heat_map which \"owns\" \n",
    "# this change.\n",
    "#  If we want to be able to apply our function to \n",
    "#  this or any other heatmap figure we generate,\n",
    "#  we can re-write the above function as follows:\n",
    "\n",
    "# (3)\n",
    "#def get_data_value(change,mylab):\n",
    "def get_data_value(change):\n",
    "    #print(change['owner'].selected)\n",
    "    i,j = change['owner'].selected[0]\n",
    "    v = data[i,j] # grab data value\n",
    "    mySelectedLabel.value = str(v) # set our label\n",
    "    #mylab.value = str(v) # set our label\n",
    "# so, this now is applied to any map that we choose to input\n",
    "    \n",
    "# regenerate our heatmap to use in our fig canvas\n",
    "heat_map = bqplot.GridHeatMap(color = data,\n",
    "                              scales = {'color': col_sc,\n",
    "                                        'row': y_sc,\n",
    "                                        'column': x_sc},\n",
    "                              interactions = {'click': 'select'},\n",
    "                              anchor_style = {'fill':'blue'}, \n",
    "                              selected_style = {'opacity': 1.0},\n",
    "                              unselected_style = {'opacity': 0.8})\n",
    "    \n",
    "# make sure we check out     \n",
    "heat_map.observe(get_data_value, 'selected')\n",
    "#heat_map.observe(self, mySelectedLabel)\n",
    "fig = bqplot.Figure(marks = [heat_map], \n",
    "                    axes = [c_ax, y_ax, x_ax])\n",
    "\n",
    "ipywidgets.VBox([mySelectedLabel, fig])"
   ]
  },
  {
   "cell_type": "markdown",
   "id": "b8d6d1e6",
   "metadata": {},
   "source": [
    "# Dashboarding: Heatmap + plot\n",
    "We'll now combine this idea with kepler data.  We'll replace the randomly selected data with 2D bins of radius and eccentricity from the Kepler data."
   ]
  },
  {
   "cell_type": "markdown",
   "id": "565d03f9",
   "metadata": {},
   "source": [
    "First, let's make a 2D histogram of the radius and eccentricity of Kepler data.  To do that, we first have to read the data set in!"
   ]
  },
  {
   "cell_type": "code",
   "execution_count": null,
   "id": "a67b9336",
   "metadata": {},
   "outputs": [],
   "source": [
    "# now let's read in the kepler confirmed planets dataset\n",
    "planets = pd.read_csv('https://jnaiman.github.io/csci-p-14110/lesson06/data/planets_2019.07.12_17.16.25.csv', \n",
    "                     sep=\",\", comment=\"#\")"
   ]
  },
  {
   "cell_type": "markdown",
   "id": "c73aca57",
   "metadata": {},
   "source": [
    "Let's remind ourselves of the column names.  Last time we used ```columns```, now we'll use ```keys``` but they do the same thing:"
   ]
  },
  {
   "cell_type": "code",
   "execution_count": null,
   "id": "257f002a",
   "metadata": {},
   "outputs": [],
   "source": [
    "planets.keys()"
   ]
  },
  {
   "cell_type": "markdown",
   "id": "faf95548",
   "metadata": {},
   "source": [
    "We want to make a 2D histogram of radii and eccentricities so:"
   ]
  },
  {
   "cell_type": "code",
   "execution_count": null,
   "id": "bbd6742b",
   "metadata": {},
   "outputs": [],
   "source": [
    "# pl_orbsmax is in AU, semi-major axis\n",
    "planets[['pl_orbeccen','pl_orbsmax']]"
   ]
  },
  {
   "cell_type": "markdown",
   "id": "f4d35d5b",
   "metadata": {},
   "source": [
    "We can use numpy to make our histogram (or pandas). Note we have some missing numbers indicated by an NaN.  We only want to select entries that have both eccentricity and semi-major axis so we need to do some data cleaning:"
   ]
  },
  {
   "cell_type": "code",
   "execution_count": null,
   "id": "0e48e522",
   "metadata": {},
   "outputs": [],
   "source": [
    "x = planets['pl_orbeccen']\n",
    "y = planets['pl_orbsmax']\n",
    "\n",
    "# only entries for no NaNs:\n",
    "xplot = x[~np.isnan(x) & ~np.isnan(y)]\n",
    "yplot = y[~np.isnan(x) & ~np.isnan(y)]"
   ]
  },
  {
   "cell_type": "code",
   "execution_count": null,
   "id": "0e138658",
   "metadata": {},
   "outputs": [],
   "source": [
    "myHist, xedges, yedges = np.histogram2d(xplot, yplot, \n",
    "                                        bins=[10,10])\n",
    "\n",
    "myHist"
   ]
  },
  {
   "cell_type": "code",
   "execution_count": null,
   "id": "79b7afc0",
   "metadata": {},
   "outputs": [],
   "source": [
    "mySelectedLabel = ipywidgets.Label()\n",
    "\n",
    "col_sc = bqplot.ColorScale(scheme = \"Reds\")\n",
    "x_sc = bqplot.LinearScale()\n",
    "y_sc = bqplot.LinearScale()\n",
    "\n",
    "# create axis - for colors, x & y\n",
    "c_ax = bqplot.ColorAxis(scale = col_sc, \n",
    "                        orientation = 'vertical', \n",
    "                        side = 'right')\n",
    "x_ax = bqplot.Axis(scale = x_sc)\n",
    "y_ax = bqplot.Axis(scale = y_sc, \n",
    "                   orientation = 'vertical')\n",
    "\n",
    "def get_data_value(change):\n",
    "    i,j = change['owner'].selected[0]\n",
    "    v = myHist[i,j] # grab data value\n",
    "    mySelectedLabel.value = str(v) # set our label\n",
    "    \n",
    "# regenerate our heatmap to use in our fig canvas\n",
    "heat_map = bqplot.GridHeatMap(color = myHist,\n",
    "                              scales = {'color': col_sc,\n",
    "                                        'row': y_sc,\n",
    "                                        'column': x_sc},\n",
    "                              interactions = {'click': 'select'},\n",
    "                              anchor_style = {'fill':'blue'}, \n",
    "                              selected_style = {'opacity': 1.0},\n",
    "                              unselected_style = {'opacity': 0.8})\n",
    "    \n",
    "# make sure we check out     \n",
    "heat_map.observe(get_data_value, 'selected')\n",
    "fig = bqplot.Figure(marks = [heat_map], \n",
    "                    axes = [c_ax, y_ax, x_ax])\n",
    "\n",
    "ipywidgets.VBox([mySelectedLabel, fig])"
   ]
  },
  {
   "cell_type": "markdown",
   "id": "5124ce40",
   "metadata": {},
   "source": [
    "Now we can use the x&y edges output from our histogram and re-put them into bin centers with some fancy in-line programming:"
   ]
  },
  {
   "cell_type": "code",
   "execution_count": null,
   "id": "15b7d487",
   "metadata": {},
   "outputs": [],
   "source": [
    "# this is becuase the edges are bin edges, not centers\n",
    "y_centers = [(yedges[i]+yedges[i+1])*0.5 for i in range(len(yedges)-1)]\n",
    "x_centers = [(xedges[i]+xedges[i+1])*0.5 for i in range(len(xedges)-1)]"
   ]
  },
  {
   "cell_type": "code",
   "execution_count": null,
   "id": "55aeeb2f",
   "metadata": {},
   "outputs": [],
   "source": [
    "mySelectedLabel = ipywidgets.Label()\n",
    "\n",
    "col_sc = bqplot.ColorScale(scheme = \"Reds\")\n",
    "x_sc = bqplot.LinearScale()\n",
    "y_sc = bqplot.LinearScale()\n",
    "\n",
    "# create axis - for colors, x & y\n",
    "c_ax = bqplot.ColorAxis(scale = col_sc, \n",
    "                        orientation = 'vertical', \n",
    "                        side = 'right')\n",
    "x_ax = bqplot.Axis(scale = x_sc, \n",
    "                  label='Semi-major axis in AU')\n",
    "y_ax = bqplot.Axis(scale = y_sc, \n",
    "                   orientation = 'vertical',\n",
    "                  label='Eccentricity')\n",
    "\n",
    "def get_data_value(change):\n",
    "    i,j = change['owner'].selected[0]\n",
    "    v = myHist[i,j] # grab data value\n",
    "    mySelectedLabel.value = str(v) # set our label\n",
    "    \n",
    "# regenerate our heatmap to use in our fig canvas\n",
    "heat_map = bqplot.GridHeatMap(color = myHist,\n",
    "                              row=x_centers,\n",
    "                              column=y_centers,\n",
    "                              scales = {'color': col_sc,\n",
    "                                        'row': y_sc,\n",
    "                                        'column': x_sc},\n",
    "                              interactions = {'click': 'select'},\n",
    "                              anchor_style = {'fill':'blue', 'stroke': 'blue'},\n",
    "                             opacity=0.5)\n",
    "    \n",
    "# make sure we check out     \n",
    "heat_map.observe(get_data_value, 'selected')\n",
    "fig = bqplot.Figure(marks = [heat_map], \n",
    "                    axes = [c_ax, y_ax, x_ax])\n",
    "\n",
    "ipywidgets.VBox([mySelectedLabel, fig])"
   ]
  },
  {
   "cell_type": "markdown",
   "id": "4313662b",
   "metadata": {},
   "source": [
    "### Exercise\n",
    "Clearly, most of the interesting stuff is happening at the 20 AU, low eccentricity point on this heatmap.\n",
    "\n",
    "How can you \"zoom in\" and only plot this region?  \n",
    "\n",
    "Hint: there are several ways, one is by changing the bins for the 2D histogram (look at the documentation for histogram2d!)"
   ]
  },
  {
   "cell_type": "markdown",
   "id": "083b6f68",
   "metadata": {},
   "source": [
    "## Heatmap + Trajectory = Dashboard\n",
    "Let's now combine this heatmap with our trajectory plot before to make an interactive dashboard for our data.  In this case, we'll copy exactly what we had before, but will add an extra ```bqplot.Lines``` plot that will *also* be updated when a selection on the heatmap is made."
   ]
  },
  {
   "cell_type": "code",
   "execution_count": null,
   "id": "3d6f6b47",
   "metadata": {},
   "outputs": [],
   "source": [
    "theta = np.arange(0, 2*np.pi, 0.001)\n",
    "\n",
    "# Line's plot\n",
    "x_l_sc = bqplot.LinearScale()\n",
    "y_l_sc = bqplot.LinearScale()\n",
    "\n",
    "line_plot = bqplot.Lines(x=[], y=[], # start empty\n",
    "                         scales = {'x': y_l_sc,\n",
    "                                        'y': x_l_sc})\n",
    "\n",
    "x_l_ax = bqplot.Axis(scale = x_l_sc, \n",
    "                     label='x in AU')\n",
    "y_l_ax = bqplot.Axis(scale = y_l_sc, \n",
    "                     orientation = 'vertical',\n",
    "                     label='y in AU')\n",
    "fig_lines = bqplot.Figure(marks = [line_plot], \n",
    "                          axes = [y_l_ax, x_l_ax])\n",
    "\n",
    "# quick check it out\n",
    "#fig_lines"
   ]
  },
  {
   "cell_type": "code",
   "execution_count": null,
   "id": "fdb970ff",
   "metadata": {},
   "outputs": [],
   "source": [
    "mySelectedLabel = ipywidgets.Label()\n",
    "\n",
    "col_sc = bqplot.ColorScale(scheme = \"Reds\")\n",
    "x_sc = bqplot.LinearScale()\n",
    "y_sc = bqplot.LinearScale()\n",
    "\n",
    "# create axis - for colors, x & y\n",
    "c_ax = bqplot.ColorAxis(scale = col_sc, \n",
    "                        orientation = 'vertical', \n",
    "                        side = 'right')\n",
    "x_ax = bqplot.Axis(scale = x_sc, \n",
    "                  label='Semi-major axis in AU')\n",
    "y_ax = bqplot.Axis(scale = y_sc, \n",
    "                   orientation = 'vertical',\n",
    "                  label='Eccentricity')\n",
    "\n",
    "def get_data_value(change):\n",
    "    i,j = change['owner'].selected[0]\n",
    "    v = myHist[i,j] # grab data value\n",
    "    mySelectedLabel.value = str(v) # set our label\n",
    "    # NOW ALSO update line data\n",
    "    semiMaj = y_centers[j]\n",
    "    ecc = x_centers[i]\n",
    "    #print(ecc)\n",
    "    # from our plot_ellipse function, with a not b\n",
    "    b = semiMaj*ecc\n",
    "    r = b/np.sqrt(1-ecc*(np.cos(theta))**2)\n",
    "    x = r*np.cos(theta)\n",
    "    y = r*np.sin(theta)\n",
    "    line_plot.x = x\n",
    "    line_plot.y = y\n",
    "    \n",
    "# regenerate our heatmap to use in our fig canvas\n",
    "heat_map = bqplot.GridHeatMap(color = myHist,\n",
    "                              row=x_centers,\n",
    "                              column=y_centers,\n",
    "                              scales = {'color': col_sc,\n",
    "                                        'row': y_sc,\n",
    "                                        'column': x_sc},\n",
    "                              interactions = {'click': 'select'},\n",
    "                              anchor_style = {'fill':'blue'}, # note: these below may not work\n",
    "                              selected_style = {'opacity': 1.0, 'color':'blue'},\n",
    "                              unselected_style = {'opacity': 0.1})\n",
    "    \n",
    "# make sure we check out     \n",
    "heat_map.observe(get_data_value, 'selected')\n",
    "fig = bqplot.Figure(marks = [heat_map], \n",
    "                    axes = [c_ax, y_ax, x_ax])\n",
    "\n",
    "ipywidgets.VBox([mySelectedLabel, ipywidgets.HBox([fig,fig_lines])])"
   ]
  },
  {
   "cell_type": "markdown",
   "id": "afe13684",
   "metadata": {},
   "source": [
    "### Exercise\n",
    "How can you make this have the same x & y coords for all plots?  Hint: look up \"bqplot LinearScale\" to see if there may be helpful parameters to use.  Alternatively you can try ```bqplot.LinearScale?``` in the notebook.\n",
    "\n",
    "Can you plot more than one system for comparison?  Note: more than one square is selected when you ```SHIFT-CLICK```.\n",
    "\n",
    "**Extensions:**\n",
    "\n",
    "Remake this dashboard with another set of Kepler data parameters.\n",
    "\n",
    "Allow for a selection to run a simulation and plot both analytical and numeric solutions.\n",
    "\n",
    "How can you plot a multi-body system using interactivity with the Kepler dataset?  What assumptions do you need to make?  Try just analytical solutions and then later add numerical."
   ]
  }
 ],
 "metadata": {},
 "nbformat": 4,
 "nbformat_minor": 5
}
