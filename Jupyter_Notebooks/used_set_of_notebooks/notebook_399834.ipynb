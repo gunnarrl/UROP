{
 "cells": [
  {
   "cell_type": "markdown",
   "id": "ec8680f6",
   "metadata": {},
   "source": [
    "* Check the difference between Coriolis and no Coriolis both under without Hollingsworth conditions (enstrophy conserving = True.)"
   ]
  },
  {
   "cell_type": "code",
   "execution_count": null,
   "id": "a56fea87",
   "metadata": {},
   "outputs": [],
   "source": [
    "import numpy as np\n",
    "import netCDF4 as nc\n",
    "from salishsea_tools import (nc_tools,viz_tools,tidetools,geo_tools)\n",
    "import datetime, os\n",
    "from glob import glob\n",
    "import matplotlib.pyplot as plt\n",
    "import matplotlib.gridspec as gridspec\n",
    "import warnings\n",
    "warnings.filterwarnings('ignore')\n",
    "import seaborn as sns\n",
    "%matplotlib inline\n",
    "sns.set(style=\"whitegrid\")\n",
    "sns.set_context(\"notebook\", font_scale=2, rc={\"lines.linewidth\": 2.5})"
   ]
  },
  {
   "cell_type": "code",
   "execution_count": null,
   "id": "0464b3a9",
   "metadata": {},
   "outputs": [],
   "source": [
    "transects = {'1':{'jst':55, 'ist':25,'jen':56,'ien':80},\n",
    "            '2':{'jst':25, 'ist':25,'jen':26,'ien':75},\n",
    "            '3':{'jst':25, 'ist':25,'jen':56,'ien':26},\n",
    "            '4':{'jst':37, 'ist':72,'jen':45,'ien':73},\n",
    "            '5':{'jst':120, 'ist':138,'jen':121,'ien':139}}"
   ]
  },
  {
   "cell_type": "code",
   "execution_count": null,
   "id": "f955dc96",
   "metadata": {},
   "outputs": [],
   "source": [
    "grid6 = nc.Dataset('/ocean/jieliu/research/meopar/river-treatment/bathy_meter_SalishSea6.nc')\n",
    "X = grid6.variables['nav_lon'][380:510,240:397]\n",
    "Y = grid6.variables['nav_lat'][380:510,240:397]\n",
    "bathy = grid6.variables['Bathymetry'][380:510,240:397]"
   ]
  },
  {
   "cell_type": "code",
   "execution_count": null,
   "id": "c939feb6",
   "metadata": {},
   "outputs": [],
   "source": [
    "## mask\n",
    "mesh = nc.Dataset('/data/jieliu/MEOPAR/river-treatment/oct8_101e061e05/mesh_mask.nc')\n",
    "tmask = mesh.variables['tmask'][0,:,380:510,240:397]\n",
    "e3t = mesh.variables['e3t'][0,:,380:510,240:397]\n",
    "e2t = mesh.variables['e2t'][0,380:510,240:397]\n",
    "e1t = mesh.variables['e1t'][0,380:510,240:397]\n",
    "np_mask = np.abs(1-tmask) "
   ]
  },
  {
   "cell_type": "code",
   "execution_count": null,
   "id": "2cecd17b",
   "metadata": {},
   "outputs": [],
   "source": [
    "## load salinity into a dict\n",
    "paths = ['Oct2014WithoutHollings','Oct2014nof','Oct2014combineall']\n",
    "base='/data/jieliu/MEOPAR/SurfaceCurrent/'\n",
    "file_patternTs = 'oct2014*_T.nc'\n",
    "file_patternUs = 'oct2014*_U.nc'\n",
    "file_patternVs = 'oct2014*_V.nc'\n",
    "U = {}; V={}; S={};ssh = {}\n",
    "for pa in paths:\n",
    "    pathT = glob(os.path.join(base,pa, file_patternTs))\n",
    "    pathU = glob(os.path.join(base,pa, file_patternUs))\n",
    "    pathV = glob(os.path.join(base,pa, file_patternVs))\n",
    "    fU = nc.Dataset(pathU[0],'r');\n",
    "    U[pa] = fU.variables['vozocrtx']\n",
    "    fV = nc.Dataset(pathV[0],'r');\n",
    "    V[pa] = fV.variables['vomecrty']\n",
    "    fT = nc.Dataset(pathT[0],'r');\n",
    "    S[pa] = fT.variables['vosaline']\n",
    "    lon = fT.variables['nav_lon'] \n",
    "    lat = fT.variables['nav_lat']\n",
    "    ssh[pa] = fT.variables['sossheig']\n",
    "    time_counter = fT.variables['time_counter']\n",
    "    depT = fT.variables['deptht']"
   ]
  },
  {
   "cell_type": "code",
   "execution_count": null,
   "id": "7e1aefaa",
   "metadata": {},
   "outputs": [],
   "source": [
    "## load grid_T model results\n",
    "octNoHolling_T = nc.Dataset('/data/jieliu/MEOPAR/SurfaceCurrent/Oct2014WithoutHollings/oct2014NoHolling_T.nc')\n",
    "octall_T = nc.Dataset('/data/jieliu/MEOPAR/SurfaceCurrent/Oct2014combineall/oct2014all_T.nc')\n",
    "octnof_T = nc.Dataset('/data/jieliu/MEOPAR/SurfaceCurrent/Oct2014nof/oct2014nof_T.nc')"
   ]
  },
  {
   "cell_type": "code",
   "execution_count": null,
   "id": "0ba24cc5",
   "metadata": {},
   "outputs": [],
   "source": [
    "octNoHolling_U = nc.Dataset('/data/jieliu/MEOPAR/SurfaceCurrent/Oct2014WithoutHollings/oct2014NoHolling_U.nc')\n",
    "octall_U = nc.Dataset('/data/jieliu/MEOPAR/SurfaceCurrent/Oct2014combineall/oct2014all_U.nc')\n",
    "octnof_U = nc.Dataset('/data/jieliu/MEOPAR/SurfaceCurrent/Oct2014nof/oct2014nof_U.nc')"
   ]
  },
  {
   "cell_type": "code",
   "execution_count": null,
   "id": "6cb9c51e",
   "metadata": {},
   "outputs": [],
   "source": [
    "octNoHolling_V = nc.Dataset('/data/jieliu/MEOPAR/SurfaceCurrent/Oct2014WithoutHollings/oct2014NoHolling_V.nc')\n",
    "octall_V = nc.Dataset('/data/jieliu/MEOPAR/SurfaceCurrent/Oct2014combineall/oct2014all_V.nc')\n",
    "octnof_V = nc.Dataset('/data/jieliu/MEOPAR/SurfaceCurrent/Oct2014nof/oct2014nof_V.nc')"
   ]
  },
  {
   "cell_type": "code",
   "execution_count": null,
   "id": "5339456f",
   "metadata": {},
   "outputs": [],
   "source": [
    "def quiver_salinity(grid_T1,grid_T2,grid_U1,grid_U2,grid_V1,grid_V2,t1,t2,colormap,st,dep,cmin = -6,cmax = 6,ave = False):\n",
    "    \"\"\"Quiver velocity on top of surface salinity\"\"\"\n",
    "    fig,axs = plt.subplots(1,3,figsize=(20,6))\n",
    "    cm = plt.cm.get_cmap(colormap,12)\n",
    "    theta = np.pi*29/180\n",
    "    S = {};U = {};V= {}\n",
    "    for gridT, gridU,gridV,run, ax in zip([grid_T1,grid_T2],[grid_U1,grid_U2],[grid_V1,grid_V2],['all','nof'],[axs[0],axs[1]]):\n",
    "        lon = gridT.variables['nav_lon']\n",
    "        lat = gridT.variables['nav_lat']\n",
    "        if ave ==False:\n",
    "            S[run] =gridT.variables['vosaline'][t1,0]\n",
    "            S[run] = np.ma.masked_values(S[run],0)\n",
    "            u = gridU.variables['vozocrtx'][t1,0]\n",
    "            v = gridV.variables['vomecrty'][t1,0]\n",
    "            U[run],V[run] = viz_tools.unstagger(u,v)\n",
    "            #rotate       \n",
    "            U[run] = U[run]*np.cos(theta) - V[run]*np.sin(theta)\n",
    "            V[run] = U[run]*np.sin(theta) +V[run]*np.cos(theta)\n",
    "        else:\n",
    "            S[run] =np.ma.masked_values(np.nanmean(gridT.variables['vosaline'][t1:t2+1,0],axis = 0),0)\n",
    "            u = gridU.variables['vozocrtx'][t1:t2+1,0]\n",
    "            v = gridV.variables['vomecrty'][t1:t2+1,0]\n",
    "            U[run],V[run] = viz_tools.unstagger(u,v)\n",
    "            #rotate       \n",
    "            U[run] = U[run]*np.cos(theta) - V[run]*np.sin(theta)\n",
    "            V[run] = U[run]*np.sin(theta) +V[run]*np.cos(theta)\n",
    "            U[run] = np.nanmean(U[run],axis = 0)\n",
    "            V[run] = np.nanmean(V[run],axis = 0)\n",
    "            \n",
    "        mesh=ax.pcolormesh(lon,lat,S[run],vmin =0,vmax = 33,cmap=cm) \n",
    "        cbar = fig.colorbar(mesh,ax = ax)\n",
    "        cbar.set_label('Practical Salinity')\n",
    "        quiver = ax.quiver(lon[1::st,1::st], lat[1::st,1::st],U[run][::st, ::st], V[run][::st,::st],\\\n",
    "                           pivot='mid',scale=15,width=0.005, color='black' )\n",
    "        ax.quiverkey(quiver,-123.1,49.25, 1, '1 m/s',coordinates='data', color='black', labelcolor='black')\n",
    "        viz_tools.plot_land_mask(ax,grid6,coords='map',color='burlywood')\n",
    "        viz_tools.plot_coastline(ax, grid6, coords = 'map')\n",
    "        ax.set_xlim([-124.,-122.8])\n",
    "        ax.set_ylim([48.9,49.5])\n",
    "        ## add minimum salinity plot if available\n",
    "    sal_diff = S['nof'] - S['all']\n",
    "    U_diff = U['nof'] - U['all']\n",
    "    V_diff = V['nof'] - V['all']\n",
    "    ax = axs[2]\n",
    "    mesh=ax.pcolormesh(lon,lat,sal_diff,cmap='RdBu_r',vmin=cmin, vmax=cmax)\n",
    "    cbar = fig.colorbar(mesh,ax = ax)\n",
    "    cbar.set_label('Difference of Practical Salinity')\n",
    "    quiver = ax.quiver(lon[1::st,1::st], lat[1::st,1::st],U_diff[ ::st, ::st], V_diff[::st,::st],\\\n",
    "                           pivot='mid',scale=12,width=0.005, color='black' )\n",
    "    ax.quiverkey(quiver,-123.1,49.25, 1, '1 m/s',coordinates='data', color='black', labelcolor='black')\n",
    "    if ave != False:\n",
    "        ax.plot(X[55,25:80],Y[55,25:80],'b-')\n",
    "    viz_tools.plot_land_mask(ax,grid6,coords='map',color='burlywood')\n",
    "    viz_tools.plot_coastline(ax, grid6, coords = 'map')\n",
    "    ax.set_xlim([-124.,-122.8])\n",
    "    ax.set_ylim([48.9,49.5])"
   ]
  },
  {
   "cell_type": "markdown",
   "id": "fb215292",
   "metadata": {},
   "source": [
    "# Check spatial pattern at instantaneous time"
   ]
  },
  {
   "cell_type": "code",
   "execution_count": null,
   "id": "ecccd40e",
   "metadata": {},
   "outputs": [],
   "source": [
    "quiver_salinity(octall_T,octnof_T,octall_U,octnof_U,octall_V,octnof_V,50,50,'spectral',3,0,ave = False)\n",
    "quiver_salinity(octNoHolling_T,octnof_T,octNoHolling_U,octnof_U,octNoHolling_V,octnof_V,50,50,'spectral',3,0,ave = False)"
   ]
  },
  {
   "cell_type": "markdown",
   "id": "b79a1c15",
   "metadata": {},
   "source": [
    "* near final time step"
   ]
  },
  {
   "cell_type": "code",
   "execution_count": null,
   "id": "7aa8c20c",
   "metadata": {},
   "outputs": [],
   "source": [
    "quiver_salinity(octall_T,octnof_T,octall_U,octnof_U,octall_V,octnof_V,743,743,'spectral',3,0,ave = False)\n",
    "quiver_salinity(octNoHolling_T,octnof_T,octNoHolling_U,octnof_U,octNoHolling_V,octnof_V,743,743,'spectral',3,0,ave = False)"
   ]
  },
  {
   "cell_type": "markdown",
   "id": "35445fee",
   "metadata": {},
   "source": [
    "# Check averaged field"
   ]
  },
  {
   "cell_type": "code",
   "execution_count": null,
   "id": "0fc8e714",
   "metadata": {},
   "outputs": [],
   "source": [
    "quiver_salinity(octall_T,octnof_T,octall_U,octnof_U,octall_V,octnof_V,408,480,'spectral',3,0,ave = True)\n",
    "quiver_salinity(octNoHolling_T,octnof_T,octNoHolling_U,octnof_U,octNoHolling_V,octnof_V,408,480,'spectral',3,0,ave = True)"
   ]
  },
  {
   "cell_type": "code",
   "execution_count": null,
   "id": "55006ad5",
   "metadata": {},
   "outputs": [],
   "source": [
    "quiver_salinity(octall_T,octnof_T,octall_U,octnof_U,octall_V,octnof_V,480,551,'spectral',3,0,ave = True)\n",
    "quiver_salinity(octNoHolling_T,octnof_T,octNoHolling_U,octnof_U,octNoHolling_V,octnof_V,480,551,'spectral',3,0,ave = True)"
   ]
  },
  {
   "cell_type": "code",
   "execution_count": null,
   "id": "ff22fd4c",
   "metadata": {},
   "outputs": [],
   "source": [
    "geo_tools.find_closest_model_point(-123.4,49.15,x,y,land_mask=bathy.mask)"
   ]
  },
  {
   "cell_type": "markdown",
   "id": "f59b95f9",
   "metadata": {},
   "source": [
    "# Check a single place in a time series"
   ]
  },
  {
   "cell_type": "code",
   "execution_count": null,
   "id": "a5f398d5",
   "metadata": {},
   "outputs": [],
   "source": [
    "def station_time_series(ax,gridT1,gridT2,gridT3,t1,t2,dep,j,i,string ='Salinity'):\n",
    "    \"\"\"\n",
    "    \"\"\"\n",
    "  \n",
    "    Vars = {};\n",
    "    time = np.arange(t1,t2+1)\n",
    "    for gridT,run in zip([gridT1,gridT2,gridT3],['all','allNoHolling','nof']):\n",
    "\n",
    "        if string == 'Salinity':\n",
    "            Vars[run] =gridT.variables['vosaline'][t1:t2+1,dep,j,i]\n",
    "            ax.set_ylabel('Salinity')\n",
    "        elif string =='U':\n",
    "            Vars[run] =gridT.variables['vozocrtx'][t1:t2+1,dep,j,i]\n",
    "            ax.set_ylabel('Cross-strait U')\n",
    "        elif string =='V':\n",
    "            Vars[run] =gridT.variables['vomecrty'][t1:t2+1,dep,j,i]\n",
    "            ax.set_ylabel('Along-strait V')\n",
    "        Vars[run] = np.ma.masked_values(Vars[run],0)\n",
    "        ax.plot(time,Vars[run],label =run)\n",
    "        ax.set_xlabel('Time index')\n",
    "        ax.legend(loc = 'best')   "
   ]
  },
  {
   "cell_type": "markdown",
   "id": "3c1f8545",
   "metadata": {},
   "source": [
    "* Sandheads"
   ]
  },
  {
   "cell_type": "code",
   "execution_count": null,
   "id": "ae4699b8",
   "metadata": {},
   "outputs": [],
   "source": [
    "fig,axs = plt.subplots(3,1,figsize = (12,15))\n",
    "station_time_series(axs[0],octall_T,octNoHolling_T,octnof_T,0,743,0,48,53,string = 'Salinity')\n",
    "station_time_series(axs[1],octall_U,octNoHolling_U,octnof_U,0,743,0,48,53,string = 'U')\n",
    "station_time_series(axs[2],octall_V,octNoHolling_V,octnof_V,0,743,0,48,53,string = 'V')"
   ]
  },
  {
   "cell_type": "markdown",
   "id": "b0038c89",
   "metadata": {},
   "source": [
    "* Point Atkinson"
   ]
  },
  {
   "cell_type": "code",
   "execution_count": null,
   "id": "8729b927",
   "metadata": {},
   "outputs": [],
   "source": [
    "fig,axs = plt.subplots(3,1,figsize = (12,15))\n",
    "station_time_series(axs[0],octall_T,octNoHolling_T,octnof_T,0,743,0,86,89,string = 'Salinity')\n",
    "station_time_series(axs[1],octall_U,octNoHolling_U,octnof_U,0,743,0,86,89,string = 'U')\n",
    "station_time_series(axs[2],octall_V,octNoHolling_V,octnof_V,0,743,0,86,89,string = 'V')"
   ]
  },
  {
   "cell_type": "markdown",
   "id": "e2693d7a",
   "metadata": {},
   "source": [
    "* Middle strait (-123.4, 49.15)"
   ]
  },
  {
   "cell_type": "code",
   "execution_count": null,
   "id": "ff14a64c",
   "metadata": {},
   "outputs": [],
   "source": [
    "fig,axs = plt.subplots(3,1,figsize = (12,15))\n",
    "station_time_series(axs[0],octall_T,octNoHolling_T,octnof_T,0,743,0,63,44,string = 'Salinity')\n",
    "station_time_series(axs[1],octall_U,octNoHolling_U,octnof_U,0,743,0,63,44,string = 'U')\n",
    "station_time_series(axs[2],octall_V,octNoHolling_V,octnof_V,0,743,0,63,44,string = 'V')"
   ]
  },
  {
   "cell_type": "markdown",
   "id": "ec1b3fc9",
   "metadata": {},
   "source": [
    "* Northwest point (-123.6,49.25)"
   ]
  },
  {
   "cell_type": "code",
   "execution_count": null,
   "id": "5dab1b70",
   "metadata": {},
   "outputs": [],
   "source": [
    "fig,axs = plt.subplots(3,1,figsize = (12,15))\n",
    "station_time_series(axs[0],octall_T,octNoHolling_T,octnof_T,0,743,0,97,27,string = 'Salinity')\n",
    "station_time_series(axs[1],octall_U,octNoHolling_U,octnof_U,0,743,0,97,27,string = 'U')\n",
    "station_time_series(axs[2],octall_V,octNoHolling_V,octnof_V,0,743,0,97,27,string = 'V')"
   ]
  },
  {
   "cell_type": "markdown",
   "id": "3f6a74a9",
   "metadata": {},
   "source": [
    "* This suggests me that: \n",
    "\n",
    " Spatially, Hollingsworth affects northwest part of my subdomain more than at the river mouth in the surface currents.\n",
    " \n",
    " Temporally, this strong signal of influence occurs after time index 400, so, after half of the simulation."
   ]
  }
 ],
 "metadata": {},
 "nbformat": 4,
 "nbformat_minor": 5
}
