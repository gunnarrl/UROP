{
 "cells": [
  {
   "cell_type": "markdown",
   "id": "80a1ae55",
   "metadata": {},
   "source": [
    "# Employment rates in Finland"
   ]
  },
  {
   "cell_type": "markdown",
   "id": "e3a0367c",
   "metadata": {},
   "source": [
    "**Goal:** plot an interactive map of employment rates across Finnish regions.\n",
    "\n",
    "**Required modules:**\n",
    "- Folium for plotting interactive maps based on leaflet.js\n",
    "- Pandas for handling tabular data\n",
    "- Geopandas for handling spatial data"
   ]
  },
  {
   "cell_type": "code",
   "execution_count": null,
   "id": "87e052a3",
   "metadata": {},
   "outputs": [],
   "source": [
    "# Import required modules:\n",
    "import folium\n",
    "import pandas as pd\n",
    "import geopandas as gpd\n",
    "import matplotlib.pyplot as plt\n",
    "%matplotlib inline"
   ]
  },
  {
   "cell_type": "markdown",
   "id": "c5bcec59",
   "metadata": {},
   "source": [
    "### Employment rate data \n",
    "\n",
    "Employment rate refers to \"the proportion of the employed among persons aged 15 to 64\". Data from Statistics Finland (saved from .xml-file to csv in Excel..)."
   ]
  },
  {
   "cell_type": "code",
   "execution_count": null,
   "id": "219d2946",
   "metadata": {},
   "outputs": [],
   "source": [
    "# Read in data\n",
    "data = pd.read_csv(\"data/seutukunta_tyollisyys_2013.csv\", sep=\",\")\n",
    "data.head()"
   ]
  },
  {
   "cell_type": "markdown",
   "id": "436ff566",
   "metadata": {},
   "source": [
    "### Sub-regional units\n",
    "\n",
    "The spatial data for the [sub-regional units](http://www.stat.fi/meta/luokitukset/seutukunta/001-2018/index_en.html#_ga=2.189315043.975495398.1543480533-446957274.1543480533) (*Seutukunnat* in Finnish) can be retrieved from the Statistics Finland Web Feature Service `http://geo.stat.fi/geoserver/tilastointialueet/wfs`"
   ]
  },
  {
   "cell_type": "code",
   "execution_count": null,
   "id": "76340aff",
   "metadata": {},
   "outputs": [],
   "source": [
    "# A layer saved to GeoJson in QGIS..\n",
    "#geodata = gpd.read_file('Seutukunnat_2018.geojson')\n",
    "\n",
    "# Get features directly from the wfs\n",
    "url = \"http://geo.stat.fi/geoserver/tilastointialueet/wfs?request=GetFeature&typename=tilastointialueet:seutukunta1000k_2018&outputformat=JSON\"\n",
    "geodata = gpd.read_file(url)"
   ]
  },
  {
   "cell_type": "code",
   "execution_count": null,
   "id": "ad557775",
   "metadata": {},
   "outputs": [],
   "source": [
    "geodata.head()"
   ]
  },
  {
   "cell_type": "markdown",
   "id": "0f85cb10",
   "metadata": {},
   "source": [
    "### Join attributes and geometries\n",
    "\n",
    "We can join the attribute layer and spatial layer based on the region code (stored in column 'seutukunta'). The region codes in the csv contain additional letters \"SK\" which we need to remove before the join:"
   ]
  },
  {
   "cell_type": "code",
   "execution_count": null,
   "id": "5f9fa1bc",
   "metadata": {},
   "outputs": [],
   "source": [
    "data[\"seutukunta\"] = data[\"seutukunta\"].apply(lambda x: x[2:])\n",
    "data[\"seutukunta\"].head()"
   ]
  },
  {
   "cell_type": "markdown",
   "id": "726d9dda",
   "metadata": {},
   "source": [
    "Now we can join the data based on the \"seutukunta\" -column.\n",
    "Let's also check that we have a matching number of records before and after the join:"
   ]
  },
  {
   "cell_type": "code",
   "execution_count": null,
   "id": "80d17378",
   "metadata": {},
   "outputs": [],
   "source": [
    "#print info\n",
    "print(\"Count of original attributes:\", len(data))\n",
    "print(\"Count of original geometries:\", len(geodata))\n",
    "\n",
    "# Merge data\n",
    "geodata = geodata.merge(data, on = \"seutukunta\")\n",
    "\n",
    "#Print info\n",
    "print(\"Count after the join:\", len(geodata))\n",
    "\n",
    "geodata.head()"
   ]
  },
  {
   "cell_type": "code",
   "execution_count": null,
   "id": "765134ba",
   "metadata": {},
   "outputs": [],
   "source": [
    "## Create a static map"
   ]
  },
  {
   "cell_type": "markdown",
   "id": "b37e7ce0",
   "metadata": {},
   "source": [
    "Now we have a spatial layer with the employment rate information (in column \"tyollisuus\").\n",
    "Let's create a simple plot based on this data:"
   ]
  },
  {
   "cell_type": "code",
   "execution_count": null,
   "id": "57c2e421",
   "metadata": {},
   "outputs": [],
   "source": [
    "# Define which variable to plot\n",
    "geodata.plot(column=\"tyollisyys\")"
   ]
  },
  {
   "cell_type": "markdown",
   "id": "31dfac7f",
   "metadata": {},
   "source": [
    "Adjusting the figure, we need to import matplotlib pyplot"
   ]
  },
  {
   "cell_type": "code",
   "execution_count": null,
   "id": "761b31ae",
   "metadata": {},
   "outputs": [],
   "source": [
    "# Adjust figure size\n",
    "fig, ax = plt.subplots(1, figsize=(10, 8))\n",
    "\n",
    "# Adjust colors and add a legend\n",
    "geodata.plot(ax = ax, column=\"tyollisyys\", scheme=\"quantiles\", cmap=\"Reds\", legend=True)"
   ]
  },
  {
   "cell_type": "markdown",
   "id": "21179bb3",
   "metadata": {},
   "source": [
    "## Create an interactive map\n",
    "\n",
    "Next, we'll plot an interactive map based on the same data, and usign the folium library, which enables us to create maps based on the JavaScript library leaflet.js."
   ]
  },
  {
   "cell_type": "code",
   "execution_count": null,
   "id": "af1032db",
   "metadata": {},
   "outputs": [],
   "source": [
    "# Create a Geo-id which is needed by the Folium (it needs to have a unique identifier for each row)\n",
    "geodata['geoid'] = geodata.index.astype(str)"
   ]
  },
  {
   "cell_type": "code",
   "execution_count": null,
   "id": "7bc1a090",
   "metadata": {},
   "outputs": [],
   "source": [
    "# Create a Map instance\n",
    "m = folium.Map(location=[60.25, 24.8], tiles = 'cartodbpositron', zoom_start=8, control_scale=True)\n",
    "\n",
    "folium.Choropleth(geo_data = geodata, \n",
    "                  data = geodata, \n",
    "                  columns=['geoid','tyollisyys'], \n",
    "                  key_on='feature.id', \n",
    "                  fill_color='RdYlBu', \n",
    "                  line_color='white',\n",
    "                  line_weight=0,\n",
    "                  legend_name= 'Employment rate in Finland').add_to(m)\n",
    "m"
   ]
  },
  {
   "cell_type": "markdown",
   "id": "557ab0ce",
   "metadata": {},
   "source": [
    "We can also plot \"tooltips\" on the map, which show the values for each feature."
   ]
  },
  {
   "cell_type": "code",
   "execution_count": null,
   "id": "7bddea74",
   "metadata": {},
   "outputs": [],
   "source": [
    "folium.features.GeoJson(geodata, name='Labels',\n",
    "               style_function=lambda x: {'color':'transparent','fillColor':'transparent','weight':0},\n",
    "                tooltip=folium.features.GeoJsonTooltip(fields=['tyollisyys'],\n",
    "                                              aliases = ['Employment rate'],\n",
    "                                              labels=True,\n",
    "                                              sticky=False\n",
    "                                             )\n",
    "                       ).add_to(m)\n",
    "\n",
    "m"
   ]
  },
  {
   "cell_type": "markdown",
   "id": "6ae83111",
   "metadata": {},
   "source": [
    "Create a styling function with a classification scheme:"
   ]
  },
  {
   "cell_type": "code",
   "execution_count": null,
   "id": "5120e926",
   "metadata": {},
   "outputs": [],
   "source": [
    "import branca\n",
    "\n",
    "# Create a series (or a dictionary?) out of the variable that you want to map\n",
    "employed_series = data.set_index('seutukunta')['tyollisyys']\n",
    "\n",
    "# Setl colorscale\n",
    "colorscale = branca.colormap.linear.RdYlBu_05.to_step(data = geodata['tyollisyys'], n = 6, method = 'quantiles')\n",
    "\n",
    "#Define style function\n",
    "def my_color_function(feature):\n",
    "    \n",
    "   employed = employed_series.get(int(feature['id']), None)\n",
    "\n",
    "   return {\n",
    "       'fillOpacity': 0.5,\n",
    "       'weight': 0,\n",
    "       'fillColor': '#black' if employed is None else colorscale(employed)\n",
    "       }"
   ]
  },
  {
   "cell_type": "markdown",
   "id": "6a23c7b3",
   "metadata": {},
   "source": [
    "Plot the polygons, apply the classification scheme and add tooltips"
   ]
  },
  {
   "cell_type": "code",
   "execution_count": null,
   "id": "99ab6620",
   "metadata": {},
   "outputs": [],
   "source": [
    "# Based on :\n",
    "#https://python-visualization.github.io/folium/quickstart.html\n",
    "#https://github.com/python-visualization/folium/blob/master/examples/Colormaps.ipynb\n",
    "\n",
    "\n",
    "# Create a Map instance\n",
    "m = folium.Map(location=[60.25, 24.8], tiles = 'cartodbpositron', zoom_start=6, control_scale=True)\n",
    "\n",
    "# add geojson layer on the map, which visualizes the polygons based on your style function, and additional parameters  \n",
    "folium.GeoJson(\n",
    "   geodata,\n",
    "   name = \"Employment rate in Finland (2013)\",\n",
    "   style_function=my_color_function,\n",
    "   tooltip=folium.features.GeoJsonTooltip(fields=['nimi','tyollisyys'],\n",
    "                                             aliases = ['Region','Employment rate (%)'],\n",
    "                                             labels=True,\n",
    "                                             sticky=True)\n",
    ").add_to(m)\n",
    "\n",
    "\n",
    "#Add a legend\n",
    "colorscale .caption = 'Employment rate (%)'\n",
    "m.add_child(colorscale)\n",
    "\n",
    "# Create a layer control object and add it to our map instance\n",
    "folium.LayerControl().add_to(m)\n",
    "\n",
    "#Show map\n",
    "m"
   ]
  },
  {
   "cell_type": "code",
   "execution_count": null,
   "id": "fab7814e",
   "metadata": {},
   "outputs": [],
   "source": [
    "outfp = \"employment_rate_in_finland.html\"\n",
    "m.save(outfp)"
   ]
  }
 ],
 "metadata": {},
 "nbformat": 4,
 "nbformat_minor": 5
}
