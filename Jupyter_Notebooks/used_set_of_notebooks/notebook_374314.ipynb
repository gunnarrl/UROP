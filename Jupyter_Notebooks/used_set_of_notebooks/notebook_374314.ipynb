{
 "cells": [
  {
   "cell_type": "markdown",
   "id": "0e72c866",
   "metadata": {},
   "source": [
    "# Demonstration for mlflow REST API\n",
    "\n",
    "This notebook demonstrates use of the mlflow tracking REST api to retrieve results from mlflow experiments and place them into a pandas dataframe."
   ]
  },
  {
   "cell_type": "code",
   "execution_count": null,
   "id": "e08cda08",
   "metadata": {},
   "outputs": [],
   "source": [
    "from __future__ import print_function"
   ]
  },
  {
   "cell_type": "code",
   "execution_count": null,
   "id": "42990b50",
   "metadata": {},
   "outputs": [],
   "source": [
    "import pandas as pd\n",
    "import numpy as np\n",
    "import os\n",
    "import os.path\n",
    "import requests\n",
    "import socket\n",
    "\n",
    "from sklearn.model_selection import train_test_split\n",
    "from sklearn.linear_model import ElasticNet\n",
    "\n",
    "import mlflow\n",
    "import mlflow.tracking\n",
    "import mlflow.sklearn"
   ]
  },
  {
   "cell_type": "markdown",
   "id": "27869f8b",
   "metadata": {},
   "source": [
    "## set up to invoke mlflow tracking REST api"
   ]
  },
  {
   "cell_type": "code",
   "execution_count": null,
   "id": "ae35915d",
   "metadata": {},
   "outputs": [],
   "source": [
    "# Assumes MFLOW_TRACKING_URI is set\n",
    "\n",
    "REST_API_URL = os.environ['MLFLOW_TRACKING_URI'] + '/api/2.0/preview/mlflow'\n",
    "\n",
    "print(REST_API_URL)"
   ]
  },
  {
   "cell_type": "markdown",
   "id": "17a961f0",
   "metadata": {},
   "source": [
    "## List all experiments"
   ]
  },
  {
   "cell_type": "code",
   "execution_count": null,
   "id": "6290a586",
   "metadata": {},
   "outputs": [],
   "source": [
    "r = requests.get(REST_API_URL + '/experiments/list')\n",
    "experiment_list = r.json()\n",
    "experiment_list"
   ]
  },
  {
   "cell_type": "markdown",
   "id": "359d5587",
   "metadata": {},
   "source": [
    "## Retrieve data for specified experiment"
   ]
  },
  {
   "cell_type": "code",
   "execution_count": null,
   "id": "06ccf511",
   "metadata": {},
   "outputs": [],
   "source": [
    "r = requests.get(REST_API_URL + '/experiments/get',\n",
    "                 json={'experiment_id':'1'})\n",
    "experiment_data = r.json()\n"
   ]
  },
  {
   "cell_type": "code",
   "execution_count": null,
   "id": "12556bd7",
   "metadata": {},
   "outputs": [],
   "source": [
    "experiment_data['experiment']"
   ]
  },
  {
   "cell_type": "code",
   "execution_count": null,
   "id": "0f8ce874",
   "metadata": {},
   "outputs": [],
   "source": [
    "experiment_metadata = {'experiment_name':experiment_data['experiment']['name'],\n",
    "                       'experiment_id' : experiment_data['experiment']['experiment_id']}"
   ]
  },
  {
   "cell_type": "markdown",
   "id": "86e39b9c",
   "metadata": {},
   "source": [
    "## Extract experiment results to pandas dataframe"
   ]
  },
  {
   "cell_type": "markdown",
   "id": "548e32ad",
   "metadata": {},
   "source": [
    "### Retrieve desired experiment attributes"
   ]
  },
  {
   "cell_type": "code",
   "execution_count": null,
   "id": "0f5218ed",
   "metadata": {},
   "outputs": [],
   "source": [
    "df1 = pd.DataFrame([{k:experiment_data['experiment'][k] for k in ['name','experiment_id']}])\n",
    "df1"
   ]
  },
  {
   "cell_type": "markdown",
   "id": "d2faca73",
   "metadata": {},
   "source": [
    "### Extract run data (metrics, params and tags) "
   ]
  },
  {
   "cell_type": "code",
   "execution_count": null,
   "id": "153efcd5",
   "metadata": {},
   "outputs": [],
   "source": [
    "def extract_run_data(r):\n",
    "    # seed dataframe row with experiment attributes\n",
    "    ans = experiment_metadata.copy()\n",
    "    \n",
    "    # add run uuid\n",
    "    ans.update({'run_uuid': r['run_uuid']})\n",
    "    \n",
    "    # retrieve metrics, params and tags from the run\n",
    "    r1 = requests.get(REST_API_URL + '/runs/get',\n",
    "                      json={'run_uuid': r['run_uuid']})\n",
    "    run_data = r1.json()['run']['data']\n",
    "    \n",
    "    # populate dataframe row with metrics, params and tags \n",
    "    for k in run_data.keys():    \n",
    "        try:\n",
    "            data = {k+'_'+x['key']:x['value'] for x in run_data[k]}\n",
    "        except:\n",
    "            data = {}\n",
    "\n",
    "        ans.update(data)\n",
    "        \n",
    "    # return the dataframe row\n",
    "    return ans"
   ]
  },
  {
   "cell_type": "code",
   "execution_count": null,
   "id": "62bf7790",
   "metadata": {},
   "outputs": [],
   "source": [
    "df = pd.DataFrame([extract_run_data(r) for r in experiment_data['runs']])\n",
    "df"
   ]
  },
  {
   "cell_type": "code",
   "execution_count": null,
   "id": "86263eb6",
   "metadata": {},
   "outputs": [],
   "source": [
    "df[['params_alpha','params_l1_ratio','params_learning_rate','params_max_depth']] = \\\n",
    "    df[['params_alpha','params_l1_ratio','params_learning_rate','params_max_depth']].apply(pd.to_numeric)"
   ]
  },
  {
   "cell_type": "code",
   "execution_count": null,
   "id": "08918e2e",
   "metadata": {},
   "outputs": [],
   "source": [
    "df.dtypes"
   ]
  },
  {
   "cell_type": "markdown",
   "id": "8f81dee2",
   "metadata": {},
   "source": [
    "## Display experiment results sorted by metric"
   ]
  },
  {
   "cell_type": "code",
   "execution_count": null,
   "id": "384bc218",
   "metadata": {},
   "outputs": [],
   "source": [
    "df.sort_values('metrics_r2',ascending=False)"
   ]
  },
  {
   "cell_type": "code",
   "execution_count": null,
   "id": "b619fa1b",
   "metadata": {},
   "outputs": [],
   "source": [
    "df.shape"
   ]
  }
 ],
 "metadata": {},
 "nbformat": 4,
 "nbformat_minor": 5
}
