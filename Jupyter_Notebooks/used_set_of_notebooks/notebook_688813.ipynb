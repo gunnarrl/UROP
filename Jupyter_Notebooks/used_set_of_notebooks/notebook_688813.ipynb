{
 "cells": [
  {
   "cell_type": "markdown",
   "id": "7e8f1c9f",
   "metadata": {},
   "source": [
    "In this Kernel, I'd like to show you a very basic segmentation technique whihc only applies pure computer vision techniques. Nothing fancy.\n",
    "\n",
    "At first, I'll show the step-by-step processing and after that I will create the submission for the competition.\n",
    "\n",
    "With this kernel, I could reach *0.229 LB* which is not very nice but I am sure that with a few tweaks we could get better score. And consider that **we don't even use the train data**! which is pretty awesome in my opinion."
   ]
  },
  {
   "cell_type": "code",
   "execution_count": null,
   "id": "0d17855f",
   "metadata": {},
   "outputs": [],
   "source": [
    "import numpy as np\n",
    "import pandas as pd\n",
    "import os\n",
    "from os.path import join\n",
    "import glob\n",
    "import cv2\n",
    "%matplotlib inline\n",
    "import matplotlib.pyplot as plt"
   ]
  },
  {
   "cell_type": "code",
   "execution_count": null,
   "id": "a70aa3d1",
   "metadata": {},
   "outputs": [],
   "source": [
    "TRAIN_PATH = '../input/stage1_train/'\n",
    "TEST_PATH = '../input/stage1_test/'"
   ]
  },
  {
   "cell_type": "code",
   "execution_count": null,
   "id": "267adc3d",
   "metadata": {},
   "outputs": [],
   "source": [
    "train_ids = os.listdir(TRAIN_PATH)\n",
    "test_ids = os.listdir(TEST_PATH)"
   ]
  },
  {
   "cell_type": "code",
   "execution_count": null,
   "id": "8235f37a",
   "metadata": {},
   "outputs": [],
   "source": [
    "test_image_paths = [glob.glob(join(TEST_PATH, test_id, \"images\", \"*\"))[0] for test_id in test_ids]"
   ]
  },
  {
   "cell_type": "markdown",
   "id": "89aff5a1",
   "metadata": {},
   "source": [
    "# Step-by-step processing"
   ]
  },
  {
   "cell_type": "code",
   "execution_count": null,
   "id": "581d7993",
   "metadata": {},
   "outputs": [],
   "source": [
    "tmp_image_path = np.random.choice(test_image_paths)\n",
    "tmp_image = cv2.imread(tmp_image_path, cv2.IMREAD_GRAYSCALE)"
   ]
  },
  {
   "cell_type": "code",
   "execution_count": null,
   "id": "165d67a9",
   "metadata": {},
   "outputs": [],
   "source": [
    "plt.imshow(tmp_image)"
   ]
  },
  {
   "cell_type": "markdown",
   "id": "a3d3d608",
   "metadata": {},
   "source": [
    "Now comes the crucial part of the processing. First we would like to create a binary matrix from the original image. The ones in the matrix are considered to be objects and the zeros are the background. So If we don't do this correctly we're going to loose a lot of inforamtion."
   ]
  },
  {
   "cell_type": "code",
   "execution_count": null,
   "id": "fb8bc34f",
   "metadata": {},
   "outputs": [],
   "source": [
    "ret, thresh = cv2.threshold(tmp_image, 100, 255, cv2.THRESH_OTSU)"
   ]
  },
  {
   "cell_type": "code",
   "execution_count": null,
   "id": "899cb878",
   "metadata": {},
   "outputs": [],
   "source": [
    "fig, axs = plt.subplots(1, 2, figsize=(10,10))\n",
    "axs[0].imshow(tmp_image)\n",
    "axs[1].imshow(thresh)"
   ]
  },
  {
   "cell_type": "markdown",
   "id": "9ceb8966",
   "metadata": {},
   "source": [
    "There are images where the thresholding does not help because the ones will be the background and the zeros the objects. This happend when the background is more brighter than the objects.\n",
    "\n",
    "But how we detect this?\n",
    "\n",
    "We just have to find the contours of the objects. Than calculate the area of the contour and if it is above some threshold value than we will just invert the image."
   ]
  },
  {
   "cell_type": "code",
   "execution_count": null,
   "id": "8d91ec5b",
   "metadata": {},
   "outputs": [],
   "source": [
    "_, cnts, _ = cv2.findContours(thresh, cv2.RETR_TREE, cv2.CHAIN_APPROX_SIMPLE)\n",
    "cnts = sorted(cnts, key=cv2.contourArea, reverse=True)"
   ]
  },
  {
   "cell_type": "code",
   "execution_count": null,
   "id": "fe2586ca",
   "metadata": {},
   "outputs": [],
   "source": [
    "max_cnt_area = cv2.contourArea(cnts[0])"
   ]
  },
  {
   "cell_type": "code",
   "execution_count": null,
   "id": "ae04b8cf",
   "metadata": {},
   "outputs": [],
   "source": [
    "print(\"The area of the largest object is: {0}\".format(max_cnt_area))"
   ]
  },
  {
   "cell_type": "markdown",
   "id": "fa43e0c1",
   "metadata": {},
   "source": [
    "This is the part where we invert the threshold image if we are not satisfied with the area of the largest contour"
   ]
  },
  {
   "cell_type": "code",
   "execution_count": null,
   "id": "9fd9b8d3",
   "metadata": {},
   "outputs": [],
   "source": [
    "if max_cnt_area > 50000:\n",
    "    ret, thresh = cv2.threshold(tmp_image, 100, 255, cv2.THRESH_OTSU | cv2.THRESH_BINARY_INV)"
   ]
  },
  {
   "cell_type": "markdown",
   "id": "42ac738f",
   "metadata": {},
   "source": [
    "And here comes the *morphology*.\n",
    "\n",
    "We will use:\n",
    "- Dilation (read more: https://homepages.inf.ed.ac.uk/rbf/HIPR2/dilate.htm)\n",
    "- Erosion (read more: https://homepages.inf.ed.ac.uk/rbf/HIPR2/erode.htm)"
   ]
  },
  {
   "cell_type": "code",
   "execution_count": null,
   "id": "e059bc19",
   "metadata": {},
   "outputs": [],
   "source": [
    "mask = cv2.dilate(thresh, cv2.getStructuringElement(cv2.MORPH_ELLIPSE, (5,5)))\n",
    "mask = cv2.erode(mask, cv2.getStructuringElement(cv2.MORPH_ELLIPSE, (5,5)))"
   ]
  },
  {
   "cell_type": "code",
   "execution_count": null,
   "id": "91b98219",
   "metadata": {},
   "outputs": [],
   "source": [
    "fig, axs = plt.subplots(1, 4, figsize=(30,30))\n",
    "axs[0].imshow(tmp_image)\n",
    "axs[1].imshow(thresh)\n",
    "axs[2].imshow(mask)\n",
    "axs[3].imshow(cv2.bitwise_and(tmp_image, tmp_image, mask=mask))"
   ]
  },
  {
   "cell_type": "markdown",
   "id": "719df84b",
   "metadata": {},
   "source": [
    "# Process the test images for submission"
   ]
  },
  {
   "cell_type": "markdown",
   "id": "dca2cfaf",
   "metadata": {},
   "source": [
    "I separated the logic into 2 funcrtions so it is easier to use it."
   ]
  },
  {
   "cell_type": "code",
   "execution_count": null,
   "id": "19cf6e8d",
   "metadata": {},
   "outputs": [],
   "source": [
    "def threshold(image_gray):\n",
    "    image_gray = cv2.GaussianBlur(image_gray, (7, 7), 1)\n",
    "    ret, thresh = cv2.threshold(image_gray, 0, 255, cv2.THRESH_OTSU)\n",
    "    \n",
    "    _, cnts, _ = cv2.findContours(thresh, cv2.RETR_TREE, cv2.CHAIN_APPROX_SIMPLE)\n",
    "    cnts = sorted(cnts, key=cv2.contourArea, reverse=True)\n",
    "    max_cnt_area = cv2.contourArea(cnts[0])\n",
    "    \n",
    "    if max_cnt_area > 50000:\n",
    "        ret, thresh = cv2.threshold(image_gray, 0, 255, cv2.THRESH_OTSU | cv2.THRESH_BINARY_INV)\n",
    "    \n",
    "    return thresh\n",
    "\n",
    "def apply_morphology(thresh):\n",
    "    mask = cv2.dilate(thresh, cv2.getStructuringElement(cv2.MORPH_ELLIPSE, (5,5)))\n",
    "    mask = cv2.erode(mask, cv2.getStructuringElement(cv2.MORPH_ELLIPSE, (5,5)))\n",
    "    return mask"
   ]
  },
  {
   "cell_type": "markdown",
   "id": "fee2d3b9",
   "metadata": {},
   "source": [
    "Now we only have to create the mask images from the test images"
   ]
  },
  {
   "cell_type": "code",
   "execution_count": null,
   "id": "ec478b9b",
   "metadata": {},
   "outputs": [],
   "source": [
    "segmented = []\n",
    "for test_image_path in test_image_paths:\n",
    "    tmp_image = cv2.imread(test_image_path, cv2.IMREAD_GRAYSCALE)\n",
    "    \n",
    "    thresh = threshold(tmp_image)\n",
    "    mask = apply_morphology(thresh)\n",
    "    \n",
    "    segmented.append(mask)"
   ]
  },
  {
   "cell_type": "code",
   "execution_count": null,
   "id": "9dbe3b1b",
   "metadata": {},
   "outputs": [],
   "source": [
    "# Run length Encoding from https://www.kaggle.com/rakhlin/fast-run-length-encoding-python\n",
    "\n",
    "from skimage.morphology import label\n",
    "\n",
    "def rle_encoding(x):\n",
    "    dots = np.where(x.T.flatten() == 1)[0]\n",
    "    run_lengths = []\n",
    "    prev = -2\n",
    "    for b in dots:\n",
    "        if (b>prev+1): run_lengths.extend((b + 1, 0))\n",
    "        run_lengths[-1] += 1\n",
    "        prev = b\n",
    "    return run_lengths\n",
    "\n",
    "def prob_to_rles(x, cutoff=0.5):\n",
    "    lab_img = label(x > cutoff)\n",
    "    for i in range(1, lab_img.max() + 1):\n",
    "        yield rle_encoding(lab_img == i)"
   ]
  },
  {
   "cell_type": "code",
   "execution_count": null,
   "id": "6aae1819",
   "metadata": {},
   "outputs": [],
   "source": [
    "new_test_ids = []\n",
    "rles = []\n",
    "for n, id_ in enumerate(test_ids):\n",
    "    rle = list(prob_to_rles(segmented[n]))\n",
    "    rles.extend(rle)\n",
    "    new_test_ids.extend([id_] * len(rle))"
   ]
  },
  {
   "cell_type": "code",
   "execution_count": null,
   "id": "34ad66d8",
   "metadata": {},
   "outputs": [],
   "source": [
    "submission_df = pd.DataFrame()\n",
    "submission_df['ImageId'] = new_test_ids\n",
    "submission_df['EncodedPixels'] = pd.Series(rles).apply(lambda x: ' '.join(str(y) for y in x))"
   ]
  },
  {
   "cell_type": "code",
   "execution_count": null,
   "id": "37d51108",
   "metadata": {},
   "outputs": [],
   "source": [
    "submission_df.sample(3)"
   ]
  },
  {
   "cell_type": "code",
   "execution_count": null,
   "id": "ccdfad45",
   "metadata": {},
   "outputs": [],
   "source": [
    "if not len(np.unique(submission_df[\"ImageId\"])) == len(test_ids):\n",
    "    print(\"Submission is not complete\")\n",
    "    print(\"Missing test ids: {0}\".format(set(test_ids).difference(set(np.unique(submission_df[\"ImageId\"])))))\n",
    "else:\n",
    "    print(\"Submission is complete\")"
   ]
  },
  {
   "cell_type": "code",
   "execution_count": null,
   "id": "345d06ea",
   "metadata": {},
   "outputs": [],
   "source": [
    "submission_df.to_csv('submission_pure_cv.csv', index=False)"
   ]
  }
 ],
 "metadata": {},
 "nbformat": 4,
 "nbformat_minor": 5
}
