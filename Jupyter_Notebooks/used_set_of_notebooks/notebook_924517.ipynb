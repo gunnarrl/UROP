{
 "cells": [
  {
   "cell_type": "code",
   "execution_count": null,
   "id": "89d480d0",
   "metadata": {},
   "outputs": [],
   "source": [
    "import numpy as np\n",
    "import pandas as pd\n",
    "import matplotlib.pyplot as plt\n",
    "import seaborn as sns\n",
    "import re\n",
    "from sklearn.model_selection import train_test_split\n",
    "from sklearn.model_selection import KFold\n",
    "from sklearn.model_selection import StratifiedKFold\n",
    "from sklearn.model_selection import cross_val_score\n",
    "from sklearn.model_selection import RandomizedSearchCV, GridSearchCV\n",
    "from sklearn.linear_model import LogisticRegression\n",
    "from sklearn.ensemble import RandomForestClassifier\n",
    "from sklearn.ensemble import AdaBoostClassifier\n",
    "from sklearn import svm, tree\n",
    "from sklearn.neighbors import KNeighborsClassifier, NeighborhoodComponentsAnalysis\n",
    "from sklearn.naive_bayes import GaussianNB\n",
    "from sklearn.metrics import classification_report, accuracy_score\n",
    "from sklearn.preprocessing import StandardScaler\n",
    "from sklearn.preprocessing import MinMaxScaler\n",
    "from sklearn.preprocessing import RobustScaler\n",
    "from sklearn.pipeline import Pipeline\n",
    "from sklearn.metrics import confusion_matrix\n",
    "from sklearn.metrics import f1_score\n",
    "from sklearn.pipeline import make_pipeline\n",
    "from sklearn.dummy import DummyClassifier\n",
    "import xgboost\n",
    "import copy"
   ]
  },
  {
   "cell_type": "markdown",
   "id": "ee084873",
   "metadata": {},
   "source": [
    "### Load Dataset"
   ]
  },
  {
   "cell_type": "code",
   "execution_count": null,
   "id": "1c2b2f69",
   "metadata": {},
   "outputs": [],
   "source": [
    "dataset = pd.read_csv('nba_player_data_through_jan.csv')\n",
    "dataset.set_index('Player')\n",
    "dataset = dataset.drop(columns = 'Unnamed: 0')\n",
    "dataset.head()"
   ]
  },
  {
   "cell_type": "markdown",
   "id": "a902bf38",
   "metadata": {},
   "source": [
    "### Data Preprocessing"
   ]
  },
  {
   "cell_type": "code",
   "execution_count": null,
   "id": "89a56d2e",
   "metadata": {},
   "outputs": [],
   "source": [
    "std_scaler = StandardScaler()\n",
    "dataset_guards = dataset[dataset['Position'] == 'G']\n",
    "dataset_bigs = dataset[dataset['Position'] == 'F/C']\n",
    "x = dataset[['PPG', 'RPG', 'APG', 'BPG', 'SPG', 'GP', 'W%']]\n",
    "y = dataset['All-Star']\n",
    "x_guards = dataset_guards[['PPG', 'RPG', 'APG', 'BPG', 'SPG', 'GP', 'W%']]\n",
    "y_guards = dataset_guards['All-Star']\n",
    "x_bigs = dataset_bigs[['PPG', 'RPG', 'APG', 'BPG', 'SPG', 'GP', 'W%']]\n",
    "y_bigs = dataset_bigs['All-Star']\n",
    "#Years in which the average league ppg is >= 105\n",
    "year_ranges = [str(year) for year in range(2016,2019)] + [str(year) for year in range(1980,1993)]\n",
    "#year_ranges = [str(year) for year in range(2000,2019)]\n",
    "dataset_guards_restricted = dataset_guards[dataset_guards['Player'].str.split(' ', expand=True)[2].str.split('-',expand=True)[0].isin(year_ranges)]\n",
    "dataset_bigs_restricted = dataset_bigs[dataset_bigs['Player'].str.split(' ', expand=True)[2].str.split('-',expand=True)[0].isin(year_ranges)]\n",
    "x_guards_restricted = dataset_guards_restricted[['PPG', 'RPG', 'APG', 'BPG', 'SPG', 'GP', 'W%']]\n",
    "y_guards_restricted = dataset_guards_restricted['All-Star']\n",
    "x_bigs_restricted = dataset_bigs_restricted[['PPG', 'RPG', 'APG', 'BPG', 'SPG', 'GP', 'W%']]\n",
    "y_bigs_restricted = dataset_bigs_restricted['All-Star']"
   ]
  },
  {
   "cell_type": "markdown",
   "id": "7fdb0c65",
   "metadata": {},
   "source": [
    "### Classification Algorithm Performance Functions"
   ]
  },
  {
   "cell_type": "code",
   "execution_count": null,
   "id": "11f42573",
   "metadata": {},
   "outputs": [],
   "source": [
    "def check_classification_algorithms(algos, class_names, x_train, x_test, y_train, y_test): \n",
    "    for classifier in algos: \n",
    "        model = classifier.fit(x_train, y_train)\n",
    "        preds = model.predict(x_test)\n",
    "        print(classifier)\n",
    "        print(confusion_matrix(y_test, preds))\n",
    "        print(classification_report(y_test, preds, target_names=class_names))\n",
    "def check_classification_k_fold_cross_validation(kfoldtype, algos, class_names, x_data, y_data):\n",
    "    X, Y = np.array(x_data), np.array(y_data)\n",
    "    for classifier in algos:\n",
    "        cv_total_preds = []\n",
    "        cv_total_real = []\n",
    "        std_pipeline = make_pipeline(StandardScaler(), classifier)\n",
    "        for train_ind, test_ind in kfoldtype.split(X, Y): \n",
    "            x_tr, x_te = X[train_ind], X[test_ind]\n",
    "            y_tr, y_te = Y[train_ind], Y[test_ind]\n",
    "            std_pipeline.fit(x_tr, y_tr)\n",
    "            preds = std_pipeline.predict(x_te)\n",
    "            cv_total_real = np.append(cv_total_real,y_te)\n",
    "            cv_total_preds = np.append(cv_total_preds, preds)\n",
    "        print(classifier)\n",
    "        print(confusion_matrix(cv_total_real, cv_total_preds))\n",
    "        print(classification_report(cv_total_real, cv_total_preds, target_names=class_names))"
   ]
  },
  {
   "cell_type": "code",
   "execution_count": null,
   "id": "1cc1c5a6",
   "metadata": {},
   "outputs": [],
   "source": [
    "classifiers = []\n",
    "classifiers.append(LogisticRegression())\n",
    "classifiers.append(KNeighborsClassifier(15))\n",
    "classifiers.append(tree.DecisionTreeClassifier())\n",
    "classifiers.append(RandomForestClassifier())\n",
    "classifiers.append(AdaBoostClassifier())\n",
    "classifiers.append(svm.SVC())\n",
    "classifiers.append(xgboost.XGBClassifier())\n",
    "classifiers.append(GaussianNB())\n",
    "kfold = StratifiedKFold(10, True, 42)"
   ]
  },
  {
   "cell_type": "markdown",
   "id": "52de0a22",
   "metadata": {},
   "source": [
    "### One model for all players"
   ]
  },
  {
   "cell_type": "code",
   "execution_count": null,
   "id": "8ea701e4",
   "metadata": {},
   "outputs": [],
   "source": [
    "check_classification_k_fold_cross_validation(kfold, classifiers, ['Non-All-Star', 'All-Star'], x ,y)\n",
    "#Random Forest Seems to have the best performance"
   ]
  },
  {
   "cell_type": "markdown",
   "id": "44af9298",
   "metadata": {},
   "source": [
    "### Different Models for Guards and Bigs"
   ]
  },
  {
   "cell_type": "code",
   "execution_count": null,
   "id": "1d2b0afd",
   "metadata": {},
   "outputs": [],
   "source": [
    "check_classification_k_fold_cross_validation(kfold, classifiers, ['Non-All-Star', 'All-Star'], x_guards ,y_guards)\n",
    "#SVC seems to be really good for guards \n",
    "check_classification_k_fold_cross_validation(kfold, classifiers, ['Non-All-Star', 'All-Star'], x_bigs ,y_bigs)"
   ]
  },
  {
   "cell_type": "markdown",
   "id": "45d44692",
   "metadata": {},
   "source": [
    "### Restricting Dataset Based on League Scoring - May More Accurately Reflect Modern Scoring Trends\n",
    "Dataset only contains years where average PPG >= 105 in the 3 point era (https://www.basketball-reference.com/leagues/NBA_stats_per_game.html) - similar to 2019-2020 (110.6 PPG)"
   ]
  },
  {
   "cell_type": "code",
   "execution_count": null,
   "id": "57561484",
   "metadata": {},
   "outputs": [],
   "source": [
    "check_classification_k_fold_cross_validation(kfold, classifiers, ['Non-All-Star', 'All-Star'], x_guards_restricted ,y_guards_restricted)\n",
    "check_classification_k_fold_cross_validation(kfold, classifiers, ['Non-All-Star', 'All-Star'], x_bigs_restricted ,y_bigs_restricted)\n",
    "guards_model = svm.SVC(C=1, gamma='scale', kernel='rbf')\n",
    "bigs_model = svm.SVC(C=100, gamma=0.01, kernel='rbf')\n",
    "check_classification_k_fold_cross_validation(kfold, [guards_model], ['Non-All-Star', 'All-Star'], x_guards_restricted ,y_guards_restricted)\n",
    "check_classification_k_fold_cross_validation(kfold, [bigs_model], ['Non-All-Star', 'All-Star'], x_bigs_restricted ,y_bigs_restricted)"
   ]
  },
  {
   "cell_type": "markdown",
   "id": "d0216f51",
   "metadata": {},
   "source": [
    "### Random Search CV To Tune Random Forest Classifier For General Model\n",
    "Used as reference: https://towardsdatascience.com/hyperparameter-tuning-the-random-forest-in-python-using-scikit-learn-28d2aa77dd74"
   ]
  },
  {
   "cell_type": "code",
   "execution_count": null,
   "id": "242c9fc7",
   "metadata": {},
   "outputs": [],
   "source": [
    "n_estimators = [int(x) for x in np.linspace(start = 10, stop = 2000, num = 10)]\n",
    "max_features = ['auto', 'sqrt']\n",
    "max_depth = [int(x) for x in np.linspace(10, 200, num = 1)]\n",
    "max_depth.append(None)\n",
    "min_samples_split = [2, 5, 10, 20]\n",
    "min_samples_leaf = [1, 2, 4, 10]\n",
    "bootstrap = [True, False]\n",
    "random_grid = {'n_estimators': n_estimators,\n",
    "               'max_features': max_features,\n",
    "               'max_depth': max_depth,\n",
    "               'min_samples_split': min_samples_split,\n",
    "               'min_samples_leaf': min_samples_leaf,\n",
    "               'bootstrap': bootstrap}"
   ]
  },
  {
   "cell_type": "code",
   "execution_count": null,
   "id": "02dcda26",
   "metadata": {},
   "outputs": [],
   "source": [
    "r_forest = RandomForestClassifier()\n",
    "tuned_r_forest = RandomizedSearchCV(estimator = r_forest, \n",
    "                               param_distributions = random_grid, scoring='f1', n_iter = 100, cv = 10, \n",
    "                               verbose=2, random_state=42, n_jobs = -1)\n",
    "tuner_r_forest.fit(x,y)\n",
    "print(tuned_r_forest.best_params_)"
   ]
  },
  {
   "cell_type": "markdown",
   "id": "f81b6318",
   "metadata": {},
   "source": [
    "### Grid Search CV for seperate guard/big models - Support Vector Classifier"
   ]
  },
  {
   "cell_type": "code",
   "execution_count": null,
   "id": "fa2067f5",
   "metadata": {},
   "outputs": [],
   "source": [
    "grid = {'C': [0.1, 1, 10, 100, 1000],  \n",
    "              'gamma': [2, 1, 0.1, 0.01, 0.001, 0.0001], \n",
    "              'kernel': ['rbf', 'linear']} \n",
    "best_svc_guards = GridSearchCV(estimator=svm.SVC(), param_grid=grid, scoring='f1', cv=10, verbose = 3, n_jobs=-1) \n",
    "best_svc_bigs = GridSearchCV(estimator=svm.SVC(), param_grid=grid, scoring='f1', cv=10, verbose = 3, n_jobs=-1) \n",
    "best_svc_guards.fit(x_guards, y_guards)\n",
    "best_svc_bigs.fit(x_bigs, y_bigs)"
   ]
  },
  {
   "cell_type": "code",
   "execution_count": null,
   "id": "9c469281",
   "metadata": {},
   "outputs": [],
   "source": [
    "print(best_svc_guards.best_estimator_)\n",
    "print(best_svc_bigs.best_estimator_)\n",
    "check_classification_k_fold_cross_validation(kfold, [best_svc_guards.best_estimator_], ['Non-All-Star', 'All-Star'], x_guards ,y_guards)\n",
    "check_classification_k_fold_cross_validation(kfold, [best_svc_bigs.best_estimator_], ['Non-All-Star', 'All-Star'], x_bigs ,y_bigs)"
   ]
  },
  {
   "cell_type": "markdown",
   "id": "3d3abd0d",
   "metadata": {},
   "source": [
    "### Comparing Tuned Random Forest General Model to Dummy Classifiers"
   ]
  },
  {
   "cell_type": "code",
   "execution_count": null,
   "id": "a07937dc",
   "metadata": {},
   "outputs": [],
   "source": [
    "rforestcomp = []\n",
    "rforestcomp.append(DummyClassifier(strategy='constant', constant=0))\n",
    "rforestcomp.append(DummyClassifier('stratified'))\n",
    "rforestcomp.append(DummyClassifier('prior'))\n",
    "rforestcomp.append(DummyClassifier('uniform'))                     \n",
    "check_classification_k_fold_cross_validation(kfold, rforestcomp, ['Non-All-Star', 'All-Star'], x ,y)"
   ]
  },
  {
   "cell_type": "markdown",
   "id": "c22abfe7",
   "metadata": {},
   "source": [
    "### Generate Predictions - Ultimately Using Support Vector Classifier Fitted on Restricted Dataset"
   ]
  },
  {
   "cell_type": "code",
   "execution_count": null,
   "id": "b89df577",
   "metadata": {},
   "outputs": [],
   "source": [
    "dataset_current = pd.read_csv('nba_player_data_through_jan_2019_2020.csv')\n",
    "dataset_current.set_index('Player')\n",
    "dataset_current_guards = dataset_current[dataset_current['Position'] == 'G']\n",
    "dataset_current_bigs = dataset_current[dataset_current['Position'] == 'F/C']\n",
    "x_current_guards = dataset_current_guards[['PPG', 'RPG', 'APG', 'BPG', 'SPG', 'GP', 'W%']]\n",
    "x_current_bigs = dataset_current_bigs[['PPG', 'RPG', 'APG', 'BPG', 'SPG', 'GP', 'W%']]\n",
    "guards_model = svm.SVC(C=1, gamma='scale', kernel='rbf')\n",
    "bigs_model = svm.SVC(C=100, gamma=0.01, kernel='rbf')\n",
    "guards_model.fit(x_guards_restricted, y_guards_restricted)\n",
    "bigs_model.fit(x_bigs_restricted, y_bigs_restricted)\n",
    "dataset_current_guards['All-Star'] = guards_model.predict(x_current_guards)\n",
    "dataset_current_guards = dataset_current_guards[dataset_current_guards['All-Star']]\n",
    "dataset_current_guards.to_csv('nba_all_star_predictions_guards_2019_2020.csv')\n",
    "dataset_current_bigs['All-Star'] = bigs_model.predict(x_current_bigs)\n",
    "dataset_current_bigs = dataset_current_bigs[dataset_current_bigs['All-Star']]\n",
    "dataset_current_bigs.to_csv('nba_all_star_predictions_bigs_2019_2020.csv')"
   ]
  }
 ],
 "metadata": {},
 "nbformat": 4,
 "nbformat_minor": 5
}
