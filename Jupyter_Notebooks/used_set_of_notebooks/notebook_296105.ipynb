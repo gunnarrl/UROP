{
 "cells": [
  {
   "cell_type": "code",
   "execution_count": null,
   "id": "160ce966",
   "metadata": {},
   "outputs": [],
   "source": [
    "import pandas as pd\n",
    "import numpy as np\n",
    "\n",
    "import matplotlib.pyplot as plt\n",
    "import matplotlib.dates as mdates\n",
    "\n",
    "import warnings\n",
    "warnings.filterwarnings(\"ignore\")"
   ]
  },
  {
   "cell_type": "markdown",
   "id": "cd973a3a",
   "metadata": {},
   "source": [
    "# Context\n",
    "\n",
    "In this tutorial, we are using sample data from Unbounce. Unbounce is a subscription-based tool that helps marketers to publish and optimize landing pages for a high conversion rate.  \n",
    "\n",
    "For this tutorial, the data includes events and subscription information for 4 accounts. No personal information is included, and account unique identifications have been changed to ensure security.\n",
    "\n",
    "# Load Data\n",
    "\n",
    "Customer behavior data usually includes date and time events, the moments when customers do a particular action. In this tutorial, we will look into events for account republish (`republished_df`) and login (`login_df`). \n",
    "\n",
    "We also have subscription information for each customer (`subscription_info_df`). A customer can have multiple subscriptions, but each subscription is mutually exclusive. A new subscription for a customer only starts when he/she churns (meaning stop paying) then re-subscribe. We call this person a flapper."
   ]
  },
  {
   "cell_type": "code",
   "execution_count": null,
   "id": "e35f4109",
   "metadata": {},
   "outputs": [],
   "source": [
    "republished_df = pd.read_csv(\"../data/visualize-customer-behavior/republished_sample.csv\")\n",
    "login_df = pd.read_csv(\"../data/visualize-customer-behavior/login_sample.csv\")\n",
    "subscription_info_df = pd.read_csv(\"../data/visualize-customer-behavior/subscription_info.csv\")"
   ]
  },
  {
   "cell_type": "code",
   "execution_count": null,
   "id": "cc3e8c3b",
   "metadata": {},
   "outputs": [],
   "source": [
    "republished_df.head()"
   ]
  },
  {
   "cell_type": "code",
   "execution_count": null,
   "id": "e589152c",
   "metadata": {},
   "outputs": [],
   "source": [
    "login_df.head()"
   ]
  },
  {
   "cell_type": "code",
   "execution_count": null,
   "id": "ca56c950",
   "metadata": {},
   "outputs": [],
   "source": [
    "subscription_info_df.head()"
   ]
  },
  {
   "cell_type": "markdown",
   "id": "d5cd2632",
   "metadata": {},
   "source": [
    "# Transform Data\n",
    "\n",
    "Before going into the visualization, we need to transform date columns to date-time format. Right now, Python thinks that they are a bunch of strings. Hence, the dates will not be arranged in a timely order."
   ]
  },
  {
   "cell_type": "code",
   "execution_count": null,
   "id": "2ad5817a",
   "metadata": {},
   "outputs": [],
   "source": [
    "republished_df['action_date'] = pd.to_datetime(republished_df['action_date'])\n",
    "login_df['action_date'] = pd.to_datetime(login_df['action_date'])\n",
    "subscription_info_df['subscription_starts_at'] = pd.to_datetime(subscription_info_df['subscription_starts_at'])\n",
    "subscription_info_df['subscription_ends_at'] = pd.to_datetime(subscription_info_df['subscription_ends_at'])"
   ]
  },
  {
   "cell_type": "code",
   "execution_count": null,
   "id": "181e462f",
   "metadata": {},
   "outputs": [],
   "source": [
    "sample_subscription = subscription_info_df[subscription_info_df['AccountCode'] == 'a']\n",
    "sample_republished = republished_df[republished_df['AccountCode'] == 'a']\n",
    "sample_login = login_df[login_df['AccountCode'] == 'a']\n",
    "\n",
    "# this is a constant for visualization purpose\n",
    "sample_subscription['vizline'] = 0.5\n",
    "sample_republished['vizline'] = 0.5\n",
    "sample_login['vizline'] = 0.5"
   ]
  },
  {
   "cell_type": "markdown",
   "id": "a1625875",
   "metadata": {},
   "source": [
    "# Visualize\n",
    "\n",
    "\n",
    "## **TIP #1:  Is this account a same-day flapper? Let's mix some colors!** \n",
    "\n",
    "**This tip is handy when we need to visualize different events that only happen once, but they may happen on the same day**.\n",
    "\n",
    "Like any subscription-based company, Unbounce expects flappers -- subscribers who subscribe, churn, then come back at some point in time. There are cases when churn and re-subscription happen on the **same** date. To distinguish same-day flappers, we can use this color mixing trick. \n",
    "\n",
    "*Note: we assume here that each subscription is mutually exclusive to another.*\n",
    "\n",
    "If we visualize `subscription start date` with a different color than `subscription end date` and use some opacity level, we will have a different color for same-day flappers.\n",
    "\n",
    "For example, here I choose **blue** for `subscription start date` and **red** for `subscription end date`, and change opacity level through `alpha = 0.5` (`alpha` ranges from 0 to 1). This results in **magenta** for same-day flappers.\n",
    "\n",
    "You can learn more about basic of color mixing through this article: https://mymodernmet.com/color-mixing-chart/.\n",
    "\n",
    "Here is a list of color codes in Matplotlib: https://matplotlib.org/examples/color/named_colors.html"
   ]
  },
  {
   "cell_type": "code",
   "execution_count": null,
   "id": "60ca2d91",
   "metadata": {},
   "outputs": [],
   "source": [
    "fig, ax = plt.subplots(figsize=(20, 5))\n",
    "\n",
    "ax.plot(sample_subscription['subscription_starts_at'], sample_subscription['vizline'], \n",
    "        marker='|', linewidth = 0.1,\n",
    "        markersize=50, mew=2, alpha=0.5,\n",
    "        color='royalblue', label='Subscription Starts')\n",
    "\n",
    "no_expire_mask = ~sample_subscription['subscription_ends_at'].isnull()\n",
    "ax.plot(sample_subscription[no_expire_mask]['subscription_ends_at'], sample_subscription[no_expire_mask]['vizline'],\n",
    "        linewidth = 0.1, marker='|',\n",
    "        markersize=50, mew=2, alpha=0.5,\n",
    "        color='crimson', label='Subscription Ends')\n",
    "\n",
    "ax.legend(loc='upper left', ncol=2)\n",
    "ax.set_title(\"Customer Behavior\")\n",
    "\n",
    "# Remove y-axis ticks as we don't need it\n",
    "ax.get_yaxis().set_visible(False)"
   ]
  },
  {
   "cell_type": "markdown",
   "id": "8eeede6e",
   "metadata": {},
   "source": [
    "From the chart above, we know that this account is a flappers with 4 subscriptions. On the last subscription, he/she is a same-day flapper. The last subscription started when the 3rd one ended, and thus we see magenta instead of blue or red here.\n",
    "\n",
    "Besides colors and alpha, there are more parameters in `axes.plot()` function that you can play around depending on how you want to design your chart, such as type of marker and marker size (we will go into more details for `marker` in the next tip). \n",
    "\n",
    "Read more about these parameters here: https://matplotlib.org/3.1.1/api/_as_gen/matplotlib.axes.Axes.plot.html"
   ]
  },
  {
   "cell_type": "markdown",
   "id": "5318947d",
   "metadata": {},
   "source": [
    "## **TIP #2: What is the frequency and intensity of each action? Let's use different shapes and opacity level**\n",
    "\n",
    "**This tip is handy when we need to visualize different events that can happen multiple times on the same day.**\n",
    "\n",
    "Because Unbounce is a tool that helps marketers to publish and optimize their landing pages, we care about republish events. We want to understand:\n",
    "* How often do customers republish their page as compare to login to the tool?\n",
    "* How much/intensively do customers republish each time they login?\n",
    "\n",
    "To help answer these questions, we need to plot login and republish on the same chart. There are 2 problems with this:\n",
    "* Customers can login and republish on the same day\n",
    "* Customers can do these actions many times on the same day\n",
    "\n",
    "And to solve these problems, we can use different shapes (through `marker`) and opacity levels (through `alpha`) in `axes.plot()` function. There are many marker types, but here I use *circles* for logins and *triangles* for republishes. You can find out other types here: https://matplotlib.org/3.1.1/api/markers_api.html#module-matplotlib.markers."
   ]
  },
  {
   "cell_type": "code",
   "execution_count": null,
   "id": "0661e046",
   "metadata": {},
   "outputs": [],
   "source": [
    "fig, ax = plt.subplots(figsize=(20, 5))\n",
    "\n",
    "# Plot subscription starts and ends\n",
    "ax.plot(sample_subscription['subscription_starts_at'], sample_subscription['vizline'], \n",
    "        marker='|', linewidth = 0.1,\n",
    "        markersize=50, mew=2, alpha=0.5,\n",
    "        color='royalblue', label='Subscription Starts')\n",
    "\n",
    "no_expire_mask = ~sample_subscription['subscription_ends_at'].isnull()\n",
    "ax.plot(sample_subscription[no_expire_mask]['subscription_ends_at'], sample_subscription[no_expire_mask]['vizline'],\n",
    "        linewidth = 0.1, marker='|',\n",
    "        markersize=50, mew=2, alpha=0.5,\n",
    "        color='crimson', label='Subscription Ends')\n",
    "\n",
    "# Plot login and republish events\n",
    "ax.plot(sample_login['action_date'], sample_login['vizline'],\n",
    "        marker='o', markersize=11,\n",
    "        alpha=0.3, color='darkseagreen',\n",
    "        linewidth=0.1, label='Login')\n",
    "\n",
    "ax.plot(sample_republished['action_date'], sample_republished['vizline'],\n",
    "        marker='^', markersize=8,\n",
    "        alpha=0.5, color='teal',\n",
    "        linewidth=0.1, label='Republish')\n",
    "\n",
    "ax.legend(loc='upper left', ncol=4)\n",
    "ax.set_title(\"Customer Behavior\")\n",
    "\n",
    "ax.get_yaxis().set_visible(False)"
   ]
  },
  {
   "cell_type": "markdown",
   "id": "e5c27f00",
   "metadata": {},
   "source": [
    "From the chart above, we can answer the two behavior questions:\n",
    "* **How often do customers republish their page as compare to login to the tool?** -- During the first subscription, this customer logged in and republished almost every 2 weeks, but this frequency has reduced in following subscriptions. There are times that they logged in without republishing a page.\n",
    "\n",
    "* **How often do customers republish their page as compare to login to the tool?** -- During all subscriptions, this account tends to republish many times when they logged in, hence we see darker-colored triangles. This suggests that they may republish every time they make changes to preview the page."
   ]
  },
  {
   "cell_type": "markdown",
   "id": "919f07b6",
   "metadata": {},
   "source": [
    "## TIP #3: How is this account behavior compared to another's? Let's make sure we look at the same scale\n",
    "\n",
    "**This tip is especially handy when you want to compare one entity to another.**\n",
    "\n",
    "If we only look into one customer, we don't know whether this customer is a highly-engaged one, or whether this is a norm for all of our customer base. \n",
    "\n",
    "Although there are other statistical methods to check on customer behavior trends (especially when you have more customers than you can manually check), we can start by visualizing the behavior of different customers and compare them together. I like this method as an exploratory analysis. Because besides talking to customer-facing teams, this helps suggest hypotheses to confirm/deny with statistical models later on.\n",
    "\n",
    "To make a more reasonable comparison, we want to make sure charts use the same scale. There can be customers who start their subscriptions early in the year, while some others start mid-year or end of the year. In this case, I want to limit my chart to show a date range from January 1st to December 31st. We can use `axes.set_xlim()` function for this.\n",
    "\n",
    "Read more about `axes.set_xlim()` here: https://matplotlib.org/3.1.1/api/_as_gen/matplotlib.axes.Axes.set_xlim.html"
   ]
  },
  {
   "cell_type": "code",
   "execution_count": null,
   "id": "2d40bb73",
   "metadata": {},
   "outputs": [],
   "source": [
    "fig, ax = plt.subplots(figsize=(20, 5))\n",
    "\n",
    "# Plot subscription starts and ends\n",
    "ax.plot(sample_subscription['subscription_starts_at'], sample_subscription['vizline'], \n",
    "        marker='|', linewidth = 0.1,\n",
    "        markersize=50, mew=2, alpha=0.5,\n",
    "        color='royalblue', label='Subscription Starts')\n",
    "\n",
    "no_expire_mask = ~sample_subscription['subscription_ends_at'].isnull()\n",
    "ax.plot(sample_subscription[no_expire_mask]['subscription_ends_at'], sample_subscription[no_expire_mask]['vizline'],\n",
    "        linewidth = 0.1, marker='|',\n",
    "        markersize=50, mew=2, alpha=0.5,\n",
    "        color='crimson', label='Subscription Ends')\n",
    "\n",
    "# Plot login and republish events\n",
    "ax.plot(sample_login['action_date'], sample_login['vizline'],\n",
    "        marker='o', markersize=11,\n",
    "        alpha=0.3, color='darkseagreen',\n",
    "        linewidth=0.1, label='Login')\n",
    "\n",
    "ax.plot(sample_republished['action_date'], sample_republished['vizline'],\n",
    "        marker='^', markersize=8,\n",
    "        alpha=0.5, color='teal',\n",
    "        linewidth=0.1, label='Republish')\n",
    "\n",
    "# Limit date range\n",
    "datemin = pd.to_datetime('2019/01/01').date()\n",
    "datemax = pd.to_datetime('2019/12/31').date()\n",
    "ax.set_xlim(datemin, datemax)\n",
    "\n",
    "# Format date\n",
    "date_form = mdates.DateFormatter(\"%Y/%m/%d\")\n",
    "ax.xaxis.set_major_formatter(date_form)\n",
    "# Ensure ticks fall once every other week (interval=2) \n",
    "ax.xaxis.set_major_locator(mdates.WeekdayLocator(interval=2))\n",
    "ax.xaxis.set_tick_params(rotation=40)\n",
    "\n",
    "ax.legend(loc='upper left', ncol=4)\n",
    "ax.set_title(\"Customer Behavior\")\n",
    "\n",
    "ax.get_yaxis().set_visible(False)"
   ]
  },
  {
   "cell_type": "markdown",
   "id": "386df97a",
   "metadata": {},
   "source": [
    "# TIP #4: Make it reproducible\n",
    "\n",
    "I'm a big fan of the rule of three inspired by [David Robinson](http://varianceexplained.org/r/ds-ml-ai/).\n",
    "> When you’ve written the same code 3 times, write a function\n",
    "\n",
    "Since we're going to visualize the behavior of 4 customers in the dataset (obviously this is more than 3), I want to write a function. I love functions because we can make systematic changes to visualizations and save so much time copy-pasting those changes to each chart."
   ]
  },
  {
   "cell_type": "code",
   "execution_count": null,
   "id": "67eb1754",
   "metadata": {},
   "outputs": [],
   "source": [
    "def _get_sample_data(AccountCode):\n",
    "    \"\"\"This function gets subscription info, login events and republish events for the AccountCode input.\n",
    "    \n",
    "    Args:\n",
    "        AccountCode (str): Account unique identification.\n",
    "\n",
    "    Returns:\n",
    "        pandas.core.frame.DataFrame: 3 dataframes with subscription info, login and republish events.\n",
    "    \"\"\"\n",
    "    sample_subscription = subscription_info_df[subscription_info_df['AccountCode'] == AccountCode]\n",
    "    sample_republished = republished_df[republished_df['AccountCode'] == AccountCode]\n",
    "    sample_login = login_df[login_df['AccountCode'] == AccountCode]\n",
    "\n",
    "    # this is a constant for visualization purpose\n",
    "    sample_subscription['vizline'] = 0.5\n",
    "    sample_republished['vizline'] = 0.5\n",
    "    sample_login['vizline'] = 0.5\n",
    "    \n",
    "    return sample_subscription, sample_republished, sample_login"
   ]
  },
  {
   "cell_type": "code",
   "execution_count": null,
   "id": "f57f843e",
   "metadata": {},
   "outputs": [],
   "source": [
    "def _visualize_customer_behavior(AccountCode):\n",
    "    \"\"\"This function visualizes customer behavior using subscription, login and republish events of a customer.\n",
    "    \n",
    "    Args: \n",
    "        AccountCode (str): Account unique identification.\n",
    "        \n",
    "    Returns:\n",
    "        matplotlib.figure.Figure: a visualization with subscription, login and republish events of a customer.\n",
    "    \"\"\"\n",
    "    sample_subscription, sample_republished, sample_login = _get_sample_data(AccountCode)\n",
    "    \n",
    "    fig, ax = plt.subplots(figsize=(20, 5))\n",
    "\n",
    "    # Plot subscription starts and ends\n",
    "    ax.plot(sample_subscription['subscription_starts_at'], sample_subscription['vizline'], \n",
    "            marker='|', linewidth = 0.1,\n",
    "            markersize=50, mew=2, alpha=0.5,\n",
    "            color='royalblue', label='Subscription Starts')\n",
    "\n",
    "    no_expire_mask = ~sample_subscription['subscription_ends_at'].isnull()\n",
    "    ax.plot(sample_subscription[no_expire_mask]['subscription_ends_at'], sample_subscription[no_expire_mask]['vizline'],\n",
    "            linewidth = 0.1, marker='|',\n",
    "            markersize=50, mew=2, alpha=0.5,\n",
    "            color='crimson', label='Subscription Ends')\n",
    "\n",
    "    # Plot login and republish events\n",
    "    ax.plot(sample_login['action_date'], sample_login['vizline'],\n",
    "            marker='o', markersize=11,\n",
    "            alpha=0.3, color='darkseagreen',\n",
    "            linewidth=0.1, label='Login')\n",
    "\n",
    "    ax.plot(sample_republished['action_date'], sample_republished['vizline'],\n",
    "            marker='^', markersize=8,\n",
    "            alpha=0.5, color='teal',\n",
    "            linewidth=0.1, label='Republish')\n",
    "\n",
    "    # Limit date range\n",
    "    datemin = pd.to_datetime('2019/01/01').date()\n",
    "    datemax = pd.to_datetime('2019/12/31').date()\n",
    "    ax.set_xlim(datemin, datemax)\n",
    "\n",
    "    # Show weekly date\n",
    "    date_form = mdates.DateFormatter(\"%Y/%m/%d\")\n",
    "    ax.xaxis.set_major_formatter(date_form)\n",
    "    # Ensure ticks fall once every other week (interval=2) \n",
    "    ax.xaxis.set_major_locator(mdates.WeekdayLocator(interval=2))\n",
    "    ax.xaxis.set_tick_params(rotation=40)\n",
    "\n",
    "    ax.legend(loc='upper left', ncol=4)\n",
    "    ax.set_title(\"Customer Behavior\")\n",
    "\n",
    "    ax.get_yaxis().set_visible(False)\n",
    "    \n",
    "    return fig"
   ]
  },
  {
   "cell_type": "code",
   "execution_count": null,
   "id": "28aecb9e",
   "metadata": {},
   "outputs": [],
   "source": [
    "_ = _visualize_customer_behavior('a')"
   ]
  },
  {
   "cell_type": "code",
   "execution_count": null,
   "id": "8beac92a",
   "metadata": {},
   "outputs": [],
   "source": [
    "_ = _visualize_customer_behavior('b')"
   ]
  },
  {
   "cell_type": "code",
   "execution_count": null,
   "id": "9a6c3282",
   "metadata": {},
   "outputs": [],
   "source": [
    "_ = _visualize_customer_behavior('c')"
   ]
  },
  {
   "cell_type": "code",
   "execution_count": null,
   "id": "496e9df8",
   "metadata": {},
   "outputs": [],
   "source": [
    "_ = _visualize_customer_behavior('d')"
   ]
  }
 ],
 "metadata": {},
 "nbformat": 4,
 "nbformat_minor": 5
}
