{
 "cells": [
  {
   "cell_type": "markdown",
   "id": "c2fbea40",
   "metadata": {},
   "source": [
    "## Exploratory Analysis"
   ]
  },
  {
   "cell_type": "code",
   "execution_count": null,
   "id": "0cadff56",
   "metadata": {},
   "outputs": [],
   "source": [
    "import tensorflow as tf\n",
    "import librosa\n",
    "import os\n",
    "from IPython.display import Audio, display\n",
    "import numpy as np\n",
    "import matplotlib.pyplot as plt\n",
    "import fnmatch\n",
    "import pickle\n",
    "%matplotlib inline"
   ]
  },
  {
   "cell_type": "code",
   "execution_count": null,
   "id": "a0053992",
   "metadata": {},
   "outputs": [],
   "source": [
    "path = './audio/'\n",
    "instruments = os.listdir('./audio/')"
   ]
  },
  {
   "cell_type": "markdown",
   "id": "e43f22c0",
   "metadata": {},
   "source": [
    "## Spectrogram"
   ]
  },
  {
   "cell_type": "code",
   "execution_count": null,
   "id": "18290459",
   "metadata": {},
   "outputs": [],
   "source": [
    "N_FFT = 2048 #Short-time Fourier transform (STFT)\n",
    "def read_audio_spectrum(filename):\n",
    "    x, fs = librosa.load(filename, sr=None)\n",
    "    S = librosa.stft(x, N_FFT)\n",
    "    #if x.ndim == 1:\n",
    "        #x = np.expand_dims(x, 0)\n",
    "    p = np.angle(S)\n",
    "    S = np.log1p(np.abs(S[:,:430]))  \n",
    "    return S, fs"
   ]
  },
  {
   "cell_type": "markdown",
   "id": "a1c323b1",
   "metadata": {},
   "source": [
    "## Mel-frequency cepstral coefficients (MFCCs) "
   ]
  },
  {
   "cell_type": "code",
   "execution_count": null,
   "id": "1c4c6391",
   "metadata": {},
   "outputs": [],
   "source": [
    "def get_features(filename):\n",
    "    y, sr = librosa.load(filename, sr=None)\n",
    "    S = librosa.feature.melspectrogram(y, sr=sr, n_mels=128)\n",
    "    log_S = librosa.amplitude_to_db(S, ref=np.max)\n",
    "    mfcc = librosa.feature.mfcc(S=log_S, n_mfcc=20) #13 \n",
    "    delta_mfcc = librosa.feature.delta(mfcc, mode='nearest')\n",
    "    delta2_mfcc = librosa.feature.delta(mfcc, order=2, mode='nearest')\n",
    "    feature_vector = np.concatenate((np.mean(mfcc,1), np.mean(delta_mfcc,1), np.mean(delta2_mfcc,1)))\n",
    "    feature_vector = (feature_vector-np.mean(feature_vector)) / np.std(feature_vector)\n",
    "    return feature_vector"
   ]
  },
  {
   "cell_type": "markdown",
   "id": "c498dbbc",
   "metadata": {},
   "source": [
    "## Getting samples"
   ]
  },
  {
   "cell_type": "code",
   "execution_count": null,
   "id": "a4f1ef93",
   "metadata": {},
   "outputs": [],
   "source": [
    "S_store = []\n",
    "Mel_store = []\n",
    "train_labels = []\n",
    "for instrument in instruments:\n",
    "    instrument_path = os.listdir(path+instrument+'/train') #lift all the files in the path\n",
    "    for inst_path in instrument_path:\n",
    "        train_labels.append(instrument)\n",
    "        S, fs = read_audio_spectrum(path+instrument+'/train/'+inst_path)\n",
    "        M = get_features(path+instrument+'/train/'+inst_path)\n",
    "        S_store.append(S)\n",
    "        Mel_store.append(M)"
   ]
  },
  {
   "cell_type": "code",
   "execution_count": null,
   "id": "e4a30793",
   "metadata": {},
   "outputs": [],
   "source": [
    "#Saving the matrix\n",
    "with open('Spectrum_matrix', 'wb') as write:\n",
    "    pickle.dump(S_store, write)\n",
    "with open('MFCC_matrix', 'wb') as write:\n",
    "    pickle.dump(Mel_store, write)\n",
    "\n",
    "#with open ('Spectrum_matrix', 'rb') as read:\n",
    "#    spectrum = pickle.load(read)\n",
    "#with open ('MFCC_matrix', 'rb') as read:\n",
    "#    mfcc = pickle.load(read)"
   ]
  },
  {
   "cell_type": "code",
   "execution_count": null,
   "id": "f0ad3a14",
   "metadata": {},
   "outputs": [],
   "source": [
    "#Ploting the \n",
    "plt.figure(figsize=(10, 15))\n",
    "plt.subplot(2, 2, 1)\n",
    "plt.title(labels[0])\n",
    "plt.imshow(S_store[0][:400,:]) #400 is tha maximum frequency range we want to plot. The matrix goes from 0 to 1000\n",
    "\n",
    "plt.subplot(2, 2, 2)\n",
    "plt.title(labels[30])\n",
    "plt.imshow(S_store[30][:400,:])\n",
    "\n",
    "plt.subplot(2, 2, 3)\n",
    "plt.title(labels[60])\n",
    "plt.imshow(S_store[60][:400,:])\n",
    "\n",
    "plt.subplot(2, 2, 4)\n",
    "plt.title(labels[110])\n",
    "plt.imshow(S_store[110][:400,:])\n",
    "plt.subplots_adjust(wspace=.5, hspace=.3)\n",
    "plt.show()"
   ]
  },
  {
   "cell_type": "markdown",
   "id": "71a7c258",
   "metadata": {},
   "source": [
    "## Getting test features"
   ]
  },
  {
   "cell_type": "code",
   "execution_count": null,
   "id": "edc3dd13",
   "metadata": {},
   "outputs": [],
   "source": [
    "S_store_test = []\n",
    "Mel_store_test = []\n",
    "test_labels = []\n",
    "for instrument in instruments:\n",
    "    instrument_path = os.listdir(path+instrument+'/test') #lift all the files in the path\n",
    "    for inst_path in instrument_path:\n",
    "        test_labels.append(instrument)\n",
    "        S, fs = read_audio_spectrum(path+instrument+'/test/'+inst_path)\n",
    "        M = get_features(path+instrument+'/test/'+inst_path)\n",
    "        S_store_test.append(S)\n",
    "        Mel_store_test.append(M)\n",
    "        \n",
    "#Saving the matrix\n",
    "with open('Spectrum_matrix_test', 'wb') as write:\n",
    "    pickle.dump(S_store_test, write)\n",
    "with open('MFCC_matrix_test', 'wb') as write:\n",
    "    pickle.dump(Mel_store_test, write)"
   ]
  },
  {
   "cell_type": "markdown",
   "id": "03af44cb",
   "metadata": {},
   "source": [
    "# Random Forest"
   ]
  },
  {
   "cell_type": "code",
   "execution_count": null,
   "id": "641c9eb6",
   "metadata": {},
   "outputs": [],
   "source": [
    "from sklearn.ensemble import RandomForestClassifier\n",
    "from sklearn.utils.multiclass import unique_labels\n",
    "from sklearn.metrics import accuracy_score,f1_score,roc_curve,auc,precision_recall_curve,average_precision_score,confusion_matrix"
   ]
  },
  {
   "cell_type": "markdown",
   "id": "454876cb",
   "metadata": {},
   "source": [
    "#### MFCC"
   ]
  },
  {
   "cell_type": "code",
   "execution_count": null,
   "id": "c0844c92",
   "metadata": {},
   "outputs": [],
   "source": [
    "train_features = np.zeros((len(Mel_store),len(Mel_store[0])))\n",
    "for n,i in enumerate(Mel_store):\n",
    "    train_features[n] = i\n",
    "\n",
    "test_features = np.zeros((len(Mel_store_test),len(Mel_store_test[0])))\n",
    "for n,i in enumerate(Mel_store_test):\n",
    "    test_features[n] = i"
   ]
  },
  {
   "cell_type": "code",
   "execution_count": null,
   "id": "c0004dc7",
   "metadata": {},
   "outputs": [],
   "source": [
    "rf = RandomForestClassifier(n_estimators = 1000, random_state = 10, oob_score= True) #min_impurity_decrease maybe too?\n",
    "rf.fit(train_features, train_labels)\n",
    "classif_predictions = rf.predict(test_features)   \n",
    "classi_probe = rf.predict_proba(test_features)  \n",
    "accuracy = accuracy_score(test_labels,classif_predictions,normalize=True)\n",
    "f1 = f1_score(test_labels, classif_predictions, average='weighted') #Use labeled y-hat. Given that our classes present imbalance, we are going to use the weighted option;\n",
    "print('Accuracy clasification score = %.3f' % accuracy)\n",
    "print('F1 score = %.3f' % f1)\n",
    "print('OOB score = %.3f' %rf.oob_score_)"
   ]
  },
  {
   "cell_type": "code",
   "execution_count": null,
   "id": "5c1fa179",
   "metadata": {},
   "outputs": [],
   "source": [
    "#Confusion matrix for multilevel classes\n",
    "cm = confusion_matrix(test_labels, classif_predictions ,  labels=[inst for inst in instruments]) #use instruments\n",
    "cm = cm.astype('float') / cm.sum(axis=1)[:, np.newaxis]\n",
    "classes = unique_labels(test_labels, classif_predictions)\n",
    "cmap=plt.cm.gray_r\n",
    "fig, ax = plt.subplots()\n",
    "im = ax.imshow(cm, interpolation='nearest', cmap=cmap)\n",
    "ax.figure.colorbar(im, ax=ax)\n",
    "# We want to show all ticks...\n",
    "ax.set(xticks=np.arange(cm.shape[1]),\n",
    "       yticks=np.arange(cm.shape[0]),\n",
    "       xticklabels=classes, yticklabels=classes,\n",
    "       title=  'Confusion matrix',\n",
    "       ylabel='True label',\n",
    "       xlabel='Predicted label')\n",
    "plt.setp(ax.get_xticklabels(), rotation=45, ha=\"right\",\n",
    "             rotation_mode=\"anchor\")\n",
    "fmt = '.2f'\n",
    "thresh = cm.max() / 2.\n",
    "for i in range(cm.shape[0]):\n",
    "    for j in range(cm.shape[1]):\n",
    "        ax.text(j, i, format(cm[i, j], fmt),\n",
    "                ha=\"center\", va=\"center\",\n",
    "                color=\"white\" if cm[i, j] > thresh else \"black\")\n",
    "fig.tight_layout()\n",
    "plt.show()"
   ]
  },
  {
   "cell_type": "markdown",
   "id": "0aa14640",
   "metadata": {},
   "source": [
    "#### Spectrum"
   ]
  },
  {
   "cell_type": "code",
   "execution_count": null,
   "id": "784de778",
   "metadata": {},
   "outputs": [],
   "source": [
    "train_features = np.array(S_store)\n",
    "train_features = train_features.reshape(train_features.shape[0],-1)\n",
    "\n",
    "test_features = np.array(S_store_test)\n",
    "test_features = test_features.reshape(test_features.shape[0],-1)"
   ]
  },
  {
   "cell_type": "code",
   "execution_count": null,
   "id": "0351ad3c",
   "metadata": {},
   "outputs": [],
   "source": [
    "rf = RandomForestClassifier(n_estimators = 1000, random_state = 10, oob_score= True) #min_impurity_decrease maybe too?\n",
    "rf.fit(train_features, train_labels)\n",
    "classif_predictions = rf.predict(test_features)   \n",
    "classi_probe = rf.predict_proba(test_features)  \n",
    "accuracy = accuracy_score(test_labels,classif_predictions,normalize=True)\n",
    "f1 = f1_score(test_labels, classif_predictions, average='weighted') #Use labeled y-hat. Given that our classes present imbalance, we are going to use the weighted option;\n",
    "print('Accuracy clasification score = %.3f' % accuracy)\n",
    "print('F1 score = %.3f' % f1)\n",
    "print('OOB score = %.3f' %rf.oob_score_)"
   ]
  },
  {
   "cell_type": "code",
   "execution_count": null,
   "id": "16e7df38",
   "metadata": {},
   "outputs": [],
   "source": [
    "#Confusion matrix for multilevel classes\n",
    "cm = confusion_matrix(test_labels, classif_predictions ,  labels=[inst for inst in instruments]) #use instruments\n",
    "cm = cm.astype('float') / cm.sum(axis=1)[:, np.newaxis]\n",
    "classes = unique_labels(test_labels, classif_predictions)\n",
    "cmap=plt.cm.gray_r\n",
    "fig, ax = plt.subplots()\n",
    "im = ax.imshow(cm, interpolation='nearest', cmap=cmap)\n",
    "ax.figure.colorbar(im, ax=ax)\n",
    "# We want to show all ticks...\n",
    "ax.set(xticks=np.arange(cm.shape[1]),\n",
    "       yticks=np.arange(cm.shape[0]),\n",
    "       xticklabels=classes, yticklabels=classes,\n",
    "       title=  'Confusion matrix',\n",
    "       ylabel='True label',\n",
    "       xlabel='Predicted label')\n",
    "plt.setp(ax.get_xticklabels(), rotation=45, ha=\"right\",\n",
    "             rotation_mode=\"anchor\")\n",
    "fmt = '.2f'\n",
    "thresh = cm.max() / 2.\n",
    "for i in range(cm.shape[0]):\n",
    "    for j in range(cm.shape[1]):\n",
    "        ax.text(j, i, format(cm[i, j], fmt),\n",
    "                ha=\"center\", va=\"center\",\n",
    "                color=\"white\" if cm[i, j] > thresh else \"black\")\n",
    "fig.tight_layout()\n",
    "plt.show()"
   ]
  }
 ],
 "metadata": {},
 "nbformat": 4,
 "nbformat_minor": 5
}
