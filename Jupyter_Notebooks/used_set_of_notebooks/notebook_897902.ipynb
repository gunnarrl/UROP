{
 "cells": [
  {
   "cell_type": "code",
   "execution_count": null,
   "id": "3a01da11",
   "metadata": {},
   "outputs": [],
   "source": [
    "from sklearn.metrics import r2_score\n",
    "%run helper_functions.py\n",
    "%run prophet_helper.py #this runs the TS models for features\n",
    "%run regression_ts_model.py #nested TS script \n",
    "%run btc_info_df.py #helps loan jup new BTC data\n",
    "%autosave 120\n",
    "%matplotlib inline\n",
    "plt.style.use('fivethirtyeight')\n",
    "plt.rcParams[\"figure.figsize\"] = (15,10)\n",
    "plt.rcParams[\"xtick.labelsize\"] = 16\n",
    "plt.rcParams[\"ytick.labelsize\"] = 16\n",
    "plt.rcParams[\"axes.labelsize\"] = 20\n",
    "plt.rcParams['legend.fontsize'] = 20\n",
    "plt.style.use('fivethirtyeight')\n",
    "pd.set_option('display.max_colwidth', -1)"
   ]
  },
  {
   "cell_type": "markdown",
   "id": "c3f1a9cc",
   "metadata": {},
   "source": [
    "# Notebook Overview\n",
    "\n",
    "In this notebook, I will construct:\n",
    "- A naive model of bitcoin price prediction\n",
    "\n",
    "- A **nested** time series model.\n",
    "\n",
    "#### What do I mean by a nested time series model?\n",
    "\n",
    "I will illustrate with a simple example.\n",
    "\n",
    "Let's say that I wish to predict the `mkt_price` on `2016-10-30`. I could fit a Linear Regression on all the features from `2016-10-26 - 29-10-2016`. However, in order to predict the price of `mkt_price` on `2016-10-30` I need to have values for the features on `2016-10-30`. This presents a problem as all my features are time series! That is, I cannot simply plug in a value for all the features because I don't know what their values would be on this future date!\n",
    "\n",
    "One possible remedy for this is to simply use the values of all the features on `2016-10-29`. In fact, it is well know that the best predictor of a variable tomorrow is it's current state today. However, I wish to be more rigorous.\n",
    "\n",
    "Instead of simply plugging in `t-1` values for the features at time `t`, I construct a time series model for _each_ feature in order to **predict** its value at time `t` based on the **entire** history of data that I have for the features!\n",
    "\n",
    "These predicted values are then passed as inputs to our linear regression models!\n",
    "\n",
    "Thus, if I have N features, I am creating N-Time Series models in order to do a single prediction with Linear Regression for the `mkt_price` variable."
   ]
  },
  {
   "cell_type": "markdown",
   "id": "0a7ad69e",
   "metadata": {},
   "source": [
    "### Naive Baseline Model\n",
    "\n",
    "I will construct a naive baseline model that will most likely outperorm any other model I build below.\n",
    "\n",
    "The model will work as follows:\n",
    "\n",
    "When predicting the price on Day 91, I will take the average price change between Day 90 and Day 0. Let's call this average price change _alpha_.\n",
    "\n",
    "I will then take the price of Day 90 and add _alpha_ to it. This will serve as the 'predicted' price for day 91."
   ]
  },
  {
   "cell_type": "code",
   "execution_count": null,
   "id": "3759c620",
   "metadata": {},
   "outputs": [],
   "source": [
    "df = unpickle_object(\"FINAL_DATAFRAME_PROJ_5.pkl\")\n",
    "df.head()"
   ]
  },
  {
   "cell_type": "code",
   "execution_count": null,
   "id": "176a06b6",
   "metadata": {},
   "outputs": [],
   "source": [
    "def linear_extrapolation(df, window):\n",
    "    pred_lst = []\n",
    "    true_lst = []\n",
    "\n",
    "    cnt = 0\n",
    "\n",
    "    all_rows = df.shape[0]\n",
    "\n",
    "    while cnt < window:\n",
    "        start = df.iloc[cnt:all_rows-window+cnt, :].index[0].date()\n",
    "        end = df.iloc[cnt:all_rows-window+cnt, :].index[-1].date()\n",
    "        predicting = df.iloc[all_rows-window+cnt, :].name.date()\n",
    "\n",
    "        print(\"---- Running model from {} to {} and predicting on {} ----\".format(start,end,predicting))\n",
    "\n",
    "        training_df = df.iloc[cnt:all_rows-window+cnt, :]\n",
    "\n",
    "        testing_df = df.iloc[all_rows-window+cnt, :]\n",
    "        \n",
    "        true_val = testing_df[-1]\n",
    "        \n",
    "        first_row_value = training_df.iloc[0, :]['mkt_price']\n",
    "        first_row_date = training_df.iloc[0, :].name\n",
    "        \n",
    "        last_row_value = training_df.iloc[-1, :]['mkt_price']\n",
    "        last_row_date = training_df.iloc[-1, :].name\n",
    "        \n",
    "        alpha = (last_row_value-first_row_value)/90\n",
    "        \n",
    "        prediction = last_row_value + alpha\n",
    "        \n",
    "        pred_lst.append(prediction)\n",
    "        \n",
    "        true_lst.append(true_val)\n",
    "        \n",
    "        \n",
    "        cnt += 1\n",
    "        \n",
    "    return pred_lst, true_lst"
   ]
  },
  {
   "cell_type": "code",
   "execution_count": null,
   "id": "f31a9440",
   "metadata": {},
   "outputs": [],
   "source": [
    "pred_lst, true_lst = linear_extrapolation(df, 30)"
   ]
  },
  {
   "cell_type": "code",
   "execution_count": null,
   "id": "3b32e316",
   "metadata": {},
   "outputs": [],
   "source": [
    "r2_score(true_lst, pred_lst)"
   ]
  },
  {
   "cell_type": "markdown",
   "id": "08970de5",
   "metadata": {},
   "source": [
    "### Naïve Model Caveats"
   ]
  },
  {
   "cell_type": "markdown",
   "id": "d20f9496",
   "metadata": {},
   "source": [
    "We can see above that we can use this extremely basic model to obtain an $R^2$ of 0.86. In fact, this should be the baseline model score that we need to beat!\n",
    "\n",
    "Let me mention some caveats to this result:\n",
    "\n",
    "- I only have 4 months of Bitcoin data. It should be obvious to the reader that such a naive model is NOT the appropriate way to forecast bitcoin price in general. For if it were this simple, we would all be millionaires.\n",
    "\n",
    "\n",
    "- Since I have 120 days worth of day, I am choosing to subset my data in 90 day periods, as such, I will produce 30 predictions. The variability of bitcoin prices around these 30 days will significantly impact the $R^2$ score. Again, more data is needed.\n",
    "\n",
    "\n",
    "- While bitcoin data itself is not hard to come by, twitter data is! It is the twitter data that is limiting a deeper analysis. I hope that this notebook serves as a starting point for further investigation in the relationship between tweets and bitcoin price fluctuations.\n",
    "\n",
    "\n",
    "- Lastly, I have made this notebook in Sept. 2017. The data for this project spans Oct 2016 - Feb 2017. Since that timeframe, bitcoin grew to unprecedented highs of \\$4k/coin. Furthermore, media sound bites of CEOs such as James Dimon of JPMorgan have sent bitcoin prices tumbling by as much as $1k/coin. For me, this is what truly lies at the crux of the difficulty of cryptocurrency forecasting. I searched at great length for a **free**, searchable NEWS API, however, I could not find one. I think I great next step for this project would be to incorporate sentiment of news headlines concerning bitcoin!\n",
    "\n",
    "\n",
    "- Furthermore, with the aforementioned timeframe, the overall bitcoin trend was upward. That is, there was not that much volatility in the price - as such, it is expected that the Naïve Model would outperform the nested time series model. The next step would again, be to collect more data and re-run all the models."
   ]
  },
  {
   "cell_type": "markdown",
   "id": "5242545a",
   "metadata": {},
   "source": [
    "### Nested Time Series Model"
   ]
  },
  {
   "cell_type": "code",
   "execution_count": null,
   "id": "5b2f535f",
   "metadata": {},
   "outputs": [],
   "source": [
    "df = unpickle_object(\"FINAL_DATAFRAME_PROJ_5.pkl\")\n",
    "df.head()"
   ]
  },
  {
   "cell_type": "code",
   "execution_count": null,
   "id": "07f6ca33",
   "metadata": {},
   "outputs": [],
   "source": [
    "df.corr()"
   ]
  },
  {
   "cell_type": "code",
   "execution_count": null,
   "id": "b215def2",
   "metadata": {},
   "outputs": [],
   "source": [
    "plot_corr_matrix(df)"
   ]
  },
  {
   "cell_type": "code",
   "execution_count": null,
   "id": "7447169b",
   "metadata": {},
   "outputs": [],
   "source": [
    "beta_values, pred, true = master(df, 30)"
   ]
  },
  {
   "cell_type": "code",
   "execution_count": null,
   "id": "993dbd2a",
   "metadata": {},
   "outputs": [],
   "source": [
    "r2_score(true, pred)#blows our Prophet TS only model away!"
   ]
  },
  {
   "cell_type": "markdown",
   "id": "1c9a61af",
   "metadata": {},
   "source": [
    "#### Nested TS VS. FB Prophet TS\n",
    "\n",
    "We see from the above that our model has an $R^2$ of 0.75! This greatly outperforms our baseline model of just using FaceBook Prophet to forecast the price of bitcoin! The RMSE is 1.40\n",
    "\n",
    "This is quite impressive given that we only have 3 months of training data and are testing on one month!\n",
    "\n",
    "The output above also shows regression output from statsmodels!\n",
    "\n",
    "The following features were significant in all 30 models:\n",
    "\n",
    "- Gold Price\n",
    "\n",
    "- Ethereum Price\n",
    "\n",
    "- Positive Sentiment (Yay!)\n",
    "\n",
    "- Average Transactions Per Block\n",
    "\n",
    "It is important, yet again, to note that this data does NOT take into account the wild fluctuations in price that bitcoin later experienced. We would need more data to affirm the significance of the above variables."
   ]
  },
  {
   "cell_type": "code",
   "execution_count": null,
   "id": "df52c9cb",
   "metadata": {},
   "outputs": [],
   "source": [
    "plt.plot(pred)\n",
    "plt.plot(true)\n",
    "plt.legend([\"Prediction\", 'Actual'], loc='upper left')\n",
    "plt.xlabel(\"Prediction #\")\n",
    "plt.ylabel(\"Price\")\n",
    "plt.title(\"Nested TS - Price Prediction\");"
   ]
  },
  {
   "cell_type": "code",
   "execution_count": null,
   "id": "0efee69e",
   "metadata": {},
   "outputs": [],
   "source": [
    "fig, ax = plt.subplots()\n",
    "ax.scatter(true, pred, edgecolors=(0, 0, 0))\n",
    "ax.plot([min(true), max(true)], [min(true), max(true)], 'k--', lw=3)\n",
    "ax.set_xlabel('Actual')\n",
    "ax.set_ylabel('Predicted')"
   ]
  },
  {
   "cell_type": "code",
   "execution_count": null,
   "id": "f4355a54",
   "metadata": {},
   "outputs": [],
   "source": [
    "plotting_dict_1 = {\"eth_price\": [], \"pos_sent\": [], \"neg_sent\": [], \"unique_addr\": [], \"gold_price\": [], \"tot_num_trans\": [], \"mempool_trans\":[], \"hash_rate\": [], \"avg_trans_per_block\":[]}\n",
    "\n",
    "for index, sub_list in enumerate(beta_values):\n",
    "    for tup in sub_list:\n",
    "        plotting_dict_1[tup[0]].append(tup[1])"
   ]
  },
  {
   "cell_type": "code",
   "execution_count": null,
   "id": "2c415a2b",
   "metadata": {},
   "outputs": [],
   "source": [
    "plot_key(plotting_dict_1, \"pos_sent\")# here we say the effect of positive sentiment through time!\n",
    "plt.title(\"Positive Sentiment Effect on BTC Price\")\n",
    "plt.ylabel(\"Beta Value\")\n",
    "plt.xlabel(\"Model #\")\n",
    "plt.tight_layout()"
   ]
  },
  {
   "cell_type": "code",
   "execution_count": null,
   "id": "e86ee00f",
   "metadata": {},
   "outputs": [],
   "source": [
    "plot_key(plotting_dict_1, \"gold_price\")\n",
    "plt.title(\"Gold Price Effect on BTC Price\")\n",
    "plt.ylabel(\"Beta Value\")\n",
    "plt.xlabel(\"Model #\")\n",
    "plt.tight_layout()"
   ]
  },
  {
   "cell_type": "code",
   "execution_count": null,
   "id": "615c6e91",
   "metadata": {},
   "outputs": [],
   "source": [
    "plot_key(plotting_dict_1, \"avg_trans_per_block\")\n",
    "plt.title(\"Avg. Trans per Block Effect on BTC Price\")\n",
    "plt.ylabel(\"Beta Value\")\n",
    "plt.xlabel(\"Model #\")\n",
    "plt.tight_layout()"
   ]
  },
  {
   "cell_type": "markdown",
   "id": "369677de",
   "metadata": {},
   "source": [
    "## Percent change model!\n",
    "\n",
    "I will now run the same nested TS model as above, however, I will now make my 'target' variable the percent change in bitcoin price. In order to make this a log-og model, I will use the percentage change of all features as inputs into the TS model and thus the linear regression!\n",
    "\n",
    "Since percent change will 'shift' our dataframe by one row, I omit the first row (which is all NaN's).\n",
    "\n",
    "Thus, if we were to predict a percent change of $0.008010$ on `28-10-2017`, then this would mean that the **predicted price** would be the price on `27-10-2017` $*predicted\\_percent\\_change$."
   ]
  },
  {
   "cell_type": "code",
   "execution_count": null,
   "id": "43b3d7af",
   "metadata": {},
   "outputs": [],
   "source": [
    "df_pct = df.copy(deep=True)\n",
    "df_pct = df_pct.pct_change()\n",
    "df_pct.rename(columns={\"mkt_price\": \"percent_change\"}, inplace=True)\n",
    "df_pct = df_pct.iloc[1:, :] #first row is all NaN's\n",
    "df_pct.head()"
   ]
  },
  {
   "cell_type": "code",
   "execution_count": null,
   "id": "fedbe8f4",
   "metadata": {},
   "outputs": [],
   "source": [
    "beta_values_p, pred_p, true_p = master(df_pct, 30)"
   ]
  },
  {
   "cell_type": "code",
   "execution_count": null,
   "id": "e100c8dd",
   "metadata": {},
   "outputs": [],
   "source": [
    "r2_score(true_p, pred_p) # this is expected due to the range of values on the y-axis!"
   ]
  },
  {
   "cell_type": "code",
   "execution_count": null,
   "id": "2b73c67d",
   "metadata": {},
   "outputs": [],
   "source": [
    "#very good!\n",
    "plt.plot(pred_p)\n",
    "plt.plot(true_p)\n",
    "plt.legend([\"Prediction\", 'Actual'], loc='upper left')\n",
    "plt.xlabel(\"Prediction #\")\n",
    "plt.ylabel(\"Price\")\n",
    "plt.title(\"Nested TS - % Change Prediction\");"
   ]
  },
  {
   "cell_type": "markdown",
   "id": "3d2fac9e",
   "metadata": {},
   "source": [
    "From the above, it seems that our model is not tuned well enough to anticipate the large dip shown above. This is due to a lack of training data. However, while our model might not be the best in predicting **percent change** how does it fair when we turn the percent change into **prices**."
   ]
  },
  {
   "cell_type": "code",
   "execution_count": null,
   "id": "1e129cc7",
   "metadata": {},
   "outputs": [],
   "source": [
    "fig, ax = plt.subplots()\n",
    "ax.scatter(true_p, pred_p, edgecolors=(0, 0, 0))\n",
    "ax.plot([min(true), max(true)], [min(true), max(true)], 'k--', lw=3)\n",
    "ax.set_xlabel('Actual')\n",
    "ax.set_ylabel('Predicted');"
   ]
  },
  {
   "cell_type": "code",
   "execution_count": null,
   "id": "3bb5abd3",
   "metadata": {},
   "outputs": [],
   "source": [
    "df.set_index('date', inplace=True)\n",
    "prices_to_be_multiplied = df.loc[pd.date_range(start=\"2017-01-23\", end=\"2017-02-21\"), \"mkt_price\"]\n",
    "forecast_price_lst = []\n",
    "for index, price in enumerate(prices_to_be_multiplied):\n",
    "    predicted_percent_change = 1+float(pred_p[index])\n",
    "    forecasted_price = (predicted_percent_change)*price\n",
    "    forecast_price_lst.append(forecasted_price)\n",
    "ground_truth_prices = df.loc[pd.date_range(start=\"2017-01-24\", end=\"2017-02-22\"), \"mkt_price\"]\n",
    "ground_truth_prices = list(ground_truth_prices)\n",
    "r2_score(ground_truth_prices, forecast_price_lst)"
   ]
  },
  {
   "cell_type": "markdown",
   "id": "6a048ae4",
   "metadata": {},
   "source": [
    "We have an $R^2$ of 0.87!\n",
    "\n",
    "This surpasses the baseline model and the nested TS model!\n",
    "\n",
    "The caveats of the baseline model also apply here, however, it seems that the addition of additional variables have helped us **slightly** improve with regards to the $R^2$"
   ]
  },
  {
   "cell_type": "code",
   "execution_count": null,
   "id": "598e17ed",
   "metadata": {},
   "outputs": [],
   "source": [
    "plt.plot(forecast_price_lst)\n",
    "plt.plot(ground_truth_prices)\n",
    "plt.legend([\"Prediction\", 'Actual'], loc='upper left')\n",
    "plt.xlabel(\"Prediction #\")\n",
    "plt.ylabel(\"Price\")\n",
    "plt.title(\"Nested TS - % Change Prediction\");"
   ]
  }
 ],
 "metadata": {},
 "nbformat": 4,
 "nbformat_minor": 5
}
