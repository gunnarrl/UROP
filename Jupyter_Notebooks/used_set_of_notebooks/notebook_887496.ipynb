{
 "cells": [
  {
   "cell_type": "markdown",
   "id": "d5980ce7",
   "metadata": {},
   "source": [
    "# Open data project, ETL \n",
    "\n",
    "We have differnt sources of information:\n",
    "\n",
    "    1- Kaggle play store dataset:https://www.kaggle.com/orgesleka/android-apps 400000 infos for android Apps scraped with Scrapy from Google Play. Those fields are included: \n",
    "        - name\n",
    "        - datePublished\n",
    "        - numDownloadsMin\n",
    "        - fileSize\n",
    "        - packageName\n",
    "        - price\n",
    "        - aggregateRating\n",
    "        - softwareVersion\n",
    "        - ratingCount\n",
    "        - dateCrawled\n",
    "        - url\n",
    "    \n",
    "    2- UCSD Amazon product data, review\n",
    "        - reviewerID: ID of the reviewer, e.g. A2SUAM1J3GNN3B\n",
    "        - asin: ID of the product, e.g. 0000013714\n",
    "        - reviewerName: name of the reviewer\n",
    "        - helpful: helpfulness rating of the review, e.g. 2/3\n",
    "        - reviewText: text of the review\n",
    "        - overall: rating of the product\n",
    "        - summary: summary of the review\n",
    "        - unixReviewTime: time of the review (unix time)\n",
    "        - reviewTime: time of the review (raw)\n",
    "\n",
    "    3- UCSD Amazon product data metadata\n",
    "        - asin: ID of the product, e.g. 0000031852\n",
    "        - title: name of the product\n",
    "        - price: price in US dollars (at time of crawl)\n",
    "        - imUrl: url of the product image\n",
    "        - related: related products (also bought, also viewed, bought together, buy after viewing)\n",
    "        - salesRank: sales rank information\n",
    "        - brand: brand name\n",
    "        - categories: list of categories the product belongs to\n"
   ]
  },
  {
   "cell_type": "code",
   "execution_count": null,
   "id": "79e9eb51",
   "metadata": {},
   "outputs": [],
   "source": [
    "import pandas as pd\n",
    "import glob\n",
    "import json\n",
    "import re \n",
    "\n",
    "\n",
    "data_sources = glob.glob(\"data_sources/*\")\n",
    "print(\"> Your available sources are: %s\" % \", \".join(data_sources))"
   ]
  },
  {
   "cell_type": "markdown",
   "id": "7fd33cae",
   "metadata": {},
   "source": [
    "### Import data from kaggle data source\n",
    "\n",
    "- Important, it is a must, have a directory named \"data_sources\" in the root of the folder with apps.csv file."
   ]
  },
  {
   "cell_type": "code",
   "execution_count": null,
   "id": "f5f41e9e",
   "metadata": {},
   "outputs": [],
   "source": [
    "all_apps = pd.read_csv(\"data_sources/apps.csv\", error_bad_lines=False, encoding = \"ISO-8859-1\")"
   ]
  },
  {
   "cell_type": "markdown",
   "id": "40350f2d",
   "metadata": {},
   "source": [
    "### Import data of amazon reviews and apps\n",
    "\n",
    "- Important, it is a must, have a directory named \"data_sources\" in the root of the folder with meta_Apps_for_Android.json and reviews_Apps_for_Android.json files."
   ]
  },
  {
   "cell_type": "code",
   "execution_count": null,
   "id": "4da46fb4",
   "metadata": {},
   "outputs": [],
   "source": [
    "metadata_file = open(\"data_sources/meta_Apps_for_Android.json\", \"r\") \n",
    "reviews_file = open(\"data_sources/reviews_Apps_for_Android.json\", \"r\")\n",
    "\n",
    "\n",
    "def parse(file):\n",
    "    for l in file:\n",
    "        yield eval(l)\n",
    "    \n",
    "def get_df(file):\n",
    "    i = 0\n",
    "    df = {}\n",
    "    for d in parse(file):\n",
    "        df[i] = d\n",
    "        i += 1\n",
    "    return pd.DataFrame.from_dict(df, orient='index')\n",
    "\n",
    "metadata_df = get_df(metadata_file)\n",
    "reviews_df = get_df(reviews_file)\n"
   ]
  },
  {
   "cell_type": "markdown",
   "id": "7c1e53dc",
   "metadata": {},
   "source": [
    "### Some preprocessing\n",
    "\n",
    "- Delete some stranges app-names.\n",
    "- Which will be app name for each 'asin'."
   ]
  },
  {
   "cell_type": "code",
   "execution_count": null,
   "id": "514044bb",
   "metadata": {},
   "outputs": [],
   "source": [
    "# Delete apps name that contains , or ; because this in csv format is another column, and this will crash in Neo4j.\n",
    "# also delete this which its name is only ???? due to them contain extrange characters.\n",
    "all_apps = all_apps.dropna()\n",
    "all_apps = all_apps[[False if ',' in app or '?' in app or ';' in app or '\"' in app else True for app in  all_apps['name']]]\n",
    "apps_name = list(all_apps['name'])"
   ]
  },
  {
   "cell_type": "code",
   "execution_count": null,
   "id": "b293b3f1",
   "metadata": {},
   "outputs": [],
   "source": [
    "# Delete nan from metadata and reviews\n",
    "metadata_df = metadata_df[['asin', 'related', 'categories']].dropna()\n",
    "reviews_df = reviews_df.dropna()"
   ]
  },
  {
   "cell_type": "code",
   "execution_count": null,
   "id": "ee97e3d6",
   "metadata": {},
   "outputs": [],
   "source": [
    "# If asin_name.json already exist, load it\n",
    "import json\n",
    "\n",
    "\n",
    "with open('asin_name.json', 'r') as f:\n",
    "    asin_name = json.load(f)"
   ]
  },
  {
   "cell_type": "code",
   "execution_count": null,
   "id": "d87aae95",
   "metadata": {},
   "outputs": [],
   "source": [
    "# Generate dictonary of, which asin is each App Name\n",
    "from web_scraper import Scraper\n",
    "import time\n",
    "import urllib\n",
    "import json\n",
    "\n",
    "\n",
    "all_asin = list(metadata_df['asin'])\n",
    "amazon_scraper = Scraper()\n",
    "for i in range(0,100):    \n",
    "    asin = all_asin[i]\n",
    "    if asin not in asin_name:\n",
    "        print(\">(%d/100) Processing asin [%s]\" %  (i,asin))\n",
    "        try:\n",
    "            app_name = amazon_scraper.main(\"https://www.amazon.com/dp/%s\" % asin)   \n",
    "            print(\"> App name is: [%s] \" % app_name)\n",
    "            asin_name[asin] = app_name\n",
    "        except urllib.error.HTTPError:\n",
    "            print(\">(%d/100) HTTP ERROR\" % i)\n",
    "        time.sleep(10)\n",
    "\n",
    "\n",
    "with open('asin_name.json', 'w+') as fp:\n",
    "    json.dump(asin_name, fp)"
   ]
  },
  {
   "cell_type": "markdown",
   "id": "0b64a604",
   "metadata": {},
   "source": [
    "### Generate Integrated schema\n",
    "\n",
    "- Our aim here is generate 4 tables of data, that will be our Integrated Schema\n",
    "\n",
    "\n",
    "- App table -> [App name, RatingCount, aggregateRating, numDownloadsMin]\n",
    "\n",
    "\n",
    "- App Categories -> [APP name, Category]\n",
    "\n",
    "\n",
    "- Related Table -> [App name , App name, 'relation (this could be: Viewed togeteher, bought together']\n",
    "\n",
    "\n",
    "- Review Table -> [App name, reviewID, reviewerID, reviewText, Rating]\n",
    "\n",
    "\n"
   ]
  },
  {
   "cell_type": "code",
   "execution_count": null,
   "id": "b18e1b33",
   "metadata": {},
   "outputs": [],
   "source": [
    "# App table: Dataframe with all Applications using information provided by Kaggle playstore dataset.\n",
    "\n",
    "def gen_app_table(all_apps):\n",
    "    app_table = all_apps.copy()\n",
    "    app_table = app_table[['name', 'price', 'aggregateRating']]\n",
    "    app_table = app_table.rename(index = str, columns={\"name\": \"app\", \"numDownloadsMin\":\"downloadsMin\", \n",
    "                                          \"price\": \"price\", 'aggregateRating': \"rating\"})\n",
    "    return app_table"
   ]
  },
  {
   "cell_type": "code",
   "execution_count": null,
   "id": "3fdb4009",
   "metadata": {},
   "outputs": [],
   "source": [
    "# Categories table: which category for each app.\n",
    "\n",
    "def gen_categories_table(metadata, asin_name):\n",
    "    values = []\n",
    "    asin = list(metadata['asin'])\n",
    "    categories = list(metadata['categories'])\n",
    "    for i in range(0, metadata.shape[0]-1):\n",
    "        for category in categories[i][0]:\n",
    "            if asin[i] in asin_name:\n",
    "                values.append((asin_name[asin[i]], category))          \n",
    "    return pd.DataFrame(values, columns=(\"app\", \"category\"))"
   ]
  },
  {
   "cell_type": "code",
   "execution_count": null,
   "id": "bc1b8adb",
   "metadata": {},
   "outputs": [],
   "source": [
    "# Related table: which apps are related with which.\n",
    "\n",
    "def gen_related_table(metadata, asin_name):\n",
    "    values = []\n",
    "    asin = list(metadata['asin'])\n",
    "    related = list(metadata['related'])\n",
    "    for i in range(0, metadata.shape[0]-1):\n",
    "        app_asin = asin[i]\n",
    "        if app_asin in asin_name:\n",
    "            app = asin_name[app_asin]\n",
    "            relations = related[i]\n",
    "            for kind_relation in  relations.keys():\n",
    "                for app_related in relations[kind_relation]:\n",
    "                    if app_related in asin_name:\n",
    "                        values.append((app, asin_name[app_related], kind_relation))                \n",
    "    return pd.DataFrame(values, columns=(\"app\", \"related\", \"kind\"))\n",
    "\n"
   ]
  },
  {
   "cell_type": "code",
   "execution_count": null,
   "id": "2ff6bdd7",
   "metadata": {},
   "outputs": [],
   "source": [
    "# Review table, which review corresponds to each.\n",
    "\n",
    "def gen_reviews_table(reviews, asin_name):\n",
    "    values = []\n",
    "    asin = list(reviews['asin'])\n",
    "    reviewerID = list(reviews['reviewerID'])\n",
    "    reviewerName = list(reviews['reviewerName'])\n",
    "    helpful = list(reviews['helpful'])\n",
    "    overall = list(reviews['overall'])\n",
    "    review = list(reviews['summary'])\n",
    "    for i in range(0, reviews.shape[0]):\n",
    "        if asin[i] in asin_name:\n",
    "            values.append((i, asin_name[asin[i]], reviewerID[i], reviewerName[i], review[i], overall[i]))\n",
    "    return pd.DataFrame(values, columns=(\"reviewID\", \"app\", \"reviewerID\", \"reviewerName\", \"review\", \"overall\"))"
   ]
  },
  {
   "cell_type": "markdown",
   "id": "69d5a420",
   "metadata": {},
   "source": [
    "### Load all information to pandas dataframes"
   ]
  },
  {
   "cell_type": "code",
   "execution_count": null,
   "id": "ecd71f53",
   "metadata": {},
   "outputs": [],
   "source": [
    "df_app_table = gen_app_table(all_apps)\n",
    "df_categories_table = gen_categories_table(metadata_df, asin_name)\n",
    "df_related_table = gen_related_table(metadata_df, asin_name)\n",
    "df_reviews_table = gen_reviews_table(reviews_df, asin_name)"
   ]
  },
  {
   "cell_type": "markdown",
   "id": "848053bc",
   "metadata": {},
   "source": [
    "### Write final results in diferent '.csv' files"
   ]
  },
  {
   "cell_type": "code",
   "execution_count": null,
   "id": "c20287d8",
   "metadata": {},
   "outputs": [],
   "source": [
    "df_app_table.to_csv(\"integrated_data/app.csv\")\n",
    "df_categories_table.to_csv(\"integrated_data/categories.csv\")\n",
    "df_related_table.to_csv(\"integrated_data/related.csv\")\n",
    "df_reviews_table.to_csv(\"integrated_data/reviews.csv\")"
   ]
  },
  {
   "cell_type": "markdown",
   "id": "ec94a1b5",
   "metadata": {},
   "source": [
    "### Write a reduced data set, as a 'demo' of the ETL system\n",
    "   - Only pick this apps which we known the relation Asin -> App Name"
   ]
  },
  {
   "cell_type": "code",
   "execution_count": null,
   "id": "06cdff54",
   "metadata": {},
   "outputs": [],
   "source": [
    "valid_apps = list(asin_name.values())\n",
    "df_app_table_reduced = df_app_table[[True if app in valid_apps else False for app in list(all_apps['name'])]]"
   ]
  },
  {
   "cell_type": "code",
   "execution_count": null,
   "id": "4a37688e",
   "metadata": {},
   "outputs": [],
   "source": [
    "df_app_table_reduced.to_csv(\"integrated_data/app_reduced.csv\")"
   ]
  }
 ],
 "metadata": {},
 "nbformat": 4,
 "nbformat_minor": 5
}
