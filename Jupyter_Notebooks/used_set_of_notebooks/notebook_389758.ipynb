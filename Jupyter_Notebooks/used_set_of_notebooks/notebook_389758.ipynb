{
 "cells": [
  {
   "cell_type": "markdown",
   "id": "24575a30",
   "metadata": {},
   "source": [
    "# quant-econ Solutions: Need for Speed"
   ]
  },
  {
   "cell_type": "markdown",
   "id": "edbe8305",
   "metadata": {},
   "source": [
    "Solutions for http://quant-econ.net/py/need_for_speed.html"
   ]
  },
  {
   "cell_type": "markdown",
   "id": "d5081d7d",
   "metadata": {},
   "source": [
    "## Exercise 1"
   ]
  },
  {
   "cell_type": "markdown",
   "id": "c410e4d0",
   "metadata": {},
   "source": [
    "Let's start with some imports"
   ]
  },
  {
   "cell_type": "code",
   "execution_count": null,
   "id": "22b2e211",
   "metadata": {},
   "outputs": [],
   "source": [
    "import matplotlib.pyplot as plt\n",
    "import numpy as np\n",
    "from numba import jit"
   ]
  },
  {
   "cell_type": "markdown",
   "id": "4d92173f",
   "metadata": {},
   "source": [
    "We let \n",
    "\n",
    "* 0 represent \"low\"\n",
    "* 1 represent \"high\""
   ]
  },
  {
   "cell_type": "code",
   "execution_count": null,
   "id": "23ef65b4",
   "metadata": {},
   "outputs": [],
   "source": [
    "p, q = 0.1, 0.2  # Prob of leaving low and high state respectively"
   ]
  },
  {
   "cell_type": "markdown",
   "id": "be290314",
   "metadata": {},
   "source": [
    "Here's a pure Python version of the function"
   ]
  },
  {
   "cell_type": "code",
   "execution_count": null,
   "id": "fb0063f7",
   "metadata": {},
   "outputs": [],
   "source": [
    "def compute_series(n):\n",
    "    x = np.empty(n, dtype=int)\n",
    "    x[0] = 1  # Start in state 1\n",
    "    U = np.random.uniform(0, 1, size=n)\n",
    "    for t in range(1, n):\n",
    "        current_x = x[t-1]\n",
    "        if current_x == 0:\n",
    "            x[t] = U[t] < p\n",
    "        else:\n",
    "            x[t] = U[t] > q\n",
    "    return x"
   ]
  },
  {
   "cell_type": "markdown",
   "id": "05df5930",
   "metadata": {},
   "source": [
    "Let's run this code and check that the fraction of time spent in the low state is about 0.666"
   ]
  },
  {
   "cell_type": "code",
   "execution_count": null,
   "id": "e8a87cab",
   "metadata": {},
   "outputs": [],
   "source": [
    "n = 100000\n",
    "x = compute_series(n)\n",
    "print(np.mean(x == 0))  # Fraction of time x is in state 0"
   ]
  },
  {
   "cell_type": "markdown",
   "id": "f0aa76c9",
   "metadata": {},
   "source": [
    "Now let's time it"
   ]
  },
  {
   "cell_type": "code",
   "execution_count": null,
   "id": "53a03573",
   "metadata": {},
   "outputs": [],
   "source": [
    "%timeit compute_series(n)"
   ]
  },
  {
   "cell_type": "markdown",
   "id": "1650dcc2",
   "metadata": {},
   "source": [
    "Next let's implement a Numba version, which is easy"
   ]
  },
  {
   "cell_type": "code",
   "execution_count": null,
   "id": "992c4529",
   "metadata": {},
   "outputs": [],
   "source": [
    "compute_series_numba = jit(compute_series)"
   ]
  },
  {
   "cell_type": "markdown",
   "id": "96612a9b",
   "metadata": {},
   "source": [
    "Let's check we still get the right numbers"
   ]
  },
  {
   "cell_type": "code",
   "execution_count": null,
   "id": "cc14605c",
   "metadata": {},
   "outputs": [],
   "source": [
    "x = compute_series_numba(n)\n",
    "print(np.mean(x == 0))"
   ]
  },
  {
   "cell_type": "markdown",
   "id": "b2478a71",
   "metadata": {},
   "source": [
    "Let's see the time"
   ]
  },
  {
   "cell_type": "code",
   "execution_count": null,
   "id": "ac49f71c",
   "metadata": {},
   "outputs": [],
   "source": [
    "%timeit compute_series_numba(n)"
   ]
  },
  {
   "cell_type": "markdown",
   "id": "61f5614e",
   "metadata": {},
   "source": [
    "This is a nice speed improvement for one line of code\n",
    "\n",
    "Now let's implement a Cython version"
   ]
  },
  {
   "cell_type": "code",
   "execution_count": null,
   "id": "43ad0fd1",
   "metadata": {},
   "outputs": [],
   "source": [
    "%load_ext Cython"
   ]
  },
  {
   "cell_type": "code",
   "execution_count": null,
   "id": "d1329a27",
   "metadata": {},
   "outputs": [],
   "source": [
    "%%cython\n",
    "import numpy as np\n",
    "from numpy cimport int_t, float_t\n",
    "\n",
    "def compute_series_cy(int n):\n",
    "    # == Create NumPy arrays first == #\n",
    "    x_np = np.empty(n, dtype=int)\n",
    "    U_np = np.random.uniform(0, 1, size=n)\n",
    "    # == Now create memoryviews of the arrays == #\n",
    "    cdef int_t [:] x = x_np\n",
    "    cdef float_t [:] U = U_np\n",
    "    # == Other variable declarations == #\n",
    "    cdef float p = 0.1\n",
    "    cdef float q = 0.2\n",
    "    cdef int t\n",
    "    # == Main loop == #\n",
    "    x[0] = 1  \n",
    "    for t in range(1, n):\n",
    "        current_x = x[t-1]\n",
    "        if current_x == 0:\n",
    "            x[t] = U[t] < p\n",
    "        else:\n",
    "            x[t] = U[t] > q\n",
    "    return np.asarray(x)"
   ]
  },
  {
   "cell_type": "code",
   "execution_count": null,
   "id": "ab0a78a9",
   "metadata": {},
   "outputs": [],
   "source": [
    "compute_series_cy(10)"
   ]
  },
  {
   "cell_type": "code",
   "execution_count": null,
   "id": "2023c3ac",
   "metadata": {},
   "outputs": [],
   "source": [
    "x = compute_series_cy(n)\n",
    "print(np.mean(x == 0))"
   ]
  },
  {
   "cell_type": "code",
   "execution_count": null,
   "id": "ca2ded0e",
   "metadata": {},
   "outputs": [],
   "source": [
    "%timeit compute_series_cy(n)"
   ]
  },
  {
   "cell_type": "markdown",
   "id": "dda6c221",
   "metadata": {},
   "source": [
    "The Cython implementation is fast, but not as fast as Numba"
   ]
  }
 ],
 "metadata": {},
 "nbformat": 4,
 "nbformat_minor": 5
}
