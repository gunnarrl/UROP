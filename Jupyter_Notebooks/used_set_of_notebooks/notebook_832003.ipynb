{
 "cells": [
  {
   "cell_type": "markdown",
   "id": "a6f7651c",
   "metadata": {},
   "source": [
    "# Image retrieval using deep features"
   ]
  },
  {
   "cell_type": "code",
   "execution_count": null,
   "id": "9245ab3a",
   "metadata": {},
   "outputs": [],
   "source": [
    "import turicreate as tc"
   ]
  },
  {
   "cell_type": "markdown",
   "id": "ae599de0",
   "metadata": {},
   "source": [
    "# Load some CIFAR-10 images"
   ]
  },
  {
   "cell_type": "code",
   "execution_count": null,
   "id": "f84c5a19",
   "metadata": {},
   "outputs": [],
   "source": [
    "image_data = tc.SFrame('image_train_data/')"
   ]
  },
  {
   "cell_type": "code",
   "execution_count": null,
   "id": "a7d21437",
   "metadata": {},
   "outputs": [],
   "source": [
    "image_data['image'].explore()"
   ]
  },
  {
   "cell_type": "markdown",
   "id": "c21df99e",
   "metadata": {},
   "source": [
    "# Compute deep features from our images"
   ]
  },
  {
   "cell_type": "code",
   "execution_count": null,
   "id": "7650c85f",
   "metadata": {},
   "outputs": [],
   "source": [
    "#deep_learning_model = turicreate.load_model('imagenet_model_iter45')\n",
    "#image_data['deep_features'] = deep_learning_model.extract_features(image_data)"
   ]
  },
  {
   "cell_type": "code",
   "execution_count": null,
   "id": "3dff2eb7",
   "metadata": {},
   "outputs": [],
   "source": [
    "image_data.head(5)"
   ]
  },
  {
   "cell_type": "markdown",
   "id": "9c733682",
   "metadata": {},
   "source": [
    "# Create a nearest neighbors model to retrieve images from deep features"
   ]
  },
  {
   "cell_type": "code",
   "execution_count": null,
   "id": "ed231f2f",
   "metadata": {},
   "outputs": [],
   "source": [
    "knn_model = tc.nearest_neighbors.create(image_data,\n",
    "                                        features = ['deep_features'],\n",
    "                                        label = 'id')"
   ]
  },
  {
   "cell_type": "markdown",
   "id": "5ee988f1",
   "metadata": {},
   "source": [
    "# Use image retrieval model with deep features to find similar images"
   ]
  },
  {
   "cell_type": "code",
   "execution_count": null,
   "id": "cb3e74e2",
   "metadata": {},
   "outputs": [],
   "source": [
    "cat = image_data[18:19]"
   ]
  },
  {
   "cell_type": "code",
   "execution_count": null,
   "id": "17971169",
   "metadata": {},
   "outputs": [],
   "source": [
    "cat['image'].explore()"
   ]
  },
  {
   "cell_type": "code",
   "execution_count": null,
   "id": "7737c5aa",
   "metadata": {},
   "outputs": [],
   "source": [
    "knn_model.query(cat)"
   ]
  },
  {
   "cell_type": "code",
   "execution_count": null,
   "id": "831c3fdc",
   "metadata": {},
   "outputs": [],
   "source": [
    "def get_images_from_ids(query_result):\n",
    "    return image_data.filter_by(query_result['reference_label'],'id')"
   ]
  },
  {
   "cell_type": "code",
   "execution_count": null,
   "id": "31d7b4c2",
   "metadata": {},
   "outputs": [],
   "source": [
    "cat_neighbors = get_images_from_ids(knn_model.query(cat))"
   ]
  },
  {
   "cell_type": "code",
   "execution_count": null,
   "id": "6c5a3f20",
   "metadata": {},
   "outputs": [],
   "source": [
    "cat_neighbors['image'].explore()"
   ]
  },
  {
   "cell_type": "markdown",
   "id": "b161976b",
   "metadata": {},
   "source": [
    "# Find images similar to a car"
   ]
  },
  {
   "cell_type": "code",
   "execution_count": null,
   "id": "43a0dd71",
   "metadata": {},
   "outputs": [],
   "source": [
    "car = image_data[8:9]"
   ]
  },
  {
   "cell_type": "code",
   "execution_count": null,
   "id": "d7a84cea",
   "metadata": {},
   "outputs": [],
   "source": [
    "car['image'].explore()"
   ]
  },
  {
   "cell_type": "code",
   "execution_count": null,
   "id": "4429f46e",
   "metadata": {},
   "outputs": [],
   "source": [
    "get_images_from_ids(knn_model.query(car))['image'].explore()"
   ]
  },
  {
   "cell_type": "markdown",
   "id": "a62bf016",
   "metadata": {},
   "source": [
    "# Create a lambda function to find and show nearest neighbors to an image"
   ]
  },
  {
   "cell_type": "code",
   "execution_count": null,
   "id": "b7c068cf",
   "metadata": {},
   "outputs": [],
   "source": [
    "show_neighbors = lambda i: get_images_from_ids(knn_model.query(image_data[i:i+1]))['image'].explore()"
   ]
  },
  {
   "cell_type": "code",
   "execution_count": null,
   "id": "ccbdc967",
   "metadata": {},
   "outputs": [],
   "source": [
    "show_neighbors(8)"
   ]
  },
  {
   "cell_type": "code",
   "execution_count": null,
   "id": "59fbc6ea",
   "metadata": {},
   "outputs": [],
   "source": [
    "show_neighbors(26)"
   ]
  },
  {
   "cell_type": "code",
   "execution_count": null,
   "id": "2af7f9b3",
   "metadata": {},
   "outputs": [],
   "source": [
    "show_neighbors(500)"
   ]
  }
 ],
 "metadata": {},
 "nbformat": 4,
 "nbformat_minor": 5
}
